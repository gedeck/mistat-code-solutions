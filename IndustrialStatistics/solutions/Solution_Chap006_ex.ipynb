{
 "cells": [
  {
   "cell_type": "markdown",
   "id": "27dfaefe",
   "metadata": {},
   "source": [
    "# Exercise Chapter 6 \n",
    "Industrial Statistics: A Computer Based Approach with Python<br>\n",
    "by Ron Kenett, Shelemyahu Zacks, Peter Gedeck\n",
    "\n",
    "Publisher: Springer International Publishing; 1st edition (2023) <br>\n",
    "<!-- ISBN-13: 978-3031075650 -->\n",
    "\n",
    "(c) 2022 Ron Kenett, Shelemyahu Zacks, Peter Gedeck\n",
    "\n",
    "The code needs to be executed in sequence."
   ]
  },
  {
   "cell_type": "code",
   "execution_count": null,
   "id": "52635969",
   "metadata": {},
   "outputs": [],
   "source": [
    "import os\n",
    "os.environ['OUTDATED_IGNORE'] = '1'\n",
    "import warnings\n",
    "from outdated import OutdatedPackageWarning\n",
    "warnings.filterwarnings('ignore', category=FutureWarning)\n",
    "warnings.filterwarnings('ignore', category=OutdatedPackageWarning)"
   ]
  },
  {
   "cell_type": "code",
   "execution_count": null,
   "id": "d2869ef7",
   "metadata": {},
   "outputs": [],
   "source": [
    "import numpy as np\n",
    "import pandas as pd\n",
    "import statsmodels.formula.api as smf\n",
    "\n",
    "import mistat"
   ]
  },
  {
   "cell_type": "markdown",
   "id": "2d9d015f",
   "metadata": {},
   "source": [
    "# Exercise 6"
   ]
  },
  {
   "cell_type": "code",
   "execution_count": null,
   "id": "d48b03c9",
   "metadata": {},
   "outputs": [],
   "source": [
    "df = pd.DataFrame([\n",
    "  [1, 1, 1, 1, 1, 1, 1, 1, 2.5, 0.0827],\n",
    "  [1, 1, 2, 2, 2, 2, 2, 2, 2.684, 0.1196],\n",
    "  [1, 1, 3, 3, 3, 3, 3, 3, 2.66, 0.1722],\n",
    "  [1, 2, 1, 1, 2, 2, 3, 3, 1.962, 0.1696],\n",
    "  [1, 2, 2, 2, 3, 3, 1, 1, 1.87, 0.1168],\n",
    "  [1, 2, 3, 3, 1, 1, 2, 2, 2.584, 0.1106],\n",
    "  [1, 3, 1, 2, 1, 3, 2, 3, 2.032, 0.0718],\n",
    "  [1, 3, 2, 3, 2, 1, 3, 1, 3.267, 0.2101],\n",
    "  [1, 3, 3, 1, 3, 2, 1, 2, 2.829, 0.1516],\n",
    "  [2, 1, 1, 3, 3, 2, 2, 1, 2.66, 0.1912],\n",
    "  [2, 1, 2, 1, 1, 3, 3, 2, 3.166, 0.0674],\n",
    "  [2, 1, 3, 2, 2, 1, 1, 3, 3.323, 0.1274],\n",
    "  [2, 2, 1, 2, 3, 1, 3, 2, 2.576, 0.085],\n",
    "  [2, 2, 2, 3, 1, 2, 1, 3, 2.308, 0.0964],\n",
    "  [2, 2, 3, 1, 2, 3, 2, 1, 2.464, 0.0385],\n",
    "  [2, 3, 1, 3, 2, 3, 1, 2, 2.667, 0.0706],\n",
    "  [2, 3, 2, 1, 3, 1, 2, 3, 3.156, 0.1569],\n",
    "  [2, 3, 3, 2, 1, 2, 3, 1, 3.494, 0.0473],\n",
    "], columns=['F1', 'F2', 'F3', 'F4', 'F5', \n",
    "            'F6', 'F7', 'F8', 'Xbar', 'S'])"
   ]
  },
  {
   "cell_type": "code",
   "execution_count": null,
   "id": "7c90a195",
   "metadata": {},
   "outputs": [],
   "source": [
    "df['F1'] = (df['F1']-1)*2-1\n",
    "for column in ['F2', 'F3', 'F4', 'F5', 'F6', 'F7', 'F8']:\n",
    "    df[column] = df[column] - 2\n",
    "df['SNR'] = np.log(df['Xbar'] / df['S'])"
   ]
  },
  {
   "cell_type": "code",
   "execution_count": null,
   "id": "4e3dad66",
   "metadata": {},
   "outputs": [],
   "source": [
    "model = smf.ols('SNR ~ F1 + F2 + F3 + F4 + F5 + F6 + F7 + F8', data=df).fit()"
   ]
  },
  {
   "cell_type": "code",
   "execution_count": null,
   "id": "d4de81ba",
   "metadata": {},
   "outputs": [],
   "source": [
    "# Ignore user warning thrown here\n",
    "warnings.filterwarnings('ignore', category=UserWarning)"
   ]
  },
  {
   "cell_type": "code",
   "execution_count": null,
   "id": "5353d27d",
   "metadata": {},
   "outputs": [],
   "source": [
    "print(model.summary2().tables[1].round(5))"
   ]
  },
  {
   "cell_type": "code",
   "execution_count": null,
   "id": "b1c27eda",
   "metadata": {},
   "outputs": [],
   "source": [
    "warnings.filterwarnings('default', category=UserWarning)"
   ]
  }
 ],
 "metadata": {},
 "nbformat": 4,
 "nbformat_minor": 5
}
