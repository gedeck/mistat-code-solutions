{
 "cells": [
  {
   "cell_type": "markdown",
   "id": "50438142",
   "metadata": {},
   "source": [
    "# Chapter 1 \n",
    " Industrial Statistics: A Computer Based Approach with Python<br>\n",
    "by Ron Kenett, Shelemyahu Zacks, Peter Gedeck\n",
    "\n",
    "Publisher: Springer International Publishing; 1st edition (2023) <br>\n",
    "<!-- ISBN-13: 978-3031075650 -->\n",
    "\n",
    "(c) 2022 Ron Kenett, Shelemyahu Zacks, Peter Gedeck\n",
    "\n",
    "The code needs to be executed in sequence."
   ]
  },
  {
   "cell_type": "markdown",
   "id": "91af08e3",
   "metadata": {},
   "source": [
    "# The Role of Statistical Methods in Modern Industry"
   ]
  },
  {
   "cell_type": "markdown",
   "id": "c82b4464",
   "metadata": {},
   "source": [
    "## Evolution of Industry"
   ]
  },
  {
   "cell_type": "markdown",
   "id": "06fcaf93",
   "metadata": {},
   "source": [
    "## Evolution of Quality"
   ]
  },
  {
   "cell_type": "markdown",
   "id": "632c427e",
   "metadata": {},
   "source": [
    "## Industry 4.0 Characteristics"
   ]
  },
  {
   "cell_type": "markdown",
   "id": "35c80ab4",
   "metadata": {},
   "source": [
    "## Digital Twin"
   ]
  },
  {
   "cell_type": "markdown",
   "id": "d42b7a16",
   "metadata": {},
   "source": [
    "## Chapter Highlights"
   ]
  },
  {
   "cell_type": "markdown",
   "id": "6f8b4bae",
   "metadata": {},
   "source": [
    "## Exercises"
   ]
  }
 ],
 "metadata": {
  "language_info": {
   "codemirror_mode": {
    "name": "ipython",
    "version": 3
   },
   "file_extension": ".py",
   "mimetype": "text/x-python",
   "name": "python",
   "nbconvert_exporter": "python",
   "pygments_lexer": "ipython3",
   "version": "3.9.14"
  }
 },
 "nbformat": 4,
 "nbformat_minor": 5
}
