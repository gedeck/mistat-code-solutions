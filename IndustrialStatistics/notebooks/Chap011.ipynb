{
 "cells": [
  {
   "cell_type": "markdown",
   "id": "6a84b0a4",
   "metadata": {},
   "source": [
    "# Chapter 11 \n",
    " Industrial Statistics: A Computer Based Approach with Python<br>\n",
    "by Ron Kenett, Shelemyahu Zacks, Peter Gedeck\n",
    "\n",
    "Publisher: Springer International Publishing; 1st edition (2023) <br>\n",
    "<!-- ISBN-13: 978-3031075650 -->\n",
    "\n",
    "(c) 2022 Ron Kenett, Shelemyahu Zacks, Peter Gedeck\n",
    "\n",
    "The code needs to be executed in sequence."
   ]
  },
  {
   "cell_type": "code",
   "execution_count": null,
   "id": "e0d446c5",
   "metadata": {},
   "outputs": [],
   "source": [
    "import os\n",
    "os.environ['OUTDATED_IGNORE'] = '1'\n",
    "import warnings\n",
    "from outdated import OutdatedPackageWarning\n",
    "warnings.filterwarnings('ignore', category=FutureWarning)\n",
    "warnings.filterwarnings('ignore', category=OutdatedPackageWarning)"
   ]
  },
  {
   "cell_type": "markdown",
   "id": "21c3f528",
   "metadata": {},
   "source": [
    "# Sampling Plans for Batch and Sequential Inspection"
   ]
  },
  {
   "cell_type": "code",
   "execution_count": null,
   "id": "c667c6b1",
   "metadata": {},
   "outputs": [],
   "source": [
    "import random\n",
    "import pandas as pd\n",
    "import numpy as np\n",
    "from scipy import stats, optimize\n",
    "from scipy.special import gamma\n",
    "import statsmodels.formula.api as smf\n",
    "import matplotlib.pyplot as plt\n",
    "import seaborn as sns\n",
    "import pingouin as pg\n",
    "from mistat import acceptanceSampling\n",
    "import mistat\n",
    "import lifelines"
   ]
  },
  {
   "cell_type": "code",
   "execution_count": null,
   "id": "0e7d3692",
   "metadata": {},
   "outputs": [],
   "source": [
    "from dataclasses import dataclass\n",
    "from typing import List, Optional\n"
   ]
  },
  {
   "cell_type": "markdown",
   "id": "8660f989",
   "metadata": {},
   "source": [
    "## General Discussion"
   ]
  },
  {
   "cell_type": "markdown",
   "id": "a3df98e4",
   "metadata": {},
   "source": [
    "## Single-Stage Sampling Plans for Attributes"
   ]
  },
  {
   "cell_type": "code",
   "execution_count": null,
   "id": "f29e8e8e",
   "metadata": {},
   "outputs": [],
   "source": [
    "# note that scipy calls the pdf of discrete distributions pmf\n",
    "j = [0, 1, 2, 3, 4]\n",
    "print(pd.DataFrame({\n",
    "    'j': j,\n",
    "    'pdf': stats.hypergeom.pmf(j, M=100, n=10, N=5),\n",
    "    'cdf': stats.hypergeom.cdf(j, M=100, n=10, N=5),\n",
    "}).round(4))\n",
    "\n",
    "j = [0, 1, 2, 3, 4, 5]\n",
    "print(pd.DataFrame({\n",
    "    'j': j,\n",
    "    'pdf': stats.hypergeom.pmf(j, M=100, n=10, N=10),\n",
    "    'cdf': stats.hypergeom.cdf(j, M=100, n=10, N=10),\n",
    "}).round(4))"
   ]
  },
  {
   "cell_type": "code",
   "execution_count": null,
   "id": "64000580",
   "metadata": {},
   "outputs": [],
   "source": [
    "from mistat.acceptanceSampling import findPlan\n",
    "findPlan(PRP=[0.01, 0.95], CRP=[0.08, 0.05], oc_type='hypergeom', N=100)"
   ]
  },
  {
   "cell_type": "code",
   "execution_count": null,
   "id": "54487dcc",
   "metadata": {},
   "outputs": [],
   "source": [
    "p0 = np.array([*[0.01] * 10, *[0.03] * 10])\n",
    "pt = np.linspace(0.05, 0.32, 10)\n",
    "pt = np.array([*pt, *pt])\n",
    "\n",
    "result = []\n",
    "for p0i, pti in zip(p0, pt):\n",
    "    result.append([p0i, pti, *findPlan(PRP=(p0i, 0.95), CRP=(pti, 0.05),\n",
    "                   oc_type=\"hypergeom\", N=100)])\n",
    "result = pd.DataFrame(result, columns=['p0', 'pt', 'n', 'c', 'r'])"
   ]
  },
  {
   "cell_type": "code",
   "execution_count": null,
   "id": "54f4240d",
   "metadata": {},
   "outputs": [],
   "source": [
    "def latexTable(result):\n",
    "    style = result.style.hide(axis='index')\n",
    "    style = style.format(subset=['p0', 'pt'], precision=2)\n",
    "    s = style.to_latex(hrules=True)\n",
    "    s = s.replace('p0', '$p_0$').replace('pt', '$p_t$')\n",
    "    s = s.replace(' n ', ' $n$ ').replace(' r ', ' $r$ ')\n",
    "    return s.replace(' c ', ' $c$ ')"
   ]
  },
  {
   "cell_type": "code",
   "execution_count": null,
   "id": "e4392a74",
   "metadata": {},
   "outputs": [],
   "source": [
    "p0 = np.array([*[0.01] * 10, *[0.03] * 10])\n",
    "pt = np.linspace(0.05, 0.32, 10)\n",
    "pt = np.array([*pt, *pt])\n",
    "\n",
    "result = []\n",
    "for p0i, pti in zip(p0, pt):\n",
    "    result.append([p0i, pti, *findPlan(PRP=(p0i, 0.90), CRP=(pti, 0.20),\n",
    "                   oc_type=\"hypergeom\", N=100)])\n",
    "result = pd.DataFrame(result, columns=['p0', 'pt', 'n', 'c', 'r'])"
   ]
  },
  {
   "cell_type": "code",
   "execution_count": null,
   "id": "901a209a",
   "metadata": {},
   "outputs": [],
   "source": [
    "from mistat.acceptanceSampling import OperatingCharacteristics2c\n",
    "\n",
    "X = OperatingCharacteristics2c(50, 1, oc_type='hypergeom', N=100,\n",
    "                               pd=np.linspace(0, 0.15, 300))\n",
    "df = pd.DataFrame({'p': X.pd, 'OC(p)': X.paccept})\n",
    "ax = df.plot(x='p', y='OC(p)', legend=False, linestyle=':', color='grey')\n",
    "ax.set_ylabel('OC(p)')\n",
    "\n",
    "X = OperatingCharacteristics2c(50, 1, oc_type='hypergeom', N=100,\n",
    "                               pd=[i / 100 for i in range(16)])\n",
    "df = pd.DataFrame({'p': X.pd, 'OC(p)': X.paccept})\n",
    "ax = df.plot.scatter(x='p', y='OC(p)', legend=False, ax=ax, color='black')\n",
    "plt.show()"
   ]
  },
  {
   "cell_type": "code",
   "execution_count": null,
   "id": "f5b324a6",
   "metadata": {},
   "outputs": [],
   "source": [
    "def latexTable(result):\n",
    "    style = result.style.hide(axis='index')\n",
    "    style = style.format(subset='p', precision=2)\n",
    "    s = style.to_latex(column_format='cc', hrules=True)\n",
    "    s = s.replace(' p ', ' $p$ ').replace('OC(p)', '$\\mbox{OC}(p)$')\n",
    "    return s"
   ]
  },
  {
   "cell_type": "code",
   "execution_count": null,
   "id": "556f5f12",
   "metadata": {},
   "outputs": [],
   "source": [
    "import math\n",
    "# Note that the naming of the arguments follows the convention in scipy\n",
    "# and therefore differs from the book\n",
    "def normalApproximationOfH(j, M, n, N):\n",
    "    P = N / M\n",
    "    Q = 1 - P\n",
    "    return stats.norm.cdf((j + 0.5 - n*P) / math.sqrt(n * P * Q * (1 - n/M)))\n",
    "\n",
    "df0 = pd.DataFrame({\n",
    "    'a': np.array(range(20)),\n",
    "})\n",
    "idx = [('', 'a')]\n",
    "j = np.array(range(14))\n",
    "df1 = pd.DataFrame({\n",
    "    'H(j;100,30,20)': stats.hypergeom.cdf(j, M=100, n=20, N=30),\n",
    "    'Normal': normalApproximationOfH(j, M=100, n=20, N=30),\n",
    "})\n",
    "idx.extend([('H(j;100,30,20)', 'Hypergeometric'), ('H(j;100,30,20)', 'Normal')])\n",
    "j = np.array(range(18))\n",
    "df2 = pd.DataFrame({\n",
    "    'H(j;100,50,20)': stats.hypergeom.cdf(j, M=100, n=20, N=50),\n",
    "    'Normal': normalApproximationOfH(j, M=100, n=20, N=50),\n",
    "})\n",
    "idx.extend([('H(j;100,50,20)', 'Hypergeometric'), ('H(j;100,50,20)', 'Normal')])\n",
    "j = np.array(range(20))\n",
    "df3 = pd.DataFrame({\n",
    "    'H(j;100,80,20)': stats.hypergeom.cdf(j, M=100, n=20, N=80),\n",
    "    'Normal': normalApproximationOfH(j, M=100, n=20, N=80),\n",
    "})\n",
    "idx.extend([('H(j;100,80,20)', 'Hypergeometric'), ('H(j;100,80,20)', 'Normal')])\n",
    "df = pd.concat([df0, df1, df2, df3], axis=1)\n",
    "\n",
    "df.columns = pd.MultiIndex.from_tuples(idx, names=[\"first\", \"second\"])\n",
    "style = df.style.hide(axis='index')\n",
    "style = style.format(precision=4, na_rep='')\n",
    "print(style.to_latex(hrules=True, column_format='ccccccc', multicol_align='c'))"
   ]
  },
  {
   "cell_type": "markdown",
   "id": "135d0d9c",
   "metadata": {},
   "source": [
    "## Approximate Determination of the Sampling Plan"
   ]
  },
  {
   "cell_type": "code",
   "execution_count": null,
   "id": "25b4741f",
   "metadata": {},
   "outputs": [],
   "source": [
    "from mistat.acceptanceSampling import findPlanApprox\n",
    "\n",
    "def attainedRiskLevels(plan, p0, pt):\n",
    "  hat_alpha = 1 - stats.hypergeom(N, int(p0 * N), plan.n).cdf(plan.c)\n",
    "  hat_beta = stats.hypergeom(N, int(pt * N), plan.n).cdf(plan.c)\n",
    "  return np.array([hat_alpha, hat_beta])\n",
    "\n",
    "print('Exact results (p0=0.01, pt=0.03)')\n",
    "for N in (500, 1000, 2000):\n",
    "    plan = findPlan(PRP=[0.01, 0.95], CRP=[0.03, 0.05], oc_type='hypergeom', N=N)\n",
    "    print(N, plan, attainedRiskLevels(plan, 0.01, 0.03).round(3))\n",
    "\n",
    "\n",
    "print('Approximate results (p0=0.01, pt=0.03)')\n",
    "for N in (500, 1000, 2000):\n",
    "    plan = findPlanApprox(PRP=[0.01, 0.95], CRP=[0.03, 0.05], N=N)\n",
    "    print(N, plan, attainedRiskLevels(plan, 0.01, 0.03).round(3))\n",
    "\n",
    "print('Exact results (p0=0.01, pt=0.05)')\n",
    "for N in (500, 1000, 2000):\n",
    "    plan = findPlan(PRP=[0.01, 0.95], CRP=[0.05, 0.05], oc_type='hypergeom', N=N)\n",
    "    print(N, plan, attainedRiskLevels(plan, 0.01, 0.05).round(3))\n",
    "\n",
    "print('Approximate results (p0=0.01, pt=0.05)')\n",
    "for N in (500, 1000, 2000):\n",
    "    plan = findPlanApprox(PRP=[0.01, 0.95], CRP=[0.05, 0.05], N=N)\n",
    "    print(N, plan, attainedRiskLevels(plan, 0.01, 0.05).round(3))"
   ]
  },
  {
   "cell_type": "markdown",
   "id": "da10090a",
   "metadata": {},
   "source": [
    "## Double-Sampling Plans for Attributes"
   ]
  },
  {
   "cell_type": "code",
   "execution_count": null,
   "id": "8a58dcb3",
   "metadata": {},
   "outputs": [],
   "source": [
    "def latexTable(df):\n",
    "  style = pd.DataFrame(df).style.hide(axis='index')\n",
    "  style = style.format(subset='p', precision=3)\n",
    "  style = style.format(subset='OC', precision=4)\n",
    "  style = style.format(subset='ASN', precision=1)\n",
    "  s = style.to_latex(column_format='ccc', hrules=True)\n",
    "  s = s.replace(' p &', ' $p$ &')\n",
    "  s = s.replace('OC', 'OC($p$)')\n",
    "  s = s.replace('ASN', 'ASN($p$)')\n",
    "  return s\n",
    "dsPlan = acceptanceSampling.DSPlanHypergeom(150, 20, 40, 2, 6, 6, p=np.arange(0, 0.525, 0.025))\n",
    "df = pd.DataFrame({\n",
    "  'p': dsPlan.p,\n",
    "  'OC': dsPlan.OC,\n",
    "  'ASN': dsPlan.ASN,\n",
    "})"
   ]
  },
  {
   "cell_type": "code",
   "execution_count": null,
   "id": "5e90baa0",
   "metadata": {},
   "outputs": [],
   "source": [
    "dsPlan = acceptanceSampling.DSPlanHypergeom(150, 20, 40, 1, 3, 3, p=np.arange(0, 0.525, 0.025))\n",
    "df_stringent = pd.DataFrame({\n",
    "  'p': dsPlan.p,\n",
    "  'OC': dsPlan.OC,\n",
    "  'ASN': dsPlan.ASN,\n",
    "})"
   ]
  },
  {
   "cell_type": "code",
   "execution_count": null,
   "id": "91945899",
   "metadata": {},
   "outputs": [],
   "source": [
    "combined = pd.DataFrame({\n",
    "    'p': df['p'],\n",
    "    'OC (20,40,2,6,6)': df['OC'],\n",
    "    'OC (20,40,1,3,3)': df_stringent['OC'],\n",
    "})\n",
    "ax = combined.plot(x='p', y='OC (20,40,2,6,6)', color='black', linestyle='dotted', zorder=10)\n",
    "combined.plot(x='p', y='OC (20,40,1,3,3)', ax=ax, color='black', zorder=10)\n",
    "ax.axvline(0.1, color='lightgray', zorder=5)\n",
    "ax.axvline(0.15, color='lightgray', zorder=5)\n",
    "ax.set_xlabel('Percentage defectives')\n",
    "ax.set_ylabel('Probability of accepting defectives')\n",
    "plt.tight_layout()"
   ]
  },
  {
   "cell_type": "code",
   "execution_count": null,
   "id": "9f419a12",
   "metadata": {},
   "outputs": [],
   "source": [
    "dsPlan = acceptanceSampling.DSPlanHypergeom(1000, 100, 200, 3, 6, 6, p=np.arange(0.01, 0.1, 0.01))\n",
    "dsPlanApprox = acceptanceSampling.DSPlanNormal(1000, 100, 200, 3, 6, 6, p=np.arange(0.01, 0.1, 0.01))\n",
    "df = pd.DataFrame({\n",
    "  'p': dsPlan.p,\n",
    "  'OC Exact': dsPlan.OC,\n",
    "  'OC Approx.': dsPlanApprox.OC,\n",
    "  'ASN Exact': dsPlan.ASN,\n",
    "  'ASN Approx.': dsPlanApprox.ASN,\n",
    "})\n",
    "style = pd.DataFrame(df).style.hide(axis='index')\n",
    "style = style.format(subset='p', precision=2)\n",
    "style = style.format(subset=['OC Exact', 'OC Approx.'], precision=3)\n",
    "style = style.format(subset=['ASN Exact', 'ASN Approx.'], precision=1)\n",
    "s = style.to_latex(column_format='c|cc|cc', hrules=True)\n",
    "s = s.replace(' p &', ' $p$ ak&')\n",
    "s = s.replace('OC Exact', 'Exact')\n",
    "s = s.replace('OC Approx.', 'Approx.')\n",
    "s = s.replace('ASN Exact', 'Exact')\n",
    "s = s.replace('ASN Approx.', 'Approx.')\n",
    "s = s.replace(r'\\toprule', r'\\toprule & \\multicolumn{2}{c|}{OC($p$)} & \\multicolumn{2}{c}{ASN($p$)} \\\\')\n",
    "print(s)"
   ]
  },
  {
   "cell_type": "markdown",
   "id": "98b57b8a",
   "metadata": {},
   "source": [
    "## Sequential Sampling and A/B testing"
   ]
  },
  {
   "cell_type": "markdown",
   "id": "6d2941a0",
   "metadata": {},
   "source": [
    "### The One-Armed Bernoulli Bandits"
   ]
  },
  {
   "cell_type": "markdown",
   "id": "28890ffa",
   "metadata": {},
   "source": [
    "#### I.  The Bayesian Strategy"
   ]
  },
  {
   "cell_type": "code",
   "execution_count": null,
   "id": "688a2052",
   "metadata": {},
   "outputs": [],
   "source": [
    "print(f'0.1-quantile B(10,0.6):  {stats.binom(10, 0.6).ppf(0.1)}')"
   ]
  },
  {
   "cell_type": "code",
   "execution_count": null,
   "id": "3e72e44a",
   "metadata": {},
   "outputs": [],
   "source": [
    "print(f'B(5,7)-cdf :  {stats.beta(5, 7).cdf(0.5)}')"
   ]
  },
  {
   "cell_type": "code",
   "execution_count": null,
   "id": "398e1588",
   "metadata": {},
   "outputs": [],
   "source": [
    "print(f'B(5,8)-cdf :  {stats.beta(5, 8).cdf(0.5)}')"
   ]
  },
  {
   "cell_type": "code",
   "execution_count": null,
   "id": "f83ea566",
   "metadata": {},
   "outputs": [],
   "source": [
    "np.random.seed(5)\n",
    "print(f'{stats.binom(10, 0.3).rvs(1)} wins')"
   ]
  },
  {
   "cell_type": "code",
   "execution_count": null,
   "id": "2aa1ef42",
   "metadata": {},
   "outputs": [],
   "source": [
    "print(f'B(3,9)-cdf :  {stats.beta(3, 9).cdf(0.5)}')"
   ]
  },
  {
   "cell_type": "code",
   "execution_count": null,
   "id": "ee80e04e",
   "metadata": {},
   "outputs": [],
   "source": [
    "np.random.seed(1)\n",
    "\n",
    "N=50; lambda_=0.5; k0=10; gamma=0.95; Ns=1000\n",
    "\n",
    "results = []\n",
    "for p in (0.4, 0.45, 0.5, 0.55, 0.6, 0.7):\n",
    "  r = acceptanceSampling.simulateOAB(N, p, lambda_, k0, gamma, Ns)\n",
    "  results.append({\n",
    "      'p': p,\n",
    "      'Mgamma_mean': r.mgamma.mean,\n",
    "      'Mgamma_std': r.mgamma.std,\n",
    "      'Reward_mean': r.reward.mean,\n",
    "      'Reward_std': r.reward.std,\n",
    "  })"
   ]
  },
  {
   "cell_type": "code",
   "execution_count": null,
   "id": "8ad53d3b",
   "metadata": {},
   "outputs": [],
   "source": [
    "style = pd.DataFrame(results).style.hide(axis='index')\n",
    "style = style.format(precision=3)\n",
    "style = style.format(subset='p', precision=2)\n",
    "s = style.to_latex(column_format='ccccc', hrules=True)\n",
    "s = s.replace(' p &', ' $p$ &')\n",
    "s = s.replace('Mgamma_mean', '$E\\\\{M_{\\gamma}\\\\}$')\n",
    "s = s.replace('Mgamma_std', '$\\\\text{std}\\\\{M_{\\gamma}\\\\}$')\n",
    "s = s.replace('Reward_mean', '$E\\\\{\\\\text{Reward}\\\\}$')\n",
    "s = s.replace('Reward_std', '$\\\\text{std}\\\\{\\\\text{Reward}\\\\}$')\n",
    "print(s)"
   ]
  },
  {
   "cell_type": "code",
   "execution_count": null,
   "id": "212b7cfd",
   "metadata": {},
   "outputs": [],
   "source": [
    "from mistat.acceptanceSampling import optimalOAB\n",
    "result = optimalOAB(10, 0.5)\n",
    "print(f'Case (10, 0.5): {result.max_reward:.3f}')\n",
    "print(f'Case (50, 0.5): {optimalOAB(50, 0.5).max_reward:.3f}')"
   ]
  },
  {
   "cell_type": "code",
   "execution_count": null,
   "id": "d6cefc53",
   "metadata": {},
   "outputs": [],
   "source": [
    "table = pd.DataFrame(result.rewards)\n",
    "table.index.name = 'n'\n",
    "width = table.shape[1]\n",
    "for i in range(1, len(table)):\n",
    "  table.iloc[i, width-i:] = np.nan\n",
    "style = table.style\n",
    "style = style.format(precision=3, na_rep='')\n",
    "s = style.to_latex(hrules=True)\n",
    "print(s)"
   ]
  },
  {
   "cell_type": "markdown",
   "id": "78610adc",
   "metadata": {},
   "source": [
    "### Two-Armed Bernoulli Bandits"
   ]
  },
  {
   "cell_type": "code",
   "execution_count": null,
   "id": "8aa3ce55",
   "metadata": {},
   "outputs": [],
   "source": [
    "optimalOAB(45, 0.143).max_reward"
   ]
  },
  {
   "cell_type": "markdown",
   "id": "ff2e4289",
   "metadata": {},
   "source": [
    "## Acceptance Sampling Plans for Variables"
   ]
  },
  {
   "cell_type": "markdown",
   "id": "7925aca9",
   "metadata": {},
   "source": [
    "## Rectifying Inspection of Lots"
   ]
  },
  {
   "cell_type": "code",
   "execution_count": null,
   "id": "24272b5a",
   "metadata": {},
   "outputs": [],
   "source": [
    "from mistat.acceptanceSampling import SSPlanBinomial\n",
    "plan = SSPlanBinomial(N=1000, n=250, Ac=5,\n",
    "                      p=np.linspace(0.005, 0.035, 200))\n",
    "plan.plot()\n",
    "plt.tight_layout()"
   ]
  },
  {
   "cell_type": "code",
   "execution_count": null,
   "id": "a34d970d",
   "metadata": {},
   "outputs": [],
   "source": [
    "plan = SSPlanBinomial(N=1000, n=250, Ac=5,\n",
    "                      p=np.linspace(0.0, 0.15, 200))\n",
    "plan.plot()\n",
    "plt.tight_layout()"
   ]
  },
  {
   "cell_type": "markdown",
   "id": "12c88994",
   "metadata": {},
   "source": [
    "## National and International Standards"
   ]
  },
  {
   "cell_type": "code",
   "execution_count": null,
   "id": "7457237f",
   "metadata": {},
   "outputs": [],
   "source": [
    "plan = acceptanceSampling.SSPlanBinomial(1000, 80, 2,\n",
    "                                         p=(0.01, 0.02, 0.03, 0.04, 0.05))"
   ]
  },
  {
   "cell_type": "markdown",
   "id": "5b202e4e",
   "metadata": {},
   "source": [
    "## Skip-Lot Sampling Plans for Attributes"
   ]
  },
  {
   "cell_type": "markdown",
   "id": "114ee9d7",
   "metadata": {},
   "source": [
    "### The ISO 2859 Skip-Lot Sampling Procedures"
   ]
  },
  {
   "cell_type": "markdown",
   "id": "37a7be6d",
   "metadata": {},
   "source": [
    "#### Skip Lot Switching Rules"
   ]
  },
  {
   "cell_type": "markdown",
   "id": "a0bfb4e9",
   "metadata": {},
   "source": [
    "## The Deming Inspection Criterion"
   ]
  },
  {
   "cell_type": "markdown",
   "id": "f69191c4",
   "metadata": {},
   "source": [
    "## Published Tables for Acceptance Sampling"
   ]
  },
  {
   "cell_type": "markdown",
   "id": "f660e0d1",
   "metadata": {},
   "source": [
    "#### I.  "
   ]
  },
  {
   "cell_type": "markdown",
   "id": "72076243",
   "metadata": {},
   "source": [
    "#### II.  "
   ]
  },
  {
   "cell_type": "markdown",
   "id": "d2bb64e5",
   "metadata": {},
   "source": [
    "## Sequential Reliability Testing"
   ]
  },
  {
   "cell_type": "code",
   "execution_count": null,
   "id": "187bd8bb",
   "metadata": {},
   "outputs": [],
   "source": [
    "# use Goel-Okumoto model as the example\n",
    "a = 1\n",
    "b = 0.75\n",
    "\n",
    "t = np.linspace(0, 5, 100)\n",
    "\n",
    "curves = pd.DataFrame({\n",
    "    't': t,\n",
    "    'm(t)':  a * (1 - np.exp(-b*t)),\n",
    "    'lambda(t)': a * b * np.exp(-b*t),\n",
    "})\n",
    "ax = curves.plot(x='t', y='m(t)', color='black', label='$m(t)$')\n",
    "curves.plot(x='t', y='lambda(t)', ax=ax, color='black', linestyle=':', label='$\\lambda(t)$')\n",
    "ax.xaxis.set_ticks([])\n",
    "ax.yaxis.set_ticks([])\n",
    "ax.set_xlabel('Time $t$')\n",
    "plt.show()"
   ]
  },
  {
   "cell_type": "code",
   "execution_count": null,
   "id": "5ccf44cd",
   "metadata": {},
   "outputs": [],
   "source": [
    "def GoelOkumoto(t, a, b):\n",
    "    return a * (1 - np.exp(-b * t))\n",
    "\n",
    "def Yamada(t, a, b):\n",
    "    return a * (1 - (1+b*t)*np.exp(-b*t))"
   ]
  },
  {
   "cell_type": "code",
   "execution_count": null,
   "id": "f5e9328c",
   "metadata": {},
   "outputs": [],
   "source": [
    "warnings.filterwarnings('ignore', category=RuntimeWarning)"
   ]
  },
  {
   "cell_type": "code",
   "execution_count": null,
   "id": "30ad9f59",
   "metadata": {},
   "outputs": [],
   "source": [
    "def optimizeModelFit(model, data):\n",
    "    fit = optimize.curve_fit(model, data['T'], data['CFC'])\n",
    "    popt = fit[0]\n",
    "    # add the fit to the dataset\n",
    "    data[model.__name__] = [model(t, *popt) for t in data['T']]\n",
    "    return popt\n",
    "\n",
    "data = mistat.load_data('FAILURE_J3')\n",
    "goFit = optimizeModelFit(GoelOkumoto, data)\n",
    "ohbaFit = optimizeModelFit(Yamada, data)"
   ]
  },
  {
   "cell_type": "code",
   "execution_count": null,
   "id": "e8612821",
   "metadata": {},
   "outputs": [],
   "source": [
    "fig, axes = plt.subplots(ncols=2)\n",
    "data.plot(x='T', y='CFC', color='grey', ax=axes[0])\n",
    "data.plot(x='T', y='GoelOkumoto', color='black', ax=axes[0])\n",
    "axes[0].set_title('Goel-Okumoto')\n",
    "axes[0].set_xlabel('Cumulative failure count')\n",
    "axes[0].set_xlabel('Time')\n",
    "axes[0].set_ylim(0, 400)\n",
    "data.plot(x='T', y='CFC', color='grey', ax=axes[1])\n",
    "data.plot(x='T', y='Yamada', color='black', ax=axes[1])\n",
    "axes[1].set_title('Yamada')\n",
    "axes[1].set_xlabel('Time')\n",
    "axes[1].set_ylim(0, 400)\n",
    "plt.tight_layout()\n",
    "plt.show()"
   ]
  },
  {
   "cell_type": "markdown",
   "id": "4234c7e5",
   "metadata": {},
   "source": [
    "## Chapter Highlights"
   ]
  },
  {
   "cell_type": "markdown",
   "id": "90f6e51f",
   "metadata": {},
   "source": [
    "## Exercises"
   ]
  }
 ],
 "metadata": {},
 "nbformat": 4,
 "nbformat_minor": 5
}
