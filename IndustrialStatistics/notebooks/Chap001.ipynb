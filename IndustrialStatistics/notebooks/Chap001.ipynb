{
 "cells": [
  {
   "cell_type": "markdown",
   "id": "aac1fd94",
   "metadata": {},
   "source": [
    "# Chapter 1 \n",
    " Industrial Statistics: A Computer Based Approach with Python<br>\n",
    "by Ron Kenett, Shelemyahu Zacks, Peter Gedeck\n",
    "\n",
    "Publisher: Springer International Publishing; 1st edition (2023) <br>\n",
    "<!-- ISBN-13: 978-3031075650 -->\n",
    "\n",
    "(c) 2022 Ron Kenett, Shelemyahu Zacks, Peter Gedeck\n",
    "\n",
    "The code needs to be executed in sequence."
   ]
  },
  {
   "cell_type": "markdown",
   "id": "8ce6ab38",
   "metadata": {},
   "source": [
    "# The Role of Statistical Methods in Modern Industry"
   ]
  },
  {
   "cell_type": "markdown",
   "id": "baf7eca7",
   "metadata": {},
   "source": [
    "## Evolution of Industry"
   ]
  },
  {
   "cell_type": "markdown",
   "id": "cdfde6d0",
   "metadata": {},
   "source": [
    "## Evolution of Quality"
   ]
  },
  {
   "cell_type": "markdown",
   "id": "015371a6",
   "metadata": {},
   "source": [
    "## Industry 4.0 Characteristics"
   ]
  },
  {
   "cell_type": "markdown",
   "id": "83dd1474",
   "metadata": {},
   "source": [
    "## Digital Twin"
   ]
  },
  {
   "cell_type": "markdown",
   "id": "c03b2434",
   "metadata": {},
   "source": [
    "## Chapter Highlights"
   ]
  },
  {
   "cell_type": "markdown",
   "id": "99292436",
   "metadata": {},
   "source": [
    "## Exercises"
   ]
  }
 ],
 "metadata": {
  "language_info": {
   "codemirror_mode": {
    "name": "ipython",
    "version": 3
   },
   "file_extension": ".py",
   "mimetype": "text/x-python",
   "name": "python",
   "nbconvert_exporter": "python",
   "pygments_lexer": "ipython3",
   "version": "3.9.13"
  }
 },
 "nbformat": 4,
 "nbformat_minor": 5
}
