{
 "cells": [
  {
   "cell_type": "code",
   "execution_count": 1,
   "id": "f4c26557",
   "metadata": {
    "execution": {
     "iopub.execute_input": "2022-07-05T16:42:52.052666Z",
     "iopub.status.busy": "2022-07-05T16:42:52.052318Z",
     "iopub.status.idle": "2022-07-05T16:42:52.277327Z",
     "shell.execute_reply": "2022-07-05T16:42:52.276704Z"
    }
   },
   "outputs": [],
   "source": [
    "import pweave\n",
    "pweave.rcParams['chunk']['defaultoptions'].update({'f_pos': 'tbp'})\n",
    "import warnings\n",
    "from outdated import OutdatedPackageWarning\n",
    "warnings.filterwarnings('ignore', category=FutureWarning)\n",
    "warnings.filterwarnings('ignore', category=OutdatedPackageWarning)"
   ]
  },
  {
   "cell_type": "markdown",
   "id": "02a76006",
   "metadata": {},
   "source": [
    "# Modern analytic methods: Part I"
   ]
  },
  {
   "cell_type": "code",
   "execution_count": 2,
   "id": "d99b9078",
   "metadata": {
    "execution": {
     "iopub.execute_input": "2022-07-05T16:42:52.281229Z",
     "iopub.status.busy": "2022-07-05T16:42:52.280329Z",
     "iopub.status.idle": "2022-07-05T16:42:53.365149Z",
     "shell.execute_reply": "2022-07-05T16:42:53.364420Z"
    }
   },
   "outputs": [],
   "source": [
    "import warnings\n",
    "import random\n",
    "import pandas as pd\n",
    "import numpy as np\n",
    "from sklearn.ensemble import RandomForestClassifier\n",
    "from sklearn.naive_bayes import MultinomialNB\n",
    "from sklearn.metrics import accuracy_score\n",
    "from sklearn.impute import SimpleImputer\n",
    "from sklearn.neural_network import MLPClassifier\n",
    "from sklearn.preprocessing import MinMaxScaler\n",
    "from sklearn.metrics import confusion_matrix, ConfusionMatrixDisplay\n",
    "import statsmodels.formula.api as smf\n",
    "\n",
    "from scipy import stats\n",
    "import matplotlib.pyplot as plt\n",
    "import mistat"
   ]
  },
  {
   "cell_type": "markdown",
   "id": "7e768871",
   "metadata": {},
   "source": [
    "## Introduction to Computer Age Statistics"
   ]
  },
  {
   "cell_type": "markdown",
   "id": "1d4c3903",
   "metadata": {},
   "source": [
    "## Data Preparation"
   ]
  },
  {
   "cell_type": "markdown",
   "id": "1425c9f7",
   "metadata": {},
   "source": [
    "## The Information Quality Framework"
   ]
  },
  {
   "cell_type": "markdown",
   "id": "6347ab1e",
   "metadata": {},
   "source": [
    "## Determining Model Performance"
   ]
  },
  {
   "cell_type": "code",
   "execution_count": 3,
   "id": "78195c99",
   "metadata": {
    "execution": {
     "iopub.execute_input": "2022-07-05T16:42:53.370369Z",
     "iopub.status.busy": "2022-07-05T16:42:53.369049Z",
     "iopub.status.idle": "2022-07-05T16:42:53.854675Z",
     "shell.execute_reply": "2022-07-05T16:42:53.854215Z"
    }
   },
   "outputs": [
    {
     "data": {
      "image/png": "[encoded data removed]",
      "text/plain": [
       "<Figure size 720x432 with 1 Axes>"
      ]
     },
     "metadata": {
      "needs_background": "light"
     },
     "output_type": "display_data"
    }
   ],
   "source": [
    "from matplotlib.patches import Rectangle\n",
    "import matplotlib.patches as mpatches\n",
    "\n",
    "random.seed(1)\n",
    "\n",
    "xlim = (-2, 28)\n",
    "ylim = (78, 103)\n",
    "nrows = 20\n",
    "\n",
    "def drawDataRow(ax, x, y, ncolumns, alpha=1, facecolor='none', delta=0):\n",
    "    for i in range(ncolumns-1):\n",
    "        ax.add_patch(Rectangle((x + i, y), 1, 1, edgecolor='black',\n",
    "                               facecolor=facecolor, alpha=alpha))\n",
    "    ax.add_patch(Rectangle((x + ncolumns-1 + delta, y), 1, 1,\n",
    "                           edgecolor='black', facecolor=facecolor, alpha=alpha))\n",
    "\n",
    "def drawDataset(ax, x, y, nrows, ncolumns, selected=None, facecolor='white', alpha=1, delta=0):\n",
    "    selected = selected or []\n",
    "    for row in range(nrows):\n",
    "        drawDataRow(ax, x, y-row, ncolumns, alpha=alpha, facecolor='#888888' if row in selected else facecolor,\n",
    "                   delta=delta)\n",
    "\n",
    "fig, ax = plt.subplots(figsize=(10, 6))\n",
    "\n",
    "# Dataset\n",
    "middle = 100-nrows/2+1\n",
    "selected = random.sample(range(nrows), int(nrows * 0.2))\n",
    "drawDataset(ax, 0, 100-1, nrows, 5, selected=selected, delta=0.25)\n",
    "ax.text(2.5, 102-1, r'Dataset', ha='center')\n",
    "ax.text(-1, middle-1, r'$m$ rows', va='center', rotation='vertical')\n",
    "\n",
    "arrow = mpatches.FancyArrowPatch((5.5, middle-1), (8.75, middle-1), mutation_scale=30,\n",
    "                                facecolor='lightgrey', edgecolor='grey')\n",
    "ax.add_patch(arrow)\n",
    "\n",
    "# Trainingset\n",
    "ntrain = nrows - len(selected)\n",
    "drawDataset(ax, 10, 100, ntrain, 5, selected=None, delta=0.25)\n",
    "ax.text(12.5, 102, r'Training set', ha='center')\n",
    "ax.text(9, middle+2, r'$m-l$ rows', va='center', rotation='vertical')\n",
    "\n",
    "# Testset\n",
    "ntest = len(selected)\n",
    "drawDataset(ax, 10, 100 - ntrain - 3, ntest, 5, selected=list(range(ntest)), delta=0.25)\n",
    "ax.text(12.5, 83, r'Validation set', ha='center')\n",
    "ax.text(9, 80, r'$l$ rows', va='center', rotation='vertical')\n",
    "\n",
    "arrow = mpatches.FancyArrowPatch((15.75, middle+2), (19, middle+2), mutation_scale=30,\n",
    "                                facecolor='lightgrey', edgecolor='grey')\n",
    "ax.add_patch(arrow)\n",
    "ax.text(20, middle+2, r'Fit model $\\hat{f}$ to training set', va='center')\n",
    "\n",
    "arrow = mpatches.FancyArrowPatch((15.75, 80), (19, 80), mutation_scale=30,\n",
    "                                facecolor='lightgrey', edgecolor='grey')\n",
    "ax.add_patch(arrow)\n",
    "ax.text(20, 80, 'Use model ' + r'$\\hat{f}$ on validation set' + '\\nto measure performance', va='center')\n",
    "\n",
    "arrow = mpatches.FancyArrowPatch((23, middle+1), (23, 81.5), mutation_scale=30,\n",
    "                                facecolor='lightgrey', edgecolor='grey')\n",
    "ax.add_patch(arrow)\n",
    "\n",
    "\n",
    "ax.set_xlim(*xlim)\n",
    "ax.set_ylim(*ylim)\n",
    "plt.axis('off')\n",
    "plt.show()"
   ]
  },
  {
   "cell_type": "code",
   "execution_count": 4,
   "id": "8738ac71",
   "metadata": {
    "execution": {
     "iopub.execute_input": "2022-07-05T16:42:53.857810Z",
     "iopub.status.busy": "2022-07-05T16:42:53.857026Z",
     "iopub.status.idle": "2022-07-05T16:42:54.401694Z",
     "shell.execute_reply": "2022-07-05T16:42:54.401238Z"
    }
   },
   "outputs": [
    {
     "data": {
      "image/png": "[encoded data removed]",
      "text/plain": [
       "<Figure size 360x396 with 1 Axes>"
      ]
     },
     "metadata": {
      "needs_background": "light"
     },
     "output_type": "display_data"
    }
   ],
   "source": [
    "random.seed(2)\n",
    "\n",
    "xlim = (0, 19.1)\n",
    "ylim = (78, 101)\n",
    "nrows = 20\n",
    "colorCh1 = 'FFEEDDCBA9876'\n",
    "colorCh2 = 'F8F8F8FBA9876'\n",
    "\n",
    "fig, ax = plt.subplots(figsize=(5, 5.5))\n",
    "for nboot in reversed(range(5)):\n",
    "    dx = nboot*0.6\n",
    "    dx = nboot*3.5\n",
    "    dy = nboot*0.3\n",
    "    facecolor = '#'\n",
    "    for _ in range(3):\n",
    "        facecolor += colorCh1[nboot] + colorCh2[nboot]\n",
    "    selected = range(nboot, nrows, 5)\n",
    "    drawDataset(ax, 0 + dx, 100 - dy, nrows, 5, selected=selected, facecolor=facecolor)\n",
    "ax.set_xlim(*xlim)\n",
    "ax.set_ylim(*ylim)\n",
    "plt.axis('off')\n",
    "plt.show()"
   ]
  },
  {
   "cell_type": "code",
   "execution_count": 5,
   "id": "ae0075c6",
   "metadata": {
    "execution": {
     "iopub.execute_input": "2022-07-05T16:42:54.405750Z",
     "iopub.status.busy": "2022-07-05T16:42:54.404581Z",
     "iopub.status.idle": "2022-07-05T16:42:55.585372Z",
     "shell.execute_reply": "2022-07-05T16:42:55.584902Z"
    }
   },
   "outputs": [
    {
     "data": {
      "image/png": "[encoded data removed]",
      "text/plain": [
       "<Figure size 360x396 with 1 Axes>"
      ]
     },
     "metadata": {
      "needs_background": "light"
     },
     "output_type": "display_data"
    }
   ],
   "source": [
    "fig, ax = plt.subplots(figsize=(5, 5.5))\n",
    "colorCh1 = 'FFFFEEEEDDDDCCCCBBBBAAAA'\n",
    "colorCh2 = 'FA84' * 10\n",
    "\n",
    "for nboot in reversed(range(10)):\n",
    "    dx = nboot*1.3\n",
    "    dy = nboot*0.3\n",
    "    facecolor = '#'\n",
    "    for _ in range(3):\n",
    "        facecolor += colorCh1[nboot] + colorCh2[nboot]\n",
    "    selected = [nboot]\n",
    "    drawDataset(ax, 0 + dx, 100 - dy, nrows, 5, selected=selected, facecolor=facecolor)\n",
    "ax.text(17.4, 89, '...', va='center', fontsize='xx-large')\n",
    "\n",
    "ax.set_xlim(*xlim)\n",
    "ax.set_ylim(*ylim)\n",
    "plt.axis('off')\n",
    "plt.show()\n"
   ]
  },
  {
   "cell_type": "code",
   "execution_count": 6,
   "id": "5440941b",
   "metadata": {
    "execution": {
     "iopub.execute_input": "2022-07-05T16:42:55.588379Z",
     "iopub.status.busy": "2022-07-05T16:42:55.587682Z",
     "iopub.status.idle": "2022-07-05T16:42:56.837778Z",
     "shell.execute_reply": "2022-07-05T16:42:56.837319Z"
    }
   },
   "outputs": [
    {
     "data": {
      "image/png": "[encoded data removed]",
      "text/plain": [
       "<Figure size 360x396 with 1 Axes>"
      ]
     },
     "metadata": {
      "needs_background": "light"
     },
     "output_type": "display_data"
    }
   ],
   "source": [
    "fig, ax = plt.subplots(figsize=(5, 5.5))\n",
    "# Dataset\n",
    "for nboot in reversed(range(10)):\n",
    "    dx = nboot*1.3\n",
    "    dy = nboot*0.3\n",
    "    facecolor = '#'\n",
    "    for _ in range(3):\n",
    "        facecolor += colorCh1[nboot] + colorCh2[nboot]\n",
    "\n",
    "    selected = random.sample(range(nrows), int(nrows * 0.2))\n",
    "    drawDataset(ax, 0 + dx, 100 - dy, nrows, 5, selected=selected, alpha=1, facecolor=facecolor)\n",
    "ax.text(17.4, 89, '...', va='center', fontsize='xx-large')\n",
    "\n",
    "ax.set_xlim(*xlim)\n",
    "ax.set_ylim(*ylim)\n",
    "plt.axis('off')\n",
    "plt.show()"
   ]
  },
  {
   "cell_type": "code",
   "execution_count": 7,
   "id": "fc1022ac",
   "metadata": {
    "execution": {
     "iopub.execute_input": "2022-07-05T16:42:56.841047Z",
     "iopub.status.busy": "2022-07-05T16:42:56.840136Z",
     "iopub.status.idle": "2022-07-05T16:42:56.966336Z",
     "shell.execute_reply": "2022-07-05T16:42:56.965768Z"
    }
   },
   "outputs": [
    {
     "data": {
      "image/png": "[encoded data removed]",
      "text/plain": [
       "<Figure size 432x288 with 1 Axes>"
      ]
     },
     "metadata": {
      "needs_background": "light"
     },
     "output_type": "display_data"
    }
   ],
   "source": [
    "np.random.seed(0)\n",
    "yerr = 0.2\n",
    "yerr = 1\n",
    "def createData(n):\n",
    "    x = [-2, -1, 0, 1, 2]\n",
    "    data = []\n",
    "    for i, xi in enumerate(x):\n",
    "        for _ in range(n):\n",
    "            dx = (i+5) * 0.01 * stats.norm.rvs()\n",
    "            dy = (i+1) * yerr * stats.norm.rvs()\n",
    "            data.append({'x': xi+dx, 'y': dy + (xi - 0.75) ** 2 + 0.3, 'group': i})\n",
    "    return pd.DataFrame(data)\n",
    "df = createData(5)\n",
    "valid_df = createData(100)\n",
    "ax = valid_df.plot.scatter(x='x', y='y', color='lightgrey', marker='+')\n",
    "df.plot.scatter(x='x', y='y', ax=ax, color='black')\n",
    "plt.show()"
   ]
  },
  {
   "cell_type": "code",
   "execution_count": 8,
   "id": "b0b1f8f2",
   "metadata": {
    "execution": {
     "iopub.execute_input": "2022-07-05T16:42:56.970341Z",
     "iopub.status.busy": "2022-07-05T16:42:56.969252Z",
     "iopub.status.idle": "2022-07-05T16:42:58.071283Z",
     "shell.execute_reply": "2022-07-05T16:42:58.070537Z"
    }
   },
   "outputs": [],
   "source": [
    "formula = 'y ~ 1 + x + np.power(x, 2)'\n",
    "def sample80(df):\n",
    "  \"\"\" Sample 80% of the dataset using RSWR \"\"\"\n",
    "  return df.sample(int(0.8 * len(df)), replace=True)\n",
    "stratR2 = []\n",
    "for _ in range(100):\n",
    "    stratSample = df.groupby('group').apply(lambda x: sample80(x))\n",
    "    model = smf.ols(formula=formula, data=stratSample).fit()\n",
    "    stratR2.append(model.rsquared)\n",
    "sampleR2 = []\n",
    "for _ in range(100):\n",
    "    sample = sample80(df)\n",
    "    model = smf.ols(formula=formula, data=sample).fit()\n",
    "    sampleR2.append(model.rsquared)"
   ]
  },
  {
   "cell_type": "code",
   "execution_count": 9,
   "id": "4619c4ab",
   "metadata": {
    "execution": {
     "iopub.execute_input": "2022-07-05T16:42:58.074570Z",
     "iopub.status.busy": "2022-07-05T16:42:58.073838Z",
     "iopub.status.idle": "2022-07-05T16:42:58.174676Z",
     "shell.execute_reply": "2022-07-05T16:42:58.174199Z"
    }
   },
   "outputs": [
    {
     "data": {
      "image/png": "[encoded data removed]",
      "text/plain": [
       "<Figure size 432x288 with 1 Axes>"
      ]
     },
     "metadata": {
      "needs_background": "light"
     },
     "output_type": "display_data"
    }
   ],
   "source": [
    "ax = pd.Series(stratR2).plot.density(color='black')\n",
    "pd.Series(sampleR2).plot.density(ax=ax, color='black', linestyle='--')\n",
    "ax.set_xlim(0, 1.0)\n",
    "ax.set_xlabel(r'$r^2$')\n",
    "plt.show()"
   ]
  },
  {
   "cell_type": "markdown",
   "id": "f57ef6bf",
   "metadata": {},
   "source": [
    "## Decision Trees"
   ]
  },
  {
   "cell_type": "code",
   "execution_count": 10,
   "id": "2e10a6dd",
   "metadata": {
    "execution": {
     "iopub.execute_input": "2022-07-05T16:42:58.179003Z",
     "iopub.status.busy": "2022-07-05T16:42:58.177707Z",
     "iopub.status.idle": "2022-07-05T16:42:58.277066Z",
     "shell.execute_reply": "2022-07-05T16:42:58.276503Z"
    }
   },
   "outputs": [
    {
     "data": {
      "image/png": "[encoded data removed]",
      "text/plain": [
       "<Figure size 432x288 with 1 Axes>"
      ]
     },
     "metadata": {
      "needs_background": "light"
     },
     "output_type": "display_data"
    }
   ],
   "source": [
    "sensors = mistat.load_data('SENSORS.csv')\n",
    "dist = sensors['testResult'].value_counts()\n",
    "dist = dist.sort_index()\n",
    "ax = dist.plot.bar(color='lightgrey')\n",
    "ax.patches[dist.index.get_loc('Good')].set_facecolor('black')\n",
    "plt.show()"
   ]
  },
  {
   "cell_type": "code",
   "execution_count": 11,
   "id": "b94702bb",
   "metadata": {
    "execution": {
     "iopub.execute_input": "2022-07-05T16:42:58.280190Z",
     "iopub.status.busy": "2022-07-05T16:42:58.279658Z",
     "iopub.status.idle": "2022-07-05T16:42:58.504785Z",
     "shell.execute_reply": "2022-07-05T16:42:58.504222Z"
    }
   },
   "outputs": [
    {
     "data": {
      "image/png": "[encoded data removed]",
      "text/plain": [
       "<Figure size 432x288 with 1 Axes>"
      ]
     },
     "metadata": {
      "needs_background": "light"
     },
     "output_type": "display_data"
    }
   ],
   "source": [
    "from sklearn.tree import DecisionTreeClassifier, plot_tree, export_text\n",
    "\n",
    "predictors = [c for c in sensors.columns if c.startswith('sensor')]\n",
    "outcome = 'status'\n",
    "X = sensors[predictors]\n",
    "y = sensors[outcome]\n",
    "\n",
    "# Train the model\n",
    "clf = DecisionTreeClassifier(ccp_alpha=0.012, random_state=0)\n",
    "clf.fit(X, y)\n",
    "\n",
    "# Visualization of tree\n",
    "plot_tree(clf, feature_names=list(X.columns))\n",
    "plt.show()"
   ]
  },
  {
   "cell_type": "code",
   "execution_count": 12,
   "id": "9816e3eb",
   "metadata": {
    "execution": {
     "iopub.execute_input": "2022-07-05T16:42:58.507907Z",
     "iopub.status.busy": "2022-07-05T16:42:58.507251Z",
     "iopub.status.idle": "2022-07-05T16:42:58.511231Z",
     "shell.execute_reply": "2022-07-05T16:42:58.510750Z"
    }
   },
   "outputs": [
    {
     "name": "stdout",
     "output_type": "stream",
     "text": [
      "|--- sensor18 <= 1.33\n",
      "|   |--- sensor07 <= 93.28\n",
      "|   |   |--- sensor21 <= 1159.25\n",
      "|   |   |   |--- class: Pass\n",
      "|   |   |--- sensor21 >  1159.25\n",
      "|   |   |   |--- class: Fail\n",
      "|   |--- sensor07 >  93.28\n",
      "|   |   |--- class: Fail\n",
      "|--- sensor18 >  1.33\n",
      "|   |--- class: Fail\n",
      "\n"
     ]
    }
   ],
   "source": [
    "# Text representation of tree\n",
    "print(export_text(clf, feature_names=list(X.columns)))"
   ]
  },
  {
   "cell_type": "code",
   "execution_count": 13,
   "id": "6ae5711e",
   "metadata": {
    "execution": {
     "iopub.execute_input": "2022-07-05T16:42:58.514107Z",
     "iopub.status.busy": "2022-07-05T16:42:58.513367Z",
     "iopub.status.idle": "2022-07-05T16:42:59.026186Z",
     "shell.execute_reply": "2022-07-05T16:42:59.025305Z"
    }
   },
   "outputs": [
    {
     "name": "stderr",
     "output_type": "stream",
     "text": [
      "findfont: Font family ['Arial'] not found. Falling back to DejaVu Sans.\n"
     ]
    },
    {
     "name": "stderr",
     "output_type": "stream",
     "text": [
      "findfont: Font family ['Arial'] not found. Falling back to DejaVu Sans.\n"
     ]
    },
    {
     "name": "stderr",
     "output_type": "stream",
     "text": [
      "findfont: Font family ['Arial'] not found. Falling back to DejaVu Sans.\n"
     ]
    },
    {
     "name": "stderr",
     "output_type": "stream",
     "text": [
      "findfont: Font family ['Arial'] not found. Falling back to DejaVu Sans.\n"
     ]
    }
   ],
   "source": [
    "from dtreeviz.trees import dtreeviz\n",
    "\n",
    "def viz2pdf(viz, pdfFile):\n",
    "  from svglib.svglib import svg2rlg\n",
    "  from reportlab.graphics import renderPDF\n",
    "  from tempfile import NamedTemporaryFile\n",
    "  with NamedTemporaryFile(mode='w+', suffix='.svg') as f:\n",
    "    f.write(viz.svg())\n",
    "    f.flush()\n",
    "    f.seek(0)\n",
    "    drawing = svg2rlg(f.name)\n",
    "    renderPDF.drawToFile(drawing, pdfFile)\n",
    "\n",
    "\n",
    "# the dtreeviz methods requires the classifier to be trained with a numerical\n",
    "# representation of the classes\n",
    "X = sensors[predictors]\n",
    "y = np.array([1 if yi == 'Pass' else 0 for yi in sensors[outcome]])\n",
    "\n",
    "# Train the model\n",
    "clf = DecisionTreeClassifier(ccp_alpha=0.012, random_state=0)\n",
    "clf.fit(X, y)\n",
    "\n",
    "warnings.simplefilter('ignore', category=UserWarning)\n",
    "viz = dtreeviz(clf, X, y,\n",
    "               target_name=outcome,\n",
    "               feature_names=X.columns,\n",
    "               class_names=['Fail', 'Pass'])\n",
    "warnings.simplefilter('default', category=UserWarning)"
   ]
  },
  {
   "cell_type": "code",
   "execution_count": 14,
   "id": "9280029f",
   "metadata": {
    "execution": {
     "iopub.execute_input": "2022-07-05T16:42:59.029904Z",
     "iopub.status.busy": "2022-07-05T16:42:59.029531Z",
     "iopub.status.idle": "2022-07-05T16:42:59.368648Z",
     "shell.execute_reply": "2022-07-05T16:42:59.367916Z"
    }
   },
   "outputs": [
    {
     "data": {
      "image/png": "[encoded data removed]",
      "text/plain": [
       "<Figure size 432x288 with 1 Axes>"
      ]
     },
     "metadata": {
      "needs_background": "light"
     },
     "output_type": "display_data"
    }
   ],
   "source": [
    "sensor18 = np.array(sensors['sensor18'])\n",
    "status =  sensors['status']\n",
    "x = np.array(sorted(sensor18))\n",
    "split = []\n",
    "gini = []\n",
    "entropy = []\n",
    "N = len(x)\n",
    "# Iterate over pairs of sensor data\n",
    "for theta in zip(x[1:], x[:-1]):\n",
    "    theta = 0.5 * (theta[0] + theta[1])\n",
    "    left = sensor18 <= theta\n",
    "    right = sensor18 > theta\n",
    "    Nleft = sum(left)\n",
    "    Nright = sum(right)\n",
    "    pleft = status[left].value_counts().values / Nleft\n",
    "    pright = status[right].value_counts().values / Nright\n",
    "    split.append(theta)\n",
    "    gini.append(Nleft * np.sum(pleft*(1-pleft)) / N + Nright * np.sum(pright*(1-pright)) / N)\n",
    "    entropy.append(- Nleft * np.sum(pleft*np.log(pleft)) / N - Nright * np.sum(pright*np.log(pright)) / N)\n",
    "\n",
    "fig, ax = plt.subplots()\n",
    "ax.axvline(split[np.argmin(gini)], color='grey')\n",
    "ax.axvline(split[np.argmin(entropy)], color='grey', ls=':')\n",
    "ax.plot(split, gini, color='black')\n",
    "ax.plot(split, entropy, color='black', ls=':')\n",
    "ax.set_xlim(min(split), 5)\n",
    "ax.set_xlabel('Split threshold for sensor 18')\n",
    "ax.set_ylabel('Quality of split')\n",
    "ax.text(2.2, 0.45, f'Entropy {split[np.argmin(entropy)]:.3f}')\n",
    "ax.text(3, 0.25, f'Gini {split[np.argmin(gini)]:.3f}')\n",
    "plt.show()"
   ]
  },
  {
   "cell_type": "code",
   "execution_count": 15,
   "id": "71072ea1",
   "metadata": {
    "execution": {
     "iopub.execute_input": "2022-07-05T16:42:59.371821Z",
     "iopub.status.busy": "2022-07-05T16:42:59.371516Z",
     "iopub.status.idle": "2022-07-05T16:42:59.479217Z",
     "shell.execute_reply": "2022-07-05T16:42:59.478146Z"
    }
   },
   "outputs": [
    {
     "name": "stdout",
     "output_type": "stream",
     "text": [
      "Probabilities of missclassified data points\n",
      "[[0.97752809 0.02247191]\n",
      " [0.97752809 0.02247191]\n",
      " [0.66666667 0.33333333]]\n",
      "Confusion matrix\n",
      "[[92  0]\n",
      " [ 3 79]]\n"
     ]
    },
    {
     "data": {
      "image/png": "[encoded data removed]",
      "text/plain": [
       "<Figure size 432x288 with 2 Axes>"
      ]
     },
     "metadata": {
      "needs_background": "light"
     },
     "output_type": "display_data"
    }
   ],
   "source": [
    "# missclassification probabilities\n",
    "print('Probabilities of missclassified data points')\n",
    "print(clf.predict_proba(X.loc[clf.predict(X) != y,:]))\n",
    "\n",
    "# actual in rows / predicted in columns\n",
    "print('Confusion matrix')\n",
    "cm = confusion_matrix(y, clf.predict(X))\n",
    "print(cm)\n",
    "\n",
    "disp = ConfusionMatrixDisplay(confusion_matrix=cm, display_labels=clf.classes_)\n",
    "disp.plot(cmap=plt.cm.Blues)\n",
    "plt.show()"
   ]
  },
  {
   "cell_type": "code",
   "execution_count": 16,
   "id": "4db74a9b",
   "metadata": {
    "execution": {
     "iopub.execute_input": "2022-07-05T16:42:59.482473Z",
     "iopub.status.busy": "2022-07-05T16:42:59.482192Z",
     "iopub.status.idle": "2022-07-05T16:42:59.591359Z",
     "shell.execute_reply": "2022-07-05T16:42:59.590274Z"
    }
   },
   "outputs": [
    {
     "data": {
      "image/png": "[encoded data removed]",
      "text/plain": [
       "<Figure size 432x288 with 1 Axes>"
      ]
     },
     "metadata": {
      "needs_background": "light"
     },
     "output_type": "display_data"
    }
   ],
   "source": [
    "# Code to analyze tree depth vs alpha\n",
    "clf = DecisionTreeClassifier(random_state=0)\n",
    "path = clf.cost_complexity_pruning_path(X, y)\n",
    "ccp_alphas, impurities = path.ccp_alphas, path.impurities\n",
    "clfs = []\n",
    "for ccp_alpha in ccp_alphas:\n",
    "    clf = DecisionTreeClassifier(random_state=0, ccp_alpha=ccp_alpha)\n",
    "    clf.fit(X, y)\n",
    "    clfs.append(clf)\n",
    "\n",
    "clfs = clfs[:-1]\n",
    "ccp_alphas = ccp_alphas[:-1]\n",
    "node_counts = [clf.tree_.node_count for clf in clfs]\n",
    "fig, ax = plt.subplots()\n",
    "ax.plot(ccp_alphas, node_counts, marker='o', drawstyle=\"steps-post\",\n",
    "        color='black')\n",
    "ax.set_xlabel(\"Cost-complexity parameter (ccp_alpha)\")\n",
    "ax.set_ylabel(\"Number of nodes\")\n",
    "ax.axvline(0.012, color='grey')\n",
    "plt.show()"
   ]
  },
  {
   "cell_type": "markdown",
   "id": "19d520e8",
   "metadata": {},
   "source": [
    "## Ensemble Models"
   ]
  },
  {
   "cell_type": "code",
   "execution_count": 17,
   "id": "485e8408",
   "metadata": {
    "execution": {
     "iopub.execute_input": "2022-07-05T16:42:59.594681Z",
     "iopub.status.busy": "2022-07-05T16:42:59.594400Z",
     "iopub.status.idle": "2022-07-05T16:42:59.830286Z",
     "shell.execute_reply": "2022-07-05T16:42:59.829286Z"
    }
   },
   "outputs": [
    {
     "name": "stdout",
     "output_type": "stream",
     "text": [
      "Confusion matrix\n",
      "[[92  0]\n",
      " [ 0 82]]\n"
     ]
    }
   ],
   "source": [
    "predictors = [c for c in sensors.columns if c.startswith('sensor')]\n",
    "outcome = 'status'\n",
    "X = sensors[predictors]\n",
    "y = sensors[outcome]\n",
    "\n",
    "# Train the model\n",
    "clf = RandomForestClassifier(ccp_alpha=0.012, random_state=0)\n",
    "clf.fit(X, y)\n",
    "\n",
    "# actual in rows / predicted in columns\n",
    "print('Confusion matrix')\n",
    "print(confusion_matrix(y, clf.predict(X)))"
   ]
  },
  {
   "cell_type": "code",
   "execution_count": 18,
   "id": "9cc2c47c",
   "metadata": {
    "execution": {
     "iopub.execute_input": "2022-07-05T16:42:59.833399Z",
     "iopub.status.busy": "2022-07-05T16:42:59.833144Z",
     "iopub.status.idle": "2022-07-05T16:42:59.837588Z",
     "shell.execute_reply": "2022-07-05T16:42:59.836608Z"
    }
   },
   "outputs": [],
   "source": [
    "# On some versions of MACOS, running xgboost can fail. Uncomment the following\n",
    "# lines to avoid this.\n",
    "import os\n",
    "os.environ['KMP_DUPLICATE_LIB_OK'] = 'TRUE'"
   ]
  },
  {
   "cell_type": "code",
   "execution_count": 19,
   "id": "3fed95f3",
   "metadata": {
    "execution": {
     "iopub.execute_input": "2022-07-05T16:42:59.840648Z",
     "iopub.status.busy": "2022-07-05T16:42:59.840409Z",
     "iopub.status.idle": "2022-07-05T16:43:00.037829Z",
     "shell.execute_reply": "2022-07-05T16:43:00.036795Z"
    }
   },
   "outputs": [
    {
     "name": "stdout",
     "output_type": "stream",
     "text": [
      "Confusion matrix\n",
      "[[92  0]\n",
      " [ 0 82]]\n"
     ]
    }
   ],
   "source": [
    "from xgboost import XGBClassifier\n",
    "\n",
    "predictors = [c for c in sensors.columns if c.startswith('sensor')]\n",
    "outcome = 'status'\n",
    "X = sensors[predictors]\n",
    "# Encode outcome as 0 (Fail) and 1 (Pass)\n",
    "y = np.array([1 if s == 'Pass' else 0 for s in sensors[outcome]])\n",
    "\n",
    "# Train the model\n",
    "xgb = XGBClassifier(objective='binary:logistic', subsample=.63,\n",
    "                    eval_metric='logloss', use_label_encoder=False)\n",
    "xgb.fit(X, y)\n",
    "\n",
    "# actual in rows / predicted in columns\n",
    "print('Confusion matrix')\n",
    "print(confusion_matrix(y, xgb.predict(X)))"
   ]
  },
  {
   "cell_type": "markdown",
   "id": "3950ded1",
   "metadata": {},
   "source": [
    "## Na\\\"ive Bayes Classifier"
   ]
  },
  {
   "cell_type": "code",
   "execution_count": 20,
   "id": "7425a928",
   "metadata": {
    "execution": {
     "iopub.execute_input": "2022-07-05T16:43:00.041943Z",
     "iopub.status.busy": "2022-07-05T16:43:00.041198Z",
     "iopub.status.idle": "2022-07-05T16:43:00.474942Z",
     "shell.execute_reply": "2022-07-05T16:43:00.474087Z"
    }
   },
   "outputs": [
    {
     "data": {
      "image/png": "[encoded data removed]",
      "text/plain": [
       "<Figure size 432x288 with 5 Axes>"
      ]
     },
     "metadata": {
      "needs_background": "light"
     },
     "output_type": "display_data"
    }
   ],
   "source": [
    "abc = mistat.load_data('ABC.csv')\n",
    "all_questions = [c for c in abc.columns if c.startswith('q')]\n",
    "abc[all_questions] = abc[all_questions].astype('category')\n",
    "\n",
    "questions = ['q1', 'q4', 'q5', 'q6', 'q7']\n",
    "q1_5 = (abc['q1'] == 5)\n",
    "\n",
    "fig, axes = plt.subplots(ncols=len(questions))\n",
    "for ax, question in zip(axes, questions):\n",
    "  response = abc[question]\n",
    "  df = pd.DataFrame([\n",
    "    {satisfaction: counts for satisfaction, counts\n",
    "      in response.value_counts().iteritems()},\n",
    "    {satisfaction: counts for satisfaction, counts\n",
    "      in response[q1_5].value_counts().iteritems()},\n",
    "  ])\n",
    "  df = df.transpose()  # flip columns and rows\n",
    "  # add rows of 0 for missing satisfaction\n",
    "  for s in range(6):\n",
    "    if s not in df.index:\n",
    "      df.loc[s] = [0, 0]\n",
    "  df = df.fillna(0)  # change missing values to 0\n",
    "  df = df.sort_index()  # the index contains the satisfaction\n",
    "  df.columns = ['counts', 'counts_q1_5']  # rename the columns\n",
    "  df['counts'].plot.barh(y='index', ax=ax, color='lightgrey')\n",
    "  df['counts_q1_5'].plot.barh(y='index', ax=ax, color='black')\n",
    "  ax.set_ylim(-0.5, 5.5)\n",
    "  ax.set_title(question)\n",
    "plt.tight_layout()\n",
    "plt.show()"
   ]
  },
  {
   "cell_type": "code",
   "execution_count": 21,
   "id": "ecbf4f5e",
   "metadata": {
    "execution": {
     "iopub.execute_input": "2022-07-05T16:43:00.477467Z",
     "iopub.status.busy": "2022-07-05T16:43:00.477261Z",
     "iopub.status.idle": "2022-07-05T16:43:00.546127Z",
     "shell.execute_reply": "2022-07-05T16:43:00.544926Z"
    }
   },
   "outputs": [],
   "source": [
    "predictors = list(all_questions)\n",
    "predictors.remove('q1')\n",
    "target = 'q1'\n",
    "# q1 has missing values - remove rows from dataset\n",
    "q1_missing = abc[target].isna()\n",
    "X = abc.loc[~q1_missing, predictors]\n",
    "y = abc.loc[~q1_missing, target]\n",
    "\n",
    "imp = SimpleImputer(missing_values=np.nan, strategy='most_frequent')\n",
    "X = imp.fit_transform(X)"
   ]
  },
  {
   "cell_type": "code",
   "execution_count": 22,
   "id": "79c1ff57",
   "metadata": {
    "execution": {
     "iopub.execute_input": "2022-07-05T16:43:00.549117Z",
     "iopub.status.busy": "2022-07-05T16:43:00.548875Z",
     "iopub.status.idle": "2022-07-05T16:43:00.557982Z",
     "shell.execute_reply": "2022-07-05T16:43:00.557167Z"
    }
   },
   "outputs": [
    {
     "name": "stdout",
     "output_type": "stream",
     "text": [
      "[[ 7  2  2  0  0]\n",
      " [ 3 14  4  4  0]\n",
      " [ 8  6 35 16  5]\n",
      " [ 9  1 12 66 30]\n",
      " [ 3  0  2 12 21]]\n",
      "0.5458015267175572\n"
     ]
    }
   ],
   "source": [
    "nb_model = MultinomialNB()\n",
    "nb_model.fit(X, y)\n",
    "print(confusion_matrix(y, nb_model.predict(X)))\n",
    "print(accuracy_score(y, nb_model.predict(X)))"
   ]
  },
  {
   "cell_type": "code",
   "execution_count": 23,
   "id": "2e00dd3c",
   "metadata": {
    "execution": {
     "iopub.execute_input": "2022-07-05T16:43:00.560509Z",
     "iopub.status.busy": "2022-07-05T16:43:00.560309Z",
     "iopub.status.idle": "2022-07-05T16:43:00.567409Z",
     "shell.execute_reply": "2022-07-05T16:43:00.566593Z"
    }
   },
   "outputs": [],
   "source": [
    "dt_model = DecisionTreeClassifier(ccp_alpha=0.014, random_state=0)\n",
    "_ = dt_model.fit(X, y)"
   ]
  },
  {
   "cell_type": "code",
   "execution_count": 24,
   "id": "9109c8d4",
   "metadata": {
    "execution": {
     "iopub.execute_input": "2022-07-05T16:43:00.570141Z",
     "iopub.status.busy": "2022-07-05T16:43:00.569863Z",
     "iopub.status.idle": "2022-07-05T16:43:00.576467Z",
     "shell.execute_reply": "2022-07-05T16:43:00.575739Z"
    }
   },
   "outputs": [
    {
     "name": "stdout",
     "output_type": "stream",
     "text": [
      "[[  8   3   0   0   0]\n",
      " [  1  19   4   1   0]\n",
      " [  2   4  51  13   0]\n",
      " [  1   2  13 102   0]\n",
      " [  0   0   0  19  19]]\n",
      "0.7595419847328244\n"
     ]
    }
   ],
   "source": [
    "print(confusion_matrix(y, dt_model.predict(X)))\n",
    "print(accuracy_score(y, dt_model.predict(X)))"
   ]
  },
  {
   "cell_type": "code",
   "execution_count": 25,
   "id": "e6e105d2",
   "metadata": {
    "execution": {
     "iopub.execute_input": "2022-07-05T16:43:00.578740Z",
     "iopub.status.busy": "2022-07-05T16:43:00.578529Z",
     "iopub.status.idle": "2022-07-05T16:43:00.697001Z",
     "shell.execute_reply": "2022-07-05T16:43:00.695927Z"
    }
   },
   "outputs": [],
   "source": [
    "rf_model = RandomForestClassifier(ccp_alpha=0.014, random_state=0)\n",
    "_ = rf_model.fit(X, y)"
   ]
  },
  {
   "cell_type": "code",
   "execution_count": 26,
   "id": "e1b79ca1",
   "metadata": {
    "execution": {
     "iopub.execute_input": "2022-07-05T16:43:00.699848Z",
     "iopub.status.busy": "2022-07-05T16:43:00.699647Z",
     "iopub.status.idle": "2022-07-05T16:43:00.727136Z",
     "shell.execute_reply": "2022-07-05T16:43:00.725962Z"
    }
   },
   "outputs": [
    {
     "name": "stdout",
     "output_type": "stream",
     "text": [
      "[[  4   2   4   1   0]\n",
      " [  0  14   8   3   0]\n",
      " [  0   0  64   6   0]\n",
      " [  0   0   1 116   1]\n",
      " [  0   0   0  14  24]]\n",
      "0.8473282442748091\n"
     ]
    }
   ],
   "source": [
    "print(confusion_matrix(y, rf_model.predict(X)))\n",
    "print(accuracy_score(y, rf_model.predict(X)))"
   ]
  },
  {
   "cell_type": "code",
   "execution_count": 27,
   "id": "3b1ef172",
   "metadata": {
    "execution": {
     "iopub.execute_input": "2022-07-05T16:43:00.730481Z",
     "iopub.status.busy": "2022-07-05T16:43:00.730234Z",
     "iopub.status.idle": "2022-07-05T16:43:01.107939Z",
     "shell.execute_reply": "2022-07-05T16:43:01.106962Z"
    }
   },
   "outputs": [
    {
     "data": {
      "image/png": "[encoded data removed]",
      "text/plain": [
       "<Figure size 576x216 with 3 Axes>"
      ]
     },
     "metadata": {
      "needs_background": "light"
     },
     "output_type": "display_data"
    }
   ],
   "source": [
    "fig, axes = plt.subplots(ncols=3, figsize=(8, 3))\n",
    "axes[0].set_title(f'Naive Bayes {accuracy_score(y, nb_model.predict(X)):.2f}')\n",
    "ConfusionMatrixDisplay.from_estimator(nb_model, X, y, ax=axes[0],\n",
    "  cmap=plt.cm.Greys, colorbar=False)\n",
    "axes[1].set_title(f'Decision tree {accuracy_score(y, dt_model.predict(X)):.2f}')\n",
    "ConfusionMatrixDisplay.from_estimator(dt_model, X, y, ax=axes[1],\n",
    "  cmap=plt.cm.Greys, colorbar=False)\n",
    "axes[2].set_title(f'Random forest {accuracy_score(y, rf_model.predict(X)):.2f}')\n",
    "ConfusionMatrixDisplay.from_estimator(rf_model, X, y, ax=axes[2],\n",
    "  cmap=plt.cm.Greys, colorbar=False)\n",
    "plt.tight_layout()\n",
    "plt.show()"
   ]
  },
  {
   "cell_type": "markdown",
   "id": "cad30c30",
   "metadata": {},
   "source": [
    "## Neural Networks"
   ]
  },
  {
   "cell_type": "code",
   "execution_count": 28,
   "id": "b496e1a0",
   "metadata": {
    "execution": {
     "iopub.execute_input": "2022-07-05T16:43:01.111326Z",
     "iopub.status.busy": "2022-07-05T16:43:01.111046Z",
     "iopub.status.idle": "2022-07-05T16:43:01.222960Z",
     "shell.execute_reply": "2022-07-05T16:43:01.221977Z"
    }
   },
   "outputs": [],
   "source": [
    "abc = mistat.load_data('ABC.csv')\n",
    "all_questions = [c for c in abc.columns if c.startswith('q')]\n",
    "abc[all_questions] = abc[all_questions].astype('category')\n",
    "predictors = list(all_questions)\n",
    "predictors.remove('q1')\n",
    "target = 'q1'\n",
    "# q1 has missing values - remove rows from dataset\n",
    "q1_missing = abc[target].isna()\n",
    "X = abc.loc[~q1_missing, predictors]\n",
    "y = abc.loc[~q1_missing, target]\n",
    "\n",
    "imp = SimpleImputer(missing_values=np.nan, strategy='most_frequent')\n",
    "X = imp.fit_transform(X)"
   ]
  },
  {
   "cell_type": "code",
   "execution_count": 29,
   "id": "ac29db28",
   "metadata": {
    "execution": {
     "iopub.execute_input": "2022-07-05T16:43:01.225726Z",
     "iopub.status.busy": "2022-07-05T16:43:01.225535Z",
     "iopub.status.idle": "2022-07-05T16:43:01.576161Z",
     "shell.execute_reply": "2022-07-05T16:43:01.574705Z"
    }
   },
   "outputs": [
    {
     "data": {
      "image/png": "[encoded data removed]",
      "text/plain": [
       "<Figure size 432x288 with 1 Axes>"
      ]
     },
     "metadata": {
      "needs_background": "light"
     },
     "output_type": "display_data"
    }
   ],
   "source": [
    "# scale predictor variables to interval (0, 1)\n",
    "X = MinMaxScaler().fit_transform(X)\n",
    "\n",
    "clf = MLPClassifier(hidden_layer_sizes=(4, ), activation='logistic',\n",
    "                    solver='lbfgs', max_iter=1000,\n",
    "                    random_state=1)\n",
    "clf.fit(X, y)\n",
    "# clf.predict(X)\n",
    "fig, ax = plt.subplots()\n",
    "ConfusionMatrixDisplay.from_estimator(clf, X, y, ax=ax,\n",
    "  cmap=plt.cm.Greys, colorbar=False)\n",
    "\n",
    "ax.set_title(f'Neural network {accuracy_score(y, clf.predict(X)):.2f}')\n",
    "plt.tight_layout()"
   ]
  },
  {
   "cell_type": "markdown",
   "id": "64b137af",
   "metadata": {},
   "source": [
    "## Clustering Methods"
   ]
  },
  {
   "cell_type": "markdown",
   "id": "4325e88f",
   "metadata": {},
   "source": [
    "### Hierarchical Clustering"
   ]
  },
  {
   "cell_type": "code",
   "execution_count": 30,
   "id": "6cc2b3f1",
   "metadata": {
    "execution": {
     "iopub.execute_input": "2022-07-05T16:43:01.579678Z",
     "iopub.status.busy": "2022-07-05T16:43:01.579455Z",
     "iopub.status.idle": "2022-07-05T16:43:02.511934Z",
     "shell.execute_reply": "2022-07-05T16:43:02.511040Z"
    }
   },
   "outputs": [
    {
     "data": {
      "image/png": "[encoded data removed]",
      "text/plain": [
       "<Figure size 432x288 with 1 Axes>"
      ]
     },
     "metadata": {
      "needs_background": "light"
     },
     "output_type": "display_data"
    }
   ],
   "source": [
    "from sklearn.cluster import AgglomerativeClustering\n",
    "from sklearn.preprocessing import StandardScaler\n",
    "from mistat import plot_dendrogram\n",
    "\n",
    "almpin = mistat.load_data('ALMPIN.csv')\n",
    "\n",
    "scaler = StandardScaler()\n",
    "model = AgglomerativeClustering(distance_threshold=0, n_clusters=None)\n",
    "\n",
    "X = scaler.fit_transform(almpin)\n",
    "model = model.fit(X)\n",
    "\n",
    "fig, ax = plt.subplots()\n",
    "plot_dendrogram(model, ax=ax)\n",
    "ax.set_title('Dendrogram')\n",
    "plt.show()"
   ]
  },
  {
   "cell_type": "markdown",
   "id": "fb0f41c6",
   "metadata": {},
   "source": [
    "### $K$-means Clustering"
   ]
  },
  {
   "cell_type": "code",
   "execution_count": 31,
   "id": "82939371",
   "metadata": {
    "execution": {
     "iopub.execute_input": "2022-07-05T16:43:02.515211Z",
     "iopub.status.busy": "2022-07-05T16:43:02.514923Z",
     "iopub.status.idle": "2022-07-05T16:43:02.592499Z",
     "shell.execute_reply": "2022-07-05T16:43:02.591900Z"
    }
   },
   "outputs": [
    {
     "name": "stdout",
     "output_type": "stream",
     "text": [
      "Cluster membership (first two data points)\n",
      "[1 8]\n",
      "\n",
      "Distance to cluster center (first two data points)\n"
     ]
    },
    {
     "data": {
      "text/plain": [
       "array([[3.33269867, 1.04495283, 9.69783046, 2.48008435, 5.57643458,\n",
       "        3.98844284, 3.77738831, 2.52221759, 2.4300689 ],\n",
       "       [5.66992727, 2.7429881 , 7.9467812 , 4.78497545, 7.75144534,\n",
       "        4.68141833, 5.77196141, 4.89153706, 0.4705252 ]])"
      ]
     },
     "execution_count": 31,
     "metadata": {},
     "output_type": "execute_result"
    }
   ],
   "source": [
    "from sklearn.cluster import KMeans\n",
    "\n",
    "almpin = mistat.load_data('ALMPIN.csv')\n",
    "\n",
    "scaler = StandardScaler()\n",
    "X = scaler.fit_transform(almpin)\n",
    "model = KMeans(n_clusters=9, random_state=1).fit(X)\n",
    "print('Cluster membership (first two data points)')\n",
    "print(model.predict(X)[:2])\n",
    "print()\n",
    "print('Distance to cluster center (first two data points)')\n",
    "model.transform(X)[:2,:]"
   ]
  },
  {
   "cell_type": "code",
   "execution_count": 32,
   "id": "9069a465",
   "metadata": {
    "execution": {
     "iopub.execute_input": "2022-07-05T16:43:02.595518Z",
     "iopub.status.busy": "2022-07-05T16:43:02.594790Z",
     "iopub.status.idle": "2022-07-05T16:43:02.764868Z",
     "shell.execute_reply": "2022-07-05T16:43:02.764278Z"
    }
   },
   "outputs": [
    {
     "data": {
      "image/png": "[encoded data removed]",
      "text/plain": [
       "<Figure size 432x288 with 1 Axes>"
      ]
     },
     "metadata": {
      "needs_background": "light"
     },
     "output_type": "display_data"
    }
   ],
   "source": [
    "from sklearn.decomposition import PCA\n",
    "from scipy.spatial import ConvexHull\n",
    "\n",
    "# use PCA to map the dataset into a 2D space\n",
    "pca = PCA(n_components=2).fit(X)\n",
    "coord = pca.transform(X)\n",
    "\n",
    "fig, ax = plt.subplots()\n",
    "df = pd.DataFrame({'x': coord[:,0], 'y': coord[:,1],\n",
    "                   'cluster': model.predict(X)})\n",
    "colors = [f'C{i}' for i in model.predict(X)]\n",
    "ax.scatter(df.x, df.y, color=[f'C{cl}' for cl in df.cluster])\n",
    "\n",
    "from matplotlib.patches import Polygon\n",
    "for cl, x in df.groupby('cluster'):\n",
    "  x = x.values[:, :2]\n",
    "  cent = np.mean(x, axis=0)\n",
    "  if len(x) == 1:\n",
    "    pass\n",
    "  elif len(x) == 2:\n",
    "    ax.plot(x[:,0], x[:,1], color='black', alpha=0.5)\n",
    "  else:\n",
    "    hull = ConvexHull(x)\n",
    "    pts = []\n",
    "    for pt in x[hull.simplices]:\n",
    "        pts.append(pt[0].tolist())\n",
    "        pts.append(pt[1].tolist())\n",
    "\n",
    "    pts.sort(key=lambda p: np.arctan2(p[1] - cent[1],\n",
    "                                    p[0] - cent[0]))\n",
    "    pts = pts[0::2]  # Deleting duplicates\n",
    "    pts.insert(len(pts), pts[0])\n",
    "    k = 1.1\n",
    "    color = 'green'\n",
    "    poly = Polygon(k*(np.array(pts)- cent) + cent, edgecolor='black',\n",
    "                   facecolor=f'C{cl}', alpha=0.5)\n",
    "    poly.set_capstyle('round')\n",
    "    ax.add_patch(poly)\n",
    "  ax.text(*cent, f'{cl}', fontsize='x-large')\n",
    "plt.show()"
   ]
  },
  {
   "cell_type": "markdown",
   "id": "f1678df8",
   "metadata": {},
   "source": [
    "### Cluster Number Selection"
   ]
  },
  {
   "cell_type": "code",
   "execution_count": 33,
   "id": "c8e432d9",
   "metadata": {
    "execution": {
     "iopub.execute_input": "2022-07-05T16:43:02.768352Z",
     "iopub.status.busy": "2022-07-05T16:43:02.767422Z",
     "iopub.status.idle": "2022-07-05T16:43:03.109856Z",
     "shell.execute_reply": "2022-07-05T16:43:03.109395Z"
    }
   },
   "outputs": [
    {
     "data": {
      "image/png": "[encoded data removed]",
      "text/plain": [
       "<Figure size 432x288 with 1 Axes>"
      ]
     },
     "metadata": {
      "needs_background": "light"
     },
     "output_type": "display_data"
    }
   ],
   "source": [
    "inertia = []\n",
    "\n",
    "for n_clusters in range(1, 15):\n",
    "    kmeans = KMeans(n_clusters=n_clusters, random_state=0).fit(X)\n",
    "    inertia.append(kmeans.inertia_ / n_clusters)\n",
    "inertias = pd.DataFrame({'n_clusters': range(1, 15), 'inertia': inertia})\n",
    "\n",
    "ax = inertias.plot(x='n_clusters', y='inertia')\n",
    "ax.set_xlabel(r'Number of clusters ($K$)')\n",
    "ax.set_ylabel('Average within-cluster\\nsum of squared distances (WSS)')\n",
    "ax.set_ylim((0, 1.1 * inertias.inertia.max()))\n",
    "ax.legend().set_visible(False)\n",
    "plt.show()"
   ]
  },
  {
   "cell_type": "code",
   "execution_count": 34,
   "id": "73d78d86",
   "metadata": {
    "execution": {
     "iopub.execute_input": "2022-07-05T16:43:03.113145Z",
     "iopub.status.busy": "2022-07-05T16:43:03.112482Z",
     "iopub.status.idle": "2022-07-05T16:43:03.582781Z",
     "shell.execute_reply": "2022-07-05T16:43:03.582238Z"
    }
   },
   "outputs": [
    {
     "data": {
      "image/png": "[encoded data removed]",
      "text/plain": [
       "<Figure size 432x288 with 1 Axes>"
      ]
     },
     "metadata": {
      "needs_background": "light"
     },
     "output_type": "display_data"
    }
   ],
   "source": [
    "from sklearn import metrics\n",
    "\n",
    "ss = []\n",
    "range_n_clusters = list(range(2, 15))\n",
    "for n_clusters in range_n_clusters:\n",
    "   clusterer = KMeans(n_clusters = n_clusters, random_state=1)\n",
    "   cluster_labels = clusterer.fit_predict(X)\n",
    "\n",
    "   score = metrics.davies_bouldin_score(X, cluster_labels)\n",
    "   ss.append(score)\n",
    "opt_index = np.argmin(ss)\n",
    "\n",
    "fig, ax = plt.subplots()\n",
    "ax.plot(range_n_clusters, ss,'-', color='black')\n",
    "ax.scatter(range_n_clusters[opt_index], ss[opt_index], color='red')\n",
    "ax.set_xlabel(r'Number of cluster ($K$)')\n",
    "ax.set_ylabel('Davies-Bouldin index')\n",
    "plt.show()"
   ]
  },
  {
   "cell_type": "markdown",
   "id": "9e763115",
   "metadata": {},
   "source": [
    "## Chapter Highlights"
   ]
  },
  {
   "cell_type": "markdown",
   "id": "23d90ea0",
   "metadata": {},
   "source": [
    "## Exercises"
   ]
  }
 ],
 "metadata": {
  "language_info": {
   "codemirror_mode": {
    "name": "ipython",
    "version": 3
   },
   "file_extension": ".py",
   "mimetype": "text/x-python",
   "name": "python",
   "nbconvert_exporter": "python",
   "pygments_lexer": "ipython3",
   "version": "3.9.13"
  }
 },
 "nbformat": 4,
 "nbformat_minor": 5
}
