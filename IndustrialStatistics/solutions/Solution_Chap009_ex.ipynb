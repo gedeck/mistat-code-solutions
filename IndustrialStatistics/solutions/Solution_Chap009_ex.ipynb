{
 "cells": [
  {
   "cell_type": "markdown",
   "id": "c1145739",
   "metadata": {},
   "source": [
    "# Exercise Chapter 9 \n",
    "Industrial Statistics: A Computer Based Approach with Python<br>\n",
    "by Ron Kenett, Shelemyahu Zacks, Peter Gedeck\n",
    "\n",
    "Publisher: Springer International Publishing; 1st edition (2023) <br>\n",
    "<!-- ISBN-13: 978-3031075650 -->\n",
    "\n",
    "(c) 2022 Ron Kenett, Shelemyahu Zacks, Peter Gedeck\n",
    "\n",
    "The code needs to be executed in sequence."
   ]
  },
  {
   "cell_type": "code",
   "execution_count": null,
   "id": "3475ff81",
   "metadata": {},
   "outputs": [],
   "source": [
    "import os\n",
    "os.environ['OUTDATED_IGNORE'] = '1'\n",
    "import warnings\n",
    "from outdated import OutdatedPackageWarning\n",
    "warnings.filterwarnings('ignore', category=FutureWarning)\n",
    "warnings.filterwarnings('ignore', category=OutdatedPackageWarning)"
   ]
  },
  {
   "cell_type": "code",
   "execution_count": null,
   "id": "a95d8fdc",
   "metadata": {},
   "outputs": [],
   "source": [
    "import numpy as np\n",
    "import pandas as pd\n",
    "from scipy import stats\n",
    "import statsmodels.formula.api as smf\n",
    "import lifelines\n",
    "import pingouin as pg\n",
    "import seaborn as sns\n",
    "import matplotlib.pyplot as plt\n",
    "import mistat"
   ]
  },
  {
   "cell_type": "markdown",
   "id": "b79800c1",
   "metadata": {},
   "source": [
    "# Exercise 6"
   ]
  },
  {
   "cell_type": "code",
   "execution_count": null,
   "id": "16057b1a",
   "metadata": {},
   "outputs": [],
   "source": [
    "def labeledBox(ax, corner, sides, label):\n",
    "    corner = list(corner)\n",
    "    corner[1] = corner[1] - sides[1]/2\n",
    "    ax.add_patch(patch.Rectangle(corner, *sides, facecolor='white', edgecolor=\"black\", zorder=10))\n",
    "    ax.annotate(label, (corner[0] + sides[0] / 2, corner[1] + sides[1] / 2), color='black',\n",
    "                    fontsize=14, ha='center', va='center', zorder=11)\n",
    "\n",
    "import matplotlib.patches as patch\n",
    "fig, ax = plt.subplots(figsize=[6, 4])\n",
    "\n",
    "x1 = 1; yM1 = 3; yM2 = 2\n",
    "x3 = x1 + 6\n",
    "ax.plot((0, x1), (0, 0), color='black')\n",
    "ax.plot((x1, x1), (-yM2, yM1), color='black')\n",
    "ax.plot((x3, x3), (-yM2, yM1), color='black')\n",
    "ax.plot((x3, x3 + 3), (0, 0), color='black')\n",
    "# M1\n",
    "x2 = 3; y1 = yM1\n",
    "ax.plot((x1, x3), (y1, y1), color='black')\n",
    "ax.plot((x2, x2), (y1+2, y1-2), color='black')\n",
    "ax.plot((x2, x2+3), (y1+2, y1+2), color='black')\n",
    "ax.plot((x2, x2+3), (y1-2, y1-2), color='black')\n",
    "ax.plot((x2+3, x2+3), (y1+2, y1-2), color='black')\n",
    "xb = 4\n",
    "labeledBox(ax, (xb, y1+2), (1, 1), r'$R_1$')\n",
    "labeledBox(ax, (xb, y1), (1, 1), r'$R_2$')\n",
    "labeledBox(ax, (xb, y1-2), (1, 1), r'$R_3$')\n",
    "# M2\n",
    "ax.plot((x1, x3), (-yM2, -yM2), color='black')\n",
    "labeledBox(ax, (x1+2, -yM2), (1, 1), r'$R_4$')\n",
    "labeledBox(ax, (x1+4, -yM2), (1, 1), r'$R_5$')\n",
    "\n",
    "labeledBox(ax, (x1+7, 0), (1, 1), r'$R_6$')\n",
    "\n",
    "corner = [2.5, -3]; sides=[4, 2]\n",
    "ax.add_patch(patch.Rectangle(corner, *sides, facecolor='none', edgecolor=\"grey\", zorder=-1))\n",
    "corner = [2.5, 0]; sides=[4, 6]\n",
    "ax.add_patch(patch.Rectangle(corner, *sides, facecolor='none', edgecolor=\"grey\", zorder=-1))\n",
    "ax.annotate('M1', (2,5.5), color='black',\n",
    "          fontsize=14, ha='center', va='center', zorder=11)\n",
    "ax.annotate('M2', (2,-1.5), color='black',\n",
    "          fontsize=14, ha='center', va='center', zorder=11)\n",
    "\n",
    "ax.set_ylim(-3.5, 6.5)\n",
    "plt.axis('off')\n",
    "plt.show()"
   ]
  },
  {
   "cell_type": "markdown",
   "id": "e6fe7883",
   "metadata": {},
   "source": [
    "# Exercise 19"
   ]
  },
  {
   "cell_type": "code",
   "execution_count": null,
   "id": "289a3852",
   "metadata": {},
   "outputs": [],
   "source": [
    "np.random.seed(1)\n",
    "n = 100\n",
    "lnTi = np.log(sorted(stats.weibull_min(2.5, scale=10).rvs(n)))\n",
    "Wi = [np.log(-np.log(1 - i / (n+1))) for i in range(1, n + 1)]\n",
    "df = pd.DataFrame({'Wi': Wi, 'lnTi': lnTi})\n",
    "model = smf.ols('lnTi ~ Wi + 1', data=df).fit()\n",
    "print(model.params)\n",
    "intercept, slope = model.params\n",
    "fig, ax = plt.subplots(figsize=(4, 4))\n",
    "ax.plot((Wi[0], Wi[-1]),\n",
    "        (slope * Wi[0] + intercept, slope * Wi[-1] + intercept),\n",
    "        color='grey')\n",
    "ax.scatter(Wi, lnTi, color='black')\n",
    "ax.set_xlabel(r'$W_{(i)}$')\n",
    "ax.set_ylabel(r'$\\ln(T_i)$')\n",
    "plt.show()"
   ]
  },
  {
   "cell_type": "code",
   "execution_count": null,
   "id": "87d9b7a3",
   "metadata": {},
   "outputs": [],
   "source": [
    "beta = np.exp(intercept)\n",
    "nu = 1 / slope\n",
    "print(f'beta {beta:.3f}, nu {nu:.3f}')"
   ]
  },
  {
   "cell_type": "markdown",
   "id": "07205b15",
   "metadata": {},
   "source": [
    "# Exercise 20"
   ]
  },
  {
   "cell_type": "code",
   "execution_count": null,
   "id": "e024e794",
   "metadata": {},
   "outputs": [],
   "source": [
    "Xi = [94.9, 106.9, 229.7, 275.7, 144.5, 112.8, 159.3, 153.1,\n",
    "        270.6, 322.0, 216.4, 544.6, 266.2, 263.6, 138.5, 79.0,\n",
    "        114.6, 66.1, 131.2, 91.1]\n",
    "n = len(Xi)\n",
    "Zi = [stats.norm().ppf((i - 3/8)/(n + 1/4)) for i in range(1, n+1)]\n",
    "\n",
    "df = pd.DataFrame({'Zi': Zi, 'lnXi': np.log(sorted(Xi))})\n",
    "model = smf.ols('lnXi ~ Zi + 1', data=df).fit()\n",
    "\n",
    "intercept, slope = model.params\n",
    "fig, ax = plt.subplots(figsize=(4, 4))\n",
    "ax.plot((Zi[0], Zi[-1]),\n",
    "        (slope * Zi[0] + intercept, slope * Zi[-1] + intercept),\n",
    "        color='grey')\n",
    "ax.scatter(Zi, df['lnXi'], color='black')\n",
    "ax.set_xlabel(r'$Z_{(i)}$')\n",
    "ax.set_ylabel(r'$\\ln(X_(i))$')\n",
    "plt.show()"
   ]
  },
  {
   "cell_type": "code",
   "execution_count": null,
   "id": "8b488432",
   "metadata": {},
   "outputs": [],
   "source": [
    "print(model.summary2())"
   ]
  },
  {
   "cell_type": "code",
   "execution_count": null,
   "id": "1109644d",
   "metadata": {},
   "outputs": [],
   "source": [
    "mu = intercept\n",
    "sigma = slope\n",
    "print(f'mu {mu:.3f}, sigma {sigma:.3f}')"
   ]
  },
  {
   "cell_type": "markdown",
   "id": "b2f2a551",
   "metadata": {},
   "source": [
    "# Exercise 21"
   ]
  },
  {
   "cell_type": "code",
   "execution_count": null,
   "id": "ab2f6617",
   "metadata": {},
   "outputs": [],
   "source": [
    "np.random.seed(1)\n",
    "data = [13, 157, 172, 176, 249, 303, 350, 400, 400]\n",
    "n = len(data)\n",
    "lnTi = np.log(data)\n",
    "Wi = [np.log(-np.log(1 - i / (n+1))) for i in range(1, n + 1)]\n",
    "# exclude the censored data for the regression analysis\n",
    "df = pd.DataFrame({'Wi': Wi[:7], 'lnTi': lnTi[:7]})\n",
    "model = smf.ols('lnTi ~ Wi + 1', data=df).fit()\n",
    "print(model.params)\n",
    "intercept, slope = model.params\n",
    "fig, ax = plt.subplots(figsize=(4, 4))\n",
    "ax.plot((Wi[0], Wi[-1]),\n",
    "        (slope * Wi[0] + intercept, slope * Wi[-1] + intercept),\n",
    "        color='grey')\n",
    "ax.scatter(Wi[:-2], lnTi[:-2], color='black')\n",
    "ax.scatter(Wi[-2:], lnTi[-2:], color='lightgrey')\n",
    "ax.set_xlabel(r'$W_{(i)}$')\n",
    "ax.set_ylabel(r'$\\ln(T_i)$')\n",
    "plt.show()"
   ]
  },
  {
   "cell_type": "markdown",
   "id": "5f8c8ed5",
   "metadata": {},
   "source": [
    "# Exercise 22"
   ]
  },
  {
   "cell_type": "code",
   "execution_count": null,
   "id": "acb035bb",
   "metadata": {},
   "outputs": [],
   "source": [
    "elecfail = mistat.load_data('ELECFAIL.csv')\n",
    "\n",
    "kmf = lifelines.KaplanMeierFitter()\n",
    "kmf.fit(elecfail)\n",
    "kmf.plot_survival_function()"
   ]
  },
  {
   "cell_type": "markdown",
   "id": "4f4434c5",
   "metadata": {},
   "source": [
    "# Exercise 23"
   ]
  },
  {
   "cell_type": "code",
   "execution_count": null,
   "id": "8e25ebef",
   "metadata": {},
   "outputs": [],
   "source": [
    "elecfail = mistat.load_data('ELECFAIL.csv')\n",
    "\n",
    "kmf = lifelines.ExponentialFitter()\n",
    "kmf.fit(elecfail)\n",
    "kmf.print_summary()"
   ]
  },
  {
   "cell_type": "markdown",
   "id": "1fcd1cee",
   "metadata": {},
   "source": [
    "# Exercise 24"
   ]
  },
  {
   "cell_type": "code",
   "execution_count": null,
   "id": "de5e3b6f",
   "metadata": {},
   "outputs": [],
   "source": [
    "T = [96.88, 154.24, 67.44, 191.72, 173.36, 200, 140.81, 200,\n",
    "     154.71, 120.73, 24.29, 10.95, 2.36, 186.93, 57.61, 99.13,\n",
    "     32.74, 200, 39.77, 39.52]\n",
    "E = [ti < 200 for ti in T]\n",
    "\n",
    "kmf = lifelines.ExponentialFitter()\n",
    "kmf.fit(T, E)\n",
    "kmf.print_summary()"
   ]
  },
  {
   "cell_type": "markdown",
   "id": "bf0fea85",
   "metadata": {},
   "source": [
    "# Exercise 26"
   ]
  },
  {
   "cell_type": "code",
   "execution_count": null,
   "id": "97f7041b",
   "metadata": {},
   "outputs": [],
   "source": [
    "T = mistat.load_data('WEIBUL.csv')\n",
    "\n",
    "kmf = lifelines.WeibullFitter()\n",
    "kmf.fit(T)\n",
    "kmf.print_summary()"
   ]
  },
  {
   "cell_type": "code",
   "execution_count": null,
   "id": "b8a29304",
   "metadata": {},
   "outputs": [],
   "source": [
    "n_boot=5\n",
    "idx = list(range(len(T)))\n",
    "def stat_func(x):\n",
    "    epf = lifelines.WeibullFitter().fit(T[x])\n",
    "    return epf.params_['lambda_']\n",
    "\n",
    "ci, dist = pg.compute_bootci(idx, func=stat_func, n_boot=n_boot, confidence=0.95,\n",
    "                             method='per', seed=1, return_dist=True)\n",
    "print(f'std(beta): {np.std(dist)}')\n",
    "\n",
    "def stat_func(x):\n",
    "    epf = lifelines.WeibullFitter().fit(T[x])\n",
    "    return epf.params_['rho_']\n",
    "ci, dist = pg.compute_bootci(idx, func=stat_func, n_boot=n_boot, confidence=0.95,\n",
    "                             method='per', seed=1, return_dist=True)\n",
    "print(f'nu(std): {np.std(dist)}')"
   ]
  },
  {
   "cell_type": "markdown",
   "id": "59d622c2",
   "metadata": {},
   "source": [
    "# Exercise 31"
   ]
  },
  {
   "cell_type": "code",
   "execution_count": null,
   "id": "5a1d4b72",
   "metadata": {},
   "outputs": [],
   "source": [
    "factor = 0.01*np.exp(-300/500) + 0.99*np.exp(-300/1000)\n",
    "integral = 0.01*500*np.exp(-300/500) + 0.99*1000*np.exp(-300/1000)\n",
    "with_burn_in = 300 + integral/factor\n",
    "no_burn_in = 0.01 * 500 + 0.99 * 1000\n",
    "with_burn_in - no_burn_in"
   ]
  }
 ],
 "metadata": {},
 "nbformat": 4,
 "nbformat_minor": 5
}
