{
 "cells": [
  {
   "cell_type": "code",
   "execution_count": null,
   "id": "276f01a9",
   "metadata": {},
   "outputs": [],
   "source": [
    "# Chapter 2 \n",
    " Modern Statistics: A Computer Based Approach with Python<br>\n",
    "by Ron Kenett, Shelemyahu Zacks, Peter Gedeck\n",
    "\n",
    "Publisher: Springer International Publishing; 1st edition (September 15, 2022) <br>\n",
    "ISBN-13: 978-3031075650\n",
    "\n",
    "(c) 2022 Ron Kenett, Shelemyahu Zacks, Peter Gedeck\n",
    "\n",
    "The code needs to be executed in sequence.\n",
    "\n",
    "Python packages and Python itself change over time. This can cause warnings or errors. We\n",
    "\"Warnings\" are for information only and can usually be ignored. \n",
    "\"Errors\" will stop execution and need to be fixed in order to get results. \n",
    "\n",
    "If you come across an issue with the code, please follow these steps\n",
    "\n",
    "- Check the repository (https://gedeck.github.io/mistat-code-solutions/) to see if the code has been upgraded. This might solve the problem.\n",
    "- Check the errata at (https://gedeck.github.io/mistat-code-solutions/ModernStatistics/) and the issue tracker at https://github.com/gedeck/mistat-code-solutions/issues to see if the issue is known and a solution available.\n",
    "- Report the problem using the issue tracker at https://github.com/gedeck/mistat-code-solutions/issues\n",
    "- Paste the error message into Google and see if someone else already found a solution"
   ]
  },
  {
   "cell_type": "markdown",
   "id": "42414d7c",
   "metadata": {},
   "source": [
    "- [Chapter 2](Chap002.ipynb)\n",
    "- [Chapter 2](Chap002.ipynb)\n",
    "- [Chapter 2](Chap002.ipynb)\n",
    "- [Chapter 2](Chap002.ipynb)\n",
    "- [Chapter 2](Chap002.ipynb)\n",
    "- [Chapter 2](Chap002.ipynb)\n",
    "- [Chapter 2](Chap002.ipynb)\n",
    "- [Chapter 2](Chap002.ipynb)\n",
    "- [Chapter 2](Chap002.ipynb)"
   ]
  }
 ],
 "metadata": {
  "kernelspec": {
   "display_name": "Python 3 (ipykernel)",
   "language": "python",
   "name": "python3"
  },
  "language_info": {
   "codemirror_mode": {
    "name": "ipython",
    "version": 3
   },
   "file_extension": ".py",
   "mimetype": "text/x-python",
   "name": "python",
   "nbconvert_exporter": "python",
   "pygments_lexer": "ipython3",
   "version": "3.10.9"
  }
 },
 "nbformat": 4,
 "nbformat_minor": 5
}
