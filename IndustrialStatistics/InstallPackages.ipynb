{
 "cells": [
  {
   "cell_type": "markdown",
   "id": "96cb7561-5d9e-4e8c-bbba-9ce44ab8715c",
   "metadata": {},
   "source": [
    "# Install required packages\n",
    "_Industrial Statistics: A Computer Based Approach with Python<br>\n",
    "by Ron Kenett, Shelemyahu Zacks, Peter Gedeck_\n",
    "\n",
    "> Publisher: Springer International Publishing; 1st edition (August 5, 2023) <br>\n",
    "ISBN-13: 978-3-031-28481-6\n",
    "\n",
    "> (c) 2023 Ron Kenett, Shelemyahu Zacks, Peter Gedeck\n",
    "\n",
    "Use the following commands to install all required packages to run the code in this book."
   ]
  },
  {
   "cell_type": "code",
   "execution_count": null,
   "id": "91e8ea63-fa2c-49be-b64f-94ad1c44f104",
   "metadata": {},
   "outputs": [],
   "source": [
    "pip install matplotlib numpy pandas scipy statsmodels seaborn pingouin lifelines dtreeviz svglib pwlf pyDOE3 diversipy pylibkriging inspyred"
   ]
  },
  {
   "cell_type": "markdown",
   "id": "0e6a1ab2",
   "metadata": {},
   "source": [
    "To instal `pymc` follow the instructions at [https://www.pymc.io/]()."
   ]
  },
  {
   "cell_type": "code",
   "execution_count": null,
   "id": "6ed54ec7",
   "metadata": {},
   "outputs": [],
   "source": [
    "pip install pymc arviz aesara"
   ]
  }
 ],
 "metadata": {
  "kernelspec": {
   "display_name": "Python 3 (ipykernel)",
   "language": "python",
   "name": "python3"
  },
  "language_info": {
   "codemirror_mode": {
    "name": "ipython",
    "version": 3
   },
   "file_extension": ".py",
   "mimetype": "text/x-python",
   "name": "python",
   "nbconvert_exporter": "python",
   "pygments_lexer": "ipython3",
   "version": "3.10.9"
  }
 },
 "nbformat": 4,
 "nbformat_minor": 5
}
