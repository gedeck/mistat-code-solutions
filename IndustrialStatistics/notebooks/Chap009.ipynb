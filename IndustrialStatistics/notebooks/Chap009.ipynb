{
 "cells": [
  {
   "cell_type": "markdown",
   "id": "5453a4cb",
   "metadata": {},
   "source": [
    "# Chapter 9 \n",
    " Industrial Statistics: A Computer Based Approach with Python<br>\n",
    "by Ron Kenett, Shelemyahu Zacks, Peter Gedeck\n",
    "\n",
    "Publisher: Springer International Publishing; 1st edition (2023) <br>\n",
    "<!-- ISBN-13: 978-3031075650 -->\n",
    "\n",
    "(c) 2022 Ron Kenett, Shelemyahu Zacks, Peter Gedeck\n",
    "\n",
    "The code needs to be executed in sequence."
   ]
  },
  {
   "cell_type": "code",
   "execution_count": null,
   "id": "bdec1f89",
   "metadata": {},
   "outputs": [],
   "source": [
    "import os\n",
    "os.environ['OUTDATED_IGNORE'] = '1'\n",
    "import warnings\n",
    "from outdated import OutdatedPackageWarning\n",
    "warnings.filterwarnings('ignore', category=FutureWarning)\n",
    "warnings.filterwarnings('ignore', category=OutdatedPackageWarning)"
   ]
  },
  {
   "cell_type": "markdown",
   "id": "8a83a874",
   "metadata": {},
   "source": [
    "# Reliability Analysis"
   ]
  },
  {
   "cell_type": "code",
   "execution_count": null,
   "id": "279b536e",
   "metadata": {},
   "outputs": [],
   "source": [
    "import random\n",
    "import pandas as pd\n",
    "import numpy as np\n",
    "from scipy import stats\n",
    "from scipy.special import gamma\n",
    "import statsmodels.formula.api as smf\n",
    "import matplotlib.pyplot as plt\n",
    "import seaborn as sns\n",
    "import pingouin as pg\n",
    "import mistat\n",
    "import lifelines"
   ]
  },
  {
   "cell_type": "markdown",
   "id": "d14b994b",
   "metadata": {},
   "source": [
    "## Basic Notions"
   ]
  },
  {
   "cell_type": "markdown",
   "id": "99b2500f",
   "metadata": {},
   "source": [
    "### Time Categories"
   ]
  },
  {
   "cell_type": "markdown",
   "id": "64b94be2",
   "metadata": {},
   "source": [
    "### Reliability and Related Functions"
   ]
  },
  {
   "cell_type": "markdown",
   "id": "e577fdd2",
   "metadata": {},
   "source": [
    "## System Reliability"
   ]
  },
  {
   "cell_type": "code",
   "execution_count": null,
   "id": "84642eef",
   "metadata": {},
   "outputs": [],
   "source": [
    "def labeledBox(ax, corner, sides, label):\n",
    "    ax.add_patch(patch.Rectangle(corner, *sides, facecolor='none', edgecolor=\"black\"))\n",
    "    ax.annotate(label, (corner[0] + sides[0] / 2, corner[1] + sides[1] / 2), color='black',\n",
    "                    fontsize=14, ha='center', va='center')\n",
    "\n",
    "prop = {'arrowstyle': \"->,head_width=0.4,head_length=0.8\",\n",
    "        'shrinkA': 0, 'shrinkB': 0, 'color': 'black'}\n",
    "\n",
    "import matplotlib.patches as patch\n",
    "fig, ax = plt.subplots(figsize=[6, 4])\n",
    "\n",
    "y = 6.5\n",
    "ax.text(3, y+1.75, 'Components in Series', va='center', ha='center', fontsize=16)\n",
    "plt.annotate(\"\", xy=(1.25, y+0.5), xytext=(0, y+0.5), arrowprops=prop)\n",
    "labeledBox(ax, (1.25, y), (1, 1), 'C1')\n",
    "plt.annotate(\"\", xy=(3.75, y+0.5), xytext=(2.25, y+0.5), arrowprops=prop)\n",
    "labeledBox(ax, (3.75, y), (1, 1), 'C2')\n",
    "plt.annotate(\"\", xy=(6, y+0.5), xytext=(4.75, y+0.5), arrowprops=prop)\n",
    "\n",
    "y = 2.5\n",
    "ax.text(3, y+2.25, 'Components in Parallel', va='center', ha='center', fontsize=16)\n",
    "ax.plot((0, 1.5), (y, y), color='black')\n",
    "ax.plot((1.5, 1.5), (y-1, y+1), color='black')\n",
    "plt.annotate(\"\", xy=(2.5, y-1), xytext=(1.5, y-1), arrowprops=prop)\n",
    "plt.annotate(\"\", xy=(2.5, y+1), xytext=(1.5, y+1), arrowprops=prop)\n",
    "labeledBox(ax, (2.5, y+0.5), (1, 1), 'C1')\n",
    "labeledBox(ax, (2.5, y-1.5), (1, 1), 'C2')\n",
    "ax.plot((3.5, 4.5), (y-1, y-1), color='black')\n",
    "ax.plot((3.5, 4.5), (y+1, y+1), color='black')\n",
    "ax.plot((4.5, 4.5), (y-1, y+1), color='black')\n",
    "plt.annotate(\"\", xy=(6, y), xytext=(4.5, y), arrowprops=prop)\n",
    "\n",
    "ax.set_xlim(0, 6)\n",
    "ax.set_ylim(0, 8)\n",
    "plt.axis('off')\n",
    "plt.show()"
   ]
  },
  {
   "cell_type": "code",
   "execution_count": null,
   "id": "75017501",
   "metadata": {},
   "outputs": [],
   "source": [
    "def labeledBox(ax, corner, sides, label):\n",
    "    corner = list(corner)\n",
    "    corner[1] = corner[1] - sides[1]/2\n",
    "    ax.add_patch(patch.Rectangle(corner, *sides, facecolor='none', edgecolor=\"black\"))\n",
    "    ax.annotate(label, (corner[0] + sides[0] / 2, corner[1] + sides[1] / 2), color='black',\n",
    "                    fontsize=14, ha='center', va='center')\n",
    "\n",
    "prop = {'arrowstyle': \"-\",\n",
    "        'shrinkA': 0, 'shrinkB': 0, 'color': 'black'}\n",
    "\n",
    "import matplotlib.patches as patch\n",
    "fig, ax = plt.subplots(figsize=[6, 4])\n",
    "\n",
    "x1 = 1\n",
    "x2 = 3\n",
    "x3 = 5\n",
    "x4 = 7\n",
    "x5 = 8\n",
    "x6 = 10\n",
    "x7 = 11\n",
    "x8 = 13\n",
    "x9 = 14\n",
    "y1 = 1.5\n",
    "dy = 1\n",
    "ax.plot((0, x1), (0, 0), color='black')\n",
    "ax.plot((x1, x1), (-y1, y1), color='black')\n",
    "ax.plot((x1, x2), (y1, y1), color='black')\n",
    "ax.plot((x1, x2), (-y1, -y1), color='black')\n",
    "ax.plot((x3, x5), (y1, y1), color='black')\n",
    "ax.plot((x6, x8), (y1, y1), color='black')\n",
    "ax.plot((x3, x4), (-y1, -y1), color='black')\n",
    "ax.plot((x4, x4), (-y1-dy, -y1+dy), color='black')\n",
    "ax.plot((x4, x5), (-y1-dy, -y1-dy), color='black')\n",
    "ax.plot((x4, x5), (-y1+dy, -y1+dy), color='black')\n",
    "ax.plot((x6, x7), (-y1-dy, -y1-dy), color='black')\n",
    "ax.plot((x6, x7), (-y1+dy, -y1+dy), color='black')\n",
    "ax.plot((x7, x7), (-y1-dy, -y1+dy), color='black')\n",
    "ax.plot((x7, x8), (-y1, -y1), color='black')\n",
    "ax.plot((x8, x8), (-y1, y1), color='black')\n",
    "ax.plot((x8, x9), (0, 0), color='black')\n",
    "labeledBox(ax, (x2, y1), (2, 1), 'C1')\n",
    "labeledBox(ax, (x5, y1), (2, 1), 'C2')\n",
    "labeledBox(ax, (x2, -y1), (2, 1), 'C3')\n",
    "labeledBox(ax, (x5, -y1+dy), (2, 1), 'C4')\n",
    "labeledBox(ax, (x5, -y1-dy), (2, 1), 'C5')\n",
    "ax.set_ylim(-3.5, 2.5)\n",
    "plt.axis('off')\n",
    "plt.show()"
   ]
  },
  {
   "cell_type": "markdown",
   "id": "9899a3ea",
   "metadata": {},
   "source": [
    "## Availability of Repairable Systems"
   ]
  },
  {
   "cell_type": "code",
   "execution_count": null,
   "id": "5fe772f0",
   "metadata": {},
   "outputs": [],
   "source": [
    "np.random.seed(1)\n",
    "ttf = stats.gamma(2, scale=100).rvs(50)\n",
    "ttr = stats.gamma(2, scale=1).rvs(50)\n",
    "\n",
    "_ = mistat.availabilityEBD(ttf, ttr, n=1000, seed=1)\n",
    "result = mistat.renewalEBD(ttf, ttr, time=1000, n=1000, seed=1)\n",
    "np.quantile(result, [0.025, 0.975])"
   ]
  },
  {
   "cell_type": "markdown",
   "id": "3aaa5852",
   "metadata": {},
   "source": [
    "## Types of Observations on $TTF$"
   ]
  },
  {
   "cell_type": "markdown",
   "id": "3d29f1aa",
   "metadata": {},
   "source": [
    "## Graphical Analysis of Life Data"
   ]
  },
  {
   "cell_type": "code",
   "execution_count": null,
   "id": "5a16dc5e",
   "metadata": {},
   "outputs": [],
   "source": [
    "np.random.seed(1)\n",
    "rv = stats.weibull_min(1.5, scale=100).rvs(100)\n",
    "\n",
    "mistat.plotECDF(rv)\n",
    "plt.show()"
   ]
  },
  {
   "cell_type": "code",
   "execution_count": null,
   "id": "57686ca1",
   "metadata": {},
   "outputs": [],
   "source": [
    "np.random.seed(1)\n",
    "rv = stats.expon(scale=5).rvs(100)\n",
    "\n",
    "fig, ax = plt.subplots(figsize=[5, 5])\n",
    "pg.qqplot(rv, ax=ax, dist=stats.expon)\n",
    "ax.get_lines()[0].set_color('grey')\n",
    "ax.get_lines()[0].set_markerfacecolor('none')\n",
    "ax.get_lines()[1].set_color('black')\n",
    "ax.get_lines()[2].set_color('black')\n",
    "ax.get_lines()[3].set_color('grey')\n",
    "ax.get_lines()[4].set_color('grey')\n",
    "plt.show()"
   ]
  },
  {
   "cell_type": "code",
   "execution_count": null,
   "id": "bfbc31b4",
   "metadata": {},
   "outputs": [],
   "source": [
    "np.random.seed(1)\n",
    "rv = stats.expon(scale=5).rvs(100)\n",
    "\n",
    "# Use stats.probplot to get x and Ei values\n",
    "res = stats.probplot(rv, dist=stats.expon, rvalue=True)\n",
    "df = pd.DataFrame({'Ei': res[0][0], 'x': res[0][1]})\n",
    "model = smf.ols('x ~ Ei - 1', data=df).fit()\n",
    "print(f'regression parameter beta={model.params[0]:.3f}')\n",
    "print(f'estimate median = {np.log(2) * model.params[0]:.3f}')\n",
    "print(f'true median = {np.median(rv):.3f}')"
   ]
  },
  {
   "cell_type": "code",
   "execution_count": null,
   "id": "327fa3ce",
   "metadata": {},
   "outputs": [],
   "source": [
    "np.random.seed(1)\n",
    "rv = stats.weibull_min(2, scale=2.5).rvs(100)\n",
    "\n",
    "fig, ax = plt.subplots(figsize=[5, 5])\n",
    "pg.qqplot(rv, ax=ax, dist=stats.weibull_min, sparams=[2])\n",
    "ax.get_lines()[0].set_color('grey')\n",
    "ax.get_lines()[0].set_markerfacecolor('none')\n",
    "ax.get_lines()[1].set_color('black')\n",
    "ax.get_lines()[2].set_color('black')\n",
    "ax.get_lines()[3].set_color('grey')\n",
    "ax.get_lines()[4].set_color('grey')\n",
    "plt.show()"
   ]
  },
  {
   "cell_type": "code",
   "execution_count": null,
   "id": "06574878",
   "metadata": {},
   "outputs": [],
   "source": [
    "np.random.seed(1)\n",
    "rv = stats.weibull_min(2, scale=2.5).rvs(100)\n",
    "\n",
    "# Use stats.probplot to get x and Wi values\n",
    "res = stats.probplot(rv, dist=stats.weibull_min, sparams=[1], rvalue=True)\n",
    "df = pd.DataFrame({'Wi': np.log(res[0][0]), 'x': np.log(res[0][1])})\n",
    "model = smf.ols('x ~ Wi', data=df).fit()\n",
    "intercept, slope = model.params\n",
    "print(f'intercept {intercept:.3f} / slope {slope:.3f}')\n",
    "\n",
    "beta = np.exp(intercept)\n",
    "nu = 1/slope\n",
    "print(f'regression parameter nu={nu:.3f}')\n",
    "print(f'regression parameter beta={beta:.3f}')\n",
    "print(f'estimated median = {beta * np.log(2) ** (1/nu):.3f}')\n",
    "print(f'estimated mean = {beta * gamma(1 + 1/nu):.3f}')\n",
    "print(f'estimated std = {beta * np.sqrt(gamma(1 + 2/nu) - gamma(1+1/nu)**2):.3f}')\n",
    "print(f'sample median = {np.median(rv):.3f}')\n",
    "print(f'sample mean = {np.mean(rv):.3f}')\n",
    "print(f'sample std = {np.std(rv):.3f}')"
   ]
  },
  {
   "cell_type": "markdown",
   "id": "0676261b",
   "metadata": {},
   "source": [
    "## Non-Parametric Estimation of Reliability"
   ]
  },
  {
   "cell_type": "markdown",
   "id": "0644721b",
   "metadata": {},
   "source": [
    "## Estimation of Life Characteristics"
   ]
  },
  {
   "cell_type": "markdown",
   "id": "97a4c2d9",
   "metadata": {},
   "source": [
    "### Maximum Likelihood Estimators for Exponential TTF Distribution"
   ]
  },
  {
   "cell_type": "code",
   "execution_count": null,
   "id": "2af46542",
   "metadata": {},
   "outputs": [],
   "source": [
    "failtime = mistat.load_data('FAILTIME.csv')\n",
    "\n",
    "fig, ax = plt.subplots(figsize=(4, 4))\n",
    "res = stats.probplot(failtime, dist=stats.expon, plot=ax, rvalue=True)\n",
    "df = pd.DataFrame({'Ei': res[0][0], 'x': res[0][1]})\n",
    "model = smf.ols('x ~ Ei - 1', data=df).fit()\n",
    "print(f'regression parameter beta={model.params[0]:.3f}')"
   ]
  },
  {
   "cell_type": "code",
   "execution_count": null,
   "id": "90b67969",
   "metadata": {},
   "outputs": [],
   "source": [
    "epf = lifelines.ExponentialFitter().fit(failtime)\n",
    "epf.summary\n",
    "beta = epf.lambda_"
   ]
  },
  {
   "cell_type": "code",
   "execution_count": null,
   "id": "6aa03eec",
   "metadata": {},
   "outputs": [],
   "source": [
    "epf = lifelines.ExponentialFitter().fit(failtime)\n",
    "beta = epf.lambda_\n",
    "table = epf.summary[['coef', 'se(coef)', 'coef lower 95%', 'coef upper 95%']]\n",
    "style = table.style\n",
    "style = style.format(precision=1)\n",
    "s = style.to_latex(hrules=True)\n",
    "s = s.replace('%', '\\\\%').replace('_', '\\\\_')\n",
    "print(s)"
   ]
  },
  {
   "cell_type": "code",
   "execution_count": null,
   "id": "e5181cb3",
   "metadata": {},
   "outputs": [],
   "source": [
    "beta = epf.lambda_\n",
    "n = len(failtime)\n",
    "ci_lower = 2*n*beta / stats.chi2.ppf(1-0.05/2, 2 * n)\n",
    "ci_upper = 2*n*beta / stats.chi2.ppf(0.05/2, 2 * n)\n",
    "ci_lower_approx = epf.summary.loc['lambda_', 'coef lower 95%']\n",
    "ci_upper_approx = epf.summary.loc['lambda_', 'coef upper 95%']"
   ]
  },
  {
   "cell_type": "code",
   "execution_count": null,
   "id": "a6ec04d2",
   "metadata": {},
   "outputs": [],
   "source": [
    "# prepare sample\n",
    "np.random.seed(1)\n",
    "n = 50\n",
    "t_star = 2000\n",
    "ft = stats.expon.rvs(scale=1000, size=n)\n",
    "ft[ft>t_star] = t_star\n",
    "\n",
    "# calculation of MLE\n",
    "Kn = sum(ft < t_star)\n",
    "S_nKn = sum(ft[ft<t_star]) + (n - Kn) * t_star\n",
    "beta_n = S_nKn / Kn\n",
    "print(f' beta_n: {beta_n:.1f}')\n",
    "print(f' sd(beta_n): {beta_n / np.sqrt(n):.1f}')"
   ]
  },
  {
   "cell_type": "code",
   "execution_count": null,
   "id": "acca2096",
   "metadata": {},
   "outputs": [],
   "source": [
    "ev = ft < t_star\n",
    "idx = list(range(len(ft)))\n",
    "def stat_func(x):\n",
    "    epf = lifelines.ExponentialFitter().fit(ft[x], ev[x])\n",
    "    return epf.params_['lambda_']\n",
    "\n",
    "ci, dist = pg.compute_bootci(idx, func=stat_func, n_boot=100, confidence=0.95,\n",
    "                             method='per', seed=1, return_dist=True)\n",
    "print(f' Mean: {np.mean(dist):.1f}')\n",
    "print(f' Median: {np.median(dist):.1f}')\n",
    "print(f' Std: {np.std(dist):.1f}')"
   ]
  },
  {
   "cell_type": "code",
   "execution_count": null,
   "id": "5280ba93",
   "metadata": {},
   "outputs": [],
   "source": [
    "# censor data  at 7000 and derive event vector\n",
    "event = failtime < 7000\n",
    "failtime[failtime > 7000] = 7000"
   ]
  },
  {
   "cell_type": "code",
   "execution_count": null,
   "id": "8535eeb3",
   "metadata": {},
   "outputs": [],
   "source": [
    "idx = list(range(len(failtime)))\n",
    "def stat_func(x):\n",
    "    epf = lifelines.ExponentialFitter().fit(failtime[x], event[x])\n",
    "    return epf.params_['lambda_']\n",
    "\n",
    "ci, dist = pg.compute_bootci(idx, func=stat_func, n_boot=100, confidence=0.95,\n",
    "                             method='per', seed=1, return_dist=True)\n",
    "print(f' Mean: {np.mean(dist):.1f}')\n",
    "print(f' 95%-CI: {ci[0]:.1f} - {ci[1]:.1f}')"
   ]
  },
  {
   "cell_type": "markdown",
   "id": "f58b8c07",
   "metadata": {},
   "source": [
    "### Maximum Likelihood Estimation of the Weibull Parameters"
   ]
  },
  {
   "cell_type": "code",
   "execution_count": null,
   "id": "46fddc4b",
   "metadata": {},
   "outputs": [],
   "source": [
    "def stat_func(x):\n",
    "    epf = lifelines.WeibullFitter().fit(failtime[x], event[x])\n",
    "    return epf.params_['lambda_']\n",
    "ci, dist = pg.compute_bootci(idx, func=stat_func, n_boot=100, confidence=0.95,\n",
    "                             method='per', seed=1, return_dist=True)\n",
    "print(f' Mean: {np.mean(dist)}')\n",
    "print(f' 95%-CI: {ci[0]:.1f} - {ci[1]:.1f}')"
   ]
  },
  {
   "cell_type": "markdown",
   "id": "2299307b",
   "metadata": {},
   "source": [
    "## Reliability Demonstration"
   ]
  },
  {
   "cell_type": "markdown",
   "id": "b0c6ce6f",
   "metadata": {},
   "source": [
    "### Binomial Testing"
   ]
  },
  {
   "cell_type": "markdown",
   "id": "1dc901d6",
   "metadata": {},
   "source": [
    "### Exponential Distributions"
   ]
  },
  {
   "cell_type": "markdown",
   "id": "a5310516",
   "metadata": {},
   "source": [
    "#### The SPRT for Binomial Data"
   ]
  },
  {
   "cell_type": "markdown",
   "id": "6b65f189",
   "metadata": {},
   "source": [
    "#### The SPRT for Exponential Lifetimes"
   ]
  },
  {
   "cell_type": "markdown",
   "id": "5568d288",
   "metadata": {},
   "source": [
    "#### The SPRT for Poisson Processes"
   ]
  },
  {
   "cell_type": "markdown",
   "id": "9a24ea0d",
   "metadata": {},
   "source": [
    "## Accelerated Life Testing"
   ]
  },
  {
   "cell_type": "markdown",
   "id": "8f4e0a34",
   "metadata": {},
   "source": [
    "### The Arrhenius Temperature Model"
   ]
  },
  {
   "cell_type": "markdown",
   "id": "0c4321eb",
   "metadata": {},
   "source": [
    "### Other Models"
   ]
  },
  {
   "cell_type": "markdown",
   "id": "08b62fb7",
   "metadata": {},
   "source": [
    "## Burn-In Procedures"
   ]
  },
  {
   "cell_type": "markdown",
   "id": "abf35cc5",
   "metadata": {},
   "source": [
    "## Chapter Highlights"
   ]
  },
  {
   "cell_type": "markdown",
   "id": "a515616d",
   "metadata": {},
   "source": [
    "## Exercises"
   ]
  }
 ],
 "metadata": {},
 "nbformat": 4,
 "nbformat_minor": 5
}
