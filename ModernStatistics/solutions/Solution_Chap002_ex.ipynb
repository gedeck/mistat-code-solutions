{
 "cells": [
  {
   "cell_type": "markdown",
   "id": "cc6b1e27",
   "metadata": {},
   "source": [
    "# Exercise Chapter 2 \n",
    "Modern Statistics: A Computer Based Approach with Python<br>\n",
    "by Ron Kenett, Shelemyahu Zacks, Peter Gedeck\n",
    "\n",
    "Publisher: Springer International Publishing; 1st edition (September 15, 2022) <br>\n",
    "ISBN-13: 978-3031075650\n",
    "\n",
    "(c) 2022 Ron Kenett, Shelemyahu Zacks, Peter Gedeck\n",
    "\n",
    "The code needs to be executed in sequence."
   ]
  },
  {
   "cell_type": "code",
   "execution_count": 1,
   "id": "70a6515b",
   "metadata": {
    "execution": {
     "iopub.execute_input": "2022-07-18T17:00:08.820485Z",
     "iopub.status.busy": "2022-07-18T17:00:08.820114Z",
     "iopub.status.idle": "2022-07-18T17:00:08.872260Z",
     "shell.execute_reply": "2022-07-18T17:00:08.871111Z"
    }
   },
   "outputs": [],
   "source": [
    "import os\n",
    "os.environ['OUTDATED_IGNORE'] = '1'\n",
    "import warnings\n",
    "from outdated import OutdatedPackageWarning\n",
    "warnings.filterwarnings('ignore', category=FutureWarning)\n",
    "warnings.filterwarnings('ignore', category=OutdatedPackageWarning)"
   ]
  },
  {
   "cell_type": "code",
   "execution_count": 2,
   "id": "fc667c69",
   "metadata": {
    "execution": {
     "iopub.execute_input": "2022-07-18T17:00:08.875408Z",
     "iopub.status.busy": "2022-07-18T17:00:08.875176Z",
     "iopub.status.idle": "2022-07-18T17:00:09.795619Z",
     "shell.execute_reply": "2022-07-18T17:00:09.794706Z"
    }
   },
   "outputs": [],
   "source": [
    "import pandas as pd\n",
    "from scipy import stats\n",
    "import matplotlib.pyplot as plt"
   ]
  },
  {
   "cell_type": "markdown",
   "id": "dfead2f4",
   "metadata": {},
   "source": [
    "# Exercise 2"
   ]
  },
  {
   "cell_type": "code",
   "execution_count": 3,
   "id": "51e870be",
   "metadata": {
    "execution": {
     "iopub.execute_input": "2022-07-18T17:00:09.798469Z",
     "iopub.status.busy": "2022-07-18T17:00:09.798199Z",
     "iopub.status.idle": "2022-07-18T17:00:09.970806Z",
     "shell.execute_reply": "2022-07-18T17:00:09.969901Z"
    }
   },
   "outputs": [
    {
     "data": {
      "image/png": "[encoded data removed]",
      "text/plain": [
       "<Figure size 216x216 with 1 Axes>"
      ]
     },
     "metadata": {
      "needs_background": "light"
     },
     "output_type": "display_data"
    }
   ],
   "source": [
    "fig, ax = plt.subplots(figsize=[3, 3])\n",
    "ax.plot([10, 15, 10, 10], [10, 10, 15, 10], color='black')\n",
    "ax.plot([10, 15], [15, 10], color='black', linewidth=3)\n",
    "ax.set_xlim(0, 25)\n",
    "ax.set_ylim(0, 25)\n",
    "ax.text(11.2, 11.2, 'B')\n",
    "ax.text(13, 13, 'A')\n",
    "ax.set_xlabel('$\\omega_1$')\n",
    "ax.set_ylabel('$\\omega_2$')\n",
    "plt.show()"
   ]
  },
  {
   "cell_type": "markdown",
   "id": "6255ffa1",
   "metadata": {},
   "source": [
    "# Exercise 42"
   ]
  },
  {
   "cell_type": "code",
   "execution_count": 4,
   "id": "946c1eb3",
   "metadata": {
    "execution": {
     "iopub.execute_input": "2022-07-18T17:00:09.973494Z",
     "iopub.status.busy": "2022-07-18T17:00:09.973263Z",
     "iopub.status.idle": "2022-07-18T17:00:10.046730Z",
     "shell.execute_reply": "2022-07-18T17:00:10.045494Z"
    }
   },
   "outputs": [
    {
     "name": "stdout",
     "output_type": "stream",
     "text": [
      "     x        p.d.f.    c.d.f.\n",
      "0    0  2.407475e-02  0.024075\n",
      "1    1  9.861947e-02  0.122694\n",
      "2    2  1.918921e-01  0.314586\n",
      "3    3  2.358192e-01  0.550406\n",
      "4    4  2.052764e-01  0.755682\n",
      "5    5  1.345426e-01  0.890224\n",
      "6    6  6.889229e-02  0.959117\n",
      "7    7  2.822094e-02  0.987338\n",
      "8    8  9.392812e-03  0.996731\n",
      "9    9  2.565105e-03  0.999296\n",
      "10  10  5.779213e-04  0.999874\n",
      "11  11  1.076086e-04  0.999981\n",
      "12  12  1.653023e-05  0.999998\n",
      "13  13  2.083514e-06  1.000000\n",
      "14  14  2.133719e-07  1.000000\n"
     ]
    }
   ],
   "source": [
    "x = list(range(15))\n",
    "table = pd.DataFrame({\n",
    "  'x': x,\n",
    "  'p.d.f.': [stats.binom(20, 0.17).pmf(x) for x in x],\n",
    "  'c.d.f.': [stats.binom(20, 0.17).cdf(x) for x in x],\n",
    "})\n",
    "print(table)"
   ]
  },
  {
   "cell_type": "markdown",
   "id": "bcad6cf4",
   "metadata": {},
   "source": [
    "# Exercise 55"
   ]
  },
  {
   "cell_type": "code",
   "execution_count": 5,
   "id": "4bd28bb2",
   "metadata": {
    "execution": {
     "iopub.execute_input": "2022-07-18T17:00:10.050287Z",
     "iopub.status.busy": "2022-07-18T17:00:10.050007Z",
     "iopub.status.idle": "2022-07-18T17:00:10.057724Z",
     "shell.execute_reply": "2022-07-18T17:00:10.056780Z"
    }
   },
   "outputs": [
    {
     "data": {
      "text/plain": [
       "array([170., 265., 389.])"
      ]
     },
     "execution_count": 5,
     "metadata": {},
     "output_type": "execute_result"
    }
   ],
   "source": [
    "stats.nbinom.ppf([0.25, 0.5, 0.75], 3, 0.01)"
   ]
  },
  {
   "cell_type": "markdown",
   "id": "d6d7e642",
   "metadata": {},
   "source": [
    "# Exercise 63"
   ]
  },
  {
   "cell_type": "code",
   "execution_count": 6,
   "id": "17d2e190",
   "metadata": {
    "execution": {
     "iopub.execute_input": "2022-07-18T17:00:10.061074Z",
     "iopub.status.busy": "2022-07-18T17:00:10.060244Z",
     "iopub.status.idle": "2022-07-18T17:00:10.067228Z",
     "shell.execute_reply": "2022-07-18T17:00:10.066440Z"
    }
   },
   "outputs": [
    {
     "name": "stdout",
     "output_type": "stream",
     "text": [
      "(i) 0.4061971427922976\n",
      "(ii) 0.36944134018176367\n",
      "(iii) 0.43381616738909634\n"
     ]
    }
   ],
   "source": [
    "rv = stats.norm(100, 15)\n",
    "print('(i)', rv.cdf(108) - rv.cdf(92))\n",
    "print('(ii)', 1 - rv.cdf(105))\n",
    "print('(iii)', rv.cdf((200 - 5)/2))"
   ]
  },
  {
   "cell_type": "markdown",
   "id": "7708e0b3",
   "metadata": {},
   "source": [
    "# Exercise 75"
   ]
  },
  {
   "cell_type": "code",
   "execution_count": 7,
   "id": "4325c7b2",
   "metadata": {
    "execution": {
     "iopub.execute_input": "2022-07-18T17:00:10.071113Z",
     "iopub.status.busy": "2022-07-18T17:00:10.070279Z",
     "iopub.status.idle": "2022-07-18T17:00:10.075354Z",
     "shell.execute_reply": "2022-07-18T17:00:10.074469Z"
    }
   },
   "outputs": [
    {
     "name": "stdout",
     "output_type": "stream",
     "text": [
      "0.9266996106177159 1.7724538509055159 0.8862269254527579\n"
     ]
    }
   ],
   "source": [
    "from scipy.special import gamma\n",
    "print(gamma(1.17), gamma(1 / 2), gamma(3 / 2))"
   ]
  },
  {
   "cell_type": "markdown",
   "id": "95aca5ae",
   "metadata": {},
   "source": [
    "# Exercise 105"
   ]
  },
  {
   "cell_type": "code",
   "execution_count": 8,
   "id": "984dd5c0",
   "metadata": {
    "execution": {
     "iopub.execute_input": "2022-07-18T17:00:10.078522Z",
     "iopub.status.busy": "2022-07-18T17:00:10.078025Z",
     "iopub.status.idle": "2022-07-18T17:00:10.083561Z",
     "shell.execute_reply": "2022-07-18T17:00:10.082681Z"
    }
   },
   "outputs": [
    {
     "name": "stdout",
     "output_type": "stream",
     "text": [
      "1.8124611228107335\n",
      "1.7530503556925547\n",
      "1.7247182429207857\n"
     ]
    }
   ],
   "source": [
    "print(stats.t.ppf(0.95, 10))\n",
    "print(stats.t.ppf(0.95, 15))\n",
    "print(stats.t.ppf(0.95, 20))"
   ]
  },
  {
   "cell_type": "markdown",
   "id": "f8829401",
   "metadata": {},
   "source": [
    "# Exercise 106"
   ]
  },
  {
   "cell_type": "code",
   "execution_count": 9,
   "id": "da448769",
   "metadata": {
    "execution": {
     "iopub.execute_input": "2022-07-18T17:00:10.086543Z",
     "iopub.status.busy": "2022-07-18T17:00:10.086041Z",
     "iopub.status.idle": "2022-07-18T17:00:10.092298Z",
     "shell.execute_reply": "2022-07-18T17:00:10.091441Z"
    }
   },
   "outputs": [
    {
     "name": "stdout",
     "output_type": "stream",
     "text": [
      "2.164579917125473\n",
      "2.0148036912954885\n",
      "1.931653475236928\n"
     ]
    }
   ],
   "source": [
    "print(stats.f.ppf(0.95, 10, 30))\n",
    "print(stats.f.ppf(0.95, 15, 30))\n",
    "print(stats.f.ppf(0.95, 20, 30))"
   ]
  }
 ],
 "metadata": {
  "language_info": {
   "codemirror_mode": {
    "name": "ipython",
    "version": 3
   },
   "file_extension": ".py",
   "mimetype": "text/x-python",
   "name": "python",
   "nbconvert_exporter": "python",
   "pygments_lexer": "ipython3",
   "version": "3.9.13"
  }
 },
 "nbformat": 4,
 "nbformat_minor": 5
}
