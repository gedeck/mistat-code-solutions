{
 "cells": [
  {
   "cell_type": "markdown",
   "id": "1a7b35b7",
   "metadata": {},
   "source": [
    "# Exercise Chapter 6 \n",
    "Modern Statistics: A Computer Based Approach with Python<br>\n",
    "by Ron Kenett, Shelemyahu Zacks, Peter Gedeck\n",
    "\n",
    "Publisher: Springer International Publishing; 1st edition (September 15, 2022) <br>\n",
    "ISBN-13: 978-3031075650\n",
    "\n",
    "(c) 2022 Ron Kenett, Shelemyahu Zacks, Peter Gedeck\n",
    "\n",
    "The code needs to be executed in sequence."
   ]
  },
  {
   "cell_type": "code",
   "execution_count": null,
   "id": "420509ed",
   "metadata": {},
   "outputs": [],
   "source": [
    "import os\n",
    "os.environ['OUTDATED_IGNORE'] = '1'\n",
    "import warnings\n",
    "from outdated import OutdatedPackageWarning\n",
    "warnings.filterwarnings('ignore', category=FutureWarning)\n",
    "warnings.filterwarnings('ignore', category=OutdatedPackageWarning)"
   ]
  },
  {
   "cell_type": "code",
   "execution_count": null,
   "id": "b860940f",
   "metadata": {},
   "outputs": [],
   "source": [
    "import math\n",
    "import mistat\n",
    "import numpy as np\n",
    "import pandas as pd\n",
    "from scipy import stats\n",
    "import matplotlib.pyplot as plt\n",
    "from statsmodels.tsa.stattools import acf, pacf\n",
    "from statsmodels.graphics.tsaplots import plot_acf, plot_pacf\n",
    "from statsmodels.tsa import tsatools\n",
    "import statsmodels.formula.api as smf"
   ]
  },
  {
   "cell_type": "markdown",
   "id": "4d4838c2",
   "metadata": {},
   "source": [
    "# Exercise 2"
   ]
  },
  {
   "cell_type": "code",
   "execution_count": null,
   "id": "33a14044",
   "metadata": {},
   "outputs": [],
   "source": [
    "seascom = mistat.load_data('SEASCOM.csv')\n",
    "df = tsatools.add_trend(seascom, trend='ct')\n",
    "df['season_1'] = [np.cos(math.pi * tx/6) for tx in df['trend']]\n",
    "df['season_2'] = [np.sin(math.pi * tx/6) for tx in df['trend']]\n",
    "print(df.head())\n",
    "\n",
    "model = smf.ols(formula='SeasCom ~ trend + 1 + season_1 + season_2',\n",
    "                data=df).fit()\n",
    "print(model.params)\n",
    "print(f'r2-adj: {model.rsquared_adj:.3f}')"
   ]
  },
  {
   "cell_type": "code",
   "execution_count": null,
   "id": "2e9c35bc",
   "metadata": {},
   "outputs": [],
   "source": [
    "seascom = mistat.load_data('SEASCOM.csv')\n",
    "fig, ax = plt.subplots()\n",
    "ax.scatter(seascom.index, seascom, facecolors='none', edgecolors='grey')\n",
    "model.predict(df).plot(ax=ax, color='black')\n",
    "ax.set_xlabel('Time')\n",
    "ax.set_ylabel('Data')\n",
    "plt.show()"
   ]
  },
  {
   "cell_type": "code",
   "execution_count": null,
   "id": "022c4bb4",
   "metadata": {},
   "outputs": [],
   "source": [
    "U = df['SeasCom'] - model.predict(df)\n",
    "fig, ax = plt.subplots()\n",
    "ax.scatter(U.index, U, facecolors='none', edgecolors='black')\n",
    "ax.set_xlabel('Time')\n",
    "ax.set_ylabel('Deviation')\n",
    "plt.show()"
   ]
  },
  {
   "cell_type": "code",
   "execution_count": null,
   "id": "58e84340",
   "metadata": {},
   "outputs": [],
   "source": [
    "# use slices to get sublists\n",
    "corr_1 = np.corrcoef(U[:-1], U[1:])[0][1]\n",
    "corr_2 = np.corrcoef(U[:-2], U[2:])[0][1]\n",
    "print(f'Corr(Ut,Ut-1) = {corr_1:.3f}')\n",
    "print(f'Corr(Ut,Ut-2) = {corr_2:.3f}')"
   ]
  },
  {
   "cell_type": "code",
   "execution_count": null,
   "id": "d87803c7",
   "metadata": {},
   "outputs": [],
   "source": [
    "# keep some information for later exercises\n",
    "seascom_model = model\n",
    "seascom_df = df"
   ]
  },
  {
   "cell_type": "markdown",
   "id": "f51a2e93",
   "metadata": {},
   "source": [
    "# Exercise 4"
   ]
  },
  {
   "cell_type": "code",
   "execution_count": null,
   "id": "e7f8f3e1",
   "metadata": {},
   "outputs": [],
   "source": [
    "beta = np.array([1, 1.05, 0.76, -0.35, 0.45, 0.55])\n",
    "data = []\n",
    "n = len(beta)\n",
    "sum_0 = np.sum(beta * beta)\n",
    "for h in range(6):\n",
    "  sum_h = np.sum(beta[:n-h] * beta[h:])\n",
    "  data.append({\n",
    "    'h': h,\n",
    "    'K(h)': sum_h,\n",
    "    'rho(h)': sum_h / sum_0,\n",
    "  })"
   ]
  },
  {
   "cell_type": "code",
   "execution_count": null,
   "id": "e4186a29",
   "metadata": {},
   "outputs": [],
   "source": [
    "df = pd.DataFrame(data)\n",
    "s = df[['K(h)', 'rho(h)']].transpose().style\n",
    "s = s.format(precision=3)\n",
    "s"
   ]
  },
  {
   "cell_type": "markdown",
   "id": "8e7344e6",
   "metadata": {},
   "source": [
    "# Exercise 11"
   ]
  },
  {
   "cell_type": "code",
   "execution_count": null,
   "id": "b562dd64",
   "metadata": {},
   "outputs": [],
   "source": [
    "dow1941 = mistat.load_data('DOW1941.csv')\n",
    "\n",
    "X = dow1941.values # extract values to remove index for calculations\n",
    "Y = X[2:] - 2 * X[1:-1] + X[:-2]"
   ]
  },
  {
   "cell_type": "code",
   "execution_count": null,
   "id": "9f3e5a96",
   "metadata": {},
   "outputs": [],
   "source": [
    "fig, axes = plt.subplots(ncols=2, figsize=[5, 2])\n",
    "plot_acf(Y, lags=11, ax=axes[0])\n",
    "plot_pacf(Y, lags=11, method='ywm', ax=axes[1])\n",
    "plt.tight_layout()\n",
    "plt.show()"
   ]
  },
  {
   "cell_type": "code",
   "execution_count": null,
   "id": "b4633509",
   "metadata": {},
   "outputs": [],
   "source": [
    "# use argument alpha to return confidence intervals\n",
    "y_acf, ci_acf = acf(Y, nlags=11, fft=True, alpha=0.05)\n",
    "y_pacf, ci_pacf = pacf(Y, nlags=11, alpha=0.05)\n",
    "\n",
    "# determine if values are significantly different from zero\n",
    "def is_significant(y, ci):\n",
    "    return not (ci[0] < 0 < ci[1])\n",
    "\n",
    "s_acf = [is_significant(y, ci) for y, ci in zip(y_acf, ci_acf)]\n",
    "s_pacf = [is_significant(y, ci) for y, ci in zip(y_pacf, ci_pacf)]"
   ]
  },
  {
   "cell_type": "code",
   "execution_count": null,
   "id": "6ebcd7d1",
   "metadata": {},
   "outputs": [],
   "source": [
    "sn = {True: 'S', False: 'NS'}\n",
    "for i in range(len(y_acf)):\n",
    "    if i == 0:\n",
    "         continue\n",
    "    print(f'{i} & {y_acf[i]:.3f} & {sn[s_acf[i]]}', end='')\n",
    "    print(f'    & {y_pacf[i]:.3f} & {sn[s_pacf[i]]} \\\\\\\\')"
   ]
  },
  {
   "cell_type": "markdown",
   "id": "4b03d553",
   "metadata": {},
   "source": [
    "# Exercise 12"
   ]
  },
  {
   "cell_type": "code",
   "execution_count": null,
   "id": "96bae4a8",
   "metadata": {},
   "outputs": [],
   "source": [
    "predictedError = mistat.optimalLinearPredictor(seascom_model.resid,\n",
    "                      10, nlags=9)\n",
    "predictedTrend = seascom_model.predict(seascom_df)\n",
    "correctedTrend = predictedTrend + predictedError\n",
    "\n",
    "fig, ax = plt.subplots()\n",
    "ax.scatter(seascom_df.index, seascom_df['SeasCom'],\n",
    "           facecolors='none', edgecolors='grey')\n",
    "predictedTrend.plot(ax=ax, color='grey')\n",
    "correctedTrend.plot(ax=ax, color='black')\n",
    "ax.set_xlabel('Time')\n",
    "ax.set_ylabel('SeasCom data')\n",
    "plt.show()"
   ]
  }
 ],
 "metadata": {},
 "nbformat": 4,
 "nbformat_minor": 5
}
