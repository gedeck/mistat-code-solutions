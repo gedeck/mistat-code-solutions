{
 "cells": [
  {
   "cell_type": "markdown",
   "id": "7d221c97",
   "metadata": {},
   "source": [
    "# Exercise Chapter 5 \n",
    "Modern Statistics: A Computer Based Approach with Python<br>\n",
    "by Ron Kenett, Shelemyahu Zacks, Peter Gedeck\n",
    "\n",
    "Publisher: Springer International Publishing; 1st edition (September 15, 2022) <br>\n",
    "ISBN-13: 978-3031075650\n",
    "\n",
    "(c) 2022 Ron Kenett, Shelemyahu Zacks, Peter Gedeck\n",
    "\n",
    "The code needs to be executed in sequence."
   ]
  },
  {
   "cell_type": "code",
   "execution_count": null,
   "id": "a48cb7c7",
   "metadata": {},
   "outputs": [],
   "source": [
    "import os\n",
    "os.environ['OUTDATED_IGNORE'] = '1'\n",
    "import warnings\n",
    "from outdated import OutdatedPackageWarning\n",
    "warnings.filterwarnings('ignore', category=FutureWarning)\n",
    "warnings.filterwarnings('ignore', category=OutdatedPackageWarning)"
   ]
  },
  {
   "cell_type": "code",
   "execution_count": null,
   "id": "fdf760d6",
   "metadata": {},
   "outputs": [],
   "source": [
    "import random\n",
    "import numpy as np\n",
    "import pandas as pd\n",
    "import pingouin as pg\n",
    "from scipy import stats\n",
    "import matplotlib.pyplot as plt\n",
    "import mistat"
   ]
  },
  {
   "cell_type": "markdown",
   "id": "83a322db",
   "metadata": {},
   "source": [
    "# Exercise 4"
   ]
  },
  {
   "cell_type": "code",
   "execution_count": null,
   "id": "210c8f03",
   "metadata": {},
   "outputs": [],
   "source": [
    "random.seed(1)\n",
    "place = mistat.load_data('PLACE')\n",
    "\n",
    "# calculate correlation coefficient based on a sample of rows\n",
    "def stat_func(idx):\n",
    "    return stats.pearsonr(place['xDev'][idx], place['yDev'][idx])[0]\n",
    "\n",
    "rswr = []\n",
    "rswor = []\n",
    "idx = list(range(len(place)))\n",
    "for _ in range(100):\n",
    "    rswr.append(stat_func(random.choices(idx, k=20)))\n",
    "    rswor.append(stat_func(random.sample(idx, k=20)))\n",
    "\n",
    "corr_range = (min(*rswr, *rswor), max(*rswr, *rswor))\n",
    "\n",
    "def makeHistogram(title, ax, data, xrange):\n",
    "  ax = pd.Series(data).hist(color='grey', ax=ax, bins=20)\n",
    "  ax.set_title(title)\n",
    "  ax.set_xlabel('Sample correlation')\n",
    "  ax.set_ylabel('Frequency')\n",
    "  ax.set_xlim(*xrange)\n",
    "\n",
    "fig, axes = plt.subplots(figsize=[5, 3], ncols=2)\n",
    "makeHistogram('RSWR', axes[0], rswr, corr_range)\n",
    "makeHistogram('RSWOR', axes[1], rswor, corr_range)\n",
    "plt.tight_layout()\n",
    "plt.show()"
   ]
  },
  {
   "cell_type": "markdown",
   "id": "afd8b37a",
   "metadata": {},
   "source": [
    "# Exercise 5"
   ]
  },
  {
   "cell_type": "code",
   "execution_count": null,
   "id": "7b911cbe",
   "metadata": {},
   "outputs": [],
   "source": [
    "random.seed(1)\n",
    "car = mistat.load_data('CAR')\n",
    "columns = ['turn', 'hp', 'mpg']\n",
    "\n",
    "# calculate correlation coefficient based on a sample of rows\n",
    "def stat_func(idx):\n",
    "    sample = car[columns].loc[idx,]\n",
    "    return sample.median()\n",
    "\n",
    "idx = list(range(len(car)))\n",
    "result = []\n",
    "for _ in range(200):\n",
    "    result.append(stat_func(random.sample(idx, k=50)))\n",
    "result = pd.DataFrame(result)\n",
    "\n",
    "fig, axes = plt.subplots(figsize=[8, 3], ncols=3)\n",
    "for ax, column in zip(axes, columns):\n",
    "    result[column].hist(color='grey', ax=ax)\n",
    "    ax.set_xlabel(f'Median {column}')\n",
    "    ax.set_ylabel('Frequency')\n",
    "plt.tight_layout()\n",
    "plt.show()"
   ]
  },
  {
   "cell_type": "markdown",
   "id": "6e67de8c",
   "metadata": {},
   "source": [
    "# Exercise 8"
   ]
  },
  {
   "cell_type": "code",
   "execution_count": null,
   "id": "ff4dd472",
   "metadata": {},
   "outputs": [],
   "source": [
    "# load dataset and split into strata\n",
    "place = mistat.load_data('PLACE')\n",
    "strata_1 = list(place['xDev'][:160])\n",
    "strata_2 = list(place['xDev'][160:208])\n",
    "strata_3 = list(place['xDev'][208:])\n",
    "N = len(place)\n",
    "w_1 = 0.385\n",
    "w_2 = 0.115\n",
    "w_3 = 0.5\n",
    "n_1 = int(w_1 * 200)\n",
    "n_2 = int(w_2 * 200)\n",
    "n_3 = int(w_3 * 200)\n",
    "\n",
    "sample_means = []\n",
    "for _ in range(500):\n",
    "    m_1 = np.mean(random.sample(strata_1, k=n_1))\n",
    "    m_2 = np.mean(random.sample(strata_2, k=n_2))\n",
    "    m_3 = np.mean(random.sample(strata_3, k=n_3))\n",
    "    sample_means.append(w_1*m_1 + w_2*m_2 + w_3*m_3)\n",
    "std_dev_sample_means = np.std(sample_means)\n",
    "print(std_dev_sample_means)\n",
    "print(stats.sem(place['xDev'], ddof=0))"
   ]
  }
 ],
 "metadata": {},
 "nbformat": 4,
 "nbformat_minor": 5
}
