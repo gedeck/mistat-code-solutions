{
 "cells": [
  {
   "cell_type": "code",
   "execution_count": 1,
   "id": "fc9949d3-76d9-41e1-82bf-adbed7745ad6",
   "metadata": {},
   "outputs": [],
   "source": [
    "import gzip\n",
    "from pathlib import Path\n",
    "import re\n",
    "import shutil\n",
    "import zipfile"
   ]
  },
  {
   "cell_type": "code",
   "execution_count": 5,
   "id": "cbd85b87-63f0-4777-a15f-c054bd07acf4",
   "metadata": {},
   "outputs": [],
   "source": [
    "BASE_DIR = Path('.').resolve().parent\n",
    "\n",
    "def zipFiles(files, directory, subdir):\n",
    "    zipped = directory / f'{subdir}.zip'\n",
    "    with zipfile.ZipFile(zipped, mode='w') as ziph:\n",
    "        for file in files:\n",
    "            ziph.write(file, f'{subdir}/{file.name}')\n",
    "\n",
    "def codeFiles(directory):\n",
    "    chapterNotebooks = sorted((directory / 'notebooks').glob('*.ipynb'))\n",
    "    zipFiles(chapterNotebooks, directory, 'notebooks')\n",
    "    all_files = [*chapterNotebooks]\n",
    "    \n",
    "    if directory.name in ['ModernStatistics', 'IndustrialStatistics']:\n",
    "        chapterCode = sorted((directory / 'code').glob('*.py'))\n",
    "        zipFiles(chapterCode, directory, 'code')\n",
    "        all_files.extend(chapterCode)\n",
    "        solutionNotebooks = sorted((directory / 'solutions').glob('*.ipynb'))\n",
    "        zipFiles(solutionNotebooks, directory, 'solutions')\n",
    "        all_files.extend(solutionNotebooks)\n",
    "\n",
    "    if directory.name == 'ModernStatistics':\n",
    "        all_files.append(directory / 'Solutions_Modernstatistics.pdf')\n",
    "    elif directory.name == 'IndustrialStatistics':\n",
    "        all_files.append(directory / 'Solutions_IndustrialStatistics.pdf')\n",
    "\n",
    "    if directory.name in ['ModernStatistics', 'IndustrialStatistics']:\n",
    "        zipFiles(all_files, directory, 'all')\n",
    "\n",
    "codeFiles(BASE_DIR / 'ModernStatistics')\n",
    "codeFiles(BASE_DIR / 'IndustrialStatistics')\n",
    "codeFiles(BASE_DIR / 'BioMed_DataAnalyst_Course')"
   ]
  },
  {
   "cell_type": "code",
   "execution_count": null,
   "id": "d7f99638-dd90-4b28-9ab3-592478973155",
   "metadata": {},
   "outputs": [],
   "source": []
  },
  {
   "cell_type": "code",
   "execution_count": null,
   "id": "f15b8d6c-3ca7-468e-a65f-25f4ba7b8095",
   "metadata": {},
   "outputs": [],
   "source": []
  }
 ],
 "metadata": {
  "kernelspec": {
   "display_name": "Python 3 (ipykernel)",
   "language": "python",
   "name": "python3"
  },
  "language_info": {
   "codemirror_mode": {
    "name": "ipython",
    "version": 3
   },
   "file_extension": ".py",
   "mimetype": "text/x-python",
   "name": "python",
   "nbconvert_exporter": "python",
   "pygments_lexer": "ipython3",
   "version": "3.10.14"
  }
 },
 "nbformat": 4,
 "nbformat_minor": 5
}
