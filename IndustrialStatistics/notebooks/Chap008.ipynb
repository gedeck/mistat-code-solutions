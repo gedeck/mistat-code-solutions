{
 "cells": [
  {
   "cell_type": "markdown",
   "id": "8b47975b",
   "metadata": {},
   "source": [
    "# Chapter 8 \n",
    " Industrial Statistics: A Computer Based Approach with Python<br>\n",
    "by Ron Kenett, Shelemyahu Zacks, Peter Gedeck\n",
    "\n",
    "Publisher: Springer International Publishing; 1st edition (2023) <br>\n",
    "<!-- ISBN-13: 978-3031075650 -->\n",
    "\n",
    "(c) 2022 Ron Kenett, Shelemyahu Zacks, Peter Gedeck\n",
    "\n",
    "The code needs to be executed in sequence."
   ]
  },
  {
   "cell_type": "code",
   "execution_count": null,
   "id": "79685bab",
   "metadata": {},
   "outputs": [],
   "source": [
    "import os\n",
    "os.environ['OUTDATED_IGNORE'] = '1'\n",
    "import warnings\n",
    "from outdated import OutdatedPackageWarning\n",
    "warnings.filterwarnings('ignore', category=FutureWarning)\n",
    "warnings.filterwarnings('ignore', category=OutdatedPackageWarning)"
   ]
  },
  {
   "cell_type": "markdown",
   "id": "d475bb5b",
   "metadata": {},
   "source": [
    "# Cybermanufacturing and Digital Twins"
   ]
  },
  {
   "cell_type": "code",
   "execution_count": null,
   "id": "af9fdb41",
   "metadata": {},
   "outputs": [],
   "source": [
    "import mistat\n",
    "import matplotlib.pyplot as plt\n",
    "import numpy as np\n",
    "import pandas as pd\n",
    "import itertools"
   ]
  },
  {
   "cell_type": "markdown",
   "id": "824f2f92",
   "metadata": {},
   "source": [
    "## Introduction to Cybermanufacturing"
   ]
  },
  {
   "cell_type": "markdown",
   "id": "639c7c18",
   "metadata": {},
   "source": [
    "## Cybermanufacturing Analytics"
   ]
  },
  {
   "cell_type": "markdown",
   "id": "4e1cfe0a",
   "metadata": {},
   "source": [
    "## Information Quality in Cybermanufacturing"
   ]
  },
  {
   "cell_type": "markdown",
   "id": "b357c9ab",
   "metadata": {},
   "source": [
    "### Bayesian Networks"
   ]
  },
  {
   "cell_type": "markdown",
   "id": "0f6b7597",
   "metadata": {},
   "source": [
    "### CUB Models"
   ]
  },
  {
   "cell_type": "markdown",
   "id": "0a9721c3",
   "metadata": {},
   "source": [
    "### Control Charts"
   ]
  },
  {
   "cell_type": "code",
   "execution_count": null,
   "id": "782472e9",
   "metadata": {},
   "outputs": [],
   "source": [
    "abc = mistat.load_data('ABC')\n",
    "equipment = ['q6', 'q7', 'q8', 'q9']\n",
    "support = ['q12', 'q13', 'q14', 'q15', 'q16']\n",
    "top5counts = (abc[equipment + support] == 5).sum()\n",
    "\n",
    "qcc1 = mistat.QualityControlChart(top5counts[equipment], qcc_type='np',\n",
    "                                 sizes=len(abc), nsigmas=2)\n",
    "qcc2 = mistat.QualityControlChart(top5counts[support], qcc_type='np',\n",
    "                                 sizes=len(abc), nsigmas=2)\n",
    "\n",
    "qcc1.data = qcc1.data / len(abc)\n",
    "qcc1.center = qcc1.center / len(abc)\n",
    "qcc1.limits = qcc1.limits / len(abc)\n",
    "qcc2.data = qcc2.data / len(abc)\n",
    "qcc2.center = qcc2.center / len(abc)\n",
    "qcc2.limits = qcc2.limits / len(abc)\n",
    "\n",
    "fig, ax = plt.subplots(figsize=(8, 4))\n",
    "subsets = [\n",
    "    {'x': np.array(range(6, 10)), 'qcc': qcc1},\n",
    "    {'x': np.array(range(12, 17)), 'qcc': qcc2 },\n",
    "]\n",
    "for subset in subsets:\n",
    "    qcc = subset['qcc']\n",
    "    x = subset['x']\n",
    "    ax.plot(x, qcc.data.values, color='lightgrey',\n",
    "            marker='o', markeredgecolor='black', markerfacecolor='black')\n",
    "    ax.plot((np.min(x)-0.5, np.max(x)+0.5), (qcc.center, qcc.center),\n",
    "            color='grey')\n",
    "    for limit in qcc.limits.values:\n",
    "        ax.plot((np.min(x)-0.5, np.max(x)+0.5), (limit, limit),\n",
    "            color='grey', ls='--')\n",
    "ax.set_xticks(np.concatenate([subsets[0]['x'], subsets[1]['x']]))\n",
    "ax.set_xlabel('Question')\n",
    "ax.set_ylabel('Proportion')\n",
    "ax.axvline(10.5, color='gray')\n",
    "ax.text(6, 0.23, 'Equipment')\n",
    "ax.text(12, 0.23, 'Support')\n",
    "ylim = list(ax.get_ylim())\n",
    "ylim[1] = ylim[1] + 0.01\n",
    "ax.set_ylim(ylim)\n",
    "\n",
    "plt.show()"
   ]
  },
  {
   "cell_type": "markdown",
   "id": "73cc9ce9",
   "metadata": {},
   "source": [
    "## Modeling in Cybermanufacturing"
   ]
  },
  {
   "cell_type": "markdown",
   "id": "531216b2",
   "metadata": {},
   "source": [
    "## Computational pipelines"
   ]
  },
  {
   "cell_type": "markdown",
   "id": "6f626f9a",
   "metadata": {},
   "source": [
    "## Digital Twins"
   ]
  },
  {
   "cell_type": "code",
   "execution_count": null,
   "id": "fbba4a78",
   "metadata": {},
   "outputs": [],
   "source": [
    "# Individual measurements of cycle time with all factors at center\n",
    "midRange = {'m': 45, 's': 0.0125, 'k': 3_000, 't': 293, 'p0': 100_000, 'v0': 0.006, 't0': 350}\n",
    "experiment = mistat.PistonSimulator(n_simulation=50, seed=1, **midRange)\n",
    "Ps = experiment.simulate()\n",
    "Ps['Measurement'] = np.arange(1, 51)\n",
    "\n",
    "def addStatsLines(xlim, data, ax, color='grey'):\n",
    "    stMean = np.mean(data)\n",
    "    std = np.std(data)    \n",
    "    ax.plot(xlim, (stMean, stMean), color='black')\n",
    "    ax.plot(xlim, (stMean-std, stMean-std), color=color, linestyle=':')\n",
    "    ax.plot(xlim, (stMean+std, stMean+std), color=color, linestyle=':')\n",
    "\n",
    "ax = Ps.plot.scatter(x='Measurement', y='seconds')\n",
    "ax.plot(Ps['Measurement'], Ps['seconds'], color='grey')\n",
    "addStatsLines((1, 50), Ps['seconds'], ax)\n",
    "plt.show()"
   ]
  },
  {
   "cell_type": "code",
   "execution_count": null,
   "id": "2427dc5c",
   "metadata": {},
   "outputs": [],
   "source": [
    "v0changes = dict(midRange)\n",
    "v0changes['v0'] = [v0changes['v0']] * 8 + [0.0045] * 42\n",
    "\n",
    "experiment = mistat.PistonSimulator(n_simulation=50, seed=1, **v0changes)\n",
    "_ = experiment.simulate()\n",
    "\n",
    "sensorData = experiment.actuals\n",
    "sensorData['Measurement'] = np.arange(1, len(sensorData) + 1)\n",
    "sensorDataShort = sensorData.iloc[:20, :]\n",
    "\n",
    "ax = sensorDataShort.plot.scatter(x='Measurement', y='seconds', title='Individual Measurements of cycle time')\n",
    "ax.plot(sensorDataShort['Measurement'], sensorDataShort['seconds'], color='lightgrey')\n",
    "addStatsLines((1, 8), sensorDataShort['seconds'][:8], ax)\n",
    "addStatsLines((9, 20), sensorDataShort['seconds'][8:], ax)\n",
    "ax.set_xticks(np.arange(2, 20+1, 2))\n",
    "plt.show()"
   ]
  },
  {
   "cell_type": "code",
   "execution_count": null,
   "id": "7f1c7b9b",
   "metadata": {},
   "outputs": [],
   "source": [
    "factors = ['m', 's', 'v0', 'k', 'p0', 't', 't0']\n",
    "fig, axes = plt.subplots(nrows=2, ncols=4, figsize=(10, 5))\n",
    "ymin, ymax = None, None\n",
    "for ax, factor in itertools.zip_longest(itertools.chain.from_iterable(axes), factors):\n",
    "    if factor is None:\n",
    "        ax.set_axis_off()\n",
    "        continue\n",
    "        \n",
    "    ax.scatter(sensorDataShort['Measurement'], sensorDataShort[factor], s=2, color='grey')\n",
    "    addStatsLines((1, 8), sensorDataShort[factor][:8], ax)\n",
    "    addStatsLines((9, 20), sensorDataShort[factor][8:], ax)\n",
    "    ax.set_xlabel('Measurement')\n",
    "    ax.set_ylabel(factor)\n",
    "\n",
    "plt.tight_layout()\n",
    "plt.show()"
   ]
  },
  {
   "cell_type": "code",
   "execution_count": null,
   "id": "108f1094",
   "metadata": {},
   "outputs": [],
   "source": [
    "from mistat.design import doe\n",
    "\n",
    "Factors = {\n",
    "    'm': (30, 60),\n",
    "    's': (0.005, 0.02),\n",
    "    'k': (1_000, 5_000),\n",
    "    't': (290, 296),\n",
    "    'p0': (90_000, 110_000),\n",
    "    'v0': (0.002, 0.01),\n",
    "    't0': (340, 360),\n",
    "}\n",
    "Design = doe.lhs(Factors, num_samples=1280)\n",
    "Design = Design.to_dict(orient = 'list')\n",
    "experiment = mistat.PistonSimulator(n_simulation=1, seed=1, **Design)\n",
    "experimentData = experiment.simulate()"
   ]
  },
  {
   "cell_type": "code",
   "execution_count": null,
   "id": "e098011d",
   "metadata": {},
   "outputs": [],
   "source": [
    "from sklearn.neural_network import MLPRegressor\n",
    "from sklearn.model_selection import GridSearchCV\n",
    "from sklearn.preprocessing import MinMaxScaler\n",
    "from sklearn.pipeline import make_pipeline\n",
    "from sklearn.compose import TransformedTargetRegressor\n",
    "\n",
    "predictors = ['m', 's', 'k', 't', 'p0', 'v0', 't0']\n",
    "X = experimentData[predictors]\n",
    "y = experimentData['seconds']\n",
    "\n",
    "param_grid = {'regressor__mlpregressor__hidden_layer_sizes': [tuple([i+1]) for i in range(2, 10)]}\n",
    "\n",
    "base_estimator = TransformedTargetRegressor(\n",
    "    regressor=make_pipeline(\n",
    "        MinMaxScaler(),\n",
    "        MLPRegressor(\n",
    "            max_iter=1000, \n",
    "            activation='tanh',\n",
    "            hidden_layer_sizes=(1, ),\n",
    "            learning_rate_init=0.01,\n",
    "            early_stopping=True,\n",
    "            random_state=0,\n",
    "        )\n",
    "    ),\n",
    "    transformer=MinMaxScaler(),\n",
    ")\n",
    "\n",
    "model = GridSearchCV(base_estimator, param_grid, cv=5)\n",
    "model.fit(X, y)\n",
    "\n",
    "print(model.best_params_)\n",
    "model.best_estimator_\n",
    "\n",
    "fig, ax = plt.subplots()\n",
    "ax.scatter(model.predict(X), y)\n",
    "plt.show()"
   ]
  },
  {
   "cell_type": "code",
   "execution_count": null,
   "id": "9fc2b760",
   "metadata": {},
   "outputs": [],
   "source": [
    "from sklearn.neural_network import MLPRegressor\n",
    "from sklearn.preprocessing import MinMaxScaler\n",
    "from sklearn.pipeline import make_pipeline\n",
    "from sklearn.compose import TransformedTargetRegressor\n",
    "\n",
    "predictors = ['m', 's', 'k', 't', 'p0', 'v0', 't0']\n",
    "X = experimentData[predictors]\n",
    "y = experimentData['seconds']\n",
    "\n",
    "# create a pipeline that first scales the predictors to the range 0 to 1\n",
    "# followed by a neural network model. The outcome variable is also \n",
    "# rescaled to a range of 0 to 1. This is achieved using TransformedTargetRegressor.\n",
    "model = TransformedTargetRegressor(\n",
    "    regressor=make_pipeline(\n",
    "        MinMaxScaler(),\n",
    "        MLPRegressor(max_iter=1000, activation='tanh',\n",
    "            hidden_layer_sizes=(5, ), learning_rate_init=0.01, \n",
    "            early_stopping=True, random_state=0,\n",
    "        )\n",
    "    ),\n",
    "    transformer=MinMaxScaler(),\n",
    ")\n",
    "_ = model.fit(X, y)"
   ]
  },
  {
   "cell_type": "code",
   "execution_count": null,
   "id": "d6f23973",
   "metadata": {},
   "outputs": [],
   "source": [
    "from sklearn.inspection import permutation_importance\n",
    "\n",
    "result = permutation_importance(model, X, y, n_repeats=10, random_state=0)\n",
    "result.importances_mean\n",
    "result.importances_std\n",
    "permImportance = pd.DataFrame({\n",
    "    'predictor': predictors,\n",
    "    'mean': result.importances_mean,\n",
    "    'std': result.importances_std,\n",
    "    'low': result.importances_mean - result.importances_std,\n",
    "    'high': result.importances_mean + result.importances_std,\n",
    "})\n",
    "permImportance"
   ]
  },
  {
   "cell_type": "code",
   "execution_count": null,
   "id": "376c2c43",
   "metadata": {},
   "outputs": [],
   "source": [
    "fig, ax = plt.subplots(figsize=(5, 3))\n",
    "for _, row in reversed(list(permImportance.iterrows())):\n",
    "    p = row['predictor']\n",
    "    ax.plot((row['low'], row['high']), (p, p), color='grey')\n",
    "ax.scatter(permImportance['mean'], permImportance['predictor'], color='black', s=10)\n",
    "ax.set_xlabel('Importance')\n",
    "ax.set_ylabel('Predictor')\n",
    "plt.show()"
   ]
  },
  {
   "cell_type": "code",
   "execution_count": null,
   "id": "fe230f95",
   "metadata": {},
   "outputs": [],
   "source": [
    "sensorDataMean = dict(sensorData.mean())\n",
    "\n",
    "def plotResponseSurface(model, levels):\n",
    "    steps = 100\n",
    "    x1 = np.linspace(*(Factors['v0']), steps)\n",
    "    x2 = np.linspace(*(Factors['s']), steps)\n",
    "    X1, X2 = np.meshgrid(x1, x2)\n",
    "    gridData = dict(sensorDataShort.mean())\n",
    "    gridData = pd.DataFrame({\n",
    "        **sensorDataMean, # use mean values of all other factors from the sensorData\n",
    "        's': X2.ravel(),\n",
    "        'v0': X1.ravel(),\n",
    "    })\n",
    "    gridData = gridData[list(Factors)]\n",
    "    responses = model.predict(gridData)\n",
    "    CS = plt.contour(x1, x2, responses.reshape(steps, steps),\n",
    "                sorted(list(levels)), colors='gray')\n",
    "    ax = plt.gca()\n",
    "    ax.clabel(CS, inline=True, fontsize=10)\n",
    "    ax.set_xlabel('v0')\n",
    "    ax.set_ylabel('s')\n",
    "    return ax\n",
    "ax = plotResponseSurface(model, np.arange(0.0, 0.2, 0.02))\n",
    "ax.plot([np.mean(sensorDataShort['v0'][:8]), np.mean(sensorDataShort['v0'][8:])], \n",
    "        [np.mean(sensorDataShort['s'][:8]), np.mean(sensorDataShort['s'][8:])], color='red')\n",
    "ax.scatter(sensorDataShort['v0'][:8], sensorDataShort['s'][:8], color='darkgrey')\n",
    "ax.scatter(sensorDataShort['v0'][8:], sensorDataShort['s'][8:], color='black')\n",
    "plt.show()"
   ]
  },
  {
   "cell_type": "code",
   "execution_count": null,
   "id": "529fe6f2",
   "metadata": {},
   "outputs": [],
   "source": [
    "import warnings\n",
    "warnings.filterwarnings('ignore', category=UserWarning)\n",
    "from statsmodels.tsa.api import SARIMAX\n",
    "\n",
    "# Define the p, d and q parameters to take any value between 0 and 2\n",
    "p = d = q = range(0, 3)\n",
    "\n",
    "results = None\n",
    "# generate all combinations of (p, d, q) triplets and keep the model \n",
    "# with the lowest AIC\n",
    "for param in list(itertools.product(p, d, q)):\n",
    "    mod = SARIMAX(sensorDataShort['v0'], order=param)\n",
    "    temp = mod.fit(method='nm', maxiter=600, disp=False)\n",
    "    if results is None or results.aic > temp.aic:\n",
    "        results = temp\n",
    "print('ARIMA{} - AIC:{}'.format(param, results.aic))"
   ]
  },
  {
   "cell_type": "code",
   "execution_count": null,
   "id": "23344edf",
   "metadata": {},
   "outputs": [],
   "source": [
    "def addSARIMAX_predictions(predictions, ax, label=None, linestyle=None):\n",
    "    pred_mean = predictions.predicted_mean\n",
    "    pred_mean.index = pred_mean.index + 1\n",
    "    pred_mean.plot(ax=ax, label=label, alpha=.7, color='black', linestyle=linestyle)\n",
    "    pred_ci = predictions.conf_int()\n",
    "    pred_ci.index = pred_ci.index + 1\n",
    "    ax.fill_between(pred_ci.index[1:],\n",
    "                    pred_ci['lower v0'][1:], pred_ci['upper v0'][1:], color='k', alpha=.2)\n",
    "\n",
    "ax = sensorDataShort[['Measurement', 'v0']].plot(x='Measurement', y='v0', label='observed', \n",
    "                                                 color='grey', linestyle=':')\n",
    "predictions = results.get_prediction(start=1)\n",
    "addSARIMAX_predictions(predictions, ax, label='One-step ahead forecast')\n",
    "forecast = results.get_prediction(start=19, end=40, dynamic=True, full_results=True)\n",
    "addSARIMAX_predictions(forecast, ax, label='Forecast', linestyle='--')\n",
    "\n",
    "ax.set_xlabel('Measurement')\n",
    "ax.set_ylabel('v0')\n",
    "ax.set_ylim(0.002, 0.01)\n",
    "plt.legend()\n",
    "\n",
    "plt.show()"
   ]
  },
  {
   "cell_type": "markdown",
   "id": "b2c39fce",
   "metadata": {},
   "source": [
    "## Chapter Highlights"
   ]
  },
  {
   "cell_type": "markdown",
   "id": "42608370",
   "metadata": {},
   "source": [
    "## Exercises"
   ]
  }
 ],
 "metadata": {},
 "nbformat": 4,
 "nbformat_minor": 5
}
