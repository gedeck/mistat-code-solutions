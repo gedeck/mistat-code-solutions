{
 "cells": [
  {
   "cell_type": "markdown",
   "id": "e4d64bfe",
   "metadata": {},
   "source": [
    "# Chapter 1 \n",
    " Industrial Statistics: A Computer Based Approach with Python<br>\n",
    "by Ron Kenett, Shelemyahu Zacks, Peter Gedeck\n",
    "\n",
    "Publisher: Springer International Publishing; 1st edition (2023) <br>\n",
    "<!-- ISBN-13: 978-3031075650 -->\n",
    "\n",
    "(c) 2022 Ron Kenett, Shelemyahu Zacks, Peter Gedeck\n",
    "\n",
    "The code needs to be executed in sequence.\n",
    "\n",
    "Python packages and Python itself change over time. This can cause warnings or errors. We\n",
    "\"Warnings\" are for information only and can usually be ignored. \n",
    "\"Errors\" will stop execution and need to be fixed in order to get results. \n",
    "\n",
    "If you come across an issue with the code, please follow these steps\n",
    "\n",
    "- Check the repository (https://gedeck.github.io/mistat-code-solutions/) to see if the code has been upgraded. This might solve the problem.\n",
    "- Report the problem using the issue tracker at https://github.com/gedeck/mistat-code-solutions/issues\n",
    "- Paste the error message into Google and see if someone else already found a solution"
   ]
  },
  {
   "cell_type": "markdown",
   "id": "4093e8fc",
   "metadata": {},
   "source": [
    "# The Role of Statistical Methods in Modern Industry"
   ]
  },
  {
   "cell_type": "markdown",
   "id": "732b1eeb",
   "metadata": {},
   "source": [
    "## Evolution of Industry"
   ]
  },
  {
   "cell_type": "markdown",
   "id": "ce665d36",
   "metadata": {},
   "source": [
    "## Evolution of Quality"
   ]
  },
  {
   "cell_type": "markdown",
   "id": "b263af34",
   "metadata": {},
   "source": [
    "## Industry 4.0 Characteristics"
   ]
  },
  {
   "cell_type": "markdown",
   "id": "115b9029",
   "metadata": {},
   "source": [
    "## Digital Twin"
   ]
  },
  {
   "cell_type": "markdown",
   "id": "c2e3c85c",
   "metadata": {},
   "source": [
    "## Chapter Highlights"
   ]
  },
  {
   "cell_type": "markdown",
   "id": "5d781452",
   "metadata": {},
   "source": [
    "## Exercises"
   ]
  }
 ],
 "metadata": {
  "kernelspec": {
   "display_name": "Python 3 (ipykernel)",
   "language": "python",
   "name": "python3"
  },
  "language_info": {
   "codemirror_mode": {
    "name": "ipython",
    "version": 3
   },
   "file_extension": ".py",
   "mimetype": "text/x-python",
   "name": "python",
   "nbconvert_exporter": "python",
   "pygments_lexer": "ipython3",
   "version": "3.10.14"
  }
 },
 "nbformat": 4,
 "nbformat_minor": 5
}
