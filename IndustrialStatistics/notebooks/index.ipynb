{
  "cells": [
    {
      "cell_type": "markdown",
      "metadata": {
        "id": "view-in-github",
        "colab_type": "text"
      },
      "source": [
        "<a href=\"https://colab.research.google.com/github/gedeck/mistat-code-solutions/blob/colab/IndustrialStatistics/notebooks/index.ipynb\" target=\"_parent\"><img src=\"https://colab.research.google.com/assets/colab-badge.svg\" alt=\"Open In Colab\"/></a>"
      ]
    },
    {
      "cell_type": "markdown",
      "id": "1b1c50ef",
      "metadata": {
        "id": "1b1c50ef"
      },
      "source": [
        "# Python notebooks\n",
        " Industrial Statistics: A Computer Based Approach with Python<br>\n",
        "by Ron Kenett, Shelemyahu Zacks, Peter Gedeck\n",
        "\n",
        "Publisher: Springer International Publishing; 1st edition (August 5, 2023) <br>\n",
        "ISBN-13: 978-3-031-28481-6\n",
        "\n",
        "(c) 2022 Ron Kenett, Shelemyahu Zacks, Peter Gedeck\n",
        "\n",
        "The code needs to be executed in sequence.\n",
        "\n",
        "Python packages and Python itself change over time. This can cause warnings or errors. We\n",
        "\"Warnings\" are for information only and can usually be ignored.\n",
        "\"Errors\" will stop execution and need to be fixed in order to get results.\n",
        "\n",
        "If you come across an issue with the code, please follow these steps\n",
        "\n",
        "- Check the repository (https://gedeck.github.io/mistat-code-solutions/) to see if the code has been upgraded. This might solve the problem.\n",
        "- Check the errata at (https://gedeck.github.io/mistat-code-solutions/IndustrialStatistics/) and the issue tracker at https://github.com/gedeck/mistat-code-solutions/issues to see if the issue is known and a solution available.\n",
        "- Report the problem using the issue tracker at https://github.com/gedeck/mistat-code-solutions/issues\n",
        "- Paste the error message into Google and see if someone else already found a solution"
      ]
    },
    {
      "cell_type": "markdown",
      "id": "2a84b1cb",
      "metadata": {
        "id": "2a84b1cb"
      },
      "source": [
        "- [Chapter 1](Chap001.ipynb)\n",
        "- [Chapter 2](Chap002.ipynb)\n",
        "- [Chapter 3](Chap003.ipynb)\n",
        "- [Chapter 4](Chap004.ipynb)\n",
        "- [Chapter 5](Chap005.ipynb)\n",
        "- [Chapter 6](Chap006.ipynb)\n",
        "- [Chapter 7](Chap007.ipynb)\n",
        "- [Chapter 8](Chap008.ipynb)\n",
        "- [Chapter 9](Chap009.ipynb)\n",
        "- [Chapter 10](Chap010.ipynb)\n",
        "- [Chapter 11](Chap011.ipynb)"
      ]
    },
    {
      "cell_type": "code",
      "execution_count": null,
      "id": "36a4ad20",
      "metadata": {
        "id": "36a4ad20"
      },
      "outputs": [],
      "source": []
    }
  ],
  "metadata": {
    "kernelspec": {
      "display_name": "Python 3 (ipykernel)",
      "language": "python",
      "name": "python3"
    },
    "language_info": {
      "codemirror_mode": {
        "name": "ipython",
        "version": 3
      },
      "file_extension": ".py",
      "mimetype": "text/x-python",
      "name": "python",
      "nbconvert_exporter": "python",
      "pygments_lexer": "ipython3",
      "version": "3.10.9"
    },
    "colab": {
      "provenance": [],
      "include_colab_link": true
    }
  },
  "nbformat": 4,
  "nbformat_minor": 5
}