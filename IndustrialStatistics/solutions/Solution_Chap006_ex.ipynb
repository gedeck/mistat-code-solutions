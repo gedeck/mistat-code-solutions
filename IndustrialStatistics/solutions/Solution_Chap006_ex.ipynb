{
 "cells": [
  {
   "cell_type": "markdown",
   "id": "66c0f12b",
   "metadata": {},
   "source": [
    "# Exercise Chapter 6_ex \n",
    "Industrial Statistics: A Computer Based Approach with Python<br>\n",
    "by Ron Kenett, Shelemyahu Zacks, Peter Gedeck\n",
    "\n",
    "Publisher: Springer International Publishing; 1st edition (2023) <br>\n",
    "<!-- ISBN-13: 978-3031075650 -->\n",
    "\n",
    "(c) 2022 Ron Kenett, Shelemyahu Zacks, Peter Gedeck\n",
    "\n",
    "The code needs to be executed in sequence.\n",
    "\n",
    "Python packages and Python itself change over time. This can cause warnings or errors. We\n",
    "\"Warnings\" are for information only and can usually be ignored. \n",
    "\"Errors\" will stop execution and need to be fixed in order to get results. \n",
    "\n",
    "If you come across an issue with the code, please follow these steps\n",
    "\n",
    "- Check the repository (https://gedeck.github.io/mistat-code-solutions/) to see if the code has been upgraded. This might solve the problem.\n",
    "- Report the problem using the issue tracker at https://github.com/gedeck/mistat-code-solutions/issues\n",
    "- Paste the error message into Google and see if someone else already found a solution"
   ]
  },
  {
   "cell_type": "code",
   "execution_count": 1,
   "id": "36d23d5c",
   "metadata": {
    "execution": {
     "iopub.execute_input": "2023-07-17T16:32:30.266136Z",
     "iopub.status.busy": "2023-07-17T16:32:30.265608Z",
     "iopub.status.idle": "2023-07-17T16:32:30.326340Z",
     "shell.execute_reply": "2023-07-17T16:32:30.325173Z"
    }
   },
   "outputs": [],
   "source": [
    "import os\n",
    "os.environ['OUTDATED_IGNORE'] = '1'\n",
    "import warnings\n",
    "from outdated import OutdatedPackageWarning\n",
    "warnings.filterwarnings('ignore', category=FutureWarning)\n",
    "warnings.filterwarnings('ignore', category=OutdatedPackageWarning)"
   ]
  },
  {
   "cell_type": "code",
   "execution_count": 2,
   "id": "0fde2caa",
   "metadata": {
    "execution": {
     "iopub.execute_input": "2023-07-17T16:32:30.330705Z",
     "iopub.status.busy": "2023-07-17T16:32:30.329633Z",
     "iopub.status.idle": "2023-07-17T16:32:31.455742Z",
     "shell.execute_reply": "2023-07-17T16:32:31.454496Z"
    }
   },
   "outputs": [],
   "source": [
    "import numpy as np\n",
    "import pandas as pd\n",
    "import statsmodels.formula.api as smf\n",
    "from pyDOE2 import fracfact\n",
    "\n",
    "import mistat"
   ]
  },
  {
   "cell_type": "markdown",
   "id": "c32c98a2",
   "metadata": {},
   "source": [
    "# Exercise 1"
   ]
  },
  {
   "cell_type": "code",
   "execution_count": 3,
   "id": "22197ea0",
   "metadata": {
    "execution": {
     "iopub.execute_input": "2023-07-17T16:32:31.459977Z",
     "iopub.status.busy": "2023-07-17T16:32:31.459422Z",
     "iopub.status.idle": "2023-07-17T16:32:31.467816Z",
     "shell.execute_reply": "2023-07-17T16:32:31.466650Z"
    }
   },
   "outputs": [],
   "source": [
    "from mistat.design import doe\n",
    "np.random.seed(1)\n",
    "\n",
    "# Build design from factors\n",
    "FacDesign = doe.full_fact({\n",
    "    'm': [30, 60],\n",
    "    's': [0.005, 0.02],\n",
    "    'v0': [0.002, 0.01],\n",
    "    'k': [1500, 4500],\n",
    "    't': [290, 296],\n",
    "})\n",
    "\n",
    "# Randomize design\n",
    "FacDesign = FacDesign.sample(frac=1).reset_index(drop=True)"
   ]
  },
  {
   "cell_type": "code",
   "execution_count": 4,
   "id": "3fd39c71",
   "metadata": {
    "execution": {
     "iopub.execute_input": "2023-07-17T16:32:31.471376Z",
     "iopub.status.busy": "2023-07-17T16:32:31.470679Z",
     "iopub.status.idle": "2023-07-17T16:32:31.484847Z",
     "shell.execute_reply": "2023-07-17T16:32:31.483725Z"
    }
   },
   "outputs": [],
   "source": [
    "# Setup and run simulator with 100 replicates \n",
    "# for each combination of factors\n",
    "simulator = mistat.PistonSimulator(n_replicate=100, **FacDesign,\n",
    "                                   p0=100_000, t0=350)\n",
    "result = simulator.simulate()"
   ]
  },
  {
   "cell_type": "code",
   "execution_count": 5,
   "id": "77d73427",
   "metadata": {
    "execution": {
     "iopub.execute_input": "2023-07-17T16:32:31.488360Z",
     "iopub.status.busy": "2023-07-17T16:32:31.487587Z",
     "iopub.status.idle": "2023-07-17T16:32:31.499394Z",
     "shell.execute_reply": "2023-07-17T16:32:31.497906Z"
    }
   },
   "outputs": [],
   "source": [
    "factors = ['m', 's', 'v0', 'k', 't']\n",
    "result = result.groupby(factors, as_index=False).agg({'seconds': ['mean', 'std']})\n",
    "result.columns = [*factors, 'mean', 'std']"
   ]
  },
  {
   "cell_type": "code",
   "execution_count": 6,
   "id": "5bb41dc7",
   "metadata": {
    "execution": {
     "iopub.execute_input": "2023-07-17T16:32:31.503279Z",
     "iopub.status.busy": "2023-07-17T16:32:31.502462Z",
     "iopub.status.idle": "2023-07-17T16:32:31.520475Z",
     "shell.execute_reply": "2023-07-17T16:32:31.519363Z"
    }
   },
   "outputs": [
    {
     "data": {
      "text/html": [
       "<div>\n",
       "<style scoped>\n",
       "    .dataframe tbody tr th:only-of-type {\n",
       "        vertical-align: middle;\n",
       "    }\n",
       "\n",
       "    .dataframe tbody tr th {\n",
       "        vertical-align: top;\n",
       "    }\n",
       "\n",
       "    .dataframe thead th {\n",
       "        text-align: right;\n",
       "    }\n",
       "</style>\n",
       "<table border=\"1\" class=\"dataframe\">\n",
       "  <thead>\n",
       "    <tr style=\"text-align: right;\">\n",
       "      <th></th>\n",
       "      <th>m</th>\n",
       "      <th>s</th>\n",
       "      <th>v0</th>\n",
       "      <th>k</th>\n",
       "      <th>t</th>\n",
       "      <th>mean</th>\n",
       "      <th>std</th>\n",
       "      <th>MSE</th>\n",
       "    </tr>\n",
       "  </thead>\n",
       "  <tbody>\n",
       "    <tr>\n",
       "      <th>26</th>\n",
       "      <td>60</td>\n",
       "      <td>0.020</td>\n",
       "      <td>0.002</td>\n",
       "      <td>4500</td>\n",
       "      <td>290</td>\n",
       "      <td>0.009580</td>\n",
       "      <td>0.002223</td>\n",
       "      <td>0.000114</td>\n",
       "    </tr>\n",
       "    <tr>\n",
       "      <th>27</th>\n",
       "      <td>60</td>\n",
       "      <td>0.020</td>\n",
       "      <td>0.002</td>\n",
       "      <td>4500</td>\n",
       "      <td>296</td>\n",
       "      <td>0.009659</td>\n",
       "      <td>0.002783</td>\n",
       "      <td>0.000115</td>\n",
       "    </tr>\n",
       "    <tr>\n",
       "      <th>24</th>\n",
       "      <td>60</td>\n",
       "      <td>0.020</td>\n",
       "      <td>0.002</td>\n",
       "      <td>1500</td>\n",
       "      <td>290</td>\n",
       "      <td>0.009201</td>\n",
       "      <td>0.002364</td>\n",
       "      <td>0.000122</td>\n",
       "    </tr>\n",
       "    <tr>\n",
       "      <th>25</th>\n",
       "      <td>60</td>\n",
       "      <td>0.020</td>\n",
       "      <td>0.002</td>\n",
       "      <td>1500</td>\n",
       "      <td>296</td>\n",
       "      <td>0.008888</td>\n",
       "      <td>0.002322</td>\n",
       "      <td>0.000129</td>\n",
       "    </tr>\n",
       "    <tr>\n",
       "      <th>16</th>\n",
       "      <td>60</td>\n",
       "      <td>0.005</td>\n",
       "      <td>0.002</td>\n",
       "      <td>1500</td>\n",
       "      <td>290</td>\n",
       "      <td>0.023836</td>\n",
       "      <td>0.010829</td>\n",
       "      <td>0.000132</td>\n",
       "    </tr>\n",
       "  </tbody>\n",
       "</table>\n",
       "</div>"
      ],
      "text/plain": [
       "     m      s     v0     k    t      mean       std       MSE\n",
       "26  60  0.020  0.002  4500  290  0.009580  0.002223  0.000114\n",
       "27  60  0.020  0.002  4500  296  0.009659  0.002783  0.000115\n",
       "24  60  0.020  0.002  1500  290  0.009201  0.002364  0.000122\n",
       "25  60  0.020  0.002  1500  296  0.008888  0.002322  0.000129\n",
       "16  60  0.005  0.002  1500  290  0.023836  0.010829  0.000132"
      ]
     },
     "execution_count": 6,
     "metadata": {},
     "output_type": "execute_result"
    }
   ],
   "source": [
    "result['MSE'] = (result['mean'] - 0.02)**2 + result['std']**2\n",
    "result = result.sort_values('MSE')\n",
    "best_MSE = result.iloc[0,:]\n",
    "result.head()"
   ]
  },
  {
   "cell_type": "code",
   "execution_count": 7,
   "id": "126333c2",
   "metadata": {
    "execution": {
     "iopub.execute_input": "2023-07-17T16:32:31.523342Z",
     "iopub.status.busy": "2023-07-17T16:32:31.523067Z",
     "iopub.status.idle": "2023-07-17T16:32:31.529990Z",
     "shell.execute_reply": "2023-07-17T16:32:31.529026Z"
    }
   },
   "outputs": [
    {
     "data": {
      "text/plain": [
       "m         60.000000\n",
       "s          0.020000\n",
       "v0         0.002000\n",
       "k       4500.000000\n",
       "t        290.000000\n",
       "mean       0.009580\n",
       "std        0.002223\n",
       "MSE        0.000114\n",
       "Name: 26, dtype: float64"
      ]
     },
     "execution_count": 7,
     "metadata": {},
     "output_type": "execute_result"
    }
   ],
   "source": [
    "best_MSE"
   ]
  },
  {
   "cell_type": "code",
   "execution_count": 8,
   "id": "6fb124af",
   "metadata": {
    "execution": {
     "iopub.execute_input": "2023-07-17T16:32:31.533729Z",
     "iopub.status.busy": "2023-07-17T16:32:31.532750Z",
     "iopub.status.idle": "2023-07-17T16:32:31.548679Z",
     "shell.execute_reply": "2023-07-17T16:32:31.547562Z"
    }
   },
   "outputs": [
    {
     "data": {
      "text/html": [
       "<div>\n",
       "<style scoped>\n",
       "    .dataframe tbody tr th:only-of-type {\n",
       "        vertical-align: middle;\n",
       "    }\n",
       "\n",
       "    .dataframe tbody tr th {\n",
       "        vertical-align: top;\n",
       "    }\n",
       "\n",
       "    .dataframe thead th {\n",
       "        text-align: right;\n",
       "    }\n",
       "</style>\n",
       "<table border=\"1\" class=\"dataframe\">\n",
       "  <thead>\n",
       "    <tr style=\"text-align: right;\">\n",
       "      <th></th>\n",
       "      <th>m</th>\n",
       "      <th>s</th>\n",
       "      <th>v0</th>\n",
       "      <th>k</th>\n",
       "      <th>t</th>\n",
       "      <th>mean</th>\n",
       "      <th>std</th>\n",
       "      <th>MSE</th>\n",
       "      <th>SN</th>\n",
       "    </tr>\n",
       "  </thead>\n",
       "  <tbody>\n",
       "    <tr>\n",
       "      <th>29</th>\n",
       "      <td>60</td>\n",
       "      <td>0.02</td>\n",
       "      <td>0.01</td>\n",
       "      <td>1500</td>\n",
       "      <td>296</td>\n",
       "      <td>0.049291</td>\n",
       "      <td>0.003361</td>\n",
       "      <td>0.000869</td>\n",
       "      <td>23.325647</td>\n",
       "    </tr>\n",
       "    <tr>\n",
       "      <th>13</th>\n",
       "      <td>30</td>\n",
       "      <td>0.02</td>\n",
       "      <td>0.01</td>\n",
       "      <td>1500</td>\n",
       "      <td>296</td>\n",
       "      <td>0.042370</td>\n",
       "      <td>0.003010</td>\n",
       "      <td>0.000509</td>\n",
       "      <td>22.970572</td>\n",
       "    </tr>\n",
       "    <tr>\n",
       "      <th>30</th>\n",
       "      <td>60</td>\n",
       "      <td>0.02</td>\n",
       "      <td>0.01</td>\n",
       "      <td>4500</td>\n",
       "      <td>290</td>\n",
       "      <td>0.056468</td>\n",
       "      <td>0.004261</td>\n",
       "      <td>0.001348</td>\n",
       "      <td>22.445850</td>\n",
       "    </tr>\n",
       "    <tr>\n",
       "      <th>28</th>\n",
       "      <td>60</td>\n",
       "      <td>0.02</td>\n",
       "      <td>0.01</td>\n",
       "      <td>1500</td>\n",
       "      <td>290</td>\n",
       "      <td>0.049085</td>\n",
       "      <td>0.003820</td>\n",
       "      <td>0.000861</td>\n",
       "      <td>22.177197</td>\n",
       "    </tr>\n",
       "    <tr>\n",
       "      <th>31</th>\n",
       "      <td>60</td>\n",
       "      <td>0.02</td>\n",
       "      <td>0.01</td>\n",
       "      <td>4500</td>\n",
       "      <td>296</td>\n",
       "      <td>0.057546</td>\n",
       "      <td>0.004480</td>\n",
       "      <td>0.001430</td>\n",
       "      <td>22.173743</td>\n",
       "    </tr>\n",
       "  </tbody>\n",
       "</table>\n",
       "</div>"
      ],
      "text/plain": [
       "     m     s    v0     k    t      mean       std       MSE         SN\n",
       "29  60  0.02  0.01  1500  296  0.049291  0.003361  0.000869  23.325647\n",
       "13  30  0.02  0.01  1500  296  0.042370  0.003010  0.000509  22.970572\n",
       "30  60  0.02  0.01  4500  290  0.056468  0.004261  0.001348  22.445850\n",
       "28  60  0.02  0.01  1500  290  0.049085  0.003820  0.000861  22.177197\n",
       "31  60  0.02  0.01  4500  296  0.057546  0.004480  0.001430  22.173743"
      ]
     },
     "execution_count": 8,
     "metadata": {},
     "output_type": "execute_result"
    }
   ],
   "source": [
    "result['SN'] = 10 * np.log10(result['mean']**2 / result['std']**2 - 1/100)\n",
    "result = result.sort_values('SN', ascending=False).head()\n",
    "best_SN = result.iloc[0,:]\n",
    "result.head()"
   ]
  },
  {
   "cell_type": "code",
   "execution_count": 9,
   "id": "95ea5727",
   "metadata": {
    "execution": {
     "iopub.execute_input": "2023-07-17T16:32:31.551569Z",
     "iopub.status.busy": "2023-07-17T16:32:31.551311Z",
     "iopub.status.idle": "2023-07-17T16:32:31.557811Z",
     "shell.execute_reply": "2023-07-17T16:32:31.556982Z"
    }
   },
   "outputs": [
    {
     "data": {
      "text/plain": [
       "m         60.000000\n",
       "s          0.020000\n",
       "v0         0.010000\n",
       "k       1500.000000\n",
       "t        296.000000\n",
       "mean       0.049291\n",
       "std        0.003361\n",
       "MSE        0.000869\n",
       "SN        23.325647\n",
       "Name: 29, dtype: float64"
      ]
     },
     "execution_count": 9,
     "metadata": {},
     "output_type": "execute_result"
    }
   ],
   "source": [
    "best_SN"
   ]
  },
  {
   "cell_type": "markdown",
   "id": "bc3f372c",
   "metadata": {},
   "source": [
    "# Exercise 2"
   ]
  },
  {
   "cell_type": "code",
   "execution_count": 10,
   "id": "2603b165",
   "metadata": {
    "execution": {
     "iopub.execute_input": "2023-07-17T16:32:31.560822Z",
     "iopub.status.busy": "2023-07-17T16:32:31.560467Z",
     "iopub.status.idle": "2023-07-17T16:32:31.603121Z",
     "shell.execute_reply": "2023-07-17T16:32:31.602131Z"
    }
   },
   "outputs": [],
   "source": [
    "np.random.seed(1)\n",
    "\n",
    "# Build design from factors\n",
    "FacDesign = doe.full_fact({\n",
    "    'm': [30, 60],\n",
    "    's': [0.005, 0.02],\n",
    "    'v0': [0.002, 0.01],\n",
    "    'k': [1500, 4500],\n",
    "    't': [290, 296],\n",
    "    'p0': [90_000, 110_000],\n",
    "    't0': [340, 360],\n",
    "})\n",
    "\n",
    "# Randomize design\n",
    "FacDesign = FacDesign.sample(frac=1).reset_index(drop=True)\n",
    "\n",
    "# Setup and run simulator with five replicates \n",
    "# for each combination of factors\n",
    "simulator = mistat.PistonSimulator(n_replicate=100, **FacDesign)\n",
    "result = simulator.simulate()\n",
    "factors = ['m', 's', 'v0', 'k', 't', 'p0', 't0']\n",
    "result = result.groupby(factors, as_index=False).agg({'seconds': ['mean', 'std']})\n",
    "result.columns = [*factors, 'mean', 'std']\n",
    "result['SN'] = 10 * np.log10(result['mean']**2 / result['std']**2 - 1/100)"
   ]
  },
  {
   "cell_type": "code",
   "execution_count": 11,
   "id": "8386441e",
   "metadata": {
    "execution": {
     "iopub.execute_input": "2023-07-17T16:32:31.605907Z",
     "iopub.status.busy": "2023-07-17T16:32:31.605681Z",
     "iopub.status.idle": "2023-07-17T16:32:31.640265Z",
     "shell.execute_reply": "2023-07-17T16:32:31.639282Z"
    }
   },
   "outputs": [
    {
     "name": "stdout",
     "output_type": "stream",
     "text": [
      "                 Results: Ordinary least squares\n",
      "=================================================================\n",
      "Model:              OLS              Adj. R-squared:     0.899   \n",
      "Dependent Variable: SN               AIC:                522.9904\n",
      "Date:               2023-07-17 16:32 BIC:                545.8067\n",
      "No. Observations:   128              Log-Likelihood:     -253.50 \n",
      "Df Model:           7                F-statistic:        163.3   \n",
      "Df Residuals:       120              Prob (F-statistic): 3.28e-58\n",
      "R-squared:          0.905            Scale:              3.2790  \n",
      "-----------------------------------------------------------------\n",
      "               Coef.   Std.Err.    t    P>|t|   [0.025    0.975] \n",
      "-----------------------------------------------------------------\n",
      "Intercept       5.0686  16.6968  0.3036 0.7620 -27.9899   38.1271\n",
      "m              -0.0094   0.0107 -0.8845 0.3782  -0.0306    0.0117\n",
      "s             484.4714  21.3403 22.7021 0.0000 442.2191  526.7238\n",
      "k               0.0001   0.0001  0.5709 0.5691  -0.0002    0.0003\n",
      "t               0.0012   0.0534  0.0217 0.9827  -0.1045    0.1068\n",
      "v0           1001.1879  40.0131 25.0215 0.0000 921.9647 1080.4112\n",
      "p0             -0.0000   0.0000 -0.2122 0.8323  -0.0000    0.0000\n",
      "t0             -0.0095   0.0160 -0.5949 0.5530  -0.0412    0.0222\n",
      "-----------------------------------------------------------------\n",
      "Omnibus:              10.591      Durbin-Watson:         0.520   \n",
      "Prob(Omnibus):        0.005       Jarque-Bera (JB):      4.418   \n",
      "Skew:                 -0.164      Prob(JB):              0.110   \n",
      "Kurtosis:             2.151       Condition No.:         25136579\n",
      "=================================================================\n",
      "* The condition number is large (3e+07). This might indicate\n",
      "strong multicollinearity or other numerical problems.\n"
     ]
    }
   ],
   "source": [
    "model = smf.ols('SN ~ m + s + k + t + v0 + p0 + t0', data=result).fit()\n",
    "print(model.summary2())"
   ]
  },
  {
   "cell_type": "code",
   "execution_count": 12,
   "id": "8012f662",
   "metadata": {
    "execution": {
     "iopub.execute_input": "2023-07-17T16:32:31.643684Z",
     "iopub.status.busy": "2023-07-17T16:32:31.643269Z",
     "iopub.status.idle": "2023-07-17T16:32:31.672181Z",
     "shell.execute_reply": "2023-07-17T16:32:31.670433Z"
    }
   },
   "outputs": [
    {
     "name": "stdout",
     "output_type": "stream",
     "text": [
      "                  Results: Ordinary least squares\n",
      "===================================================================\n",
      "Model:                OLS              Adj. R-squared:     0.964   \n",
      "Dependent Variable:   SN               AIC:                388.4606\n",
      "Date:                 2023-07-17 16:32 BIC:                399.8687\n",
      "No. Observations:     128              Log-Likelihood:     -190.23 \n",
      "Df Model:             3                F-statistic:        1128.   \n",
      "Df Residuals:         124              Prob (F-statistic): 8.90e-90\n",
      "R-squared:            0.965            Scale:              1.1808  \n",
      "-------------------------------------------------------------------\n",
      "            Coef.     Std.Err.    t    P>|t|    [0.025     0.975]  \n",
      "-------------------------------------------------------------------\n",
      "Intercept     5.0013    0.3365 14.8604 0.0000     4.3351     5.6674\n",
      "s           203.8500   23.0871  8.8296 0.0000   158.1541   249.5459\n",
      "v0          416.5600   46.6710  8.9254 0.0000   324.1849   508.9350\n",
      "s:v0      46770.2389 3201.6068 14.6084 0.0000 40433.3622 53107.1157\n",
      "-------------------------------------------------------------------\n",
      "Omnibus:               0.674         Durbin-Watson:           1.053\n",
      "Prob(Omnibus):         0.714         Jarque-Bera (JB):        0.303\n",
      "Skew:                  -0.032        Prob(JB):                0.859\n",
      "Kurtosis:              3.229         Condition No.:           33340\n",
      "===================================================================\n",
      "* The condition number is large (3e+04). This might indicate\n",
      "strong multicollinearity or other numerical problems.\n"
     ]
    }
   ],
   "source": [
    "model = smf.ols('SN ~ s + v0 + s*v0', data=result).fit()\n",
    "print(model.summary2())"
   ]
  },
  {
   "cell_type": "markdown",
   "id": "3b58b7a4",
   "metadata": {},
   "source": [
    "# Exercise 6"
   ]
  },
  {
   "cell_type": "code",
   "execution_count": 13,
   "id": "2eda1c61",
   "metadata": {
    "execution": {
     "iopub.execute_input": "2023-07-17T16:32:31.675198Z",
     "iopub.status.busy": "2023-07-17T16:32:31.674883Z",
     "iopub.status.idle": "2023-07-17T16:32:31.684517Z",
     "shell.execute_reply": "2023-07-17T16:32:31.683613Z"
    }
   },
   "outputs": [],
   "source": [
    "df = pd.DataFrame([\n",
    "  [1, 1, 1, 1, 1, 1, 1, 1, 2.5, 0.0827],\n",
    "  [1, 1, 2, 2, 2, 2, 2, 2, 2.684, 0.1196],\n",
    "  [1, 1, 3, 3, 3, 3, 3, 3, 2.66, 0.1722],\n",
    "  [1, 2, 1, 1, 2, 2, 3, 3, 1.962, 0.1696],\n",
    "  [1, 2, 2, 2, 3, 3, 1, 1, 1.87, 0.1168],\n",
    "  [1, 2, 3, 3, 1, 1, 2, 2, 2.584, 0.1106],\n",
    "  [1, 3, 1, 2, 1, 3, 2, 3, 2.032, 0.0718],\n",
    "  [1, 3, 2, 3, 2, 1, 3, 1, 3.267, 0.2101],\n",
    "  [1, 3, 3, 1, 3, 2, 1, 2, 2.829, 0.1516],\n",
    "  [2, 1, 1, 3, 3, 2, 2, 1, 2.66, 0.1912],\n",
    "  [2, 1, 2, 1, 1, 3, 3, 2, 3.166, 0.0674],\n",
    "  [2, 1, 3, 2, 2, 1, 1, 3, 3.323, 0.1274],\n",
    "  [2, 2, 1, 2, 3, 1, 3, 2, 2.576, 0.085],\n",
    "  [2, 2, 2, 3, 1, 2, 1, 3, 2.308, 0.0964],\n",
    "  [2, 2, 3, 1, 2, 3, 2, 1, 2.464, 0.0385],\n",
    "  [2, 3, 1, 3, 2, 3, 1, 2, 2.667, 0.0706],\n",
    "  [2, 3, 2, 1, 3, 1, 2, 3, 3.156, 0.1569],\n",
    "  [2, 3, 3, 2, 1, 2, 3, 1, 3.494, 0.0473],\n",
    "], columns=['F1', 'F2', 'F3', 'F4', 'F5', \n",
    "            'F6', 'F7', 'F8', 'Xbar', 'S'])"
   ]
  },
  {
   "cell_type": "code",
   "execution_count": 14,
   "id": "d8a2ec72",
   "metadata": {
    "execution": {
     "iopub.execute_input": "2023-07-17T16:32:31.688646Z",
     "iopub.status.busy": "2023-07-17T16:32:31.688303Z",
     "iopub.status.idle": "2023-07-17T16:32:31.699628Z",
     "shell.execute_reply": "2023-07-17T16:32:31.698247Z"
    }
   },
   "outputs": [],
   "source": [
    "df['F1'] = (df['F1']-1)*2-1\n",
    "for column in ['F2', 'F3', 'F4', 'F5', 'F6', 'F7', 'F8']:\n",
    "    df[column] = df[column] - 2\n",
    "df['SNR'] = np.log(df['Xbar'] / df['S'])"
   ]
  },
  {
   "cell_type": "code",
   "execution_count": 15,
   "id": "3f503577",
   "metadata": {
    "execution": {
     "iopub.execute_input": "2023-07-17T16:32:31.703019Z",
     "iopub.status.busy": "2023-07-17T16:32:31.702448Z",
     "iopub.status.idle": "2023-07-17T16:32:31.726426Z",
     "shell.execute_reply": "2023-07-17T16:32:31.725137Z"
    }
   },
   "outputs": [],
   "source": [
    "model = smf.ols('SNR ~ F1 + F2 + F3 + F4 + F5 + F6 + F7 + F8', data=df).fit()"
   ]
  },
  {
   "cell_type": "code",
   "execution_count": 16,
   "id": "a8187483",
   "metadata": {
    "execution": {
     "iopub.execute_input": "2023-07-17T16:32:31.730947Z",
     "iopub.status.busy": "2023-07-17T16:32:31.729918Z",
     "iopub.status.idle": "2023-07-17T16:32:31.735094Z",
     "shell.execute_reply": "2023-07-17T16:32:31.733992Z"
    }
   },
   "outputs": [],
   "source": [
    "# Ignore user warning thrown here\n",
    "warnings.filterwarnings('ignore', category=UserWarning)"
   ]
  },
  {
   "cell_type": "code",
   "execution_count": 17,
   "id": "054584ad",
   "metadata": {
    "execution": {
     "iopub.execute_input": "2023-07-17T16:32:31.739231Z",
     "iopub.status.busy": "2023-07-17T16:32:31.738543Z",
     "iopub.status.idle": "2023-07-17T16:32:31.752957Z",
     "shell.execute_reply": "2023-07-17T16:32:31.751924Z"
    }
   },
   "outputs": [
    {
     "name": "stdout",
     "output_type": "stream",
     "text": [
      "             Coef.  Std.Err.         t    P>|t|   [0.025   0.975]\n",
      "Intercept  3.22601   0.07518  42.90997  0.00000  3.05594  3.39608\n",
      "F1         0.26565   0.07518   3.53348  0.00638  0.09558  0.43572\n",
      "F2         0.07900   0.09208   0.85797  0.41317 -0.12929  0.28729\n",
      "F3         0.13848   0.09208   1.50392  0.16686 -0.06982  0.34677\n",
      "F4        -0.14339   0.09208  -1.55733  0.15382 -0.35169  0.06490\n",
      "F5        -0.31231   0.09208  -3.39185  0.00798 -0.52061 -0.10402\n",
      "F6         0.12630   0.09208   1.37164  0.20340 -0.08200  0.33459\n",
      "F7         0.02632   0.09208   0.28587  0.78145 -0.18197  0.23462\n",
      "F8        -0.17109   0.09208  -1.85810  0.09610 -0.37938  0.03720\n"
     ]
    }
   ],
   "source": [
    "print(model.summary2().tables[1].round(5))"
   ]
  },
  {
   "cell_type": "code",
   "execution_count": 18,
   "id": "e38c3151",
   "metadata": {
    "execution": {
     "iopub.execute_input": "2023-07-17T16:32:31.756438Z",
     "iopub.status.busy": "2023-07-17T16:32:31.755648Z",
     "iopub.status.idle": "2023-07-17T16:32:31.760655Z",
     "shell.execute_reply": "2023-07-17T16:32:31.759487Z"
    }
   },
   "outputs": [],
   "source": [
    "warnings.filterwarnings('default', category=UserWarning)"
   ]
  },
  {
   "cell_type": "markdown",
   "id": "96b5115e",
   "metadata": {},
   "source": [
    "# Exercise 7"
   ]
  },
  {
   "cell_type": "code",
   "execution_count": 19,
   "id": "5eb38b16",
   "metadata": {
    "execution": {
     "iopub.execute_input": "2023-07-17T16:32:31.763893Z",
     "iopub.status.busy": "2023-07-17T16:32:31.763609Z",
     "iopub.status.idle": "2023-07-17T16:32:31.768587Z",
     "shell.execute_reply": "2023-07-17T16:32:31.767436Z"
    }
   },
   "outputs": [],
   "source": [
    "generators = {\n",
    "    '2_7': 'A B C D E F G',\n",
    "    '2_7_1': 'A B C D E F G ABCDEFG',\n",
    "    '2_7_2': 'A B C D E F G ABCDF ABDEG',\n",
    "    '2_7_3': 'A B C D E F G ABCE BCDF ACDG',\n",
    "}"
   ]
  },
  {
   "cell_type": "code",
   "execution_count": 20,
   "id": "d9abdab7",
   "metadata": {
    "execution": {
     "iopub.execute_input": "2023-07-17T16:32:31.771533Z",
     "iopub.status.busy": "2023-07-17T16:32:31.771241Z",
     "iopub.status.idle": "2023-07-17T16:32:31.790694Z",
     "shell.execute_reply": "2023-07-17T16:32:31.789409Z"
    }
   },
   "outputs": [],
   "source": [
    "designs = {}\n",
    "for name, generator in generators.items():\n",
    "  designs[name] = pd.DataFrame(fracfact(generator), columns=generator.split())\n",
    "\n",
    "# reduce the fractional factorial designs to a single block\n",
    "designs['2_7_1'] = designs['2_7_1'].query('ABCDEFG == 1')\n",
    "designs['2_7_2'] = designs['2_7_2'].query('ABCDF == 1 & ABDEG == 1')\n",
    "designs['2_7_3'] = designs['2_7_3'].query('ABCE == 1 & BCDF == 1 & ACDG == 1')"
   ]
  },
  {
   "cell_type": "code",
   "execution_count": 21,
   "id": "b66ce733",
   "metadata": {
    "execution": {
     "iopub.execute_input": "2023-07-17T16:32:31.795232Z",
     "iopub.status.busy": "2023-07-17T16:32:31.794869Z",
     "iopub.status.idle": "2023-07-17T16:32:31.808690Z",
     "shell.execute_reply": "2023-07-17T16:32:31.807636Z"
    }
   },
   "outputs": [],
   "source": [
    "FacLevels = {\n",
    "    'm': [30, 60],\n",
    "    's': [0.005, 0.02],\n",
    "    'v0': [0.002, 0.01],\n",
    "    'k': [1500, 4500],\n",
    "    't': [290, 296],\n",
    "    'p0': [90_000, 110_000],\n",
    "    't0': [340, 360],\n",
    "}\n",
    "FacMap = {'A': 'm', 'B': 's', 'C': 'v0', 'D': 'k', \n",
    "          'E': 't', 'F': 'p0', 'G': 't0'}\n",
    "\n",
    "for name, design in designs.items():\n",
    "    # replace (-1, 1) with factor levels\n",
    "    facDesign = {}\n",
    "    for colname in design:\n",
    "        if colname not in FacMap: # skip generators\n",
    "            continue\n",
    "        factor = FacMap[colname]\n",
    "        levels = FacLevels[factor]\n",
    "        facDesign[factor] = [levels[max(0, int(v))] for v in design[colname]]\n",
    "    designs[name] = pd.DataFrame(facDesign)"
   ]
  },
  {
   "cell_type": "code",
   "execution_count": 22,
   "id": "31d6f8ba",
   "metadata": {
    "execution": {
     "iopub.execute_input": "2023-07-17T16:32:31.812585Z",
     "iopub.status.busy": "2023-07-17T16:32:31.812016Z",
     "iopub.status.idle": "2023-07-17T16:32:31.859169Z",
     "shell.execute_reply": "2023-07-17T16:32:31.858063Z"
    }
   },
   "outputs": [],
   "source": [
    "results = {}\n",
    "for name, design in designs.items():\n",
    "    np.random.seed(1)\n",
    "    # Setup and run simulator \n",
    "    simulator = mistat.PistonSimulator(n_replicate=5, **design)\n",
    "    result = simulator.simulate()\n",
    "    factors = list(FacLevels)\n",
    "    result = result.groupby(factors, as_index=False).agg({'seconds': ['mean', 'std']})\n",
    "    result.columns = [*factors, 'mean', 'std']\n",
    "    result['SN'] = np.log10(result['mean']**2 / result['std']**2)\n",
    "    results[name] = result"
   ]
  },
  {
   "cell_type": "code",
   "execution_count": 23,
   "id": "271c8a81",
   "metadata": {
    "execution": {
     "iopub.execute_input": "2023-07-17T16:32:31.862479Z",
     "iopub.status.busy": "2023-07-17T16:32:31.862202Z",
     "iopub.status.idle": "2023-07-17T16:32:31.913966Z",
     "shell.execute_reply": "2023-07-17T16:32:31.912979Z"
    }
   },
   "outputs": [],
   "source": [
    "models = {}\n",
    "for name, result in results.items():\n",
    "    model = smf.ols('mean ~ m + s + k + t + v0 + p0 + t0', data=result).fit()\n",
    "    models[name] = model"
   ]
  },
  {
   "cell_type": "code",
   "execution_count": 24,
   "id": "bee4a1ed",
   "metadata": {
    "execution": {
     "iopub.execute_input": "2023-07-17T16:32:31.917649Z",
     "iopub.status.busy": "2023-07-17T16:32:31.917362Z",
     "iopub.status.idle": "2023-07-17T16:32:31.924095Z",
     "shell.execute_reply": "2023-07-17T16:32:31.922979Z"
    }
   },
   "outputs": [
    {
     "name": "stdout",
     "output_type": "stream",
     "text": [
      "2_7       : r2=0.769, r2_adj=0.755\n",
      "2_7_1     : r2=0.777, r2_adj=0.749\n",
      "2_7_2     : r2=0.765, r2_adj=0.697\n",
      "2_7_3     : r2=0.788, r2_adj=0.602\n"
     ]
    }
   ],
   "source": [
    "for name, model in models.items():\n",
    "    print(f'{name:10s}: r2={model.rsquared:.3f}, r2_adj={model.rsquared_adj:.3f}')"
   ]
  },
  {
   "cell_type": "code",
   "execution_count": 25,
   "id": "73073bf7",
   "metadata": {
    "execution": {
     "iopub.execute_input": "2023-07-17T16:32:31.927285Z",
     "iopub.status.busy": "2023-07-17T16:32:31.926747Z",
     "iopub.status.idle": "2023-07-17T16:32:31.969473Z",
     "shell.execute_reply": "2023-07-17T16:32:31.968496Z"
    }
   },
   "outputs": [
    {
     "name": "stdout",
     "output_type": "stream",
     "text": [
      "2_7\n",
      "             Coef.  Std.Err.        t   P>|t|   [0.025   0.975]\n",
      "Intercept   0.2183    0.4116   0.5304  0.5968  -0.5967   1.0333\n",
      "m           0.0005    0.0003   2.0359  0.0440   0.0000   0.0011\n",
      "s          -6.8075    0.5261 -12.9393  0.0000  -7.8492  -5.7658\n",
      "k           0.0000    0.0000   1.6946  0.0927  -0.0000   0.0000\n",
      "t          -0.0004    0.0013  -0.3135  0.7544  -0.0030   0.0022\n",
      "v0         14.7097    0.9865  14.9116  0.0000  12.7566  16.6628\n",
      "p0         -0.0000    0.0000  -1.3802  0.1701  -0.0000   0.0000\n",
      "t0         -0.0000    0.0004  -0.0287  0.9771  -0.0008   0.0008\n",
      "2_7_1\n",
      "             Coef.  Std.Err.        t   P>|t|   [0.025   0.975]\n",
      "Intercept  -0.1876    0.5760  -0.3257  0.7458  -1.3416   0.9663\n",
      "m           0.0006    0.0004   1.6551  0.1035  -0.0001   0.0013\n",
      "s          -6.5822    0.7362  -8.9401  0.0000  -8.0571  -5.1073\n",
      "k           0.0000    0.0000   1.0515  0.2975  -0.0000   0.0000\n",
      "t           0.0006    0.0018   0.3090  0.7585  -0.0031   0.0043\n",
      "v0         14.4861    1.3805  10.4936  0.0000  11.7207  17.2515\n",
      "p0         -0.0000    0.0000  -0.7496  0.4566  -0.0000   0.0000\n",
      "t0          0.0003    0.0006   0.5019  0.6177  -0.0008   0.0014\n",
      "2_7_2\n",
      "             Coef.  Std.Err.       t   P>|t|   [0.025   0.975]\n",
      "Intercept   0.3676    0.9370  0.3923  0.6983  -1.5663   2.3014\n",
      "m           0.0005    0.0006  0.7528  0.4589  -0.0008   0.0017\n",
      "s          -6.8111    1.1976 -5.6874  0.0000  -9.2828  -4.3394\n",
      "k           0.0000    0.0000  0.4662  0.6453  -0.0000   0.0000\n",
      "t          -0.0014    0.0030 -0.4713  0.6417  -0.0076   0.0048\n",
      "v0         14.9546    2.2454  6.6600  0.0000  10.3202  19.5890\n",
      "p0         -0.0000    0.0000 -0.5629  0.5787  -0.0000   0.0000\n",
      "t0          0.0004    0.0009  0.4529  0.6547  -0.0014   0.0023\n",
      "2_7_3\n"
     ]
    },
    {
     "name": "stdout",
     "output_type": "stream",
     "text": [
      "             Coef.  Std.Err.       t   P>|t|   [0.025   0.975]\n",
      "Intercept   0.1662    1.4378  0.1156  0.9108  -3.1494   3.4818\n",
      "m           0.0003    0.0009  0.3306  0.7494  -0.0018   0.0024\n",
      "s          -6.3784    1.8377 -3.4709  0.0084 -10.6161  -2.1407\n",
      "k           0.0000    0.0000  0.4130  0.6905  -0.0000   0.0000\n",
      "t          -0.0005    0.0046 -0.1158  0.9107  -0.0111   0.0101\n",
      "v0         14.3326    3.4457  4.1596  0.0032   6.3869  22.2784\n",
      "p0         -0.0000    0.0000 -0.1167  0.9100  -0.0000   0.0000\n",
      "t0          0.0001    0.0014  0.1067  0.9177  -0.0030   0.0033\n"
     ]
    },
    {
     "name": "stderr",
     "output_type": "stream",
     "text": [
      "/usr/local/lib/python3.9/site-packages/scipy/stats/_stats_py.py:1477: UserWarning: kurtosistest only valid for n>=20 ... continuing anyway, n=16\n",
      "  warnings.warn(\"kurtosistest only valid for n>=20 ... continuing \"\n"
     ]
    }
   ],
   "source": [
    "for name, model in models.items():\n",
    "    print(name)\n",
    "    print(model.summary2().tables[1].round(4))"
   ]
  },
  {
   "cell_type": "markdown",
   "id": "a68a3fd3",
   "metadata": {},
   "source": [
    "# Exercise 8"
   ]
  },
  {
   "cell_type": "code",
   "execution_count": 26,
   "id": "d3c5d73e",
   "metadata": {
    "execution": {
     "iopub.execute_input": "2023-07-17T16:32:31.973651Z",
     "iopub.status.busy": "2023-07-17T16:32:31.972659Z",
     "iopub.status.idle": "2023-07-17T16:32:32.067077Z",
     "shell.execute_reply": "2023-07-17T16:32:32.065924Z"
    }
   },
   "outputs": [],
   "source": [
    "results = {}\n",
    "for name, design in designs.items():\n",
    "    np.random.seed(1)\n",
    "    # Setup and run simulator\n",
    "    simulator = mistat.PistonSimulator(n_replicate=20, **design)\n",
    "    result = simulator.simulate()\n",
    "    factors = list(FacLevels)\n",
    "    result = result.groupby(factors, as_index=False).agg({'seconds': ['mean', 'std']})\n",
    "    result.columns = [*factors, 'mean', 'std']\n",
    "    result['SN'] = np.log10(result['mean']**2 / result['std']**2)\n",
    "    results[name] = result\n",
    "\n",
    "models = {}\n",
    "for name, result in results.items():\n",
    "    model = smf.ols('mean ~ m + s + k + t + v0 + p0 + t0', data=result).fit()\n",
    "    models[name] = model"
   ]
  },
  {
   "cell_type": "code",
   "execution_count": 27,
   "id": "a50d41dd",
   "metadata": {
    "execution": {
     "iopub.execute_input": "2023-07-17T16:32:32.070315Z",
     "iopub.status.busy": "2023-07-17T16:32:32.070004Z",
     "iopub.status.idle": "2023-07-17T16:32:32.076135Z",
     "shell.execute_reply": "2023-07-17T16:32:32.075106Z"
    }
   },
   "outputs": [
    {
     "name": "stdout",
     "output_type": "stream",
     "text": [
      "2_7       : r2=0.779, r2_adj=0.766\n",
      "2_7_1     : r2=0.783, r2_adj=0.756\n",
      "2_7_2     : r2=0.763, r2_adj=0.694\n",
      "2_7_3     : r2=0.782, r2_adj=0.591\n"
     ]
    }
   ],
   "source": [
    "for name, model in models.items():\n",
    "    print(f'{name:10s}: r2={model.rsquared:.3f}, r2_adj={model.rsquared_adj:.3f}')"
   ]
  },
  {
   "cell_type": "code",
   "execution_count": 28,
   "id": "fa20337e",
   "metadata": {
    "execution": {
     "iopub.execute_input": "2023-07-17T16:32:32.079155Z",
     "iopub.status.busy": "2023-07-17T16:32:32.078668Z",
     "iopub.status.idle": "2023-07-17T16:32:32.109975Z",
     "shell.execute_reply": "2023-07-17T16:32:32.108727Z"
    }
   },
   "outputs": [
    {
     "name": "stdout",
     "output_type": "stream",
     "text": [
      "2_7\n",
      "             Coef.  Std.Err.        t   P>|t|   [0.025   0.975]\n",
      "Intercept   0.1066    0.3973   0.2683  0.7889  -0.6801   0.8933\n",
      "m           0.0005    0.0003   1.9699  0.0512  -0.0000   0.0010\n",
      "s          -6.6914    0.5078 -13.1767  0.0000  -7.6969  -5.6860\n",
      "k           0.0000    0.0000   1.7975  0.0748  -0.0000   0.0000\n",
      "t          -0.0001    0.0013  -0.1135  0.9098  -0.0027   0.0024\n",
      "v0         14.7902    0.9522  15.5333  0.0000  12.9050  16.6755\n",
      "p0         -0.0000    0.0000  -0.8957  0.3722  -0.0000   0.0000\n",
      "t0          0.0000    0.0004   0.0556  0.9558  -0.0007   0.0008\n",
      "2_7_1\n",
      "             Coef.  Std.Err.        t   P>|t|   [0.025   0.975]\n",
      "Intercept   0.0030    0.5779   0.0052  0.9959  -1.1546   1.1606\n",
      "m           0.0005    0.0004   1.4791  0.1447  -0.0002   0.0013\n",
      "s          -6.7291    0.7386  -9.1106  0.0000  -8.2087  -5.2495\n",
      "k           0.0000    0.0000   1.0502  0.2981  -0.0000   0.0000\n",
      "t           0.0002    0.0018   0.1016  0.9194  -0.0035   0.0039\n",
      "v0         14.8995    1.3849  10.7588  0.0000  12.1253  17.6737\n",
      "p0         -0.0000    0.0000  -0.5409  0.5907  -0.0000   0.0000\n",
      "t0          0.0000    0.0006   0.0506  0.9598  -0.0011   0.0011\n",
      "2_7_2\n",
      "             Coef.  Std.Err.       t   P>|t|   [0.025   0.975]\n",
      "Intercept   0.1544    0.9575  0.1613  0.8732  -1.8217   2.1306\n",
      "m           0.0005    0.0006  0.8712  0.3923  -0.0007   0.0018\n",
      "s          -6.9223    1.2238 -5.6566  0.0000  -9.4480  -4.3966\n",
      "k           0.0000    0.0000  0.7248  0.4756  -0.0000   0.0000\n",
      "t          -0.0002    0.0031 -0.0812  0.9360  -0.0066   0.0061\n",
      "v0         15.1003    2.2946  6.5809  0.0000  10.3646  19.8361\n",
      "p0         -0.0000    0.0000 -0.9230  0.3652  -0.0000   0.0000\n",
      "t0          0.0001    0.0009  0.1316  0.8964  -0.0018   0.0020\n",
      "2_7_3\n",
      "             Coef.  Std.Err.       t   P>|t|   [0.025   0.975]\n",
      "Intercept   0.6279    1.6093  0.3902  0.7066  -3.0832   4.3391\n",
      "m           0.0006    0.0010  0.5371  0.6058  -0.0018   0.0029\n",
      "s          -7.1112    2.0569 -3.4572  0.0086 -11.8544  -2.3679\n",
      "k           0.0000    0.0000  0.3975  0.7014  -0.0000   0.0000\n",
      "t          -0.0022    0.0051 -0.4281  0.6798  -0.0141   0.0097\n",
      "v0         15.4170    3.8567  3.9975  0.0040   6.5235  24.3105\n",
      "p0         -0.0000    0.0000 -0.2387  0.8173  -0.0000   0.0000\n",
      "t0          0.0003    0.0015  0.1761  0.8646  -0.0033   0.0038\n"
     ]
    },
    {
     "name": "stderr",
     "output_type": "stream",
     "text": [
      "/usr/local/lib/python3.9/site-packages/scipy/stats/_stats_py.py:1477: UserWarning: kurtosistest only valid for n>=20 ... continuing anyway, n=16\n",
      "  warnings.warn(\"kurtosistest only valid for n>=20 ... continuing \"\n"
     ]
    }
   ],
   "source": [
    "for name, model in models.items():\n",
    "    print(name)\n",
    "    print(model.summary2().tables[1].round(4))"
   ]
  },
  {
   "cell_type": "markdown",
   "id": "580fb566",
   "metadata": {},
   "source": [
    "# Exercise 9"
   ]
  },
  {
   "cell_type": "code",
   "execution_count": 29,
   "id": "3692331b",
   "metadata": {
    "execution": {
     "iopub.execute_input": "2023-07-17T16:32:32.112562Z",
     "iopub.status.busy": "2023-07-17T16:32:32.112334Z",
     "iopub.status.idle": "2023-07-17T16:32:32.159200Z",
     "shell.execute_reply": "2023-07-17T16:32:32.158308Z"
    }
   },
   "outputs": [
    {
     "data": {
      "text/html": [
       "<div>\n",
       "<style scoped>\n",
       "    .dataframe tbody tr th:only-of-type {\n",
       "        vertical-align: middle;\n",
       "    }\n",
       "\n",
       "    .dataframe tbody tr th {\n",
       "        vertical-align: top;\n",
       "    }\n",
       "\n",
       "    .dataframe thead th {\n",
       "        text-align: right;\n",
       "    }\n",
       "</style>\n",
       "<table border=\"1\" class=\"dataframe\">\n",
       "  <thead>\n",
       "    <tr style=\"text-align: right;\">\n",
       "      <th></th>\n",
       "      <th>mean</th>\n",
       "      <th>std</th>\n",
       "      <th>MSE</th>\n",
       "    </tr>\n",
       "  </thead>\n",
       "  <tbody>\n",
       "    <tr>\n",
       "      <th>0</th>\n",
       "      <td>230.156267</td>\n",
       "      <td>0.966150</td>\n",
       "      <td>0.924111</td>\n",
       "    </tr>\n",
       "    <tr>\n",
       "      <th>1</th>\n",
       "      <td>230.092224</td>\n",
       "      <td>1.254120</td>\n",
       "      <td>1.557088</td>\n",
       "    </tr>\n",
       "    <tr>\n",
       "      <th>2</th>\n",
       "      <td>229.957027</td>\n",
       "      <td>1.013553</td>\n",
       "      <td>1.017016</td>\n",
       "    </tr>\n",
       "    <tr>\n",
       "      <th>3</th>\n",
       "      <td>230.169616</td>\n",
       "      <td>1.037447</td>\n",
       "      <td>1.065534</td>\n",
       "    </tr>\n",
       "    <tr>\n",
       "      <th>4</th>\n",
       "      <td>229.898480</td>\n",
       "      <td>1.041472</td>\n",
       "      <td>1.073818</td>\n",
       "    </tr>\n",
       "    <tr>\n",
       "      <th>5</th>\n",
       "      <td>230.005033</td>\n",
       "      <td>1.280572</td>\n",
       "      <td>1.623467</td>\n",
       "    </tr>\n",
       "    <tr>\n",
       "      <th>6</th>\n",
       "      <td>230.075389</td>\n",
       "      <td>1.280411</td>\n",
       "      <td>1.623059</td>\n",
       "    </tr>\n",
       "    <tr>\n",
       "      <th>7</th>\n",
       "      <td>230.089210</td>\n",
       "      <td>0.725727</td>\n",
       "      <td>0.521414</td>\n",
       "    </tr>\n",
       "    <tr>\n",
       "      <th>8</th>\n",
       "      <td>229.990264</td>\n",
       "      <td>0.951721</td>\n",
       "      <td>0.896714</td>\n",
       "    </tr>\n",
       "    <tr>\n",
       "      <th>9</th>\n",
       "      <td>230.126760</td>\n",
       "      <td>1.346345</td>\n",
       "      <td>1.794518</td>\n",
       "    </tr>\n",
       "    <tr>\n",
       "      <th>10</th>\n",
       "      <td>230.107421</td>\n",
       "      <td>1.125018</td>\n",
       "      <td>1.253009</td>\n",
       "    </tr>\n",
       "    <tr>\n",
       "      <th>11</th>\n",
       "      <td>229.861824</td>\n",
       "      <td>1.396280</td>\n",
       "      <td>1.930103</td>\n",
       "    </tr>\n",
       "    <tr>\n",
       "      <th>12</th>\n",
       "      <td>229.950664</td>\n",
       "      <td>1.162393</td>\n",
       "      <td>1.337646</td>\n",
       "    </tr>\n",
       "    <tr>\n",
       "      <th>13</th>\n",
       "      <td>230.016845</td>\n",
       "      <td>1.321987</td>\n",
       "      <td>1.730174</td>\n",
       "    </tr>\n",
       "    <tr>\n",
       "      <th>14</th>\n",
       "      <td>230.015692</td>\n",
       "      <td>1.188564</td>\n",
       "      <td>1.398558</td>\n",
       "    </tr>\n",
       "    <tr>\n",
       "      <th>15</th>\n",
       "      <td>230.000549</td>\n",
       "      <td>1.435997</td>\n",
       "      <td>2.041467</td>\n",
       "    </tr>\n",
       "    <tr>\n",
       "      <th>16</th>\n",
       "      <td>230.147138</td>\n",
       "      <td>1.060209</td>\n",
       "      <td>1.112802</td>\n",
       "    </tr>\n",
       "    <tr>\n",
       "      <th>17</th>\n",
       "      <td>230.006373</td>\n",
       "      <td>1.351617</td>\n",
       "      <td>1.808599</td>\n",
       "    </tr>\n",
       "    <tr>\n",
       "      <th>18</th>\n",
       "      <td>229.966871</td>\n",
       "      <td>1.225543</td>\n",
       "      <td>1.486937</td>\n",
       "    </tr>\n",
       "    <tr>\n",
       "      <th>19</th>\n",
       "      <td>230.257130</td>\n",
       "      <td>1.343611</td>\n",
       "      <td>1.787238</td>\n",
       "    </tr>\n",
       "    <tr>\n",
       "      <th>20</th>\n",
       "      <td>229.972538</td>\n",
       "      <td>0.799752</td>\n",
       "      <td>0.633208</td>\n",
       "    </tr>\n",
       "    <tr>\n",
       "      <th>21</th>\n",
       "      <td>230.113127</td>\n",
       "      <td>1.075547</td>\n",
       "      <td>1.145234</td>\n",
       "    </tr>\n",
       "    <tr>\n",
       "      <th>22</th>\n",
       "      <td>230.089659</td>\n",
       "      <td>0.989811</td>\n",
       "      <td>0.969929</td>\n",
       "    </tr>\n",
       "    <tr>\n",
       "      <th>23</th>\n",
       "      <td>230.165592</td>\n",
       "      <td>1.275611</td>\n",
       "      <td>1.610911</td>\n",
       "    </tr>\n",
       "    <tr>\n",
       "      <th>24</th>\n",
       "      <td>229.945301</td>\n",
       "      <td>0.944878</td>\n",
       "      <td>0.883867</td>\n",
       "    </tr>\n",
       "    <tr>\n",
       "      <th>25</th>\n",
       "      <td>230.117853</td>\n",
       "      <td>1.106905</td>\n",
       "      <td>1.212985</td>\n",
       "    </tr>\n",
       "    <tr>\n",
       "      <th>26</th>\n",
       "      <td>229.924627</td>\n",
       "      <td>1.236313</td>\n",
       "      <td>1.513184</td>\n",
       "    </tr>\n",
       "    <tr>\n",
       "      <th>27</th>\n",
       "      <td>230.131634</td>\n",
       "      <td>0.935886</td>\n",
       "      <td>0.867123</td>\n",
       "    </tr>\n",
       "    <tr>\n",
       "      <th>28</th>\n",
       "      <td>229.963843</td>\n",
       "      <td>1.176523</td>\n",
       "      <td>1.370365</td>\n",
       "    </tr>\n",
       "    <tr>\n",
       "      <th>29</th>\n",
       "      <td>229.938556</td>\n",
       "      <td>1.063175</td>\n",
       "      <td>1.119038</td>\n",
       "    </tr>\n",
       "    <tr>\n",
       "      <th>30</th>\n",
       "      <td>230.047874</td>\n",
       "      <td>0.998668</td>\n",
       "      <td>0.987364</td>\n",
       "    </tr>\n",
       "    <tr>\n",
       "      <th>31</th>\n",
       "      <td>230.011064</td>\n",
       "      <td>1.150356</td>\n",
       "      <td>1.310086</td>\n",
       "    </tr>\n",
       "  </tbody>\n",
       "</table>\n",
       "</div>"
      ],
      "text/plain": [
       "          mean       std       MSE\n",
       "0   230.156267  0.966150  0.924111\n",
       "1   230.092224  1.254120  1.557088\n",
       "2   229.957027  1.013553  1.017016\n",
       "3   230.169616  1.037447  1.065534\n",
       "4   229.898480  1.041472  1.073818\n",
       "5   230.005033  1.280572  1.623467\n",
       "6   230.075389  1.280411  1.623059\n",
       "7   230.089210  0.725727  0.521414\n",
       "8   229.990264  0.951721  0.896714\n",
       "9   230.126760  1.346345  1.794518\n",
       "10  230.107421  1.125018  1.253009\n",
       "11  229.861824  1.396280  1.930103\n",
       "12  229.950664  1.162393  1.337646\n",
       "13  230.016845  1.321987  1.730174\n",
       "14  230.015692  1.188564  1.398558\n",
       "15  230.000549  1.435997  2.041467\n",
       "16  230.147138  1.060209  1.112802\n",
       "17  230.006373  1.351617  1.808599\n",
       "18  229.966871  1.225543  1.486937\n",
       "19  230.257130  1.343611  1.787238\n",
       "20  229.972538  0.799752  0.633208\n",
       "21  230.113127  1.075547  1.145234\n",
       "22  230.089659  0.989811  0.969929\n",
       "23  230.165592  1.275611  1.610911\n",
       "24  229.945301  0.944878  0.883867\n",
       "25  230.117853  1.106905  1.212985\n",
       "26  229.924627  1.236313  1.513184\n",
       "27  230.131634  0.935886  0.867123\n",
       "28  229.963843  1.176523  1.370365\n",
       "29  229.938556  1.063175  1.119038\n",
       "30  230.047874  0.998668  0.987364\n",
       "31  230.011064  1.150356  1.310086"
      ]
     },
     "execution_count": 29,
     "metadata": {},
     "output_type": "execute_result"
    }
   ],
   "source": [
    "tolerances = [f'tl{c}' for c in 'ABCDEFGHIJKLM']\n",
    "factors = {tl: [1, 2] for tl in tolerances}\n",
    "Design = doe.frac_fact_res(factors, 4)\n",
    "\n",
    "# Randomize and create replicates\n",
    "nrepeat = 100\n",
    "Design = Design.sample(frac=1).reset_index(drop=True)\n",
    "Design = Design.loc[Design.index.repeat(nrepeat)].reset_index(drop=True)\n",
    "\n",
    "# Run simulation\n",
    "simulator = mistat.PowerCircuitSimulation(**{k: list(Design[k]) for k in Design})\n",
    "result = simulator.simulate()\n",
    "result = mistat.simulationGroup(result, nrepeat)\n",
    "\n",
    "# Combine results with the Design matrix\n",
    "Design['response'] = result['volts']\n",
    "Design['group'] = result['group']\n",
    "\n",
    "# calculate mean, standard deviation, and MSE\n",
    "def groupAggregation(g):\n",
    "    return {\n",
    "        'mean': g['response'].mean(),\n",
    "        'std': g['response'].std(),\n",
    "        'MSE': g['response'].var(ddof=0),\n",
    "    }\n",
    "results = pd.DataFrame(list(Design.groupby('group').apply(groupAggregation)))\n",
    "results"
   ]
  }
 ],
 "metadata": {
  "language_info": {
   "codemirror_mode": {
    "name": "ipython",
    "version": 3
   },
   "file_extension": ".py",
   "mimetype": "text/x-python",
   "name": "python",
   "nbconvert_exporter": "python",
   "pygments_lexer": "ipython3",
   "version": "3.9.17"
  }
 },
 "nbformat": 4,
 "nbformat_minor": 5
}
