{
 "cells": [
  {
   "cell_type": "markdown",
   "id": "cbad31e4",
   "metadata": {},
   "source": [
    "# Exercise Chapter 6 \n",
    "Industrial Statistics: A Computer Based Approach with Python<br>\n",
    "by Ron Kenett, Shelemyahu Zacks, Peter Gedeck\n",
    "\n",
    "Publisher: Springer International Publishing; 1st edition (2023) <br>\n",
    "<!-- ISBN-13: 978-3031075650 -->\n",
    "\n",
    "(c) 2022 Ron Kenett, Shelemyahu Zacks, Peter Gedeck\n",
    "\n",
    "The code needs to be executed in sequence."
   ]
  },
  {
   "cell_type": "code",
   "execution_count": 1,
   "id": "628c48a2",
   "metadata": {
    "execution": {
     "iopub.execute_input": "2022-09-10T19:47:04.387370Z",
     "iopub.status.busy": "2022-09-10T19:47:04.387035Z",
     "iopub.status.idle": "2022-09-10T19:47:04.450123Z",
     "shell.execute_reply": "2022-09-10T19:47:04.448854Z"
    }
   },
   "outputs": [],
   "source": [
    "import os\n",
    "os.environ['OUTDATED_IGNORE'] = '1'\n",
    "import warnings\n",
    "from outdated import OutdatedPackageWarning\n",
    "warnings.filterwarnings('ignore', category=FutureWarning)\n",
    "warnings.filterwarnings('ignore', category=OutdatedPackageWarning)"
   ]
  },
  {
   "cell_type": "code",
   "execution_count": 2,
   "id": "fcb69cbf",
   "metadata": {
    "execution": {
     "iopub.execute_input": "2022-09-10T19:47:04.454241Z",
     "iopub.status.busy": "2022-09-10T19:47:04.453275Z",
     "iopub.status.idle": "2022-09-10T19:47:05.711477Z",
     "shell.execute_reply": "2022-09-10T19:47:05.710352Z"
    }
   },
   "outputs": [],
   "source": [
    "import numpy as np\n",
    "import pandas as pd\n",
    "import statsmodels.formula.api as smf\n",
    "\n",
    "import mistat"
   ]
  },
  {
   "cell_type": "markdown",
   "id": "e5fd04ab",
   "metadata": {},
   "source": [
    "# Exercise 6"
   ]
  },
  {
   "cell_type": "code",
   "execution_count": 3,
   "id": "a3ade68e",
   "metadata": {
    "execution": {
     "iopub.execute_input": "2022-09-10T19:47:05.716276Z",
     "iopub.status.busy": "2022-09-10T19:47:05.715896Z",
     "iopub.status.idle": "2022-09-10T19:47:05.729059Z",
     "shell.execute_reply": "2022-09-10T19:47:05.727855Z"
    }
   },
   "outputs": [],
   "source": [
    "df = pd.DataFrame([\n",
    "  [1, 1, 1, 1, 1, 1, 1, 1, 2.5, 0.0827],\n",
    "  [1, 1, 2, 2, 2, 2, 2, 2, 2.684, 0.1196],\n",
    "  [1, 1, 3, 3, 3, 3, 3, 3, 2.66, 0.1722],\n",
    "  [1, 2, 1, 1, 2, 2, 3, 3, 1.962, 0.1696],\n",
    "  [1, 2, 2, 2, 3, 3, 1, 1, 1.87, 0.1168],\n",
    "  [1, 2, 3, 3, 1, 1, 2, 2, 2.584, 0.1106],\n",
    "  [1, 3, 1, 2, 1, 3, 2, 3, 2.032, 0.0718],\n",
    "  [1, 3, 2, 3, 2, 1, 3, 1, 3.267, 0.2101],\n",
    "  [1, 3, 3, 1, 3, 2, 1, 2, 2.829, 0.1516],\n",
    "  [2, 1, 1, 3, 3, 2, 2, 1, 2.66, 0.1912],\n",
    "  [2, 1, 2, 1, 1, 3, 3, 2, 3.166, 0.0674],\n",
    "  [2, 1, 3, 2, 2, 1, 1, 3, 3.323, 0.1274],\n",
    "  [2, 2, 1, 2, 3, 1, 3, 2, 2.576, 0.085],\n",
    "  [2, 2, 2, 3, 1, 2, 1, 3, 2.308, 0.0964],\n",
    "  [2, 2, 3, 1, 2, 3, 2, 1, 2.464, 0.0385],\n",
    "  [2, 3, 1, 3, 2, 3, 1, 2, 2.667, 0.0706],\n",
    "  [2, 3, 2, 1, 3, 1, 2, 3, 3.156, 0.1569],\n",
    "  [2, 3, 3, 2, 1, 2, 3, 1, 3.494, 0.0473],\n",
    "], columns=['F1', 'F2', 'F3', 'F4', 'F5', \n",
    "            'F6', 'F7', 'F8', 'Xbar', 'S'])"
   ]
  },
  {
   "cell_type": "code",
   "execution_count": 4,
   "id": "176fce61",
   "metadata": {
    "execution": {
     "iopub.execute_input": "2022-09-10T19:47:05.733347Z",
     "iopub.status.busy": "2022-09-10T19:47:05.732543Z",
     "iopub.status.idle": "2022-09-10T19:47:05.743871Z",
     "shell.execute_reply": "2022-09-10T19:47:05.742705Z"
    }
   },
   "outputs": [],
   "source": [
    "df['F1'] = (df['F1']-1)*2-1\n",
    "for column in ['F2', 'F3', 'F4', 'F5', 'F6', 'F7', 'F8']:\n",
    "    df[column] = df[column] - 2\n",
    "df['SNR'] = np.log(df['Xbar'] / df['S'])"
   ]
  },
  {
   "cell_type": "code",
   "execution_count": 5,
   "id": "203a5547",
   "metadata": {
    "execution": {
     "iopub.execute_input": "2022-09-10T19:47:05.748269Z",
     "iopub.status.busy": "2022-09-10T19:47:05.747412Z",
     "iopub.status.idle": "2022-09-10T19:47:05.767569Z",
     "shell.execute_reply": "2022-09-10T19:47:05.766646Z"
    }
   },
   "outputs": [],
   "source": [
    "model = smf.ols('SNR ~ F1 + F2 + F3 + F4 + F5 + F6 + F7 + F8', data=df).fit()"
   ]
  },
  {
   "cell_type": "code",
   "execution_count": 6,
   "id": "17acfa97",
   "metadata": {
    "execution": {
     "iopub.execute_input": "2022-09-10T19:47:05.770906Z",
     "iopub.status.busy": "2022-09-10T19:47:05.770131Z",
     "iopub.status.idle": "2022-09-10T19:47:05.774652Z",
     "shell.execute_reply": "2022-09-10T19:47:05.773591Z"
    }
   },
   "outputs": [],
   "source": [
    "# Ignore user warning thrown here\n",
    "warnings.filterwarnings('ignore', category=UserWarning)"
   ]
  },
  {
   "cell_type": "code",
   "execution_count": 7,
   "id": "5e1a86a2",
   "metadata": {
    "execution": {
     "iopub.execute_input": "2022-09-10T19:47:05.777379Z",
     "iopub.status.busy": "2022-09-10T19:47:05.777135Z",
     "iopub.status.idle": "2022-09-10T19:47:05.791950Z",
     "shell.execute_reply": "2022-09-10T19:47:05.791033Z"
    }
   },
   "outputs": [
    {
     "name": "stdout",
     "output_type": "stream",
     "text": [
      "             Coef.  Std.Err.         t    P>|t|   [0.025   0.975]\n",
      "Intercept  3.22601   0.07518  42.90997  0.00000  3.05594  3.39608\n",
      "F1         0.26565   0.07518   3.53348  0.00638  0.09558  0.43572\n",
      "F2         0.07900   0.09208   0.85797  0.41317 -0.12929  0.28729\n",
      "F3         0.13848   0.09208   1.50392  0.16686 -0.06982  0.34677\n",
      "F4        -0.14339   0.09208  -1.55733  0.15382 -0.35169  0.06490\n",
      "F5        -0.31231   0.09208  -3.39185  0.00798 -0.52061 -0.10402\n",
      "F6         0.12630   0.09208   1.37164  0.20340 -0.08200  0.33459\n",
      "F7         0.02632   0.09208   0.28587  0.78145 -0.18197  0.23462\n",
      "F8        -0.17109   0.09208  -1.85810  0.09610 -0.37938  0.03720\n"
     ]
    }
   ],
   "source": [
    "print(model.summary2().tables[1].round(5))"
   ]
  },
  {
   "cell_type": "code",
   "execution_count": 8,
   "id": "59690e76",
   "metadata": {
    "execution": {
     "iopub.execute_input": "2022-09-10T19:47:05.795191Z",
     "iopub.status.busy": "2022-09-10T19:47:05.794388Z",
     "iopub.status.idle": "2022-09-10T19:47:05.798722Z",
     "shell.execute_reply": "2022-09-10T19:47:05.797794Z"
    }
   },
   "outputs": [],
   "source": [
    "warnings.filterwarnings('default', category=UserWarning)"
   ]
  }
 ],
 "metadata": {
  "language_info": {
   "codemirror_mode": {
    "name": "ipython",
    "version": 3
   },
   "file_extension": ".py",
   "mimetype": "text/x-python",
   "name": "python",
   "nbconvert_exporter": "python",
   "pygments_lexer": "ipython3",
   "version": "3.9.13"
  }
 },
 "nbformat": 4,
 "nbformat_minor": 5
}
