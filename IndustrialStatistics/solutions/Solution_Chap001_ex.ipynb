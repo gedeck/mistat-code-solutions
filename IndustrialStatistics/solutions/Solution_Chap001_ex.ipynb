{
 "cells": [
  {
   "cell_type": "markdown",
   "id": "d9fb04eb",
   "metadata": {},
   "source": [
    "# Exercise Chapter 1 \n",
    "Industrial Statistics: A Computer Based Approach with Python<br>\n",
    "by Ron Kenett, Shelemyahu Zacks, Peter Gedeck\n",
    "\n",
    "Publisher: Springer International Publishing; 1st edition (2023) <br>\n",
    "<!-- ISBN-13: 978-3031075650 -->\n",
    "\n",
    "(c) 2022 Ron Kenett, Shelemyahu Zacks, Peter Gedeck\n",
    "\n",
    "The code needs to be executed in sequence."
   ]
  }
 ],
 "metadata": {},
 "nbformat": 4,
 "nbformat_minor": 5
}
