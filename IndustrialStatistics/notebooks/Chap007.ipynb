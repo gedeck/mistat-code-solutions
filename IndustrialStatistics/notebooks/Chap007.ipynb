{
 "cells": [
  {
   "cell_type": "markdown",
   "id": "6682d210",
   "metadata": {},
   "source": [
    "# Chapter 7 \n",
    " Industrial Statistics: A Computer Based Approach with Python<br>\n",
    "by Ron Kenett, Shelemyahu Zacks, Peter Gedeck\n",
    "\n",
    "Publisher: Springer International Publishing; 1st edition (2023) <br>\n",
    "<!-- ISBN-13: 978-3031075650 -->\n",
    "\n",
    "(c) 2022 Ron Kenett, Shelemyahu Zacks, Peter Gedeck\n",
    "\n",
    "The code needs to be executed in sequence."
   ]
  },
  {
   "cell_type": "code",
   "execution_count": null,
   "id": "680d4966",
   "metadata": {},
   "outputs": [],
   "source": [
    "import os\n",
    "os.environ['OUTDATED_IGNORE'] = '1'\n",
    "import warnings\n",
    "from outdated import OutdatedPackageWarning\n",
    "warnings.filterwarnings('ignore', category=FutureWarning)\n",
    "warnings.filterwarnings('ignore', category=OutdatedPackageWarning)\n",
    "warnings.filterwarnings('ignore', category=RuntimeWarning)"
   ]
  },
  {
   "cell_type": "markdown",
   "id": "0821b695",
   "metadata": {},
   "source": [
    "# Computer Experiments"
   ]
  },
  {
   "cell_type": "code",
   "execution_count": null,
   "id": "d3b8a2f9",
   "metadata": {},
   "outputs": [],
   "source": [
    "import random\n",
    "import pandas as pd\n",
    "import numpy as np\n",
    "from scipy import stats\n",
    "import statsmodels.formula.api as smf\n",
    "import matplotlib.pyplot as plt\n",
    "import seaborn as sns\n",
    "import mistat\n",
    "from statsmodels.nonparametric.smoothers_lowess import lowess\n",
    "from itertools import chain\n",
    "from mistat.design import doe"
   ]
  },
  {
   "cell_type": "markdown",
   "id": "f884e560",
   "metadata": {},
   "source": [
    "## Introduction to Computer Experiments"
   ]
  },
  {
   "cell_type": "markdown",
   "id": "3258c4b2",
   "metadata": {},
   "source": [
    "## Designing Computer Experiments"
   ]
  },
  {
   "cell_type": "code",
   "execution_count": null,
   "id": "e88485b6",
   "metadata": {},
   "outputs": [],
   "source": [
    "np.random.seed(2)\n",
    "\n",
    "Factors = {\n",
    "    'X1': [1, 5],\n",
    "    'X2': [1, 5],\n",
    "}\n",
    "\n",
    "fig, axes = plt.subplots(nrows=1, ncols=3, figsize=(8, 3))\n",
    "lim = [0.5, 5.5]\n",
    "for idx, ax in enumerate(axes, 1):\n",
    "  if idx == 0:\n",
    "    Design = doe.space_filling_lhs(Factors, num_samples=5)\n",
    "  else:\n",
    "    Design = doe.lhs(Factors, num_samples=5)\n",
    "\n",
    "  Design.plot.scatter(x='X1', y='X2', ax=ax)\n",
    "  ax.set_xlim(lim)\n",
    "  ax.set_ylim(lim)\n",
    "  ax.set_title(f'D{idx}')\n",
    "\n",
    "plt.tight_layout()\n",
    "plt.show()"
   ]
  },
  {
   "cell_type": "code",
   "execution_count": null,
   "id": "492094c5",
   "metadata": {},
   "outputs": [],
   "source": [
    "# various approaches to create Latin hypercube designs\n",
    "# Various methods\n",
    "designMethods = [\n",
    "    ('Latin Hypercube design', doe.lhs),\n",
    "    ('space-filling Latin Hypercube design', doe.space_filling_lhs),\n",
    "    ('random_k_means', doe.random_k_means),\n",
    "    ('maximin', doe.maximin),\n",
    "    ('halton', doe.halton),\n",
    "    ('uniform_random', doe.uniform_random)\n",
    "]\n",
    "\n",
    "num_samples = 5\n",
    "fig, axes = plt.subplots(nrows=len(designMethods), ncols=4, figsize=(9, 2.1 * len(designMethods)))\n",
    "for nmethod, (label, builder) in enumerate(designMethods):\n",
    "    np.random.seed(1)\n",
    "    for idx in range(len(axes[0])):\n",
    "        Design = builder(Factors, num_samples=num_samples)\n",
    "        ax = axes[nmethod][idx]\n",
    "        Design.plot.scatter(x='X1', y='X2', ax=ax)\n",
    "        ax.set_xlim(lim)\n",
    "        ax.set_ylim(lim)\n",
    "        ax.set_xlabel('')\n",
    "        ax.set_ylabel('')\n",
    "        ax.set_xticks([])\n",
    "        ax.set_yticks([])\n",
    "    ax = axes[nmethod][0]\n",
    "\n",
    "for nmethod, (label, _) in enumerate(designMethods):\n",
    "    ax = axes[nmethod][0]\n",
    "    pos = ax.get_position()\n",
    "    plt.text(pos.x0, pos.y1, label, transform=fig.transFigure, verticalalignment='bottom')\n",
    "\n",
    "# plt.tight_layout()\n",
    "plt.show()"
   ]
  },
  {
   "cell_type": "code",
   "execution_count": null,
   "id": "dbd0bed8",
   "metadata": {},
   "outputs": [],
   "source": [
    "from mistat.design import doe\n",
    "np.random.seed(1)\n",
    "Factors = {\n",
    "    'm': [30, 60],\n",
    "    's': [0.005, 0.02],\n",
    "    'v0': [0.002, 0.01],\n",
    "    'k': [1_000, 5_000],\n",
    "    'p0': [90_000, 110_000],\n",
    "    't': [290, 296],\n",
    "    't0': [340, 360],\n",
    "}\n",
    "Design = doe.lhs(Factors, num_samples=14)\n",
    "\n",
    "# Randomize and create replicates\n",
    "nrepeat = 50\n",
    "Design = Design.sample(frac=1).reset_index(drop=True)\n",
    "Design = Design.loc[Design.index.repeat(nrepeat)].reset_index(drop=True)\n",
    "\n",
    "kwargs = {c: list(Design[c]) for c in Design.columns}\n",
    "simulator = mistat.PistonSimulator(**kwargs)\n",
    "result = simulator.simulate()\n",
    "result = mistat.simulationGroup(result, nrepeat)\n",
    "\n",
    "mean_result = result.groupby('group').mean()"
   ]
  },
  {
   "cell_type": "code",
   "execution_count": null,
   "id": "695ecbcc",
   "metadata": {},
   "outputs": [],
   "source": [
    "mean_result"
   ]
  },
  {
   "cell_type": "code",
   "execution_count": null,
   "id": "8920e885",
   "metadata": {},
   "outputs": [],
   "source": [
    "np.random.seed(1)\n",
    "Design = doe.lhs(Factors, num_samples=14)\n",
    "\n",
    "def panelPlot(x, y, **kwargs):\n",
    "    plt.scatter(x, y, **kwargs,\n",
    "                facecolors='black', edgecolor='black', s=20)\n",
    "    dx = 0.05*(max(x) - min(x))\n",
    "    plt.xlim(min(x)-dx, max(x) + dx)\n",
    "    dy = 0.05*(max(y) - min(y))\n",
    "    plt.ylim(min(y)-dy, max(y) + dy)\n",
    "\n",
    "g = sns.PairGrid(Design, height=1.3)\n",
    "g = g.map_offdiag(panelPlot)\n",
    "for idx, column in enumerate(Factors):\n",
    "    ax = g.axes[idx][idx]\n",
    "    ax.text(0.5, 0.5, column, transform=ax.transAxes,\n",
    "            verticalalignment='center', horizontalalignment='center')"
   ]
  },
  {
   "cell_type": "markdown",
   "id": "74fb7f14",
   "metadata": {},
   "source": [
    "## Analyzing Computer Experiments"
   ]
  },
  {
   "cell_type": "code",
   "execution_count": null,
   "id": "f0972b2b",
   "metadata": {},
   "outputs": [],
   "source": [
    "from pyKriging.krige import kriging\n",
    "random.seed(1)\n",
    "\n",
    "outcome = 'seconds'\n",
    "predictors = ['m', 's', 'v0', 'k', 'p0', 't', 't0']\n",
    "\n",
    "model = kriging(mean_result[predictors].values, mean_result[outcome].values)\n",
    "model.train()"
   ]
  },
  {
   "cell_type": "code",
   "execution_count": null,
   "id": "34db28c7",
   "metadata": {},
   "outputs": [],
   "source": [
    "# use precalculated values to skip jackknife\n",
    "validation = pd.DataFrame({'actual': {0: 0.05441877891968666,\n",
    "  1: 0.03727837011155499,\n",
    "  2: 0.1651319040375938,\n",
    "  3: 0.047593258114843086,\n",
    "  4: 0.01456573521939926,\n",
    "  5: 0.0655038377359666,\n",
    "  6: 0.019871385950919314,\n",
    "  7: 0.11022122791225683,\n",
    "  8: 0.07294231445090985,\n",
    "  9: 0.04356622464674687,\n",
    "  10: 0.10830895867381393,\n",
    "  11: 0.009048596833718543,\n",
    "  12: 0.05076351774449578,\n",
    "  13: 0.02298875168903235},\n",
    " 'predicted': {0: 0.05095935548701239,\n",
    "  1: 0.058740234719276106,\n",
    "  2: 0.1284175012474648,\n",
    "  3: 0.043225924165150004,\n",
    "  4: 0.004876412005997776,\n",
    "  5: 0.07103701426464179,\n",
    "  6: 0.017284071531404925,\n",
    "  7: 0.09788530171452367,\n",
    "  8: 0.06587533561671288,\n",
    "  9: 0.03994568846369216,\n",
    "  10: 0.12620555835653657,\n",
    "  11: 0.012938892361934535,\n",
    "  12: 0.04721028883379725,\n",
    "  13: 0.028418579391554052}})\n",
    "ax = validation.plot.scatter(x='predicted', y='actual', color='black')\n",
    "ax.plot([0, 0.175], [0, 0.175], color='lightgrey')\n",
    "ax.set_xlabel('Leave-one-out predicted value')\n",
    "ax.set_ylabel('Actual value')\n",
    "plt.show()"
   ]
  },
  {
   "cell_type": "code",
   "execution_count": null,
   "id": "dbae7444",
   "metadata": {},
   "outputs": [],
   "source": [
    "def looValidation(data, seed=123):\n",
    "    random.seed(seed)\n",
    "    jackknife  = []\n",
    "    for i, row in data.iterrows():\n",
    "        subset = data.drop(i)\n",
    "        model = kriging(subset[predictors].values, subset[outcome].values)\n",
    "        model.train()\n",
    "        jackknife.append({\n",
    "            'actual': row[outcome],\n",
    "            'predicted': model.predict(row[predictors].values),\n",
    "        })\n",
    "    return pd.DataFrame(jackknife)\n",
    "validation = looValidation(mean_result)"
   ]
  },
  {
   "cell_type": "code",
   "execution_count": null,
   "id": "b7c8758f",
   "metadata": {},
   "outputs": [],
   "source": [
    "from sklearn import metrics\n",
    "MAE = metrics.mean_absolute_error(validation['actual'], validation['predicted'])\n",
    "R2 = metrics.r2_score(validation['actual'], validation['predicted'])\n",
    "print(f'MAE = {MAE:.4f}')\n",
    "print(f'r2 {R2:.3f}', )"
   ]
  },
  {
   "cell_type": "code",
   "execution_count": null,
   "id": "e36a1b60",
   "metadata": {},
   "outputs": [],
   "source": [
    "random.seed(1)\n",
    "# create a large latin hypercube design\n",
    "Design = doe.lhs(Factors, num_samples=500)\n",
    "\n",
    "# for each row in the design, predict the cycle time using the kriging model\n",
    "predictions = []\n",
    "for _, row in Design.iterrows():\n",
    "    predictions.append(model.predict(row[predictors].values))\n",
    "Design['seconds'] = predictions\n",
    "\n",
    "# determine and plot the marginal distribution using lowess regression\n",
    "fig, axes = plt.subplots(ncols=3, nrows=2)\n",
    "ylim = (min(Design['seconds']),max(Design['seconds']))\n",
    "for ax, column in zip(chain.from_iterable(axes), predictors):\n",
    "    fit = lowess(Design['seconds'], Design[column],\n",
    "                 frac=0.5, it=1, return_sorted=True)\n",
    "    fit = pd.DataFrame(fit, columns=['x', 'y'])\n",
    "    ax.axhline(Design['seconds'].mean(), color='grey')\n",
    "    ax.plot(fit['x'], fit['y'], color='black')\n",
    "    ax.set_ylim(ylim)\n",
    "    ax.set_xlabel(column)\n",
    "plt.tight_layout()"
   ]
  },
  {
   "cell_type": "code",
   "execution_count": null,
   "id": "ff28b5d1",
   "metadata": {},
   "outputs": [],
   "source": [
    "def plotSurface(model, data, f1, f2, ncontours=20):\n",
    "    def linspace(limits):\n",
    "        lmin, lmax = limits\n",
    "        padding = 0.02 * (lmax - lmin)\n",
    "        return np.linspace(lmin-padding, lmax+padding)\n",
    "    x1 = linspace(Factors[f1])\n",
    "    x2 = linspace(Factors[f2])\n",
    "    X1, X2 = np.meshgrid(x1, x2)\n",
    "\n",
    "    grid = {f1: X1.ravel(), f2: X2.ravel()}\n",
    "    for f in predictors:\n",
    "        if f in (f1, f2):\n",
    "            continue\n",
    "        grid[f] = np.mean(Factors[f])\n",
    "    df = pd.DataFrame(grid)\n",
    "    responses = np.array([model.predict(v.values) for _, v in df[predictors].iterrows()])\n",
    "\n",
    "    # display in factor co-ordinates\n",
    "    svalues = x1\n",
    "    kvalues = x2\n",
    "    CS = plt.contour(svalues, kvalues,\n",
    "                responses.reshape(len(x2), len(x1)),\n",
    "                ncontours, colors='gray')\n",
    "    ax = plt.gca()\n",
    "    ax.clabel(CS, inline=True, fontsize=10)\n",
    "    ax.set_xlabel(f1)\n",
    "    ax.set_ylabel(f2)\n",
    "    ax.scatter(data['v0'], data['s'], color='black')\n",
    "    return ax\n",
    "\n",
    "ax = plotSurface(model, mean_result, 'v0', 's')\n",
    "plt.show()"
   ]
  },
  {
   "cell_type": "markdown",
   "id": "54a4dc10",
   "metadata": {},
   "source": [
    "## Stochastic Emulators"
   ]
  },
  {
   "cell_type": "markdown",
   "id": "4e810e6d",
   "metadata": {},
   "source": [
    "## Integrating Physical and Computer Experiments"
   ]
  },
  {
   "cell_type": "markdown",
   "id": "5d4bc9b8",
   "metadata": {},
   "source": [
    "## Simulation of Random Variables"
   ]
  },
  {
   "cell_type": "markdown",
   "id": "5b1d168c",
   "metadata": {},
   "source": [
    "### Basic Procedures"
   ]
  },
  {
   "cell_type": "markdown",
   "id": "b7cf1641",
   "metadata": {},
   "source": [
    "### Generating Random Vectors"
   ]
  },
  {
   "cell_type": "code",
   "execution_count": null,
   "id": "316ebd5d",
   "metadata": {},
   "outputs": [],
   "source": [
    "np.random.seed(1)\n",
    "\n",
    "def standardBivariateNorm(rho, Ns):\n",
    "  X = stats.norm.rvs(size=Ns)\n",
    "  Y = rho*X + np.sqrt(1-rho**2)*stats.norm.rvs(size=Ns)\n",
    "  return pd.DataFrame({'x': X, 'y': Y})\n",
    "\n",
    "standardBivariateNorm(0.5, 1000).plot.scatter('x', 'y', alpha=0.5, color='gray')\n",
    "plt.show()"
   ]
  },
  {
   "cell_type": "code",
   "execution_count": null,
   "id": "dc8d4c3f",
   "metadata": {},
   "outputs": [],
   "source": [
    "rv = stats.multivariate_normal.rvs(mean=(0, 0), cov=[[1, 0.5], [0.5, 1]],\n",
    "                                   size=1000)\n",
    "pd.DataFrame(rv, columns=('x', 'y')).plot.scatter('x', 'y')\n",
    "plt.show()"
   ]
  },
  {
   "cell_type": "markdown",
   "id": "4d89176b",
   "metadata": {},
   "source": [
    "### Approximating Integrals"
   ]
  },
  {
   "cell_type": "code",
   "execution_count": null,
   "id": "ab2e17fe",
   "metadata": {},
   "outputs": [],
   "source": [
    "np.random.seed(2)\n",
    "\n",
    "rho = 0.8\n",
    "exact = np.exp(1 + rho)\n",
    "integrals = [{'Method': 'exact', 'Integral': exact}]\n",
    "\n",
    "# simulate\n",
    "for Ns in (100, 1000, 10_000, 100_000):\n",
    "  for _ in range(10):\n",
    "    rv = standardBivariateNorm(rho, Ns)\n",
    "    integrals.append({\n",
    "      'Method': str(Ns),\n",
    "      'Integral': np.mean(np.exp(rv['x'] + rv['y'])),\n",
    "    })\n",
    "df = pd.DataFrame(integrals)\n",
    "ax = sns.boxplot(x=df['Method'], y=df['Integral'], color='lightgrey', fliersize=0)\n",
    "ax = sns.stripplot(x=df['Method'], y=df['Integral'], color='black', ax=ax)\n",
    "ax.axhline(exact, linestyle=':', color='grey', zorder=0)\n",
    "ax.set_xlabel('Method / Sample size')\n",
    "plt.show()"
   ]
  },
  {
   "cell_type": "markdown",
   "id": "c8d80fca",
   "metadata": {},
   "source": [
    "## Chapter Highlights"
   ]
  },
  {
   "cell_type": "markdown",
   "id": "87cd70af",
   "metadata": {},
   "source": [
    "## Exercises"
   ]
  }
 ],
 "metadata": {},
 "nbformat": 4,
 "nbformat_minor": 5
}
