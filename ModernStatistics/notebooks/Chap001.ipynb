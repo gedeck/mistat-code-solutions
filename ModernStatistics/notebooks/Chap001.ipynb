{
 "cells": [
  {
   "cell_type": "markdown",
   "id": "b0db6cec",
   "metadata": {},
   "source": [
    "# Chapter 1 \n",
    " Modern Statistics: A Computer Based Approach with Python<br>\n",
    "by Ron Kenett, Shelemyahu Zacks, Peter Gedeck\n",
    "\n",
    "Publisher: Springer International Publishing; 1st edition (September 15, 2022) <br>\n",
    "ISBN-13: 978-3031075650\n",
    "\n",
    "(c) 2022 Ron Kenett, Shelemyahu Zacks, Peter Gedeck\n",
    "\n",
    "The code needs to be executed in sequence."
   ]
  },
  {
   "cell_type": "code",
   "execution_count": 1,
   "id": "7a57780d",
   "metadata": {
    "execution": {
     "iopub.execute_input": "2022-07-18T16:59:54.391983Z",
     "iopub.status.busy": "2022-07-18T16:59:54.391012Z",
     "iopub.status.idle": "2022-07-18T16:59:54.451863Z",
     "shell.execute_reply": "2022-07-18T16:59:54.450697Z"
    }
   },
   "outputs": [],
   "source": [
    "import os\n",
    "os.environ['OUTDATED_IGNORE'] = '1'\n",
    "import warnings\n",
    "from outdated import OutdatedPackageWarning\n",
    "warnings.filterwarnings('ignore', category=FutureWarning)\n",
    "warnings.filterwarnings('ignore', category=OutdatedPackageWarning)"
   ]
  },
  {
   "cell_type": "markdown",
   "id": "9199fa31",
   "metadata": {},
   "source": [
    "# Analyzing Variability: Descriptive Statistics"
   ]
  },
  {
   "cell_type": "markdown",
   "id": "7ad773ff",
   "metadata": {},
   "source": [
    "## Random Phenomena and the Structure of Observations"
   ]
  },
  {
   "cell_type": "code",
   "execution_count": 2,
   "id": "165b9db3",
   "metadata": {
    "execution": {
     "iopub.execute_input": "2022-07-18T16:59:54.456853Z",
     "iopub.status.busy": "2022-07-18T16:59:54.455868Z",
     "iopub.status.idle": "2022-07-18T16:59:55.709298Z",
     "shell.execute_reply": "2022-07-18T16:59:55.707955Z"
    }
   },
   "outputs": [
    {
     "name": "stdout",
     "output_type": "stream",
     "text": [
      "Requirement already satisfied: mistat in /usr/local/lib/python3.9/site-packages (0.1.1)\r\n"
     ]
    },
    {
     "name": "stdout",
     "output_type": "stream",
     "text": [
      "\u001b[33mWARNING: Running pip as the 'root' user can result in broken permissions and conflicting behaviour with the system package manager. It is recommended to use a virtual environment instead: https://pip.pypa.io/warnings/venv\u001b[0m\u001b[33m\r\n",
      "\u001b[0m"
     ]
    },
    {
     "name": "stdout",
     "output_type": "stream",
     "text": [
      "Note: you may need to restart the kernel to use updated packages.\n"
     ]
    }
   ],
   "source": [
    "pip install mistat"
   ]
  },
  {
   "cell_type": "code",
   "execution_count": 3,
   "id": "88a8ad5c",
   "metadata": {
    "execution": {
     "iopub.execute_input": "2022-07-18T16:59:55.713536Z",
     "iopub.status.busy": "2022-07-18T16:59:55.713179Z",
     "iopub.status.idle": "2022-07-18T16:59:56.749830Z",
     "shell.execute_reply": "2022-07-18T16:59:56.748837Z"
    }
   },
   "outputs": [
    {
     "name": "stdout",
     "output_type": "stream",
     "text": [
      "0    1.008\n",
      "1    1.098\n",
      "2    1.120\n",
      "3    0.423\n",
      "4    1.021\n",
      "Name: CYCLT, dtype: float64\n"
     ]
    }
   ],
   "source": [
    "import mistat\n",
    "data = mistat.load_data('CYCLT')\n",
    "print(data.head())"
   ]
  },
  {
   "cell_type": "code",
   "execution_count": 4,
   "id": "6693190b",
   "metadata": {
    "execution": {
     "iopub.execute_input": "2022-07-18T16:59:56.752892Z",
     "iopub.status.busy": "2022-07-18T16:59:56.752643Z",
     "iopub.status.idle": "2022-07-18T16:59:56.762418Z",
     "shell.execute_reply": "2022-07-18T16:59:56.761535Z"
    }
   },
   "outputs": [
    {
     "name": "stdout",
     "output_type": "stream",
     "text": [
      "\\begin{tabular}{rrrrr}\\toprule\n",
      "1.008 & 1.098 & 1.120 & 0.423 & 1.021\n",
      "\\\\\n",
      "1.069 & 0.271 & 0.431 & 1.095 & 1.088\n",
      "\\\\\n",
      "1.117 & 1.080 & 0.206 & 0.330 & 0.314\n",
      "\\\\\n",
      "1.132 & 0.586 & 1.118 & 0.319 & 0.664\n",
      "\\\\\n",
      "1.141 & 0.662 & 0.531 & 0.280 & 0.489\n",
      "\\\\\n",
      "1.080 & 0.628 & 0.302 & 0.179 & 1.056\n",
      "\\\\\n",
      "0.449 & 1.057 & 0.437 & 0.175 & 0.482\n",
      "\\\\\n",
      "0.275 & 1.084 & 0.287 & 1.068 & 1.069\n",
      "\\\\\n",
      "0.215 & 1.107 & 0.348 & 0.213 & 0.200\n",
      "\\\\\n",
      "0.187 & 0.339 & 0.224 & 1.009 & 0.560\n",
      "\\\\\n",
      "\\bottomrule\\end{tabular}\n"
     ]
    }
   ],
   "source": [
    "import pandas as pd\n",
    "from itertools import zip_longest\n",
    "import mistat\n",
    "\n",
    "def grouper(iterable, n, fillvalue=None):\n",
    "    \"Collect data into fixed-length chunks or blocks\"\n",
    "    # grouper('ABCDEFG', 3, 'x') --> ABC DEF Gxx\"\n",
    "    args = [iter(iterable)] * n\n",
    "    return zip_longest(*args, fillvalue=fillvalue)\n",
    "\n",
    "cyclt = mistat.load_data('CYCLT')\n",
    "\n",
    "print('\\\\begin{tabular}{rrrrr}\\\\toprule')\n",
    "for chunk in grouper(cyclt, 5):\n",
    "    print(' & '.join([f'{v:.3f}' for v in chunk]))\n",
    "    print('\\\\\\\\')\n",
    "print('\\\\bottomrule\\\\end{tabular}')"
   ]
  },
  {
   "cell_type": "code",
   "execution_count": 5,
   "id": "ff1fb87e",
   "metadata": {
    "execution": {
     "iopub.execute_input": "2022-07-18T16:59:56.766969Z",
     "iopub.status.busy": "2022-07-18T16:59:56.766243Z",
     "iopub.status.idle": "2022-07-18T16:59:56.773011Z",
     "shell.execute_reply": "2022-07-18T16:59:56.772069Z"
    }
   },
   "outputs": [
    {
     "name": "stdout",
     "output_type": "stream",
     "text": [
      "0, 1, 0, 0, 0, 0, 0, 0, 0, 1, 0, 1, 0, 1, 0, 1, 0, 1, 0, 0,\\\\\n",
      "1, 1, 0, 1, 1, 1, 0, 0, 0, 1, 0, 0, 1, 1, 1, 0, 1, 1, 0, 1.\\\\\n"
     ]
    }
   ],
   "source": [
    "from scipy.stats import binom\n",
    "import numpy as np\n",
    "np.random.seed(seed=1) # scipy uses numpy to create random numbers\n",
    "\n",
    "X = binom.rvs(1, 0.5, size=40)\n",
    "\n",
    "print(', '.join([f'{v}' for v in X[:20]]) + ',\\\\\\\\')\n",
    "print(', '.join([f'{v}' for v in X[20:]]) + '.\\\\\\\\')"
   ]
  },
  {
   "cell_type": "code",
   "execution_count": 6,
   "id": "2dc784a0",
   "metadata": {
    "execution": {
     "iopub.execute_input": "2022-07-18T16:59:56.775819Z",
     "iopub.status.busy": "2022-07-18T16:59:56.775355Z",
     "iopub.status.idle": "2022-07-18T16:59:56.780191Z",
     "shell.execute_reply": "2022-07-18T16:59:56.779335Z"
    }
   },
   "outputs": [],
   "source": [
    "np.set_printoptions(linewidth=60)"
   ]
  },
  {
   "cell_type": "code",
   "execution_count": 7,
   "id": "455fa324",
   "metadata": {
    "execution": {
     "iopub.execute_input": "2022-07-18T16:59:56.783172Z",
     "iopub.status.busy": "2022-07-18T16:59:56.782676Z",
     "iopub.status.idle": "2022-07-18T16:59:56.788280Z",
     "shell.execute_reply": "2022-07-18T16:59:56.787425Z"
    }
   },
   "outputs": [
    {
     "name": "stdout",
     "output_type": "stream",
     "text": [
      "[1 1 0 1 0 0 1 0 0 0 0 1 0 0 0 0 1 0 1 1 0 0 1 0 0 1 1 1 1\n",
      " 1 1 0 0 1 0 0 1 0 1 1 1 1 1 0 0 1 0 1 1 1]\n"
     ]
    }
   ],
   "source": [
    "from scipy.stats import binom\n",
    "import numpy as np\n",
    "\n",
    "X = binom.rvs(1, 0.5, size=50)\n",
    "\n",
    "print(X)"
   ]
  },
  {
   "cell_type": "code",
   "execution_count": 8,
   "id": "671d22f2",
   "metadata": {
    "execution": {
     "iopub.execute_input": "2022-07-18T16:59:56.791557Z",
     "iopub.status.busy": "2022-07-18T16:59:56.790777Z",
     "iopub.status.idle": "2022-07-18T16:59:56.794802Z",
     "shell.execute_reply": "2022-07-18T16:59:56.793889Z"
    }
   },
   "outputs": [],
   "source": [
    "np.set_printoptions(linewidth=75)"
   ]
  },
  {
   "cell_type": "code",
   "execution_count": 9,
   "id": "8b849410",
   "metadata": {
    "execution": {
     "iopub.execute_input": "2022-07-18T16:59:56.797788Z",
     "iopub.status.busy": "2022-07-18T16:59:56.797303Z",
     "iopub.status.idle": "2022-07-18T16:59:56.957135Z",
     "shell.execute_reply": "2022-07-18T16:59:56.956136Z"
    }
   },
   "outputs": [
    {
     "data": {
      "image/png": "[encoded data removed]",
      "text/plain": [
       "<Figure size 432x288 with 1 Axes>"
      ]
     },
     "metadata": {
      "needs_background": "light"
     },
     "output_type": "display_data"
    }
   ],
   "source": [
    "import matplotlib.pyplot as plt\n",
    "\n",
    "steelrod = mistat.load_data('STEELROD')\n",
    "\n",
    "# create a scatterplot\n",
    "ax = steelrod.plot(y='STEELROD', style='.', color='black')\n",
    "ax.set_xlabel('Index')            # set the x axis title\n",
    "ax.set_ylabel('Steel rod Length') # set the y axis title\n",
    "plt.show()"
   ]
  },
  {
   "cell_type": "code",
   "execution_count": 10,
   "id": "b083e53f",
   "metadata": {
    "execution": {
     "iopub.execute_input": "2022-07-18T16:59:56.960473Z",
     "iopub.status.busy": "2022-07-18T16:59:56.960197Z",
     "iopub.status.idle": "2022-07-18T16:59:57.051695Z",
     "shell.execute_reply": "2022-07-18T16:59:57.050593Z"
    }
   },
   "outputs": [
    {
     "data": {
      "image/png": "[encoded data removed]",
      "text/plain": [
       "<Figure size 432x288 with 1 Axes>"
      ]
     },
     "metadata": {
      "needs_background": "light"
     },
     "output_type": "display_data"
    }
   ],
   "source": [
    "steelrod[26:] = steelrod[26:] - 3\n",
    "\n",
    "ax = steelrod.plot(y='STEELROD', style='.', color='black')\n",
    "ax.set_xlabel('Index')\n",
    "ax.set_ylabel('Steel rod Length')\n",
    "ax.hlines(y=steelrod[:26].mean(), xmin=0, xmax=26)\n",
    "ax.hlines(y=steelrod[26:].mean(), xmin=26, xmax=len(steelrod))\n",
    "plt.show()"
   ]
  },
  {
   "cell_type": "code",
   "execution_count": 11,
   "id": "4f27ddaf",
   "metadata": {
    "execution": {
     "iopub.execute_input": "2022-07-18T16:59:57.055556Z",
     "iopub.status.busy": "2022-07-18T16:59:57.054611Z",
     "iopub.status.idle": "2022-07-18T16:59:57.059357Z",
     "shell.execute_reply": "2022-07-18T16:59:57.058347Z"
    }
   },
   "outputs": [],
   "source": [
    "np.random.seed(seed=1)"
   ]
  },
  {
   "cell_type": "code",
   "execution_count": 12,
   "id": "a93cd2f0",
   "metadata": {
    "execution": {
     "iopub.execute_input": "2022-07-18T16:59:57.063253Z",
     "iopub.status.busy": "2022-07-18T16:59:57.061971Z",
     "iopub.status.idle": "2022-07-18T16:59:57.148516Z",
     "shell.execute_reply": "2022-07-18T16:59:57.147635Z"
    }
   },
   "outputs": [
    {
     "data": {
      "image/png": "[encoded data removed]",
      "text/plain": [
       "<Figure size 432x288 with 1 Axes>"
      ]
     },
     "metadata": {
      "needs_background": "light"
     },
     "output_type": "display_data"
    }
   ],
   "source": [
    "import math\n",
    "from scipy.stats import norm\n",
    "\n",
    "# create a list of 50 values forming a sine curve\n",
    "x = [math.sin(x * 2 * math.pi / 50) for x in range(1, 51)]\n",
    "\n",
    "# Add a random normal with mean 0 and standard deviation 0.05\n",
    "x = [xi + norm.rvs(loc=0, scale=0.05) for xi in x]\n",
    "\n",
    "ax = pd.Series(x).plot(style='.', color='black')\n",
    "ax.set_ylabel('Values')\n",
    "ax.axhline(y=0, linestyle='--', color='darkgray')\n",
    "plt.show()"
   ]
  },
  {
   "cell_type": "markdown",
   "id": "6fc1de01",
   "metadata": {},
   "source": [
    "## Accuracy and Precision of Measurements"
   ]
  },
  {
   "cell_type": "code",
   "execution_count": 13,
   "id": "00aac18a",
   "metadata": {
    "execution": {
     "iopub.execute_input": "2022-07-18T16:59:57.151907Z",
     "iopub.status.busy": "2022-07-18T16:59:57.151630Z",
     "iopub.status.idle": "2022-07-18T16:59:57.252748Z",
     "shell.execute_reply": "2022-07-18T16:59:57.251577Z"
    }
   },
   "outputs": [
    {
     "data": {
      "image/png": "[encoded data removed]",
      "text/plain": [
       "<Figure size 432x288 with 1 Axes>"
      ]
     },
     "metadata": {
      "needs_background": "light"
     },
     "output_type": "display_data"
    }
   ],
   "source": [
    "np.random.seed(seed=1)\n",
    "\n",
    "x = np.concatenate([5 + norm.rvs(loc=0, scale=0.5, size=10),\n",
    "                    2 + norm.rvs(loc=0, scale=0.2, size=10),\n",
    "                    5 + norm.rvs(loc=0, scale=0.1, size=10)])\n",
    "ax = pd.Series(x).plot(style='.', color='black')\n",
    "ax.set_ylabel('Values')\n",
    "ax.set_xlabel('Index')\n",
    "ax.set_ylabel('Weight')\n",
    "ax.hlines(y=5, xmin=0, xmax=9, color='darkgray')\n",
    "ax.hlines(y=2, xmin=10, xmax=19, color='darkgray')\n",
    "ax.hlines(y=5, xmin=20, xmax=29, color='darkgray')\n",
    "ax.text(4, 6.5, 'A')\n",
    "ax.text(14, 3.5, 'B')\n",
    "ax.text(24, 6.5, 'C')\n",
    "ax.set_ylim(0, 8)\n",
    "plt.show()"
   ]
  },
  {
   "cell_type": "markdown",
   "id": "9fdc1d9b",
   "metadata": {},
   "source": [
    "## The Population and the Sample"
   ]
  },
  {
   "cell_type": "markdown",
   "id": "11d2af02",
   "metadata": {},
   "source": [
    "## Descriptive Analysis of Sample Values"
   ]
  },
  {
   "cell_type": "markdown",
   "id": "1eb3ac0d",
   "metadata": {},
   "source": [
    "### Frequency Distributions of Discrete Random Variables"
   ]
  },
  {
   "cell_type": "code",
   "execution_count": 14,
   "id": "eded0c9f",
   "metadata": {
    "execution": {
     "iopub.execute_input": "2022-07-18T16:59:57.256141Z",
     "iopub.status.busy": "2022-07-18T16:59:57.255894Z",
     "iopub.status.idle": "2022-07-18T16:59:57.336174Z",
     "shell.execute_reply": "2022-07-18T16:59:57.335292Z"
    }
   },
   "outputs": [
    {
     "data": {
      "image/png": "[encoded data removed]",
      "text/plain": [
       "<Figure size 432x288 with 1 Axes>"
      ]
     },
     "metadata": {
      "needs_background": "light"
     },
     "output_type": "display_data"
    }
   ],
   "source": [
    "X = pd.DataFrame({'x': [10, 20, 30, 40, 50],\n",
    "                  'Frequency': [5, 13, 45, 25, 12]})\n",
    "ax = X.plot.bar(x='x', y='Frequency', rot=0, color='grey', legend=False)\n",
    "ax.set_xlabel('')\n",
    "ax.set_ylabel('Frequency')\n",
    "plt.show()"
   ]
  },
  {
   "cell_type": "code",
   "execution_count": 15,
   "id": "5178def1",
   "metadata": {
    "execution": {
     "iopub.execute_input": "2022-07-18T16:59:57.339518Z",
     "iopub.status.busy": "2022-07-18T16:59:57.339181Z",
     "iopub.status.idle": "2022-07-18T16:59:57.429316Z",
     "shell.execute_reply": "2022-07-18T16:59:57.428453Z"
    }
   },
   "outputs": [
    {
     "data": {
      "image/png": "[encoded data removed]",
      "text/plain": [
       "<Figure size 432x288 with 1 Axes>"
      ]
     },
     "metadata": {
      "needs_background": "light"
     },
     "output_type": "display_data"
    }
   ],
   "source": [
    "X['Cumulative Frequency'] = np.cumsum(X['Frequency'])\n",
    "ax = X.plot.line(x='x', y='Cumulative Frequency', drawstyle='steps-post',\n",
    "                 color='black', legend=False)\n",
    "ax.set_xlabel('')\n",
    "ax.set_ylabel('Cumulative Frequency')\n",
    "ax.set_ylim(0, 110)\n",
    "plt.show()"
   ]
  },
  {
   "cell_type": "code",
   "execution_count": 16,
   "id": "dc78fe89",
   "metadata": {
    "execution": {
     "iopub.execute_input": "2022-07-18T16:59:57.432570Z",
     "iopub.status.busy": "2022-07-18T16:59:57.432211Z",
     "iopub.status.idle": "2022-07-18T16:59:57.441442Z",
     "shell.execute_reply": "2022-07-18T16:59:57.440454Z"
    }
   },
   "outputs": [
    {
     "name": "stdout",
     "output_type": "stream",
     "text": [
      "0, 2, 0, 0, 1, 3, 0, 3, 1, 1, 0, 0, 1, 2, 0,\\\\\n",
      "0, 0, 1, 1, 3, 0, 1, 0, 0, 0, 5, 1, 0, 2, 0.\\\\\n"
     ]
    }
   ],
   "source": [
    "blemishes = mistat.load_data('BLEMISHES')\n",
    "X = blemishes['count']\n",
    "print(', '.join([f'{v}' for v in X[:len(X)//2]]) + ',\\\\\\\\')\n",
    "print(', '.join([f'{v}' for v in X[len(X)//2:]]) + '.\\\\\\\\')"
   ]
  },
  {
   "cell_type": "code",
   "execution_count": 17,
   "id": "eb0408d4",
   "metadata": {
    "execution": {
     "iopub.execute_input": "2022-07-18T16:59:57.445084Z",
     "iopub.status.busy": "2022-07-18T16:59:57.444120Z",
     "iopub.status.idle": "2022-07-18T16:59:57.450184Z",
     "shell.execute_reply": "2022-07-18T16:59:57.449466Z"
    }
   },
   "outputs": [],
   "source": [
    "blemishes = mistat.load_data('BLEMISHES')"
   ]
  },
  {
   "cell_type": "code",
   "execution_count": 18,
   "id": "3772b688",
   "metadata": {
    "execution": {
     "iopub.execute_input": "2022-07-18T16:59:57.452858Z",
     "iopub.status.busy": "2022-07-18T16:59:57.452398Z",
     "iopub.status.idle": "2022-07-18T16:59:57.460679Z",
     "shell.execute_reply": "2022-07-18T16:59:57.459819Z"
    }
   },
   "outputs": [
    {
     "data": {
      "text/html": [
       "<div>\n",
       "<style scoped>\n",
       "    .dataframe tbody tr th:only-of-type {\n",
       "        vertical-align: middle;\n",
       "    }\n",
       "\n",
       "    .dataframe tbody tr th {\n",
       "        vertical-align: top;\n",
       "    }\n",
       "\n",
       "    .dataframe thead th {\n",
       "        text-align: right;\n",
       "    }\n",
       "</style>\n",
       "<table border=\"1\" class=\"dataframe\">\n",
       "  <thead>\n",
       "    <tr style=\"text-align: right;\">\n",
       "      <th></th>\n",
       "      <th>plateID</th>\n",
       "      <th>count</th>\n",
       "    </tr>\n",
       "  </thead>\n",
       "  <tbody>\n",
       "    <tr>\n",
       "      <th>0</th>\n",
       "      <td>1</td>\n",
       "      <td>0</td>\n",
       "    </tr>\n",
       "    <tr>\n",
       "      <th>1</th>\n",
       "      <td>2</td>\n",
       "      <td>2</td>\n",
       "    </tr>\n",
       "    <tr>\n",
       "      <th>2</th>\n",
       "      <td>3</td>\n",
       "      <td>0</td>\n",
       "    </tr>\n",
       "  </tbody>\n",
       "</table>\n",
       "</div>"
      ],
      "text/plain": [
       "   plateID  count\n",
       "0        1      0\n",
       "1        2      2\n",
       "2        3      0"
      ]
     },
     "execution_count": 18,
     "metadata": {},
     "output_type": "execute_result"
    }
   ],
   "source": [
    "blemishes.head(3)"
   ]
  },
  {
   "cell_type": "code",
   "execution_count": 19,
   "id": "11ffa88b",
   "metadata": {
    "execution": {
     "iopub.execute_input": "2022-07-18T16:59:57.463201Z",
     "iopub.status.busy": "2022-07-18T16:59:57.462954Z",
     "iopub.status.idle": "2022-07-18T16:59:57.467722Z",
     "shell.execute_reply": "2022-07-18T16:59:57.466820Z"
    }
   },
   "outputs": [
    {
     "name": "stdout",
     "output_type": "stream",
     "text": [
      "2\n",
      "0\n"
     ]
    }
   ],
   "source": [
    "print(blemishes.iloc[1, 0])\n",
    "print(blemishes.iloc[2, 1])"
   ]
  },
  {
   "cell_type": "code",
   "execution_count": 20,
   "id": "dcc06044",
   "metadata": {
    "execution": {
     "iopub.execute_input": "2022-07-18T16:59:57.470604Z",
     "iopub.status.busy": "2022-07-18T16:59:57.469949Z",
     "iopub.status.idle": "2022-07-18T16:59:57.476191Z",
     "shell.execute_reply": "2022-07-18T16:59:57.475357Z"
    }
   },
   "outputs": [
    {
     "data": {
      "text/plain": [
       "0    0\n",
       "1    2\n",
       "2    0\n",
       "3    0\n",
       "4    1\n",
       "Name: count, dtype: int64"
      ]
     },
     "execution_count": 20,
     "metadata": {},
     "output_type": "execute_result"
    }
   ],
   "source": [
    "blemishes['count'].head(5)"
   ]
  },
  {
   "cell_type": "code",
   "execution_count": 21,
   "id": "77e1f615",
   "metadata": {
    "execution": {
     "iopub.execute_input": "2022-07-18T16:59:57.479493Z",
     "iopub.status.busy": "2022-07-18T16:59:57.478761Z",
     "iopub.status.idle": "2022-07-18T16:59:57.570282Z",
     "shell.execute_reply": "2022-07-18T16:59:57.569335Z"
    }
   },
   "outputs": [
    {
     "data": {
      "image/png": "[encoded data removed]",
      "text/plain": [
       "<Figure size 432x288 with 1 Axes>"
      ]
     },
     "metadata": {
      "needs_background": "light"
     },
     "output_type": "display_data"
    }
   ],
   "source": [
    "# use value_counts with normalize to get relative frequencies\n",
    "X = pd.DataFrame(blemishes['count'].value_counts(normalize=True))\n",
    "X.loc[4, 'count'] = 0  # there are no samples with 4 blemishes add a row\n",
    "X = X.sort_index()  # sort by number of blemishes\n",
    "\n",
    "ax = X['count'].plot.bar(color='grey', legend=False)\n",
    "ax.set_xlabel('Number of blemishes')\n",
    "ax.set_ylabel('Proportional Frequency')\n",
    "plt.show()"
   ]
  },
  {
   "cell_type": "code",
   "execution_count": 22,
   "id": "a34944cb",
   "metadata": {
    "execution": {
     "iopub.execute_input": "2022-07-18T16:59:57.573388Z",
     "iopub.status.busy": "2022-07-18T16:59:57.573149Z",
     "iopub.status.idle": "2022-07-18T16:59:57.661533Z",
     "shell.execute_reply": "2022-07-18T16:59:57.660612Z"
    }
   },
   "outputs": [
    {
     "data": {
      "image/png": "[encoded data removed]",
      "text/plain": [
       "<Figure size 432x288 with 1 Axes>"
      ]
     },
     "metadata": {
      "needs_background": "light"
     },
     "output_type": "display_data"
    }
   ],
   "source": [
    "X['Number'] = X.index  # add number of blemishes as column\n",
    "X['Cumulative Frequency'] = X['count'].cumsum()\n",
    "ax = X.plot.line(x='Number', y='Cumulative Frequency', color='black',\n",
    "                 drawstyle='steps-post', legend=False)\n",
    "ax.set_xlabel('Number of blemishes')\n",
    "ax.set_ylabel('Cumulative Frequency')\n",
    "ax.set_ylim(0, 1.1)\n",
    "plt.show()"
   ]
  },
  {
   "cell_type": "markdown",
   "id": "7e318611",
   "metadata": {},
   "source": [
    "### Frequency Distributions of Continuous Random Variables"
   ]
  },
  {
   "cell_type": "code",
   "execution_count": 23,
   "id": "3873153b",
   "metadata": {
    "execution": {
     "iopub.execute_input": "2022-07-18T16:59:57.665044Z",
     "iopub.status.busy": "2022-07-18T16:59:57.664775Z",
     "iopub.status.idle": "2022-07-18T16:59:57.771367Z",
     "shell.execute_reply": "2022-07-18T16:59:57.769535Z"
    }
   },
   "outputs": [
    {
     "data": {
      "image/png": "[encoded data removed]",
      "text/plain": [
       "<Figure size 432x288 with 1 Axes>"
      ]
     },
     "metadata": {
      "needs_background": "light"
     },
     "output_type": "display_data"
    }
   ],
   "source": [
    "X = mistat.load_data('YARNSTRG')\n",
    "ax = X.plot.hist(bins=5, color='white', edgecolor='black', legend=False)\n",
    "ax.set_xlabel('Log yarn strength')\n",
    "plt.show()"
   ]
  },
  {
   "cell_type": "code",
   "execution_count": 24,
   "id": "3f0e7d10",
   "metadata": {
    "execution": {
     "iopub.execute_input": "2022-07-18T16:59:57.775156Z",
     "iopub.status.busy": "2022-07-18T16:59:57.774601Z",
     "iopub.status.idle": "2022-07-18T16:59:57.877000Z",
     "shell.execute_reply": "2022-07-18T16:59:57.875955Z"
    }
   },
   "outputs": [
    {
     "data": {
      "image/png": "[encoded data removed]",
      "text/plain": [
       "<Figure size 432x288 with 1 Axes>"
      ]
     },
     "metadata": {
      "needs_background": "light"
     },
     "output_type": "display_data"
    }
   ],
   "source": [
    "ecdf = pd.DataFrame({'Log yarn strength': X.sort_values(),\n",
    "                     'Fn(x)': range(1, len(X) + 1)})\n",
    "ecdf['Fn(x)'] = ecdf['Fn(x)'] / len(X)\n",
    "ax = ecdf.plot(x='Log yarn strength', y='Fn(x)', color='black', drawstyle='steps-post', legend=False)\n",
    "ax.axhline(y=0, color='grey', linestyle='--')\n",
    "ax.axhline(y=1, color='grey', linestyle='--')\n",
    "ax.set_ylabel('Fn(x)')\n",
    "plt.show()"
   ]
  },
  {
   "cell_type": "code",
   "execution_count": 25,
   "id": "575dec47",
   "metadata": {
    "execution": {
     "iopub.execute_input": "2022-07-18T16:59:57.880277Z",
     "iopub.status.busy": "2022-07-18T16:59:57.879738Z",
     "iopub.status.idle": "2022-07-18T16:59:58.088682Z",
     "shell.execute_reply": "2022-07-18T16:59:58.087664Z"
    }
   },
   "outputs": [
    {
     "data": {
      "image/png": "[encoded data removed]",
      "text/plain": [
       "<Figure size 432x288 with 1 Axes>"
      ]
     },
     "metadata": {
      "needs_background": "light"
     },
     "output_type": "display_data"
    },
    {
     "data": {
      "image/png": "[encoded data removed]",
      "text/plain": [
       "<Figure size 432x288 with 1 Axes>"
      ]
     },
     "metadata": {
      "needs_background": "light"
     },
     "output_type": "display_data"
    }
   ],
   "source": [
    "X = mistat.load_data('YARNSTRG')\n",
    "ax = X.plot.hist(bins=5, color='white', edgecolor='black', legend=False)\n",
    "ax.set_xlabel('Log yarn strength')\n",
    "plt.show()\n",
    "\n",
    "ecdf = pd.DataFrame({'Log yarn strength': X.sort_values(),\n",
    "                     'Fn(x)': range(1, len(X) + 1)})\n",
    "ecdf['Fn(x)'] = ecdf['Fn(x)'] / len(X)\n",
    "ax = ecdf.plot(x='Log yarn strength', y='Fn(x)', color='black',\n",
    "               drawstyle='steps-post', legend=False)\n",
    "ax.axhline(y=0, color='grey', linestyle='--')\n",
    "ax.axhline(y=1, color='grey', linestyle='--')\n",
    "ax.set_ylabel('Fn(x)')\n",
    "plt.show()"
   ]
  },
  {
   "cell_type": "markdown",
   "id": "d83626fd",
   "metadata": {},
   "source": [
    "### Statistics of the Ordered Sample"
   ]
  },
  {
   "cell_type": "code",
   "execution_count": 26,
   "id": "9f2646a8",
   "metadata": {
    "execution": {
     "iopub.execute_input": "2022-07-18T16:59:58.091891Z",
     "iopub.status.busy": "2022-07-18T16:59:58.091671Z",
     "iopub.status.idle": "2022-07-18T16:59:58.198172Z",
     "shell.execute_reply": "2022-07-18T16:59:58.197368Z"
    }
   },
   "outputs": [
    {
     "data": {
      "image/png": "[encoded data removed]",
      "text/plain": [
       "<Figure size 432x288 with 1 Axes>"
      ]
     },
     "metadata": {
      "needs_background": "light"
     },
     "output_type": "display_data"
    }
   ],
   "source": [
    "ecdf = pd.DataFrame({'Log yarn strength': X.sort_values(ignore_index=True),\n",
    "                     'Fn(x)': range(1, len(X) + 1)})\n",
    "ecdf['Fn(x)'] = ecdf['Fn(x)'] / len(X)\n",
    "ax = ecdf.plot(x='Log yarn strength', y='Fn(x)', color='black', drawstyle='steps-post', legend=False)\n",
    "ax.axhline(y=0, color='grey', linestyle='--')\n",
    "ax.axhline(y=1, color='grey', linestyle='--')\n",
    "for i, y in enumerate([25, 50, 75], 1):\n",
    "    ax.axhline(y=y/100, color='grey', linestyle='--')\n",
    "    quartile = ecdf['Log yarn strength'][y]\n",
    "    ax.plot([quartile, quartile], [y/100, 0], color='darkgrey')\n",
    "    ax.text(quartile + 0.05, 0.05, f'Q{i}')\n",
    "ax.set_ylabel('Fn(x)')\n",
    "plt.show()"
   ]
  },
  {
   "cell_type": "code",
   "execution_count": 27,
   "id": "178b309f",
   "metadata": {
    "execution": {
     "iopub.execute_input": "2022-07-18T16:59:58.200971Z",
     "iopub.status.busy": "2022-07-18T16:59:58.200694Z",
     "iopub.status.idle": "2022-07-18T16:59:58.209449Z",
     "shell.execute_reply": "2022-07-18T16:59:58.208680Z"
    }
   },
   "outputs": [
    {
     "name": "stdout",
     "output_type": "stream",
     "text": [
      "0.00    0.1750\n",
      "0.25    0.3050\n",
      "0.50    0.5455\n",
      "0.75    1.0690\n",
      "1.00    1.1410\n",
      "Name: CYCLT, dtype: float64\n"
     ]
    }
   ],
   "source": [
    "cyclt = mistat.load_data('CYCLT')\n",
    "\n",
    "print(cyclt.quantile(q=[0, 0.25, 0.5, 0.75, 1.0]))"
   ]
  },
  {
   "cell_type": "code",
   "execution_count": 28,
   "id": "b55c2d2a",
   "metadata": {
    "execution": {
     "iopub.execute_input": "2022-07-18T16:59:58.212204Z",
     "iopub.status.busy": "2022-07-18T16:59:58.211760Z",
     "iopub.status.idle": "2022-07-18T16:59:58.216215Z",
     "shell.execute_reply": "2022-07-18T16:59:58.215320Z"
    }
   },
   "outputs": [
    {
     "name": "stdout",
     "output_type": "stream",
     "text": [
      "0.6524599999999999\n"
     ]
    }
   ],
   "source": [
    "print(cyclt.mean())"
   ]
  },
  {
   "cell_type": "code",
   "execution_count": 29,
   "id": "fe0b8394",
   "metadata": {
    "execution": {
     "iopub.execute_input": "2022-07-18T16:59:58.219168Z",
     "iopub.status.busy": "2022-07-18T16:59:58.218485Z",
     "iopub.status.idle": "2022-07-18T16:59:58.224370Z",
     "shell.execute_reply": "2022-07-18T16:59:58.223655Z"
    }
   },
   "outputs": [
    {
     "name": "stdout",
     "output_type": "stream",
     "text": [
      "count    50.000000\n",
      "mean      0.652460\n",
      "std       0.372971\n",
      "min       0.175000\n",
      "25%       0.305000\n",
      "50%       0.545500\n",
      "75%       1.069000\n",
      "max       1.141000\n",
      "Name: CYCLT, dtype: float64\n"
     ]
    }
   ],
   "source": [
    "print(cyclt.describe())"
   ]
  },
  {
   "cell_type": "code",
   "execution_count": 30,
   "id": "1b3f2c14",
   "metadata": {
    "execution": {
     "iopub.execute_input": "2022-07-18T16:59:58.226951Z",
     "iopub.status.busy": "2022-07-18T16:59:58.226753Z",
     "iopub.status.idle": "2022-07-18T16:59:58.232764Z",
     "shell.execute_reply": "2022-07-18T16:59:58.232011Z"
    }
   },
   "outputs": [],
   "source": [
    "cyclt_min, q1, q2, q3, cyclt_max = [f'{f:.4f}' for f in cyclt.quantile(q=[0, 0.25, 0.5, 0.75, 1.0])]\n",
    "cyclt_mean = f'{cyclt.mean():.4f}'"
   ]
  },
  {
   "cell_type": "markdown",
   "id": "e8eca20d",
   "metadata": {},
   "source": [
    "### Statistics of Location and Dispersion"
   ]
  },
  {
   "cell_type": "code",
   "execution_count": 31,
   "id": "89a14f40",
   "metadata": {
    "execution": {
     "iopub.execute_input": "2022-07-18T16:59:58.235554Z",
     "iopub.status.busy": "2022-07-18T16:59:58.235051Z",
     "iopub.status.idle": "2022-07-18T16:59:58.242301Z",
     "shell.execute_reply": "2022-07-18T16:59:58.241560Z"
    }
   },
   "outputs": [
    {
     "name": "stdout",
     "output_type": "stream",
     "text": [
      "Skewness 0.4164\n",
      "Kurtosis -0.0080\n",
      "Skewness 0.4102\n",
      "Kurtosis -0.0670\n"
     ]
    }
   ],
   "source": [
    "X = mistat.load_data('YARNSTRG')\n",
    "print(f'Skewness {X.skew():.4f}')     # Computes the skewness\n",
    "print(f'Kurtosis {X.kurtosis():.4f}') # Computes the kurtosis\n",
    "\n",
    "from scipy.stats import skew, kurtosis\n",
    "print(f'Skewness {skew(X):.4f}')     # Computes the skewness\n",
    "print(f'Kurtosis {kurtosis(X):.4f}') # Computes the kurtosis"
   ]
  },
  {
   "cell_type": "code",
   "execution_count": 32,
   "id": "51d42787",
   "metadata": {
    "execution": {
     "iopub.execute_input": "2022-07-18T16:59:58.244831Z",
     "iopub.status.busy": "2022-07-18T16:59:58.244399Z",
     "iopub.status.idle": "2022-07-18T16:59:58.414830Z",
     "shell.execute_reply": "2022-07-18T16:59:58.413724Z"
    }
   },
   "outputs": [
    {
     "data": {
      "image/png": "[encoded data removed]",
      "text/plain": [
       "<Figure size 432x288 with 1 Axes>"
      ]
     },
     "metadata": {
      "needs_background": "light"
     },
     "output_type": "display_data"
    }
   ],
   "source": [
    "from scipy.stats import beta\n",
    "\n",
    "x = np.linspace(0, 1, 2000)\n",
    "df = pd.DataFrame({'x': x,\n",
    "                   'pos_skew': beta(2, 8).pdf(x),\n",
    "                   'normal_skew': beta(10, 10).pdf(x),\n",
    "                   'neg_skew': beta(8, 2).pdf(x),\n",
    "                  })\n",
    "ax = df.plot.line(x='x', y=['pos_skew', 'normal_skew', 'neg_skew'], legend=False, color='black')\n",
    "ax.set_ylabel('y')\n",
    "ax.set_ylim(0, 4.5)\n",
    "ax.text(0, 4, 'Positive \\nSkewness')\n",
    "ax.text(0.4, 4, 'Symmetric')\n",
    "ax.text(0.8, 4, 'Negative \\nSkewness')\n",
    "plt.show()"
   ]
  },
  {
   "cell_type": "code",
   "execution_count": 33,
   "id": "72490baa",
   "metadata": {
    "execution": {
     "iopub.execute_input": "2022-07-18T16:59:58.417919Z",
     "iopub.status.busy": "2022-07-18T16:59:58.417643Z",
     "iopub.status.idle": "2022-07-18T16:59:58.535346Z",
     "shell.execute_reply": "2022-07-18T16:59:58.533890Z"
    }
   },
   "outputs": [
    {
     "data": {
      "image/png": "[encoded data removed]",
      "text/plain": [
       "<Figure size 432x288 with 1 Axes>"
      ]
     },
     "metadata": {
      "needs_background": "light"
     },
     "output_type": "display_data"
    }
   ],
   "source": [
    "from scipy.stats import beta, norm\n",
    "\n",
    "x = np.linspace(-3, 3, 200)\n",
    "df = pd.DataFrame({'x': x,\n",
    "                   'steep': beta(8, 8, loc=-3, scale=6).pdf(x),\n",
    "                   'flat': beta(2.5, 2.5, loc=-3, scale=6).pdf(x),\n",
    "                   'normal': norm().pdf(x),\n",
    "                  })\n",
    "ax = df.plot.line(x='x', y='steep', legend=False, color='black')\n",
    "df.plot.line(x='x', y='normal', legend=False, color='black', linestyle='--', ax=ax)\n",
    "df.plot.line(x='x', y='flat', legend=False, color='black', linestyle='-.', ax=ax)\n",
    "ax.set_ylabel('y')\n",
    "ax.text(0.5, 0.5, 'Steep')\n",
    "ax.text(1.0, 0.35, 'Normal')\n",
    "ax.text(2.0, 0.2, 'Flat')\n",
    "plt.show()"
   ]
  },
  {
   "cell_type": "code",
   "execution_count": 34,
   "id": "ba46aa76",
   "metadata": {
    "execution": {
     "iopub.execute_input": "2022-07-18T16:59:58.539049Z",
     "iopub.status.busy": "2022-07-18T16:59:58.538455Z",
     "iopub.status.idle": "2022-07-18T16:59:58.548715Z",
     "shell.execute_reply": "2022-07-18T16:59:58.547487Z"
    }
   },
   "outputs": [],
   "source": [
    "X = mistat.load_data('YARNSTRG')\n",
    "yarn_mean = f'{X.mean():.4f}'\n",
    "yarn_geom = f'{math.exp(X.mean()):.4f}'\n",
    "yarn_var = f'{X.var():.4f}'\n",
    "yarn_sd = f'{X.std():.4f}'\n",
    "yarn_kurt = f'{X.kurtosis():.4f}'\n",
    "yarn_skew = f'{X.skew():.4f}'\n",
    "yarn_gamma = f'{X.std()/X.mean():.4f}'"
   ]
  },
  {
   "cell_type": "markdown",
   "id": "779cd408",
   "metadata": {},
   "source": [
    "## Prediction Intervals"
   ]
  },
  {
   "cell_type": "markdown",
   "id": "93aae291",
   "metadata": {},
   "source": [
    "## Additional Techniques of Exploratory Data Analysis"
   ]
  },
  {
   "cell_type": "markdown",
   "id": "42d9e7a3",
   "metadata": {},
   "source": [
    "### Density Plots"
   ]
  },
  {
   "cell_type": "code",
   "execution_count": 35,
   "id": "d5623a7c",
   "metadata": {
    "execution": {
     "iopub.execute_input": "2022-07-18T16:59:58.552409Z",
     "iopub.status.busy": "2022-07-18T16:59:58.552114Z",
     "iopub.status.idle": "2022-07-18T16:59:58.669881Z",
     "shell.execute_reply": "2022-07-18T16:59:58.667990Z"
    }
   },
   "outputs": [
    {
     "data": {
      "text/plain": [
       "<AxesSubplot:ylabel='Density'>"
      ]
     },
     "execution_count": 35,
     "metadata": {},
     "output_type": "execute_result"
    },
    {
     "data": {
      "image/png": "[encoded data removed]",
      "text/plain": [
       "<Figure size 432x288 with 1 Axes>"
      ]
     },
     "metadata": {
      "needs_background": "light"
     },
     "output_type": "display_data"
    }
   ],
   "source": [
    "X = mistat.load_data('YARNSTRG')\n",
    "X.plot.density()"
   ]
  },
  {
   "cell_type": "code",
   "execution_count": 36,
   "id": "569196cd",
   "metadata": {
    "execution": {
     "iopub.execute_input": "2022-07-18T16:59:58.675002Z",
     "iopub.status.busy": "2022-07-18T16:59:58.674485Z",
     "iopub.status.idle": "2022-07-18T16:59:58.774687Z",
     "shell.execute_reply": "2022-07-18T16:59:58.773942Z"
    }
   },
   "outputs": [
    {
     "data": {
      "image/png": "[encoded data removed]",
      "text/plain": [
       "<Figure size 432x288 with 1 Axes>"
      ]
     },
     "metadata": {
      "needs_background": "light"
     },
     "output_type": "display_data"
    }
   ],
   "source": [
    "X = mistat.load_data('YARNSTRG')\n",
    "ax = X.plot.hist(bins=8, color='white', edgecolor='black', legend=False, density=True)\n",
    "X.plot.density(bw_method=0.2, ax=ax, color='black')\n",
    "ax.set_xlabel('Log yarn strength')\n",
    "plt.show()"
   ]
  },
  {
   "cell_type": "code",
   "execution_count": 37,
   "id": "336f2dfc",
   "metadata": {
    "execution": {
     "iopub.execute_input": "2022-07-18T16:59:58.777914Z",
     "iopub.status.busy": "2022-07-18T16:59:58.777675Z",
     "iopub.status.idle": "2022-07-18T16:59:58.905033Z",
     "shell.execute_reply": "2022-07-18T16:59:58.903861Z"
    }
   },
   "outputs": [
    {
     "data": {
      "image/png": "[encoded data removed]",
      "text/plain": [
       "<Figure size 432x288 with 1 Axes>"
      ]
     },
     "metadata": {
      "needs_background": "light"
     },
     "output_type": "display_data"
    }
   ],
   "source": [
    "X = mistat.load_data('YARNSTRG')\n",
    "ax = X.plot.density(bw_method=0.1, ls=':', color='black')\n",
    "X.plot.density(bw_method=0.5, ax=ax, ls='--', color='black')\n",
    "X.plot.density(bw_method=1, ax=ax, color='black')\n",
    "ax.set_xlabel('Log yarn strength')\n",
    "plt.show()"
   ]
  },
  {
   "cell_type": "code",
   "execution_count": 38,
   "id": "16a08535",
   "metadata": {
    "execution": {
     "iopub.execute_input": "2022-07-18T16:59:58.908993Z",
     "iopub.status.busy": "2022-07-18T16:59:58.908714Z",
     "iopub.status.idle": "2022-07-18T16:59:59.039831Z",
     "shell.execute_reply": "2022-07-18T16:59:59.038668Z"
    }
   },
   "outputs": [
    {
     "data": {
      "image/png": "[encoded data removed]",
      "text/plain": [
       "<Figure size 432x288 with 1 Axes>"
      ]
     },
     "metadata": {
      "needs_background": "light"
     },
     "output_type": "display_data"
    }
   ],
   "source": [
    "from KDEpy.bw_selection import improved_sheather_jones\n",
    "h = improved_sheather_jones(X.values.reshape(-1, 1))\n",
    "ax = X.plot.density(color='grey')\n",
    "X.plot.density(bw_method=h, color='black', ax=ax)\n",
    "ax.set_xlabel('Log yarn strength')\n",
    "ax.set_ylabel(f'Density (h={h:.2f})')\n",
    "plt.show()"
   ]
  },
  {
   "cell_type": "markdown",
   "id": "c8af44e4",
   "metadata": {},
   "source": [
    "### Box and Whiskers Plots"
   ]
  },
  {
   "cell_type": "code",
   "execution_count": 39,
   "id": "8c7987d8",
   "metadata": {
    "execution": {
     "iopub.execute_input": "2022-07-18T16:59:59.043240Z",
     "iopub.status.busy": "2022-07-18T16:59:59.042942Z",
     "iopub.status.idle": "2022-07-18T16:59:59.118473Z",
     "shell.execute_reply": "2022-07-18T16:59:59.117317Z"
    }
   },
   "outputs": [
    {
     "data": {
      "image/png": "[encoded data removed]",
      "text/plain": [
       "<Figure size 432x288 with 1 Axes>"
      ]
     },
     "metadata": {
      "needs_background": "light"
     },
     "output_type": "display_data"
    }
   ],
   "source": [
    "X = mistat.load_data('YARNSTRG')\n",
    "ax = X.plot.box(color='black')\n",
    "ax.set_ylabel('Log Yarn Strength')\n",
    "plt.show()"
   ]
  },
  {
   "cell_type": "code",
   "execution_count": 40,
   "id": "65fccfb7",
   "metadata": {
    "execution": {
     "iopub.execute_input": "2022-07-18T16:59:59.121822Z",
     "iopub.status.busy": "2022-07-18T16:59:59.121536Z",
     "iopub.status.idle": "2022-07-18T16:59:59.131859Z",
     "shell.execute_reply": "2022-07-18T16:59:59.130783Z"
    }
   },
   "outputs": [],
   "source": [
    "X = mistat.load_data('YARNSTRG')\n",
    "yarn_q1, yarn_q3 = X.quantile(q=[0.25, 0.75])\n",
    "lw = f'{yarn_q1 - 1.5*(yarn_q3 - yarn_q1):.4f}'\n",
    "uw = f'{yarn_q3 + 1.5*(yarn_q3 - yarn_q1):.4f}'\n",
    "yarn_iqr = f'{yarn_q3 - yarn_q1:.4f}'\n",
    "yarn_q1, yarn_me, yarn_q3 = [f'{q:.4f}' for q in X.quantile(q=[0.25, 0.5, 0.75])]\n",
    "yarn_min = f'{X.min():.4f}'\n",
    "yarn_max = f'{X.max():.4f}'\n",
    "yarn_mean = f'{X.mean():.4f}'\n",
    "yarn_std = f'{X.std():.4f}'"
   ]
  },
  {
   "cell_type": "markdown",
   "id": "cef67ec9",
   "metadata": {},
   "source": [
    "### Quantile Plots"
   ]
  },
  {
   "cell_type": "code",
   "execution_count": 41,
   "id": "463cee8e",
   "metadata": {
    "execution": {
     "iopub.execute_input": "2022-07-18T16:59:59.135261Z",
     "iopub.status.busy": "2022-07-18T16:59:59.134665Z",
     "iopub.status.idle": "2022-07-18T16:59:59.214173Z",
     "shell.execute_reply": "2022-07-18T16:59:59.213426Z"
    }
   },
   "outputs": [
    {
     "data": {
      "image/png": "[encoded data removed]",
      "text/plain": [
       "<Figure size 432x288 with 1 Axes>"
      ]
     },
     "metadata": {
      "needs_background": "light"
     },
     "output_type": "display_data"
    }
   ],
   "source": [
    "from scipy.stats import probplot, uniform\n",
    "\n",
    "ax = plt.subplot()\n",
    "res = probplot(X, dist=uniform, plot=ax)\n",
    "ax.set_xlabel('Fraction of Sample')\n",
    "ax.set_ylabel('Sample Quantiles')\n",
    "ax.set_title('')\n",
    "ax.get_lines()[0].set_color('grey')\n",
    "ax.get_lines()[0].set_markerfacecolor('none')\n",
    "ax.get_lines()[1].set_color('black')\n",
    "plt.show()"
   ]
  },
  {
   "cell_type": "markdown",
   "id": "ef93ef15",
   "metadata": {},
   "source": [
    "### Stem-and-Leaf Diagrams"
   ]
  },
  {
   "cell_type": "code",
   "execution_count": 42,
   "id": "82ffa9fc",
   "metadata": {
    "execution": {
     "iopub.execute_input": "2022-07-18T16:59:59.217230Z",
     "iopub.status.busy": "2022-07-18T16:59:59.217032Z",
     "iopub.status.idle": "2022-07-18T16:59:59.227759Z",
     "shell.execute_reply": "2022-07-18T16:59:59.226993Z"
    }
   },
   "outputs": [
    {
     "name": "stdout",
     "output_type": "stream",
     "text": [
      "       5 &     1 &  11344\n",
      "\\\\\n",
      "      15 &     1 &  5556677788\n",
      "\\\\\n",
      "      34 &     2 &  0011112222233344444\n",
      "\\\\\n",
      "    (21) &     2 &  555555555566677888999\n",
      "\\\\\n",
      "      45 &     3 &  000011112223344444\n",
      "\\\\\n",
      "      27 &     3 &  5556666677789\n",
      "\\\\\n",
      "      14 &     4 &  00013344\n",
      "\\\\\n",
      "       6 &     4 &  5668\n",
      "\\\\\n",
      "       2 &     5 &  0\n",
      "\\\\\n",
      "       1 &     5 &  7\n",
      "\\\\\n"
     ]
    }
   ],
   "source": [
    "X = mistat.load_data('YARNSTRG')\n",
    "\n",
    "mistat.stemLeafDiagram(X, 2, leafUnit=0.1, latex=True)"
   ]
  },
  {
   "cell_type": "code",
   "execution_count": 43,
   "id": "0e0392ff",
   "metadata": {
    "execution": {
     "iopub.execute_input": "2022-07-18T16:59:59.230635Z",
     "iopub.status.busy": "2022-07-18T16:59:59.230336Z",
     "iopub.status.idle": "2022-07-18T16:59:59.241051Z",
     "shell.execute_reply": "2022-07-18T16:59:59.240163Z"
    }
   },
   "outputs": [
    {
     "name": "stdout",
     "output_type": "stream",
     "text": [
      "       5 &    21 &  01111\n",
      "\\\\\n",
      "      10 &    21 &  22333\n",
      "\\\\\n",
      "      19 &    21 &  444445555\n",
      "\\\\\n",
      "      37 &    21 &  666666667777777777\n",
      "\\\\\n",
      "    (22) &    21 &  8888888888889999999999\n",
      "\\\\\n",
      "      40 &    22 &  0000000001111111111\n",
      "\\\\\n",
      "      21 &    22 &  22233333\n",
      "\\\\\n",
      "      13 &    22 &  44455555\n",
      "\\\\\n",
      "       5 &    22 &  6777\n",
      "\\\\\n",
      "       1 &    22 &  8\n",
      "\\\\\n"
     ]
    }
   ],
   "source": [
    "X = mistat.load_data('OELECT')\n",
    "mistat.stemLeafDiagram(X, 5, latex=True)"
   ]
  },
  {
   "cell_type": "markdown",
   "id": "9dfd5d88",
   "metadata": {},
   "source": [
    "### Robust Statistics for Location and Dispersion"
   ]
  },
  {
   "cell_type": "code",
   "execution_count": 44,
   "id": "c52e4b70",
   "metadata": {
    "execution": {
     "iopub.execute_input": "2022-07-18T16:59:59.244159Z",
     "iopub.status.busy": "2022-07-18T16:59:59.243892Z",
     "iopub.status.idle": "2022-07-18T16:59:59.252093Z",
     "shell.execute_reply": "2022-07-18T16:59:59.251329Z"
    }
   },
   "outputs": [],
   "source": [
    "from scipy.stats import trim_mean\n",
    "\n",
    "Oelect = mistat.load_data('OELECT')\n",
    "\n",
    "def mySummary(x, trim=0):\n",
    "  \"\"\" Returns summary information for list x\n",
    "\n",
    "  The optional argument trim can be used to calculate a trimmed mean\n",
    "  \"\"\"\n",
    "  x = pd.Series(x)  # convert to pandas series\n",
    "\n",
    "  quantiles = list(x.quantile(q=[0, 0.25, 0.5, 0.75, 1.0]))\n",
    "  trimmed_mean = trim_mean(x, trim)\n",
    "\n",
    "  # return the summary information as pandas Series\n",
    "  return pd.Series({\n",
    "    'Min': quantiles[0],\n",
    "    'Q1': quantiles[1],\n",
    "    'Median': quantiles[2],\n",
    "    'Mean': trimmed_mean,\n",
    "    'Q3': quantiles[3],\n",
    "    'Max': quantiles[4],\n",
    "    'SD': x.std(),\n",
    "    'IQR': quantiles[3] - quantiles[1],\n",
    "  })"
   ]
  },
  {
   "cell_type": "code",
   "execution_count": 45,
   "id": "eb9d0d4c",
   "metadata": {
    "execution": {
     "iopub.execute_input": "2022-07-18T16:59:59.255386Z",
     "iopub.status.busy": "2022-07-18T16:59:59.254588Z",
     "iopub.status.idle": "2022-07-18T16:59:59.263224Z",
     "shell.execute_reply": "2022-07-18T16:59:59.262303Z"
    }
   },
   "outputs": [
    {
     "name": "stdout",
     "output_type": "stream",
     "text": [
      "         untrimmed     trimmed\n",
      "Min     210.896000  210.896000\n",
      "Q1      216.846000  216.846000\n",
      "Median  219.096000  219.096000\n",
      "Mean    219.248020  219.218198\n",
      "Q3      221.686000  221.686000\n",
      "Max     228.986000  228.986000\n",
      "SD        4.003992    4.003992\n",
      "IQR       4.840000    4.840000\n"
     ]
    }
   ],
   "source": [
    "print(pd.DataFrame({\n",
    "  'untrimmed': mySummary(Oelect),\n",
    "  'trimmed': mySummary(Oelect, trim=0.05),\n",
    "}))"
   ]
  },
  {
   "cell_type": "code",
   "execution_count": 46,
   "id": "dc8fa0a6",
   "metadata": {
    "execution": {
     "iopub.execute_input": "2022-07-18T16:59:59.266068Z",
     "iopub.status.busy": "2022-07-18T16:59:59.265623Z",
     "iopub.status.idle": "2022-07-18T16:59:59.276300Z",
     "shell.execute_reply": "2022-07-18T16:59:59.275247Z"
    }
   },
   "outputs": [
    {
     "name": "stdout",
     "output_type": "stream",
     "text": [
      "          untrimmed      trimmed\n",
      "Min      210.896000   210.896000\n",
      "Q1       216.846000   216.846000\n",
      "Median   219.096000   219.096000\n",
      "Mean     240.064929   219.218198\n",
      "Q3       221.686000   221.686000\n",
      "Max     2289.860000  2289.860000\n",
      "SD       208.150486   208.150486\n",
      "IQR        4.840000     4.840000\n"
     ]
    }
   ],
   "source": [
    "# sort and reset the index\n",
    "OutVolt = Oelect.sort_values(ignore_index=True)\n",
    "# in Python index starts at 0, so the 99-th value is at position 98\n",
    "OutVolt[98] = 2289.86\n",
    "print(pd.DataFrame({\n",
    "  'untrimmed': mySummary(OutVolt),\n",
    "  'trimmed': mySummary(OutVolt, trim=0.05),\n",
    "}))"
   ]
  },
  {
   "cell_type": "code",
   "execution_count": 47,
   "id": "693f4790",
   "metadata": {
    "execution": {
     "iopub.execute_input": "2022-07-18T16:59:59.278741Z",
     "iopub.status.busy": "2022-07-18T16:59:59.278326Z",
     "iopub.status.idle": "2022-07-18T16:59:59.284293Z",
     "shell.execute_reply": "2022-07-18T16:59:59.283603Z"
    }
   },
   "outputs": [
    {
     "name": "stdout",
     "output_type": "stream",
     "text": [
      "S_alpha 3.5896765570264395\n",
      "sigma: 3.587842846552984\n"
     ]
    }
   ],
   "source": [
    "from scipy.stats import iqr\n",
    "\n",
    "def trim_std(data, alpha):\n",
    "  data = np.array(data)\n",
    "  data.sort()\n",
    "  n = len(data)\n",
    "  low = int(n * alpha) + 1\n",
    "  high = int(n * (1 - alpha))\n",
    "  return data[low:(high + 1)].std()\n",
    "\n",
    "print('S_alpha', trim_std(OutVolt, 0.025))\n",
    "print('sigma:', iqr(OutVolt) / 1.349)"
   ]
  },
  {
   "cell_type": "markdown",
   "id": "85aaf601",
   "metadata": {},
   "source": [
    "## Chapter Highlights"
   ]
  },
  {
   "cell_type": "markdown",
   "id": "ba8967ac",
   "metadata": {},
   "source": [
    "## Exercises"
   ]
  }
 ],
 "metadata": {
  "language_info": {
   "codemirror_mode": {
    "name": "ipython",
    "version": 3
   },
   "file_extension": ".py",
   "mimetype": "text/x-python",
   "name": "python",
   "nbconvert_exporter": "python",
   "pygments_lexer": "ipython3",
   "version": "3.9.13"
  }
 },
 "nbformat": 4,
 "nbformat_minor": 5
}
