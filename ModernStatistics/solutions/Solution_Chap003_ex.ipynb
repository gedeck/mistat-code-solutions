{
 "cells": [
  {
   "cell_type": "markdown",
   "id": "deb5cb43",
   "metadata": {},
   "source": [
    "# Exercise Chapter 3 \n",
    "Modern Statistics: A Computer Based Approach with Python<br>\n",
    "by Ron Kenett, Shelemyahu Zacks, Peter Gedeck\n",
    "\n",
    "Publisher: Springer International Publishing; 1st edition (September 15, 2022) <br>\n",
    "ISBN-13: 978-3031075650\n",
    "\n",
    "(c) 2022 Ron Kenett, Shelemyahu Zacks, Peter Gedeck\n",
    "\n",
    "The code needs to be executed in sequence.\n",
    "\n",
    "Python packages and Python itself change over time. This can cause warnings or errors. We\n",
    "\"Warnings\" are for information only and can usually be ignored. \n",
    "\"Errors\" will stop execution and need to be fixed in order to get results. \n",
    "\n",
    "If you come across an issue with the code, please follow these steps\n",
    "\n",
    "- Check the repository (https://gedeck.github.io/mistat-code-solutions/) to see if the code has been upgraded. This might solve the problem.\n",
    "- Check the errata at (https://gedeck.github.io/mistat-code-solutions/ModernStatistics/) and the issue tracker at https://github.com/gedeck/mistat-code-solutions/issues to see if the issue is known and a solution available.\n",
    "- Report the problem using the issue tracker at https://github.com/gedeck/mistat-code-solutions/issues\n",
    "- Paste the error message into Google and see if someone else already found a solution"
   ]
  },
  {
   "cell_type": "code",
   "execution_count": 1,
   "id": "a54b9be2",
   "metadata": {
    "execution": {
     "iopub.execute_input": "2023-07-17T14:39:12.137128Z",
     "iopub.status.busy": "2023-07-17T14:39:12.136241Z",
     "iopub.status.idle": "2023-07-17T14:39:12.189216Z",
     "shell.execute_reply": "2023-07-17T14:39:12.187537Z"
    }
   },
   "outputs": [],
   "source": [
    "import os\n",
    "os.environ['OUTDATED_IGNORE'] = '1'\n",
    "import warnings\n",
    "from outdated import OutdatedPackageWarning\n",
    "warnings.filterwarnings('ignore', category=FutureWarning)\n",
    "warnings.filterwarnings('ignore', category=OutdatedPackageWarning)"
   ]
  },
  {
   "cell_type": "code",
   "execution_count": 2,
   "id": "6f47c889",
   "metadata": {
    "execution": {
     "iopub.execute_input": "2023-07-17T14:39:12.193144Z",
     "iopub.status.busy": "2023-07-17T14:39:12.192573Z",
     "iopub.status.idle": "2023-07-17T14:39:13.235972Z",
     "shell.execute_reply": "2023-07-17T14:39:13.234806Z"
    }
   },
   "outputs": [],
   "source": [
    "import random\n",
    "import math\n",
    "import numpy as np\n",
    "import pandas as pd\n",
    "from scipy import stats\n",
    "import matplotlib.pyplot as plt\n",
    "import pingouin as pg\n",
    "import mistat\n",
    "import os\n",
    "os.environ['OUTDATED_IGNORE'] = '1'"
   ]
  },
  {
   "cell_type": "markdown",
   "id": "50feb939",
   "metadata": {},
   "source": [
    "# Exercise 15"
   ]
  },
  {
   "cell_type": "code",
   "execution_count": 3,
   "id": "80816e84",
   "metadata": {
    "execution": {
     "iopub.execute_input": "2023-07-17T14:39:13.239377Z",
     "iopub.status.busy": "2023-07-17T14:39:13.239083Z",
     "iopub.status.idle": "2023-07-17T14:39:13.502168Z",
     "shell.execute_reply": "2023-07-17T14:39:13.501364Z"
    }
   },
   "outputs": [
    {
     "data": {
      "image/png": "[encoded data removed]",
      "text/plain": [
       "<Figure size 640x480 with 1 Axes>"
      ]
     },
     "metadata": {},
     "output_type": "display_data"
    }
   ],
   "source": [
    "from mistat.acceptanceSampling import OperatingCharacteristics2c\n",
    "X = OperatingCharacteristics2c(30, 2, oc_type='binomial')\n",
    "df = pd.DataFrame({'p': X.pd, 'OC(p)': X.paccept})\n",
    "ax = df.plot(x='p', y='OC(p)', legend=False)\n",
    "ax.set_ylabel('OC(p)')\n",
    "ax.set_xlim(0, 0.5)\n",
    "plt.show()"
   ]
  },
  {
   "cell_type": "markdown",
   "id": "6e25e1f7",
   "metadata": {},
   "source": [
    "# Exercise 18"
   ]
  },
  {
   "cell_type": "code",
   "execution_count": 4,
   "id": "29782ce0",
   "metadata": {
    "execution": {
     "iopub.execute_input": "2023-07-17T14:39:13.505330Z",
     "iopub.status.busy": "2023-07-17T14:39:13.504997Z",
     "iopub.status.idle": "2023-07-17T14:39:13.513650Z",
     "shell.execute_reply": "2023-07-17T14:39:13.512782Z"
    }
   },
   "outputs": [
    {
     "name": "stdout",
     "output_type": "stream",
     "text": [
      "pvalue 0.35\n"
     ]
    }
   ],
   "source": [
    "socell = mistat.load_data('SOCELL')\n",
    "t1 = socell['t1']\n",
    "\n",
    "statistic, pvalue = stats.ttest_1samp(t1, 4.0)\n",
    "# divide pvalue by two for one-sided test\n",
    "pvalue = pvalue / 2\n",
    "print(f'pvalue {pvalue:.2f}')"
   ]
  },
  {
   "cell_type": "markdown",
   "id": "5c6ba4bc",
   "metadata": {},
   "source": [
    "# Exercise 19"
   ]
  },
  {
   "cell_type": "code",
   "execution_count": 5,
   "id": "27a03b80",
   "metadata": {
    "execution": {
     "iopub.execute_input": "2023-07-17T14:39:13.516806Z",
     "iopub.status.busy": "2023-07-17T14:39:13.516089Z",
     "iopub.status.idle": "2023-07-17T14:39:13.523438Z",
     "shell.execute_reply": "2023-07-17T14:39:13.522561Z"
    }
   },
   "outputs": [
    {
     "name": "stdout",
     "output_type": "stream",
     "text": [
      "pvalue 0.03\n"
     ]
    }
   ],
   "source": [
    "socell = mistat.load_data('SOCELL')\n",
    "t2 = socell['t2']\n",
    "\n",
    "statistic, pvalue = stats.ttest_1samp(t2, 4.0)\n",
    "# divide pvalue by two for one-sided test\n",
    "pvalue = pvalue / 2\n",
    "print(f'pvalue {pvalue:.2f}')"
   ]
  },
  {
   "cell_type": "markdown",
   "id": "a2008816",
   "metadata": {},
   "source": [
    "# Exercise 20"
   ]
  },
  {
   "cell_type": "code",
   "execution_count": 6,
   "id": "fc5274f4",
   "metadata": {
    "execution": {
     "iopub.execute_input": "2023-07-17T14:39:13.526032Z",
     "iopub.status.busy": "2023-07-17T14:39:13.525605Z",
     "iopub.status.idle": "2023-07-17T14:39:13.530546Z",
     "shell.execute_reply": "2023-07-17T14:39:13.529597Z"
    }
   },
   "outputs": [],
   "source": [
    "delta = np.linspace(0, 1.0, 11)\n",
    "\n",
    "a = np.sqrt(30)\n",
    "b = 2.462 * ( 1 - 1/232)\n",
    "f = np.sqrt(1 + 6.0614 / 58)\n",
    "OC_delta = 1 - stats.norm.cdf((a * delta - b) / f)"
   ]
  },
  {
   "cell_type": "code",
   "execution_count": 7,
   "id": "0decd911",
   "metadata": {
    "execution": {
     "iopub.execute_input": "2023-07-17T14:39:13.533078Z",
     "iopub.status.busy": "2023-07-17T14:39:13.532679Z",
     "iopub.status.idle": "2023-07-17T14:39:13.537217Z",
     "shell.execute_reply": "2023-07-17T14:39:13.536413Z"
    }
   },
   "outputs": [
    {
     "name": "stdout",
     "output_type": "stream",
     "text": [
      "delta     OC\n",
      "0.0     0.990164\n",
      "0.1     0.964958\n",
      "0.2     0.901509\n",
      "0.3     0.779063\n",
      "0.4     0.597882\n",
      "0.5     0.392312\n",
      "0.6     0.213462\n",
      "0.7     0.094149\n",
      "0.8     0.033120\n",
      "0.9     0.009188\n",
      "1.0     0.001994\n"
     ]
    }
   ],
   "source": [
    "  print('delta     OC')\n",
    "  for delta, OC in zip(delta, OC_delta):\n",
    "    print(f'{delta:.1f}   {OC:10.6f}')"
   ]
  },
  {
   "cell_type": "markdown",
   "id": "e4380ae1",
   "metadata": {},
   "source": [
    "# Exercise 21"
   ]
  },
  {
   "cell_type": "code",
   "execution_count": 8,
   "id": "3aa9f4a6",
   "metadata": {
    "execution": {
     "iopub.execute_input": "2023-07-17T14:39:13.539870Z",
     "iopub.status.busy": "2023-07-17T14:39:13.539432Z",
     "iopub.status.idle": "2023-07-17T14:39:13.545222Z",
     "shell.execute_reply": "2023-07-17T14:39:13.544348Z"
    }
   },
   "outputs": [],
   "source": [
    "sigma2 = np.linspace(1, 2, 11)\n",
    "OC_sigma2 = 1 - stats.poisson.cdf(30 / 2 - 1,\n",
    "                            stats.chi2(30).ppf(0.90) / (2 * sigma2))"
   ]
  },
  {
   "cell_type": "code",
   "execution_count": 9,
   "id": "17f73bc5",
   "metadata": {
    "execution": {
     "iopub.execute_input": "2023-07-17T14:39:13.547926Z",
     "iopub.status.busy": "2023-07-17T14:39:13.547533Z",
     "iopub.status.idle": "2023-07-17T14:39:13.552345Z",
     "shell.execute_reply": "2023-07-17T14:39:13.551313Z"
    }
   },
   "outputs": [
    {
     "name": "stdout",
     "output_type": "stream",
     "text": [
      "sigma^2     OC\n",
      "1.0     0.900000\n",
      "1.1     0.810804\n",
      "1.2     0.700684\n",
      "1.3     0.582928\n",
      "1.4     0.469471\n",
      "1.5     0.368201\n",
      "1.6     0.282781\n",
      "1.7     0.213695\n",
      "1.8     0.159540\n",
      "1.9     0.118063\n",
      "2.0     0.086834\n"
     ]
    }
   ],
   "source": [
    "  print('sigma^2     OC')\n",
    "  for s, OC in zip(sigma2, OC_sigma2):\n",
    "    print(f'{s:.1f}   {OC:10.6f}')"
   ]
  },
  {
   "cell_type": "markdown",
   "id": "7b1eb871",
   "metadata": {},
   "source": [
    "# Exercise 22"
   ]
  },
  {
   "cell_type": "code",
   "execution_count": 10,
   "id": "b2089ea6",
   "metadata": {
    "execution": {
     "iopub.execute_input": "2023-07-17T14:39:13.555262Z",
     "iopub.status.busy": "2023-07-17T14:39:13.554615Z",
     "iopub.status.idle": "2023-07-17T14:39:13.760342Z",
     "shell.execute_reply": "2023-07-17T14:39:13.759439Z"
    }
   },
   "outputs": [
    {
     "data": {
      "image/png": "[encoded data removed]",
      "text/plain": [
       "<Figure size 640x480 with 1 Axes>"
      ]
     },
     "metadata": {},
     "output_type": "display_data"
    }
   ],
   "source": [
    "n = 100\n",
    "p0 = 0.1\n",
    "alpha = 0.05\n",
    "\n",
    "c_alpha = stats.binom(n, p0).ppf(1 - alpha)\n",
    "p = np.linspace(0.1, 0.35, 20)\n",
    "OC_exact = stats.binom(n, p).cdf(c_alpha)\n",
    "\n",
    "z_ma = stats.norm.ppf(1 - alpha)\n",
    "q0 = 1- p0\n",
    "pq = p * (1 - p)\n",
    "OC_approx = 1 - stats.norm.cdf((p - p0) * np.sqrt((n / pq)) -\n",
    "                               z_ma * np.sqrt(p0 * q0 / pq))\n",
    "df = pd.DataFrame({\n",
    "  'p': p,\n",
    "  'OC(p)': OC_exact,\n",
    "  '$OC_{approx}(p)$': OC_approx,\n",
    "})\n",
    "df.plot.line(x='p', y=['OC(p)', '$OC_{approx}(p)$'])\n",
    "plt.show()"
   ]
  },
  {
   "cell_type": "markdown",
   "id": "a2b310eb",
   "metadata": {},
   "source": [
    "# Exercise 25"
   ]
  },
  {
   "cell_type": "code",
   "execution_count": 11,
   "id": "1245b65e",
   "metadata": {
    "execution": {
     "iopub.execute_input": "2023-07-17T14:39:13.763387Z",
     "iopub.status.busy": "2023-07-17T14:39:13.763067Z",
     "iopub.status.idle": "2023-07-17T14:39:13.770450Z",
     "shell.execute_reply": "2023-07-17T14:39:13.769490Z"
    }
   },
   "outputs": [
    {
     "name": "stdout",
     "output_type": "stream",
     "text": [
      "(20.136889216656858, 21.38411078334315)\n"
     ]
    }
   ],
   "source": [
    "data = [20.74, 20.85, 20.54, 20.05, 20.08, 22.55, 19.61, 19.72,\n",
    "        20.34, 20.37, 22.69, 20.79, 21.76, 21.94, 20.31, 21.38,\n",
    "        20.42, 20.86, 18.80, 21.41]\n",
    "alpha = 1 - 0.99\n",
    "\n",
    "df = len(data) - 1\n",
    "mean = np.mean(data)\n",
    "sem = stats.sem(data)\n",
    "\n",
    "print(stats.t.interval(1 - alpha, df, loc=mean, scale=sem))"
   ]
  },
  {
   "cell_type": "code",
   "execution_count": 12,
   "id": "53eef7ff",
   "metadata": {
    "execution": {
     "iopub.execute_input": "2023-07-17T14:39:13.773115Z",
     "iopub.status.busy": "2023-07-17T14:39:13.772689Z",
     "iopub.status.idle": "2023-07-17T14:39:13.780551Z",
     "shell.execute_reply": "2023-07-17T14:39:13.779634Z"
    }
   },
   "outputs": [
    {
     "name": "stdout",
     "output_type": "stream",
     "text": [
      "0.46795850248657883\n",
      "2.6380728125212016\n"
     ]
    }
   ],
   "source": [
    "var = np.var(data, ddof=1)\n",
    "print(df * var / stats.chi2(df).ppf(1 - alpha/2))\n",
    "print(df * var / stats.chi2(df).ppf(alpha/2))"
   ]
  },
  {
   "cell_type": "markdown",
   "id": "ea54cf43",
   "metadata": {},
   "source": [
    "# Exercise 27"
   ]
  },
  {
   "cell_type": "code",
   "execution_count": 13,
   "id": "611e8b31",
   "metadata": {
    "execution": {
     "iopub.execute_input": "2023-07-17T14:39:13.784288Z",
     "iopub.status.busy": "2023-07-17T14:39:13.782854Z",
     "iopub.status.idle": "2023-07-17T14:39:13.790483Z",
     "shell.execute_reply": "2023-07-17T14:39:13.789662Z"
    }
   },
   "outputs": [
    {
     "name": "stdout",
     "output_type": "stream",
     "text": [
      "0.6210731734546859 0.9679290628145363\n"
     ]
    }
   ],
   "source": [
    "alpha = 1 - 0.95\n",
    "X = 17\n",
    "n = 20\n",
    "F1 = stats.f(2*(n-X+1), 2*X).ppf(1 - alpha/2)\n",
    "F2 = stats.f(2*(X+1), 2*(n-X)).ppf(1 - alpha/2)\n",
    "pL = X / (X + (n-X+1) * F1)\n",
    "pU = (X+1) * F2 / (n-X + (X+1) * F2)\n",
    "print(pL, pU)"
   ]
  },
  {
   "cell_type": "markdown",
   "id": "649cc8d9",
   "metadata": {},
   "source": [
    "# Exercise 28"
   ]
  },
  {
   "cell_type": "code",
   "execution_count": 14,
   "id": "9ec1903a",
   "metadata": {
    "execution": {
     "iopub.execute_input": "2023-07-17T14:39:13.793984Z",
     "iopub.status.busy": "2023-07-17T14:39:13.793197Z",
     "iopub.status.idle": "2023-07-17T14:39:13.802673Z",
     "shell.execute_reply": "2023-07-17T14:39:13.801746Z"
    }
   },
   "outputs": [
    {
     "name": "stdout",
     "output_type": "stream",
     "text": [
      "11.318870163746238\n",
      "15.870459268116013\n",
      "11.222727638613012\n",
      "15.777272361386988\n"
     ]
    }
   ],
   "source": [
    "X = [14, 16, 11, 19, 11, 9, 12, 15, 14, 13]\n",
    "alpha = 1 - 0.95\n",
    "T_n = np.sum(X)\n",
    "\n",
    "# exact solution\n",
    "print(stats.chi2(2 * T_n + 2).ppf(alpha/2) / (2 * len(X)))\n",
    "print(stats.chi2(2 * T_n + 2).ppf(1 - alpha/2) / (2 * len(X)))\n",
    "\n",
    "# approximate solution\n",
    "nu = 2 * T_n + 2\n",
    "print((nu + stats.norm.ppf(alpha/2) * np.sqrt(2 * nu)) / (2 * len(X)))\n",
    "print((nu + stats.norm.ppf(1-alpha/2) * np.sqrt(2 * nu)) / (2 * len(X)))"
   ]
  },
  {
   "cell_type": "markdown",
   "id": "e632764e",
   "metadata": {},
   "source": [
    "# Exercise 30"
   ]
  },
  {
   "cell_type": "code",
   "execution_count": 15,
   "id": "21cc1985",
   "metadata": {
    "execution": {
     "iopub.execute_input": "2023-07-17T14:39:13.805261Z",
     "iopub.status.busy": "2023-07-17T14:39:13.805040Z",
     "iopub.status.idle": "2023-07-17T14:39:13.815905Z",
     "shell.execute_reply": "2023-07-17T14:39:13.814944Z"
    }
   },
   "outputs": [
    {
     "name": "stdout",
     "output_type": "stream",
     "text": [
      "0.7306652047594424 5.117020795240556\n"
     ]
    }
   ],
   "source": [
    "yarnstrg = mistat.load_data('YARNSTRG')\n",
    "n = len(yarnstrg)\n",
    "Ybar = yarnstrg.mean()\n",
    "S = yarnstrg.std()\n",
    "\n",
    "alpha, beta = 0.025, 0.025\n",
    "z_1a = stats.norm.ppf(1-alpha)\n",
    "z_1b = stats.norm.ppf(1-beta)\n",
    "z_a = stats.norm.ppf(alpha)\n",
    "z_b = stats.norm.ppf(beta)\n",
    "\n",
    "t_abn = (z_1b/(1 - z_1a**2/(2*n)) +\n",
    "         z_1a*np.sqrt(1 + z_b**2/2 - z_1a**2/(2*n)) /\n",
    "             (np.sqrt(n)*(1 - z_1a**2/(2*n))))\n",
    "\n",
    "print(Ybar - t_abn*S, Ybar + t_abn*S)"
   ]
  },
  {
   "cell_type": "markdown",
   "id": "6abdf657",
   "metadata": {},
   "source": [
    "# Exercise 32"
   ]
  },
  {
   "cell_type": "code",
   "execution_count": 16,
   "id": "76b6c22c",
   "metadata": {
    "execution": {
     "iopub.execute_input": "2023-07-17T14:39:13.819156Z",
     "iopub.status.busy": "2023-07-17T14:39:13.818721Z",
     "iopub.status.idle": "2023-07-17T14:39:13.956115Z",
     "shell.execute_reply": "2023-07-17T14:39:13.954656Z"
    }
   },
   "outputs": [
    {
     "data": {
      "image/png": "[encoded data removed]",
      "text/plain": [
       "<Figure size 400x400 with 1 Axes>"
      ]
     },
     "metadata": {},
     "output_type": "display_data"
    }
   ],
   "source": [
    "socell = mistat.load_data('SOCELL')\n",
    "fig, ax = plt.subplots(figsize=[4, 4])\n",
    "pg.qqplot(socell['t1'], ax=ax)\n",
    "plt.show()"
   ]
  },
  {
   "cell_type": "markdown",
   "id": "6dac2e77",
   "metadata": {},
   "source": [
    "# Exercise 33"
   ]
  },
  {
   "cell_type": "code",
   "execution_count": 17,
   "id": "ea9947d2",
   "metadata": {
    "execution": {
     "iopub.execute_input": "2023-07-17T14:39:13.959441Z",
     "iopub.status.busy": "2023-07-17T14:39:13.959108Z",
     "iopub.status.idle": "2023-07-17T14:39:14.289088Z",
     "shell.execute_reply": "2023-07-17T14:39:14.288178Z"
    }
   },
   "outputs": [
    {
     "data": {
      "image/png": "[encoded data removed]",
      "text/plain": [
       "<Figure size 600x300 with 2 Axes>"
      ]
     },
     "metadata": {},
     "output_type": "display_data"
    }
   ],
   "source": [
    "car = mistat.load_data('CAR')\n",
    "\n",
    "fig, axes = plt.subplots(figsize=[6, 3], ncols=2)\n",
    "pg.qqplot(car['turn'], ax=axes[0])\n",
    "pg.qqplot(np.log(car['hp']), ax=axes[1])\n",
    "axes[0].set_title('Q-Q plot (turn diameter)')\n",
    "axes[1].set_title('Q-Q plot (log(horse-power))')\n",
    "plt.tight_layout()\n",
    "plt.show()"
   ]
  },
  {
   "cell_type": "markdown",
   "id": "f6882764",
   "metadata": {},
   "source": [
    "# Exercise 34"
   ]
  },
  {
   "cell_type": "code",
   "execution_count": 18,
   "id": "32fc00c8",
   "metadata": {
    "execution": {
     "iopub.execute_input": "2023-07-17T14:39:14.292310Z",
     "iopub.status.busy": "2023-07-17T14:39:14.292058Z",
     "iopub.status.idle": "2023-07-17T14:39:14.319554Z",
     "shell.execute_reply": "2023-07-17T14:39:14.318717Z"
    }
   },
   "outputs": [
    {
     "name": "stdout",
     "output_type": "stream",
     "text": [
      "          observed   expected  (O-E)^2/E\n",
      "turn                                    \n",
      "[28, 31)        11   8.197333   0.958231\n",
      "[31, 32)         8   6.318478   0.447500\n",
      "[32, 33)         9   8.668695   0.012662\n",
      "[33, 34)         6  10.869453   2.181487\n",
      "[34, 35)        18  12.455897   2.467673\n",
      "[35, 36)         8  13.045357   1.951317\n",
      "[36, 37)        13  12.486789   0.021093\n",
      "[37, 38)         6  10.923435   2.219102\n",
      "[38, 39)         9   8.733354   0.008141\n",
      "[39, 40)         8   6.381395   0.410550\n",
      "[40, 44)        13   9.052637   1.721231\n",
      "chi2-statistic of fit 12.398987638400024\n",
      "chi2[8] for 95% 15.50731305586545\n",
      "p-value of observed statistic 0.1342700576126994\n"
     ]
    }
   ],
   "source": [
    "car = mistat.load_data('CAR')\n",
    "turn = car['turn']\n",
    "n = len(turn)\n",
    "bins = [math.floor(turn.min()), *range(31, 41), math.ceil(turn.max())]\n",
    "observed = pd.cut(car['turn'], bins, right=False).value_counts(sort=False)\n",
    "\n",
    "dist = stats.norm(loc=turn.mean(), scale=turn.std())\n",
    "expected = [n * (dist.cdf(idx.right) - dist.cdf(idx.left)) for idx in observed.index]\n",
    "df = pd.DataFrame({\n",
    "  'observed': observed,\n",
    "  'expected': expected,\n",
    "  '(O-E)^2/E': (observed-expected)**2/expected,\n",
    "}, index=observed.index)\n",
    "print(df)\n",
    "chi2 = df['(O-E)^2/E'].sum()\n",
    "print('chi2-statistic of fit', chi2)\n",
    "\n",
    "\n",
    "df = len(bins) - 3\n",
    "alpha = 1-0.95\n",
    "print(f'chi2[{df-1}] for 95%', stats.chi2(df - 1).ppf(1-alpha))\n",
    "print('p-value of observed statistic', 1 - stats.chi2(df - 1).cdf(chi2))"
   ]
  },
  {
   "cell_type": "markdown",
   "id": "6724e26c",
   "metadata": {},
   "source": [
    "# Exercise 35"
   ]
  },
  {
   "cell_type": "code",
   "execution_count": 19,
   "id": "fb046e70",
   "metadata": {
    "execution": {
     "iopub.execute_input": "2023-07-17T14:39:14.322588Z",
     "iopub.status.busy": "2023-07-17T14:39:14.322334Z",
     "iopub.status.idle": "2023-07-17T14:39:14.332569Z",
     "shell.execute_reply": "2023-07-17T14:39:14.331626Z"
    }
   },
   "outputs": [
    {
     "name": "stdout",
     "output_type": "stream",
     "text": [
      "KstestResult(statistic=0.07019153486614366, pvalue=0.6303356787948367, statistic_location=32.2, statistic_sign=1)\n",
      "k_alpha 0.08514304524687971\n"
     ]
    }
   ],
   "source": [
    "car = mistat.load_data('CAR')\n",
    "turn = car['turn']\n",
    "\n",
    "result = stats.kstest(turn, 'norm',\n",
    "          args=(np.mean(turn), np.std(turn, ddof=1)),\n",
    "          alternative='two-sided')\n",
    "print(result)\n",
    "\n",
    "d_alpha = 0.895\n",
    "n = len(turn)\n",
    "k_alpha = d_alpha / (np.sqrt(n) - 0.01 + 0.85 / np.sqrt(n))\n",
    "print('k_alpha', k_alpha)"
   ]
  },
  {
   "cell_type": "markdown",
   "id": "083cfd7b",
   "metadata": {},
   "source": [
    "# Exercise 42"
   ]
  },
  {
   "cell_type": "code",
   "execution_count": 20,
   "id": "039f3c8e",
   "metadata": {
    "execution": {
     "iopub.execute_input": "2023-07-17T14:39:14.335826Z",
     "iopub.status.busy": "2023-07-17T14:39:14.335263Z",
     "iopub.status.idle": "2023-07-17T14:39:14.508648Z",
     "shell.execute_reply": "2023-07-17T14:39:14.507844Z"
    }
   },
   "outputs": [
    {
     "data": {
      "image/png": "[encoded data removed]",
      "text/plain": [
       "<Figure size 400x400 with 1 Axes>"
      ]
     },
     "metadata": {},
     "output_type": "display_data"
    }
   ],
   "source": [
    "random.seed(1)\n",
    "car = mistat.load_data('CAR')\n",
    "\n",
    "def mean_of_sample_with_replacement(x, n):\n",
    "  sample = random.choices(x, k=n)\n",
    "  return np.mean(sample)\n",
    "\n",
    "means = [mean_of_sample_with_replacement(car['mpg'], 64)\n",
    "         for _ in range(200)]\n",
    "\n",
    "fig, ax = plt.subplots(figsize=[4, 4])\n",
    "pg.qqplot(means, ax=ax)\n",
    "plt.show()"
   ]
  },
  {
   "cell_type": "code",
   "execution_count": 21,
   "id": "fdcf5724",
   "metadata": {
    "execution": {
     "iopub.execute_input": "2023-07-17T14:39:14.511875Z",
     "iopub.status.busy": "2023-07-17T14:39:14.511650Z",
     "iopub.status.idle": "2023-07-17T14:39:14.518422Z",
     "shell.execute_reply": "2023-07-17T14:39:14.517216Z"
    }
   },
   "outputs": [
    {
     "name": "stdout",
     "output_type": "stream",
     "text": [
      "standard deviation of mpg 3.9172332424696052\n",
      "S/8 0.48965415530870066\n",
      "S.E.\\{X\\} 0.44718791755315535\n"
     ]
    }
   ],
   "source": [
    "S = np.std(car['mpg'], ddof=1)\n",
    "print('standard deviation of mpg', S)\n",
    "print('S/8', S/8)\n",
    "S_resample = np.std(means, ddof=1)\n",
    "print('S.E.\\{X\\}', S_resample)"
   ]
  },
  {
   "cell_type": "markdown",
   "id": "f65eb9ba",
   "metadata": {},
   "source": [
    "# Exercise 43"
   ]
  },
  {
   "cell_type": "code",
   "execution_count": 22,
   "id": "3ec05c97",
   "metadata": {
    "execution": {
     "iopub.execute_input": "2023-07-17T14:39:14.521581Z",
     "iopub.status.busy": "2023-07-17T14:39:14.521323Z",
     "iopub.status.idle": "2023-07-17T14:39:14.608756Z",
     "shell.execute_reply": "2023-07-17T14:39:14.607633Z"
    }
   },
   "outputs": [
    {
     "name": "stdout",
     "output_type": "stream",
     "text": [
      " Mean: 2.9238429999999993\n",
      " 2-sigma-CI: 2.7 - 3.1\n",
      " proportion outside: 0.068\n"
     ]
    }
   ],
   "source": [
    "random.seed(1)\n",
    "yarnstrg = mistat.load_data('YARNSTRG')\n",
    "\n",
    "def confidence_interval(x, nsigma=2):\n",
    "  sample_mean = np.mean(x)\n",
    "  sigma = np.std(x, ddof=1) / np.sqrt(len(x))\n",
    "  return (sample_mean - 2 * sigma, sample_mean + 2 * sigma)\n",
    "\n",
    "mean = np.mean(yarnstrg)\n",
    "outside = 0\n",
    "for _ in range(500):\n",
    "  sample = random.choices(yarnstrg, k=30)\n",
    "  ci = confidence_interval(sample)\n",
    "  if mean < ci[0] or ci[1] < mean:\n",
    "    outside += 1\n",
    "\n",
    "hat_alpha = outside / 500\n",
    "\n",
    "ci = confidence_interval(yarnstrg)\n",
    "print(f' Mean: {mean}')\n",
    "print(f' 2-sigma-CI: {ci[0]:.1f} - {ci[1]:.1f}')\n",
    "print(f' proportion outside: {hat_alpha:.3f}')"
   ]
  },
  {
   "cell_type": "markdown",
   "id": "0951187c",
   "metadata": {},
   "source": [
    "# Exercise 44"
   ]
  },
  {
   "cell_type": "code",
   "execution_count": 23,
   "id": "69b1018b",
   "metadata": {
    "execution": {
     "iopub.execute_input": "2023-07-17T14:39:14.612398Z",
     "iopub.status.busy": "2023-07-17T14:39:14.611771Z",
     "iopub.status.idle": "2023-07-17T14:39:14.625059Z",
     "shell.execute_reply": "2023-07-17T14:39:14.623919Z"
    }
   },
   "outputs": [
    {
     "name": "stdout",
     "output_type": "stream",
     "text": [
      "0.23\n"
     ]
    }
   ],
   "source": [
    "random.seed(1)\n",
    "car = mistat.load_data('CAR')\n",
    "us_cars = car[car['origin'] == 1]\n",
    "us_turn = list(us_cars['turn'])\n",
    "\n",
    "sample_means = []\n",
    "for _ in range(100):\n",
    "  x = random.choices(us_turn, k=58)\n",
    "  sample_means.append(np.mean(x))\n",
    "\n",
    "is_larger = sum(m > 37.406 for m in sample_means)\n",
    "ratio = is_larger / len(sample_means)\n",
    "print(ratio)"
   ]
  },
  {
   "cell_type": "markdown",
   "id": "f8dd6193",
   "metadata": {},
   "source": [
    "# Exercise 45"
   ]
  },
  {
   "cell_type": "code",
   "execution_count": 24,
   "id": "e12e2c97",
   "metadata": {
    "execution": {
     "iopub.execute_input": "2023-07-17T14:39:14.628605Z",
     "iopub.status.busy": "2023-07-17T14:39:14.628026Z",
     "iopub.status.idle": "2023-07-17T14:39:14.636007Z",
     "shell.execute_reply": "2023-07-17T14:39:14.634987Z"
    }
   },
   "outputs": [
    {
     "data": {
      "text/plain": [
       "4.0"
      ]
     },
     "execution_count": 24,
     "metadata": {},
     "output_type": "execute_result"
    }
   ],
   "source": [
    "stats.binom(50, 0.03).ppf(0.95)"
   ]
  },
  {
   "cell_type": "markdown",
   "id": "24879e70",
   "metadata": {},
   "source": [
    "# Exercise 46"
   ]
  },
  {
   "cell_type": "code",
   "execution_count": 25,
   "id": "2de708af",
   "metadata": {
    "execution": {
     "iopub.execute_input": "2023-07-17T14:39:14.639345Z",
     "iopub.status.busy": "2023-07-17T14:39:14.638818Z",
     "iopub.status.idle": "2023-07-17T14:39:14.686505Z",
     "shell.execute_reply": "2023-07-17T14:39:14.685585Z"
    }
   },
   "outputs": [
    {
     "name": "stdout",
     "output_type": "stream",
     "text": [
      " Mean: 0.652\n",
      " 95%-CI: 0.550 - 0.760\n",
      " Mean: 0.370\n",
      " 95%-CI: 0.340 - 0.400\n"
     ]
    }
   ],
   "source": [
    "random.seed(1)\n",
    "cyclt = mistat.load_data('CYCLT')\n",
    "\n",
    "B = pg.compute_bootci(cyclt, func=np.mean, n_boot=1000,\n",
    "                      confidence=0.95, return_dist=True, seed=1)\n",
    "\n",
    "ci_mean, dist_mean = B\n",
    "print(f' Mean: {np.mean(dist_mean):.3f}')\n",
    "print(f' 95%-CI: {ci_mean[0]:.3f} - {ci_mean[1]:.3f}')\n",
    "\n",
    "B = pg.compute_bootci(cyclt, func=lambda x: np.std(x, ddof=1), n_boot=1000,\n",
    "                      confidence=0.95, return_dist=True, seed=1)\n",
    "\n",
    "ci_std, dist_std = B\n",
    "print(f' Mean: {np.mean(dist_std):.3f}')\n",
    "print(f' 95%-CI: {ci_std[0]:.3f} - {ci_std[1]:.3f}')"
   ]
  },
  {
   "cell_type": "code",
   "execution_count": 26,
   "id": "6b68168b",
   "metadata": {
    "execution": {
     "iopub.execute_input": "2023-07-17T14:39:14.689721Z",
     "iopub.status.busy": "2023-07-17T14:39:14.689483Z",
     "iopub.status.idle": "2023-07-17T14:39:15.065821Z",
     "shell.execute_reply": "2023-07-17T14:39:15.064610Z"
    }
   },
   "outputs": [
    {
     "data": {
      "image/png": "[encoded data removed]",
      "text/plain": [
       "<Figure size 600x300 with 2 Axes>"
      ]
     },
     "metadata": {},
     "output_type": "display_data"
    }
   ],
   "source": [
    "fig, axes = plt.subplots(figsize=[6, 3], ncols=2)\n",
    "axes[0].hist(dist_mean, color='grey', bins=17)\n",
    "axes[1].hist(dist_std, color='grey', bins=17)\n",
    "axes[0].set_title('Bootstrap distribution mean')\n",
    "axes[1].set_title('Bootstrap distribution std.dev.')\n",
    "plt.tight_layout()\n",
    "plt.show()"
   ]
  },
  {
   "cell_type": "markdown",
   "id": "8a836df3",
   "metadata": {},
   "source": [
    "# Exercise 47"
   ]
  },
  {
   "cell_type": "code",
   "execution_count": 27,
   "id": "9b871e9e",
   "metadata": {
    "execution": {
     "iopub.execute_input": "2023-07-17T14:39:15.068720Z",
     "iopub.status.busy": "2023-07-17T14:39:15.068513Z",
     "iopub.status.idle": "2023-07-17T14:39:15.340778Z",
     "shell.execute_reply": "2023-07-17T14:39:15.339722Z"
    }
   },
   "outputs": [
    {
     "name": "stdout",
     "output_type": "stream",
     "text": [
      "Quantile 1: 0.306 95%-CI: 0.230 - 0.420\n",
      "Quantile 2: 0.573 95%-CI: 0.380 - 1.010\n",
      "Quantile 3: 1.060 95%-CI: 0.660 - 1.090\n"
     ]
    }
   ],
   "source": [
    "cyclt = mistat.load_data('CYCLT')\n",
    "ebd = {}\n",
    "for quantile in (1, 2, 3):\n",
    "  B = pg.compute_bootci(cyclt, func=lambda x: np.quantile(x, 0.25 * quantile),\n",
    "                        n_boot=1000, confidence=0.95, return_dist=True, seed=1)\n",
    "  ci, dist = B\n",
    "  ebd[quantile] = dist\n",
    "  print(f'Quantile {quantile}: {np.mean(dist):.3f} 95%-CI: {ci[0]:.3f} - {ci[1]:.3f}')"
   ]
  },
  {
   "cell_type": "code",
   "execution_count": 28,
   "id": "2922395c",
   "metadata": {
    "execution": {
     "iopub.execute_input": "2023-07-17T14:39:15.343692Z",
     "iopub.status.busy": "2023-07-17T14:39:15.343482Z",
     "iopub.status.idle": "2023-07-17T14:39:15.692573Z",
     "shell.execute_reply": "2023-07-17T14:39:15.691476Z"
    }
   },
   "outputs": [
    {
     "data": {
      "image/png": "[encoded data removed]",
      "text/plain": [
       "<Figure size 600x200 with 3 Axes>"
      ]
     },
     "metadata": {},
     "output_type": "display_data"
    }
   ],
   "source": [
    "fig, axes = plt.subplots(figsize=[6, 2], ncols=3)\n",
    "axes[0].hist(ebd[1], color='grey', bins=17)\n",
    "axes[1].hist(ebd[2], color='grey', bins=17)\n",
    "axes[2].hist(ebd[3], color='grey', bins=17)\n",
    "axes[0].set_xlabel('Q1')\n",
    "axes[1].set_xlabel('Q2')\n",
    "axes[2].set_xlabel('Q3')\n",
    "axes[0].set_ylabel('Frequency')\n",
    "plt.tight_layout()\n",
    "plt.show()"
   ]
  },
  {
   "cell_type": "markdown",
   "id": "fb30804e",
   "metadata": {},
   "source": [
    "# Exercise 48"
   ]
  },
  {
   "cell_type": "code",
   "execution_count": 29,
   "id": "cd53c79f",
   "metadata": {
    "execution": {
     "iopub.execute_input": "2023-07-17T14:39:15.695744Z",
     "iopub.status.busy": "2023-07-17T14:39:15.695467Z",
     "iopub.status.idle": "2023-07-17T14:39:17.277654Z",
     "shell.execute_reply": "2023-07-17T14:39:17.276471Z"
    }
   },
   "outputs": [
    {
     "name": "stdout",
     "output_type": "stream",
     "text": [
      "rho_XY: 0.975 95%-CI: 0.940 - 0.990\n"
     ]
    }
   ],
   "source": [
    "socell = mistat.load_data('SOCELL')\n",
    "t1 = socell['t1']\n",
    "t2 = socell['t2']\n",
    "\n",
    "# use the index\n",
    "idx = list(range(len(socell)))\n",
    "def sample_correlation(x):\n",
    "  return stats.pearsonr(t1[x], t2[x])[0]\n",
    "\n",
    "B = pg.compute_bootci(idx, func=sample_correlation,\n",
    "                      n_boot=1000, confidence=0.95, return_dist=True, seed=1)\n",
    "ci, dist = B\n",
    "print(f'rho_XY: {np.mean(dist):.3f} 95%-CI: {ci[0]:.3f} - {ci[1]:.3f}')"
   ]
  },
  {
   "cell_type": "code",
   "execution_count": 30,
   "id": "bb5eb741",
   "metadata": {
    "execution": {
     "iopub.execute_input": "2023-07-17T14:39:17.281090Z",
     "iopub.status.busy": "2023-07-17T14:39:17.280681Z",
     "iopub.status.idle": "2023-07-17T14:39:17.420937Z",
     "shell.execute_reply": "2023-07-17T14:39:17.419737Z"
    }
   },
   "outputs": [
    {
     "data": {
      "image/png": "[encoded data removed]",
      "text/plain": [
       "<Figure size 400x400 with 1 Axes>"
      ]
     },
     "metadata": {},
     "output_type": "display_data"
    }
   ],
   "source": [
    "fig, ax = plt.subplots(figsize=[4, 4])\n",
    "ax.hist(dist, color='grey', bins=17)\n",
    "plt.show()"
   ]
  },
  {
   "cell_type": "markdown",
   "id": "6f38fefa",
   "metadata": {},
   "source": [
    "# Exercise 49"
   ]
  },
  {
   "cell_type": "code",
   "execution_count": 31,
   "id": "f4c452b1",
   "metadata": {
    "execution": {
     "iopub.execute_input": "2023-07-17T14:39:17.425456Z",
     "iopub.status.busy": "2023-07-17T14:39:17.424126Z",
     "iopub.status.idle": "2023-07-17T14:39:18.430064Z",
     "shell.execute_reply": "2023-07-17T14:39:18.429222Z"
    }
   },
   "outputs": [
    {
     "name": "stdout",
     "output_type": "stream",
     "text": [
      "intercept (a): 30.724 95%-CI: 28.766 - 32.691\n",
      "slope (b): -0.0741 95%-CI: -0.0891 - -0.0599\n",
      "1.0170449375724464\n",
      "0.0074732552885114645\n"
     ]
    }
   ],
   "source": [
    "car = mistat.load_data('CAR')\n",
    "mpg = car['mpg']\n",
    "hp = car['hp']\n",
    "\n",
    "idx = list(range(len(mpg)))\n",
    "sample_intercept = []\n",
    "sample_slope = []\n",
    "for _ in range(1000):\n",
    "  x = random.choices(idx, k=len(idx))\n",
    "  result = stats.linregress(hp[x], mpg[x])\n",
    "  sample_intercept.append(result.intercept)\n",
    "  sample_slope.append(result.slope)\n",
    "\n",
    "ci = np.quantile(sample_intercept, [0.025, 0.975])\n",
    "print(f'intercept (a): {np.mean(sample_intercept):.3f} ' +\n",
    "      f'95%-CI: {ci[0]:.3f} - {ci[1]:.3f}')\n",
    "ci = np.quantile(sample_slope, [0.025, 0.975])\n",
    "print(f'slope (b): {np.mean(sample_slope):.4f} ' +\n",
    "      f'95%-CI: {ci[0]:.4f} - {ci[1]:.4f}')\n",
    "\n",
    "reg = stats.linregress(hp, mpg)\n",
    "hm = np.mean(hp)\n",
    "\n",
    "print(np.std(sample_intercept))\n",
    "print(np.std(sample_slope))"
   ]
  },
  {
   "cell_type": "markdown",
   "id": "3b527b90",
   "metadata": {},
   "source": [
    "# Exercise 50"
   ]
  },
  {
   "cell_type": "code",
   "execution_count": 32,
   "id": "d6e6b24a",
   "metadata": {
    "execution": {
     "iopub.execute_input": "2023-07-17T14:39:18.433320Z",
     "iopub.status.busy": "2023-07-17T14:39:18.432974Z",
     "iopub.status.idle": "2023-07-17T14:39:18.451207Z",
     "shell.execute_reply": "2023-07-17T14:39:18.450181Z"
    }
   },
   "outputs": [
    {
     "name": "stdout",
     "output_type": "stream",
     "text": [
      "Xmean_50 = 0.652\n",
      "TtestResult(statistic=1.9425149510299369, pvalue=0.057833259176805, df=49)\n",
      "p*-value: 0.024\n"
     ]
    }
   ],
   "source": [
    "cyclt = mistat.load_data('CYCLT')\n",
    "X50 = np.mean(cyclt)\n",
    "SD50 = np.std(cyclt)\n",
    "result = stats.ttest_1samp(cyclt, 0.55)\n",
    "print(f'Xmean_50 = {X50:.3f}')\n",
    "print(result)\n",
    "\n",
    "B = pg.compute_bootci(cyclt, func=np.mean, n_boot=1000,\n",
    "                      confidence=0.95, return_dist=True, seed=1)\n",
    "ci_mean, dist = B\n",
    "pstar = sum(dist < 0.55) / len(dist)\n",
    "print(f'p*-value: {pstar}')"
   ]
  },
  {
   "cell_type": "markdown",
   "id": "713fcc03",
   "metadata": {},
   "source": [
    "# Exercise 51"
   ]
  },
  {
   "cell_type": "code",
   "execution_count": 33,
   "id": "7375cd0c",
   "metadata": {
    "execution": {
     "iopub.execute_input": "2023-07-17T14:39:18.454134Z",
     "iopub.status.busy": "2023-07-17T14:39:18.453911Z",
     "iopub.status.idle": "2023-07-17T14:39:18.464850Z",
     "shell.execute_reply": "2023-07-17T14:39:18.463774Z"
    }
   },
   "outputs": [
    {
     "name": "stdout",
     "output_type": "stream",
     "text": [
      "Variance diam1: 0.00027\n",
      "Variance diam2: 0.00032\n",
      "Ratio: 1.2016\n",
      "p-value: 0.776\n"
     ]
    }
   ],
   "source": [
    "almpin = mistat.load_data('ALMPIN')\n",
    "diam1 = almpin['diam1']\n",
    "diam2 = almpin['diam2']\n",
    "\n",
    "# calculate the ratio of the two variances:\n",
    "var_diam1 = np.var(diam1)\n",
    "var_diam2 = np.var(diam2)\n",
    "F = var_diam2 / var_diam1\n",
    "print(f'Variance diam1: {var_diam1:.5f}')\n",
    "print(f'Variance diam2: {var_diam2:.5f}')\n",
    "print(f'Ratio: {F:.4f}')\n",
    "\n",
    "# Calculate the p-value\n",
    "p_value = stats.f.cdf(F, len(diam1) - 1, len(diam2) - 1)\n",
    "print(f'p-value: {p_value:.3f}')"
   ]
  },
  {
   "cell_type": "code",
   "execution_count": 34,
   "id": "fcf1e7ba",
   "metadata": {
    "execution": {
     "iopub.execute_input": "2023-07-17T14:39:18.467834Z",
     "iopub.status.busy": "2023-07-17T14:39:18.467443Z",
     "iopub.status.idle": "2023-07-17T14:39:18.585488Z",
     "shell.execute_reply": "2023-07-17T14:39:18.583873Z"
    }
   },
   "outputs": [
    {
     "data": {
      "image/png": "[encoded data removed]",
      "text/plain": [
       "<Figure size 640x480 with 1 Axes>"
      ]
     },
     "metadata": {},
     "output_type": "display_data"
    }
   ],
   "source": [
    "almpin.boxplot(column=['diam1', 'diam2'])\n",
    "plt.show()"
   ]
  },
  {
   "cell_type": "markdown",
   "id": "b9ac7666",
   "metadata": {},
   "source": [
    "# Exercise 52"
   ]
  },
  {
   "cell_type": "code",
   "execution_count": 35,
   "id": "83efa9b4",
   "metadata": {
    "execution": {
     "iopub.execute_input": "2023-07-17T14:39:18.589324Z",
     "iopub.status.busy": "2023-07-17T14:39:18.589037Z",
     "iopub.status.idle": "2023-07-17T14:39:18.603332Z",
     "shell.execute_reply": "2023-07-17T14:39:18.602273Z"
    }
   },
   "outputs": [
    {
     "name": "stdout",
     "output_type": "stream",
     "text": [
      "Mean diam1: 9.99286\n",
      "Mean diam2: 9.98729\n",
      "Studentized difference: 1.912\n",
      "p-value: 0.058\n",
      "TtestResult(statistic=1.9119658005133064, pvalue=0.05795318184124417, df=138.0)\n"
     ]
    }
   ],
   "source": [
    "almpin = mistat.load_data('ALMPIN')\n",
    "diam1 = almpin['diam1']\n",
    "diam2 = almpin['diam2']\n",
    "\n",
    "# Compare means\n",
    "mean_diam1 = np.mean(diam1)\n",
    "mean_diam2 = np.mean(diam2)\n",
    "print(f'Mean diam1: {mean_diam1:.5f}')\n",
    "print(f'Mean diam2: {mean_diam2:.5f}')\n",
    "\n",
    "# calculate studentized difference and p-value\n",
    "se1, se2 = stats.sem(diam1), stats.sem(diam2)\n",
    "sed = np.sqrt(se1**2.0 + se2**2.0)\n",
    "t_stat = (mean_diam1 - mean_diam2) / sed\n",
    "print(f'Studentized difference: {t_stat:.3f}')\n",
    "df = len(diam1) + len(diam2) - 2\n",
    "p = (1 - stats.t.cdf(abs(t_stat), df)) * 2\n",
    "print(f'p-value: {p:.3f}')\n",
    "\n",
    "# or use any of the available implementations of the t-test\n",
    "print(stats.ttest_ind(diam1, diam2))"
   ]
  },
  {
   "cell_type": "code",
   "execution_count": 36,
   "id": "1eff71f7",
   "metadata": {
    "execution": {
     "iopub.execute_input": "2023-07-17T14:39:18.606069Z",
     "iopub.status.busy": "2023-07-17T14:39:18.605805Z",
     "iopub.status.idle": "2023-07-17T14:39:19.600382Z",
     "shell.execute_reply": "2023-07-17T14:39:19.599404Z"
    }
   },
   "outputs": [
    {
     "name": "stdout",
     "output_type": "stream",
     "text": [
      "p*-value: 0.014\n"
     ]
    }
   ],
   "source": [
    "random.seed(1)\n",
    "\n",
    "# return studentized distance between random samples from diam1 and diam2\n",
    "def stat_func():\n",
    "    d1 = random.choices(diam1, k=len(diam1))\n",
    "    d2 = random.choices(diam2, k=len(diam2))\n",
    "    return stats.ttest_ind(d1, d2).statistic\n",
    "\n",
    "dist = np.array([stat_func() for _ in range(1000)])\n",
    "\n",
    "pstar = sum(dist < 0) / len(dist)\n",
    "print(f'p*-value: {pstar}')"
   ]
  },
  {
   "cell_type": "code",
   "execution_count": 37,
   "id": "10b2f914",
   "metadata": {
    "execution": {
     "iopub.execute_input": "2023-07-17T14:39:19.602922Z",
     "iopub.status.busy": "2023-07-17T14:39:19.602701Z",
     "iopub.status.idle": "2023-07-17T14:39:19.616518Z",
     "shell.execute_reply": "2023-07-17T14:39:19.615423Z"
    }
   },
   "outputs": [
    {
     "name": "stdout",
     "output_type": "stream",
     "text": [
      "S2 diam1    0.000266\n",
      "diam2    0.000320\n",
      "dtype: float64\n",
      "F0 1.2016104294478573\n",
      "FBoot 95% 1.1855457165968324\n",
      "p*-value: 0.04\n"
     ]
    }
   ],
   "source": [
    "columns = ['diam1', 'diam2']\n",
    "# variance for each column\n",
    "S2 = almpin[columns].var(axis=0, ddof=0)\n",
    "F0 = max(S2) / min(S2)\n",
    "print('S2', S2)\n",
    "print('F0', F0)\n",
    "\n",
    "# Step 1: sample variances of bootstrapped samples for each column\n",
    "seed = 1\n",
    "B = {}\n",
    "for column in columns:\n",
    "    ci = pg.compute_bootci(almpin[column], func='var', n_boot=500,\n",
    "                       confidence=0.95, seed=seed, return_dist=True)\n",
    "    B[column] = ci[1]\n",
    "Bt = pd.DataFrame(B)\n",
    "\n",
    "# Step 2: compute Wi\n",
    "Wi = Bt / S2\n",
    "\n",
    "# Step 3: compute F*\n",
    "FBoot = Wi.max(axis=1) / Wi.min(axis=1)\n",
    "FBoot95 = np.quantile(FBoot, 0.95)\n",
    "print('FBoot 95%', FBoot95)\n",
    "pstar = sum(FBoot >= F0)/len(FBoot)\n",
    "print(f'p*-value: {pstar}')"
   ]
  },
  {
   "cell_type": "markdown",
   "id": "659e2aa0",
   "metadata": {},
   "source": [
    "# Exercise 53"
   ]
  },
  {
   "cell_type": "code",
   "execution_count": 38,
   "id": "1b68249b",
   "metadata": {
    "execution": {
     "iopub.execute_input": "2023-07-17T14:39:19.619239Z",
     "iopub.status.busy": "2023-07-17T14:39:19.619022Z",
     "iopub.status.idle": "2023-07-17T14:39:19.635946Z",
     "shell.execute_reply": "2023-07-17T14:39:19.635059Z"
    }
   },
   "outputs": [
    {
     "name": "stdout",
     "output_type": "stream",
     "text": [
      "S2 origin1    12.942529\n",
      "origin2     6.884615\n",
      "origin3    18.321321\n",
      "dtype: float64\n",
      "F0 2.6611975103595213\n",
      "FBoot 95% 2.6925366761838987\n",
      "p*-value: 0.058\n"
     ]
    }
   ],
   "source": [
    "mpg = mistat.load_data('MPG')\n",
    "columns = ['origin1', 'origin2', 'origin3']\n",
    "# variance for each column\n",
    "S2 = mpg[columns].var(axis=0, ddof=1)\n",
    "F0 = max(S2) / min(S2)\n",
    "print('S2', S2)\n",
    "print('F0', F0)\n",
    "\n",
    "# Step 1: sample variances of bootstrapped samples for each column\n",
    "seed = 1\n",
    "B = {}\n",
    "for column in columns:\n",
    "    ci = pg.compute_bootci(mpg[column].dropna(), func='var', n_boot=500,\n",
    "                       confidence=0.95, seed=seed, return_dist=True)\n",
    "    B[column] = ci[1]\n",
    "Bt = pd.DataFrame(B)\n",
    "\n",
    "# Step 2: compute Wi\n",
    "Wi = Bt / S2\n",
    "\n",
    "# Step 3: compute F*\n",
    "FBoot = Wi.max(axis=1) / Wi.min(axis=1)\n",
    "FBoot95 = np.quantile(FBoot, 0.95)\n",
    "print('FBoot 95%', FBoot95)\n",
    "pstar = sum(FBoot >= F0)/len(FBoot)\n",
    "print(f'p*-value: {pstar}')"
   ]
  },
  {
   "cell_type": "markdown",
   "id": "a7aa2861",
   "metadata": {},
   "source": [
    "# Exercise 54"
   ]
  },
  {
   "cell_type": "code",
   "execution_count": 39,
   "id": "1b68b466",
   "metadata": {
    "execution": {
     "iopub.execute_input": "2023-07-17T14:39:19.639098Z",
     "iopub.status.busy": "2023-07-17T14:39:19.638503Z",
     "iopub.status.idle": "2023-07-17T14:39:20.217517Z",
     "shell.execute_reply": "2023-07-17T14:39:20.216571Z"
    }
   },
   "outputs": [
    {
     "name": "stdout",
     "output_type": "stream",
     "text": [
      "F = 6.076\n",
      "ratio 0.003\n"
     ]
    },
    {
     "data": {
      "image/png": "[encoded data removed]",
      "text/plain": [
       "<Figure size 640x480 with 1 Axes>"
      ]
     },
     "metadata": {},
     "output_type": "display_data"
    }
   ],
   "source": [
    "mpg = mistat.load_data('MPG.csv')\n",
    "samples = [mpg[key].dropna() for key in ['origin1', 'origin2', 'origin3']]\n",
    "\n",
    "def test_statistic_F(samples):\n",
    "    return stats.f_oneway(*samples).statistic\n",
    "\n",
    "# Calculate sample shifts\n",
    "Ni = np.array([len(sample) for sample in samples])\n",
    "N = np.sum(Ni)\n",
    "XBni = np.array([np.mean(sample) for sample in samples])\n",
    "XBB = np.sum(Ni * XBni) / N\n",
    "DB = XBni - XBB\n",
    "\n",
    "F0 = test_statistic_F(samples)\n",
    "Ns = 1000\n",
    "Fstar = []\n",
    "for _ in range(Ns):\n",
    "    Ysamples  = []\n",
    "    for sample, DBi in zip(samples, DB):\n",
    "        Xstar = np.array(random.choices(sample, k=len(sample)))\n",
    "        Ysamples.append(Xstar - DBi)\n",
    "    Fs = test_statistic_F(Ysamples)\n",
    "    Fstar.append(Fs)\n",
    "Fstar = np.array(Fstar)\n",
    "\n",
    "print(f'F = {F0:.3f}')\n",
    "print('ratio', sum(Fstar > F0)/len(Fstar))\n",
    "\n",
    "ax = pd.Series(Fstar).hist(bins=14, color='grey')\n",
    "ax.axvline(F0, color='black', lw=2)\n",
    "ax.set_xlabel('F* values')\n",
    "plt.show()"
   ]
  },
  {
   "cell_type": "markdown",
   "id": "d21b2f76",
   "metadata": {},
   "source": [
    "# Exercise 55"
   ]
  },
  {
   "cell_type": "code",
   "execution_count": 40,
   "id": "cedd0e8a",
   "metadata": {
    "execution": {
     "iopub.execute_input": "2023-07-17T14:39:20.220949Z",
     "iopub.status.busy": "2023-07-17T14:39:20.220638Z",
     "iopub.status.idle": "2023-07-17T14:39:20.588982Z",
     "shell.execute_reply": "2023-07-17T14:39:20.587756Z"
    }
   },
   "outputs": [
    {
     "name": "stdout",
     "output_type": "stream",
     "text": [
      "Tolerance interval p=0.2: (1.0, 22.0)\n",
      "Tolerance interval p=0.1: (0.0, 17.0)\n"
     ]
    },
    {
     "name": "stdout",
     "output_type": "stream",
     "text": [
      "Tolerance interval p=0.05: (0.0, 9.0)\n"
     ]
    }
   ],
   "source": [
    "np.random.seed(1)\n",
    "\n",
    "def qbinomBoot(x, p):\n",
    "    return stats.binom.ppf(p, 50, p=x.mean())\n",
    "\n",
    "for p_real in (0.2, 0.1, 0.05):\n",
    "    defects = stats.bernoulli.rvs(p_real, size=50)\n",
    "    B_025 = pg.compute_bootci(defects, func=lambda x: qbinomBoot(x, p=0.025),\n",
    "                              n_boot=500, seed=1, return_dist=True)\n",
    "    B_975 = pg.compute_bootci(defects, func=lambda x: qbinomBoot(x, p=0.975),\n",
    "                              n_boot=500, seed=1, return_dist=True)\n",
    "    tol_int = [np.quantile(B_025[1], 0.025),np.quantile(B_975[1], 0.975)]\n",
    "    print(f'Tolerance interval p={p_real}: ({tol_int[0]}, {tol_int[1]})')"
   ]
  },
  {
   "cell_type": "markdown",
   "id": "c504f449",
   "metadata": {},
   "source": [
    "# Exercise 56"
   ]
  },
  {
   "cell_type": "code",
   "execution_count": 41,
   "id": "62b66218",
   "metadata": {
    "execution": {
     "iopub.execute_input": "2023-07-17T14:39:20.592592Z",
     "iopub.status.busy": "2023-07-17T14:39:20.592256Z",
     "iopub.status.idle": "2023-07-17T14:39:20.701219Z",
     "shell.execute_reply": "2023-07-17T14:39:20.699942Z"
    }
   },
   "outputs": [
    {
     "name": "stdout",
     "output_type": "stream",
     "text": [
      "Tolerance interval (0.2399, 0.68305)\n"
     ]
    }
   ],
   "source": [
    "np.random.seed(1)\n",
    "\n",
    "def getQuantile(x, p):\n",
    "    return np.quantile(x, p)\n",
    "\n",
    "oturb = mistat.load_data('OTURB.csv')\n",
    "B_025 = pg.compute_bootci(oturb, func=lambda x: getQuantile(x, p=0.025),\n",
    "                          n_boot=500, seed=1, return_dist=True)\n",
    "B_975 = pg.compute_bootci(oturb, func=lambda x: getQuantile(x, p=0.975),\n",
    "                          n_boot=500, seed=1, return_dist=True)\n",
    "tol_int = [np.quantile(B_025[1], 0.025),np.quantile(B_975[1], 0.975)]\n",
    "print(f'Tolerance interval ({tol_int[0]}, {tol_int[1]})')"
   ]
  },
  {
   "cell_type": "markdown",
   "id": "6e648ca6",
   "metadata": {},
   "source": [
    "# Exercise 57"
   ]
  },
  {
   "cell_type": "code",
   "execution_count": 42,
   "id": "ae57e67d",
   "metadata": {
    "execution": {
     "iopub.execute_input": "2023-07-17T14:39:20.705970Z",
     "iopub.status.busy": "2023-07-17T14:39:20.704995Z",
     "iopub.status.idle": "2023-07-17T14:39:20.713487Z",
     "shell.execute_reply": "2023-07-17T14:39:20.712651Z"
    }
   },
   "outputs": [
    {
     "name": "stdout",
     "output_type": "stream",
     "text": [
      "Values greater 0.7: 20\n"
     ]
    }
   ],
   "source": [
    "cyclt = mistat.load_data('CYCLT.csv')\n",
    "# make use of the fact that a True value is interpreted as 1 and False as 0\n",
    "print('Values greater 0.7:', sum(cyclt>0.7))"
   ]
  },
  {
   "cell_type": "markdown",
   "id": "972edcf6",
   "metadata": {},
   "source": [
    "# Exercise 58"
   ]
  },
  {
   "cell_type": "code",
   "execution_count": 43,
   "id": "a8a541d0",
   "metadata": {
    "execution": {
     "iopub.execute_input": "2023-07-17T14:39:20.716941Z",
     "iopub.status.busy": "2023-07-17T14:39:20.716531Z",
     "iopub.status.idle": "2023-07-17T14:39:20.724905Z",
     "shell.execute_reply": "2023-07-17T14:39:20.724063Z"
    }
   },
   "outputs": [
    {
     "name": "stdout",
     "output_type": "stream",
     "text": [
      "WilcoxonResult(statistic=1916.0, pvalue=0.051047599707252124)\n"
     ]
    }
   ],
   "source": [
    "oelect = mistat.load_data('OELECT.csv')\n",
    "print(stats.wilcoxon(oelect-220))"
   ]
  },
  {
   "cell_type": "markdown",
   "id": "00a32017",
   "metadata": {},
   "source": [
    "# Exercise 59"
   ]
  },
  {
   "cell_type": "code",
   "execution_count": 44,
   "id": "863bed1f",
   "metadata": {
    "execution": {
     "iopub.execute_input": "2023-07-17T14:39:20.727805Z",
     "iopub.status.busy": "2023-07-17T14:39:20.727309Z",
     "iopub.status.idle": "2023-07-17T14:39:21.443789Z",
     "shell.execute_reply": "2023-07-17T14:39:21.442843Z"
    }
   },
   "outputs": [
    {
     "name": "stdout",
     "output_type": "stream",
     "text": [
      "Mean of Sample 1 (U.S. made) 36.255\n",
      "Mean of Sample 2 (foreign) 33.179\n"
     ]
    },
    {
     "name": "stdout",
     "output_type": "stream",
     "text": [
      "Original stat is 3.075758\n",
      "Original stat is at quantile 1001 of 1001 (100.00%)\n",
      "Distribution of bootstrap samples:\n",
      " min: -2.12, median: 0.01,  max: 2.68\n"
     ]
    }
   ],
   "source": [
    "car = mistat.load_data('CAR.csv')\n",
    "fourCylinder = car[car['cyl'] == 4]\n",
    "uscars = fourCylinder[fourCylinder['origin'] == 1]\n",
    "foreign = fourCylinder[fourCylinder['origin'] != 1]\n",
    "\n",
    "print(f'Mean of Sample 1 (U.S. made) {np.mean(uscars[\"turn\"]):.3f}')\n",
    "print(f'Mean of Sample 2 (foreign) {np.mean(foreign[\"turn\"]):.3f}')\n",
    "\n",
    "_ = mistat.randomizationTest(uscars['turn'], foreign['turn'], np.mean,\n",
    "                             aggregate_stats=lambda x: x[0] - x[1],\n",
    "                             n_boot=1000, seed=1)"
   ]
  }
 ],
 "metadata": {
  "language_info": {
   "codemirror_mode": {
    "name": "ipython",
    "version": 3
   },
   "file_extension": ".py",
   "mimetype": "text/x-python",
   "name": "python",
   "nbconvert_exporter": "python",
   "pygments_lexer": "ipython3",
   "version": "3.9.17"
  }
 },
 "nbformat": 4,
 "nbformat_minor": 5
}
