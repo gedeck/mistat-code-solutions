{
 "cells": [
  {
   "cell_type": "markdown",
   "id": "0cd22de7",
   "metadata": {},
   "source": [
    "# Exercise Chapter 2 \n",
    "Modern Statistics: A Computer Based Approach with Python<br>\n",
    "by Ron Kenett, Shelemyahu Zacks, Peter Gedeck\n",
    "\n",
    "Publisher: Springer International Publishing; 1st edition (September 15, 2022) <br>\n",
    "ISBN-13: 978-3031075650\n",
    "\n",
    "(c) 2022 Ron Kenett, Shelemyahu Zacks, Peter Gedeck\n",
    "\n",
    "The code needs to be executed in sequence.\n",
    "\n",
    "Python packages and Python itself change over time. This can cause warnings or errors. We\n",
    "\"Warnings\" are for information only and can usually be ignored. \n",
    "\"Errors\" will stop execution and need to be fixed in order to get results. \n",
    "\n",
    "If you come across an issue with the code, please follow these steps\n",
    "\n",
    "- Check the repository (https://gedeck.github.io/mistat-code-solutions/) to see if the code has been upgraded. This might solve the problem.\n",
    "- Check the errata at (https://gedeck.github.io/mistat-code-solutions/ModernStatistics/) and the issue tracker at https://github.com/gedeck/mistat-code-solutions/issues to see if the issue is known and a solution available.\n",
    "- Report the problem using the issue tracker at https://github.com/gedeck/mistat-code-solutions/issues\n",
    "- Paste the error message into Google and see if someone else already found a solution"
   ]
  },
  {
   "cell_type": "code",
   "execution_count": 1,
   "id": "46d39a26",
   "metadata": {
    "execution": {
     "iopub.execute_input": "2023-05-03T21:19:15.769408Z",
     "iopub.status.busy": "2023-05-03T21:19:15.769029Z",
     "iopub.status.idle": "2023-05-03T21:19:15.825276Z",
     "shell.execute_reply": "2023-05-03T21:19:15.824197Z"
    }
   },
   "outputs": [],
   "source": [
    "import os\n",
    "os.environ['OUTDATED_IGNORE'] = '1'\n",
    "import warnings\n",
    "from outdated import OutdatedPackageWarning\n",
    "warnings.filterwarnings('ignore', category=FutureWarning)\n",
    "warnings.filterwarnings('ignore', category=OutdatedPackageWarning)"
   ]
  },
  {
   "cell_type": "code",
   "execution_count": 2,
   "id": "3145b391",
   "metadata": {
    "execution": {
     "iopub.execute_input": "2023-05-03T21:19:15.828660Z",
     "iopub.status.busy": "2023-05-03T21:19:15.828391Z",
     "iopub.status.idle": "2023-05-03T21:19:16.654613Z",
     "shell.execute_reply": "2023-05-03T21:19:16.653454Z"
    }
   },
   "outputs": [],
   "source": [
    "import pandas as pd\n",
    "from scipy import stats\n",
    "import matplotlib.pyplot as plt"
   ]
  },
  {
   "cell_type": "markdown",
   "id": "1ba4a770",
   "metadata": {},
   "source": [
    "# Exercise 2"
   ]
  },
  {
   "cell_type": "code",
   "execution_count": 3,
   "id": "1198014a",
   "metadata": {
    "execution": {
     "iopub.execute_input": "2023-05-03T21:19:16.658272Z",
     "iopub.status.busy": "2023-05-03T21:19:16.657874Z",
     "iopub.status.idle": "2023-05-03T21:19:16.819721Z",
     "shell.execute_reply": "2023-05-03T21:19:16.818787Z"
    }
   },
   "outputs": [
    {
     "data": {
      "image/png": "[encoded data removed]",
      "text/plain": [
       "<Figure size 300x300 with 1 Axes>"
      ]
     },
     "metadata": {},
     "output_type": "display_data"
    }
   ],
   "source": [
    "fig, ax = plt.subplots(figsize=[3, 3])\n",
    "ax.plot([10, 15, 10, 10], [10, 10, 15, 10], color='black')\n",
    "ax.plot([10, 15], [15, 10], color='black', linewidth=3)\n",
    "ax.set_xlim(0, 25)\n",
    "ax.set_ylim(0, 25)\n",
    "ax.text(11.2, 11.2, 'B')\n",
    "ax.text(13, 13, 'A')\n",
    "ax.set_xlabel('$\\omega_1$')\n",
    "ax.set_ylabel('$\\omega_2$')\n",
    "plt.show()"
   ]
  },
  {
   "cell_type": "markdown",
   "id": "758c8344",
   "metadata": {},
   "source": [
    "# Exercise 42"
   ]
  },
  {
   "cell_type": "code",
   "execution_count": 4,
   "id": "e0d50a19",
   "metadata": {
    "execution": {
     "iopub.execute_input": "2023-05-03T21:19:16.822481Z",
     "iopub.status.busy": "2023-05-03T21:19:16.822269Z",
     "iopub.status.idle": "2023-05-03T21:19:16.851971Z",
     "shell.execute_reply": "2023-05-03T21:19:16.851078Z"
    }
   },
   "outputs": [
    {
     "name": "stdout",
     "output_type": "stream",
     "text": [
      "     x        p.d.f.    c.d.f.\n",
      "0    0  2.407475e-02  0.024075\n",
      "1    1  9.861947e-02  0.122694\n",
      "2    2  1.918921e-01  0.314586\n",
      "3    3  2.358192e-01  0.550406\n",
      "4    4  2.052764e-01  0.755682\n",
      "5    5  1.345426e-01  0.890224\n",
      "6    6  6.889229e-02  0.959117\n",
      "7    7  2.822094e-02  0.987338\n",
      "8    8  9.392812e-03  0.996731\n",
      "9    9  2.565105e-03  0.999296\n",
      "10  10  5.779213e-04  0.999874\n",
      "11  11  1.076086e-04  0.999981\n",
      "12  12  1.653023e-05  0.999998\n",
      "13  13  2.083514e-06  1.000000\n",
      "14  14  2.133719e-07  1.000000\n"
     ]
    }
   ],
   "source": [
    "x = list(range(15))\n",
    "table = pd.DataFrame({\n",
    "  'x': x,\n",
    "  'p.d.f.': [stats.binom(20, 0.17).pmf(x) for x in x],\n",
    "  'c.d.f.': [stats.binom(20, 0.17).cdf(x) for x in x],\n",
    "})\n",
    "print(table)"
   ]
  },
  {
   "cell_type": "markdown",
   "id": "f44d4666",
   "metadata": {},
   "source": [
    "# Exercise 55"
   ]
  },
  {
   "cell_type": "code",
   "execution_count": 5,
   "id": "5ff7e063",
   "metadata": {
    "execution": {
     "iopub.execute_input": "2023-05-03T21:19:16.854613Z",
     "iopub.status.busy": "2023-05-03T21:19:16.854398Z",
     "iopub.status.idle": "2023-05-03T21:19:16.860949Z",
     "shell.execute_reply": "2023-05-03T21:19:16.860204Z"
    }
   },
   "outputs": [
    {
     "data": {
      "text/plain": [
       "array([170., 265., 389.])"
      ]
     },
     "execution_count": 5,
     "metadata": {},
     "output_type": "execute_result"
    }
   ],
   "source": [
    "stats.nbinom.ppf([0.25, 0.5, 0.75], 3, 0.01)"
   ]
  },
  {
   "cell_type": "markdown",
   "id": "f2f0153f",
   "metadata": {},
   "source": [
    "# Exercise 63"
   ]
  },
  {
   "cell_type": "code",
   "execution_count": 6,
   "id": "bd9e4ccd",
   "metadata": {
    "execution": {
     "iopub.execute_input": "2023-05-03T21:19:16.863810Z",
     "iopub.status.busy": "2023-05-03T21:19:16.863200Z",
     "iopub.status.idle": "2023-05-03T21:19:16.869844Z",
     "shell.execute_reply": "2023-05-03T21:19:16.869028Z"
    }
   },
   "outputs": [
    {
     "name": "stdout",
     "output_type": "stream",
     "text": [
      "(i) 0.4061971427922976\n",
      "(ii) 0.36944134018176367\n",
      "(iii) 0.43381616738909634\n"
     ]
    }
   ],
   "source": [
    "rv = stats.norm(100, 15)\n",
    "print('(i)', rv.cdf(108) - rv.cdf(92))\n",
    "print('(ii)', 1 - rv.cdf(105))\n",
    "print('(iii)', rv.cdf((200 - 5)/2))"
   ]
  },
  {
   "cell_type": "markdown",
   "id": "3d0df378",
   "metadata": {},
   "source": [
    "# Exercise 75"
   ]
  },
  {
   "cell_type": "code",
   "execution_count": 7,
   "id": "5e5566c0",
   "metadata": {
    "execution": {
     "iopub.execute_input": "2023-05-03T21:19:16.872305Z",
     "iopub.status.busy": "2023-05-03T21:19:16.871898Z",
     "iopub.status.idle": "2023-05-03T21:19:16.876510Z",
     "shell.execute_reply": "2023-05-03T21:19:16.875523Z"
    }
   },
   "outputs": [
    {
     "name": "stdout",
     "output_type": "stream",
     "text": [
      "0.9266996106177159 1.7724538509055159 0.8862269254527579\n"
     ]
    }
   ],
   "source": [
    "from scipy.special import gamma\n",
    "print(gamma(1.17), gamma(1 / 2), gamma(3 / 2))"
   ]
  },
  {
   "cell_type": "markdown",
   "id": "646da14a",
   "metadata": {},
   "source": [
    "# Exercise 105"
   ]
  },
  {
   "cell_type": "code",
   "execution_count": 8,
   "id": "e8a03a08",
   "metadata": {
    "execution": {
     "iopub.execute_input": "2023-05-03T21:19:16.879083Z",
     "iopub.status.busy": "2023-05-03T21:19:16.878666Z",
     "iopub.status.idle": "2023-05-03T21:19:16.884612Z",
     "shell.execute_reply": "2023-05-03T21:19:16.883805Z"
    }
   },
   "outputs": [
    {
     "name": "stdout",
     "output_type": "stream",
     "text": [
      "1.8124611228107335\n",
      "1.7530503556925547\n",
      "1.7247182429207857\n"
     ]
    }
   ],
   "source": [
    "print(stats.t.ppf(0.95, 10))\n",
    "print(stats.t.ppf(0.95, 15))\n",
    "print(stats.t.ppf(0.95, 20))"
   ]
  },
  {
   "cell_type": "markdown",
   "id": "712c869b",
   "metadata": {},
   "source": [
    "# Exercise 106"
   ]
  },
  {
   "cell_type": "code",
   "execution_count": 9,
   "id": "1d659d4a",
   "metadata": {
    "execution": {
     "iopub.execute_input": "2023-05-03T21:19:16.887073Z",
     "iopub.status.busy": "2023-05-03T21:19:16.886669Z",
     "iopub.status.idle": "2023-05-03T21:19:16.892101Z",
     "shell.execute_reply": "2023-05-03T21:19:16.891353Z"
    }
   },
   "outputs": [
    {
     "name": "stdout",
     "output_type": "stream",
     "text": [
      "2.164579917125473\n",
      "2.0148036912954885\n",
      "1.931653475236928\n"
     ]
    }
   ],
   "source": [
    "print(stats.f.ppf(0.95, 10, 30))\n",
    "print(stats.f.ppf(0.95, 15, 30))\n",
    "print(stats.f.ppf(0.95, 20, 30))"
   ]
  }
 ],
 "metadata": {
  "language_info": {
   "codemirror_mode": {
    "name": "ipython",
    "version": 3
   },
   "file_extension": ".py",
   "mimetype": "text/x-python",
   "name": "python",
   "nbconvert_exporter": "python",
   "pygments_lexer": "ipython3",
   "version": "3.9.16"
  }
 },
 "nbformat": 4,
 "nbformat_minor": 5
}
