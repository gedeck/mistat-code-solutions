{
 "cells": [
  {
   "cell_type": "markdown",
   "id": "0e1bbd77",
   "metadata": {},
   "source": [
    "# Exercise Chapter  \n",
    "Industrial Statistics: A Computer Based Approach with Python<br>\n",
    "by Ron Kenett, Shelemyahu Zacks, Peter Gedeck\n",
    "\n",
    "Publisher: Springer International Publishing; 1st edition (2023) <br>\n",
    "<!-- ISBN-13: 978-3031075650 -->\n",
    "\n",
    "(c) 2022 Ron Kenett, Shelemyahu Zacks, Peter Gedeck\n",
    "\n",
    "The code needs to be executed in sequence."
   ]
  },
  {
   "cell_type": "code",
   "execution_count": 1,
   "id": "f7c14026",
   "metadata": {
    "execution": {
     "iopub.execute_input": "2022-10-10T13:24:20.541975Z",
     "iopub.status.busy": "2022-10-10T13:24:20.541120Z",
     "iopub.status.idle": "2022-10-10T13:24:20.593273Z",
     "shell.execute_reply": "2022-10-10T13:24:20.592235Z"
    }
   },
   "outputs": [],
   "source": [
    "import os\n",
    "os.environ['OUTDATED_IGNORE'] = '1'\n",
    "import warnings\n",
    "from outdated import OutdatedPackageWarning\n",
    "warnings.filterwarnings('ignore', category=OutdatedPackageWarning)"
   ]
  },
  {
   "cell_type": "code",
   "execution_count": 2,
   "id": "e3d16919",
   "metadata": {
    "execution": {
     "iopub.execute_input": "2022-10-10T13:24:20.596554Z",
     "iopub.status.busy": "2022-10-10T13:24:20.596310Z",
     "iopub.status.idle": "2022-10-10T13:24:21.744483Z",
     "shell.execute_reply": "2022-10-10T13:24:21.743386Z"
    }
   },
   "outputs": [],
   "source": [
    "import numpy as np\n",
    "import pandas as pd\n",
    "from scipy import stats\n",
    "import statsmodels.formula.api as smf\n",
    "import lifelines\n",
    "import pingouin as pg\n",
    "import seaborn as sns\n",
    "import matplotlib.pyplot as plt\n",
    "import mistat"
   ]
  }
 ],
 "metadata": {
  "language_info": {
   "codemirror_mode": {
    "name": "ipython",
    "version": 3
   },
   "file_extension": ".py",
   "mimetype": "text/x-python",
   "name": "python",
   "nbconvert_exporter": "python",
   "pygments_lexer": "ipython3",
   "version": "3.9.14"
  }
 },
 "nbformat": 4,
 "nbformat_minor": 5
}
