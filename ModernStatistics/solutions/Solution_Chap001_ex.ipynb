{
 "cells": [
  {
   "cell_type": "markdown",
   "id": "b83cc0e9",
   "metadata": {},
   "source": [
    "# Exercise Chapter 1 \n",
    "Modern Statistics: A Computer Based Approach with Python<br>\n",
    "by Ron Kenett, Shelemyahu Zacks, Peter Gedeck\n",
    "\n",
    "Publisher: Springer International Publishing; 1st edition (September 15, 2022) <br>\n",
    "ISBN-13: 978-3031075650\n",
    "\n",
    "(c) 2022 Ron Kenett, Shelemyahu Zacks, Peter Gedeck\n",
    "\n",
    "The code needs to be executed in sequence.\n",
    "\n",
    "Python packages and Python itself change over time. This can cause warnings or errors. We\n",
    "\"Warnings\" are for information only and can usually be ignored. \n",
    "\"Errors\" will stop execution and need to be fixed in order to get results. \n",
    "\n",
    "If you come across an issue with the code, please follow these steps\n",
    "\n",
    "- Check the repository (https://gedeck.github.io/mistat-code-solutions/) to see if the code has been upgraded. This might solve the problem.\n",
    "- Check the errata at (https://gedeck.github.io/mistat-code-solutions/ModernStatistics/) and the issue tracker at https://github.com/gedeck/mistat-code-solutions/issues to see if the issue is known and a solution available.\n",
    "- Report the problem using the issue tracker at https://github.com/gedeck/mistat-code-solutions/issues\n",
    "- Paste the error message into Google and see if someone else already found a solution"
   ]
  },
  {
   "cell_type": "code",
   "execution_count": 1,
   "id": "cb610a3a",
   "metadata": {
    "execution": {
     "iopub.execute_input": "2023-01-07T14:31:32.055758Z",
     "iopub.status.busy": "2023-01-07T14:31:32.055064Z",
     "iopub.status.idle": "2023-01-07T14:31:32.107779Z",
     "shell.execute_reply": "2023-01-07T14:31:32.106748Z"
    }
   },
   "outputs": [],
   "source": [
    "import os\n",
    "os.environ['OUTDATED_IGNORE'] = '1'\n",
    "import warnings\n",
    "from outdated import OutdatedPackageWarning\n",
    "warnings.filterwarnings('ignore', category=FutureWarning)\n",
    "warnings.filterwarnings('ignore', category=OutdatedPackageWarning)"
   ]
  },
  {
   "cell_type": "code",
   "execution_count": 2,
   "id": "29757ff2",
   "metadata": {
    "execution": {
     "iopub.execute_input": "2023-01-07T14:31:32.110970Z",
     "iopub.status.busy": "2023-01-07T14:31:32.110676Z",
     "iopub.status.idle": "2023-01-07T14:31:33.053741Z",
     "shell.execute_reply": "2023-01-07T14:31:33.052514Z"
    }
   },
   "outputs": [],
   "source": [
    "import math\n",
    "import numpy as np\n",
    "import pandas as pd\n",
    "import matplotlib.pyplot as plt\n",
    "import mistat\n",
    "from scipy import stats\n",
    "\n",
    "def trim_std(data, alpha):\n",
    "  \"\"\" Calculate trimmed standard deviation \"\"\"\n",
    "  data = np.array(data)\n",
    "  data.sort()\n",
    "  n = len(data)\n",
    "  low = int(n * alpha) + 1\n",
    "  high = int(n * (1 - alpha))\n",
    "  return data[low:(high + 1)].std()"
   ]
  },
  {
   "cell_type": "markdown",
   "id": "555fda91",
   "metadata": {},
   "source": [
    "# Exercise 1"
   ]
  },
  {
   "cell_type": "code",
   "execution_count": 3,
   "id": "7c2a46b2",
   "metadata": {
    "execution": {
     "iopub.execute_input": "2023-01-07T14:31:33.057682Z",
     "iopub.status.busy": "2023-01-07T14:31:33.057367Z",
     "iopub.status.idle": "2023-01-07T14:31:33.063194Z",
     "shell.execute_reply": "2023-01-07T14:31:33.062051Z"
    }
   },
   "outputs": [],
   "source": [
    "import random\n",
    "random.seed(1)\n",
    "values = random.choices([1, 2, 3, 4, 5, 6], k=50)"
   ]
  },
  {
   "cell_type": "code",
   "execution_count": 4,
   "id": "381f2999",
   "metadata": {
    "execution": {
     "iopub.execute_input": "2023-01-07T14:31:33.066497Z",
     "iopub.status.busy": "2023-01-07T14:31:33.066106Z",
     "iopub.status.idle": "2023-01-07T14:31:33.074514Z",
     "shell.execute_reply": "2023-01-07T14:31:33.073576Z"
    }
   },
   "outputs": [
    {
     "data": {
      "text/plain": [
       "Counter({1: 9, 6: 9, 5: 8, 2: 10, 3: 10, 4: 4})"
      ]
     },
     "execution_count": 4,
     "metadata": {},
     "output_type": "execute_result"
    }
   ],
   "source": [
    "from collections import Counter\n",
    "Counter(values)"
   ]
  },
  {
   "cell_type": "markdown",
   "id": "e462b964",
   "metadata": {},
   "source": [
    "# Exercise 2"
   ]
  },
  {
   "cell_type": "code",
   "execution_count": 5,
   "id": "c5ac4dc7",
   "metadata": {
    "execution": {
     "iopub.execute_input": "2023-01-07T14:31:33.077329Z",
     "iopub.status.busy": "2023-01-07T14:31:33.077084Z",
     "iopub.status.idle": "2023-01-07T14:31:33.082072Z",
     "shell.execute_reply": "2023-01-07T14:31:33.081071Z"
    }
   },
   "outputs": [],
   "source": [
    "random.seed(1)\n",
    "x = list(range(50))\n",
    "y = [5 + 2.5 * xi for xi in x]\n",
    "y = [yi + random.uniform(-10, 10) for yi in y]"
   ]
  },
  {
   "cell_type": "code",
   "execution_count": 6,
   "id": "2bc263f1",
   "metadata": {
    "execution": {
     "iopub.execute_input": "2023-01-07T14:31:33.085002Z",
     "iopub.status.busy": "2023-01-07T14:31:33.084658Z",
     "iopub.status.idle": "2023-01-07T14:31:33.200628Z",
     "shell.execute_reply": "2023-01-07T14:31:33.199743Z"
    }
   },
   "outputs": [
    {
     "data": {
      "image/png": "[encoded data removed]",
      "text/plain": [
       "<Figure size 640x480 with 1 Axes>"
      ]
     },
     "metadata": {},
     "output_type": "display_data"
    }
   ],
   "source": [
    "x = list(range(50))\n",
    "y = [5 + 2.5 * xi for xi in x]\n",
    "y = [yi + random.uniform(-10, 10) for yi in y]\n",
    "pd.DataFrame({'x': x, 'y': y}).plot.scatter(x='x', y='y')\n",
    "plt.show()"
   ]
  },
  {
   "cell_type": "markdown",
   "id": "8104f9aa",
   "metadata": {},
   "source": [
    "# Exercise 3"
   ]
  },
  {
   "cell_type": "code",
   "execution_count": 7,
   "id": "c30532bc",
   "metadata": {
    "execution": {
     "iopub.execute_input": "2023-01-07T14:31:33.203776Z",
     "iopub.status.busy": "2023-01-07T14:31:33.203512Z",
     "iopub.status.idle": "2023-01-07T14:31:33.211274Z",
     "shell.execute_reply": "2023-01-07T14:31:33.210297Z"
    }
   },
   "outputs": [
    {
     "name": "stdout",
     "output_type": "stream",
     "text": [
      "0.1 4\n",
      "0.3 12\n",
      "0.7 33\n",
      "0.9 43\n"
     ]
    }
   ],
   "source": [
    "from scipy.stats import binom\n",
    "np.random.seed(1)\n",
    "\n",
    "for p in (0.1, 0.3, 0.7, 0.9):\n",
    "  X = binom.rvs(1, p, size=50)\n",
    "  print(p, sum(X))"
   ]
  },
  {
   "cell_type": "markdown",
   "id": "8c467cd1",
   "metadata": {},
   "source": [
    "# Exercise 4"
   ]
  },
  {
   "cell_type": "code",
   "execution_count": 8,
   "id": "72bd1dff",
   "metadata": {
    "execution": {
     "iopub.execute_input": "2023-01-07T14:31:33.214223Z",
     "iopub.status.busy": "2023-01-07T14:31:33.213955Z",
     "iopub.status.idle": "2023-01-07T14:31:33.347502Z",
     "shell.execute_reply": "2023-01-07T14:31:33.346322Z"
    }
   },
   "outputs": [
    {
     "data": {
      "image/png": "[encoded data removed]",
      "text/plain": [
       "<Figure size 640x480 with 1 Axes>"
      ]
     },
     "metadata": {},
     "output_type": "display_data"
    },
    {
     "name": "stdout",
     "output_type": "stream",
     "text": [
      "mean inst1 10.03366815\n",
      "stdev inst1 0.8708144577963102\n",
      "mean inst2 10.98302505\n",
      "stdev inst2 0.5685555119253366\n"
     ]
    }
   ],
   "source": [
    "inst1 = [9.490950, 10.436813, 9.681357, 10.996083, 10.226101, 10.253741,\n",
    "         10.458926, 9.247097, 8.287045, 10.145414, 11.373981, 10.144389,\n",
    "         11.265351, 7.956107, 10.166610, 10.800805, 9.372905, 10.199018,\n",
    "         9.742579, 10.428091]\n",
    "inst2 = [11.771486, 10.697693, 10.687212, 11.097567, 11.676099,\n",
    "         10.583907, 10.505690, 9.958557, 10.938350, 11.718334,\n",
    "         11.308556, 10.957640, 11.250546, 10.195894, 11.804038,\n",
    "         11.825099, 10.677206, 10.249831, 10.729174, 11.027622]\n",
    "ax = pd.Series(inst1).plot(marker='o', linestyle='none',\n",
    "                           fillstyle='none', color='black')\n",
    "pd.Series(inst2).plot(marker='+', linestyle='none', ax=ax,\n",
    "                      fillstyle='none', color='black')\n",
    "plt.show()\n",
    "\n",
    "print('mean inst1', np.mean(inst1))\n",
    "print('stdev inst1', np.std(inst1, ddof=1))\n",
    "print('mean inst2', np.mean(inst2))\n",
    "print('stdev inst2', np.std(inst2, ddof=1))"
   ]
  },
  {
   "cell_type": "markdown",
   "id": "fc0dbb0b",
   "metadata": {},
   "source": [
    "# Exercise 6"
   ]
  },
  {
   "cell_type": "code",
   "execution_count": 9,
   "id": "cd07c5f6",
   "metadata": {
    "execution": {
     "iopub.execute_input": "2023-01-07T14:31:33.350346Z",
     "iopub.status.busy": "2023-01-07T14:31:33.350122Z",
     "iopub.status.idle": "2023-01-07T14:31:33.356968Z",
     "shell.execute_reply": "2023-01-07T14:31:33.356031Z"
    }
   },
   "outputs": [
    {
     "data": {
      "text/plain": [
       "[6, 88, 57, 20, 51, 49, 36, 35, 54, 63, 62, 46, 3, 23, 18, 59, 87, 80, 80, 82]"
      ]
     },
     "execution_count": 9,
     "metadata": {},
     "output_type": "execute_result"
    }
   ],
   "source": [
    "import random\n",
    "random.choices(range(1, 101), k=20)"
   ]
  },
  {
   "cell_type": "markdown",
   "id": "57d2813e",
   "metadata": {},
   "source": [
    "# Exercise 7"
   ]
  },
  {
   "cell_type": "code",
   "execution_count": 10,
   "id": "f26c2c96",
   "metadata": {
    "execution": {
     "iopub.execute_input": "2023-01-07T14:31:33.359977Z",
     "iopub.status.busy": "2023-01-07T14:31:33.359599Z",
     "iopub.status.idle": "2023-01-07T14:31:33.366969Z",
     "shell.execute_reply": "2023-01-07T14:31:33.365964Z"
    }
   },
   "outputs": [
    {
     "data": {
      "text/plain": [
       "[19, 12, 13, 28, 11, 18, 26, 23, 15, 14]"
      ]
     },
     "execution_count": 10,
     "metadata": {},
     "output_type": "execute_result"
    }
   ],
   "source": [
    "import random\n",
    "random.sample(range(11, 31), 10)"
   ]
  },
  {
   "cell_type": "markdown",
   "id": "6664f75f",
   "metadata": {},
   "source": [
    "# Exercise 10"
   ]
  },
  {
   "cell_type": "code",
   "execution_count": 11,
   "id": "4b282dce",
   "metadata": {
    "execution": {
     "iopub.execute_input": "2023-01-07T14:31:33.369910Z",
     "iopub.status.busy": "2023-01-07T14:31:33.369662Z",
     "iopub.status.idle": "2023-01-07T14:31:33.478764Z",
     "shell.execute_reply": "2023-01-07T14:31:33.477928Z"
    }
   },
   "outputs": [
    {
     "data": {
      "image/png": "[encoded data removed]",
      "text/plain": [
       "<Figure size 640x480 with 1 Axes>"
      ]
     },
     "metadata": {},
     "output_type": "display_data"
    }
   ],
   "source": [
    "filmsp = mistat.load_data('FILMSP')\n",
    "filmsp.plot.hist()\n",
    "plt.show()"
   ]
  },
  {
   "cell_type": "markdown",
   "id": "8254a882",
   "metadata": {},
   "source": [
    "# Exercise 11"
   ]
  },
  {
   "cell_type": "code",
   "execution_count": 12,
   "id": "c67e7ff4",
   "metadata": {
    "execution": {
     "iopub.execute_input": "2023-01-07T14:31:33.481639Z",
     "iopub.status.busy": "2023-01-07T14:31:33.481433Z",
     "iopub.status.idle": "2023-01-07T14:31:33.491801Z",
     "shell.execute_reply": "2023-01-07T14:31:33.491001Z"
    }
   },
   "outputs": [
    {
     "data": {
      "text/html": [
       "<div>\n",
       "<style scoped>\n",
       "    .dataframe tbody tr th:only-of-type {\n",
       "        vertical-align: middle;\n",
       "    }\n",
       "\n",
       "    .dataframe tbody tr th {\n",
       "        vertical-align: top;\n",
       "    }\n",
       "\n",
       "    .dataframe thead th {\n",
       "        text-align: right;\n",
       "    }\n",
       "</style>\n",
       "<table border=\"1\" class=\"dataframe\">\n",
       "  <thead>\n",
       "    <tr style=\"text-align: right;\">\n",
       "      <th></th>\n",
       "      <th>COAL</th>\n",
       "    </tr>\n",
       "  </thead>\n",
       "  <tbody>\n",
       "    <tr>\n",
       "      <th>3</th>\n",
       "      <td>17</td>\n",
       "    </tr>\n",
       "    <tr>\n",
       "      <th>6</th>\n",
       "      <td>3</td>\n",
       "    </tr>\n",
       "    <tr>\n",
       "      <th>4</th>\n",
       "      <td>6</td>\n",
       "    </tr>\n",
       "    <tr>\n",
       "      <th>0</th>\n",
       "      <td>33</td>\n",
       "    </tr>\n",
       "    <tr>\n",
       "      <th>5</th>\n",
       "      <td>5</td>\n",
       "    </tr>\n",
       "    <tr>\n",
       "      <th>2</th>\n",
       "      <td>18</td>\n",
       "    </tr>\n",
       "    <tr>\n",
       "      <th>7</th>\n",
       "      <td>1</td>\n",
       "    </tr>\n",
       "    <tr>\n",
       "      <th>1</th>\n",
       "      <td>28</td>\n",
       "    </tr>\n",
       "  </tbody>\n",
       "</table>\n",
       "</div>"
      ],
      "text/plain": [
       "   COAL\n",
       "3    17\n",
       "6     3\n",
       "4     6\n",
       "0    33\n",
       "5     5\n",
       "2    18\n",
       "7     1\n",
       "1    28"
      ]
     },
     "execution_count": 12,
     "metadata": {},
     "output_type": "execute_result"
    }
   ],
   "source": [
    "coal = mistat.load_data('COAL')\n",
    "pd.DataFrame(coal.value_counts(sort=False))"
   ]
  },
  {
   "cell_type": "markdown",
   "id": "0ffb8636",
   "metadata": {},
   "source": [
    "# Exercise 12"
   ]
  },
  {
   "cell_type": "code",
   "execution_count": 13,
   "id": "d0ec472b",
   "metadata": {
    "execution": {
     "iopub.execute_input": "2023-01-07T14:31:33.494926Z",
     "iopub.status.busy": "2023-01-07T14:31:33.494662Z",
     "iopub.status.idle": "2023-01-07T14:31:33.503760Z",
     "shell.execute_reply": "2023-01-07T14:31:33.502816Z"
    }
   },
   "outputs": [
    {
     "data": {
      "text/plain": [
       "4    66\n",
       "6    30\n",
       "8    13\n",
       "Name: cyl, dtype: int64"
      ]
     },
     "execution_count": 13,
     "metadata": {},
     "output_type": "execute_result"
    }
   ],
   "source": [
    "car = mistat.load_data('CAR')\n",
    "car['cyl'].value_counts(sort=False)"
   ]
  },
  {
   "cell_type": "code",
   "execution_count": 14,
   "id": "d8cb26e0",
   "metadata": {
    "execution": {
     "iopub.execute_input": "2023-01-07T14:31:33.506308Z",
     "iopub.status.busy": "2023-01-07T14:31:33.506104Z",
     "iopub.status.idle": "2023-01-07T14:31:33.519332Z",
     "shell.execute_reply": "2023-01-07T14:31:33.518402Z"
    }
   },
   "outputs": [
    {
     "data": {
      "text/plain": [
       "(28, 30]     3\n",
       "(30, 32]    16\n",
       "(32, 34]    16\n",
       "(34, 36]    26\n",
       "(36, 38]    20\n",
       "(38, 40]    18\n",
       "(40, 42]     8\n",
       "(42, 44]     2\n",
       "Name: turn, dtype: int64"
      ]
     },
     "execution_count": 14,
     "metadata": {},
     "output_type": "execute_result"
    }
   ],
   "source": [
    "pd.cut(car['turn'], bins=range(28, 46, 2)).value_counts(sort=False)"
   ]
  },
  {
   "cell_type": "code",
   "execution_count": 15,
   "id": "5ccf8867",
   "metadata": {
    "execution": {
     "iopub.execute_input": "2023-01-07T14:31:33.521593Z",
     "iopub.status.busy": "2023-01-07T14:31:33.521387Z",
     "iopub.status.idle": "2023-01-07T14:31:33.530552Z",
     "shell.execute_reply": "2023-01-07T14:31:33.529783Z"
    }
   },
   "outputs": [
    {
     "data": {
      "text/plain": [
       "(50, 75]       7\n",
       "(75, 100]     34\n",
       "(100, 125]    22\n",
       "(125, 150]    18\n",
       "(150, 175]    17\n",
       "(175, 200]     6\n",
       "(200, 225]     4\n",
       "(225, 250]     1\n",
       "Name: hp, dtype: int64"
      ]
     },
     "execution_count": 15,
     "metadata": {},
     "output_type": "execute_result"
    }
   ],
   "source": [
    "pd.cut(car['hp'], bins=range(50, 275, 25)).value_counts(sort=False)"
   ]
  },
  {
   "cell_type": "code",
   "execution_count": 16,
   "id": "1be63255",
   "metadata": {
    "execution": {
     "iopub.execute_input": "2023-01-07T14:31:33.532998Z",
     "iopub.status.busy": "2023-01-07T14:31:33.532562Z",
     "iopub.status.idle": "2023-01-07T14:31:33.542621Z",
     "shell.execute_reply": "2023-01-07T14:31:33.541112Z"
    }
   },
   "outputs": [
    {
     "data": {
      "text/plain": [
       "(9, 14]      1\n",
       "(14, 19]    42\n",
       "(19, 24]    41\n",
       "(24, 29]    22\n",
       "(29, 34]     3\n",
       "Name: mpg, dtype: int64"
      ]
     },
     "execution_count": 16,
     "metadata": {},
     "output_type": "execute_result"
    }
   ],
   "source": [
    "pd.cut(car['mpg'], bins=range(9, 38, 5)).value_counts(sort=False)"
   ]
  },
  {
   "cell_type": "markdown",
   "id": "bec17210",
   "metadata": {},
   "source": [
    "# Exercise 13"
   ]
  },
  {
   "cell_type": "code",
   "execution_count": 17,
   "id": "5925ee5d",
   "metadata": {
    "execution": {
     "iopub.execute_input": "2023-01-07T14:31:33.546649Z",
     "iopub.status.busy": "2023-01-07T14:31:33.545903Z",
     "iopub.status.idle": "2023-01-07T14:31:33.555876Z",
     "shell.execute_reply": "2023-01-07T14:31:33.554824Z"
    }
   },
   "outputs": [
    {
     "name": "stdout",
     "output_type": "stream",
     "text": [
      "0.00     66.0\n",
      "0.25    102.0\n",
      "0.50    105.0\n",
      "0.75    109.0\n",
      "1.00    118.0\n",
      "Name: FILMSP, dtype: float64\n",
      "0.80    109.8\n",
      "0.90    111.0\n",
      "0.99    114.0\n",
      "Name: FILMSP, dtype: float64\n"
     ]
    }
   ],
   "source": [
    "filmsp = mistat.load_data('FILMSP')\n",
    "filmsp = filmsp.sort_values(ignore_index=True)  # sort and reset index\n",
    "\n",
    "print(filmsp.quantile(q=[0, 0.25, 0.5, 0.75, 1.0]))\n",
    "print(filmsp.quantile(q=[0.8, 0.9, 0.99]))"
   ]
  },
  {
   "cell_type": "code",
   "execution_count": 18,
   "id": "3b9e194b",
   "metadata": {
    "execution": {
     "iopub.execute_input": "2023-01-07T14:31:33.558715Z",
     "iopub.status.busy": "2023-01-07T14:31:33.558429Z",
     "iopub.status.idle": "2023-01-07T14:31:33.563869Z",
     "shell.execute_reply": "2023-01-07T14:31:33.563073Z"
    }
   },
   "outputs": [
    {
     "name": "stdout",
     "output_type": "stream",
     "text": [
      "0 66.0\n",
      "0.25 102.0\n",
      "0.5 105.0\n",
      "0.75 109.0\n",
      "0.8 109.5\n",
      "0.9 111.0\n",
      "0.99 114.0\n",
      "1.0 118.0\n"
     ]
    }
   ],
   "source": [
    "def calculate_quantile(x, q):\n",
    "  idx = (len(x) - 1) * q\n",
    "  left = math.floor(idx)\n",
    "  right = math.ceil(idx)\n",
    "  return 0.5 * (x[left] + x[right])\n",
    "\n",
    "for q in (0, 0.25, 0.5, 0.75, 0.8, 0.9, 0.99, 1.0):\n",
    "  print(q, calculate_quantile(filmsp, q))"
   ]
  },
  {
   "cell_type": "markdown",
   "id": "0ae9fc51",
   "metadata": {},
   "source": [
    "# Exercise 14"
   ]
  },
  {
   "cell_type": "code",
   "execution_count": 19,
   "id": "2f682493",
   "metadata": {
    "execution": {
     "iopub.execute_input": "2023-01-07T14:31:33.566397Z",
     "iopub.status.busy": "2023-01-07T14:31:33.566017Z",
     "iopub.status.idle": "2023-01-07T14:31:33.573701Z",
     "shell.execute_reply": "2023-01-07T14:31:33.572968Z"
    }
   },
   "outputs": [
    {
     "name": "stdout",
     "output_type": "stream",
     "text": [
      "Python:\n",
      " Skewness: -1.8098727695275856, Kurtosis: 9.014427238360716\n",
      "Pandas:\n",
      " Skewness: -1.8224949285588137, Kurtosis: 6.183511188870432\n"
     ]
    }
   ],
   "source": [
    "filmsp = mistat.load_data('FILMSP')\n",
    "n = len(filmsp)\n",
    "mean = filmsp.mean()\n",
    "deviations = [film - mean for film in filmsp]\n",
    "S = math.sqrt(sum(deviation**2 for deviation in deviations) / n)\n",
    "\n",
    "skewness = sum(deviation**3 for deviation in deviations) / n / (S**3)\n",
    "kurtosis = sum(deviation**4 for deviation in deviations) / n / (S**4)\n",
    "print('Python:\\n',\n",
    "      f'Skewness: {skewness}, Kurtosis: {kurtosis}')\n",
    "\n",
    "print('Pandas:\\n',\n",
    "      f'Skewness: {filmsp.skew()}, Kurtosis: {filmsp.kurtosis()}')"
   ]
  },
  {
   "cell_type": "markdown",
   "id": "9a4de7bd",
   "metadata": {},
   "source": [
    "# Exercise 15"
   ]
  },
  {
   "cell_type": "code",
   "execution_count": 20,
   "id": "38b26e39",
   "metadata": {
    "execution": {
     "iopub.execute_input": "2023-01-07T14:31:33.576272Z",
     "iopub.status.busy": "2023-01-07T14:31:33.575862Z",
     "iopub.status.idle": "2023-01-07T14:31:33.587928Z",
     "shell.execute_reply": "2023-01-07T14:31:33.587152Z"
    }
   },
   "outputs": [
    {
     "name": "stdout",
     "output_type": "stream",
     "text": [
      "             mean       std\n",
      "origin                     \n",
      "1       20.931034  3.597573\n",
      "2       19.500000  2.623855\n",
      "3       23.108108  4.280341\n"
     ]
    }
   ],
   "source": [
    "car = mistat.load_data('CAR')\n",
    "car['mpg'].groupby(by=car['origin']).mean()\n",
    "car['mpg'].groupby(by=car['origin']).std()\n",
    "# calculate both at the same time\n",
    "print(car['mpg'].groupby(by=car['origin']).agg(['mean', 'std']))"
   ]
  },
  {
   "cell_type": "markdown",
   "id": "ff8af343",
   "metadata": {},
   "source": [
    "# Exercise 16"
   ]
  },
  {
   "cell_type": "code",
   "execution_count": 21,
   "id": "e019121d",
   "metadata": {
    "execution": {
     "iopub.execute_input": "2023-01-07T14:31:33.590530Z",
     "iopub.status.busy": "2023-01-07T14:31:33.590141Z",
     "iopub.status.idle": "2023-01-07T14:31:33.596679Z",
     "shell.execute_reply": "2023-01-07T14:31:33.595901Z"
    }
   },
   "outputs": [],
   "source": [
    "car = mistat.load_data('CAR')\n",
    "car_US = car[car['origin'] == 1]\n",
    "gamma = car_US['turn'].std() / car_US['turn'].mean()"
   ]
  },
  {
   "cell_type": "markdown",
   "id": "30972df0",
   "metadata": {},
   "source": [
    "# Exercise 17"
   ]
  },
  {
   "cell_type": "code",
   "execution_count": 22,
   "id": "cb2b89d2",
   "metadata": {
    "execution": {
     "iopub.execute_input": "2023-01-07T14:31:33.599118Z",
     "iopub.status.busy": "2023-01-07T14:31:33.598727Z",
     "iopub.status.idle": "2023-01-07T14:31:33.608265Z",
     "shell.execute_reply": "2023-01-07T14:31:33.607423Z"
    }
   },
   "outputs": [
    {
     "name": "stdout",
     "output_type": "stream",
     "text": [
      "US\n",
      "mean 37.203448275862065\n",
      "geometric mean 37.06877691910792\n",
      "Japanese\n",
      "mean 33.04594594594595\n",
      "geometric mean 32.97599107553825\n"
     ]
    }
   ],
   "source": [
    "car = mistat.load_data('CAR')\n",
    "\n",
    "car_US = car[car['origin'] == 1]\n",
    "car_Asia = car[car['origin'] == 3]\n",
    "print('US')\n",
    "print('mean', car_US['turn'].mean())\n",
    "print('geometric mean', stats.gmean(car_US['turn']))\n",
    "print('Japanese')\n",
    "print('mean', car_Asia['turn'].mean())\n",
    "print('geometric mean', stats.gmean(car_Asia['turn']))"
   ]
  },
  {
   "cell_type": "markdown",
   "id": "7cc20f39",
   "metadata": {},
   "source": [
    "# Exercise 18"
   ]
  },
  {
   "cell_type": "code",
   "execution_count": 23,
   "id": "df2a27d9",
   "metadata": {
    "execution": {
     "iopub.execute_input": "2023-01-07T14:31:33.610650Z",
     "iopub.status.busy": "2023-01-07T14:31:33.610289Z",
     "iopub.status.idle": "2023-01-07T14:31:33.617987Z",
     "shell.execute_reply": "2023-01-07T14:31:33.617221Z"
    }
   },
   "outputs": [
    {
     "name": "stdout",
     "output_type": "stream",
     "text": [
      "mean: 104.59447004608295, stddev: 6.547657682704987\n",
      "X +/- 1S:  actual freq. 173,  pred. freq. 147.56\n",
      "X +/- 2S:  actual freq. 205,  pred. freq. 206.15\n",
      "X +/- 3S:  actual freq. 213,  pred. freq. 216.35\n"
     ]
    }
   ],
   "source": [
    "filmsp = mistat.load_data('FILMSP')\n",
    "\n",
    "Xbar = filmsp.mean()\n",
    "S = filmsp.std()\n",
    "print(f'mean: {Xbar}, stddev: {S}')\n",
    "expected = {1: 0.68, 2: 0.95, 3: 0.997}\n",
    "for k in (1, 2, 3):\n",
    "  left = Xbar - k * S\n",
    "  right = Xbar + k * S\n",
    "  proportion = sum(left < film < right for film in filmsp)\n",
    "  print(f'X +/- {k}S: ',\n",
    "        f'actual freq. {proportion}, ',\n",
    "        f'pred. freq. {expected[k] * len(filmsp):.2f}')"
   ]
  },
  {
   "cell_type": "markdown",
   "id": "54a461f8",
   "metadata": {},
   "source": [
    "# Exercise 19"
   ]
  },
  {
   "cell_type": "code",
   "execution_count": 24,
   "id": "a92e16e9",
   "metadata": {
    "execution": {
     "iopub.execute_input": "2023-01-07T14:31:33.620560Z",
     "iopub.status.busy": "2023-01-07T14:31:33.620140Z",
     "iopub.status.idle": "2023-01-07T14:31:33.742170Z",
     "shell.execute_reply": "2023-01-07T14:31:33.741095Z"
    }
   },
   "outputs": [
    {
     "data": {
      "image/png": "[encoded data removed]",
      "text/plain": [
       "<Figure size 640x480 with 1 Axes>"
      ]
     },
     "metadata": {},
     "output_type": "display_data"
    }
   ],
   "source": [
    "car = mistat.load_data('CAR')\n",
    "car.boxplot(column='mpg', by='origin')\n",
    "plt.show()"
   ]
  },
  {
   "cell_type": "markdown",
   "id": "023598eb",
   "metadata": {},
   "source": [
    "# Exercise 20"
   ]
  },
  {
   "cell_type": "code",
   "execution_count": 25,
   "id": "4444d6b2",
   "metadata": {
    "execution": {
     "iopub.execute_input": "2023-01-07T14:31:33.745444Z",
     "iopub.status.busy": "2023-01-07T14:31:33.745174Z",
     "iopub.status.idle": "2023-01-07T14:31:33.755494Z",
     "shell.execute_reply": "2023-01-07T14:31:33.754493Z"
    }
   },
   "outputs": [
    {
     "name": "stdout",
     "output_type": "stream",
     "text": [
      "       4      2   3444\n",
      "      18      2   55555666677789\n",
      "      40      3   0000001111112222333345\n",
      "    (15)      3   566677788899999\n",
      "      45      4   00022334444\n",
      "      34      4   566888999\n",
      "      25      5   0112333\n",
      "      18      5   6789\n",
      "      14      6   01122233444\n",
      "       3      6   788\n"
     ]
    }
   ],
   "source": [
    "oturb = mistat.load_data('OTURB')\n",
    "mistat.stemLeafDiagram(oturb, 2, leafUnit=0.01)"
   ]
  },
  {
   "cell_type": "markdown",
   "id": "473a2fc4",
   "metadata": {},
   "source": [
    "# Exercise 21"
   ]
  },
  {
   "cell_type": "code",
   "execution_count": 26,
   "id": "a3079853",
   "metadata": {
    "execution": {
     "iopub.execute_input": "2023-01-07T14:31:33.759293Z",
     "iopub.status.busy": "2023-01-07T14:31:33.758338Z",
     "iopub.status.idle": "2023-01-07T14:31:33.766777Z",
     "shell.execute_reply": "2023-01-07T14:31:33.765948Z"
    }
   },
   "outputs": [
    {
     "name": "stdout",
     "output_type": "stream",
     "text": [
      "T(0.1) = 0.40558750000000005\n",
      "S(0.1) = 0.09982289003530202\n"
     ]
    }
   ],
   "source": [
    "from scipy.stats import trim_mean\n",
    "\n",
    "oturb = mistat.load_data('OTURB')\n",
    "print(f'T(0.1) = {trim_mean(oturb, 0.1)}')\n",
    "print(f'S(0.1) = {trim_std(oturb, 0.1)}')"
   ]
  },
  {
   "cell_type": "markdown",
   "id": "37c0fb8d",
   "metadata": {},
   "source": [
    "# Exercise 22"
   ]
  },
  {
   "cell_type": "code",
   "execution_count": 27,
   "id": "bca2e762",
   "metadata": {
    "execution": {
     "iopub.execute_input": "2023-01-07T14:31:33.769574Z",
     "iopub.status.busy": "2023-01-07T14:31:33.769127Z",
     "iopub.status.idle": "2023-01-07T14:31:33.779392Z",
     "shell.execute_reply": "2023-01-07T14:31:33.778613Z"
    }
   },
   "outputs": [
    {
     "name": "stdout",
     "output_type": "stream",
     "text": [
      "          German   Japanese\n",
      "count  15.000000  20.000000\n",
      "mean    7.373333   8.455000\n",
      "std     1.780235   1.589596\n",
      "min     4.800000   5.700000\n",
      "25%     6.200000   7.175000\n",
      "50%     7.100000   8.400000\n",
      "75%     8.600000   9.425000\n",
      "max    10.900000  12.500000\n"
     ]
    }
   ],
   "source": [
    "germanCars = [10, 10.9, 4.8, 6.4, 7.9, 8.9, 8.5, 6.9, 7.1,\n",
    "              5.5, 6.4, 8.7, 5.1, 6.0, 7.5]\n",
    "japaneseCars = [9.4, 9.5, 7.1, 8.0, 8.9, 7.7, 10.5, 6.5, 6.7,\n",
    "                9.3, 5.7, 12.5, 7.2, 9.1, 8.3, 8.2, 8.5, 6.8, 9.5, 9.7]\n",
    "# convert to pandas Series\n",
    "germanCars = pd.Series(germanCars)\n",
    "japaneseCars = pd.Series(japaneseCars)\n",
    "# use describe to calculate statistics\n",
    "comparison = pd.DataFrame({\n",
    "  'German': germanCars.describe(),\n",
    "  'Japanese': japaneseCars.describe(),\n",
    "})\n",
    "print(comparison)"
   ]
  },
  {
   "cell_type": "markdown",
   "id": "bf286c81",
   "metadata": {},
   "source": [
    "# Exercise 23"
   ]
  },
  {
   "cell_type": "code",
   "execution_count": 28,
   "id": "c509b771",
   "metadata": {
    "execution": {
     "iopub.execute_input": "2023-01-07T14:31:33.781839Z",
     "iopub.status.busy": "2023-01-07T14:31:33.781551Z",
     "iopub.status.idle": "2023-01-07T14:31:33.791988Z",
     "shell.execute_reply": "2023-01-07T14:31:33.791239Z"
    }
   },
   "outputs": [
    {
     "name": "stdout",
     "output_type": "stream",
     "text": [
      "              res3         res7\n",
      "count   192.000000   192.000000\n",
      "mean   1965.239583  1857.776042\n",
      "std     163.528165   151.535930\n",
      "min    1587.000000  1420.000000\n",
      "25%    1860.000000  1772.250000\n",
      "50%    1967.000000  1880.000000\n",
      "75%    2088.750000  1960.000000\n",
      "max    2427.000000  2200.000000\n"
     ]
    }
   ],
   "source": [
    "hadpas = mistat.load_data('HADPAS')\n",
    "sampleStatistics = pd.DataFrame({\n",
    "  'res3': hadpas['res3'].describe(),\n",
    "  'res7': hadpas['res7'].describe(),\n",
    "})\n",
    "print(sampleStatistics)"
   ]
  },
  {
   "cell_type": "code",
   "execution_count": 29,
   "id": "a4f2284d",
   "metadata": {
    "execution": {
     "iopub.execute_input": "2023-01-07T14:31:33.794372Z",
     "iopub.status.busy": "2023-01-07T14:31:33.794099Z",
     "iopub.status.idle": "2023-01-07T14:31:33.918042Z",
     "shell.execute_reply": "2023-01-07T14:31:33.917087Z"
    }
   },
   "outputs": [
    {
     "data": {
      "image/png": "[encoded data removed]",
      "text/plain": [
       "<Figure size 640x480 with 1 Axes>"
      ]
     },
     "metadata": {},
     "output_type": "display_data"
    }
   ],
   "source": [
    "ax = hadpas.hist(column='res3', alpha=0.5)\n",
    "hadpas.hist(column='res7', alpha=0.5, ax=ax)\n",
    "plt.show()"
   ]
  },
  {
   "cell_type": "code",
   "execution_count": 30,
   "id": "5f71626d",
   "metadata": {
    "execution": {
     "iopub.execute_input": "2023-01-07T14:31:33.920970Z",
     "iopub.status.busy": "2023-01-07T14:31:33.920692Z",
     "iopub.status.idle": "2023-01-07T14:31:33.938219Z",
     "shell.execute_reply": "2023-01-07T14:31:33.937217Z"
    }
   },
   "outputs": [
    {
     "name": "stdout",
     "output_type": "stream",
     "text": [
      "res3\n",
      "       1     15   8\n",
      "       6     16   01124\n",
      "      14     16   56788889\n",
      "      22     17   00000234\n",
      "      32     17   5566667899\n",
      "      45     18   0011112233444\n",
      "      60     18   556666677888899\n",
      "      87     19   000000111111223333344444444\n",
      "    (18)     19   566666666667888889\n",
      "      87     20   00000000122222333334444\n",
      "      64     20   55556666666677789999\n",
      "      44     21   0000011222233344444\n",
      "      25     21   566667788888\n",
      "      13     22   000111234\n",
      "       4     22   668\n",
      "       0     23 \n",
      "       1     24   2\n",
      "res7\n",
      "       1     14   2\n",
      "       9     15   11222244\n",
      "      15     15   667789\n",
      "      23     16   00012334\n",
      "      30     16   5566799\n",
      "      40     17   0022233334\n",
      "      54     17   66666666777999\n",
      "      79     18   0000222222222233344444444\n",
      "    (28)     18   5555556666666778888888999999\n",
      "      85     19   000000001111112222222233333444444\n",
      "      52     19   566666667777888888889999\n",
      "      28     20   0000111222333444\n",
      "      12     20   678\n",
      "       9     21   1123344\n",
      "       2     21   8\n",
      "       1     22   0\n"
     ]
    }
   ],
   "source": [
    "print('res3')\n",
    "mistat.stemLeafDiagram(hadpas['res3'], 2, leafUnit=10)\n",
    "print('res7')\n",
    "mistat.stemLeafDiagram(hadpas['res7'], 2, leafUnit=10)"
   ]
  },
  {
   "cell_type": "markdown",
   "id": "28649afb",
   "metadata": {},
   "source": [
    "# Exercise 24"
   ]
  },
  {
   "cell_type": "code",
   "execution_count": 31,
   "id": "163b7365",
   "metadata": {
    "execution": {
     "iopub.execute_input": "2023-01-07T14:31:33.941108Z",
     "iopub.status.busy": "2023-01-07T14:31:33.940787Z",
     "iopub.status.idle": "2023-01-07T14:31:34.019348Z",
     "shell.execute_reply": "2023-01-07T14:31:34.018500Z"
    }
   },
   "outputs": [
    {
     "data": {
      "image/png": "[encoded data removed]",
      "text/plain": [
       "<Figure size 640x480 with 1 Axes>"
      ]
     },
     "metadata": {},
     "output_type": "display_data"
    }
   ],
   "source": [
    "hadpas.boxplot(column='res3')\n",
    "plt.show()"
   ]
  }
 ],
 "metadata": {
  "language_info": {
   "codemirror_mode": {
    "name": "ipython",
    "version": 3
   },
   "file_extension": ".py",
   "mimetype": "text/x-python",
   "name": "python",
   "nbconvert_exporter": "python",
   "pygments_lexer": "ipython3",
   "version": "3.9.16"
  }
 },
 "nbformat": 4,
 "nbformat_minor": 5
}
