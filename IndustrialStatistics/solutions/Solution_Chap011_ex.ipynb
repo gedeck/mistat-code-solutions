{
 "cells": [
  {
   "cell_type": "markdown",
   "id": "f5407a83",
   "metadata": {},
   "source": [
    "# Exercise Chapter 11 \n",
    "Industrial Statistics: A Computer Based Approach with Python<br>\n",
    "by Ron Kenett, Shelemyahu Zacks, Peter Gedeck\n",
    "\n",
    "Publisher: Springer International Publishing; 1st edition (2023) <br>\n",
    "<!-- ISBN-13: 978-3031075650 -->\n",
    "\n",
    "(c) 2022 Ron Kenett, Shelemyahu Zacks, Peter Gedeck\n",
    "\n",
    "The code needs to be executed in sequence."
   ]
  },
  {
   "cell_type": "code",
   "execution_count": null,
   "id": "d61edb1e",
   "metadata": {},
   "outputs": [],
   "source": [
    "import os\n",
    "os.environ['OUTDATED_IGNORE'] = '1'\n",
    "import warnings\n",
    "from outdated import OutdatedPackageWarning\n",
    "warnings.filterwarnings('ignore', category=FutureWarning)\n",
    "warnings.filterwarnings('ignore', category=OutdatedPackageWarning)\n",
    "warnings.filterwarnings('ignore', category=RuntimeWarning)"
   ]
  },
  {
   "cell_type": "code",
   "execution_count": null,
   "id": "56d53e5c",
   "metadata": {},
   "outputs": [],
   "source": [
    "import numpy as np\n",
    "import pandas as pd\n",
    "from scipy import stats, optimize\n",
    "import statsmodels.formula.api as smf\n",
    "import lifelines\n",
    "import pingouin as pg\n",
    "import seaborn as sns\n",
    "import matplotlib.pyplot as plt\n",
    "import mistat"
   ]
  },
  {
   "cell_type": "markdown",
   "id": "37b30a24",
   "metadata": {},
   "source": [
    "# Exercise 19"
   ]
  },
  {
   "cell_type": "code",
   "execution_count": null,
   "id": "6d5f6f6e",
   "metadata": {},
   "outputs": [],
   "source": [
    "def modelGoelOkumoto(t, a, b):\n",
    "    return a * (1 - np.exp(-b * t))\n",
    "\n",
    "def modelMusaOkumoto(t, phi, lam):\n",
    "    return (1/phi) * np.log(lam*phi* t + 1)\n",
    "\n",
    "def modelYamada(t, a, b):\n",
    "    return a * (1 - (1+b*t)*np.exp(-b*t))\n",
    "\n",
    "def modelInflectedSshaped(t, a, b, c):\n",
    "    return a * (1 - np.exp(-b * t)) / (1 + c * np.exp(-b * t))"
   ]
  },
  {
   "cell_type": "code",
   "execution_count": null,
   "id": "7a1abaf2",
   "metadata": {},
   "outputs": [],
   "source": [
    "def optimizeModelFit(model, data, x, y):\n",
    "    fit = optimize.curve_fit(model, data[x], data[y], method='lm')\n",
    "    popt = fit[0]\n",
    "    # add the fit curve to the data\n",
    "    data[model.__name__] = [model(t, *popt) for t in data[x]]\n",
    "    return popt\n",
    "data = mistat.load_data('FAILURE_J2')\n",
    "optimizeModelFit(modelGoelOkumoto, data, 'T', 'CFC') \n",
    "optimizeModelFit(modelMusaOkumoto, data, 'T', 'CFC') \n",
    "optimizeModelFit(modelYamada, data, 'T', 'CFC') \n",
    "optimizeModelFit(modelInflectedSshaped, data, 'T', 'CFC') "
   ]
  },
  {
   "cell_type": "code",
   "execution_count": null,
   "id": "d33ee9d8",
   "metadata": {},
   "outputs": [],
   "source": [
    "def plotModel(data, model, label, ax):\n",
    "    ax.plot(data['T'], data['CFC'], color='grey')\n",
    "    ax.plot(data['T'], data[model], color='black')\n",
    "    ax.set_title(label)\n",
    "    ax.set_xlabel('Time')\n",
    "    ax.set_ylabel('Cumulative failure count')\n",
    "\n",
    "fig, axes = plt.subplots(nrows=2, ncols=2, figsize=[8, 8])\n",
    "plotModel(data, 'modelGoelOkumoto', 'Goel-Okumoto', axes[0,0])\n",
    "plotModel(data, 'modelMusaOkumoto', 'Musa-Okumoto', axes[0,1])\n",
    "plotModel(data, 'modelYamada', 'Yamada', axes[1,0])\n",
    "plotModel(data, 'modelInflectedSshaped', 'Inflected S-shaped Ohba', axes[1,1])\n",
    "plt.tight_layout()\n",
    "plt.show()"
   ]
  },
  {
   "cell_type": "markdown",
   "id": "35b2b0f4",
   "metadata": {},
   "source": [
    "# Exercise 20"
   ]
  },
  {
   "cell_type": "code",
   "execution_count": null,
   "id": "6f94bf02",
   "metadata": {},
   "outputs": [],
   "source": [
    "def optimizeModelFit(model, data, x, y, subset):\n",
    "    # create the subset\n",
    "    subsetX = data[x][:subset]\n",
    "    subsetY = data[y][:subset]\n",
    "    # fit curve to subset - a increase of maxfev is required\n",
    "    fit = optimize.curve_fit(model, subsetX, subsetY, \n",
    "                             method='lm', maxfev=2000)\n",
    "    popt = fit[0]\n",
    "    data[f'{model.__name__} {subset}'] = [model(t, *popt) for t in data[x]]\n",
    "    return popt\n",
    "for subset in [25, 50, 75, 100, 125, 150]:\n",
    "    optimizeModelFit(modelGoelOkumoto, data, 'T', 'CFC', subset) \n",
    "    optimizeModelFit(modelInflectedSshaped, data, 'T', 'CFC', subset)"
   ]
  },
  {
   "cell_type": "code",
   "execution_count": null,
   "id": "75b1813b",
   "metadata": {},
   "outputs": [],
   "source": [
    "def plotModel(data, subset, ax):\n",
    "    ax.plot(data['T'], data['CFC'], color='grey')\n",
    "    ax.plot(data['T'], data[f'modelGoelOkumoto {subset}'], color='black', linestyle=':')\n",
    "    ax.plot(data['T'], data[f'modelInflectedSshaped {subset}'], color='black')\n",
    "    ax.set_title(f'Subset {subset} weeks')\n",
    "    ax.set_xlabel('Time')\n",
    "    ax.set_ylabel('Cumulative failure count')\n",
    "    ax.set_ylim(0, 250)\n",
    "    ax.axvline(subset)\n",
    "\n",
    "fig, axes = plt.subplots(nrows=2, ncols=3, figsize=[12, 8])\n",
    "plotModel(data, 25, axes[0, 0])\n",
    "plotModel(data, 50, axes[0, 1])\n",
    "plotModel(data, 75, axes[0, 2])\n",
    "plotModel(data, 100, axes[1, 0])\n",
    "plotModel(data, 125, axes[1, 1])\n",
    "plotModel(data, 150, axes[1, 2])\n",
    "plt.tight_layout()\n",
    "plt.show()"
   ]
  },
  {
   "cell_type": "markdown",
   "id": "c7934431",
   "metadata": {},
   "source": [
    "# Exercise 21"
   ]
  },
  {
   "cell_type": "code",
   "execution_count": null,
   "id": "73b0fdef",
   "metadata": {},
   "outputs": [],
   "source": [
    "data = mistat.load_data('FAILURE_DS2')\n",
    "fit = optimize.curve_fit(modelInflectedSshaped, data['T'], data['CFC'])\n",
    "popt = fit[0]\n",
    "\n",
    "# add the fit curve to the data and visualize\n",
    "data['Model'] = [modelInflectedSshaped(t, *popt) for t in data['T']]\n",
    "\n",
    "ax = data.plot(x='T', y='CFC', color='grey')\n",
    "data.plot(x='T', y='Model', color='black', ax=ax)\n",
    "plt.show()"
   ]
  },
  {
   "cell_type": "code",
   "execution_count": null,
   "id": "54c13e2d",
   "metadata": {},
   "outputs": [],
   "source": [
    "initial = data['CFC'][0]\n",
    "def correctedModel(t, a, b, c):\n",
    "    return modelInflectedSshaped(t, a, b, c) + initial\n",
    "\n",
    "fit = optimize.curve_fit(correctedModel, data['T'], data['CFC'])\n",
    "popt = fit[0]\n",
    "# add the fit curve to the data and visualize\n",
    "data['Corrected Model'] = [correctedModel(t, *popt) for t in data['T']]\n",
    "\n",
    "ax = data.plot(x='T', y='CFC', color='grey')\n",
    "data.plot(x='T', y='Model', color='black', ax=ax, linestyle=':')\n",
    "data.plot(x='T', y='Corrected Model', color='black', ax=ax)\n",
    "plt.show()"
   ]
  }
 ],
 "metadata": {},
 "nbformat": 4,
 "nbformat_minor": 5
}
