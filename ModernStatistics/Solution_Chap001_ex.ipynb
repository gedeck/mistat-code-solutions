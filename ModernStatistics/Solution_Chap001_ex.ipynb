{
 "cells": [
  {
   "cell_type": "markdown",
   "id": "d67ce789",
   "metadata": {},
   "source": [
    "# Exercise Chapter 1 \n",
    "Modern Statistics: A Computer Based Approach with Python<br>\n",
    "by Ron Kenett, Shelemyahu Zacks, Peter Gedeck\n",
    "\n",
    "Publisher: Springer International Publishing; 1st edition (September 15, 2022) <br>\n",
    "ISBN-13: 978-3031075650\n",
    "\n",
    "(c) 2022 Ron Kenett, Shelemyahu Zacks, Peter Gedeck\n",
    "\n",
    "The code needs to be executed in sequence."
   ]
  },
  {
   "cell_type": "code",
   "execution_count": 1,
   "id": "fa519108",
   "metadata": {
    "execution": {
     "iopub.execute_input": "2022-07-11T13:43:55.071314Z",
     "iopub.status.busy": "2022-07-11T13:43:55.070341Z",
     "iopub.status.idle": "2022-07-11T13:43:55.120413Z",
     "shell.execute_reply": "2022-07-11T13:43:55.119425Z"
    }
   },
   "outputs": [],
   "source": [
    "import warnings\n",
    "from outdated import OutdatedPackageWarning\n",
    "warnings.filterwarnings('ignore', category=FutureWarning)\n",
    "warnings.filterwarnings('ignore', category=OutdatedPackageWarning)"
   ]
  },
  {
   "cell_type": "code",
   "execution_count": 2,
   "id": "615e0043",
   "metadata": {
    "execution": {
     "iopub.execute_input": "2022-07-11T13:43:55.124226Z",
     "iopub.status.busy": "2022-07-11T13:43:55.123339Z",
     "iopub.status.idle": "2022-07-11T13:43:56.117120Z",
     "shell.execute_reply": "2022-07-11T13:43:56.116254Z"
    }
   },
   "outputs": [],
   "source": [
    "import math\n",
    "import numpy as np\n",
    "import pandas as pd\n",
    "import matplotlib.pyplot as plt\n",
    "import mistat\n",
    "from scipy import stats\n",
    "\n",
    "def trim_std(data, alpha):\n",
    "  \"\"\" Calculate trimmed standard deviation \"\"\"\n",
    "  data = np.array(data)\n",
    "  data.sort()\n",
    "  n = len(data)\n",
    "  low = int(n * alpha) + 1\n",
    "  high = int(n * (1 - alpha))\n",
    "  return data[low:(high + 1)].std()"
   ]
  },
  {
   "cell_type": "markdown",
   "id": "1b77fa2f",
   "metadata": {},
   "source": [
    "# Exercise 1"
   ]
  },
  {
   "cell_type": "code",
   "execution_count": 3,
   "id": "3b548177",
   "metadata": {
    "execution": {
     "iopub.execute_input": "2022-07-11T13:43:56.120885Z",
     "iopub.status.busy": "2022-07-11T13:43:56.120525Z",
     "iopub.status.idle": "2022-07-11T13:43:56.125528Z",
     "shell.execute_reply": "2022-07-11T13:43:56.124671Z"
    }
   },
   "outputs": [],
   "source": [
    "import random\n",
    "random.seed(1)\n",
    "values = random.choices([1, 2, 3, 4, 5, 6], k=50)"
   ]
  },
  {
   "cell_type": "code",
   "execution_count": 4,
   "id": "c0b4d41e",
   "metadata": {
    "execution": {
     "iopub.execute_input": "2022-07-11T13:43:56.128793Z",
     "iopub.status.busy": "2022-07-11T13:43:56.128494Z",
     "iopub.status.idle": "2022-07-11T13:43:56.140012Z",
     "shell.execute_reply": "2022-07-11T13:43:56.138678Z"
    }
   },
   "outputs": [
    {
     "data": {
      "text/plain": [
       "Counter({1: 9, 6: 9, 5: 8, 2: 10, 3: 10, 4: 4})"
      ]
     },
     "execution_count": 4,
     "metadata": {},
     "output_type": "execute_result"
    }
   ],
   "source": [
    "from collections import Counter\n",
    "Counter(values)"
   ]
  },
  {
   "cell_type": "markdown",
   "id": "c8255283",
   "metadata": {},
   "source": [
    "# Exercise 2"
   ]
  },
  {
   "cell_type": "code",
   "execution_count": 5,
   "id": "71c506a1",
   "metadata": {
    "execution": {
     "iopub.execute_input": "2022-07-11T13:43:56.144662Z",
     "iopub.status.busy": "2022-07-11T13:43:56.143780Z",
     "iopub.status.idle": "2022-07-11T13:43:56.148816Z",
     "shell.execute_reply": "2022-07-11T13:43:56.147962Z"
    }
   },
   "outputs": [],
   "source": [
    "random.seed(1)\n",
    "x = list(range(50))\n",
    "y = [5 + 2.5 * xi for xi in x]\n",
    "y = [yi + random.uniform(-10, 10) for yi in y]"
   ]
  },
  {
   "cell_type": "code",
   "execution_count": 6,
   "id": "38018452",
   "metadata": {
    "execution": {
     "iopub.execute_input": "2022-07-11T13:43:56.152115Z",
     "iopub.status.busy": "2022-07-11T13:43:56.151757Z",
     "iopub.status.idle": "2022-07-11T13:43:56.351872Z",
     "shell.execute_reply": "2022-07-11T13:43:56.350830Z"
    }
   },
   "outputs": [
    {
     "data": {
      "image/png": "[encoded data removed]",
      "text/plain": [
       "<Figure size 432x288 with 1 Axes>"
      ]
     },
     "metadata": {
      "needs_background": "light"
     },
     "output_type": "display_data"
    }
   ],
   "source": [
    "x = list(range(50))\n",
    "y = [5 + 2.5 * xi for xi in x]\n",
    "y = [yi + random.uniform(-10, 10) for yi in y]\n",
    "pd.DataFrame({'x': x, 'y': y}).plot.scatter(x='x', y='y')\n",
    "plt.show()"
   ]
  },
  {
   "cell_type": "markdown",
   "id": "8b671222",
   "metadata": {},
   "source": [
    "# Exercise 3"
   ]
  },
  {
   "cell_type": "code",
   "execution_count": 7,
   "id": "fad5b9e0",
   "metadata": {
    "execution": {
     "iopub.execute_input": "2022-07-11T13:43:56.355195Z",
     "iopub.status.busy": "2022-07-11T13:43:56.354869Z",
     "iopub.status.idle": "2022-07-11T13:43:56.362150Z",
     "shell.execute_reply": "2022-07-11T13:43:56.361096Z"
    }
   },
   "outputs": [
    {
     "name": "stdout",
     "output_type": "stream",
     "text": [
      "0.1 4\n",
      "0.3 12\n",
      "0.7 33\n",
      "0.9 43\n"
     ]
    }
   ],
   "source": [
    "from scipy.stats import binom\n",
    "np.random.seed(1)\n",
    "\n",
    "for p in (0.1, 0.3, 0.7, 0.9):\n",
    "  X = binom.rvs(1, p, size=50)\n",
    "  print(p, sum(X))"
   ]
  },
  {
   "cell_type": "markdown",
   "id": "f9a958ab",
   "metadata": {},
   "source": [
    "# Exercise 4"
   ]
  },
  {
   "cell_type": "code",
   "execution_count": 8,
   "id": "821f9cb6",
   "metadata": {
    "execution": {
     "iopub.execute_input": "2022-07-11T13:43:56.366433Z",
     "iopub.status.busy": "2022-07-11T13:43:56.365546Z",
     "iopub.status.idle": "2022-07-11T13:43:56.475562Z",
     "shell.execute_reply": "2022-07-11T13:43:56.474757Z"
    }
   },
   "outputs": [
    {
     "data": {
      "image/png": "[encoded data removed]",
      "text/plain": [
       "<Figure size 432x288 with 1 Axes>"
      ]
     },
     "metadata": {
      "needs_background": "light"
     },
     "output_type": "display_data"
    },
    {
     "name": "stdout",
     "output_type": "stream",
     "text": [
      "mean inst1 10.03366815\n",
      "stdev inst1 0.8708144577963102\n",
      "mean inst2 10.98302505\n",
      "stdev inst2 0.5685555119253366\n"
     ]
    }
   ],
   "source": [
    "inst1 = [9.490950, 10.436813, 9.681357, 10.996083, 10.226101, 10.253741,\n",
    "         10.458926, 9.247097, 8.287045, 10.145414, 11.373981, 10.144389,\n",
    "         11.265351, 7.956107, 10.166610, 10.800805, 9.372905, 10.199018,\n",
    "         9.742579, 10.428091]\n",
    "inst2 = [11.771486, 10.697693, 10.687212, 11.097567, 11.676099,\n",
    "         10.583907, 10.505690, 9.958557, 10.938350, 11.718334,\n",
    "         11.308556, 10.957640, 11.250546, 10.195894, 11.804038,\n",
    "         11.825099, 10.677206, 10.249831, 10.729174, 11.027622]\n",
    "ax = pd.Series(inst1).plot(marker='o', linestyle='none',\n",
    "                           fillstyle='none', color='black')\n",
    "pd.Series(inst2).plot(marker='+', linestyle='none', ax=ax,\n",
    "                      fillstyle='none', color='black')\n",
    "plt.show()\n",
    "\n",
    "print('mean inst1', np.mean(inst1))\n",
    "print('stdev inst1', np.std(inst1, ddof=1))\n",
    "print('mean inst2', np.mean(inst2))\n",
    "print('stdev inst2', np.std(inst2, ddof=1))"
   ]
  },
  {
   "cell_type": "markdown",
   "id": "6f962310",
   "metadata": {},
   "source": [
    "# Exercise 6"
   ]
  },
  {
   "cell_type": "code",
   "execution_count": 9,
   "id": "2dceb731",
   "metadata": {
    "execution": {
     "iopub.execute_input": "2022-07-11T13:43:56.478343Z",
     "iopub.status.busy": "2022-07-11T13:43:56.478127Z",
     "iopub.status.idle": "2022-07-11T13:43:56.483934Z",
     "shell.execute_reply": "2022-07-11T13:43:56.483086Z"
    }
   },
   "outputs": [
    {
     "data": {
      "text/plain": [
       "[6, 88, 57, 20, 51, 49, 36, 35, 54, 63, 62, 46, 3, 23, 18, 59, 87, 80, 80, 82]"
      ]
     },
     "execution_count": 9,
     "metadata": {},
     "output_type": "execute_result"
    }
   ],
   "source": [
    "import random\n",
    "random.choices(range(1, 101), k=20)"
   ]
  },
  {
   "cell_type": "markdown",
   "id": "6d86f3af",
   "metadata": {},
   "source": [
    "# Exercise 7"
   ]
  },
  {
   "cell_type": "code",
   "execution_count": 10,
   "id": "49101822",
   "metadata": {
    "execution": {
     "iopub.execute_input": "2022-07-11T13:43:56.506828Z",
     "iopub.status.busy": "2022-07-11T13:43:56.506343Z",
     "iopub.status.idle": "2022-07-11T13:43:56.512003Z",
     "shell.execute_reply": "2022-07-11T13:43:56.511088Z"
    }
   },
   "outputs": [
    {
     "data": {
      "text/plain": [
       "[19, 12, 13, 28, 11, 18, 26, 23, 15, 14]"
      ]
     },
     "execution_count": 10,
     "metadata": {},
     "output_type": "execute_result"
    }
   ],
   "source": [
    "import random\n",
    "random.sample(range(11, 31), 10)"
   ]
  },
  {
   "cell_type": "markdown",
   "id": "c19b7188",
   "metadata": {},
   "source": [
    "# Exercise 10"
   ]
  },
  {
   "cell_type": "code",
   "execution_count": 11,
   "id": "b61e621b",
   "metadata": {
    "execution": {
     "iopub.execute_input": "2022-07-11T13:43:56.515366Z",
     "iopub.status.busy": "2022-07-11T13:43:56.514634Z",
     "iopub.status.idle": "2022-07-11T13:43:56.625586Z",
     "shell.execute_reply": "2022-07-11T13:43:56.624558Z"
    }
   },
   "outputs": [
    {
     "data": {
      "image/png": "[encoded data removed]",
      "text/plain": [
       "<Figure size 432x288 with 1 Axes>"
      ]
     },
     "metadata": {
      "needs_background": "light"
     },
     "output_type": "display_data"
    }
   ],
   "source": [
    "filmsp = mistat.load_data('FILMSP')\n",
    "filmsp.plot.hist()\n",
    "plt.show()"
   ]
  },
  {
   "cell_type": "markdown",
   "id": "e6f61a5a",
   "metadata": {},
   "source": [
    "# Exercise 11"
   ]
  },
  {
   "cell_type": "code",
   "execution_count": 12,
   "id": "dae09f7b",
   "metadata": {
    "execution": {
     "iopub.execute_input": "2022-07-11T13:43:56.628424Z",
     "iopub.status.busy": "2022-07-11T13:43:56.628110Z",
     "iopub.status.idle": "2022-07-11T13:43:56.641248Z",
     "shell.execute_reply": "2022-07-11T13:43:56.640485Z"
    }
   },
   "outputs": [
    {
     "data": {
      "text/html": [
       "<div>\n",
       "<style scoped>\n",
       "    .dataframe tbody tr th:only-of-type {\n",
       "        vertical-align: middle;\n",
       "    }\n",
       "\n",
       "    .dataframe tbody tr th {\n",
       "        vertical-align: top;\n",
       "    }\n",
       "\n",
       "    .dataframe thead th {\n",
       "        text-align: right;\n",
       "    }\n",
       "</style>\n",
       "<table border=\"1\" class=\"dataframe\">\n",
       "  <thead>\n",
       "    <tr style=\"text-align: right;\">\n",
       "      <th></th>\n",
       "      <th>COAL</th>\n",
       "    </tr>\n",
       "  </thead>\n",
       "  <tbody>\n",
       "    <tr>\n",
       "      <th>3</th>\n",
       "      <td>17</td>\n",
       "    </tr>\n",
       "    <tr>\n",
       "      <th>6</th>\n",
       "      <td>3</td>\n",
       "    </tr>\n",
       "    <tr>\n",
       "      <th>4</th>\n",
       "      <td>6</td>\n",
       "    </tr>\n",
       "    <tr>\n",
       "      <th>0</th>\n",
       "      <td>33</td>\n",
       "    </tr>\n",
       "    <tr>\n",
       "      <th>5</th>\n",
       "      <td>5</td>\n",
       "    </tr>\n",
       "    <tr>\n",
       "      <th>2</th>\n",
       "      <td>18</td>\n",
       "    </tr>\n",
       "    <tr>\n",
       "      <th>7</th>\n",
       "      <td>1</td>\n",
       "    </tr>\n",
       "    <tr>\n",
       "      <th>1</th>\n",
       "      <td>28</td>\n",
       "    </tr>\n",
       "  </tbody>\n",
       "</table>\n",
       "</div>"
      ],
      "text/plain": [
       "   COAL\n",
       "3    17\n",
       "6     3\n",
       "4     6\n",
       "0    33\n",
       "5     5\n",
       "2    18\n",
       "7     1\n",
       "1    28"
      ]
     },
     "execution_count": 12,
     "metadata": {},
     "output_type": "execute_result"
    }
   ],
   "source": [
    "coal = mistat.load_data('COAL')\n",
    "pd.DataFrame(coal.value_counts(sort=False))"
   ]
  },
  {
   "cell_type": "markdown",
   "id": "fea2080f",
   "metadata": {},
   "source": [
    "# Exercise 12"
   ]
  },
  {
   "cell_type": "code",
   "execution_count": 13,
   "id": "00887844",
   "metadata": {
    "execution": {
     "iopub.execute_input": "2022-07-11T13:43:56.644253Z",
     "iopub.status.busy": "2022-07-11T13:43:56.643853Z",
     "iopub.status.idle": "2022-07-11T13:43:56.652167Z",
     "shell.execute_reply": "2022-07-11T13:43:56.651421Z"
    }
   },
   "outputs": [
    {
     "data": {
      "text/plain": [
       "4    66\n",
       "6    30\n",
       "8    13\n",
       "Name: cyl, dtype: int64"
      ]
     },
     "execution_count": 13,
     "metadata": {},
     "output_type": "execute_result"
    }
   ],
   "source": [
    "car = mistat.load_data('CAR')\n",
    "car['cyl'].value_counts(sort=False)"
   ]
  },
  {
   "cell_type": "code",
   "execution_count": 14,
   "id": "4cc516d2",
   "metadata": {
    "execution": {
     "iopub.execute_input": "2022-07-11T13:43:56.654726Z",
     "iopub.status.busy": "2022-07-11T13:43:56.654315Z",
     "iopub.status.idle": "2022-07-11T13:43:56.664174Z",
     "shell.execute_reply": "2022-07-11T13:43:56.663332Z"
    }
   },
   "outputs": [
    {
     "data": {
      "text/plain": [
       "(28, 30]     3\n",
       "(30, 32]    16\n",
       "(32, 34]    16\n",
       "(34, 36]    26\n",
       "(36, 38]    20\n",
       "(38, 40]    18\n",
       "(40, 42]     8\n",
       "(42, 44]     2\n",
       "Name: turn, dtype: int64"
      ]
     },
     "execution_count": 14,
     "metadata": {},
     "output_type": "execute_result"
    }
   ],
   "source": [
    "pd.cut(car['turn'], bins=range(28, 46, 2)).value_counts(sort=False)"
   ]
  },
  {
   "cell_type": "code",
   "execution_count": 15,
   "id": "23298593",
   "metadata": {
    "execution": {
     "iopub.execute_input": "2022-07-11T13:43:56.667034Z",
     "iopub.status.busy": "2022-07-11T13:43:56.666301Z",
     "iopub.status.idle": "2022-07-11T13:43:56.675594Z",
     "shell.execute_reply": "2022-07-11T13:43:56.674784Z"
    }
   },
   "outputs": [
    {
     "data": {
      "text/plain": [
       "(50, 75]       7\n",
       "(75, 100]     34\n",
       "(100, 125]    22\n",
       "(125, 150]    18\n",
       "(150, 175]    17\n",
       "(175, 200]     6\n",
       "(200, 225]     4\n",
       "(225, 250]     1\n",
       "Name: hp, dtype: int64"
      ]
     },
     "execution_count": 15,
     "metadata": {},
     "output_type": "execute_result"
    }
   ],
   "source": [
    "pd.cut(car['hp'], bins=range(50, 275, 25)).value_counts(sort=False)"
   ]
  },
  {
   "cell_type": "code",
   "execution_count": 16,
   "id": "8251eb43",
   "metadata": {
    "execution": {
     "iopub.execute_input": "2022-07-11T13:43:56.678542Z",
     "iopub.status.busy": "2022-07-11T13:43:56.677870Z",
     "iopub.status.idle": "2022-07-11T13:43:56.687206Z",
     "shell.execute_reply": "2022-07-11T13:43:56.686422Z"
    }
   },
   "outputs": [
    {
     "data": {
      "text/plain": [
       "(9, 14]      1\n",
       "(14, 19]    42\n",
       "(19, 24]    41\n",
       "(24, 29]    22\n",
       "(29, 34]     3\n",
       "Name: mpg, dtype: int64"
      ]
     },
     "execution_count": 16,
     "metadata": {},
     "output_type": "execute_result"
    }
   ],
   "source": [
    "pd.cut(car['mpg'], bins=range(9, 38, 5)).value_counts(sort=False)"
   ]
  },
  {
   "cell_type": "markdown",
   "id": "606b5d58",
   "metadata": {},
   "source": [
    "# Exercise 13"
   ]
  },
  {
   "cell_type": "code",
   "execution_count": 17,
   "id": "83202b69",
   "metadata": {
    "execution": {
     "iopub.execute_input": "2022-07-11T13:43:56.689689Z",
     "iopub.status.busy": "2022-07-11T13:43:56.689417Z",
     "iopub.status.idle": "2022-07-11T13:43:56.699599Z",
     "shell.execute_reply": "2022-07-11T13:43:56.698736Z"
    }
   },
   "outputs": [
    {
     "name": "stdout",
     "output_type": "stream",
     "text": [
      "0.00     66.0\n",
      "0.25    102.0\n",
      "0.50    105.0\n",
      "0.75    109.0\n",
      "1.00    118.0\n",
      "Name: FILMSP, dtype: float64\n",
      "0.80    109.8\n",
      "0.90    111.0\n",
      "0.99    114.0\n",
      "Name: FILMSP, dtype: float64\n"
     ]
    }
   ],
   "source": [
    "filmsp = mistat.load_data('FILMSP')\n",
    "filmsp = filmsp.sort_values(ignore_index=True)  # sort and reset index\n",
    "\n",
    "print(filmsp.quantile(q=[0, 0.25, 0.5, 0.75, 1.0]))\n",
    "print(filmsp.quantile(q=[0.8, 0.9, 0.99]))"
   ]
  },
  {
   "cell_type": "code",
   "execution_count": 18,
   "id": "6c776ddf",
   "metadata": {
    "execution": {
     "iopub.execute_input": "2022-07-11T13:43:56.702862Z",
     "iopub.status.busy": "2022-07-11T13:43:56.702176Z",
     "iopub.status.idle": "2022-07-11T13:43:56.707473Z",
     "shell.execute_reply": "2022-07-11T13:43:56.706650Z"
    }
   },
   "outputs": [
    {
     "name": "stdout",
     "output_type": "stream",
     "text": [
      "0 66.0\n",
      "0.25 102.0\n",
      "0.5 105.0\n",
      "0.75 109.0\n",
      "0.8 109.5\n",
      "0.9 111.0\n",
      "0.99 114.0\n",
      "1.0 118.0\n"
     ]
    }
   ],
   "source": [
    "def calculate_quantile(x, q):\n",
    "  idx = (len(x) - 1) * q\n",
    "  left = math.floor(idx)\n",
    "  right = math.ceil(idx)\n",
    "  return 0.5 * (x[left] + x[right])\n",
    "\n",
    "for q in (0, 0.25, 0.5, 0.75, 0.8, 0.9, 0.99, 1.0):\n",
    "  print(q, calculate_quantile(filmsp, q))"
   ]
  },
  {
   "cell_type": "markdown",
   "id": "084d9645",
   "metadata": {},
   "source": [
    "# Exercise 14"
   ]
  },
  {
   "cell_type": "code",
   "execution_count": 19,
   "id": "56b23b31",
   "metadata": {
    "execution": {
     "iopub.execute_input": "2022-07-11T13:43:56.711347Z",
     "iopub.status.busy": "2022-07-11T13:43:56.710746Z",
     "iopub.status.idle": "2022-07-11T13:43:56.719380Z",
     "shell.execute_reply": "2022-07-11T13:43:56.718491Z"
    }
   },
   "outputs": [
    {
     "name": "stdout",
     "output_type": "stream",
     "text": [
      "Python:\n",
      " Skewness: -1.8098727695275856, Kurtosis: 9.014427238360716\n",
      "Pandas:\n",
      " Skewness: -1.8224949285588137, Kurtosis: 6.183511188870432\n"
     ]
    }
   ],
   "source": [
    "filmsp = mistat.load_data('FILMSP')\n",
    "n = len(filmsp)\n",
    "mean = filmsp.mean()\n",
    "deviations = [film - mean for film in filmsp]\n",
    "S = math.sqrt(sum(deviation**2 for deviation in deviations) / n)\n",
    "\n",
    "skewness = sum(deviation**3 for deviation in deviations) / n / (S**3)\n",
    "kurtosis = sum(deviation**4 for deviation in deviations) / n / (S**4)\n",
    "print('Python:\\n',\n",
    "      f'Skewness: {skewness}, Kurtosis: {kurtosis}')\n",
    "\n",
    "print('Pandas:\\n',\n",
    "      f'Skewness: {filmsp.skew()}, Kurtosis: {filmsp.kurtosis()}')"
   ]
  },
  {
   "cell_type": "markdown",
   "id": "fce74d92",
   "metadata": {},
   "source": [
    "# Exercise 15"
   ]
  },
  {
   "cell_type": "code",
   "execution_count": 20,
   "id": "440dacae",
   "metadata": {
    "execution": {
     "iopub.execute_input": "2022-07-11T13:43:56.722441Z",
     "iopub.status.busy": "2022-07-11T13:43:56.722170Z",
     "iopub.status.idle": "2022-07-11T13:43:56.733721Z",
     "shell.execute_reply": "2022-07-11T13:43:56.732786Z"
    }
   },
   "outputs": [
    {
     "name": "stdout",
     "output_type": "stream",
     "text": [
      "             mean       std\n",
      "origin                     \n",
      "1       20.931034  3.597573\n",
      "2       19.500000  2.623855\n",
      "3       23.108108  4.280341\n"
     ]
    }
   ],
   "source": [
    "car = mistat.load_data('CAR')\n",
    "car['mpg'].groupby(by=car['origin']).mean()\n",
    "car['mpg'].groupby(by=car['origin']).std()\n",
    "# calculate both at the same time\n",
    "print(car['mpg'].groupby(by=car['origin']).agg(['mean', 'std']))"
   ]
  },
  {
   "cell_type": "markdown",
   "id": "504ff77a",
   "metadata": {},
   "source": [
    "# Exercise 16"
   ]
  },
  {
   "cell_type": "code",
   "execution_count": 21,
   "id": "c1143c26",
   "metadata": {
    "execution": {
     "iopub.execute_input": "2022-07-11T13:43:56.737078Z",
     "iopub.status.busy": "2022-07-11T13:43:56.736420Z",
     "iopub.status.idle": "2022-07-11T13:43:56.745081Z",
     "shell.execute_reply": "2022-07-11T13:43:56.743988Z"
    }
   },
   "outputs": [],
   "source": [
    "car = mistat.load_data('CAR')\n",
    "car_US = car[car['origin'] == 1]\n",
    "gamma = car_US['turn'].std() / car_US['turn'].mean()"
   ]
  },
  {
   "cell_type": "markdown",
   "id": "bcec238e",
   "metadata": {},
   "source": [
    "# Exercise 17"
   ]
  },
  {
   "cell_type": "code",
   "execution_count": 22,
   "id": "24afd82a",
   "metadata": {
    "execution": {
     "iopub.execute_input": "2022-07-11T13:43:56.749109Z",
     "iopub.status.busy": "2022-07-11T13:43:56.748810Z",
     "iopub.status.idle": "2022-07-11T13:43:56.759649Z",
     "shell.execute_reply": "2022-07-11T13:43:56.758692Z"
    }
   },
   "outputs": [
    {
     "name": "stdout",
     "output_type": "stream",
     "text": [
      "US\n",
      "mean 37.203448275862065\n",
      "geometric mean 37.06877691910792\n",
      "Japanese\n",
      "mean 33.04594594594595\n",
      "geometric mean 32.97599107553825\n"
     ]
    }
   ],
   "source": [
    "car = mistat.load_data('CAR')\n",
    "\n",
    "car_US = car[car['origin'] == 1]\n",
    "car_Asia = car[car['origin'] == 3]\n",
    "print('US')\n",
    "print('mean', car_US['turn'].mean())\n",
    "print('geometric mean', stats.gmean(car_US['turn']))\n",
    "print('Japanese')\n",
    "print('mean', car_Asia['turn'].mean())\n",
    "print('geometric mean', stats.gmean(car_Asia['turn']))"
   ]
  },
  {
   "cell_type": "markdown",
   "id": "9e4ed5da",
   "metadata": {},
   "source": [
    "# Exercise 18"
   ]
  },
  {
   "cell_type": "code",
   "execution_count": 23,
   "id": "c2657593",
   "metadata": {
    "execution": {
     "iopub.execute_input": "2022-07-11T13:43:56.763709Z",
     "iopub.status.busy": "2022-07-11T13:43:56.762834Z",
     "iopub.status.idle": "2022-07-11T13:43:56.773384Z",
     "shell.execute_reply": "2022-07-11T13:43:56.772312Z"
    }
   },
   "outputs": [
    {
     "name": "stdout",
     "output_type": "stream",
     "text": [
      "mean: 104.59447004608295, stddev: 6.547657682704987\n",
      "X +/- 1S:  actual freq. 173,  pred. freq. 147.56\n",
      "X +/- 2S:  actual freq. 205,  pred. freq. 206.15\n",
      "X +/- 3S:  actual freq. 213,  pred. freq. 216.35\n"
     ]
    }
   ],
   "source": [
    "filmsp = mistat.load_data('FILMSP')\n",
    "\n",
    "Xbar = filmsp.mean()\n",
    "S = filmsp.std()\n",
    "print(f'mean: {Xbar}, stddev: {S}')\n",
    "expected = {1: 0.68, 2: 0.95, 3: 0.997}\n",
    "for k in (1, 2, 3):\n",
    "  left = Xbar - k * S\n",
    "  right = Xbar + k * S\n",
    "  proportion = sum(left < film < right for film in filmsp)\n",
    "  print(f'X +/- {k}S: ',\n",
    "        f'actual freq. {proportion}, ',\n",
    "        f'pred. freq. {expected[k] * len(filmsp):.2f}')"
   ]
  },
  {
   "cell_type": "markdown",
   "id": "b8ba1f4f",
   "metadata": {},
   "source": [
    "# Exercise 19"
   ]
  },
  {
   "cell_type": "code",
   "execution_count": 24,
   "id": "c5539338",
   "metadata": {
    "execution": {
     "iopub.execute_input": "2022-07-11T13:43:56.777689Z",
     "iopub.status.busy": "2022-07-11T13:43:56.776495Z",
     "iopub.status.idle": "2022-07-11T13:43:56.891485Z",
     "shell.execute_reply": "2022-07-11T13:43:56.890684Z"
    }
   },
   "outputs": [
    {
     "data": {
      "image/png": "[encoded data removed]",
      "text/plain": [
       "<Figure size 432x288 with 1 Axes>"
      ]
     },
     "metadata": {
      "needs_background": "light"
     },
     "output_type": "display_data"
    }
   ],
   "source": [
    "car = mistat.load_data('CAR')\n",
    "car.boxplot(column='mpg', by='origin')\n",
    "plt.show()"
   ]
  },
  {
   "cell_type": "markdown",
   "id": "7c19e8e9",
   "metadata": {},
   "source": [
    "# Exercise 20"
   ]
  },
  {
   "cell_type": "code",
   "execution_count": 25,
   "id": "64b6d1f0",
   "metadata": {
    "execution": {
     "iopub.execute_input": "2022-07-11T13:43:56.894384Z",
     "iopub.status.busy": "2022-07-11T13:43:56.894166Z",
     "iopub.status.idle": "2022-07-11T13:43:56.903740Z",
     "shell.execute_reply": "2022-07-11T13:43:56.902859Z"
    }
   },
   "outputs": [
    {
     "name": "stdout",
     "output_type": "stream",
     "text": [
      "       4      2   3444\n",
      "      18      2   55555666677789\n",
      "      40      3   0000001111112222333345\n",
      "    (15)      3   566677788899999\n",
      "      45      4   00022334444\n",
      "      34      4   566888999\n",
      "      25      5   0112333\n",
      "      18      5   6789\n",
      "      14      6   01122233444\n",
      "       3      6   788\n"
     ]
    }
   ],
   "source": [
    "oturb = mistat.load_data('OTURB')\n",
    "mistat.stemLeafDiagram(oturb, 2, leafUnit=0.01)"
   ]
  },
  {
   "cell_type": "markdown",
   "id": "e4195c79",
   "metadata": {},
   "source": [
    "# Exercise 21"
   ]
  },
  {
   "cell_type": "code",
   "execution_count": 26,
   "id": "c04a16ac",
   "metadata": {
    "execution": {
     "iopub.execute_input": "2022-07-11T13:43:56.906539Z",
     "iopub.status.busy": "2022-07-11T13:43:56.906264Z",
     "iopub.status.idle": "2022-07-11T13:43:56.913307Z",
     "shell.execute_reply": "2022-07-11T13:43:56.912555Z"
    }
   },
   "outputs": [
    {
     "name": "stdout",
     "output_type": "stream",
     "text": [
      "T(0.1) = 0.40558750000000005\n",
      "S(0.1) = 0.09982289003530202\n"
     ]
    }
   ],
   "source": [
    "from scipy.stats import trim_mean\n",
    "\n",
    "oturb = mistat.load_data('OTURB')\n",
    "print(f'T(0.1) = {trim_mean(oturb, 0.1)}')\n",
    "print(f'S(0.1) = {trim_std(oturb, 0.1)}')"
   ]
  },
  {
   "cell_type": "markdown",
   "id": "1d505259",
   "metadata": {},
   "source": [
    "# Exercise 22"
   ]
  },
  {
   "cell_type": "code",
   "execution_count": 27,
   "id": "936701dc",
   "metadata": {
    "execution": {
     "iopub.execute_input": "2022-07-11T13:43:56.916197Z",
     "iopub.status.busy": "2022-07-11T13:43:56.915683Z",
     "iopub.status.idle": "2022-07-11T13:43:56.925282Z",
     "shell.execute_reply": "2022-07-11T13:43:56.924534Z"
    }
   },
   "outputs": [
    {
     "name": "stdout",
     "output_type": "stream",
     "text": [
      "          German   Japanese\n",
      "count  15.000000  20.000000\n",
      "mean    7.373333   8.455000\n",
      "std     1.780235   1.589596\n",
      "min     4.800000   5.700000\n",
      "25%     6.200000   7.175000\n",
      "50%     7.100000   8.400000\n",
      "75%     8.600000   9.425000\n",
      "max    10.900000  12.500000\n"
     ]
    }
   ],
   "source": [
    "germanCars = [10, 10.9, 4.8, 6.4, 7.9, 8.9, 8.5, 6.9, 7.1,\n",
    "              5.5, 6.4, 8.7, 5.1, 6.0, 7.5]\n",
    "japaneseCars = [9.4, 9.5, 7.1, 8.0, 8.9, 7.7, 10.5, 6.5, 6.7,\n",
    "                9.3, 5.7, 12.5, 7.2, 9.1, 8.3, 8.2, 8.5, 6.8, 9.5, 9.7]\n",
    "# convert to pandas Series\n",
    "germanCars = pd.Series(germanCars)\n",
    "japaneseCars = pd.Series(japaneseCars)\n",
    "# use describe to calculate statistics\n",
    "comparison = pd.DataFrame({\n",
    "  'German': germanCars.describe(),\n",
    "  'Japanese': japaneseCars.describe(),\n",
    "})\n",
    "print(comparison)"
   ]
  },
  {
   "cell_type": "markdown",
   "id": "742d68d9",
   "metadata": {},
   "source": [
    "# Exercise 23"
   ]
  },
  {
   "cell_type": "code",
   "execution_count": 28,
   "id": "9ae688b2",
   "metadata": {
    "execution": {
     "iopub.execute_input": "2022-07-11T13:43:56.927856Z",
     "iopub.status.busy": "2022-07-11T13:43:56.927641Z",
     "iopub.status.idle": "2022-07-11T13:43:56.938199Z",
     "shell.execute_reply": "2022-07-11T13:43:56.937423Z"
    }
   },
   "outputs": [
    {
     "name": "stdout",
     "output_type": "stream",
     "text": [
      "              res3         res7\n",
      "count   192.000000   192.000000\n",
      "mean   1965.239583  1857.776042\n",
      "std     163.528165   151.535930\n",
      "min    1587.000000  1420.000000\n",
      "25%    1860.000000  1772.250000\n",
      "50%    1967.000000  1880.000000\n",
      "75%    2088.750000  1960.000000\n",
      "max    2427.000000  2200.000000\n"
     ]
    }
   ],
   "source": [
    "hadpas = mistat.load_data('HADPAS')\n",
    "sampleStatistics = pd.DataFrame({\n",
    "  'res3': hadpas['res3'].describe(),\n",
    "  'res7': hadpas['res7'].describe(),\n",
    "})\n",
    "print(sampleStatistics)"
   ]
  },
  {
   "cell_type": "code",
   "execution_count": 29,
   "id": "8547ab9d",
   "metadata": {
    "execution": {
     "iopub.execute_input": "2022-07-11T13:43:56.940657Z",
     "iopub.status.busy": "2022-07-11T13:43:56.940364Z",
     "iopub.status.idle": "2022-07-11T13:43:57.045011Z",
     "shell.execute_reply": "2022-07-11T13:43:57.043712Z"
    }
   },
   "outputs": [
    {
     "data": {
      "image/png": "[encoded data removed]",
      "text/plain": [
       "<Figure size 432x288 with 1 Axes>"
      ]
     },
     "metadata": {
      "needs_background": "light"
     },
     "output_type": "display_data"
    }
   ],
   "source": [
    "ax = hadpas.hist(column='res3', alpha=0.5)\n",
    "hadpas.hist(column='res7', alpha=0.5, ax=ax)\n",
    "plt.show()"
   ]
  },
  {
   "cell_type": "code",
   "execution_count": 30,
   "id": "4edc57c5",
   "metadata": {
    "execution": {
     "iopub.execute_input": "2022-07-11T13:43:57.048597Z",
     "iopub.status.busy": "2022-07-11T13:43:57.048231Z",
     "iopub.status.idle": "2022-07-11T13:43:57.064053Z",
     "shell.execute_reply": "2022-07-11T13:43:57.062907Z"
    }
   },
   "outputs": [
    {
     "name": "stdout",
     "output_type": "stream",
     "text": [
      "res3\n",
      "       1     15   8\n",
      "       6     16   01124\n",
      "      14     16   56788889\n",
      "      22     17   00000234\n",
      "      32     17   5566667899\n",
      "      45     18   0011112233444\n",
      "      60     18   556666677888899\n",
      "      87     19   000000111111223333344444444\n",
      "    (18)     19   566666666667888889\n",
      "      87     20   00000000122222333334444\n",
      "      64     20   55556666666677789999\n",
      "      44     21   0000011222233344444\n",
      "      25     21   566667788888\n",
      "      13     22   000111234\n",
      "       4     22   668\n",
      "       0     23 \n",
      "       1     24   2\n",
      "res7\n",
      "       1     14   2\n",
      "       9     15   11222244\n",
      "      15     15   667789\n",
      "      23     16   00012334\n",
      "      30     16   5566799\n",
      "      40     17   0022233334\n",
      "      54     17   66666666777999\n",
      "      79     18   0000222222222233344444444\n",
      "    (28)     18   5555556666666778888888999999\n",
      "      85     19   000000001111112222222233333444444\n",
      "      52     19   566666667777888888889999\n",
      "      28     20   0000111222333444\n",
      "      12     20   678\n",
      "       9     21   1123344\n",
      "       2     21   8\n",
      "       1     22   0\n"
     ]
    }
   ],
   "source": [
    "print('res3')\n",
    "mistat.stemLeafDiagram(hadpas['res3'], 2, leafUnit=10)\n",
    "print('res7')\n",
    "mistat.stemLeafDiagram(hadpas['res7'], 2, leafUnit=10)"
   ]
  },
  {
   "cell_type": "markdown",
   "id": "2c121a48",
   "metadata": {},
   "source": [
    "# Exercise 24"
   ]
  },
  {
   "cell_type": "code",
   "execution_count": 31,
   "id": "1b4ebedc",
   "metadata": {
    "execution": {
     "iopub.execute_input": "2022-07-11T13:43:57.067087Z",
     "iopub.status.busy": "2022-07-11T13:43:57.066879Z",
     "iopub.status.idle": "2022-07-11T13:43:57.139626Z",
     "shell.execute_reply": "2022-07-11T13:43:57.138082Z"
    }
   },
   "outputs": [
    {
     "data": {
      "image/png": "[encoded data removed]",
      "text/plain": [
       "<Figure size 432x288 with 1 Axes>"
      ]
     },
     "metadata": {
      "needs_background": "light"
     },
     "output_type": "display_data"
    }
   ],
   "source": [
    "hadpas.boxplot(column='res3')\n",
    "plt.show()"
   ]
  }
 ],
 "metadata": {
  "language_info": {
   "codemirror_mode": {
    "name": "ipython",
    "version": 3
   },
   "file_extension": ".py",
   "mimetype": "text/x-python",
   "name": "python",
   "nbconvert_exporter": "python",
   "pygments_lexer": "ipython3",
   "version": "3.9.13"
  }
 },
 "nbformat": 4,
 "nbformat_minor": 5
}
