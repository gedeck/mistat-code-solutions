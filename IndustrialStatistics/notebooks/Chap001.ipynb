{
 "cells": [
  {
   "cell_type": "markdown",
   "id": "bd0e2093",
   "metadata": {},
   "source": [
    "# Chapter 1 \n",
    " Industrial Statistics: A Computer Based Approach with Python<br>\n",
    "by Ron Kenett, Shelemyahu Zacks, Peter Gedeck\n",
    "\n",
    "Publisher: Springer International Publishing; 1st edition (2023) <br>\n",
    "<!-- ISBN-13: 978-3031075650 -->\n",
    "\n",
    "(c) 2022 Ron Kenett, Shelemyahu Zacks, Peter Gedeck\n",
    "\n",
    "The code needs to be executed in sequence."
   ]
  },
  {
   "cell_type": "markdown",
   "id": "507895dc",
   "metadata": {},
   "source": [
    "# The Role of Statistical Methods in Modern Industry"
   ]
  },
  {
   "cell_type": "markdown",
   "id": "c848a2e5",
   "metadata": {},
   "source": [
    "## Evolution of Industry"
   ]
  },
  {
   "cell_type": "markdown",
   "id": "490ce042",
   "metadata": {},
   "source": [
    "## Evolution of Quality"
   ]
  },
  {
   "cell_type": "markdown",
   "id": "7ec80bb8",
   "metadata": {},
   "source": [
    "## Industry 4.0 Characteristics"
   ]
  },
  {
   "cell_type": "markdown",
   "id": "267d9dc2",
   "metadata": {},
   "source": [
    "## Digital Twin"
   ]
  },
  {
   "cell_type": "markdown",
   "id": "75960285",
   "metadata": {},
   "source": [
    "## Chapter Highlights"
   ]
  },
  {
   "cell_type": "markdown",
   "id": "d44fb8f3",
   "metadata": {},
   "source": [
    "## Exercises"
   ]
  }
 ],
 "metadata": {},
 "nbformat": 4,
 "nbformat_minor": 5
}
