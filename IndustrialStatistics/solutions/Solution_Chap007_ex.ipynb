{
 "cells": [
  {
   "cell_type": "markdown",
   "id": "e443d689",
   "metadata": {},
   "source": [
    "# Exercise Chapter 7 \n",
    "Industrial Statistics: A Computer Based Approach with Python<br>\n",
    "by Ron Kenett, Shelemyahu Zacks, Peter Gedeck\n",
    "\n",
    "Publisher: Springer International Publishing; 1st edition (2023) <br>\n",
    "<!-- ISBN-13: 978-3031075650 -->\n",
    "\n",
    "(c) 2022 Ron Kenett, Shelemyahu Zacks, Peter Gedeck\n",
    "\n",
    "The code needs to be executed in sequence."
   ]
  },
  {
   "cell_type": "code",
   "execution_count": null,
   "id": "8d2543f0",
   "metadata": {},
   "outputs": [],
   "source": [
    "import os\n",
    "os.environ['OUTDATED_IGNORE'] = '1'\n",
    "import warnings\n",
    "from outdated import OutdatedPackageWarning\n",
    "warnings.filterwarnings('ignore', category=FutureWarning)\n",
    "warnings.filterwarnings('ignore', category=OutdatedPackageWarning)"
   ]
  },
  {
   "cell_type": "code",
   "execution_count": null,
   "id": "fbc6603b",
   "metadata": {},
   "outputs": [],
   "source": [
    "import random\n",
    "import numpy as np\n",
    "import pandas as pd\n",
    "from scipy import stats\n",
    "import seaborn as sns\n",
    "import matplotlib.pyplot as plt\n",
    "from sklearn.model_selection import KFold\n",
    "from sklearn.metrics import mean_squared_error\n",
    "from pyKriging.krige import kriging\n",
    "import mistat"
   ]
  },
  {
   "cell_type": "markdown",
   "id": "947470fa",
   "metadata": {},
   "source": [
    "# Exercise 1"
   ]
  },
  {
   "cell_type": "code",
   "execution_count": null,
   "id": "e25f2957",
   "metadata": {},
   "outputs": [],
   "source": [
    "nrepeat = 10000\n",
    "days = 365\n",
    "for size in (22, 23): # range(1, 365+1):\n",
    "  same_birthday = 0\n",
    "  for _ in range(nrepeat):\n",
    "    birthdays = stats.randint.rvs(1, 365+1, size=size)\n",
    "    if len(birthdays) != len(set(birthdays)):\n",
    "        same_birthday += 1\n",
    "  print(f'size of party: {size}, ',\n",
    "        f'p(same birthday) {same_birthday / nrepeat:.2f}')"
   ]
  },
  {
   "cell_type": "markdown",
   "id": "6399dd36",
   "metadata": {},
   "source": [
    "# Exercise 2"
   ]
  },
  {
   "cell_type": "code",
   "execution_count": null,
   "id": "14da1abe",
   "metadata": {},
   "outputs": [],
   "source": [
    "def funnel_drop(position):\n",
    "  ''' based on funnel position, returns marble drop position'''\n",
    "  x_new = position[0] + stats.norm().rvs()\n",
    "  y_new = position[1] + stats.norm().rvs()\n",
    "  return np.array([x_new, y_new])\n",
    "\n",
    "def result(strategy, dropped):\n",
    "  ''' returns result information '''\n",
    "  return {\n",
    "    'strategy': strategy,\n",
    "    'x': dropped[0],\n",
    "    'y': dropped[1],\n",
    "    'distance': np.sqrt(dropped[0]**2 + dropped[1]**2),\n",
    "  }"
   ]
  },
  {
   "cell_type": "code",
   "execution_count": null,
   "id": "54c4826c",
   "metadata": {},
   "outputs": [],
   "source": [
    "np.random.seed(1)\n",
    "results = []\n",
    "nrepeat = 100\n",
    "\n",
    "# strategy 1\n",
    "# funnel fixed\n",
    "position = (0, 0)\n",
    "for _ in range(nrepeat):\n",
    "  dropped = funnel_drop(position)\n",
    "  results.append(result(1, dropped))\n",
    "\n",
    "# strategy 2\n",
    "# position funnel to compensate for error relative to funnel position\n",
    "position = np.array([0, 0])\n",
    "for _ in range(nrepeat):\n",
    "  dropped = funnel_drop(position)\n",
    "  results.append(result(2, dropped))\n",
    "  position = position - dropped\n",
    "\n",
    "# strategy 3\n",
    "# position funnel to compensate for error relative to target\n",
    "position = np.array([0, 0])\n",
    "for _ in range(nrepeat):\n",
    "  dropped = funnel_drop(position)\n",
    "  results.append(result(3, dropped))\n",
    "  position = - dropped\n",
    "\n",
    "# strategy 4\n",
    "# position funnel to compensate for error relative to target\n",
    "position = np.array([0, 0])\n",
    "for _ in range(nrepeat):\n",
    "  dropped = funnel_drop(position)\n",
    "  results.append(result(4, dropped))\n",
    "  position = dropped\n",
    "\n",
    "results = pd.DataFrame(results)\n",
    "g = sns.FacetGrid(results, col='strategy', col_wrap=2)\n",
    "g.map(sns.scatterplot, 'x', 'y')\n",
    "plt.show()\n",
    "sns.boxplot(x='distance', y='strategy', data=results, orient='h')\n",
    "#g = sns.FacetGrid(results, col='strategy')\n",
    "#g.map(sns.boxplot, 'distance', order='strategy', orient='v')\n",
    "plt.show()"
   ]
  },
  {
   "cell_type": "markdown",
   "id": "723c51aa",
   "metadata": {},
   "source": [
    "# Exercise 3"
   ]
  },
  {
   "cell_type": "code",
   "execution_count": null,
   "id": "845abf96",
   "metadata": {},
   "outputs": [],
   "source": [
    "from mistat.design import doe\n",
    "\n",
    "np.random.seed(1) # set random seed for reproducibility\n",
    "Factors = {\n",
    "    'm': [30, 60],\n",
    "    's': [0.005, 0.02],\n",
    "    'v0': [0.002, 0.01],\n",
    "    'k': [1_000, 5_000],\n",
    "    'p0': [90_000, 110_000],\n",
    "    't': [290, 296],\n",
    "    't0': [340, 360],\n",
    "}\n",
    "Designs = {\n",
    "    'Latin hypercube': doe.lhs(Factors, num_samples=50),\n",
    "    'Latin hypercube (space-filling)': doe.space_filling_lhs(Factors, num_samples=50),\n",
    "    'Random k-means cluster': doe.random_k_means(Factors, num_samples=50),\n",
    "    'Maximin reconstruction': doe.maximin(Factors, num_samples=50),\n",
    "    'Halton sequence based': doe.halton(Factors, num_samples=50),\n",
    "    'Uniform random matrix': doe.uniform_random(Factors, num_samples=50),\n",
    "}"
   ]
  },
  {
   "cell_type": "code",
   "execution_count": null,
   "id": "f938c893",
   "metadata": {},
   "outputs": [],
   "source": [
    "for method, design in Designs.items():\n",
    "    sm = pd.plotting.scatter_matrix(design, figsize=[4, 4])\n",
    "    # hide all axis labels in visualization\n",
    "    for subaxis in sm:\n",
    "        for ax in subaxis:\n",
    "            ax.xaxis.set_ticks([])\n",
    "            ax.yaxis.set_ticks([])\n",
    "            ax.set_ylabel(\"\")\n",
    "    plt.suptitle(method)\n",
    "    plt.show()"
   ]
  },
  {
   "cell_type": "markdown",
   "id": "e309b085",
   "metadata": {},
   "source": [
    "# Exercise 4"
   ]
  },
  {
   "cell_type": "code",
   "execution_count": null,
   "id": "b271af58",
   "metadata": {},
   "outputs": [],
   "source": [
    "random.seed(1)\n",
    "np.random.seed(1)\n",
    "\n",
    "outcome = 'seconds'\n",
    "predictors = ['m', 's', 'v0', 'k', 'p0', 't', 't0']\n",
    "\n",
    "performance = []\n",
    "for method, Design in Designs.items():\n",
    "    # randomize the design and run the piston simulator\n",
    "    DesignRandomized = Design.sample(frac=1, random_state=1).reset_index(drop=True)\n",
    "    simulator = mistat.PistonSimulator(parameter=DesignRandomized)\n",
    "    result = simulator.simulate()\n",
    "\n",
    "    # convert to X and y matrics to use with the \n",
    "    X = result[predictors].values\n",
    "    y = result[outcome].values\n",
    "\n",
    "    # run 5-fold cross-validation to determine MSE values\n",
    "    # we collect the out-of-fold predictions to determine \n",
    "    # the MSE\n",
    "    predicted = []\n",
    "    actual = []\n",
    "    for train_idx, test_idx in KFold(n_splits=5).split(result):\n",
    "        model = kriging(X[train_idx], y[train_idx])\n",
    "        model.train()\n",
    "\n",
    "        # predict using the test set\n",
    "        ypred = [model.predict(row) for row in X[test_idx]]\n",
    "        # keep prediction results for performance metric calculation\n",
    "        actual.extend(y[test_idx])\n",
    "        predicted.extend(ypred)\n",
    "\n",
    "    mse = mean_squared_error(actual, predicted)\n",
    "    performance.append({\n",
    "        'design': method,\n",
    "        'mse': mse,\n",
    "        'rmse': np.sqrt(mse),\n",
    "    })\n",
    "    print(performance)\n",
    "    # skip the remaining designs \n",
    "    break"
   ]
  },
  {
   "cell_type": "code",
   "execution_count": null,
   "id": "6c1bfb02",
   "metadata": {},
   "outputs": [],
   "source": [
    "# use precalculated result to skip time consuming calculation\n",
    "performance = [{'design': 'Latin hypercube',\n",
    "'mse': 0.0004764009329482493,\n",
    "'rmse': 0.021826610661031393},\n",
    "{'design': 'Latin hypercube (space-filling)',\n",
    "'mse': 0.00033123082211900266,\n",
    "'rmse': 0.01819974785866559},\n",
    "{'design': 'Random k-means cluster',\n",
    "'mse': 0.00015180440537607644,\n",
    "'rmse': 0.012320893042960662},\n",
    "{'design': 'Maximin reconstruction',\n",
    "'mse': 0.00028915484169061127,\n",
    "'rmse': 0.01700455355752133},\n",
    "{'design': 'Halton sequence based',\n",
    "'mse': 0.0002185515418723647,\n",
    "'rmse': 0.01478348882613183},\n",
    "{'design': 'Uniform random matrix',\n",
    "'mse': 0.0001850594863266287,\n",
    "'rmse': 0.013603657093834317}]\n",
    "s = pd.DataFrame(performance).style.hide(axis='index')\n",
    "s"
   ]
  },
  {
   "cell_type": "markdown",
   "id": "8c52f5bc",
   "metadata": {},
   "source": [
    "# Exercise 5"
   ]
  },
  {
   "cell_type": "code",
   "execution_count": null,
   "id": "729809f0",
   "metadata": {},
   "outputs": [],
   "source": [
    "np.random.seed(1)\n",
    "\n",
    "num_samples = 1000\n",
    "Design = doe.uniform_random(Factors, num_samples=num_samples)"
   ]
  },
  {
   "cell_type": "code",
   "execution_count": null,
   "id": "0dda584f",
   "metadata": {},
   "outputs": [],
   "source": [
    "def evaluateDesign(Design, nrepeat=20):\n",
    "  #Design = Design.loc[np.repeat(Design.index.values, nrepeat), :]\n",
    "  #settings = {c: list(Design[c]) for c in Design.columns}\n",
    "  #simulator = mistat.PistonSimulator(seed=1, **settings)\n",
    "  simulator = mistat.PistonSimulator(parameter=Design, seed=1, n_replicate=nrepeat)\n",
    "  result = simulator.simulate()\n",
    "  result = mistat.simulationGroup(result, nrepeat)\n",
    "\n",
    "  # next we aggregate the replicates and determine mean and \n",
    "  # standard deviation of each group.\n",
    "  options = {p: 'mean' for p in ['m', 's', 'v0', 'k', 'p0', 't', 't0']}\n",
    "  options['seconds'] = ['mean', 'std']\n",
    "  result = result.groupby('group').aggregate(options)\n",
    "  # convert multi-index to single index\n",
    "  result.columns = [' '.join(col) if col[0] == 'seconds' else col[0]\n",
    "                    for col in result.columns]\n",
    "  return result\n",
    "  \n",
    "result = evaluateDesign(Design, nrepeat=30)"
   ]
  },
  {
   "cell_type": "code",
   "execution_count": null,
   "id": "59b18698",
   "metadata": {},
   "outputs": [],
   "source": [
    "# determine rows with seconds around 0.02 and \n",
    "# identify row with smallest standard deviation\n",
    "rows = [0.0195 < v < 0.0205 for v in result['seconds mean'].values]\n",
    "target = result.loc[rows, :]\n",
    "target = target.sort_values('seconds std')\n",
    "target.head(3)"
   ]
  },
  {
   "cell_type": "code",
   "execution_count": null,
   "id": "5975137f",
   "metadata": {},
   "outputs": [],
   "source": [
    "ax = target.plot.scatter(x='v0', y='s')\n",
    "target.head(3).plot.scatter(x='v0', y='s', ax=ax, color='red')\n",
    "ax = target.plot.scatter(x='seconds mean', y='seconds std')\n",
    "target.head(3).plot.scatter(x='seconds mean', y='seconds std', ax=ax, color='red')\n",
    "plt.show()"
   ]
  },
  {
   "cell_type": "markdown",
   "id": "ef2d7203",
   "metadata": {},
   "source": [
    "# Exercise 6"
   ]
  },
  {
   "cell_type": "code",
   "execution_count": null,
   "id": "862bc623",
   "metadata": {},
   "outputs": [],
   "source": [
    "np.random.seed(1)\n",
    "\n",
    "num_samples = 1000\n",
    "Design = doe.lhs(Factors, num_samples=num_samples)\n",
    "result = evaluateDesign(Design, nrepeat=30)\n",
    "\n",
    "# determine rows with seconds around 0.02 and \n",
    "# identify row with smallest standard deviation\n",
    "rows = [0.0195 < v < 0.0205 for v in result['seconds mean'].values]\n",
    "target = result.loc[rows, :]\n",
    "target = target.sort_values('seconds std')\n",
    "target.head(3)"
   ]
  },
  {
   "cell_type": "code",
   "execution_count": null,
   "id": "f0f72464",
   "metadata": {},
   "outputs": [],
   "source": [
    "ax = target.plot.scatter(x='v0', y='s')\n",
    "target.head(3).plot.scatter(x='v0', y='s', ax=ax, color='red')\n",
    "ax = target.plot.scatter(x='seconds mean', y='seconds std')\n",
    "target.head(3).plot.scatter(x='seconds mean', y='seconds std', ax=ax, color='red')\n",
    "plt.show()"
   ]
  }
 ],
 "metadata": {},
 "nbformat": 4,
 "nbformat_minor": 5
}
