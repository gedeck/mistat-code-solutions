{
 "cells": [
  {
   "cell_type": "markdown",
   "id": "b75a0b88",
   "metadata": {},
   "source": [
    "# Exercise Chapter 9 \n",
    "Industrial Statistics: A Computer Based Approach with Python<br>\n",
    "by Ron Kenett, Shelemyahu Zacks, Peter Gedeck\n",
    "\n",
    "Publisher: Springer International Publishing; 1st edition (2023) <br>\n",
    "<!-- ISBN-13: 978-3031075650 -->\n",
    "\n",
    "(c) 2022 Ron Kenett, Shelemyahu Zacks, Peter Gedeck\n",
    "\n",
    "The code needs to be executed in sequence."
   ]
  },
  {
   "cell_type": "code",
   "execution_count": 1,
   "id": "09aa7e45",
   "metadata": {
    "execution": {
     "iopub.execute_input": "2022-09-10T19:53:19.393012Z",
     "iopub.status.busy": "2022-09-10T19:53:19.392668Z",
     "iopub.status.idle": "2022-09-10T19:53:19.445191Z",
     "shell.execute_reply": "2022-09-10T19:53:19.444244Z"
    }
   },
   "outputs": [],
   "source": [
    "import os\n",
    "os.environ['OUTDATED_IGNORE'] = '1'\n",
    "import warnings\n",
    "from outdated import OutdatedPackageWarning\n",
    "warnings.filterwarnings('ignore', category=FutureWarning)\n",
    "warnings.filterwarnings('ignore', category=OutdatedPackageWarning)"
   ]
  },
  {
   "cell_type": "code",
   "execution_count": 2,
   "id": "a1b36cdf",
   "metadata": {
    "execution": {
     "iopub.execute_input": "2022-09-10T19:53:19.448465Z",
     "iopub.status.busy": "2022-09-10T19:53:19.448164Z",
     "iopub.status.idle": "2022-09-10T19:53:20.746850Z",
     "shell.execute_reply": "2022-09-10T19:53:20.745791Z"
    }
   },
   "outputs": [],
   "source": [
    "import numpy as np\n",
    "import pandas as pd\n",
    "from scipy import stats\n",
    "import statsmodels.formula.api as smf\n",
    "import lifelines\n",
    "import pingouin as pg\n",
    "import seaborn as sns\n",
    "import matplotlib.pyplot as plt\n",
    "import mistat"
   ]
  },
  {
   "cell_type": "markdown",
   "id": "cd1bd47d",
   "metadata": {},
   "source": [
    "# Exercise 6"
   ]
  },
  {
   "cell_type": "code",
   "execution_count": 3,
   "id": "28f973e4",
   "metadata": {
    "execution": {
     "iopub.execute_input": "2022-09-10T19:53:20.750908Z",
     "iopub.status.busy": "2022-09-10T19:53:20.750508Z",
     "iopub.status.idle": "2022-09-10T19:53:20.963206Z",
     "shell.execute_reply": "2022-09-10T19:53:20.962244Z"
    }
   },
   "outputs": [
    {
     "data": {
      "image/png": "[encoded data removed]",
      "text/plain": [
       "<Figure size 600x400 with 1 Axes>"
      ]
     },
     "metadata": {},
     "output_type": "display_data"
    }
   ],
   "source": [
    "def labeledBox(ax, corner, sides, label):\n",
    "    corner = list(corner)\n",
    "    corner[1] = corner[1] - sides[1]/2\n",
    "    ax.add_patch(patch.Rectangle(corner, *sides, facecolor='white', edgecolor=\"black\", zorder=10))\n",
    "    ax.annotate(label, (corner[0] + sides[0] / 2, corner[1] + sides[1] / 2), color='black',\n",
    "                    fontsize=14, ha='center', va='center', zorder=11)\n",
    "\n",
    "import matplotlib.patches as patch\n",
    "fig, ax = plt.subplots(figsize=[6, 4])\n",
    "\n",
    "x1 = 1; yM1 = 3; yM2 = 2\n",
    "x3 = x1 + 6\n",
    "ax.plot((0, x1), (0, 0), color='black')\n",
    "ax.plot((x1, x1), (-yM2, yM1), color='black')\n",
    "ax.plot((x3, x3), (-yM2, yM1), color='black')\n",
    "ax.plot((x3, x3 + 3), (0, 0), color='black')\n",
    "# M1\n",
    "x2 = 3; y1 = yM1\n",
    "ax.plot((x1, x3), (y1, y1), color='black')\n",
    "ax.plot((x2, x2), (y1+2, y1-2), color='black')\n",
    "ax.plot((x2, x2+3), (y1+2, y1+2), color='black')\n",
    "ax.plot((x2, x2+3), (y1-2, y1-2), color='black')\n",
    "ax.plot((x2+3, x2+3), (y1+2, y1-2), color='black')\n",
    "xb = 4\n",
    "labeledBox(ax, (xb, y1+2), (1, 1), r'$R_1$')\n",
    "labeledBox(ax, (xb, y1), (1, 1), r'$R_2$')\n",
    "labeledBox(ax, (xb, y1-2), (1, 1), r'$R_3$')\n",
    "# M2\n",
    "ax.plot((x1, x3), (-yM2, -yM2), color='black')\n",
    "labeledBox(ax, (x1+2, -yM2), (1, 1), r'$R_4$')\n",
    "labeledBox(ax, (x1+4, -yM2), (1, 1), r'$R_5$')\n",
    "\n",
    "labeledBox(ax, (x1+7, 0), (1, 1), r'$R_6$')\n",
    "\n",
    "corner = [2.5, -3]; sides=[4, 2]\n",
    "ax.add_patch(patch.Rectangle(corner, *sides, facecolor='none', edgecolor=\"grey\", zorder=-1))\n",
    "corner = [2.5, 0]; sides=[4, 6]\n",
    "ax.add_patch(patch.Rectangle(corner, *sides, facecolor='none', edgecolor=\"grey\", zorder=-1))\n",
    "ax.annotate('M1', (2,5.5), color='black',\n",
    "          fontsize=14, ha='center', va='center', zorder=11)\n",
    "ax.annotate('M2', (2,-1.5), color='black',\n",
    "          fontsize=14, ha='center', va='center', zorder=11)\n",
    "\n",
    "ax.set_ylim(-3.5, 6.5)\n",
    "plt.axis('off')\n",
    "plt.show()"
   ]
  },
  {
   "cell_type": "markdown",
   "id": "43487747",
   "metadata": {},
   "source": [
    "# Exercise 19"
   ]
  },
  {
   "cell_type": "code",
   "execution_count": 4,
   "id": "42f2a481",
   "metadata": {
    "execution": {
     "iopub.execute_input": "2022-09-10T19:53:20.966449Z",
     "iopub.status.busy": "2022-09-10T19:53:20.966157Z",
     "iopub.status.idle": "2022-09-10T19:53:21.110661Z",
     "shell.execute_reply": "2022-09-10T19:53:21.109739Z"
    }
   },
   "outputs": [
    {
     "name": "stdout",
     "output_type": "stream",
     "text": [
      "Intercept    2.294805\n",
      "Wi           0.496692\n",
      "dtype: float64\n"
     ]
    },
    {
     "data": {
      "image/png": "[encoded data removed]",
      "text/plain": [
       "<Figure size 400x400 with 1 Axes>"
      ]
     },
     "metadata": {},
     "output_type": "display_data"
    }
   ],
   "source": [
    "np.random.seed(1)\n",
    "n = 100\n",
    "lnTi = np.log(sorted(stats.weibull_min(2.5, scale=10).rvs(n)))\n",
    "Wi = [np.log(-np.log(1 - i / (n+1))) for i in range(1, n + 1)]\n",
    "df = pd.DataFrame({'Wi': Wi, 'lnTi': lnTi})\n",
    "model = smf.ols('lnTi ~ Wi + 1', data=df).fit()\n",
    "print(model.params)\n",
    "intercept, slope = model.params\n",
    "fig, ax = plt.subplots(figsize=(4, 4))\n",
    "ax.plot((Wi[0], Wi[-1]),\n",
    "        (slope * Wi[0] + intercept, slope * Wi[-1] + intercept),\n",
    "        color='grey')\n",
    "ax.scatter(Wi, lnTi, color='black')\n",
    "ax.set_xlabel(r'$W_{(i)}$')\n",
    "ax.set_ylabel(r'$\\ln(T_i)$')\n",
    "plt.show()"
   ]
  },
  {
   "cell_type": "code",
   "execution_count": 5,
   "id": "2b8d7cc6",
   "metadata": {
    "execution": {
     "iopub.execute_input": "2022-09-10T19:53:21.113652Z",
     "iopub.status.busy": "2022-09-10T19:53:21.113408Z",
     "iopub.status.idle": "2022-09-10T19:53:21.118182Z",
     "shell.execute_reply": "2022-09-10T19:53:21.117301Z"
    }
   },
   "outputs": [
    {
     "name": "stdout",
     "output_type": "stream",
     "text": [
      "beta 9.922, nu 2.013\n"
     ]
    }
   ],
   "source": [
    "beta = np.exp(intercept)\n",
    "nu = 1 / slope\n",
    "print(f'beta {beta:.3f}, nu {nu:.3f}')"
   ]
  },
  {
   "cell_type": "markdown",
   "id": "cd167035",
   "metadata": {},
   "source": [
    "# Exercise 20"
   ]
  },
  {
   "cell_type": "code",
   "execution_count": 6,
   "id": "3e2efe75",
   "metadata": {
    "execution": {
     "iopub.execute_input": "2022-09-10T19:53:21.121490Z",
     "iopub.status.busy": "2022-09-10T19:53:21.120769Z",
     "iopub.status.idle": "2022-09-10T19:53:21.258509Z",
     "shell.execute_reply": "2022-09-10T19:53:21.257588Z"
    }
   },
   "outputs": [
    {
     "data": {
      "image/png": "[encoded data removed]",
      "text/plain": [
       "<Figure size 400x400 with 1 Axes>"
      ]
     },
     "metadata": {},
     "output_type": "display_data"
    }
   ],
   "source": [
    "Xi = [94.9, 106.9, 229.7, 275.7, 144.5, 112.8, 159.3, 153.1,\n",
    "        270.6, 322.0, 216.4, 544.6, 266.2, 263.6, 138.5, 79.0,\n",
    "        114.6, 66.1, 131.2, 91.1]\n",
    "n = len(Xi)\n",
    "Zi = [stats.norm().ppf((i - 3/8)/(n + 1/4)) for i in range(1, n+1)]\n",
    "\n",
    "df = pd.DataFrame({'Zi': Zi, 'lnXi': np.log(sorted(Xi))})\n",
    "model = smf.ols('lnXi ~ Zi + 1', data=df).fit()\n",
    "\n",
    "intercept, slope = model.params\n",
    "fig, ax = plt.subplots(figsize=(4, 4))\n",
    "ax.plot((Zi[0], Zi[-1]),\n",
    "        (slope * Zi[0] + intercept, slope * Zi[-1] + intercept),\n",
    "        color='grey')\n",
    "ax.scatter(Zi, df['lnXi'], color='black')\n",
    "ax.set_xlabel(r'$Z_{(i)}$')\n",
    "ax.set_ylabel(r'$\\ln(X_(i))$')\n",
    "plt.show()"
   ]
  },
  {
   "cell_type": "code",
   "execution_count": 7,
   "id": "350a614b",
   "metadata": {
    "execution": {
     "iopub.execute_input": "2022-09-10T19:53:21.262164Z",
     "iopub.status.busy": "2022-09-10T19:53:21.261150Z",
     "iopub.status.idle": "2022-09-10T19:53:21.285878Z",
     "shell.execute_reply": "2022-09-10T19:53:21.284811Z"
    }
   },
   "outputs": [
    {
     "name": "stdout",
     "output_type": "stream",
     "text": [
      "                 Results: Ordinary least squares\n",
      "==================================================================\n",
      "Model:              OLS              Adj. R-squared:     0.967    \n",
      "Dependent Variable: lnXi             AIC:                -34.2078 \n",
      "Date:               2022-09-10 19:53 BIC:                -32.2164 \n",
      "No. Observations:   20               Log-Likelihood:     19.104   \n",
      "Df Model:           1                F-statistic:        565.8    \n",
      "Df Residuals:       18               Prob (F-statistic): 4.74e-15 \n",
      "R-squared:          0.969            Scale:              0.0096297\n",
      "--------------------------------------------------------------------\n",
      "             Coef.    Std.Err.      t       P>|t|    [0.025   0.975]\n",
      "--------------------------------------------------------------------\n",
      "Intercept    5.0957     0.0219   232.2280   0.0000   5.0496   5.1418\n",
      "Zi           0.5559     0.0234    23.7868   0.0000   0.5068   0.6050\n",
      "------------------------------------------------------------------\n",
      "Omnibus:               3.915        Durbin-Watson:           1.014\n",
      "Prob(Omnibus):         0.141        Jarque-Bera (JB):        1.679\n",
      "Skew:                  0.343        Prob(JB):                0.432\n",
      "Kurtosis:              1.757        Condition No.:           1    \n",
      "==================================================================\n",
      "\n"
     ]
    }
   ],
   "source": [
    "print(model.summary2())"
   ]
  },
  {
   "cell_type": "code",
   "execution_count": 8,
   "id": "df154543",
   "metadata": {
    "execution": {
     "iopub.execute_input": "2022-09-10T19:53:21.289836Z",
     "iopub.status.busy": "2022-09-10T19:53:21.288884Z",
     "iopub.status.idle": "2022-09-10T19:53:21.294079Z",
     "shell.execute_reply": "2022-09-10T19:53:21.293181Z"
    }
   },
   "outputs": [
    {
     "name": "stdout",
     "output_type": "stream",
     "text": [
      "mu 5.096, sigma 0.556\n"
     ]
    }
   ],
   "source": [
    "mu = intercept\n",
    "sigma = slope\n",
    "print(f'mu {mu:.3f}, sigma {sigma:.3f}')"
   ]
  },
  {
   "cell_type": "markdown",
   "id": "2df36456",
   "metadata": {},
   "source": [
    "# Exercise 21"
   ]
  },
  {
   "cell_type": "code",
   "execution_count": 9,
   "id": "6e4c6bb9",
   "metadata": {
    "execution": {
     "iopub.execute_input": "2022-09-10T19:53:21.297501Z",
     "iopub.status.busy": "2022-09-10T19:53:21.296844Z",
     "iopub.status.idle": "2022-09-10T19:53:21.442277Z",
     "shell.execute_reply": "2022-09-10T19:53:21.441040Z"
    }
   },
   "outputs": [
    {
     "name": "stdout",
     "output_type": "stream",
     "text": [
      "Intercept    5.959374\n",
      "Wi           1.168853\n",
      "dtype: float64\n"
     ]
    },
    {
     "data": {
      "image/png": "[encoded data removed]",
      "text/plain": [
       "<Figure size 400x400 with 1 Axes>"
      ]
     },
     "metadata": {},
     "output_type": "display_data"
    }
   ],
   "source": [
    "np.random.seed(1)\n",
    "data = [13, 157, 172, 176, 249, 303, 350, 400, 400]\n",
    "n = len(data)\n",
    "lnTi = np.log(data)\n",
    "Wi = [np.log(-np.log(1 - i / (n+1))) for i in range(1, n + 1)]\n",
    "# exclude the censored data for the regression analysis\n",
    "df = pd.DataFrame({'Wi': Wi[:7], 'lnTi': lnTi[:7]})\n",
    "model = smf.ols('lnTi ~ Wi + 1', data=df).fit()\n",
    "print(model.params)\n",
    "intercept, slope = model.params\n",
    "fig, ax = plt.subplots(figsize=(4, 4))\n",
    "ax.plot((Wi[0], Wi[-1]),\n",
    "        (slope * Wi[0] + intercept, slope * Wi[-1] + intercept),\n",
    "        color='grey')\n",
    "ax.scatter(Wi[:-2], lnTi[:-2], color='black')\n",
    "ax.scatter(Wi[-2:], lnTi[-2:], color='lightgrey')\n",
    "ax.set_xlabel(r'$W_{(i)}$')\n",
    "ax.set_ylabel(r'$\\ln(T_i)$')\n",
    "plt.show()"
   ]
  },
  {
   "cell_type": "markdown",
   "id": "3dc2dc97",
   "metadata": {},
   "source": [
    "# Exercise 22"
   ]
  },
  {
   "cell_type": "code",
   "execution_count": 10,
   "id": "9d4e7484",
   "metadata": {
    "execution": {
     "iopub.execute_input": "2022-09-10T19:53:21.445694Z",
     "iopub.status.busy": "2022-09-10T19:53:21.445372Z",
     "iopub.status.idle": "2022-09-10T19:53:21.589999Z",
     "shell.execute_reply": "2022-09-10T19:53:21.588835Z"
    }
   },
   "outputs": [
    {
     "data": {
      "text/plain": [
       "<AxesSubplot:xlabel='timeline'>"
      ]
     },
     "execution_count": 10,
     "metadata": {},
     "output_type": "execute_result"
    },
    {
     "data": {
      "image/png": "[encoded data removed]",
      "text/plain": [
       "<Figure size 640x480 with 1 Axes>"
      ]
     },
     "metadata": {},
     "output_type": "display_data"
    }
   ],
   "source": [
    "elecfail = mistat.load_data('ELECFAIL.csv')\n",
    "\n",
    "kmf = lifelines.KaplanMeierFitter()\n",
    "kmf.fit(elecfail)\n",
    "kmf.plot_survival_function()"
   ]
  },
  {
   "cell_type": "markdown",
   "id": "8e2a0735",
   "metadata": {},
   "source": [
    "# Exercise 23"
   ]
  },
  {
   "cell_type": "code",
   "execution_count": 11,
   "id": "1f10252d",
   "metadata": {
    "execution": {
     "iopub.execute_input": "2022-09-10T19:53:21.593049Z",
     "iopub.status.busy": "2022-09-10T19:53:21.592792Z",
     "iopub.status.idle": "2022-09-10T19:53:21.823402Z",
     "shell.execute_reply": "2022-09-10T19:53:21.822431Z"
    }
   },
   "outputs": [
    {
     "data": {
      "text/html": [
       "<div>\n",
       "<style scoped>\n",
       "    .dataframe tbody tr th:only-of-type {\n",
       "        vertical-align: middle;\n",
       "    }\n",
       "\n",
       "    .dataframe tbody tr th {\n",
       "        vertical-align: top;\n",
       "    }\n",
       "\n",
       "    .dataframe thead th {\n",
       "        text-align: right;\n",
       "    }\n",
       "</style>\n",
       "<table border=\"1\" class=\"dataframe\">\n",
       "  <tbody>\n",
       "    <tr>\n",
       "      <th>model</th>\n",
       "      <td>lifelines.ExponentialFitter</td>\n",
       "    </tr>\n",
       "    <tr>\n",
       "      <th>number of observations</th>\n",
       "      <td>50</td>\n",
       "    </tr>\n",
       "    <tr>\n",
       "      <th>number of events observed</th>\n",
       "      <td>50</td>\n",
       "    </tr>\n",
       "    <tr>\n",
       "      <th>log-likelihood</th>\n",
       "      <td>-252.21</td>\n",
       "    </tr>\n",
       "    <tr>\n",
       "      <th>hypothesis</th>\n",
       "      <td>lambda_ != 1</td>\n",
       "    </tr>\n",
       "  </tbody>\n",
       "</table>\n",
       "</div><table border=\"1\" class=\"dataframe\">\n",
       "  <thead>\n",
       "    <tr style=\"text-align: right;\">\n",
       "      <th style=\"min-width: 12px;\"></th>\n",
       "      <th style=\"min-width: 12px;\">coef</th>\n",
       "      <th style=\"min-width: 12px;\">se(coef)</th>\n",
       "      <th style=\"min-width: 12px;\">coef lower 95%</th>\n",
       "      <th style=\"min-width: 12px;\">coef upper 95%</th>\n",
       "      <th style=\"min-width: 12px;\">z</th>\n",
       "      <th style=\"min-width: 12px;\">p</th>\n",
       "      <th style=\"min-width: 12px;\">-log2(p)</th>\n",
       "    </tr>\n",
       "  </thead>\n",
       "  <tbody>\n",
       "    <tr>\n",
       "      <th>lambda_</th>\n",
       "      <td>57.07</td>\n",
       "      <td>8.07</td>\n",
       "      <td>41.25</td>\n",
       "      <td>72.89</td>\n",
       "      <td>6.95</td>\n",
       "      <td>&lt;0.005</td>\n",
       "      <td>37.97</td>\n",
       "    </tr>\n",
       "  </tbody>\n",
       "</table><br><div>\n",
       "<style scoped>\n",
       "    .dataframe tbody tr th:only-of-type {\n",
       "        vertical-align: middle;\n",
       "    }\n",
       "\n",
       "    .dataframe tbody tr th {\n",
       "        vertical-align: top;\n",
       "    }\n",
       "\n",
       "    .dataframe thead th {\n",
       "        text-align: right;\n",
       "    }\n",
       "</style>\n",
       "<table border=\"1\" class=\"dataframe\">\n",
       "  <tbody>\n",
       "    <tr>\n",
       "      <th>AIC</th>\n",
       "      <td>506.43</td>\n",
       "    </tr>\n",
       "  </tbody>\n",
       "</table>\n",
       "</div>"
      ],
      "text/latex": [
       "\\begin{tabular}{lrrrrrrr}\n",
       "\\toprule\n",
       "{} &  coef &  se(coef) &  coef lower 95\\% &  coef upper 95\\% &    z &    p &  -log2(p) \\\\\n",
       "\\midrule\n",
       "lambda\\_ & 57.07 &      8.07 &           41.25 &           72.89 & 6.95 & 0.00 &     37.97 \\\\\n",
       "\\bottomrule\n",
       "\\end{tabular}\n"
      ],
      "text/plain": [
       "<lifelines.ExponentialFitter:\"Exponential_estimate\", fitted with 50 total observations, 0 right-censored observations>\n",
       "   number of observations = 50\n",
       "number of events observed = 50\n",
       "           log-likelihood = -252.21\n",
       "               hypothesis = lambda_ != 1\n",
       "\n",
       "---\n",
       "          coef   se(coef)   coef lower 95%   coef upper 95%    z      p   -log2(p)\n",
       "lambda_  57.07       8.07            41.25            72.89 6.95 <0.005      37.97\n",
       "---\n",
       "AIC = 506.43"
      ]
     },
     "metadata": {},
     "output_type": "display_data"
    }
   ],
   "source": [
    "elecfail = mistat.load_data('ELECFAIL.csv')\n",
    "\n",
    "kmf = lifelines.ExponentialFitter()\n",
    "kmf.fit(elecfail)\n",
    "kmf.print_summary()"
   ]
  },
  {
   "cell_type": "markdown",
   "id": "ce17b31d",
   "metadata": {},
   "source": [
    "# Exercise 24"
   ]
  },
  {
   "cell_type": "code",
   "execution_count": 12,
   "id": "13d5b0fc",
   "metadata": {
    "execution": {
     "iopub.execute_input": "2022-09-10T19:53:21.826487Z",
     "iopub.status.busy": "2022-09-10T19:53:21.826246Z",
     "iopub.status.idle": "2022-09-10T19:53:21.930837Z",
     "shell.execute_reply": "2022-09-10T19:53:21.929800Z"
    }
   },
   "outputs": [
    {
     "data": {
      "text/html": [
       "<div>\n",
       "<style scoped>\n",
       "    .dataframe tbody tr th:only-of-type {\n",
       "        vertical-align: middle;\n",
       "    }\n",
       "\n",
       "    .dataframe tbody tr th {\n",
       "        vertical-align: top;\n",
       "    }\n",
       "\n",
       "    .dataframe thead th {\n",
       "        text-align: right;\n",
       "    }\n",
       "</style>\n",
       "<table border=\"1\" class=\"dataframe\">\n",
       "  <tbody>\n",
       "    <tr>\n",
       "      <th>model</th>\n",
       "      <td>lifelines.ExponentialFitter</td>\n",
       "    </tr>\n",
       "    <tr>\n",
       "      <th>number of observations</th>\n",
       "      <td>20</td>\n",
       "    </tr>\n",
       "    <tr>\n",
       "      <th>number of events observed</th>\n",
       "      <td>17</td>\n",
       "    </tr>\n",
       "    <tr>\n",
       "      <th>log-likelihood</th>\n",
       "      <td>-99.62</td>\n",
       "    </tr>\n",
       "    <tr>\n",
       "      <th>hypothesis</th>\n",
       "      <td>lambda_ != 1</td>\n",
       "    </tr>\n",
       "  </tbody>\n",
       "</table>\n",
       "</div><table border=\"1\" class=\"dataframe\">\n",
       "  <thead>\n",
       "    <tr style=\"text-align: right;\">\n",
       "      <th style=\"min-width: 12px;\"></th>\n",
       "      <th style=\"min-width: 12px;\">coef</th>\n",
       "      <th style=\"min-width: 12px;\">se(coef)</th>\n",
       "      <th style=\"min-width: 12px;\">coef lower 95%</th>\n",
       "      <th style=\"min-width: 12px;\">coef upper 95%</th>\n",
       "      <th style=\"min-width: 12px;\">z</th>\n",
       "      <th style=\"min-width: 12px;\">p</th>\n",
       "      <th style=\"min-width: 12px;\">-log2(p)</th>\n",
       "    </tr>\n",
       "  </thead>\n",
       "  <tbody>\n",
       "    <tr>\n",
       "      <th>lambda_</th>\n",
       "      <td>129.01</td>\n",
       "      <td>31.29</td>\n",
       "      <td>67.68</td>\n",
       "      <td>190.34</td>\n",
       "      <td>4.09</td>\n",
       "      <td>&lt;0.005</td>\n",
       "      <td>14.51</td>\n",
       "    </tr>\n",
       "  </tbody>\n",
       "</table><br><div>\n",
       "<style scoped>\n",
       "    .dataframe tbody tr th:only-of-type {\n",
       "        vertical-align: middle;\n",
       "    }\n",
       "\n",
       "    .dataframe tbody tr th {\n",
       "        vertical-align: top;\n",
       "    }\n",
       "\n",
       "    .dataframe thead th {\n",
       "        text-align: right;\n",
       "    }\n",
       "</style>\n",
       "<table border=\"1\" class=\"dataframe\">\n",
       "  <tbody>\n",
       "    <tr>\n",
       "      <th>AIC</th>\n",
       "      <td>201.24</td>\n",
       "    </tr>\n",
       "  </tbody>\n",
       "</table>\n",
       "</div>"
      ],
      "text/latex": [
       "\\begin{tabular}{lrrrrrrr}\n",
       "\\toprule\n",
       "{} &   coef &  se(coef) &  coef lower 95\\% &  coef upper 95\\% &    z &    p &  -log2(p) \\\\\n",
       "\\midrule\n",
       "lambda\\_ & 129.01 &     31.29 &           67.68 &          190.34 & 4.09 & 0.00 &     14.51 \\\\\n",
       "\\bottomrule\n",
       "\\end{tabular}\n"
      ],
      "text/plain": [
       "<lifelines.ExponentialFitter:\"Exponential_estimate\", fitted with 20 total observations, 3 right-censored observations>\n",
       "   number of observations = 20\n",
       "number of events observed = 17\n",
       "           log-likelihood = -99.62\n",
       "               hypothesis = lambda_ != 1\n",
       "\n",
       "---\n",
       "          coef   se(coef)   coef lower 95%   coef upper 95%    z      p   -log2(p)\n",
       "lambda_ 129.01      31.29            67.68           190.34 4.09 <0.005      14.51\n",
       "---\n",
       "AIC = 201.24"
      ]
     },
     "metadata": {},
     "output_type": "display_data"
    }
   ],
   "source": [
    "T = [96.88, 154.24, 67.44, 191.72, 173.36, 200, 140.81, 200,\n",
    "     154.71, 120.73, 24.29, 10.95, 2.36, 186.93, 57.61, 99.13,\n",
    "     32.74, 200, 39.77, 39.52]\n",
    "E = [ti < 200 for ti in T]\n",
    "\n",
    "kmf = lifelines.ExponentialFitter()\n",
    "kmf.fit(T, E)\n",
    "kmf.print_summary()"
   ]
  },
  {
   "cell_type": "markdown",
   "id": "a0657722",
   "metadata": {},
   "source": [
    "# Exercise 26"
   ]
  },
  {
   "cell_type": "code",
   "execution_count": 13,
   "id": "00c90dcc",
   "metadata": {
    "execution": {
     "iopub.execute_input": "2022-09-10T19:53:21.934616Z",
     "iopub.status.busy": "2022-09-10T19:53:21.933896Z",
     "iopub.status.idle": "2022-09-10T19:53:22.092553Z",
     "shell.execute_reply": "2022-09-10T19:53:22.091537Z"
    }
   },
   "outputs": [
    {
     "data": {
      "text/html": [
       "<div>\n",
       "<style scoped>\n",
       "    .dataframe tbody tr th:only-of-type {\n",
       "        vertical-align: middle;\n",
       "    }\n",
       "\n",
       "    .dataframe tbody tr th {\n",
       "        vertical-align: top;\n",
       "    }\n",
       "\n",
       "    .dataframe thead th {\n",
       "        text-align: right;\n",
       "    }\n",
       "</style>\n",
       "<table border=\"1\" class=\"dataframe\">\n",
       "  <tbody>\n",
       "    <tr>\n",
       "      <th>model</th>\n",
       "      <td>lifelines.WeibullFitter</td>\n",
       "    </tr>\n",
       "    <tr>\n",
       "      <th>number of observations</th>\n",
       "      <td>50</td>\n",
       "    </tr>\n",
       "    <tr>\n",
       "      <th>number of events observed</th>\n",
       "      <td>50</td>\n",
       "    </tr>\n",
       "    <tr>\n",
       "      <th>log-likelihood</th>\n",
       "      <td>-206.50</td>\n",
       "    </tr>\n",
       "    <tr>\n",
       "      <th>hypothesis</th>\n",
       "      <td>lambda_ != 1, rho_ != 1</td>\n",
       "    </tr>\n",
       "  </tbody>\n",
       "</table>\n",
       "</div><table border=\"1\" class=\"dataframe\">\n",
       "  <thead>\n",
       "    <tr style=\"text-align: right;\">\n",
       "      <th style=\"min-width: 12px;\"></th>\n",
       "      <th style=\"min-width: 12px;\">coef</th>\n",
       "      <th style=\"min-width: 12px;\">se(coef)</th>\n",
       "      <th style=\"min-width: 12px;\">coef lower 95%</th>\n",
       "      <th style=\"min-width: 12px;\">coef upper 95%</th>\n",
       "      <th style=\"min-width: 12px;\">z</th>\n",
       "      <th style=\"min-width: 12px;\">p</th>\n",
       "      <th style=\"min-width: 12px;\">-log2(p)</th>\n",
       "    </tr>\n",
       "  </thead>\n",
       "  <tbody>\n",
       "    <tr>\n",
       "      <th>lambda_</th>\n",
       "      <td>27.08</td>\n",
       "      <td>2.94</td>\n",
       "      <td>21.31</td>\n",
       "      <td>32.85</td>\n",
       "      <td>8.86</td>\n",
       "      <td>&lt;0.005</td>\n",
       "      <td>60.17</td>\n",
       "    </tr>\n",
       "    <tr>\n",
       "      <th>rho_</th>\n",
       "      <td>1.37</td>\n",
       "      <td>0.15</td>\n",
       "      <td>1.09</td>\n",
       "      <td>1.66</td>\n",
       "      <td>2.57</td>\n",
       "      <td>0.01</td>\n",
       "      <td>6.63</td>\n",
       "    </tr>\n",
       "  </tbody>\n",
       "</table><br><div>\n",
       "<style scoped>\n",
       "    .dataframe tbody tr th:only-of-type {\n",
       "        vertical-align: middle;\n",
       "    }\n",
       "\n",
       "    .dataframe tbody tr th {\n",
       "        vertical-align: top;\n",
       "    }\n",
       "\n",
       "    .dataframe thead th {\n",
       "        text-align: right;\n",
       "    }\n",
       "</style>\n",
       "<table border=\"1\" class=\"dataframe\">\n",
       "  <tbody>\n",
       "    <tr>\n",
       "      <th>AIC</th>\n",
       "      <td>417.00</td>\n",
       "    </tr>\n",
       "  </tbody>\n",
       "</table>\n",
       "</div>"
      ],
      "text/latex": [
       "\\begin{tabular}{lrrrrrrr}\n",
       "\\toprule\n",
       "{} &  coef &  se(coef) &  coef lower 95\\% &  coef upper 95\\% &    z &    p &  -log2(p) \\\\\n",
       "\\midrule\n",
       "lambda\\_ & 27.08 &      2.94 &           21.31 &           32.85 & 8.86 & 0.00 &     60.17 \\\\\n",
       "rho\\_    &  1.37 &      0.15 &            1.09 &            1.66 & 2.57 & 0.01 &      6.63 \\\\\n",
       "\\bottomrule\n",
       "\\end{tabular}\n"
      ],
      "text/plain": [
       "<lifelines.WeibullFitter:\"Weibull_estimate\", fitted with 50 total observations, 0 right-censored observations>\n",
       "   number of observations = 50\n",
       "number of events observed = 50\n",
       "           log-likelihood = -206.50\n",
       "               hypothesis = lambda_ != 1, rho_ != 1\n",
       "\n",
       "---\n",
       "          coef   se(coef)   coef lower 95%   coef upper 95%    z      p   -log2(p)\n",
       "lambda_  27.08       2.94            21.31            32.85 8.86 <0.005      60.17\n",
       "rho_      1.37       0.15             1.09             1.66 2.57   0.01       6.63\n",
       "---\n",
       "AIC = 417.00"
      ]
     },
     "metadata": {},
     "output_type": "display_data"
    }
   ],
   "source": [
    "T = mistat.load_data('WEIBUL.csv')\n",
    "\n",
    "kmf = lifelines.WeibullFitter()\n",
    "kmf.fit(T)\n",
    "kmf.print_summary()"
   ]
  },
  {
   "cell_type": "code",
   "execution_count": 14,
   "id": "6027607c",
   "metadata": {
    "execution": {
     "iopub.execute_input": "2022-09-10T19:53:22.095637Z",
     "iopub.status.busy": "2022-09-10T19:53:22.095385Z",
     "iopub.status.idle": "2022-09-10T19:53:23.332094Z",
     "shell.execute_reply": "2022-09-10T19:53:23.331177Z"
    }
   },
   "outputs": [
    {
     "name": "stdout",
     "output_type": "stream",
     "text": [
      "std(beta): 2.8735759059232406\n"
     ]
    },
    {
     "name": "stdout",
     "output_type": "stream",
     "text": [
      "nu(std): 0.07224217322172025\n"
     ]
    }
   ],
   "source": [
    "n_boot=5\n",
    "idx = list(range(len(T)))\n",
    "def stat_func(x):\n",
    "    epf = lifelines.WeibullFitter().fit(T[x])\n",
    "    return epf.params_['lambda_']\n",
    "\n",
    "ci, dist = pg.compute_bootci(idx, func=stat_func, n_boot=n_boot, confidence=0.95,\n",
    "                             method='per', seed=1, return_dist=True)\n",
    "print(f'std(beta): {np.std(dist)}')\n",
    "\n",
    "def stat_func(x):\n",
    "    epf = lifelines.WeibullFitter().fit(T[x])\n",
    "    return epf.params_['rho_']\n",
    "ci, dist = pg.compute_bootci(idx, func=stat_func, n_boot=n_boot, confidence=0.95,\n",
    "                             method='per', seed=1, return_dist=True)\n",
    "print(f'nu(std): {np.std(dist)}')"
   ]
  },
  {
   "cell_type": "markdown",
   "id": "77514017",
   "metadata": {},
   "source": [
    "# Exercise 31"
   ]
  },
  {
   "cell_type": "code",
   "execution_count": 15,
   "id": "9dc6a068",
   "metadata": {
    "execution": {
     "iopub.execute_input": "2022-09-10T19:53:23.334973Z",
     "iopub.status.busy": "2022-09-10T19:53:23.334733Z",
     "iopub.status.idle": "2022-09-10T19:53:23.341844Z",
     "shell.execute_reply": "2022-09-10T19:53:23.340890Z"
    }
   },
   "outputs": [
    {
     "data": {
      "text/plain": [
       "301.2862836203999"
      ]
     },
     "execution_count": 15,
     "metadata": {},
     "output_type": "execute_result"
    }
   ],
   "source": [
    "factor = 0.01*np.exp(-300/500) + 0.99*np.exp(-300/1000)\n",
    "integral = 0.01*500*np.exp(-300/500) + 0.99*1000*np.exp(-300/1000)\n",
    "with_burn_in = 300 + integral/factor\n",
    "no_burn_in = 0.01 * 500 + 0.99 * 1000\n",
    "with_burn_in - no_burn_in"
   ]
  }
 ],
 "metadata": {
  "language_info": {
   "codemirror_mode": {
    "name": "ipython",
    "version": 3
   },
   "file_extension": ".py",
   "mimetype": "text/x-python",
   "name": "python",
   "nbconvert_exporter": "python",
   "pygments_lexer": "ipython3",
   "version": "3.9.13"
  }
 },
 "nbformat": 4,
 "nbformat_minor": 5
}
