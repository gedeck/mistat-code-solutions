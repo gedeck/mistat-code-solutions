{
 "cells": [
  {
   "cell_type": "markdown",
   "id": "96cb7561-5d9e-4e8c-bbba-9ce44ab8715c",
   "metadata": {},
   "source": [
    "# Install required packages\n",
    "_Modern Statistics: A Computer Based Approach with Python<br>\n",
    "by Ron Kenett, Shelemyahu Zacks, Peter Gedeck_\n",
    "\n",
    "> Publisher: Springer International Publishing; 1st edition (September 15, 2022) <br>\n",
    "ISBN-13: 978-3031075650\n",
    "\n",
    "> (c) 2022 Ron Kenett, Shelemyahu Zacks, Peter Gedeck\n",
    "\n",
    "Use the following commands to install all required packages to run the code in this book."
   ]
  },
  {
   "cell_type": "code",
   "execution_count": null,
   "id": "91e8ea63-fa2c-49be-b64f-94ad1c44f104",
   "metadata": {},
   "outputs": [],
   "source": [
    "pip install mistat numpy scipy scikit-learn statsmodels pingouin xgboost KDEpy svglib networkx scikit-fda pydotplus pgmpy"
   ]
  },
  {
   "cell_type": "markdown",
   "id": "28418ed9-f1ed-4fa6-ac3f-3dcaaf8f70ea",
   "metadata": {},
   "source": [
    "The following packages are currently pinned to specific versions."
   ]
  },
  {
   "cell_type": "code",
   "execution_count": null,
   "id": "dbd17080-d331-494a-a09a-ab8073d22000",
   "metadata": {},
   "outputs": [],
   "source": [
    "pip install \"dtreeviz<2\" seaborn==0.11.2"
   ]
  }
 ],
 "metadata": {
  "kernelspec": {
   "display_name": "Python 3 (ipykernel)",
   "language": "python",
   "name": "python3"
  },
  "language_info": {
   "codemirror_mode": {
    "name": "ipython",
    "version": 3
   },
   "file_extension": ".py",
   "mimetype": "text/x-python",
   "name": "python",
   "nbconvert_exporter": "python",
   "pygments_lexer": "ipython3",
   "version": "3.10.9"
  }
 },
 "nbformat": 4,
 "nbformat_minor": 5
}
