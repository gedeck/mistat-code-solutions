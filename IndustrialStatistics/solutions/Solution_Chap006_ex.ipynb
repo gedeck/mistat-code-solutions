{
 "cells": [
  {
   "cell_type": "markdown",
   "id": "9790a41c",
   "metadata": {},
   "source": [
    "# Exercise Chapter 6_ex \n",
    "Industrial Statistics: A Computer Based Approach with Python<br>\n",
    "by Ron Kenett, Shelemyahu Zacks, Peter Gedeck\n",
    "\n",
    "Publisher: Springer International Publishing; 1st edition (2023) <br>\n",
    "<!-- ISBN-13: 978-3031075650 -->\n",
    "\n",
    "(c) 2022 Ron Kenett, Shelemyahu Zacks, Peter Gedeck\n",
    "\n",
    "The code needs to be executed in sequence."
   ]
  },
  {
   "cell_type": "code",
   "execution_count": 1,
   "id": "d456f390",
   "metadata": {
    "execution": {
     "iopub.execute_input": "2022-10-25T17:11:15.519210Z",
     "iopub.status.busy": "2022-10-25T17:11:15.518909Z",
     "iopub.status.idle": "2022-10-25T17:11:15.571712Z",
     "shell.execute_reply": "2022-10-25T17:11:15.570680Z"
    }
   },
   "outputs": [],
   "source": [
    "import os\n",
    "os.environ['OUTDATED_IGNORE'] = '1'\n",
    "import warnings\n",
    "from outdated import OutdatedPackageWarning\n",
    "warnings.filterwarnings('ignore', category=FutureWarning)\n",
    "warnings.filterwarnings('ignore', category=OutdatedPackageWarning)"
   ]
  },
  {
   "cell_type": "code",
   "execution_count": 2,
   "id": "c2865c7e",
   "metadata": {
    "execution": {
     "iopub.execute_input": "2022-10-25T17:11:15.574945Z",
     "iopub.status.busy": "2022-10-25T17:11:15.574701Z",
     "iopub.status.idle": "2022-10-25T17:11:16.778821Z",
     "shell.execute_reply": "2022-10-25T17:11:16.777707Z"
    }
   },
   "outputs": [],
   "source": [
    "import numpy as np\n",
    "import pandas as pd\n",
    "import statsmodels.formula.api as smf\n",
    "from pyDOE2 import fracfact\n",
    "\n",
    "import mistat"
   ]
  },
  {
   "cell_type": "markdown",
   "id": "9475e38b",
   "metadata": {},
   "source": [
    "# Exercise 1"
   ]
  },
  {
   "cell_type": "code",
   "execution_count": 3,
   "id": "6f88d888",
   "metadata": {
    "execution": {
     "iopub.execute_input": "2022-10-25T17:11:16.782378Z",
     "iopub.status.busy": "2022-10-25T17:11:16.782133Z",
     "iopub.status.idle": "2022-10-25T17:11:16.789142Z",
     "shell.execute_reply": "2022-10-25T17:11:16.788256Z"
    }
   },
   "outputs": [],
   "source": [
    "from mistat.design import doe\n",
    "np.random.seed(1)\n",
    "\n",
    "# Build design from factors\n",
    "FacDesign = doe.full_fact({\n",
    "    'm': [30, 60],\n",
    "    's': [0.005, 0.02],\n",
    "    'v0': [0.002, 0.01],\n",
    "    'k': [1500, 4500],\n",
    "    't': [290, 296],\n",
    "})\n",
    "\n",
    "# Randomize design\n",
    "FacDesign = FacDesign.sample(frac=1).reset_index(drop=True)"
   ]
  },
  {
   "cell_type": "code",
   "execution_count": 4,
   "id": "f93b324e",
   "metadata": {
    "execution": {
     "iopub.execute_input": "2022-10-25T17:11:16.792677Z",
     "iopub.status.busy": "2022-10-25T17:11:16.791877Z",
     "iopub.status.idle": "2022-10-25T17:11:16.803721Z",
     "shell.execute_reply": "2022-10-25T17:11:16.802872Z"
    }
   },
   "outputs": [],
   "source": [
    "# Setup and run simulator with 100 replicates \n",
    "# for each combination of factors\n",
    "simulator = mistat.PistonSimulator(n_replicate=100, **FacDesign,\n",
    "                                   p0=100_000, t0=350)\n",
    "result = simulator.simulate()"
   ]
  },
  {
   "cell_type": "code",
   "execution_count": 5,
   "id": "99ae7966",
   "metadata": {
    "execution": {
     "iopub.execute_input": "2022-10-25T17:11:16.806084Z",
     "iopub.status.busy": "2022-10-25T17:11:16.805892Z",
     "iopub.status.idle": "2022-10-25T17:11:16.815756Z",
     "shell.execute_reply": "2022-10-25T17:11:16.814986Z"
    }
   },
   "outputs": [],
   "source": [
    "factors = ['m', 's', 'v0', 'k', 't']\n",
    "result = result.groupby(factors, as_index=False).agg({'seconds': ['mean', 'std']})\n",
    "result.columns = [*factors, 'mean', 'std']"
   ]
  },
  {
   "cell_type": "code",
   "execution_count": 6,
   "id": "8448b88c",
   "metadata": {
    "execution": {
     "iopub.execute_input": "2022-10-25T17:11:16.818008Z",
     "iopub.status.busy": "2022-10-25T17:11:16.817815Z",
     "iopub.status.idle": "2022-10-25T17:11:16.831831Z",
     "shell.execute_reply": "2022-10-25T17:11:16.831057Z"
    }
   },
   "outputs": [
    {
     "data": {
      "text/html": [
       "<div>\n",
       "<style scoped>\n",
       "    .dataframe tbody tr th:only-of-type {\n",
       "        vertical-align: middle;\n",
       "    }\n",
       "\n",
       "    .dataframe tbody tr th {\n",
       "        vertical-align: top;\n",
       "    }\n",
       "\n",
       "    .dataframe thead th {\n",
       "        text-align: right;\n",
       "    }\n",
       "</style>\n",
       "<table border=\"1\" class=\"dataframe\">\n",
       "  <thead>\n",
       "    <tr style=\"text-align: right;\">\n",
       "      <th></th>\n",
       "      <th>m</th>\n",
       "      <th>s</th>\n",
       "      <th>v0</th>\n",
       "      <th>k</th>\n",
       "      <th>t</th>\n",
       "      <th>mean</th>\n",
       "      <th>std</th>\n",
       "      <th>MSE</th>\n",
       "    </tr>\n",
       "  </thead>\n",
       "  <tbody>\n",
       "    <tr>\n",
       "      <th>26</th>\n",
       "      <td>60</td>\n",
       "      <td>0.020</td>\n",
       "      <td>0.002</td>\n",
       "      <td>4500</td>\n",
       "      <td>290</td>\n",
       "      <td>0.009580</td>\n",
       "      <td>0.002223</td>\n",
       "      <td>0.000114</td>\n",
       "    </tr>\n",
       "    <tr>\n",
       "      <th>27</th>\n",
       "      <td>60</td>\n",
       "      <td>0.020</td>\n",
       "      <td>0.002</td>\n",
       "      <td>4500</td>\n",
       "      <td>296</td>\n",
       "      <td>0.009659</td>\n",
       "      <td>0.002783</td>\n",
       "      <td>0.000115</td>\n",
       "    </tr>\n",
       "    <tr>\n",
       "      <th>24</th>\n",
       "      <td>60</td>\n",
       "      <td>0.020</td>\n",
       "      <td>0.002</td>\n",
       "      <td>1500</td>\n",
       "      <td>290</td>\n",
       "      <td>0.009201</td>\n",
       "      <td>0.002364</td>\n",
       "      <td>0.000122</td>\n",
       "    </tr>\n",
       "    <tr>\n",
       "      <th>25</th>\n",
       "      <td>60</td>\n",
       "      <td>0.020</td>\n",
       "      <td>0.002</td>\n",
       "      <td>1500</td>\n",
       "      <td>296</td>\n",
       "      <td>0.008888</td>\n",
       "      <td>0.002322</td>\n",
       "      <td>0.000129</td>\n",
       "    </tr>\n",
       "    <tr>\n",
       "      <th>16</th>\n",
       "      <td>60</td>\n",
       "      <td>0.005</td>\n",
       "      <td>0.002</td>\n",
       "      <td>1500</td>\n",
       "      <td>290</td>\n",
       "      <td>0.023836</td>\n",
       "      <td>0.010829</td>\n",
       "      <td>0.000132</td>\n",
       "    </tr>\n",
       "  </tbody>\n",
       "</table>\n",
       "</div>"
      ],
      "text/plain": [
       "     m      s     v0     k    t      mean       std       MSE\n",
       "26  60  0.020  0.002  4500  290  0.009580  0.002223  0.000114\n",
       "27  60  0.020  0.002  4500  296  0.009659  0.002783  0.000115\n",
       "24  60  0.020  0.002  1500  290  0.009201  0.002364  0.000122\n",
       "25  60  0.020  0.002  1500  296  0.008888  0.002322  0.000129\n",
       "16  60  0.005  0.002  1500  290  0.023836  0.010829  0.000132"
      ]
     },
     "execution_count": 6,
     "metadata": {},
     "output_type": "execute_result"
    }
   ],
   "source": [
    "result['MSE'] = (result['mean'] - 0.02)**2 + result['std']**2\n",
    "result = result.sort_values('MSE')\n",
    "best_MSE = result.iloc[0,:]\n",
    "result.head()"
   ]
  },
  {
   "cell_type": "code",
   "execution_count": 7,
   "id": "ca11bc52",
   "metadata": {
    "execution": {
     "iopub.execute_input": "2022-10-25T17:11:16.834625Z",
     "iopub.status.busy": "2022-10-25T17:11:16.834076Z",
     "iopub.status.idle": "2022-10-25T17:11:16.840171Z",
     "shell.execute_reply": "2022-10-25T17:11:16.839390Z"
    }
   },
   "outputs": [
    {
     "data": {
      "text/plain": [
       "m         60.000000\n",
       "s          0.020000\n",
       "v0         0.002000\n",
       "k       4500.000000\n",
       "t        290.000000\n",
       "mean       0.009580\n",
       "std        0.002223\n",
       "MSE        0.000114\n",
       "Name: 26, dtype: float64"
      ]
     },
     "execution_count": 7,
     "metadata": {},
     "output_type": "execute_result"
    }
   ],
   "source": [
    "best_MSE"
   ]
  },
  {
   "cell_type": "code",
   "execution_count": 8,
   "id": "10509d2e",
   "metadata": {
    "execution": {
     "iopub.execute_input": "2022-10-25T17:11:16.842925Z",
     "iopub.status.busy": "2022-10-25T17:11:16.842410Z",
     "iopub.status.idle": "2022-10-25T17:11:16.854744Z",
     "shell.execute_reply": "2022-10-25T17:11:16.853914Z"
    }
   },
   "outputs": [
    {
     "data": {
      "text/html": [
       "<div>\n",
       "<style scoped>\n",
       "    .dataframe tbody tr th:only-of-type {\n",
       "        vertical-align: middle;\n",
       "    }\n",
       "\n",
       "    .dataframe tbody tr th {\n",
       "        vertical-align: top;\n",
       "    }\n",
       "\n",
       "    .dataframe thead th {\n",
       "        text-align: right;\n",
       "    }\n",
       "</style>\n",
       "<table border=\"1\" class=\"dataframe\">\n",
       "  <thead>\n",
       "    <tr style=\"text-align: right;\">\n",
       "      <th></th>\n",
       "      <th>m</th>\n",
       "      <th>s</th>\n",
       "      <th>v0</th>\n",
       "      <th>k</th>\n",
       "      <th>t</th>\n",
       "      <th>mean</th>\n",
       "      <th>std</th>\n",
       "      <th>MSE</th>\n",
       "      <th>SN</th>\n",
       "    </tr>\n",
       "  </thead>\n",
       "  <tbody>\n",
       "    <tr>\n",
       "      <th>29</th>\n",
       "      <td>60</td>\n",
       "      <td>0.02</td>\n",
       "      <td>0.01</td>\n",
       "      <td>1500</td>\n",
       "      <td>296</td>\n",
       "      <td>0.049291</td>\n",
       "      <td>0.003361</td>\n",
       "      <td>0.000869</td>\n",
       "      <td>23.325647</td>\n",
       "    </tr>\n",
       "    <tr>\n",
       "      <th>13</th>\n",
       "      <td>30</td>\n",
       "      <td>0.02</td>\n",
       "      <td>0.01</td>\n",
       "      <td>1500</td>\n",
       "      <td>296</td>\n",
       "      <td>0.042370</td>\n",
       "      <td>0.003010</td>\n",
       "      <td>0.000509</td>\n",
       "      <td>22.970572</td>\n",
       "    </tr>\n",
       "    <tr>\n",
       "      <th>30</th>\n",
       "      <td>60</td>\n",
       "      <td>0.02</td>\n",
       "      <td>0.01</td>\n",
       "      <td>4500</td>\n",
       "      <td>290</td>\n",
       "      <td>0.056468</td>\n",
       "      <td>0.004261</td>\n",
       "      <td>0.001348</td>\n",
       "      <td>22.445850</td>\n",
       "    </tr>\n",
       "    <tr>\n",
       "      <th>28</th>\n",
       "      <td>60</td>\n",
       "      <td>0.02</td>\n",
       "      <td>0.01</td>\n",
       "      <td>1500</td>\n",
       "      <td>290</td>\n",
       "      <td>0.049085</td>\n",
       "      <td>0.003820</td>\n",
       "      <td>0.000861</td>\n",
       "      <td>22.177197</td>\n",
       "    </tr>\n",
       "    <tr>\n",
       "      <th>31</th>\n",
       "      <td>60</td>\n",
       "      <td>0.02</td>\n",
       "      <td>0.01</td>\n",
       "      <td>4500</td>\n",
       "      <td>296</td>\n",
       "      <td>0.057546</td>\n",
       "      <td>0.004480</td>\n",
       "      <td>0.001430</td>\n",
       "      <td>22.173743</td>\n",
       "    </tr>\n",
       "  </tbody>\n",
       "</table>\n",
       "</div>"
      ],
      "text/plain": [
       "     m     s    v0     k    t      mean       std       MSE         SN\n",
       "29  60  0.02  0.01  1500  296  0.049291  0.003361  0.000869  23.325647\n",
       "13  30  0.02  0.01  1500  296  0.042370  0.003010  0.000509  22.970572\n",
       "30  60  0.02  0.01  4500  290  0.056468  0.004261  0.001348  22.445850\n",
       "28  60  0.02  0.01  1500  290  0.049085  0.003820  0.000861  22.177197\n",
       "31  60  0.02  0.01  4500  296  0.057546  0.004480  0.001430  22.173743"
      ]
     },
     "execution_count": 8,
     "metadata": {},
     "output_type": "execute_result"
    }
   ],
   "source": [
    "result['SN'] = 10 * np.log10(result['mean']**2 / result['std']**2 - 1/100)\n",
    "result = result.sort_values('SN', ascending=False).head()\n",
    "best_SN = result.iloc[0,:]\n",
    "result.head()"
   ]
  },
  {
   "cell_type": "code",
   "execution_count": 9,
   "id": "c12457c3",
   "metadata": {
    "execution": {
     "iopub.execute_input": "2022-10-25T17:11:16.857352Z",
     "iopub.status.busy": "2022-10-25T17:11:16.857135Z",
     "iopub.status.idle": "2022-10-25T17:11:16.862351Z",
     "shell.execute_reply": "2022-10-25T17:11:16.861635Z"
    }
   },
   "outputs": [
    {
     "data": {
      "text/plain": [
       "m         60.000000\n",
       "s          0.020000\n",
       "v0         0.010000\n",
       "k       1500.000000\n",
       "t        296.000000\n",
       "mean       0.049291\n",
       "std        0.003361\n",
       "MSE        0.000869\n",
       "SN        23.325647\n",
       "Name: 29, dtype: float64"
      ]
     },
     "execution_count": 9,
     "metadata": {},
     "output_type": "execute_result"
    }
   ],
   "source": [
    "best_SN"
   ]
  },
  {
   "cell_type": "markdown",
   "id": "f6112b95",
   "metadata": {},
   "source": [
    "# Exercise 2"
   ]
  },
  {
   "cell_type": "code",
   "execution_count": 10,
   "id": "929a9063",
   "metadata": {
    "execution": {
     "iopub.execute_input": "2022-10-25T17:11:16.865140Z",
     "iopub.status.busy": "2022-10-25T17:11:16.864599Z",
     "iopub.status.idle": "2022-10-25T17:11:16.903794Z",
     "shell.execute_reply": "2022-10-25T17:11:16.902926Z"
    }
   },
   "outputs": [],
   "source": [
    "np.random.seed(1)\n",
    "\n",
    "# Build design from factors\n",
    "FacDesign = doe.full_fact({\n",
    "    'm': [30, 60],\n",
    "    's': [0.005, 0.02],\n",
    "    'v0': [0.002, 0.01],\n",
    "    'k': [1500, 4500],\n",
    "    't': [290, 296],\n",
    "    'p0': [90_000, 110_000],\n",
    "    't0': [340, 360],\n",
    "})\n",
    "\n",
    "# Randomize design\n",
    "FacDesign = FacDesign.sample(frac=1).reset_index(drop=True)\n",
    "\n",
    "# Setup and run simulator with five replicates \n",
    "# for each combination of factors\n",
    "simulator = mistat.PistonSimulator(n_replicate=100, **FacDesign)\n",
    "result = simulator.simulate()\n",
    "factors = ['m', 's', 'v0', 'k', 't', 'p0', 't0']\n",
    "result = result.groupby(factors, as_index=False).agg({'seconds': ['mean', 'std']})\n",
    "result.columns = [*factors, 'mean', 'std']\n",
    "result['SN'] = 10 * np.log10(result['mean']**2 / result['std']**2 - 1/100)"
   ]
  },
  {
   "cell_type": "code",
   "execution_count": 11,
   "id": "0b9cd283",
   "metadata": {
    "execution": {
     "iopub.execute_input": "2022-10-25T17:11:16.907136Z",
     "iopub.status.busy": "2022-10-25T17:11:16.906885Z",
     "iopub.status.idle": "2022-10-25T17:11:16.940602Z",
     "shell.execute_reply": "2022-10-25T17:11:16.939663Z"
    }
   },
   "outputs": [
    {
     "name": "stdout",
     "output_type": "stream",
     "text": [
      "                 Results: Ordinary least squares\n",
      "=================================================================\n",
      "Model:              OLS              Adj. R-squared:     0.899   \n",
      "Dependent Variable: SN               AIC:                522.9904\n",
      "Date:               2022-10-25 17:11 BIC:                545.8067\n",
      "No. Observations:   128              Log-Likelihood:     -253.50 \n",
      "Df Model:           7                F-statistic:        163.3   \n",
      "Df Residuals:       120              Prob (F-statistic): 3.28e-58\n",
      "R-squared:          0.905            Scale:              3.2790  \n",
      "-----------------------------------------------------------------\n",
      "               Coef.   Std.Err.    t    P>|t|   [0.025    0.975] \n",
      "-----------------------------------------------------------------\n",
      "Intercept       5.0686  16.6968  0.3036 0.7620 -27.9899   38.1271\n",
      "m              -0.0094   0.0107 -0.8845 0.3782  -0.0306    0.0117\n",
      "s             484.4714  21.3403 22.7021 0.0000 442.2191  526.7238\n",
      "k               0.0001   0.0001  0.5709 0.5691  -0.0002    0.0003\n",
      "t               0.0012   0.0534  0.0217 0.9827  -0.1045    0.1068\n",
      "v0           1001.1879  40.0131 25.0215 0.0000 921.9647 1080.4112\n",
      "p0             -0.0000   0.0000 -0.2122 0.8323  -0.0000    0.0000\n",
      "t0             -0.0095   0.0160 -0.5949 0.5530  -0.0412    0.0222\n",
      "-----------------------------------------------------------------\n",
      "Omnibus:              10.591      Durbin-Watson:         0.520   \n",
      "Prob(Omnibus):        0.005       Jarque-Bera (JB):      4.418   \n",
      "Skew:                 -0.164      Prob(JB):              0.110   \n",
      "Kurtosis:             2.151       Condition No.:         25136579\n",
      "=================================================================\n",
      "* The condition number is large (3e+07). This might indicate\n",
      "strong multicollinearity or other numerical problems.\n"
     ]
    }
   ],
   "source": [
    "model = smf.ols('SN ~ m + s + k + t + v0 + p0 + t0', data=result).fit()\n",
    "print(model.summary2())"
   ]
  },
  {
   "cell_type": "code",
   "execution_count": 12,
   "id": "9f41133a",
   "metadata": {
    "execution": {
     "iopub.execute_input": "2022-10-25T17:11:16.943540Z",
     "iopub.status.busy": "2022-10-25T17:11:16.943169Z",
     "iopub.status.idle": "2022-10-25T17:11:16.967775Z",
     "shell.execute_reply": "2022-10-25T17:11:16.966975Z"
    }
   },
   "outputs": [
    {
     "name": "stdout",
     "output_type": "stream",
     "text": [
      "                  Results: Ordinary least squares\n",
      "===================================================================\n",
      "Model:                OLS              Adj. R-squared:     0.964   \n",
      "Dependent Variable:   SN               AIC:                388.4606\n",
      "Date:                 2022-10-25 17:11 BIC:                399.8687\n",
      "No. Observations:     128              Log-Likelihood:     -190.23 \n",
      "Df Model:             3                F-statistic:        1128.   \n",
      "Df Residuals:         124              Prob (F-statistic): 8.90e-90\n",
      "R-squared:            0.965            Scale:              1.1808  \n",
      "-------------------------------------------------------------------\n",
      "            Coef.     Std.Err.    t    P>|t|    [0.025     0.975]  \n",
      "-------------------------------------------------------------------\n",
      "Intercept     5.0013    0.3365 14.8604 0.0000     4.3351     5.6674\n",
      "s           203.8500   23.0871  8.8296 0.0000   158.1541   249.5459\n",
      "v0          416.5600   46.6710  8.9254 0.0000   324.1849   508.9350\n",
      "s:v0      46770.2389 3201.6068 14.6084 0.0000 40433.3622 53107.1157\n",
      "-------------------------------------------------------------------\n",
      "Omnibus:               0.674         Durbin-Watson:           1.053\n",
      "Prob(Omnibus):         0.714         Jarque-Bera (JB):        0.303\n",
      "Skew:                  -0.032        Prob(JB):                0.859\n",
      "Kurtosis:              3.229         Condition No.:           33340\n",
      "===================================================================\n",
      "* The condition number is large (3e+04). This might indicate\n",
      "strong multicollinearity or other numerical problems.\n"
     ]
    }
   ],
   "source": [
    "model = smf.ols('SN ~ s + v0 + s*v0', data=result).fit()\n",
    "print(model.summary2())"
   ]
  },
  {
   "cell_type": "markdown",
   "id": "743ec259",
   "metadata": {},
   "source": [
    "# Exercise 6"
   ]
  },
  {
   "cell_type": "code",
   "execution_count": 13,
   "id": "7407bc13",
   "metadata": {
    "execution": {
     "iopub.execute_input": "2022-10-25T17:11:16.971044Z",
     "iopub.status.busy": "2022-10-25T17:11:16.970407Z",
     "iopub.status.idle": "2022-10-25T17:11:16.978236Z",
     "shell.execute_reply": "2022-10-25T17:11:16.977409Z"
    }
   },
   "outputs": [],
   "source": [
    "df = pd.DataFrame([\n",
    "  [1, 1, 1, 1, 1, 1, 1, 1, 2.5, 0.0827],\n",
    "  [1, 1, 2, 2, 2, 2, 2, 2, 2.684, 0.1196],\n",
    "  [1, 1, 3, 3, 3, 3, 3, 3, 2.66, 0.1722],\n",
    "  [1, 2, 1, 1, 2, 2, 3, 3, 1.962, 0.1696],\n",
    "  [1, 2, 2, 2, 3, 3, 1, 1, 1.87, 0.1168],\n",
    "  [1, 2, 3, 3, 1, 1, 2, 2, 2.584, 0.1106],\n",
    "  [1, 3, 1, 2, 1, 3, 2, 3, 2.032, 0.0718],\n",
    "  [1, 3, 2, 3, 2, 1, 3, 1, 3.267, 0.2101],\n",
    "  [1, 3, 3, 1, 3, 2, 1, 2, 2.829, 0.1516],\n",
    "  [2, 1, 1, 3, 3, 2, 2, 1, 2.66, 0.1912],\n",
    "  [2, 1, 2, 1, 1, 3, 3, 2, 3.166, 0.0674],\n",
    "  [2, 1, 3, 2, 2, 1, 1, 3, 3.323, 0.1274],\n",
    "  [2, 2, 1, 2, 3, 1, 3, 2, 2.576, 0.085],\n",
    "  [2, 2, 2, 3, 1, 2, 1, 3, 2.308, 0.0964],\n",
    "  [2, 2, 3, 1, 2, 3, 2, 1, 2.464, 0.0385],\n",
    "  [2, 3, 1, 3, 2, 3, 1, 2, 2.667, 0.0706],\n",
    "  [2, 3, 2, 1, 3, 1, 2, 3, 3.156, 0.1569],\n",
    "  [2, 3, 3, 2, 1, 2, 3, 1, 3.494, 0.0473],\n",
    "], columns=['F1', 'F2', 'F3', 'F4', 'F5', \n",
    "            'F6', 'F7', 'F8', 'Xbar', 'S'])"
   ]
  },
  {
   "cell_type": "code",
   "execution_count": 14,
   "id": "374894cc",
   "metadata": {
    "execution": {
     "iopub.execute_input": "2022-10-25T17:11:16.981001Z",
     "iopub.status.busy": "2022-10-25T17:11:16.980779Z",
     "iopub.status.idle": "2022-10-25T17:11:16.989369Z",
     "shell.execute_reply": "2022-10-25T17:11:16.988717Z"
    }
   },
   "outputs": [],
   "source": [
    "df['F1'] = (df['F1']-1)*2-1\n",
    "for column in ['F2', 'F3', 'F4', 'F5', 'F6', 'F7', 'F8']:\n",
    "    df[column] = df[column] - 2\n",
    "df['SNR'] = np.log(df['Xbar'] / df['S'])"
   ]
  },
  {
   "cell_type": "code",
   "execution_count": 15,
   "id": "0fce0a74",
   "metadata": {
    "execution": {
     "iopub.execute_input": "2022-10-25T17:11:16.991630Z",
     "iopub.status.busy": "2022-10-25T17:11:16.991423Z",
     "iopub.status.idle": "2022-10-25T17:11:17.007412Z",
     "shell.execute_reply": "2022-10-25T17:11:17.006645Z"
    }
   },
   "outputs": [],
   "source": [
    "model = smf.ols('SNR ~ F1 + F2 + F3 + F4 + F5 + F6 + F7 + F8', data=df).fit()"
   ]
  },
  {
   "cell_type": "code",
   "execution_count": 16,
   "id": "54569143",
   "metadata": {
    "execution": {
     "iopub.execute_input": "2022-10-25T17:11:17.010046Z",
     "iopub.status.busy": "2022-10-25T17:11:17.009555Z",
     "iopub.status.idle": "2022-10-25T17:11:17.012919Z",
     "shell.execute_reply": "2022-10-25T17:11:17.012249Z"
    }
   },
   "outputs": [],
   "source": [
    "# Ignore user warning thrown here\n",
    "warnings.filterwarnings('ignore', category=UserWarning)"
   ]
  },
  {
   "cell_type": "code",
   "execution_count": 17,
   "id": "be4e0752",
   "metadata": {
    "execution": {
     "iopub.execute_input": "2022-10-25T17:11:17.015630Z",
     "iopub.status.busy": "2022-10-25T17:11:17.014994Z",
     "iopub.status.idle": "2022-10-25T17:11:17.026986Z",
     "shell.execute_reply": "2022-10-25T17:11:17.026112Z"
    }
   },
   "outputs": [
    {
     "name": "stdout",
     "output_type": "stream",
     "text": [
      "             Coef.  Std.Err.         t    P>|t|   [0.025   0.975]\n",
      "Intercept  3.22601   0.07518  42.90997  0.00000  3.05594  3.39608\n",
      "F1         0.26565   0.07518   3.53348  0.00638  0.09558  0.43572\n",
      "F2         0.07900   0.09208   0.85797  0.41317 -0.12929  0.28729\n",
      "F3         0.13848   0.09208   1.50392  0.16686 -0.06982  0.34677\n",
      "F4        -0.14339   0.09208  -1.55733  0.15382 -0.35169  0.06490\n",
      "F5        -0.31231   0.09208  -3.39185  0.00798 -0.52061 -0.10402\n",
      "F6         0.12630   0.09208   1.37164  0.20340 -0.08200  0.33459\n",
      "F7         0.02632   0.09208   0.28587  0.78145 -0.18197  0.23462\n",
      "F8        -0.17109   0.09208  -1.85810  0.09610 -0.37938  0.03720\n"
     ]
    }
   ],
   "source": [
    "print(model.summary2().tables[1].round(5))"
   ]
  },
  {
   "cell_type": "code",
   "execution_count": 18,
   "id": "97fb16ad",
   "metadata": {
    "execution": {
     "iopub.execute_input": "2022-10-25T17:11:17.030206Z",
     "iopub.status.busy": "2022-10-25T17:11:17.029433Z",
     "iopub.status.idle": "2022-10-25T17:11:17.033356Z",
     "shell.execute_reply": "2022-10-25T17:11:17.032653Z"
    }
   },
   "outputs": [],
   "source": [
    "warnings.filterwarnings('default', category=UserWarning)"
   ]
  },
  {
   "cell_type": "markdown",
   "id": "c20f64b5",
   "metadata": {},
   "source": [
    "# Exercise 7"
   ]
  },
  {
   "cell_type": "code",
   "execution_count": 19,
   "id": "afdc0204",
   "metadata": {
    "execution": {
     "iopub.execute_input": "2022-10-25T17:11:17.036268Z",
     "iopub.status.busy": "2022-10-25T17:11:17.035658Z",
     "iopub.status.idle": "2022-10-25T17:11:17.039338Z",
     "shell.execute_reply": "2022-10-25T17:11:17.038633Z"
    }
   },
   "outputs": [],
   "source": [
    "generators = {\n",
    "    '2_7': 'A B C D E F G',\n",
    "    '2_7_1': 'A B C D E F G ABCDEFG',\n",
    "    '2_7_2': 'A B C D E F G ABCDF ABDEG',\n",
    "    '2_7_3': 'A B C D E F G ABCE BCDF ACDG',\n",
    "}"
   ]
  },
  {
   "cell_type": "code",
   "execution_count": 20,
   "id": "71fd2107",
   "metadata": {
    "execution": {
     "iopub.execute_input": "2022-10-25T17:11:17.042082Z",
     "iopub.status.busy": "2022-10-25T17:11:17.041570Z",
     "iopub.status.idle": "2022-10-25T17:11:17.052197Z",
     "shell.execute_reply": "2022-10-25T17:11:17.051471Z"
    }
   },
   "outputs": [],
   "source": [
    "designs = {}\n",
    "for name, generator in generators.items():\n",
    "  designs[name] = pd.DataFrame(fracfact(generator), columns=generator.split())\n",
    "\n",
    "# reduce the fractional factorial designs to a single block\n",
    "designs['2_7_1'] = designs['2_7_1'].query('ABCDEFG == 1')\n",
    "designs['2_7_2'] = designs['2_7_2'].query('ABCDF == 1 & ABDEG == 1')\n",
    "designs['2_7_3'] = designs['2_7_3'].query('ABCE == 1 & BCDF == 1 & ACDG == 1')"
   ]
  },
  {
   "cell_type": "code",
   "execution_count": 21,
   "id": "e5197de0",
   "metadata": {
    "execution": {
     "iopub.execute_input": "2022-10-25T17:11:17.055146Z",
     "iopub.status.busy": "2022-10-25T17:11:17.054533Z",
     "iopub.status.idle": "2022-10-25T17:11:17.063672Z",
     "shell.execute_reply": "2022-10-25T17:11:17.062893Z"
    }
   },
   "outputs": [],
   "source": [
    "FacLevels = {\n",
    "    'm': [30, 60],\n",
    "    's': [0.005, 0.02],\n",
    "    'v0': [0.002, 0.01],\n",
    "    'k': [1500, 4500],\n",
    "    't': [290, 296],\n",
    "    'p0': [90_000, 110_000],\n",
    "    't0': [340, 360],\n",
    "}\n",
    "FacMap = {'A': 'm', 'B': 's', 'C': 'v0', 'D': 'k', \n",
    "          'E': 't', 'F': 'p0', 'G': 't0'}\n",
    "\n",
    "for name, design in designs.items():\n",
    "    # replace (-1, 1) with factor levels\n",
    "    facDesign = {}\n",
    "    for colname in design:\n",
    "        if colname not in FacMap: # skip generators\n",
    "            continue\n",
    "        factor = FacMap[colname]\n",
    "        levels = FacLevels[factor]\n",
    "        facDesign[factor] = [levels[max(0, int(v))] for v in design[colname]]\n",
    "    designs[name] = pd.DataFrame(facDesign)"
   ]
  },
  {
   "cell_type": "code",
   "execution_count": 22,
   "id": "7d47c3f1",
   "metadata": {
    "execution": {
     "iopub.execute_input": "2022-10-25T17:11:17.066534Z",
     "iopub.status.busy": "2022-10-25T17:11:17.065859Z",
     "iopub.status.idle": "2022-10-25T17:11:17.098573Z",
     "shell.execute_reply": "2022-10-25T17:11:17.097537Z"
    }
   },
   "outputs": [],
   "source": [
    "results = {}\n",
    "for name, design in designs.items():\n",
    "    np.random.seed(1)\n",
    "    # Setup and run simulator \n",
    "    simulator = mistat.PistonSimulator(n_replicate=5, **design)\n",
    "    result = simulator.simulate()\n",
    "    factors = list(FacLevels)\n",
    "    result = result.groupby(factors, as_index=False).agg({'seconds': ['mean', 'std']})\n",
    "    result.columns = [*factors, 'mean', 'std']\n",
    "    result['SN'] = np.log10(result['mean']**2 / result['std']**2)\n",
    "    results[name] = result"
   ]
  },
  {
   "cell_type": "code",
   "execution_count": 23,
   "id": "17471c39",
   "metadata": {
    "execution": {
     "iopub.execute_input": "2022-10-25T17:11:17.101729Z",
     "iopub.status.busy": "2022-10-25T17:11:17.101497Z",
     "iopub.status.idle": "2022-10-25T17:11:17.142392Z",
     "shell.execute_reply": "2022-10-25T17:11:17.141194Z"
    }
   },
   "outputs": [],
   "source": [
    "models = {}\n",
    "for name, result in results.items():\n",
    "    model = smf.ols('mean ~ m + s + k + t + v0 + p0 + t0', data=result).fit()\n",
    "    models[name] = model"
   ]
  },
  {
   "cell_type": "code",
   "execution_count": 24,
   "id": "39539acb",
   "metadata": {
    "execution": {
     "iopub.execute_input": "2022-10-25T17:11:17.145372Z",
     "iopub.status.busy": "2022-10-25T17:11:17.145177Z",
     "iopub.status.idle": "2022-10-25T17:11:17.150462Z",
     "shell.execute_reply": "2022-10-25T17:11:17.149663Z"
    }
   },
   "outputs": [
    {
     "name": "stdout",
     "output_type": "stream",
     "text": [
      "2_7       : r2=0.769, r2_adj=0.755\n",
      "2_7_1     : r2=0.777, r2_adj=0.749\n",
      "2_7_2     : r2=0.765, r2_adj=0.697\n",
      "2_7_3     : r2=0.788, r2_adj=0.602\n"
     ]
    }
   ],
   "source": [
    "for name, model in models.items():\n",
    "    print(f'{name:10s}: r2={model.rsquared:.3f}, r2_adj={model.rsquared_adj:.3f}')"
   ]
  },
  {
   "cell_type": "code",
   "execution_count": 25,
   "id": "8a7e2b48",
   "metadata": {
    "execution": {
     "iopub.execute_input": "2022-10-25T17:11:17.152857Z",
     "iopub.status.busy": "2022-10-25T17:11:17.152667Z",
     "iopub.status.idle": "2022-10-25T17:11:17.188979Z",
     "shell.execute_reply": "2022-10-25T17:11:17.188206Z"
    }
   },
   "outputs": [
    {
     "name": "stdout",
     "output_type": "stream",
     "text": [
      "2_7\n",
      "             Coef.  Std.Err.        t   P>|t|   [0.025   0.975]\n",
      "Intercept   0.2183    0.4116   0.5304  0.5968  -0.5967   1.0333\n",
      "m           0.0005    0.0003   2.0359  0.0440   0.0000   0.0011\n",
      "s          -6.8075    0.5261 -12.9393  0.0000  -7.8492  -5.7658\n",
      "k           0.0000    0.0000   1.6946  0.0927  -0.0000   0.0000\n",
      "t          -0.0004    0.0013  -0.3135  0.7544  -0.0030   0.0022\n",
      "v0         14.7097    0.9865  14.9116  0.0000  12.7566  16.6628\n",
      "p0         -0.0000    0.0000  -1.3802  0.1701  -0.0000   0.0000\n",
      "t0         -0.0000    0.0004  -0.0287  0.9771  -0.0008   0.0008\n",
      "2_7_1\n",
      "             Coef.  Std.Err.        t   P>|t|   [0.025   0.975]\n",
      "Intercept  -0.1876    0.5760  -0.3257  0.7458  -1.3416   0.9663\n",
      "m           0.0006    0.0004   1.6551  0.1035  -0.0001   0.0013\n",
      "s          -6.5822    0.7362  -8.9401  0.0000  -8.0571  -5.1073\n",
      "k           0.0000    0.0000   1.0515  0.2975  -0.0000   0.0000\n",
      "t           0.0006    0.0018   0.3090  0.7585  -0.0031   0.0043\n",
      "v0         14.4861    1.3805  10.4936  0.0000  11.7207  17.2515\n",
      "p0         -0.0000    0.0000  -0.7496  0.4566  -0.0000   0.0000\n",
      "t0          0.0003    0.0006   0.5019  0.6177  -0.0008   0.0014\n",
      "2_7_2\n"
     ]
    },
    {
     "name": "stdout",
     "output_type": "stream",
     "text": [
      "             Coef.  Std.Err.       t   P>|t|   [0.025   0.975]\n",
      "Intercept   0.3676    0.9370  0.3923  0.6983  -1.5663   2.3014\n",
      "m           0.0005    0.0006  0.7528  0.4589  -0.0008   0.0017\n",
      "s          -6.8111    1.1976 -5.6874  0.0000  -9.2828  -4.3394\n",
      "k           0.0000    0.0000  0.4662  0.6453  -0.0000   0.0000\n",
      "t          -0.0014    0.0030 -0.4713  0.6417  -0.0076   0.0048\n",
      "v0         14.9546    2.2454  6.6600  0.0000  10.3202  19.5890\n",
      "p0         -0.0000    0.0000 -0.5629  0.5787  -0.0000   0.0000\n",
      "t0          0.0004    0.0009  0.4529  0.6547  -0.0014   0.0023\n",
      "2_7_3\n",
      "             Coef.  Std.Err.       t   P>|t|   [0.025   0.975]\n",
      "Intercept   0.1662    1.4378  0.1156  0.9108  -3.1494   3.4818\n",
      "m           0.0003    0.0009  0.3306  0.7494  -0.0018   0.0024\n",
      "s          -6.3784    1.8377 -3.4709  0.0084 -10.6161  -2.1407\n",
      "k           0.0000    0.0000  0.4130  0.6905  -0.0000   0.0000\n",
      "t          -0.0005    0.0046 -0.1158  0.9107  -0.0111   0.0101\n",
      "v0         14.3326    3.4457  4.1596  0.0032   6.3869  22.2784\n",
      "p0         -0.0000    0.0000 -0.1167  0.9100  -0.0000   0.0000\n",
      "t0          0.0001    0.0014  0.1067  0.9177  -0.0030   0.0033\n"
     ]
    },
    {
     "name": "stderr",
     "output_type": "stream",
     "text": [
      "/usr/local/lib/python3.9/site-packages/scipy/stats/_stats_py.py:1772: UserWarning: kurtosistest only valid for n>=20 ... continuing anyway, n=16\n",
      "  warnings.warn(\"kurtosistest only valid for n>=20 ... continuing \"\n"
     ]
    }
   ],
   "source": [
    "for name, model in models.items():\n",
    "    print(name)\n",
    "    print(model.summary2().tables[1].round(4))"
   ]
  },
  {
   "cell_type": "markdown",
   "id": "af8370ee",
   "metadata": {},
   "source": [
    "# Exercise 9"
   ]
  },
  {
   "cell_type": "code",
   "execution_count": 26,
   "id": "df6429fc",
   "metadata": {
    "execution": {
     "iopub.execute_input": "2022-10-25T17:11:17.192675Z",
     "iopub.status.busy": "2022-10-25T17:11:17.191858Z",
     "iopub.status.idle": "2022-10-25T17:11:17.245017Z",
     "shell.execute_reply": "2022-10-25T17:11:17.243960Z"
    }
   },
   "outputs": [
    {
     "data": {
      "text/html": [
       "<div>\n",
       "<style scoped>\n",
       "    .dataframe tbody tr th:only-of-type {\n",
       "        vertical-align: middle;\n",
       "    }\n",
       "\n",
       "    .dataframe tbody tr th {\n",
       "        vertical-align: top;\n",
       "    }\n",
       "\n",
       "    .dataframe thead th {\n",
       "        text-align: right;\n",
       "    }\n",
       "</style>\n",
       "<table border=\"1\" class=\"dataframe\">\n",
       "  <thead>\n",
       "    <tr style=\"text-align: right;\">\n",
       "      <th></th>\n",
       "      <th>mean</th>\n",
       "      <th>std</th>\n",
       "      <th>MSE</th>\n",
       "    </tr>\n",
       "  </thead>\n",
       "  <tbody>\n",
       "    <tr>\n",
       "      <th>0</th>\n",
       "      <td>229.952660</td>\n",
       "      <td>1.239031</td>\n",
       "      <td>1.519846</td>\n",
       "    </tr>\n",
       "    <tr>\n",
       "      <th>1</th>\n",
       "      <td>230.061268</td>\n",
       "      <td>1.247408</td>\n",
       "      <td>1.540467</td>\n",
       "    </tr>\n",
       "    <tr>\n",
       "      <th>2</th>\n",
       "      <td>229.956442</td>\n",
       "      <td>1.175165</td>\n",
       "      <td>1.367202</td>\n",
       "    </tr>\n",
       "    <tr>\n",
       "      <th>3</th>\n",
       "      <td>230.002957</td>\n",
       "      <td>1.071569</td>\n",
       "      <td>1.136778</td>\n",
       "    </tr>\n",
       "    <tr>\n",
       "      <th>4</th>\n",
       "      <td>230.189922</td>\n",
       "      <td>1.238505</td>\n",
       "      <td>1.518555</td>\n",
       "    </tr>\n",
       "    <tr>\n",
       "      <th>5</th>\n",
       "      <td>229.811038</td>\n",
       "      <td>1.378896</td>\n",
       "      <td>1.882342</td>\n",
       "    </tr>\n",
       "    <tr>\n",
       "      <th>6</th>\n",
       "      <td>230.020092</td>\n",
       "      <td>1.276255</td>\n",
       "      <td>1.612537</td>\n",
       "    </tr>\n",
       "    <tr>\n",
       "      <th>7</th>\n",
       "      <td>230.069781</td>\n",
       "      <td>1.341914</td>\n",
       "      <td>1.782726</td>\n",
       "    </tr>\n",
       "    <tr>\n",
       "      <th>8</th>\n",
       "      <td>229.896648</td>\n",
       "      <td>1.132489</td>\n",
       "      <td>1.269705</td>\n",
       "    </tr>\n",
       "    <tr>\n",
       "      <th>9</th>\n",
       "      <td>230.078890</td>\n",
       "      <td>1.231510</td>\n",
       "      <td>1.501450</td>\n",
       "    </tr>\n",
       "    <tr>\n",
       "      <th>10</th>\n",
       "      <td>229.999059</td>\n",
       "      <td>0.801640</td>\n",
       "      <td>0.636201</td>\n",
       "    </tr>\n",
       "    <tr>\n",
       "      <th>11</th>\n",
       "      <td>230.039024</td>\n",
       "      <td>1.351770</td>\n",
       "      <td>1.809010</td>\n",
       "    </tr>\n",
       "    <tr>\n",
       "      <th>12</th>\n",
       "      <td>230.078307</td>\n",
       "      <td>1.212124</td>\n",
       "      <td>1.454551</td>\n",
       "    </tr>\n",
       "    <tr>\n",
       "      <th>13</th>\n",
       "      <td>230.063413</td>\n",
       "      <td>1.126659</td>\n",
       "      <td>1.256667</td>\n",
       "    </tr>\n",
       "    <tr>\n",
       "      <th>14</th>\n",
       "      <td>230.199067</td>\n",
       "      <td>1.209140</td>\n",
       "      <td>1.447400</td>\n",
       "    </tr>\n",
       "    <tr>\n",
       "      <th>15</th>\n",
       "      <td>230.169439</td>\n",
       "      <td>1.241263</td>\n",
       "      <td>1.525326</td>\n",
       "    </tr>\n",
       "    <tr>\n",
       "      <th>16</th>\n",
       "      <td>229.847311</td>\n",
       "      <td>1.430404</td>\n",
       "      <td>2.025596</td>\n",
       "    </tr>\n",
       "    <tr>\n",
       "      <th>17</th>\n",
       "      <td>230.082858</td>\n",
       "      <td>1.196681</td>\n",
       "      <td>1.417725</td>\n",
       "    </tr>\n",
       "    <tr>\n",
       "      <th>18</th>\n",
       "      <td>229.863564</td>\n",
       "      <td>1.135535</td>\n",
       "      <td>1.276545</td>\n",
       "    </tr>\n",
       "    <tr>\n",
       "      <th>19</th>\n",
       "      <td>229.940238</td>\n",
       "      <td>0.990011</td>\n",
       "      <td>0.970320</td>\n",
       "    </tr>\n",
       "    <tr>\n",
       "      <th>20</th>\n",
       "      <td>229.903679</td>\n",
       "      <td>1.308186</td>\n",
       "      <td>1.694237</td>\n",
       "    </tr>\n",
       "    <tr>\n",
       "      <th>21</th>\n",
       "      <td>230.086787</td>\n",
       "      <td>1.140915</td>\n",
       "      <td>1.288671</td>\n",
       "    </tr>\n",
       "    <tr>\n",
       "      <th>22</th>\n",
       "      <td>230.080309</td>\n",
       "      <td>1.081863</td>\n",
       "      <td>1.158724</td>\n",
       "    </tr>\n",
       "    <tr>\n",
       "      <th>23</th>\n",
       "      <td>230.037336</td>\n",
       "      <td>1.203702</td>\n",
       "      <td>1.434409</td>\n",
       "    </tr>\n",
       "    <tr>\n",
       "      <th>24</th>\n",
       "      <td>230.060425</td>\n",
       "      <td>0.678781</td>\n",
       "      <td>0.456137</td>\n",
       "    </tr>\n",
       "    <tr>\n",
       "      <th>25</th>\n",
       "      <td>229.795996</td>\n",
       "      <td>1.037095</td>\n",
       "      <td>1.064811</td>\n",
       "    </tr>\n",
       "    <tr>\n",
       "      <th>26</th>\n",
       "      <td>229.931210</td>\n",
       "      <td>0.895302</td>\n",
       "      <td>0.793549</td>\n",
       "    </tr>\n",
       "    <tr>\n",
       "      <th>27</th>\n",
       "      <td>229.949907</td>\n",
       "      <td>1.150458</td>\n",
       "      <td>1.310319</td>\n",
       "    </tr>\n",
       "    <tr>\n",
       "      <th>28</th>\n",
       "      <td>229.958535</td>\n",
       "      <td>1.345003</td>\n",
       "      <td>1.790943</td>\n",
       "    </tr>\n",
       "    <tr>\n",
       "      <th>29</th>\n",
       "      <td>229.970812</td>\n",
       "      <td>1.046762</td>\n",
       "      <td>1.084753</td>\n",
       "    </tr>\n",
       "    <tr>\n",
       "      <th>30</th>\n",
       "      <td>229.874653</td>\n",
       "      <td>1.285508</td>\n",
       "      <td>1.636005</td>\n",
       "    </tr>\n",
       "    <tr>\n",
       "      <th>31</th>\n",
       "      <td>229.972208</td>\n",
       "      <td>0.968239</td>\n",
       "      <td>0.928112</td>\n",
       "    </tr>\n",
       "  </tbody>\n",
       "</table>\n",
       "</div>"
      ],
      "text/plain": [
       "          mean       std       MSE\n",
       "0   229.952660  1.239031  1.519846\n",
       "1   230.061268  1.247408  1.540467\n",
       "2   229.956442  1.175165  1.367202\n",
       "3   230.002957  1.071569  1.136778\n",
       "4   230.189922  1.238505  1.518555\n",
       "5   229.811038  1.378896  1.882342\n",
       "6   230.020092  1.276255  1.612537\n",
       "7   230.069781  1.341914  1.782726\n",
       "8   229.896648  1.132489  1.269705\n",
       "9   230.078890  1.231510  1.501450\n",
       "10  229.999059  0.801640  0.636201\n",
       "11  230.039024  1.351770  1.809010\n",
       "12  230.078307  1.212124  1.454551\n",
       "13  230.063413  1.126659  1.256667\n",
       "14  230.199067  1.209140  1.447400\n",
       "15  230.169439  1.241263  1.525326\n",
       "16  229.847311  1.430404  2.025596\n",
       "17  230.082858  1.196681  1.417725\n",
       "18  229.863564  1.135535  1.276545\n",
       "19  229.940238  0.990011  0.970320\n",
       "20  229.903679  1.308186  1.694237\n",
       "21  230.086787  1.140915  1.288671\n",
       "22  230.080309  1.081863  1.158724\n",
       "23  230.037336  1.203702  1.434409\n",
       "24  230.060425  0.678781  0.456137\n",
       "25  229.795996  1.037095  1.064811\n",
       "26  229.931210  0.895302  0.793549\n",
       "27  229.949907  1.150458  1.310319\n",
       "28  229.958535  1.345003  1.790943\n",
       "29  229.970812  1.046762  1.084753\n",
       "30  229.874653  1.285508  1.636005\n",
       "31  229.972208  0.968239  0.928112"
      ]
     },
     "execution_count": 26,
     "metadata": {},
     "output_type": "execute_result"
    }
   ],
   "source": [
    "tolerances = [f'tl{c}' for c in 'ABCDEFGHIJKLM']\n",
    "factors = {tl: [1, 2] for tl in tolerances}\n",
    "Design = doe.frac_fact_res(factors, 4)\n",
    "\n",
    "# Randomize and create replicates\n",
    "nrepeat = 100\n",
    "Design = Design.sample(frac=1).reset_index(drop=True)\n",
    "Design = Design.loc[Design.index.repeat(nrepeat)].reset_index(drop=True)\n",
    "\n",
    "# Run simulation\n",
    "simulator = mistat.PowerCircuitSimulation(**{k: list(Design[k]) for k in Design})\n",
    "result = simulator.simulate()\n",
    "result = mistat.simulationGroup(result, nrepeat)\n",
    "\n",
    "# Combine results with the Design matrix\n",
    "Design['response'] = result['volts']\n",
    "Design['group'] = result['group']\n",
    "\n",
    "# calculate mean, standard deviation, and MSE\n",
    "def groupAggregation(g):\n",
    "    return {\n",
    "        'mean': g['response'].mean(),\n",
    "        'std': g['response'].std(),\n",
    "        'MSE': g['response'].var(ddof=0),\n",
    "    }\n",
    "results = pd.DataFrame(list(Design.groupby('group').apply(groupAggregation)))\n",
    "results"
   ]
  }
 ],
 "metadata": {
  "language_info": {
   "codemirror_mode": {
    "name": "ipython",
    "version": 3
   },
   "file_extension": ".py",
   "mimetype": "text/x-python",
   "name": "python",
   "nbconvert_exporter": "python",
   "pygments_lexer": "ipython3",
   "version": "3.9.15"
  }
 },
 "nbformat": 4,
 "nbformat_minor": 5
}
