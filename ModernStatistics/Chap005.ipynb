{
 "cells": [
  {
   "cell_type": "markdown",
   "id": "c2f98430",
   "metadata": {},
   "source": [
    "# Chapter 5 \n",
    " Modern Statistics: A Computer Based Approach with Python<br>\n",
    "by Ron Kenett, Shelemyahu Zacks, Peter Gedeck\n",
    "\n",
    "Publisher: Springer International Publishing; 1st edition (September 15, 2022) <br>\n",
    "ISBN-13: 978-3031075650\n",
    "\n",
    "(c) 2022 Ron Kenett, Shelemyahu Zacks, Peter Gedeck\n",
    "\n",
    "The code needs to be executed in sequence."
   ]
  },
  {
   "cell_type": "code",
   "execution_count": 1,
   "id": "3cebdf4e",
   "metadata": {
    "execution": {
     "iopub.execute_input": "2022-07-18T17:01:01.250940Z",
     "iopub.status.busy": "2022-07-18T17:01:01.250576Z",
     "iopub.status.idle": "2022-07-18T17:01:01.303721Z",
     "shell.execute_reply": "2022-07-18T17:01:01.302540Z"
    }
   },
   "outputs": [],
   "source": [
    "import os\n",
    "os.environ['OUTDATED_IGNORE'] = '1'\n",
    "import warnings\n",
    "from outdated import OutdatedPackageWarning\n",
    "warnings.filterwarnings('ignore', category=FutureWarning)\n",
    "warnings.filterwarnings('ignore', category=OutdatedPackageWarning)"
   ]
  },
  {
   "cell_type": "markdown",
   "id": "7e0c5102",
   "metadata": {},
   "source": [
    "# Sampling for Estimation of Finite Population Quantities"
   ]
  },
  {
   "cell_type": "code",
   "execution_count": 2,
   "id": "7f924e9f",
   "metadata": {
    "execution": {
     "iopub.execute_input": "2022-07-18T17:01:01.307897Z",
     "iopub.status.busy": "2022-07-18T17:01:01.307133Z",
     "iopub.status.idle": "2022-07-18T17:01:02.388348Z",
     "shell.execute_reply": "2022-07-18T17:01:02.387257Z"
    }
   },
   "outputs": [],
   "source": [
    "import random\n",
    "import numpy as np\n",
    "import pingouin as pg\n",
    "import pandas as pd\n",
    "from scipy import stats\n",
    "import matplotlib.pyplot as plt\n",
    "import mistat"
   ]
  },
  {
   "cell_type": "markdown",
   "id": "b2f8bed9",
   "metadata": {},
   "source": [
    "## Sampling and the Estimation Problem"
   ]
  },
  {
   "cell_type": "markdown",
   "id": "539198ff",
   "metadata": {},
   "source": [
    "### Basic Definitions"
   ]
  },
  {
   "cell_type": "markdown",
   "id": "4be3cfa8",
   "metadata": {},
   "source": [
    "### Drawing a Random Sample from a Finite Population"
   ]
  },
  {
   "cell_type": "code",
   "execution_count": 3,
   "id": "90d404e2",
   "metadata": {
    "execution": {
     "iopub.execute_input": "2022-07-18T17:01:02.391620Z",
     "iopub.status.busy": "2022-07-18T17:01:02.391328Z",
     "iopub.status.idle": "2022-07-18T17:01:02.401221Z",
     "shell.execute_reply": "2022-07-18T17:01:02.400396Z"
    }
   },
   "outputs": [
    {
     "data": {
      "text/plain": [
       "[14, 20, 74, 50, 40, 86, 46, 21, 66, 58]"
      ]
     },
     "execution_count": 3,
     "metadata": {},
     "output_type": "execute_result"
    }
   ],
   "source": [
    "random.sample(range(1, 101), k=10)"
   ]
  },
  {
   "cell_type": "markdown",
   "id": "a1c6fbca",
   "metadata": {},
   "source": [
    "### Sample Estimates of Population Quantities and their Sampling Distribution"
   ]
  },
  {
   "cell_type": "code",
   "execution_count": 4,
   "id": "2fe72910",
   "metadata": {
    "execution": {
     "iopub.execute_input": "2022-07-18T17:01:02.403764Z",
     "iopub.status.busy": "2022-07-18T17:01:02.403560Z",
     "iopub.status.idle": "2022-07-18T17:01:02.407518Z",
     "shell.execute_reply": "2022-07-18T17:01:02.406837Z"
    }
   },
   "outputs": [],
   "source": [
    "# range is a generator and needs to be converted to a list\n",
    "X = list(range(1, 101))\n",
    "Xsample = random.choices(X, k=20)"
   ]
  },
  {
   "cell_type": "code",
   "execution_count": 5,
   "id": "1330327e",
   "metadata": {
    "execution": {
     "iopub.execute_input": "2022-07-18T17:01:02.410051Z",
     "iopub.status.busy": "2022-07-18T17:01:02.409528Z",
     "iopub.status.idle": "2022-07-18T17:01:02.422272Z",
     "shell.execute_reply": "2022-07-18T17:01:02.421472Z"
    }
   },
   "outputs": [
    {
     "data": {
      "text/html": [
       "<div>\n",
       "<style scoped>\n",
       "    .dataframe tbody tr th:only-of-type {\n",
       "        vertical-align: middle;\n",
       "    }\n",
       "\n",
       "    .dataframe tbody tr th {\n",
       "        vertical-align: top;\n",
       "    }\n",
       "\n",
       "    .dataframe thead th {\n",
       "        text-align: right;\n",
       "    }\n",
       "</style>\n",
       "<table border=\"1\" class=\"dataframe\">\n",
       "  <thead>\n",
       "    <tr style=\"text-align: right;\">\n",
       "      <th></th>\n",
       "      <th>sample 1</th>\n",
       "      <th>sample 2</th>\n",
       "      <th>sample 3</th>\n",
       "      <th>sample 4</th>\n",
       "    </tr>\n",
       "  </thead>\n",
       "  <tbody>\n",
       "    <tr>\n",
       "      <th>mean</th>\n",
       "      <td>39.750000</td>\n",
       "      <td>43.150000</td>\n",
       "      <td>48.850000</td>\n",
       "      <td>46.650000</td>\n",
       "    </tr>\n",
       "    <tr>\n",
       "      <th>std</th>\n",
       "      <td>31.735544</td>\n",
       "      <td>23.358251</td>\n",
       "      <td>32.574247</td>\n",
       "      <td>27.522766</td>\n",
       "    </tr>\n",
       "  </tbody>\n",
       "</table>\n",
       "</div>"
      ],
      "text/plain": [
       "       sample 1   sample 2   sample 3   sample 4\n",
       "mean  39.750000  43.150000  48.850000  46.650000\n",
       "std   31.735544  23.358251  32.574247  27.522766"
      ]
     },
     "execution_count": 5,
     "metadata": {},
     "output_type": "execute_result"
    }
   ],
   "source": [
    "df = pd.DataFrame({f'sample {i}': random.choices(X, k=20)\n",
    "                  for i in range(1, 5)})\n",
    "df.agg(['mean', 'std'])"
   ]
  },
  {
   "cell_type": "code",
   "execution_count": 6,
   "id": "9edf5c61",
   "metadata": {
    "execution": {
     "iopub.execute_input": "2022-07-18T17:01:02.424764Z",
     "iopub.status.busy": "2022-07-18T17:01:02.424573Z",
     "iopub.status.idle": "2022-07-18T17:01:02.444838Z",
     "shell.execute_reply": "2022-07-18T17:01:02.444106Z"
    }
   },
   "outputs": [
    {
     "name": "stdout",
     "output_type": "stream",
     "text": [
      "Mean values of first three mean values:  [61.15 46.25 55.15]\n"
     ]
    },
    {
     "data": {
      "text/plain": [
       "(30.907, 34.529]      6\n",
       "(34.529, 38.108]     30\n",
       "(38.108, 41.688]     79\n",
       "(41.688, 45.267]    137\n",
       "(45.267, 48.846]    191\n",
       "(48.846, 52.425]    226\n",
       "(52.425, 56.004]    172\n",
       "(56.004, 59.583]    101\n",
       "(59.583, 63.163]     42\n",
       "(63.163, 66.742]     13\n",
       "(66.742, 70.321]      2\n",
       "(70.321, 73.9]        1\n",
       "dtype: int64"
      ]
     },
     "execution_count": 6,
     "metadata": {},
     "output_type": "execute_result"
    }
   ],
   "source": [
    "np.random.seed(1)\n",
    "\n",
    "X = list(range(100))\n",
    "\n",
    "# compute_bootci creates samples of the same size as the population\n",
    "# as we are interested in a smaller sample of size 20, we ignore the\n",
    "# remaining values when we calculate the mean\n",
    "def stat_func(sample):\n",
    "    return np.mean(sample[:20])\n",
    "\n",
    "B = pg.compute_bootci(X, func=stat_func, n_boot=1000,\n",
    "                      return_dist=True, seed=1)\n",
    "print('Mean values of first three mean values: ', B[1][:3])\n",
    "pd.cut(B[1], bins=12).value_counts()"
   ]
  },
  {
   "cell_type": "code",
   "execution_count": 7,
   "id": "1aa6d6c0",
   "metadata": {
    "execution": {
     "iopub.execute_input": "2022-07-18T17:01:02.447673Z",
     "iopub.status.busy": "2022-07-18T17:01:02.446998Z",
     "iopub.status.idle": "2022-07-18T17:01:02.604573Z",
     "shell.execute_reply": "2022-07-18T17:01:02.603484Z"
    }
   },
   "outputs": [
    {
     "data": {
      "image/png": "[encoded data removed]",
      "text/plain": [
       "<Figure size 432x288 with 1 Axes>"
      ]
     },
     "metadata": {
      "needs_background": "light"
     },
     "output_type": "display_data"
    }
   ],
   "source": [
    "ax = pd.Series(B[1]).hist(color='grey')\n",
    "ax.set_ylabel('Frequency')\n",
    "plt.show()"
   ]
  },
  {
   "cell_type": "markdown",
   "id": "9023b516",
   "metadata": {},
   "source": [
    "## Estimation with Simple Random Samples"
   ]
  },
  {
   "cell_type": "code",
   "execution_count": 8,
   "id": "7c21e675",
   "metadata": {
    "execution": {
     "iopub.execute_input": "2022-07-18T17:01:02.607872Z",
     "iopub.status.busy": "2022-07-18T17:01:02.607536Z",
     "iopub.status.idle": "2022-07-18T17:01:02.630726Z",
     "shell.execute_reply": "2022-07-18T17:01:02.629944Z"
    }
   },
   "outputs": [],
   "source": [
    "random.seed(2)\n",
    "population = list(range(1, 101))\n",
    "\n",
    "# create samples of size 20 and collect mean and standard deviation\n",
    "rswr = {'mean': [], 'var': []}\n",
    "rswor = {'mean': [], 'var': []}\n",
    "for _ in range(100):\n",
    "    sample = np.array(random.choices(population, k=10))\n",
    "    rswr['mean'].append(sample.mean())\n",
    "    rswr['var'].append(sample.var(ddof=1))\n",
    "\n",
    "    sample = np.array(random.sample(population, k=10))\n",
    "    rswor['mean'].append(sample.mean())\n",
    "    rswor['var'].append(sample.var(ddof=1))\n",
    "\n",
    "# calculate mean and standard deviation of sample estimates\n",
    "from collections import namedtuple\n",
    "SampleStats = namedtuple('SampleStats', 'X10,S2_10')\n",
    "def calcStats(values):\n",
    "    return SampleStats(np.mean(values), np.std(values, ddof=1))\n",
    "rswr['mean'] = calcStats(rswr['mean'])\n",
    "rswr['var'] = calcStats(rswr['var'])\n",
    "rswor['mean'] = calcStats(rswor['mean'])\n",
    "rswor['var'] = calcStats(rswor['var'])"
   ]
  },
  {
   "cell_type": "code",
   "execution_count": 9,
   "id": "9e3a0c1a",
   "metadata": {
    "execution": {
     "iopub.execute_input": "2022-07-18T17:01:02.633812Z",
     "iopub.status.busy": "2022-07-18T17:01:02.633092Z",
     "iopub.status.idle": "2022-07-18T17:01:02.638559Z",
     "shell.execute_reply": "2022-07-18T17:01:02.637811Z"
    }
   },
   "outputs": [
    {
     "name": "stdout",
     "output_type": "stream",
     "text": [
      "RSWR\n",
      " Est. mean: 51.60 / 10.684\n",
      " Est. var : 802.65 / 243.01\n",
      "RSWOR\n",
      " Est. mean: 50.44 / 8.388\n",
      " Est. var : 828.04 / 252.10\n"
     ]
    }
   ],
   "source": [
    "print('RSWR')\n",
    "print(f\" Est. mean: {rswr['mean'].X10:.2f} / {rswr['mean'].S2_10:.3f}\")\n",
    "print(f\" Est. var : {rswr['var'].X10:.2f} / {rswr['var'].S2_10:.2f}\")\n",
    "print('RSWOR')\n",
    "print(f\" Est. mean: {rswor['mean'].X10:.2f} / {rswor['mean'].S2_10:.3f}\")\n",
    "print(f\" Est. var : {rswor['var'].X10:.2f} / {rswor['var'].S2_10:.2f}\")"
   ]
  },
  {
   "cell_type": "markdown",
   "id": "6322159f",
   "metadata": {},
   "source": [
    "### Properties of $\\bar X_n$ and $S^2_n$ under RSWR"
   ]
  },
  {
   "cell_type": "code",
   "execution_count": 10,
   "id": "0ee1e0ff",
   "metadata": {
    "execution": {
     "iopub.execute_input": "2022-07-18T17:01:02.641261Z",
     "iopub.status.busy": "2022-07-18T17:01:02.640815Z",
     "iopub.status.idle": "2022-07-18T17:01:02.649738Z",
     "shell.execute_reply": "2022-07-18T17:01:02.648740Z"
    }
   },
   "outputs": [
    {
     "name": "stdout",
     "output_type": "stream",
     "text": [
      "0.9124\n",
      "2.91992\n",
      "-0.98326\n",
      "14.655\n"
     ]
    }
   ],
   "source": [
    "place = mistat.load_data('PLACE')\n",
    "xDev = place['xDev'] / 1e-3\n",
    "N = len(xDev)\n",
    "mu_N = xDev.mean()\n",
    "sigma2_N = xDev.var(ddof=0)\n",
    "mu_3N = np.sum((xDev - mu_N) ** 3) / N\n",
    "mu_4N = np.sum((xDev - mu_N) ** 4) / N\n",
    "print(mu_N.round(4))\n",
    "print(sigma2_N.round(5))\n",
    "print(mu_3N.round(5))\n",
    "print(mu_4N.round(3))"
   ]
  },
  {
   "cell_type": "markdown",
   "id": "c02e50f0",
   "metadata": {},
   "source": [
    "### Properties of $\\bar X_n$ and $S^2_n$ under RSWOR"
   ]
  },
  {
   "cell_type": "code",
   "execution_count": 11,
   "id": "fda2d192",
   "metadata": {
    "execution": {
     "iopub.execute_input": "2022-07-18T17:01:02.653075Z",
     "iopub.status.busy": "2022-07-18T17:01:02.652380Z",
     "iopub.status.idle": "2022-07-18T17:01:02.883790Z",
     "shell.execute_reply": "2022-07-18T17:01:02.882616Z"
    }
   },
   "outputs": [
    {
     "name": "stdout",
     "output_type": "stream",
     "text": [
      "[(36.85179487364511, 55.14820512635489), (44.070802021276585, 60.795864645390076), (43.237002670283765, 59.56299732971623)]\n",
      "0.943\n"
     ]
    }
   ],
   "source": [
    "random.seed(1)\n",
    "X = list(range(1, 101))\n",
    "\n",
    "def confInt(x, p, N):\n",
    "    if p >= 0.5:\n",
    "        p = 1 - (1 - p) / 2\n",
    "    else:\n",
    "        p = 1 - p / 2\n",
    "\n",
    "    n = len(x)\n",
    "    z = stats.norm.ppf(p) * np.sqrt(1 - (n-1)/(N-1)) / np.sqrt(n)\n",
    "    m = np.mean(x)\n",
    "    s = np.std(x, ddof=1)\n",
    "    return (m - z * s, m + z * s)\n",
    "\n",
    "sampled_confInt = []\n",
    "for _ in range(1000):\n",
    "    sample = random.sample(X, k=30)\n",
    "    sampled_confInt.append(confInt(sample, p=0.95, N=100))\n",
    "\n",
    "# show the first three results\n",
    "print(sampled_confInt[:3])\n",
    "\n",
    "# calculate the ratio of cases where the actual mean of 50.5\n",
    "# is inside the sample confidence intervals\n",
    "proportion_coverage = sum(ci[0] < 50.5 < ci[1] for ci in sampled_confInt)\n",
    "proportion_coverage = proportion_coverage / len(sampled_confInt)\n",
    "print(proportion_coverage)"
   ]
  },
  {
   "cell_type": "markdown",
   "id": "e58099e9",
   "metadata": {},
   "source": [
    "## Estimating the Mean with Stratified RSWOR"
   ]
  },
  {
   "cell_type": "markdown",
   "id": "140d1516",
   "metadata": {},
   "source": [
    "## Proportional and Optimal Allocation"
   ]
  },
  {
   "cell_type": "markdown",
   "id": "bf862ab9",
   "metadata": {},
   "source": [
    "## Prediction Models with Known Covariates"
   ]
  },
  {
   "cell_type": "code",
   "execution_count": 12,
   "id": "9a10a4ae",
   "metadata": {
    "execution": {
     "iopub.execute_input": "2022-07-18T17:01:02.887822Z",
     "iopub.status.busy": "2022-07-18T17:01:02.886713Z",
     "iopub.status.idle": "2022-07-18T17:01:03.012910Z",
     "shell.execute_reply": "2022-07-18T17:01:03.011707Z"
    }
   },
   "outputs": [
    {
     "data": {
      "image/png": "[encoded data removed]",
      "text/plain": [
       "<Figure size 432x288 with 1 Axes>"
      ]
     },
     "metadata": {
      "needs_background": "light"
     },
     "output_type": "display_data"
    }
   ],
   "source": [
    "pred = mistat.load_data('PRED')\n",
    "\n",
    "def stat_func(x):\n",
    "    return np.mean(x[:100]) * 0.05\n",
    "\n",
    "B = pg.compute_bootci(pred['x'], func=stat_func, n_boot=1000, return_dist=True, seed=1)\n",
    "ax = pd.Series(B[1]).hist(color='grey')\n",
    "ax.set_xlim(7, 8)\n",
    "plt.show()"
   ]
  },
  {
   "cell_type": "code",
   "execution_count": 13,
   "id": "0b32b9af",
   "metadata": {
    "execution": {
     "iopub.execute_input": "2022-07-18T17:01:03.016306Z",
     "iopub.status.busy": "2022-07-18T17:01:03.016010Z",
     "iopub.status.idle": "2022-07-18T17:01:03.140592Z",
     "shell.execute_reply": "2022-07-18T17:01:03.139810Z"
    }
   },
   "outputs": [
    {
     "data": {
      "image/png": "[encoded data removed]",
      "text/plain": [
       "<Figure size 432x288 with 1 Axes>"
      ]
     },
     "metadata": {
      "needs_background": "light"
     },
     "output_type": "display_data"
    }
   ],
   "source": [
    "pred = mistat.load_data('PRED')\n",
    "\n",
    "def stat_func(x):\n",
    "    return np.mean(x[:100]) * 7.495 / 148.58\n",
    "\n",
    "B = pg.compute_bootci(pred['x'], func=stat_func, n_boot=1000, return_dist=True, seed=1)\n",
    "ax = pd.Series(B[1]).hist(color='grey')\n",
    "ax.set_xlim(7, 8)\n",
    "plt.show()"
   ]
  },
  {
   "cell_type": "markdown",
   "id": "62fae345",
   "metadata": {},
   "source": [
    "## Chapter Highlights"
   ]
  },
  {
   "cell_type": "markdown",
   "id": "3ddf8352",
   "metadata": {},
   "source": [
    "## Exercises"
   ]
  }
 ],
 "metadata": {
  "language_info": {
   "codemirror_mode": {
    "name": "ipython",
    "version": 3
   },
   "file_extension": ".py",
   "mimetype": "text/x-python",
   "name": "python",
   "nbconvert_exporter": "python",
   "pygments_lexer": "ipython3",
   "version": "3.9.13"
  }
 },
 "nbformat": 4,
 "nbformat_minor": 5
}
