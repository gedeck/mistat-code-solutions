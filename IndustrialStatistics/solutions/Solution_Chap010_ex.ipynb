{
 "cells": [
  {
   "cell_type": "markdown",
   "id": "96689730",
   "metadata": {},
   "source": [
    "# Exercise Chapter  \n",
    "Industrial Statistics: A Computer Based Approach with Python<br>\n",
    "by Ron Kenett, Shelemyahu Zacks, Peter Gedeck\n",
    "\n",
    "Publisher: Springer International Publishing; 1st edition (2023) <br>\n",
    "<!-- ISBN-13: 978-3031075650 -->\n",
    "\n",
    "(c) 2022 Ron Kenett, Shelemyahu Zacks, Peter Gedeck\n",
    "\n",
    "The code needs to be executed in sequence."
   ]
  },
  {
   "cell_type": "code",
   "execution_count": 1,
   "id": "6956a5e3",
   "metadata": {
    "execution": {
     "iopub.execute_input": "2022-09-10T19:53:27.157477Z",
     "iopub.status.busy": "2022-09-10T19:53:27.156872Z",
     "iopub.status.idle": "2022-09-10T19:53:27.209844Z",
     "shell.execute_reply": "2022-09-10T19:53:27.208697Z"
    }
   },
   "outputs": [],
   "source": [
    "import os\n",
    "os.environ['OUTDATED_IGNORE'] = '1'\n",
    "import warnings\n",
    "from outdated import OutdatedPackageWarning\n",
    "warnings.filterwarnings('ignore', category=FutureWarning)\n",
    "warnings.filterwarnings('ignore', category=OutdatedPackageWarning)"
   ]
  },
  {
   "cell_type": "code",
   "execution_count": 2,
   "id": "9e8d6f59",
   "metadata": {
    "execution": {
     "iopub.execute_input": "2022-09-10T19:53:27.213125Z",
     "iopub.status.busy": "2022-09-10T19:53:27.212885Z",
     "iopub.status.idle": "2022-09-10T19:53:28.295024Z",
     "shell.execute_reply": "2022-09-10T19:53:28.293849Z"
    }
   },
   "outputs": [],
   "source": [
    "import numpy as np\n",
    "import pandas as pd\n",
    "from scipy import stats\n",
    "import statsmodels.formula.api as smf\n",
    "import lifelines\n",
    "import pingouin as pg\n",
    "import seaborn as sns\n",
    "import matplotlib.pyplot as plt\n",
    "import mistat"
   ]
  }
 ],
 "metadata": {
  "language_info": {
   "codemirror_mode": {
    "name": "ipython",
    "version": 3
   },
   "file_extension": ".py",
   "mimetype": "text/x-python",
   "name": "python",
   "nbconvert_exporter": "python",
   "pygments_lexer": "ipython3",
   "version": "3.9.13"
  }
 },
 "nbformat": 4,
 "nbformat_minor": 5
}
