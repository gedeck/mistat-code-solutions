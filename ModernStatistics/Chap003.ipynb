{
 "cells": [
  {
   "cell_type": "markdown",
   "id": "77879780",
   "metadata": {},
   "source": [
    "# Chapter 3 \n",
    " Modern Statistics: A Computer Based Approach with Python<br>\n",
    "by Ron Kenett, Shelemyahu Zacks, Peter Gedeck\n",
    "\n",
    "Publisher: Springer International Publishing; 1st edition (September 15, 2022) <br>\n",
    "ISBN-13: 978-3031075650\n",
    "\n",
    "(c) 2022 Ron Kenett, Shelemyahu Zacks, Peter Gedeck\n",
    "\n",
    "The code needs to be executed in sequence."
   ]
  },
  {
   "cell_type": "code",
   "execution_count": 1,
   "id": "3f9faf22",
   "metadata": {
    "execution": {
     "iopub.execute_input": "2022-07-11T13:44:06.007066Z",
     "iopub.status.busy": "2022-07-11T13:44:06.006740Z",
     "iopub.status.idle": "2022-07-11T13:44:06.056679Z",
     "shell.execute_reply": "2022-07-11T13:44:06.055692Z"
    }
   },
   "outputs": [],
   "source": [
    "import warnings\n",
    "from outdated import OutdatedPackageWarning\n",
    "warnings.filterwarnings('ignore', category=FutureWarning)\n",
    "warnings.filterwarnings('ignore', category=OutdatedPackageWarning)"
   ]
  },
  {
   "cell_type": "code",
   "execution_count": 2,
   "id": "4a1d4b6e",
   "metadata": {
    "execution": {
     "iopub.execute_input": "2022-07-11T13:44:06.059813Z",
     "iopub.status.busy": "2022-07-11T13:44:06.059475Z",
     "iopub.status.idle": "2022-07-11T13:44:07.396771Z",
     "shell.execute_reply": "2022-07-11T13:44:07.395672Z"
    }
   },
   "outputs": [],
   "source": [
    "import random\n",
    "import numpy as np\n",
    "import pandas as pd\n",
    "from scipy import stats\n",
    "import statsmodels.formula.api as smf\n",
    "import statsmodels.stats.api as sms\n",
    "import statsmodels.api as sm\n",
    "import pingouin as pg\n",
    "import matplotlib.pyplot as plt\n",
    "import bootstrapped.bootstrap as bs\n",
    "import bootstrapped.stats_functions as bs_stats\n",
    "import mistat"
   ]
  },
  {
   "cell_type": "markdown",
   "id": "6bba6dca",
   "metadata": {},
   "source": [
    "# Statistical Inference and Bootstrapping"
   ]
  },
  {
   "cell_type": "markdown",
   "id": "1c9ef5a8",
   "metadata": {},
   "source": [
    "## Sampling Characteristics of Estimators"
   ]
  },
  {
   "cell_type": "code",
   "execution_count": 3,
   "id": "89b37c3e",
   "metadata": {
    "execution": {
     "iopub.execute_input": "2022-07-11T13:44:07.400117Z",
     "iopub.status.busy": "2022-07-11T13:44:07.399794Z",
     "iopub.status.idle": "2022-07-11T13:44:07.666625Z",
     "shell.execute_reply": "2022-07-11T13:44:07.665697Z"
    }
   },
   "outputs": [
    {
     "data": {
      "image/png": "[encoded data removed]",
      "text/plain": [
       "<Figure size 432x288 with 1 Axes>"
      ]
     },
     "metadata": {
      "needs_background": "light"
     },
     "output_type": "display_data"
    }
   ],
   "source": [
    "np.random.seed(seed=1) # bootstrapped uses numpy to create random numbers\n",
    "\n",
    "rv = stats.norm(loc=50, scale=25)\n",
    "x = rv.rvs(100)\n",
    "\n",
    "mean_results = bs.bootstrap(x, stat_func=bs_stats.mean,\n",
    "                            num_iterations=100, iteration_batch_size=10, num_threads=-1,\n",
    "                            return_distribution=True)\n",
    "\n",
    "ax = pd.Series(mean_results).hist(bins=9, color='grey')\n",
    "ax.set_xlabel(r'$\\bar{x}$')\n",
    "ax.set_ylabel('Frequency')\n",
    "plt.show()"
   ]
  },
  {
   "cell_type": "code",
   "execution_count": 4,
   "id": "b3b71927",
   "metadata": {
    "execution": {
     "iopub.execute_input": "2022-07-11T13:44:07.669329Z",
     "iopub.status.busy": "2022-07-11T13:44:07.669126Z",
     "iopub.status.idle": "2022-07-11T13:44:07.780655Z",
     "shell.execute_reply": "2022-07-11T13:44:07.779670Z"
    }
   },
   "outputs": [
    {
     "data": {
      "image/png": "[encoded data removed]",
      "text/plain": [
       "<Figure size 432x288 with 1 Axes>"
      ]
     },
     "metadata": {
      "needs_background": "light"
     },
     "output_type": "display_data"
    }
   ],
   "source": [
    "np.random.seed(seed=1)\n",
    "import scipy.sparse as sparse\n",
    "\n",
    "def stat_func(values, axis=1):\n",
    "    '''Returns the std of each row of a matrix'''\n",
    "    if isinstance(values, sparse.csr_matrix):\n",
    "        ret = values.var(axis=axis)\n",
    "        return ret.A1\n",
    "    else:\n",
    "        return np.var(np.asmatrix(values), axis=axis).A1\n",
    "\n",
    "var_results = bs.bootstrap(x, stat_func=stat_func,\n",
    "                           num_iterations=100, iteration_batch_size=10, # num_threads=-1,\n",
    "                           return_distribution=True)\n",
    "\n",
    "ax = pd.Series(var_results).hist(bins=8, color='grey')\n",
    "ax.set_xlabel(r'$S^2$')\n",
    "plt.show()"
   ]
  },
  {
   "cell_type": "markdown",
   "id": "abb62a50",
   "metadata": {},
   "source": [
    "## Some Methods of Point Estimation"
   ]
  },
  {
   "cell_type": "markdown",
   "id": "d1c8f846",
   "metadata": {},
   "source": [
    "### Moment Equation Estimators"
   ]
  },
  {
   "cell_type": "markdown",
   "id": "ec802fa5",
   "metadata": {},
   "source": [
    "### The Method of Least Squares"
   ]
  },
  {
   "cell_type": "markdown",
   "id": "b4e768b4",
   "metadata": {},
   "source": [
    "### Maximum Likelihood Estimators"
   ]
  },
  {
   "cell_type": "markdown",
   "id": "d1698c0d",
   "metadata": {},
   "source": [
    "## Comparison of Sample Estimates"
   ]
  },
  {
   "cell_type": "markdown",
   "id": "bd6e9840",
   "metadata": {},
   "source": [
    "### Basic Concepts"
   ]
  },
  {
   "cell_type": "code",
   "execution_count": 5,
   "id": "08f7ad7d",
   "metadata": {
    "execution": {
     "iopub.execute_input": "2022-07-11T13:44:07.784747Z",
     "iopub.status.busy": "2022-07-11T13:44:07.783952Z",
     "iopub.status.idle": "2022-07-11T13:44:07.798471Z",
     "shell.execute_reply": "2022-07-11T13:44:07.797464Z"
    }
   },
   "outputs": [],
   "source": [
    "data = []\n",
    "for x in range(11):\n",
    "  data.append({\n",
    "    'x': x,\n",
    "    'p10': stats.binom.cdf(x, 20, 0.10),\n",
    "    'p15': stats.binom.cdf(x, 20, 0.15),\n",
    "    'p20': stats.binom.cdf(x, 20, 0.20),\n",
    "    'p25': stats.binom.cdf(x, 20, 0.25),\n",
    "  })\n",
    "df = pd.DataFrame(data)"
   ]
  },
  {
   "cell_type": "code",
   "execution_count": 6,
   "id": "48309dba",
   "metadata": {
    "execution": {
     "iopub.execute_input": "2022-07-11T13:44:07.801194Z",
     "iopub.status.busy": "2022-07-11T13:44:07.800710Z",
     "iopub.status.idle": "2022-07-11T13:44:07.857395Z",
     "shell.execute_reply": "2022-07-11T13:44:07.856603Z"
    }
   },
   "outputs": [
    {
     "name": "stdout",
     "output_type": "stream",
     "text": [
      "\\begin{tabular}{ccccc}\n",
      "\\toprule\n",
      "x & $p=.10$ & $p=.15$ & $p=.20$ & $p=.25$ \\\\\n",
      "\\midrule\n",
      "0 & 0.1216 & 0.0388 & 0.0115 & 0.0032 \\\\\n",
      "1 & 0.3917 & 0.1756 & 0.0692 & 0.0243 \\\\\n",
      "2 & 0.6769 & 0.4049 & 0.2061 & 0.0913 \\\\\n",
      "3 & 0.8670 & 0.6477 & 0.4114 & 0.2252 \\\\\n",
      "4 & 0.9568 & 0.8298 & 0.6296 & 0.4148 \\\\\n",
      "5 & 0.9887 & 0.9327 & 0.8042 & 0.6172 \\\\\n",
      "6 & 0.9976 & 0.9781 & 0.9133 & 0.7858 \\\\\n",
      "7 & 0.9996 & 0.9941 & 0.9679 & 0.8982 \\\\\n",
      "8 & 0.9999 & 0.9987 & 0.9900 & 0.9591 \\\\\n",
      "9 & 1.0000 & 0.9998 & 0.9974 & 0.9861 \\\\\n",
      "10 & 1.0000 & 1.0000 & 0.9994 & 0.9961 \\\\\n",
      "\\bottomrule\n",
      "\\end{tabular}\n",
      "\n"
     ]
    }
   ],
   "source": [
    "s = df.style.hide(axis='index').format(precision=4).to_latex(column_format='ccccc', hrules=True)\n",
    "s = s.replace(' x ', ' $x$ ')\n",
    "s = s.replace(' p10 ', ' $p=.10$ ')\n",
    "s = s.replace(' p15 ', ' $p=.15$ ')\n",
    "s = s.replace(' p20 ', ' $p=.20$ ')\n",
    "s = s.replace(' p25 ', ' $p=.25$ ')\n",
    "print(s)"
   ]
  },
  {
   "cell_type": "code",
   "execution_count": 7,
   "id": "dea367a2",
   "metadata": {
    "execution": {
     "iopub.execute_input": "2022-07-11T13:44:07.859846Z",
     "iopub.status.busy": "2022-07-11T13:44:07.859568Z",
     "iopub.status.idle": "2022-07-11T13:44:08.030703Z",
     "shell.execute_reply": "2022-07-11T13:44:08.029499Z"
    }
   },
   "outputs": [
    {
     "data": {
      "image/png": "[encoded data removed]",
      "text/plain": [
       "<Figure size 432x288 with 1 Axes>"
      ]
     },
     "metadata": {
      "needs_background": "light"
     },
     "output_type": "display_data"
    }
   ],
   "source": [
    "from mistat.acceptanceSampling import OperatingCharacteristics2c\n",
    "X = OperatingCharacteristics2c(20, 4, oc_type='binomial')\n",
    "df = pd.DataFrame({'p': X.pd, 'OC(p)': X.paccept})\n",
    "ax = df.plot(x='p', y='OC(p)', legend=False, color='black')\n",
    "ax.set_ylabel('OC(p)')\n",
    "plt.show()"
   ]
  },
  {
   "cell_type": "markdown",
   "id": "0c470a71",
   "metadata": {},
   "source": [
    "### Some Common One-Sample Tests of Hypotheses"
   ]
  },
  {
   "cell_type": "markdown",
   "id": "df2f3c46",
   "metadata": {},
   "source": [
    "#### The $Z$-test:  Testing the Mean of a Normal Distribution, $\\sigma^2$ Known"
   ]
  },
  {
   "cell_type": "code",
   "execution_count": 8,
   "id": "d4c897d7",
   "metadata": {
    "execution": {
     "iopub.execute_input": "2022-07-11T13:44:08.034221Z",
     "iopub.status.busy": "2022-07-11T13:44:08.033422Z",
     "iopub.status.idle": "2022-07-11T13:44:08.192700Z",
     "shell.execute_reply": "2022-07-11T13:44:08.191742Z"
    }
   },
   "outputs": [
    {
     "data": {
      "image/png": "[encoded data removed]",
      "text/plain": [
       "<Figure size 432x432 with 1 Axes>"
      ]
     },
     "metadata": {
      "needs_background": "light"
     },
     "output_type": "display_data"
    }
   ],
   "source": [
    "x = np.linspace(-3, 3, 401)\n",
    "y = stats.norm.pdf(x)\n",
    "\n",
    "fig, ax = plt.subplots(figsize=[6, 6])\n",
    "ax.plot(x, y, c='black')\n",
    "\n",
    "prop = {'arrowstyle': \"->,head_width=0.4,head_length=0.8\",\n",
    "        'shrinkA': 0, 'shrinkB': 0, 'color': 'black'}\n",
    "\n",
    "zma = stats.norm.ppf(0.9)\n",
    "ax.fill_between(x[x>zma], y[x>zma], color=\"lightgrey\")\n",
    "ax.vlines([0, zma], ymin=0, ymax=0.5, linestyles='--', color='darkgrey')\n",
    "ax.vlines([0, zma], ymin=-0.11, ymax=-0.09, linestyles='-', color='black')\n",
    "\n",
    "plt.annotate(\"\", xy=(3.7, 0), xytext=(-3.5, 0), arrowprops=prop)\n",
    "plt.annotate(\"\", xy=(3.7, -0.1), xytext=(-3.5, -0.1), arrowprops=prop)\n",
    "ax.text(3.75, 0, r'$z$ scale', verticalalignment='center')\n",
    "ax.text(3.75, -0.1, r'$X$ scale', verticalalignment='center')\n",
    "\n",
    "plt.annotate(\"\", xy=(-0.8, 0.1), xytext=(-2.25,0.25), arrowprops=prop)\n",
    "ax.text(-3.5, 0.35, r'acceptance')\n",
    "ax.text(-3.5, 0.31, r'probability $(1-\\alpha)$')\n",
    "plt.annotate(\"\", xy=(1.5, 0.035), xytext=(3,0.12), arrowprops=prop)\n",
    "ax.text(2.5, 0.2, r'rejection')\n",
    "ax.text(2.5, 0.16, r'probability $\\alpha$')\n",
    "\n",
    "ax.set_xlim(-4.2, 4,2)\n",
    "ax.set_ylim(-0.2, 0.5)\n",
    "\n",
    "options = {'horizontalalignment': 'center'}\n",
    "ax.text(-1.5, -0.05, 'Accept', **options)\n",
    "ax.text(2.2, -0.05, 'Reject', **options)\n",
    "ax.text(0, -0.05, '0', **options)\n",
    "ax.text(zma, -0.05, r'$z_{1-\\alpha}$', **options)\n",
    "\n",
    "# options = {'horizontalalignment': 'center', 'verticalalignment': 'center'}\n",
    "ax.text(0, -0.15, r'$\\mu_0$', **options)\n",
    "ax.text(zma, -0.152, r'$\\mu_0 + z_{1-\\alpha} \\frac{\\sigma}{\\sqrt{n}}$', **options)\n",
    "\n",
    "plt.axis('off')\n",
    "plt.show()"
   ]
  },
  {
   "cell_type": "code",
   "execution_count": 9,
   "id": "543bfe20",
   "metadata": {
    "execution": {
     "iopub.execute_input": "2022-07-11T13:44:08.195922Z",
     "iopub.status.busy": "2022-07-11T13:44:08.195660Z",
     "iopub.status.idle": "2022-07-11T13:44:08.205813Z",
     "shell.execute_reply": "2022-07-11T13:44:08.204806Z"
    }
   },
   "outputs": [],
   "source": [
    "data = []\n",
    "n = 100\n",
    "mu0 = 5\n",
    "sigma = 0.2\n",
    "alpha = 0.05\n",
    "for mu in (5, 5.01, 5.02, 5.03, 5.04, 5.05):\n",
    "  dsn = np.sqrt(n) * (mu - mu0) / sigma\n",
    "  z  = stats.norm.ppf(1-alpha) - dsn\n",
    "  data.append({\n",
    "    'mu': mu,\n",
    "    'dsn': dsn,\n",
    "    'z': z,\n",
    "    'OC': stats.norm.cdf(z),\n",
    "  })\n",
    "df = pd.DataFrame(data)"
   ]
  },
  {
   "cell_type": "code",
   "execution_count": 10,
   "id": "71c66cf4",
   "metadata": {
    "execution": {
     "iopub.execute_input": "2022-07-11T13:44:08.209598Z",
     "iopub.status.busy": "2022-07-11T13:44:08.208582Z",
     "iopub.status.idle": "2022-07-11T13:44:08.217561Z",
     "shell.execute_reply": "2022-07-11T13:44:08.216552Z"
    }
   },
   "outputs": [
    {
     "name": "stdout",
     "output_type": "stream",
     "text": [
      "\\begin{tabular}{cccc}\n",
      "\\toprule\n",
      "mu & $\\delta\\sqrt{n}$ & $z$ & $\\mbox{OC}(\\mu)$ \\\\\n",
      "\\midrule\n",
      "5.00 & 0.0 & 1.645 & 0.9500 \\\\\n",
      "5.01 & 0.5 & 1.145 & 0.8739 \\\\\n",
      "5.02 & 1.0 & 0.645 & 0.7405 \\\\\n",
      "5.03 & 1.5 & 0.145 & 0.5576 \\\\\n",
      "5.04 & 2.0 & -0.355 & 0.3612 \\\\\n",
      "5.05 & 2.5 & -0.855 & 0.1962 \\\\\n",
      "\\bottomrule\n",
      "\\end{tabular}\n",
      "\n"
     ]
    }
   ],
   "source": [
    "mapper =  {'mu': '{0:.2f}',\n",
    "           'dsn': '{0:.1f}',\n",
    "           'z': '{0:.3f}',\n",
    "           'OC': '{0:.4f}'}\n",
    "table = df.style\n",
    "table = table.format(mapper)\n",
    "table = table.hide(axis='index')\n",
    "s = table.to_latex(column_format='cccc', hrules=True)\n",
    "s = s.replace(' mu ', ' $\\mu$ ')\n",
    "s = s.replace(' dsn ', ' $\\delta\\sqrt{n}$ ')\n",
    "s = s.replace(' z ', ' $z$ ')\n",
    "s = s.replace(' OC ', ' $\\mbox{OC}(\\mu)$ ')\n",
    "print(s)"
   ]
  },
  {
   "cell_type": "markdown",
   "id": "cc66ae67",
   "metadata": {},
   "source": [
    "#### The $t$-Test:  Testing the Mean of a Normal Distribution, $\\sigma^2$ Unknown"
   ]
  },
  {
   "cell_type": "markdown",
   "id": "5a8e678b",
   "metadata": {},
   "source": [
    "#### The Chi-Squared Test:  Testing the Variance of a Normal Distribution"
   ]
  },
  {
   "cell_type": "markdown",
   "id": "0b8dda49",
   "metadata": {},
   "source": [
    "#### Testing Hypotheses About the Success Probability, $p$, in Binomial Trials"
   ]
  },
  {
   "cell_type": "code",
   "execution_count": 11,
   "id": "c6be3e57",
   "metadata": {
    "execution": {
     "iopub.execute_input": "2022-07-11T13:44:08.221088Z",
     "iopub.status.busy": "2022-07-11T13:44:08.220820Z",
     "iopub.status.idle": "2022-07-11T13:44:08.228529Z",
     "shell.execute_reply": "2022-07-11T13:44:08.227593Z"
    }
   },
   "outputs": [
    {
     "data": {
      "text/plain": [
       "7.0"
      ]
     },
     "execution_count": 11,
     "metadata": {},
     "output_type": "execute_result"
    }
   ],
   "source": [
    "stats.binom(20, 0.2).ppf(0.95)"
   ]
  },
  {
   "cell_type": "code",
   "execution_count": 12,
   "id": "1f3e34cb",
   "metadata": {
    "execution": {
     "iopub.execute_input": "2022-07-11T13:44:08.231365Z",
     "iopub.status.busy": "2022-07-11T13:44:08.231108Z",
     "iopub.status.idle": "2022-07-11T13:44:08.569194Z",
     "shell.execute_reply": "2022-07-11T13:44:08.568432Z"
    }
   },
   "outputs": [
    {
     "data": {
      "image/png": "[encoded data removed]",
      "text/plain": [
       "<Figure size 576x432 with 1 Axes>"
      ]
     },
     "metadata": {
      "needs_background": "light"
     },
     "output_type": "display_data"
    }
   ],
   "source": [
    "np.random.seed(1)\n",
    "df = pd.DataFrame({'x': stats.norm(loc=10, scale=1).rvs(500)})\n",
    "\n",
    "\n",
    "# confintFunc\n",
    "model = smf.ols(formula='x ~ 1', data=df[1:10]).fit()\n",
    "model.conf_int(alpha=0.05).loc['Intercept', :]\n",
    "\n",
    "\n",
    "def stat_func(values, axis=1):\n",
    "    ''' Return the confidence interval for the intercept '''\n",
    "    if len(values.shape) > 1:\n",
    "        result = []\n",
    "        for row in values:\n",
    "            df = pd.DataFrame({'x': row[:10]})\n",
    "            model = smf.ols(formula='x ~ 1', data=df).fit()\n",
    "            result.append(model.conf_int(alpha=0.05).loc['Intercept', :])\n",
    "        return result\n",
    "    return [0]\n",
    "\n",
    "\n",
    "confIntervals = bs.bootstrap(df['x'].values, stat_func=stat_func,\n",
    "                           num_iterations=50, iteration_batch_size=10,\n",
    "                           return_distribution=True)\n",
    "\n",
    "fig, ax = plt.subplots(figsize=[8, 6])\n",
    "for repeat, (lower, upper) in enumerate(confIntervals, 1):\n",
    "    ax.plot([repeat, repeat], [lower, upper], color='black')\n",
    "ax.axhline(10, linestyle='--', color='darkgrey')\n",
    "plt.show()\n",
    "\n",
    "nrCoverConfIntervals = sum(lower <= 10 <= upper for lower, upper in confIntervals)"
   ]
  },
  {
   "cell_type": "markdown",
   "id": "1a053052",
   "metadata": {},
   "source": [
    "## Confidence Intervals"
   ]
  },
  {
   "cell_type": "markdown",
   "id": "60fbb228",
   "metadata": {},
   "source": [
    "### Confidence Intervals for $\\mu$; $\\sigma$ Known"
   ]
  },
  {
   "cell_type": "markdown",
   "id": "b3b00dc9",
   "metadata": {},
   "source": [
    "### Confidence Intervals for $\\mu$; $\\sigma$ Unknown"
   ]
  },
  {
   "cell_type": "markdown",
   "id": "326ed570",
   "metadata": {},
   "source": [
    "### Confidence Intervals for $\\sigma^2$"
   ]
  },
  {
   "cell_type": "markdown",
   "id": "e8242359",
   "metadata": {},
   "source": [
    "### Confidence Intervals for $p$"
   ]
  },
  {
   "cell_type": "markdown",
   "id": "610d04d2",
   "metadata": {},
   "source": [
    "## Tolerance Intervals"
   ]
  },
  {
   "cell_type": "markdown",
   "id": "dc3e121b",
   "metadata": {},
   "source": [
    "### Tolerance Intervals for the Normal Distributions"
   ]
  },
  {
   "cell_type": "code",
   "execution_count": 13,
   "id": "0bf5e0ba",
   "metadata": {
    "execution": {
     "iopub.execute_input": "2022-07-11T13:44:08.572410Z",
     "iopub.status.busy": "2022-07-11T13:44:08.572206Z",
     "iopub.status.idle": "2022-07-11T13:44:08.664407Z",
     "shell.execute_reply": "2022-07-11T13:44:08.663686Z"
    }
   },
   "outputs": [
    {
     "data": {
      "image/png": "[encoded data removed]",
      "text/plain": [
       "<Figure size 360x360 with 1 Axes>"
      ]
     },
     "metadata": {
      "needs_background": "light"
     },
     "output_type": "display_data"
    }
   ],
   "source": [
    "np.random.seed(1)\n",
    "x = stats.norm(loc=10, scale=1).rvs(50)\n",
    "\n",
    "fig, ax = plt.subplots(figsize=[5, 5])\n",
    "sm.qqplot(x, line='s', ax=ax)\n",
    "ax.get_lines()[0].set_color('grey')\n",
    "ax.get_lines()[0].set_markerfacecolor('none')\n",
    "ax.get_lines()[1].set_color('black')\n",
    "plt.show()"
   ]
  },
  {
   "cell_type": "markdown",
   "id": "6e03b237",
   "metadata": {},
   "source": [
    "## Testing for Normality with Probability Plots"
   ]
  },
  {
   "cell_type": "code",
   "execution_count": 14,
   "id": "6d014934",
   "metadata": {
    "execution": {
     "iopub.execute_input": "2022-07-11T13:44:08.667792Z",
     "iopub.status.busy": "2022-07-11T13:44:08.667005Z",
     "iopub.status.idle": "2022-07-11T13:44:08.768224Z",
     "shell.execute_reply": "2022-07-11T13:44:08.767294Z"
    }
   },
   "outputs": [
    {
     "data": {
      "image/png": "[encoded data removed]",
      "text/plain": [
       "<Figure size 360x360 with 1 Axes>"
      ]
     },
     "metadata": {
      "needs_background": "light"
     },
     "output_type": "display_data"
    }
   ],
   "source": [
    "np.random.seed(1)\n",
    "x = stats.norm(loc=10, scale=1).rvs(50)\n",
    "fig, ax = plt.subplots(figsize=[5, 5])\n",
    "pg.qqplot(x, ax=ax)\n",
    "ax.get_lines()[0].set_color('grey')\n",
    "ax.get_lines()[0].set_markerfacecolor('none')\n",
    "ax.get_lines()[1].set_color('black')\n",
    "ax.get_lines()[2].set_color('black')\n",
    "ax.get_lines()[3].set_color('grey')\n",
    "ax.get_lines()[4].set_color('grey')\n",
    "plt.show()"
   ]
  },
  {
   "cell_type": "code",
   "execution_count": 15,
   "id": "17793176",
   "metadata": {
    "execution": {
     "iopub.execute_input": "2022-07-11T13:44:08.771825Z",
     "iopub.status.busy": "2022-07-11T13:44:08.770847Z",
     "iopub.status.idle": "2022-07-11T13:44:08.963415Z",
     "shell.execute_reply": "2022-07-11T13:44:08.962434Z"
    }
   },
   "outputs": [
    {
     "data": {
      "image/png": "[encoded data removed]",
      "text/plain": [
       "<Figure size 576x288 with 2 Axes>"
      ]
     },
     "metadata": {
      "needs_background": "light"
     },
     "output_type": "display_data"
    }
   ],
   "source": [
    "np.random.seed(1)\n",
    "x = stats.lognorm.rvs(1, size=100)\n",
    "\n",
    "fig, axes = plt.subplots(figsize=[8, 4], ncols=2)\n",
    "pg.qqplot(x, ax=axes[0])\n",
    "axes[0].set_title('Normal distribution')\n",
    "pg.qqplot(x, dist=stats.lognorm, sparams=[1], ax=axes[1])\n",
    "axes[1].set_title('Log-normal distribution')\n",
    "for ax in axes:\n",
    "  ax.get_lines()[0].set_color('grey')\n",
    "  ax.get_lines()[0].set_markerfacecolor('none')\n",
    "  ax.get_lines()[1].set_color('black')\n",
    "  ax.get_lines()[2].set_color('black')\n",
    "  ax.get_lines()[3].set_color('grey')\n",
    "  ax.get_lines()[4].set_color('grey')\n",
    "plt.show()\n",
    "res = stats.probplot(x)\n",
    "r2_normal = res[1][2] ** 2\n",
    "res = stats.probplot(x, dist=stats.lognorm, sparams=[1])\n",
    "r2_lognormal = res[1][2] ** 2"
   ]
  },
  {
   "cell_type": "code",
   "execution_count": 16,
   "id": "f3d42ef8",
   "metadata": {
    "execution": {
     "iopub.execute_input": "2022-07-11T13:44:08.966297Z",
     "iopub.status.busy": "2022-07-11T13:44:08.966098Z",
     "iopub.status.idle": "2022-07-11T13:44:09.062009Z",
     "shell.execute_reply": "2022-07-11T13:44:09.061125Z"
    }
   },
   "outputs": [
    {
     "data": {
      "image/png": "[encoded data removed]",
      "text/plain": [
       "<Figure size 360x360 with 1 Axes>"
      ]
     },
     "metadata": {
      "needs_background": "light"
     },
     "output_type": "display_data"
    }
   ],
   "source": [
    "np.random.seed(1)\n",
    "dist=stats.lognorm(s=0.1,loc=10)\n",
    "x = dist.rvs(100)\n",
    "\n",
    "fig, ax = plt.subplots(figsize=[5, 5])\n",
    "stats.probplot(x, dist=stats.lognorm, sparams=[0.1, 10, 1], plot=ax)\n",
    "plt.show()"
   ]
  },
  {
   "cell_type": "code",
   "execution_count": 17,
   "id": "43e3b556",
   "metadata": {
    "execution": {
     "iopub.execute_input": "2022-07-11T13:44:09.065841Z",
     "iopub.status.busy": "2022-07-11T13:44:09.064976Z",
     "iopub.status.idle": "2022-07-11T13:44:09.161172Z",
     "shell.execute_reply": "2022-07-11T13:44:09.159721Z"
    }
   },
   "outputs": [
    {
     "data": {
      "image/png": "[encoded data removed]",
      "text/plain": [
       "<Figure size 360x360 with 1 Axes>"
      ]
     },
     "metadata": {
      "needs_background": "light"
     },
     "output_type": "display_data"
    }
   ],
   "source": [
    "np.random.seed(1)\n",
    "x = np.array([*stats.norm.rvs(loc=10, size=50), *stats.norm.rvs(loc=15, size=50)])\n",
    "\n",
    "fig, ax = plt.subplots(figsize=[5, 5])\n",
    "ax.set_xlabel('x')\n",
    "ax.set_ylabel('Frequency')\n",
    "pd.Series(x).hist(bins=10, color='grey')\n",
    "plt.show()"
   ]
  },
  {
   "cell_type": "code",
   "execution_count": 18,
   "id": "5d7013c3",
   "metadata": {
    "execution": {
     "iopub.execute_input": "2022-07-11T13:44:09.165394Z",
     "iopub.status.busy": "2022-07-11T13:44:09.164371Z",
     "iopub.status.idle": "2022-07-11T13:44:09.258544Z",
     "shell.execute_reply": "2022-07-11T13:44:09.257511Z"
    }
   },
   "outputs": [
    {
     "data": {
      "image/png": "[encoded data removed]",
      "text/plain": [
       "<Figure size 360x360 with 1 Axes>"
      ]
     },
     "metadata": {
      "needs_background": "light"
     },
     "output_type": "display_data"
    }
   ],
   "source": [
    "np.random.seed(1)\n",
    "x = np.array([*stats.norm.rvs(loc=10, size=50), *stats.norm.rvs(loc=15, size=50)])\n",
    "\n",
    "fig, ax = plt.subplots(figsize=[5, 5])\n",
    "pg.qqplot(x, ax=ax)\n",
    "ax.get_lines()[0].set_color('grey')\n",
    "ax.get_lines()[0].set_markerfacecolor('none')\n",
    "ax.get_lines()[1].set_color('black')\n",
    "ax.get_lines()[2].set_color('black')\n",
    "ax.get_lines()[3].set_color('grey')\n",
    "ax.get_lines()[4].set_color('grey')\n",
    "plt.show()\n",
    "\n",
    "res = stats.probplot(x)\n",
    "r2_normal = res[1][2] ** 2"
   ]
  },
  {
   "cell_type": "markdown",
   "id": "5375cd5b",
   "metadata": {},
   "source": [
    "## Tests of Goodness of Fit"
   ]
  },
  {
   "cell_type": "markdown",
   "id": "b66b05b2",
   "metadata": {},
   "source": [
    "### The Chi-Square Test (Large Samples)"
   ]
  },
  {
   "cell_type": "markdown",
   "id": "7e1f3acb",
   "metadata": {},
   "source": [
    "### The Kolmogorov-Smirnov Test"
   ]
  },
  {
   "cell_type": "code",
   "execution_count": 19,
   "id": "0dfee2e8",
   "metadata": {
    "execution": {
     "iopub.execute_input": "2022-07-11T13:44:09.262281Z",
     "iopub.status.busy": "2022-07-11T13:44:09.261438Z",
     "iopub.status.idle": "2022-07-11T13:44:09.279852Z",
     "shell.execute_reply": "2022-07-11T13:44:09.278985Z"
    }
   },
   "outputs": [],
   "source": [
    "oturb = mistat.load_data('OTURB')\n",
    "\n",
    "result = stats.kstest(oturb, 'norm',\n",
    "          args=(np.mean(oturb), np.std(oturb, ddof=1)),\n",
    "          alternative='two-sided')"
   ]
  },
  {
   "cell_type": "markdown",
   "id": "20d667db",
   "metadata": {},
   "source": [
    "## Bayesian Decision Procedures"
   ]
  },
  {
   "cell_type": "code",
   "execution_count": 20,
   "id": "bfd6082b",
   "metadata": {
    "execution": {
     "iopub.execute_input": "2022-07-11T13:44:09.283127Z",
     "iopub.status.busy": "2022-07-11T13:44:09.282477Z",
     "iopub.status.idle": "2022-07-11T13:44:09.365345Z",
     "shell.execute_reply": "2022-07-11T13:44:09.364677Z"
    }
   },
   "outputs": [
    {
     "data": {
      "image/png": "[encoded data removed]",
      "text/plain": [
       "<Figure size 432x288 with 1 Axes>"
      ]
     },
     "metadata": {
      "needs_background": "light"
     },
     "output_type": "display_data"
    }
   ],
   "source": [
    "x = np.linspace(0, 1.0, 200)\n",
    "df = pd.DataFrame({\n",
    "    'x': x,\n",
    "    'p.d.f.': stats.beta(a=80, b=20).pdf(x),\n",
    "})\n",
    "ax = df.plot(x='x', y='p.d.f.', legend=False, color='black')\n",
    "plt.show()"
   ]
  },
  {
   "cell_type": "markdown",
   "id": "7bb11b75",
   "metadata": {},
   "source": [
    "### Prior and Posterior Distributions"
   ]
  },
  {
   "cell_type": "code",
   "execution_count": 21,
   "id": "f311eaae",
   "metadata": {
    "execution": {
     "iopub.execute_input": "2022-07-11T13:44:09.368800Z",
     "iopub.status.busy": "2022-07-11T13:44:09.368001Z",
     "iopub.status.idle": "2022-07-11T13:44:09.457729Z",
     "shell.execute_reply": "2022-07-11T13:44:09.456910Z"
    }
   },
   "outputs": [
    {
     "data": {
      "image/png": "[encoded data removed]",
      "text/plain": [
       "<Figure size 432x288 with 1 Axes>"
      ]
     },
     "metadata": {
      "needs_background": "light"
     },
     "output_type": "display_data"
    }
   ],
   "source": [
    "x = np.linspace(0, 1.0, 200)\n",
    "df = pd.DataFrame({\n",
    "    'x': x,\n",
    "    'p.d.f.': stats.beta(a=8, b=2).pdf(x),\n",
    "})\n",
    "ax = df.plot(x='x', y='p.d.f.', legend=False, color='black')\n",
    "plt.show()"
   ]
  },
  {
   "cell_type": "code",
   "execution_count": 22,
   "id": "cc968dc0",
   "metadata": {
    "execution": {
     "iopub.execute_input": "2022-07-11T13:44:09.461026Z",
     "iopub.status.busy": "2022-07-11T13:44:09.460180Z",
     "iopub.status.idle": "2022-07-11T13:44:09.610470Z",
     "shell.execute_reply": "2022-07-11T13:44:09.609719Z"
    }
   },
   "outputs": [
    {
     "data": {
      "image/png": "[encoded data removed]",
      "text/plain": [
       "<Figure size 432x288 with 1 Axes>"
      ]
     },
     "metadata": {
      "needs_background": "light"
     },
     "output_type": "display_data"
    }
   ],
   "source": [
    "x = np.linspace(0, 1.0, 200)\n",
    "df = pd.DataFrame({\n",
    "    'x': x,\n",
    "    'dist1': stats.beta(a=8 + 8, b=2 + 2).pdf(x),\n",
    "    'dist2': stats.beta(a=8 + 7, b=2 + 3).pdf(x),\n",
    "    'dist3': stats.beta(a=8 + 6, b=2 + 4).pdf(x),\n",
    "})\n",
    "ax = df.plot(x='x', y='dist1', legend=False, color='black')\n",
    "df.plot(x='x', y='dist2', legend=False, color='black', ax=ax, linestyle='--')\n",
    "df.plot(x='x', y='dist3', legend=False, color='black', ax=ax, linestyle='-.')\n",
    "\n",
    "prop = {'arrowstyle': \"->,head_width=0.4,head_length=0.8\",\n",
    "        'shrinkA': 0, 'shrinkB': 0, 'color': 'black'}\n",
    "def arrow(text, xvalue, offset):\n",
    "    y = stats.beta(a=8+8-offset, b=2+2+offset).pdf(xvalue)\n",
    "    plt.annotate(text, xy=(xvalue, y), xytext=(0.2, y), arrowprops=prop)\n",
    "arrow('X=8', 0.8, 0)\n",
    "arrow('X=7', 0.7, 1)\n",
    "arrow('X=6', 0.6, 2)\n",
    "ax.set_ylabel('p.d.f.')\n",
    "plt.show()"
   ]
  },
  {
   "cell_type": "markdown",
   "id": "9965cc73",
   "metadata": {},
   "source": [
    "### Bayesian Testing and Estimation"
   ]
  },
  {
   "cell_type": "markdown",
   "id": "8d55eafa",
   "metadata": {},
   "source": [
    "#### Bayesian Testing"
   ]
  },
  {
   "cell_type": "code",
   "execution_count": 23,
   "id": "9087aa5d",
   "metadata": {
    "execution": {
     "iopub.execute_input": "2022-07-11T13:44:09.613577Z",
     "iopub.status.busy": "2022-07-11T13:44:09.613360Z",
     "iopub.status.idle": "2022-07-11T13:44:09.718360Z",
     "shell.execute_reply": "2022-07-11T13:44:09.717347Z"
    }
   },
   "outputs": [
    {
     "data": {
      "image/png": "[encoded data removed]",
      "text/plain": [
       "<Figure size 288x288 with 1 Axes>"
      ]
     },
     "metadata": {
      "needs_background": "light"
     },
     "output_type": "display_data"
    }
   ],
   "source": [
    "fig, ax = plt.subplots(figsize=[4, 4])\n",
    "ax.set_xlabel('$\\pi$')\n",
    "ax.set_ylabel('Risk')\n",
    "ax.set_xlim(-0.1, 1.1)\n",
    "ax.set_ylim(-0.4, 5.4)\n",
    "ax.plot([0,1], [0,5], linestyle='--', color='black')\n",
    "ax.plot([0,1], [1,0], linestyle=':', color='black')\n",
    "ax.plot([1/6,1/6], [0,5*1/6], linestyle=':', color='black')\n",
    "ax.plot([0,1/6], [0,5*1/6], linewidth=2, color='black')\n",
    "ax.plot([1/6, 1], [5*1/6, 0], linewidth=2, color='black')\n",
    "ax.text(-0.01, 1.2, '$r_0$')\n",
    "ax.text(1.01, 4.8, '$r_1$')\n",
    "ax.text(1/6-0.02, -0.21, '$\\pi^*$')\n",
    "plt.show()\n",
    "#lines(rep(1/6, 2), c(0, 5*1/6), lty=\"dashed\")\n",
    "#lines(c(0, 1/6), c(0, 5*1/6), lwd=2)\n",
    "#lines(c(1/6, 1), c(5*1/6, 0), lwd=2)"
   ]
  },
  {
   "cell_type": "markdown",
   "id": "c2e87f58",
   "metadata": {},
   "source": [
    "#### Bayesian Estimation"
   ]
  },
  {
   "cell_type": "code",
   "execution_count": 24,
   "id": "68c1a0c9",
   "metadata": {
    "execution": {
     "iopub.execute_input": "2022-07-11T13:44:09.721874Z",
     "iopub.status.busy": "2022-07-11T13:44:09.721252Z",
     "iopub.status.idle": "2022-07-11T13:44:09.815130Z",
     "shell.execute_reply": "2022-07-11T13:44:09.814294Z"
    }
   },
   "outputs": [
    {
     "data": {
      "image/png": "[encoded data removed]",
      "text/plain": [
       "<Figure size 360x360 with 1 Axes>"
      ]
     },
     "metadata": {
      "needs_background": "light"
     },
     "output_type": "display_data"
    }
   ],
   "source": [
    "np.random.seed(1)\n",
    "pois = [rv + 1 for rv in stats.poisson(mu=2).rvs(3)]\n",
    "\n",
    "V0 = 3\n",
    "B0 = 1\n",
    "V1 = V0 + sum(pois)\n",
    "B1 = B0 / (1 + len(pois) * B0)\n",
    "\n",
    "x = np.linspace(0, 6, 401)\n",
    "y_prior = stats.gamma.pdf(x, a=V0, scale=B0)\n",
    "y = stats.gamma.pdf(x, a=V1, scale=B1)\n",
    "\n",
    "conf_x = B1/2 * stats.chi2.ppf([0.1, 0.9], 2 * V1)\n",
    "# conf_y = stats.gamma.pdf(conf_x, a=V1, scale=B1)\n",
    "\n",
    "fig, ax = plt.subplots(figsize=[5, 5])\n",
    "ax.plot(x, y_prior, c='lightgrey')\n",
    "ax.plot(x, y, c='black')\n",
    "\n",
    "ax.fill_between(x[x<conf_x[0]], y[x<conf_x[0]], color=\"lightgrey\")\n",
    "ax.fill_between(x[x>conf_x[1]], y[x>conf_x[1]], color=\"lightgrey\")\n",
    "ax.set_xlabel('x')\n",
    "ax.set_ylabel('h')\n",
    "plt.show()"
   ]
  },
  {
   "cell_type": "markdown",
   "id": "2d1be2df",
   "metadata": {},
   "source": [
    "### Credibility Intervals For Real Parameters"
   ]
  },
  {
   "cell_type": "markdown",
   "id": "6c73bdbf",
   "metadata": {},
   "source": [
    "## Random Sampling From Reference Distributions"
   ]
  },
  {
   "cell_type": "code",
   "execution_count": 25,
   "id": "c4447bce",
   "metadata": {
    "execution": {
     "iopub.execute_input": "2022-07-11T13:44:09.819121Z",
     "iopub.status.busy": "2022-07-11T13:44:09.818266Z",
     "iopub.status.idle": "2022-07-11T13:44:09.841378Z",
     "shell.execute_reply": "2022-07-11T13:44:09.840567Z"
    }
   },
   "outputs": [],
   "source": [
    "random.seed(1)\n",
    "\n",
    "# Create a population of 90 0s and 10 1s\n",
    "population = [0] * 90\n",
    "population.extend([1] * 10)\n",
    "\n",
    "proportions = []\n",
    "for m in range(1000):\n",
    "  # sample 50 values from population using RSWR\n",
    "  sample = random.choices(population, k=50)\n",
    "  # keep the mean of the sample\n",
    "  proportions.append(np.mean(sample))"
   ]
  },
  {
   "cell_type": "code",
   "execution_count": 26,
   "id": "0259f217",
   "metadata": {
    "execution": {
     "iopub.execute_input": "2022-07-11T13:44:09.844764Z",
     "iopub.status.busy": "2022-07-11T13:44:09.843868Z",
     "iopub.status.idle": "2022-07-11T13:44:09.850330Z",
     "shell.execute_reply": "2022-07-11T13:44:09.849249Z"
    }
   },
   "outputs": [
    {
     "name": "stdout",
     "output_type": "stream",
     "text": [
      "[(0.0, 7),\n",
      " (0.02, 24),\n",
      " (0.04, 76),\n",
      " (0.06, 123),\n",
      " (0.08, 176),\n",
      " (0.1, 193),\n",
      " (0.12, 150),\n",
      " (0.14, 110),\n",
      " (0.16, 80),\n",
      " (0.18, 35),\n",
      " (0.2, 17),\n",
      " (0.22, 9)]\n"
     ]
    }
   ],
   "source": [
    "from collections import Counter\n",
    "from pprint import pprint\n",
    "\n",
    "frequencies = Counter(proportions)\n",
    "pprint(sorted(frequencies.items()))"
   ]
  },
  {
   "cell_type": "code",
   "execution_count": 27,
   "id": "507359b9",
   "metadata": {
    "execution": {
     "iopub.execute_input": "2022-07-11T13:44:09.853421Z",
     "iopub.status.busy": "2022-07-11T13:44:09.852813Z",
     "iopub.status.idle": "2022-07-11T13:44:10.029430Z",
     "shell.execute_reply": "2022-07-11T13:44:10.028416Z"
    }
   },
   "outputs": [],
   "source": [
    "random.seed(1)\n",
    "\n",
    "# Load the dataset\n",
    "X = mistat.load_data('ALMPIN')['lenWcp']\n",
    "Y = X - np.mean(X) + 60.1\n",
    "\n",
    "means = []\n",
    "for m in range(1000):\n",
    "  # sample 70 values from population using RSWR\n",
    "  sample = random.choices(Y, k=70)\n",
    "  # keep the mean of the sample\n",
    "  sample_mean = np.mean(sample)\n",
    "  means.append(0.005 * round(sample_mean/0.005))\n",
    "\n",
    "quant_001 = np.quantile(means, 0.01)"
   ]
  },
  {
   "cell_type": "code",
   "execution_count": 28,
   "id": "679cf768",
   "metadata": {
    "execution": {
     "iopub.execute_input": "2022-07-11T13:44:10.032318Z",
     "iopub.status.busy": "2022-07-11T13:44:10.032042Z",
     "iopub.status.idle": "2022-07-11T13:44:10.036918Z",
     "shell.execute_reply": "2022-07-11T13:44:10.036120Z"
    }
   },
   "outputs": [
    {
     "name": "stdout",
     "output_type": "stream",
     "text": [
      "60.080 & 1 \\\\\n",
      "60.085 & 9 \\\\\n",
      "60.090 & 78 \\\\\n",
      "60.095 & 230 \\\\\n",
      "60.100 & 350 \\\\\n",
      "60.105 & 239 \\\\\n",
      "60.110 & 79 \\\\\n",
      "60.115 & 12 \\\\\n",
      "60.120 & 2 \\\\\n"
     ]
    }
   ],
   "source": [
    "counts = sorted(Counter(means).items())\n",
    "for k, v in counts:\n",
    "  print(f'{k:.3f} & {v} \\\\\\\\')"
   ]
  },
  {
   "cell_type": "markdown",
   "id": "c92217d0",
   "metadata": {},
   "source": [
    "## Bootstrap Sampling"
   ]
  },
  {
   "cell_type": "markdown",
   "id": "fe83f074",
   "metadata": {},
   "source": [
    "### The Bootstrap Method"
   ]
  },
  {
   "cell_type": "code",
   "execution_count": 29,
   "id": "a553acc2",
   "metadata": {
    "execution": {
     "iopub.execute_input": "2022-07-11T13:44:10.039788Z",
     "iopub.status.busy": "2022-07-11T13:44:10.039561Z",
     "iopub.status.idle": "2022-07-11T13:44:10.057065Z",
     "shell.execute_reply": "2022-07-11T13:44:10.056305Z"
    }
   },
   "outputs": [
    {
     "name": "stdout",
     "output_type": "stream",
     "text": [
      " Mean: 508.4435\n",
      " 95%-CI: 480.3 - 534.7\n"
     ]
    }
   ],
   "source": [
    "etchrate = mistat.load_data('ETCHRATE')\n",
    "\n",
    "B = pg.compute_bootci(etchrate, func=np.mean, n_boot=1000,\n",
    "                      confidence=0.95, return_dist=True, seed=1)\n",
    "\n",
    "ci, distribution = B\n",
    "print(f' Mean: {np.mean(distribution)}')\n",
    "print(f' 95%-CI: {ci[0]:.1f} - {ci[1]:.1f}')"
   ]
  },
  {
   "cell_type": "code",
   "execution_count": 30,
   "id": "38f45367",
   "metadata": {
    "execution": {
     "iopub.execute_input": "2022-07-11T13:44:10.059663Z",
     "iopub.status.busy": "2022-07-11T13:44:10.059095Z",
     "iopub.status.idle": "2022-07-11T13:44:10.237487Z",
     "shell.execute_reply": "2022-07-11T13:44:10.236733Z"
    }
   },
   "outputs": [
    {
     "data": {
      "image/png": "[encoded data removed]",
      "text/plain": [
       "<Figure size 576x216 with 2 Axes>"
      ]
     },
     "metadata": {
      "needs_background": "light"
     },
     "output_type": "display_data"
    }
   ],
   "source": [
    "fig, axes = plt.subplots(figsize=[8, 3], ncols=2)\n",
    "etchrate.hist(ax=axes[0], color='grey')\n",
    "axes[1].axvspan(*ci, color='lightgrey')\n",
    "pd.Series(distribution).hist(ax=axes[1], color='grey')\n",
    "axes[0].set_title('Distribution')\n",
    "axes[1].set_title('Distribution of resampled mean')\n",
    "axes[1].axvline(ci[0], color='black')\n",
    "axes[1].axvline(ci[1], color='black')\n",
    "axes[1].axvline(550, color='black', linewidth=2, linestyle='--')\n",
    "plt.show()"
   ]
  },
  {
   "cell_type": "markdown",
   "id": "56ef3396",
   "metadata": {},
   "source": [
    "### Examining the Bootstrap Method"
   ]
  },
  {
   "cell_type": "markdown",
   "id": "4d244d79",
   "metadata": {},
   "source": [
    "### Harnessing The Bootstrap Method"
   ]
  },
  {
   "cell_type": "markdown",
   "id": "540b87bb",
   "metadata": {},
   "source": [
    "## Bootstrap Testing of Hypotheses"
   ]
  },
  {
   "cell_type": "markdown",
   "id": "2f1b692d",
   "metadata": {},
   "source": [
    "### Bootstrap Testing and Confidence Intervals for the Mean"
   ]
  },
  {
   "cell_type": "markdown",
   "id": "bb0f995c",
   "metadata": {},
   "source": [
    "### Studentized Test For the Mean"
   ]
  },
  {
   "cell_type": "code",
   "execution_count": 31,
   "id": "5f280559",
   "metadata": {
    "execution": {
     "iopub.execute_input": "2022-07-11T13:44:10.240556Z",
     "iopub.status.busy": "2022-07-11T13:44:10.240319Z",
     "iopub.status.idle": "2022-07-11T13:44:10.416562Z",
     "shell.execute_reply": "2022-07-11T13:44:10.415711Z"
    }
   },
   "outputs": [
    {
     "name": "stdout",
     "output_type": "stream",
     "text": [
      "bootstrap:  [2111.68 2176.32]\n",
      "\n",
      "Ttest_1sampResult(statistic=-0.3743199001200656, pvalue=0.7107146634282755)\n",
      "t-test 95% conf-interval (2107.4796487616936, 2179.3328512383064)\n",
      "\n"
     ]
    },
    {
     "data": {
      "text/plain": [
       "0.708"
      ]
     },
     "execution_count": 31,
     "metadata": {},
     "output_type": "execute_result"
    }
   ],
   "source": [
    "hybrid1 = mistat.load_data('HYBRID1')\n",
    "\n",
    "ci = pg.compute_bootci(hybrid1, func='mean', n_boot=500,\n",
    "                       confidence=0.95, method='per', seed=1)\n",
    "print('bootstrap: ', ci)\n",
    "print()\n",
    "\n",
    "print(stats.ttest_1samp(hybrid1, 2150))\n",
    "n = len(hybrid1) - 1\n",
    "t_test_confinterval = stats.t.interval(0.95, n, loc=np.mean(hybrid1),\n",
    "  scale=np.std(hybrid1)/np.sqrt(n))\n",
    "print('t-test 95% conf-interval', t_test_confinterval)\n",
    "print()\n",
    "\n",
    "# get distribution of bootstrapped pvalues and determine percentage of\n",
    "# values less than pvalue calculated from ttest_1samp\n",
    "def stat_func(x):\n",
    "    return stats.ttest_1samp(x, 2150).pvalue\n",
    "\n",
    "ci, dist = pg.compute_bootci(hybrid1, func=stat_func, n_boot=500,\n",
    "                       confidence=0.95, method='per',\n",
    "                       seed=1, return_dist=True)\n",
    "sum(dist < stats.ttest_1samp(hybrid1, 2150).pvalue) / len(dist)"
   ]
  },
  {
   "cell_type": "markdown",
   "id": "7d77357c",
   "metadata": {},
   "source": [
    "### Studentized Test for The Difference of Two Means"
   ]
  },
  {
   "cell_type": "code",
   "execution_count": 32,
   "id": "adf96d5a",
   "metadata": {
    "execution": {
     "iopub.execute_input": "2022-07-11T13:44:10.419611Z",
     "iopub.status.busy": "2022-07-11T13:44:10.419319Z",
     "iopub.status.idle": "2022-07-11T13:44:10.694421Z",
     "shell.execute_reply": "2022-07-11T13:44:10.693678Z"
    }
   },
   "outputs": [
    {
     "name": "stdout",
     "output_type": "stream",
     "text": [
      "Xbar {Xbar:.2f} / SX {SX:.3f}\n",
      "Ybar {Xbar:.2f} / SY {SX:.3f}\n"
     ]
    },
    {
     "name": "stdout",
     "output_type": "stream",
     "text": [
      "tstar-CI [-2.26597133  1.99806399]\n",
      "Dstar-CI [175.28976673 298.17679872]\n",
      "t0 8.348\n",
      "P*-value 0.00\n"
     ]
    }
   ],
   "source": [
    "random.seed(1)\n",
    "hybrid2 = mistat.load_data('HYBRID2')\n",
    "X = hybrid2['hyb1']\n",
    "Y = hybrid2['hyb2']\n",
    "Xbar = np.mean(X)\n",
    "Ybar = np.mean(Y)\n",
    "SX = np.std(X, ddof=1)\n",
    "SY = np.std(Y, ddof=1)\n",
    "print('Xbar {Xbar:.2f} / SX {SX:.3f}')\n",
    "print('Ybar {Xbar:.2f} / SY {SX:.3f}')\n",
    "\n",
    "def stat_func(x, y):\n",
    "    return stats.ttest_ind(x, y, equal_var=False).statistic\n",
    "\n",
    "tstar = []\n",
    "for _ in range(500):\n",
    "    Xstar = np.array(random.choices(X, k=len(X))) - Xbar\n",
    "    Ystar = np.array(random.choices(Y, k=len(Y))) - Ybar\n",
    "    tstar.append(stat_func(Xstar, Ystar))\n",
    "\n",
    "# calculate confidence interval for t* and D*\n",
    "alpha = 0.05\n",
    "tstar_ci = np.quantile(tstar, [alpha/2, 1-alpha/2])\n",
    "Dstar_ci = Xbar - Ybar + np.sqrt(SX**2/len(X) + SY**2/len(Y))*tstar_ci\n",
    "\n",
    "print('tstar-CI', tstar_ci)\n",
    "print('Dstar-CI', Dstar_ci)\n",
    "\n",
    "t0 = stat_func(X, Y)\n",
    "print(f't0 {t0:.3f}')\n",
    "pstar = (sum(tstar < -abs(t0)) + sum(abs(t0) < tstar)) / len(tstar)\n",
    "print(f'P*-value {pstar:.2f}')"
   ]
  },
  {
   "cell_type": "code",
   "execution_count": 33,
   "id": "960e4dd4",
   "metadata": {
    "execution": {
     "iopub.execute_input": "2022-07-11T13:44:10.697397Z",
     "iopub.status.busy": "2022-07-11T13:44:10.697149Z",
     "iopub.status.idle": "2022-07-11T13:44:10.803674Z",
     "shell.execute_reply": "2022-07-11T13:44:10.802534Z"
    }
   },
   "outputs": [
    {
     "data": {
      "image/png": "[encoded data removed]",
      "text/plain": [
       "<Figure size 432x288 with 1 Axes>"
      ]
     },
     "metadata": {
      "needs_background": "light"
     },
     "output_type": "display_data"
    }
   ],
   "source": [
    "ax = pd.Series(tstar).hist()\n",
    "ax.axvline(t0, color='black', lw=2)\n",
    "ax.axvline(-t0, color='black', lw=2)\n",
    "ax.set_xlabel('t* values')\n",
    "plt.show()"
   ]
  },
  {
   "cell_type": "markdown",
   "id": "45b85db5",
   "metadata": {},
   "source": [
    "### Bootstrap Tests and Confidence Intervals for the Variance"
   ]
  },
  {
   "cell_type": "code",
   "execution_count": 34,
   "id": "3ae73a0d",
   "metadata": {
    "execution": {
     "iopub.execute_input": "2022-07-11T13:44:10.807980Z",
     "iopub.status.busy": "2022-07-11T13:44:10.807136Z",
     "iopub.status.idle": "2022-07-11T13:44:10.834701Z",
     "shell.execute_reply": "2022-07-11T13:44:10.833701Z"
    }
   },
   "outputs": [
    {
     "name": "stdout",
     "output_type": "stream",
     "text": [
      "S20 = 24.837\n",
      "30.843882606534628\n",
      "Pstar = 0.016\n",
      "0.95-ci [282.1441534165316, 931.7079647027307]\n",
      "chi2-ci [356.7685004417997, 1315.9662831350934]\n",
      "boot-ci [408.4305942578152, 1348.7362154780665]\n"
     ]
    }
   ],
   "source": [
    "# create random sample with standard deviation 24.8\n",
    "from statsmodels.distributions.empirical_distribution import ECDF\n",
    "np.random.seed(seed=150)\n",
    "X = stats.norm.rvs(scale=20, size=20)\n",
    "S20 = np.std(X, ddof=1)\n",
    "print(f'S20 = {S20:.3f}')\n",
    "\n",
    "random.seed(1)\n",
    "sigma0 = 20\n",
    "GM = []\n",
    "for _ in range(500):\n",
    "    Xstar = random.choices(X, k=20)\n",
    "    GM.append(np.std(Xstar, ddof=1)**2)\n",
    "\n",
    "Pstar = sum(GM > (S20**2/sigma0)**2) / len(GM)\n",
    "print(S20**2/sigma0)\n",
    "print(f'Pstar = {Pstar:.3f}')\n",
    "\n",
    "alpha=0.05\n",
    "ci = np.quantile(GM, [alpha/2, 1-alpha/2])\n",
    "print(f'0.95-ci [{ci[0]}, {ci[1]}]')\n",
    "\n",
    "# chi2 confidence limit\n",
    "n = 20\n",
    "ci = (n-1)*S20**2 / stats.chi2.ppf([1-alpha/2, alpha/2], n-1)\n",
    "print(f'chi2-ci [{ci[0]}, {ci[1]}]')\n",
    "\n",
    "# bootstrapped based\n",
    "GMquant = np.quantile(GM, [1-alpha/2, alpha/2])\n",
    "ci = S20**4 / GMquant\n",
    "print(f'boot-ci [{ci[0]}, {ci[1]}]')"
   ]
  },
  {
   "cell_type": "markdown",
   "id": "1c2b8d4a",
   "metadata": {},
   "source": [
    "### Comparing Statistics of Several Samples"
   ]
  },
  {
   "cell_type": "markdown",
   "id": "33d1699f",
   "metadata": {},
   "source": [
    "#### Comparing Variances of Several Samples"
   ]
  },
  {
   "cell_type": "code",
   "execution_count": 35,
   "id": "727bc648",
   "metadata": {
    "execution": {
     "iopub.execute_input": "2022-07-11T13:44:10.837671Z",
     "iopub.status.busy": "2022-07-11T13:44:10.837427Z",
     "iopub.status.idle": "2022-07-11T13:44:10.850861Z",
     "shell.execute_reply": "2022-07-11T13:44:10.850003Z"
    }
   },
   "outputs": [
    {
     "name": "stdout",
     "output_type": "stream",
     "text": [
      "S2 hyb1     9929.539315\n",
      "hyb2    16648.350806\n",
      "hyb3    21001.007056\n",
      "dtype: float64\n",
      "F0 2.1150031629110884\n",
      "FBoot 95% 2.370310962512835\n",
      "ratio 0.104\n"
     ]
    }
   ],
   "source": [
    "hybrid = mistat.load_data('HYBRID')\n",
    "\n",
    "# variance for each column\n",
    "S2 = hybrid.var(axis=0)\n",
    "F0 = max(S2) / min(S2)\n",
    "print('S2', S2)\n",
    "print('F0', F0)\n",
    "\n",
    "# Step 1: sample variances of bootstrapped samples for each column\n",
    "B = {}\n",
    "for seed, column in enumerate(hybrid.columns):\n",
    "    B[column] = pg.compute_bootci(hybrid[column], func='var', n_boot=500,\n",
    "                       confidence=0.95, seed=seed, return_dist=True)\n",
    "Bt = pd.DataFrame({column: B[column][1] for column in hybrid.columns})\n",
    "\n",
    "# Step 2: compute Wi\n",
    "Wi = Bt / S2\n",
    "\n",
    "# Step 3: compute F*\n",
    "FBoot = Wi.max(axis=1) / Wi.min(axis=1)\n",
    "FBoot95 = np.quantile(FBoot, 0.95)\n",
    "print('FBoot 95%', FBoot95)\n",
    "print('ratio', sum(FBoot >= F0)/len(FBoot))"
   ]
  },
  {
   "cell_type": "code",
   "execution_count": 36,
   "id": "f3763303",
   "metadata": {
    "execution": {
     "iopub.execute_input": "2022-07-11T13:44:10.853439Z",
     "iopub.status.busy": "2022-07-11T13:44:10.853051Z",
     "iopub.status.idle": "2022-07-11T13:44:10.961594Z",
     "shell.execute_reply": "2022-07-11T13:44:10.960710Z"
    }
   },
   "outputs": [
    {
     "data": {
      "image/png": "[encoded data removed]",
      "text/plain": [
       "<Figure size 432x288 with 1 Axes>"
      ]
     },
     "metadata": {
      "needs_background": "light"
     },
     "output_type": "display_data"
    }
   ],
   "source": [
    "ax = pd.Series(FBoot).hist(bins=14, color='grey')\n",
    "ax.axvline(F0, color='black', lw=2)\n",
    "ax.set_xlabel('F* values')\n",
    "plt.show()"
   ]
  },
  {
   "cell_type": "markdown",
   "id": "85b49449",
   "metadata": {},
   "source": [
    "#### Comparing Several Means:  The One-Way Analysis of Variance"
   ]
  },
  {
   "cell_type": "code",
   "execution_count": 37,
   "id": "83452746",
   "metadata": {
    "execution": {
     "iopub.execute_input": "2022-07-11T13:44:10.964952Z",
     "iopub.status.busy": "2022-07-11T13:44:10.964404Z",
     "iopub.status.idle": "2022-07-11T13:44:11.455767Z",
     "shell.execute_reply": "2022-07-11T13:44:11.454676Z"
    }
   },
   "outputs": [
    {
     "name": "stdout",
     "output_type": "stream",
     "text": [
      "F = 50.333\n"
     ]
    },
    {
     "data": {
      "image/png": "[encoded data removed]",
      "text/plain": [
       "<Figure size 432x288 with 1 Axes>"
      ]
     },
     "metadata": {
      "needs_background": "light"
     },
     "output_type": "display_data"
    }
   ],
   "source": [
    "hybrid = mistat.load_data('HYBRID')\n",
    "hybrid_long = pd.melt(hybrid, value_vars=hybrid.columns)\n",
    "\n",
    "def test_statistic_F(samples):\n",
    "    ''' Calculate test statistic F from samples '''\n",
    "    k = len(samples)\n",
    "    Ni = np.array([len(sample) for sample in samples])\n",
    "    N = np.sum(Ni)\n",
    "    XBni = np.array([np.mean(sample) for sample in samples])\n",
    "    S2ni = np.array([np.var(sample, ddof=1) for sample in samples])\n",
    "    XBB = np.sum(Ni * XBni) / N\n",
    "    Sn = np.sum(Ni*(XBni - XBB)**2) / (k-1)\n",
    "    Sd = np.sum((Ni-1)*S2ni) / (N-1)\n",
    "    F0 = Sn / Sd\n",
    "    return F0, XBni, XBB\n",
    "\n",
    "samples = [hybrid['hyb1'], hybrid['hyb2'], hybrid['hyb3']]\n",
    "F0, XBni, XBB = test_statistic_F(samples)\n",
    "DB = XBni - XBB\n",
    "print(f'F = {F0:.3f}')\n",
    "\n",
    "Ns = 1000\n",
    "Fstar = []\n",
    "for _ in range(Ns):\n",
    "    Ysamples  = []\n",
    "    for sample, DBi in zip(samples, DB):\n",
    "        Xstar = np.array(random.choices(sample, k=len(sample)))\n",
    "        Ystar = Xstar - DBi\n",
    "        Ysamples.append(Ystar)\n",
    "    Fs = test_statistic_F(Ysamples)[0]\n",
    "    Fstar.append(Fs)\n",
    "\n",
    "ax = pd.Series(Fstar).hist(bins=14, color='grey')\n",
    "ax.axvline(F0, color='black', lw=2)\n",
    "ax.set_xlabel('F* values')\n",
    "plt.show()"
   ]
  },
  {
   "cell_type": "code",
   "execution_count": 38,
   "id": "b8e560c0",
   "metadata": {
    "execution": {
     "iopub.execute_input": "2022-07-11T13:44:11.459297Z",
     "iopub.status.busy": "2022-07-11T13:44:11.458835Z",
     "iopub.status.idle": "2022-07-11T13:44:11.888302Z",
     "shell.execute_reply": "2022-07-11T13:44:11.887589Z"
    }
   },
   "outputs": [
    {
     "name": "stdout",
     "output_type": "stream",
     "text": [
      "F = 49.274\n"
     ]
    }
   ],
   "source": [
    "def test_statistic_F(samples):\n",
    "    return stats.f_oneway(*samples).statistic\n",
    "\n",
    "F0 = test_statistic_F(samples)\n",
    "print(f'F = {F0:.3f}')\n",
    "\n",
    "# Calculate sample shifts\n",
    "Ni = np.array([len(sample) for sample in samples])\n",
    "N = np.sum(Ni)\n",
    "XBni = np.array([np.mean(sample) for sample in samples])\n",
    "XBB = np.sum(Ni * XBni) / N\n",
    "DB = XBni - XBB\n",
    "\n",
    "Ns = 1000\n",
    "Fstar = []\n",
    "for _ in range(Ns):\n",
    "    Ysamples  = []\n",
    "    for sample, DBi in zip(samples, DB):\n",
    "        Xstar = np.array(random.choices(sample, k=len(sample)))\n",
    "        Ysamples.append(Xstar - DBi)\n",
    "    Fs = test_statistic_F(Ysamples)\n",
    "    Fstar.append(Fs)"
   ]
  },
  {
   "cell_type": "markdown",
   "id": "515399a9",
   "metadata": {},
   "source": [
    "## Bootstrap Tolerance Intervals"
   ]
  },
  {
   "cell_type": "markdown",
   "id": "4eb54a33",
   "metadata": {},
   "source": [
    "### Bootstrap Tolerance Intervals For Bernoulli Samples"
   ]
  },
  {
   "cell_type": "code",
   "execution_count": 39,
   "id": "d032f5e1",
   "metadata": {
    "execution": {
     "iopub.execute_input": "2022-07-11T13:44:11.891078Z",
     "iopub.status.busy": "2022-07-11T13:44:11.890811Z",
     "iopub.status.idle": "2022-07-11T13:44:11.897370Z",
     "shell.execute_reply": "2022-07-11T13:44:11.896644Z"
    }
   },
   "outputs": [
    {
     "data": {
      "text/plain": [
       "array([1., 9.])"
      ]
     },
     "execution_count": 39,
     "metadata": {},
     "output_type": "execute_result"
    }
   ],
   "source": [
    "stats.binom.ppf([0.025, 0.975], 50, 0.1)"
   ]
  },
  {
   "cell_type": "code",
   "execution_count": 40,
   "id": "3ce31c6b",
   "metadata": {
    "execution": {
     "iopub.execute_input": "2022-07-11T13:44:11.899815Z",
     "iopub.status.busy": "2022-07-11T13:44:11.899618Z",
     "iopub.status.idle": "2022-07-11T13:44:11.972675Z",
     "shell.execute_reply": "2022-07-11T13:44:11.971918Z"
    }
   },
   "outputs": [
    {
     "name": "stdout",
     "output_type": "stream",
     "text": [
      "Tolerance interval (50.0, 85.0)\n"
     ]
    }
   ],
   "source": [
    "oelect = mistat.load_data('OELECT')\n",
    "\n",
    "elec_index = np.array([1 if 216 <= value <= 224 else 0\n",
    "                       for value in oelect])\n",
    "\n",
    "def qbinomBoot(x, p):\n",
    "    return stats.binom.ppf(p, 100, p=x.mean())\n",
    "\n",
    "B_025 = pg.compute_bootci(elec_index, func=lambda x: qbinomBoot(x, p=0.025),\n",
    "                          n_boot=500, seed=1, return_dist=True)\n",
    "B_975 = pg.compute_bootci(elec_index, func=lambda x: qbinomBoot(x, p=0.975),\n",
    "                          n_boot=500, seed=1, return_dist=True)\n",
    "tol_int = [np.quantile(B_025[1], 0.025),np.quantile(B_975[1], 0.975)]\n",
    "print(f'Tolerance interval ({tol_int[0]}, {tol_int[1]})')\n"
   ]
  },
  {
   "cell_type": "markdown",
   "id": "795a4713",
   "metadata": {},
   "source": [
    "### Tolerance Interval for Continuous Variables"
   ]
  },
  {
   "cell_type": "code",
   "execution_count": 41,
   "id": "25045ea9",
   "metadata": {
    "execution": {
     "iopub.execute_input": "2022-07-11T13:44:11.975705Z",
     "iopub.status.busy": "2022-07-11T13:44:11.975288Z",
     "iopub.status.idle": "2022-07-11T13:44:12.071392Z",
     "shell.execute_reply": "2022-07-11T13:44:12.070544Z"
    }
   },
   "outputs": [
    {
     "name": "stdout",
     "output_type": "stream",
     "text": [
      "0.025% 0.175\n",
      "0.975% 1.141\n"
     ]
    }
   ],
   "source": [
    "cyclt = mistat.load_data('CYCLT')\n",
    "cyclt = [*cyclt, *cyclt]  # create a dataset of size 100 by duplication\n",
    "\n",
    "def getQuantile(x, p):\n",
    "    return np.quantile(x, p)\n",
    "\n",
    "B_025 = pg.compute_bootci(cyclt, func=lambda x: getQuantile(x, p=0.025),\n",
    "          n_boot=500, seed=1, return_dist=True)\n",
    "B_975 = pg.compute_bootci(cyclt, func=lambda x: getQuantile(x, p=0.975),\n",
    "          n_boot=500, seed=1, return_dist=True)\n",
    "print('0.025%', np.quantile(B_025[1], 0.025))\n",
    "print('0.975%', np.quantile(B_975[1], 0.975))"
   ]
  },
  {
   "cell_type": "markdown",
   "id": "d9789ede",
   "metadata": {},
   "source": [
    "### Distribution Free Tolerance Intervals"
   ]
  },
  {
   "cell_type": "markdown",
   "id": "d2edb2a7",
   "metadata": {},
   "source": [
    "## Non-Parametric Tests"
   ]
  },
  {
   "cell_type": "markdown",
   "id": "61092ba8",
   "metadata": {},
   "source": [
    "### The Sign Test"
   ]
  },
  {
   "cell_type": "markdown",
   "id": "25b0afc9",
   "metadata": {},
   "source": [
    "### The Randomization Test"
   ]
  },
  {
   "cell_type": "code",
   "execution_count": 42,
   "id": "5ce0750b",
   "metadata": {
    "execution": {
     "iopub.execute_input": "2022-07-11T13:44:12.075669Z",
     "iopub.status.busy": "2022-07-11T13:44:12.074126Z",
     "iopub.status.idle": "2022-07-11T13:44:12.096764Z",
     "shell.execute_reply": "2022-07-11T13:44:12.095771Z"
    }
   },
   "outputs": [
    {
     "name": "stdout",
     "output_type": "stream",
     "text": [
      "\\toprule\n",
      "$A_{ij}$ & \\multicolumn{10}{c}{Assignments}\\\\\\midrule\n",
      "0.75 & 1 & 1 & 1 & 1 & 1 & 1 & 1 & 1 & 1 & 1 \\\\\n",
      "0.6 & 1 & 1 & 1 & 1 & 2 & 2 & 2 & 2 & 2 & 2 \\\\\n",
      "0.8 & 1 & 2 & 2 & 2 & 1 & 1 & 1 & 2 & 2 & 2 \\\\\n",
      "1.5 & 2 & 1 & 2 & 2 & 1 & 2 & 2 & 1 & 1 & 2 \\\\\n",
      "1.1 & 2 & 2 & 1 & 2 & 2 & 1 & 2 & 1 & 2 & 1 \\\\\n",
      "1.8 & 2 & 2 & 2 & 1 & 2 & 2 & 1 & 2 & 1 & 1 \\\\\n",
      "\\midrule\n",
      "D & 0.750 & 0.283 & 0.550 & 0.083 & 0.150 & 0.417 & -0.050 & -0.050 & -0.517 & -0.250 \\\\\n",
      "\\bottomrule\n",
      "\\addlinespace\n",
      "\\toprule\n",
      "$A_{ij}$ & \\multicolumn{10}{c}{Assignments}\\\\\\midrule\n",
      "0.75 & 2 & 2 & 2 & 2 & 2 & 2 & 2 & 2 & 2 & 2 \\\\\n",
      "0.6 & 1 & 1 & 1 & 1 & 1 & 1 & 2 & 2 & 2 & 2 \\\\\n",
      "0.8 & 1 & 1 & 1 & 2 & 2 & 2 & 1 & 1 & 1 & 2 \\\\\n",
      "1.5 & 1 & 2 & 2 & 1 & 1 & 2 & 1 & 1 & 2 & 1 \\\\\n",
      "1.1 & 2 & 1 & 2 & 1 & 2 & 1 & 1 & 2 & 1 & 1 \\\\\n",
      "1.8 & 2 & 2 & 1 & 2 & 1 & 1 & 2 & 1 & 1 & 1 \\\\\n",
      "\\midrule\n",
      "D & 0.250 & 0.517 & 0.050 & 0.050 & -0.417 & -0.150 & -0.083 & -0.550 & -0.283 & -0.750 \\\\\n",
      "\\bottomrule\n",
      "\\addlinespace\n"
     ]
    }
   ],
   "source": [
    "from itertools import permutations\n",
    "\n",
    "A = pd.Series([0.75, 0.60, 0.80, 1.5, 1.1, 1.8, ])\n",
    "sum_groups = A.groupby(list('111222')).sum()\n",
    "T1, T2 = sum_groups\n",
    "\n",
    "assignments = []\n",
    "for perm in sorted(set(permutations('111222'))):\n",
    "  perm = list(perm)\n",
    "  sum_groups = A.groupby(perm).sum()\n",
    "  perm.append((sum_groups['2'] - sum_groups['1']) / 3)\n",
    "  assignments.append(perm)\n",
    "columns = list(A)\n",
    "columns.append('D')\n",
    "result = pd.DataFrame(assignments, columns=columns)\n",
    "for block in (result.iloc[:10,], result.iloc[10:,]):\n",
    "  print('\\\\toprule')\n",
    "  print('$A_{ij}$ & \\\\multicolumn{10}{c}{Assignments}\\\\\\\\\\\\midrule')\n",
    "  for idx, row in block.transpose().iterrows():\n",
    "    if idx == 'D':\n",
    "      row = [f'{v:.3f}' for v in row]\n",
    "      print('\\\\midrule')\n",
    "    print(f\"{idx} & {' & '.join(row)} \\\\\\\\\")\n",
    "  print('\\\\bottomrule')\n",
    "  print('\\\\addlinespace')"
   ]
  },
  {
   "cell_type": "code",
   "execution_count": 43,
   "id": "fea8ce85",
   "metadata": {
    "execution": {
     "iopub.execute_input": "2022-07-11T13:44:12.099439Z",
     "iopub.status.busy": "2022-07-11T13:44:12.099161Z",
     "iopub.status.idle": "2022-07-11T13:44:12.496362Z",
     "shell.execute_reply": "2022-07-11T13:44:12.495605Z"
    }
   },
   "outputs": [
    {
     "name": "stdout",
     "output_type": "stream",
     "text": [
      "Original stat is -10.721980\n",
      "Original stat is at quantile 1 of 501 (0.20%)\n",
      "Distribution of bootstrap samples:\n",
      " min: -4.94, median: 0.16,  max: 4.55\n"
     ]
    }
   ],
   "source": [
    "oelect = mistat.load_data('OELECT')\n",
    "oelect1 = mistat.load_data('OELECT1')\n",
    "\n",
    "_ = mistat.randomizationTest(oelect, oelect1, np.mean,\n",
    "                             aggregate_stats=lambda x: x[0] - x[1],\n",
    "                             n_boot=500, seed=1)"
   ]
  },
  {
   "cell_type": "markdown",
   "id": "6daed032",
   "metadata": {},
   "source": [
    "### The Wilcoxon Signed Rank Test"
   ]
  },
  {
   "cell_type": "code",
   "execution_count": 44,
   "id": "2771d1bd",
   "metadata": {
    "execution": {
     "iopub.execute_input": "2022-07-11T13:44:12.498962Z",
     "iopub.status.busy": "2022-07-11T13:44:12.498721Z",
     "iopub.status.idle": "2022-07-11T13:44:12.506297Z",
     "shell.execute_reply": "2022-07-11T13:44:12.505418Z"
    }
   },
   "outputs": [
    {
     "name": "stdout",
     "output_type": "stream",
     "text": [
      "Wilcoxon signed-rank test (unsuitable for ties)\n",
      "RanksumsResult(statistic=-2.6111648393354674, pvalue=0.009023438818080326)\n",
      "Mann-Whitney U test (suitable for ties)\n",
      "MannwhitneyuResult(statistic=0.0, pvalue=0.007936507936507936)\n"
     ]
    }
   ],
   "source": [
    "X = [0.188, 0.353, -0.257, 0.220, 0.168]\n",
    "Y = [1.240, 1.821, 2.500, 2.319, 2.190]\n",
    "\n",
    "print('Wilcoxon signed-rank test (unsuitable for ties)')\n",
    "print(stats.ranksums(X, Y))\n",
    "print('Mann-Whitney U test (suitable for ties)')\n",
    "print(stats.mannwhitneyu(X, Y))"
   ]
  },
  {
   "cell_type": "markdown",
   "id": "9c73ddbe",
   "metadata": {},
   "source": [
    "## Chapter Highlights"
   ]
  },
  {
   "cell_type": "markdown",
   "id": "0288f388",
   "metadata": {},
   "source": [
    "## Exercises"
   ]
  }
 ],
 "metadata": {
  "language_info": {
   "codemirror_mode": {
    "name": "ipython",
    "version": 3
   },
   "file_extension": ".py",
   "mimetype": "text/x-python",
   "name": "python",
   "nbconvert_exporter": "python",
   "pygments_lexer": "ipython3",
   "version": "3.9.13"
  }
 },
 "nbformat": 4,
 "nbformat_minor": 5
}
