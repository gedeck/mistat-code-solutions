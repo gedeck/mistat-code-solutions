{
 "cells": [
  {
   "cell_type": "markdown",
   "id": "4c793c69",
   "metadata": {},
   "source": [
    "# Exercise Chapter 4 \n",
    "Industrial Statistics: A Computer Based Approach with Python<br>\n",
    "by Ron Kenett, Shelemyahu Zacks, Peter Gedeck\n",
    "\n",
    "Publisher: Springer International Publishing; 1st edition (2023) <br>\n",
    "<!-- ISBN-13: 978-3031075650 -->\n",
    "\n",
    "(c) 2022 Ron Kenett, Shelemyahu Zacks, Peter Gedeck\n",
    "\n",
    "The code needs to be executed in sequence."
   ]
  },
  {
   "cell_type": "code",
   "execution_count": null,
   "id": "8e2302b6",
   "metadata": {},
   "outputs": [],
   "source": [
    "import os\n",
    "os.environ['OUTDATED_IGNORE'] = '1'\n",
    "import warnings\n",
    "from outdated import OutdatedPackageWarning\n",
    "warnings.filterwarnings('ignore', category=FutureWarning)\n",
    "warnings.filterwarnings('ignore', category=OutdatedPackageWarning)"
   ]
  },
  {
   "cell_type": "code",
   "execution_count": null,
   "id": "6216af41",
   "metadata": {},
   "outputs": [],
   "source": [
    "import numpy as np\n",
    "import pandas as pd\n",
    "from scipy import stats\n",
    "import matplotlib.pyplot as plt\n",
    "import seaborn as sns\n",
    "\n",
    "import mistat"
   ]
  },
  {
   "cell_type": "markdown",
   "id": "dec5b7db",
   "metadata": {},
   "source": [
    "# Exercise 1"
   ]
  },
  {
   "cell_type": "code",
   "execution_count": null,
   "id": "97782449",
   "metadata": {},
   "outputs": [],
   "source": [
    "# use eqn 4.1.6 to calculate the upper control limit for monitoring\n",
    "n = 48; p = 3\n",
    "UCL = (n-1)*(n+1)*p/(n*(n-p)) * stats.f(p, n-p).ppf(0.997)\n",
    "\n",
    "tsq = mistat.load_data('TSQ')\n",
    "ax = tsq.plot()\n",
    "ax.axhline(UCL, color='black')\n",
    "ax.axhline(0, color='black')"
   ]
  },
  {
   "cell_type": "code",
   "execution_count": null,
   "id": "5947834f",
   "metadata": {},
   "outputs": [],
   "source": [
    "df = pd.DataFrame({\n",
    "    'T2': tsq,\n",
    "    'board': mistat.load_data('PLACE')['crcBrd'][48:],\n",
    "})\n",
    "ax = df.groupby('board').boxplot(column='T2', subplots=False, rot=90, grid=False)\n",
    "ax.axhline(UCL, color='grey')\n",
    "plt.show()"
   ]
  },
  {
   "cell_type": "markdown",
   "id": "0b34f3fe",
   "metadata": {},
   "source": [
    "# Exercise 3"
   ]
  },
  {
   "cell_type": "code",
   "execution_count": null,
   "id": "3b0885d9",
   "metadata": {},
   "outputs": [],
   "source": [
    "car = mistat.load_data('CAR')\n",
    "car = car.sort_values('cyl')\n",
    "columns = ['turn', 'hp', 'mpg']\n",
    "\n",
    "fig, axes = plt.subplots(nrows=3, figsize=[8, 8])\n",
    "for cyl, ax in zip([4, 6, 8], axes):\n",
    "  base = car.loc[car['cyl'] == cyl, columns]\n",
    "  newdata = car.loc[car['cyl'] != cyl, columns]\n",
    "  mqcc = mistat.MultivariateQualityControlChart(base, qcc_type='T2single',\n",
    "             confidence_level=0.99, newdata=newdata)\n",
    "  mqcc.plot(ax=ax, show_legend=False)\n",
    "  ax.set_ylabel(f'{cyl} cylinders')\n",
    "  plt.tight_layout()\n",
    "plt.show()"
   ]
  },
  {
   "cell_type": "markdown",
   "id": "4ba4cb22",
   "metadata": {},
   "source": [
    "# Exercise 4"
   ]
  },
  {
   "cell_type": "code",
   "execution_count": null,
   "id": "61fae2b2",
   "metadata": {},
   "outputs": [],
   "source": [
    "car = mistat.load_data('CAR')\n",
    "car = car.sort_values('cyl')\n",
    "columns = ['turn', 'hp', 'mpg']\n",
    "origins = [None, 'US', 'Europe', 'Asia']\n",
    "\n",
    "fig, axes = plt.subplots(nrows=3, figsize=[8, 8])\n",
    "for origin, ax in zip([1, 2, 3], axes):\n",
    "  base = car.loc[car['origin'] == origin, columns]\n",
    "  newdata = car.loc[car['origin'] != origin, columns]\n",
    "  mqcc = mistat.MultivariateQualityControlChart(base, qcc_type='T2single',\n",
    "             confidence_level=0.99, newdata=newdata)\n",
    "  mqcc.plot(ax=ax, show_legend=False)\n",
    "  ax.set_ylabel(f'Origin {origins[origin]}')\n",
    "plt.tight_layout()\n",
    "plt.show()"
   ]
  },
  {
   "cell_type": "code",
   "execution_count": null,
   "id": "881a8f97",
   "metadata": {},
   "outputs": [],
   "source": [
    "sns.pairplot(car[[*columns, 'cyl']], hue='cyl', height=1.5)\n",
    "sns.pairplot(car[[*columns, 'origin']], hue='origin', height=1.5)\n",
    "plt.show()"
   ]
  },
  {
   "cell_type": "markdown",
   "id": "a13ce16d",
   "metadata": {},
   "source": [
    "# Exercise 5"
   ]
  },
  {
   "cell_type": "code",
   "execution_count": null,
   "id": "200b6afa",
   "metadata": {},
   "outputs": [],
   "source": [
    "gasol = mistat.load_data('GASOL')\n",
    "mqcc = mistat.MultivariateQualityControlChart(gasol, qcc_type='T2single',\n",
    "           confidence_level=0.99)\n",
    "ax = mqcc.plot()\n",
    "ax.plot((11, 23), (1, 1), color='red')\n",
    "plt.show()"
   ]
  },
  {
   "cell_type": "code",
   "execution_count": null,
   "id": "0dcc2201",
   "metadata": {},
   "outputs": [],
   "source": [
    "gasol = mistat.load_data('GASOL')\n",
    "base = gasol.iloc[11:24]\n",
    "mqcc_base = mistat.MultivariateQualityControlChart(base, qcc_type='T2single',\n",
    "           confidence_level=0.99)\n",
    "mqcc = mistat.MultivariateQualityControlChart(gasol, qcc_type='T2single',\n",
    "          center=mqcc_base.stats.center, cov=mqcc_base.stats.cov,\n",
    "          confidence_level=0.99)\n",
    "ax = mqcc.plot()\n",
    "plt.show()\n",
    "gasol['color'] = ['red' if 11 <= i < 24 else 'black'\n",
    "                         for i in range(len(gasol))]\n",
    "sns.pairplot(gasol, hue='color', height=1.75)\n",
    "plt.show()"
   ]
  },
  {
   "cell_type": "markdown",
   "id": "3669aa87",
   "metadata": {},
   "source": [
    "# Exercise 6"
   ]
  },
  {
   "cell_type": "code",
   "execution_count": null,
   "id": "5eb391fd",
   "metadata": {},
   "outputs": [],
   "source": [
    "gasol = mistat.load_data('GASOL')\n",
    "base = gasol.iloc[24:32]\n",
    "mqcc_base = mistat.MultivariateQualityControlChart(base, qcc_type='T2single',\n",
    "           confidence_level=0.99)\n",
    "mqcc = mistat.MultivariateQualityControlChart(gasol, qcc_type='T2single',\n",
    "          center=mqcc_base.stats.center, cov=mqcc_base.stats.cov,\n",
    "          confidence_level=0.99)\n",
    "ax = mqcc.plot()\n",
    "plt.show()\n",
    "gasol['color'] = ['red' if 24 <= i < 32 else 'black'\n",
    "                         for i in range(len(gasol))]\n",
    "sns.pairplot(gasol, hue='color', height=1.75)\n",
    "plt.show()"
   ]
  }
 ],
 "metadata": {},
 "nbformat": 4,
 "nbformat_minor": 5
}
