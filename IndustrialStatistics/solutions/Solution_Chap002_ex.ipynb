{
 "cells": [
  {
   "cell_type": "markdown",
   "id": "2ff127ab",
   "metadata": {},
   "source": [
    "# Exercise Chapter 2 \n",
    "Industrial Statistics: A Computer Based Approach with Python<br>\n",
    "by Ron Kenett, Shelemyahu Zacks, Peter Gedeck\n",
    "\n",
    "Publisher: Springer International Publishing; 1st edition (2023) <br>\n",
    "<!-- ISBN-13: 978-3031075650 -->\n",
    "\n",
    "(c) 2022 Ron Kenett, Shelemyahu Zacks, Peter Gedeck\n",
    "\n",
    "The code needs to be executed in sequence."
   ]
  },
  {
   "cell_type": "code",
   "execution_count": null,
   "id": "cd862652",
   "metadata": {},
   "outputs": [],
   "source": [
    "import os\n",
    "os.environ['OUTDATED_IGNORE'] = '1'\n",
    "import warnings\n",
    "from outdated import OutdatedPackageWarning\n",
    "warnings.filterwarnings('ignore', category=FutureWarning)\n",
    "warnings.filterwarnings('ignore', category=OutdatedPackageWarning)"
   ]
  },
  {
   "cell_type": "code",
   "execution_count": null,
   "id": "b2a88d5a",
   "metadata": {},
   "outputs": [],
   "source": [
    "import numpy as np\n",
    "import pandas as pd\n",
    "import pingouin as pg\n",
    "from scipy import stats\n",
    "import statsmodels.api as sm\n",
    "import statsmodels.formula.api as smf\n",
    "import statsmodels.stats as sms\n",
    "from statsmodels.graphics.mosaicplot import mosaic\n",
    "import seaborn as sns\n",
    "import matplotlib.pyplot as plt\n",
    "import pwlf\n",
    "\n",
    "import mistat"
   ]
  },
  {
   "cell_type": "markdown",
   "id": "51c6cf9a",
   "metadata": {},
   "source": [
    "# Exercise 1"
   ]
  },
  {
   "cell_type": "code",
   "execution_count": null,
   "id": "40ba1248",
   "metadata": {},
   "outputs": [],
   "source": [
    "oelect = mistat.load_data('OELECT')\n",
    "qcc = mistat.QualityControlChart(oelect, qcc_type='xbarone',\n",
    "                                 std_dev='SD')\n",
    "qcc.plot()\n",
    "plt.show()"
   ]
  },
  {
   "cell_type": "markdown",
   "id": "cf31a1b0",
   "metadata": {},
   "source": [
    "# Exercise 2"
   ]
  },
  {
   "cell_type": "code",
   "execution_count": null,
   "id": "c0a8f32e",
   "metadata": {},
   "outputs": [],
   "source": [
    "steelrod = mistat.load_data('STEELROD')\n",
    "qcc = mistat.QualityControlChart(steelrod, qcc_type='xbarone',\n",
    "                                 std_dev='SD')\n",
    "qcc.plot()\n",
    "plt.show()"
   ]
  },
  {
   "cell_type": "markdown",
   "id": "128ea1fb",
   "metadata": {},
   "source": [
    "# Exercise 4"
   ]
  },
  {
   "cell_type": "code",
   "execution_count": null,
   "id": "0fa82fac",
   "metadata": {},
   "outputs": [],
   "source": [
    "oturb2 = mistat.load_data('OTURB2')\n",
    "# print(oturb2)\n",
    "sd = np.sqrt(oturb2['xbar'].var() / 5)\n",
    "center = oturb2['xbar'].mean()\n",
    "print(sd, center)\n",
    "qcc = mistat.QualityControlChart(oturb2['xbar'], qcc_type='xbarone',\n",
    "        center=center, std_dev=sd)\n",
    "qcc.plot()\n",
    "plt.show()"
   ]
  },
  {
   "cell_type": "markdown",
   "id": "82c3e976",
   "metadata": {},
   "source": [
    "# Exercise 6"
   ]
  },
  {
   "cell_type": "code",
   "execution_count": null,
   "id": "de1bb01a",
   "metadata": {},
   "outputs": [],
   "source": [
    "oelect = mistat.load_data('OELECT')\n",
    "\n",
    "qcc = mistat.QualityControlChart(oelect, qcc_type='xbarone',\n",
    "                                 std_dev='SD')\n",
    "pc = mistat.ProcessCapability(qcc, spec_limits = [210, 230])\n",
    "pc.plot()\n",
    "plt.show()\n",
    "pc.summary()"
   ]
  },
  {
   "cell_type": "markdown",
   "id": "5648d657",
   "metadata": {},
   "source": [
    "# Exercise 7"
   ]
  },
  {
   "cell_type": "code",
   "execution_count": null,
   "id": "705ce5cd",
   "metadata": {},
   "outputs": [],
   "source": [
    "oelect = mistat.load_data('OELECT')\n",
    "qcc = mistat.QualityControlChart(oelect, qcc_type='xbarone',\n",
    "    std_dev=4.004, center=219.25)\n",
    "pc = mistat.ProcessCapability(qcc, spec_limits = [210, 230],\n",
    "                              confidence_level=0.975)\n",
    "pc.summary()\n",
    "pc = mistat.ProcessCapability(qcc, spec_limits = [210, 230],\n",
    "                              confidence_level=0.95)\n",
    "pc.summary()"
   ]
  },
  {
   "cell_type": "code",
   "execution_count": null,
   "id": "7947762c",
   "metadata": {},
   "outputs": [],
   "source": [
    "def confidenceLimitSL(Cp, n, alpha):\n",
    "    F = stats.f(1, n-1).ppf(1-(1-alpha)/2)\n",
    "    a = np.sqrt(F/n) * np.sqrt(Cp**2/2 + (1 - F/(2*n))/9)\n",
    "    b = 1 - F/(2*n)\n",
    "    return (Cp - a) / b, (Cp + a )/ b\n",
    "\n",
    "n = len(oelect)\n",
    "rho_1L, rho_1U = confidenceLimitSL(pc.Cp_l, n, 0.95)\n",
    "rho_2L, rho_2U = confidenceLimitSL(pc.Cp_u, n, 0.95)\n",
    "print(rho_1L, rho_1U)\n",
    "print(rho_2L, rho_2U)"
   ]
  },
  {
   "cell_type": "markdown",
   "id": "4431c384",
   "metadata": {},
   "source": [
    "# Exercise 8"
   ]
  },
  {
   "cell_type": "code",
   "execution_count": null,
   "id": "bc524875",
   "metadata": {},
   "outputs": [],
   "source": [
    "steelrod = mistat.load_data('STEELROD')\n",
    "qcc = mistat.QualityControlChart(steelrod, qcc_type='xbarone',\n",
    "                                 std_dev='SD')\n",
    "pc = mistat.ProcessCapability(qcc, spec_limits = [19, 21],\n",
    "                              confidence_level=0.95)\n",
    "pc.summary()"
   ]
  },
  {
   "cell_type": "code",
   "execution_count": null,
   "id": "2fdc14c0",
   "metadata": {},
   "outputs": [],
   "source": [
    "n = len(steelrod)\n",
    "rho_1L, rho_1U = confidenceLimitSL(pc.Cp_l, n, 0.95)\n",
    "rho_2L, rho_2U = confidenceLimitSL(pc.Cp_u, n, 0.95)\n",
    "print(rho_1L, pc.Cp_l, rho_1U)\n",
    "print(rho_2L, pc.Cp_u, rho_2U)"
   ]
  },
  {
   "cell_type": "markdown",
   "id": "cad84f61",
   "metadata": {},
   "source": [
    "# Exercise 9"
   ]
  },
  {
   "cell_type": "code",
   "execution_count": null,
   "id": "e4676a89",
   "metadata": {},
   "outputs": [],
   "source": [
    "settings = {'m': 30, 's': 0.005, 'k': 1000, 't': 290, \n",
    "            'p0': 90_000, 'v0': 0.002, 't0': 340}\n",
    "\n",
    "simulator = mistat.PistonSimulator(n_simulation=20, n_replicate=1, seed=1, \n",
    "                                   **settings)\n",
    "Ps = simulator.simulate()\n",
    "cycleTime = mistat.qcc_groups(Ps['seconds'], Ps['group'])\n",
    "\n",
    "qcc = mistat.QualityControlChart(cycleTime, std_dev= Ps['seconds'].std())\n",
    "print(f'Mean    {qcc.center:.4f}')\n",
    "print(f'Std.Dev {qcc.std_dev:.4f}')"
   ]
  },
  {
   "cell_type": "code",
   "execution_count": null,
   "id": "6c77a045",
   "metadata": {},
   "outputs": [],
   "source": [
    "pc = mistat.ProcessCapability(qcc, spec_limits = [0.04, 0.06],\n",
    "                              confidence_level=0.95)\n",
    "print(f'C_p {pc.Cp:.3f}')"
   ]
  },
  {
   "cell_type": "code",
   "execution_count": null,
   "id": "4d5e6faa",
   "metadata": {},
   "outputs": [],
   "source": [
    "settings = {'m': 60, 's': 0.02, 'k': 5_000, 't': 296, \n",
    "            'p0': 110_000, 'v0': 0.01, 't0': 360}\n",
    "\n",
    "simulator = mistat.PistonSimulator(n_simulation=20, n_replicate=1, seed=1, **settings)\n",
    "Ps = simulator.simulate()\n",
    "cycleTime = mistat.qcc_groups(Ps['seconds'], Ps['group'])\n",
    "qcc = mistat.QualityControlChart(cycleTime, std_dev= Ps['seconds'].std())\n",
    "print(f'Mean    {qcc.center:.4f}')\n",
    "print(f'Std.Dev {qcc.std_dev:.4f}')"
   ]
  },
  {
   "cell_type": "code",
   "execution_count": null,
   "id": "585ffb8d",
   "metadata": {},
   "outputs": [],
   "source": [
    "pc = mistat.ProcessCapability(qcc, spec_limits = [0.04, 0.06],\n",
    "                              confidence_level=0.95)\n",
    "pc.summary()"
   ]
  },
  {
   "cell_type": "markdown",
   "id": "dba089a8",
   "metadata": {},
   "source": [
    "# Exercise 12"
   ]
  },
  {
   "cell_type": "code",
   "execution_count": null,
   "id": "a44a954d",
   "metadata": {},
   "outputs": [],
   "source": [
    "october = pd.DataFrame([\n",
    "  ['Missing component', 293],\n",
    "  ['Wrong component', 431],\n",
    "  ['Too much solder', 120],\n",
    "  ['Insufficient solder', 132],\n",
    "  ['Failed component', 183],\n",
    "], columns=['Issue', 'Count'])\n",
    "november = pd.DataFrame([\n",
    "  ['Missing component', 34],\n",
    "  ['Wrong component', 52],\n",
    "  ['Too much solder', 25],\n",
    "  ['Insufficient solder', 34],\n",
    "  ['Failed component', 18],\n",
    "], columns=['Issue', 'Count'])\n",
    "\n",
    "def makeParetoChart(data, ax, title):\n",
    "  paretoChart = mistat.ParetoChart(data['Count'], labels=data['Issue'])\n",
    "  paretoChart.plot(rotation=30, ha='right', ax=ax)\n",
    "  ax.set_title(title)\n",
    "\n",
    "fig, axes = plt.subplots(ncols=2, figsize=(8,4))\n",
    "makeParetoChart(october, axes[0], 'October')\n",
    "makeParetoChart(november, axes[1], 'November (2nd week)')\n",
    "fig.suptitle('')\n",
    "plt.tight_layout()\n",
    "plt.show()"
   ]
  },
  {
   "cell_type": "markdown",
   "id": "5e7c99d4",
   "metadata": {},
   "source": [
    "# Exercise 14"
   ]
  },
  {
   "cell_type": "code",
   "execution_count": null,
   "id": "dff0758d",
   "metadata": {},
   "outputs": [],
   "source": [
    "settings = {'m': 30, 's': 0.005, 'v0': 0.002, 'k': 1000,\n",
    "            'p0': 90_000, 't': 290, 't0': 340}\n",
    "\n",
    "simulator = mistat.PistonSimulator(n_simulation=20, n_replicate=5, seed=1, **settings)\n",
    "Ps = simulator.simulate()\n",
    "\n",
    "# Add 0.02 seconds to last 50 simulation results\n",
    "Ps.loc[50:,'seconds'] = Ps.loc[50:,'seconds'] + 0.02\n",
    "\n",
    "def makeQCCplot(data, reference, qcc_type, title):\n",
    "  # convert to groups\n",
    "  data = mistat.qcc_groups(data['seconds'], data['group'])\n",
    "  reference = mistat.qcc_groups(reference['seconds'], reference['group'])\n",
    "  # calculate control limits based on reference data\n",
    "  qcc_ref = mistat.QualityControlChart(reference, qcc_type=qcc_type)\n",
    "  qcc = mistat.QualityControlChart(data, qcc_type=qcc_type,\n",
    "    center=qcc_ref.center, limits=qcc_ref.limits)\n",
    "  return qcc.plot(title=title) \n",
    "\n",
    "# create xbar and R control charts\n",
    "reference = Ps.iloc[:50, ]\n",
    "\n",
    "makeQCCplot(Ps, reference, 'xbar', 'for cycleTime')\n",
    "plt.show()\n",
    "makeQCCplot(Ps, reference, 'R', 'for cycleTime')\n",
    "plt.show()"
   ]
  },
  {
   "cell_type": "code",
   "execution_count": null,
   "id": "1dd7aaf4",
   "metadata": {},
   "outputs": [],
   "source": [
    "# Create random numbers from U(0,1)\n",
    "R = stats.uniform.rvs(size=100)\n",
    "\n",
    "# sort cycle times using by the order of the random numbers \n",
    "# this randomizes the cycle times \n",
    "Ps['seconds'] = Ps['seconds'][R.argsort()].values\n",
    "# alternative versions\n",
    "# Ps['seconds'] = Ps['seconds'].sample(frac=1).values\n",
    "# Ps['seconds'] = [s for _, s in sorted(zip(R, Ps['seconds']))]\n",
    "\n",
    "makeQCCplot(Ps, Ps, 'xbar', 'for cycleTime')\n",
    "plt.show()\n",
    "makeQCCplot(Ps, Ps, 'R', 'for cycleTime')\n",
    "plt.show()"
   ]
  },
  {
   "cell_type": "markdown",
   "id": "ff5865b8",
   "metadata": {},
   "source": [
    "# Exercise 15"
   ]
  },
  {
   "cell_type": "code",
   "execution_count": null,
   "id": "780d2a6b",
   "metadata": {},
   "outputs": [],
   "source": [
    "settings = {'m': 30, 's': 0.005, 'v0': 0.002, 'k': 1000,\n",
    "            'p0': 90_000, 't': 290, 't0': 340}\n",
    "\n",
    "simulator = mistat.PistonSimulator(n_simulation=20, n_replicate=5, seed=1, **settings)\n",
    "Ps = simulator.simulate()\n",
    "data = mistat.qcc_groups(Ps['seconds'], Ps['group'])\n",
    "for qcc_type in ('xbar', 'S'):\n",
    "  qcc = mistat.QualityControlChart(data, qcc_type=qcc_type)\n",
    "  print(f'{qcc_type:4s} Center {qcc.center:.4f} Control limits ' +\n",
    "        f'[{qcc.limits.LCL[0]:.5f}, {qcc.limits.UCL[0]:.4f}]')"
   ]
  },
  {
   "cell_type": "code",
   "execution_count": null,
   "id": "cfbdb76e",
   "metadata": {},
   "outputs": [],
   "source": [
    "simulator = mistat.PistonSimulator(n_simulation=20, n_replicate=10, seed=1, **settings)\n",
    "Ps = simulator.simulate()\n",
    "data = mistat.qcc_groups(Ps['seconds'], Ps['group'])\n",
    "for qcc_type in ('xbar', 'S'):\n",
    "  qcc = mistat.QualityControlChart(data, qcc_type=qcc_type)\n",
    "  print(f'{qcc_type:4s} Center {qcc.center:.4f} Control limits ' +\n",
    "        f'[{qcc.limits.LCL[0]:.5f}, {qcc.limits.UCL[0]:.4f}]')"
   ]
  },
  {
   "cell_type": "markdown",
   "id": "e9361291",
   "metadata": {},
   "source": [
    "# Exercise 16"
   ]
  },
  {
   "cell_type": "code",
   "execution_count": null,
   "id": "f9b430e1",
   "metadata": {},
   "outputs": [],
   "source": [
    "data = mistat.load_data('PROCESS_SEGMENT')\n",
    "\n",
    "def sensorData(data, label):\n",
    "    series = data[label]\n",
    "    return pd.DataFrame({\n",
    "        'Time': np.arange(len(series)),\n",
    "        'values': series,\n",
    "    })\n",
    "\n",
    "sensorX = sensorData(data, 'X')\n",
    "sensorZ = sensorData(data, 'Z')\n",
    "\n",
    "def fitPiecewiseLinearFit(sensor, knots):\n",
    "    model = pwlf.PiecewiseLinFit(sensor['Time'], sensor['values'], degree=1)\n",
    "    model.fit(knots)\n",
    "    return model\n",
    "\n",
    "modelX = fitPiecewiseLinearFit(sensorX, 6)\n",
    "modelZ = fitPiecewiseLinearFit(sensorZ, 3)\n",
    "\n",
    "def plotPiecewiseLinearFit(sensor, model, ax, label):\n",
    "    for bp in model.fit_breaks[1:-1]:\n",
    "        ax.axvline(bp, color='lightgrey')\n",
    "    ax.scatter(sensor['Time'], sensor['values'], color='grey', alpha=0.5)\n",
    "    ax.plot(sensor['Time'], model.predict(sensor['Time']), color='black')\n",
    "    ax.set_xlabel('Time')\n",
    "    ax.set_ylabel(label)\n",
    "    return ax\n",
    "fig, axes = plt.subplots(ncols=2, figsize=(8,4))\n",
    "plotPiecewiseLinearFit(sensorX, modelX, axes[0], 'Sensor X')\n",
    "plotPiecewiseLinearFit(sensorZ, modelZ, axes[1], 'Sensor Z')\n",
    "plt.tight_layout()\n",
    "plt.show()"
   ]
  },
  {
   "cell_type": "code",
   "execution_count": null,
   "id": "aeb06409",
   "metadata": {},
   "outputs": [],
   "source": [
    "def getResultTable(model):\n",
    "    predictions = model.predict(model.fit_breaks).round(1)\n",
    "    df = pd.DataFrame({\n",
    "        'breaks': model.fit_breaks[:-1], \n",
    "        'slope': model.calc_slopes(),\n",
    "        'prediction': [f'{p1}--{p2}' for p1, p2 in zip(predictions[:-1], predictions[1:])]\n",
    "    })\n",
    "    borders = list(df['breaks'].round(1))\n",
    "    left = borders[1:]\n",
    "    right = borders[2:]\n",
    "    Range = [f'${l} \\\\leq\\mathrm{{Time}}< {r}$' for l, r in zip(left, right)]\n",
    "    Range.insert(0, f'$\\\\mathrm{{Time}}< {right[0]}$')\n",
    "    Range.append(f'${left[-1]} \\\\leq \\\\mathrm{{Time}}$')\n",
    "    df.insert(0, 'Range', Range)\n",
    "    df.index = [f'Segment {idx + 1}' for idx in df.index]\n",
    "    df = df.drop(columns='breaks')\n",
    "    return df\n",
    "df = getResultTable(modelX)"
   ]
  },
  {
   "cell_type": "code",
   "execution_count": null,
   "id": "8a645320",
   "metadata": {},
   "outputs": [],
   "source": [
    "df['Range'] = [s.replace('$', '').replace('\\leq', '<=').replace('\\mathrm{Time}', ' Time ') for s in df['Range']]\n",
    "df"
   ]
  },
  {
   "cell_type": "code",
   "execution_count": null,
   "id": "abdd0edd",
   "metadata": {},
   "outputs": [],
   "source": [
    "df = getResultTable(modelZ)"
   ]
  },
  {
   "cell_type": "code",
   "execution_count": null,
   "id": "2deea17c",
   "metadata": {},
   "outputs": [],
   "source": [
    "df['Range'] = [s.replace('$', '').replace('\\leq', '<=').replace('\\mathrm{Time}', ' Time ') for s in df['Range']]\n",
    "df"
   ]
  }
 ],
 "metadata": {},
 "nbformat": 4,
 "nbformat_minor": 5
}
