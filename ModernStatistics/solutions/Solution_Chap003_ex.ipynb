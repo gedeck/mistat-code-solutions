{
 "cells": [
  {
   "cell_type": "markdown",
   "id": "7f472222",
   "metadata": {},
   "source": [
    "# Exercise Chapter 3 \n",
    "Modern Statistics: A Computer Based Approach with Python<br>\n",
    "by Ron Kenett, Shelemyahu Zacks, Peter Gedeck\n",
    "\n",
    "Publisher: Springer International Publishing; 1st edition (September 15, 2022) <br>\n",
    "ISBN-13: 978-3031075650\n",
    "\n",
    "(c) 2022 Ron Kenett, Shelemyahu Zacks, Peter Gedeck\n",
    "\n",
    "The code needs to be executed in sequence."
   ]
  },
  {
   "cell_type": "code",
   "execution_count": 1,
   "id": "21531525",
   "metadata": {
    "execution": {
     "iopub.execute_input": "2022-08-23T12:26:33.891032Z",
     "iopub.status.busy": "2022-08-23T12:26:33.890707Z",
     "iopub.status.idle": "2022-08-23T12:26:33.943816Z",
     "shell.execute_reply": "2022-08-23T12:26:33.942454Z"
    }
   },
   "outputs": [],
   "source": [
    "import os\n",
    "os.environ['OUTDATED_IGNORE'] = '1'\n",
    "import warnings\n",
    "from outdated import OutdatedPackageWarning\n",
    "warnings.filterwarnings('ignore', category=FutureWarning)\n",
    "warnings.filterwarnings('ignore', category=OutdatedPackageWarning)"
   ]
  },
  {
   "cell_type": "code",
   "execution_count": 2,
   "id": "c1622607",
   "metadata": {
    "execution": {
     "iopub.execute_input": "2022-08-23T12:26:33.947546Z",
     "iopub.status.busy": "2022-08-23T12:26:33.946972Z",
     "iopub.status.idle": "2022-08-23T12:26:34.979152Z",
     "shell.execute_reply": "2022-08-23T12:26:34.978269Z"
    }
   },
   "outputs": [],
   "source": [
    "import random\n",
    "import math\n",
    "import numpy as np\n",
    "import pandas as pd\n",
    "from scipy import stats\n",
    "import matplotlib.pyplot as plt\n",
    "import pingouin as pg\n",
    "import mistat\n",
    "import os\n",
    "os.environ['OUTDATED_IGNORE'] = '1'"
   ]
  },
  {
   "cell_type": "markdown",
   "id": "4e3f1a27",
   "metadata": {},
   "source": [
    "# Exercise 15"
   ]
  },
  {
   "cell_type": "code",
   "execution_count": 3,
   "id": "5a1d7202",
   "metadata": {
    "execution": {
     "iopub.execute_input": "2022-08-23T12:26:34.981839Z",
     "iopub.status.busy": "2022-08-23T12:26:34.981639Z",
     "iopub.status.idle": "2022-08-23T12:26:35.235594Z",
     "shell.execute_reply": "2022-08-23T12:26:35.233866Z"
    }
   },
   "outputs": [
    {
     "data": {
      "image/png": "[encoded data removed]",
      "text/plain": [
       "<Figure size 640x480 with 1 Axes>"
      ]
     },
     "metadata": {},
     "output_type": "display_data"
    }
   ],
   "source": [
    "from mistat.acceptanceSampling import OperatingCharacteristics2c\n",
    "X = OperatingCharacteristics2c(30, 2, oc_type='binomial')\n",
    "df = pd.DataFrame({'p': X.pd, 'OC(p)': X.paccept})\n",
    "ax = df.plot(x='p', y='OC(p)', legend=False)\n",
    "ax.set_ylabel('OC(p)')\n",
    "ax.set_xlim(0, 0.5)\n",
    "plt.show()"
   ]
  },
  {
   "cell_type": "markdown",
   "id": "311b5cbc",
   "metadata": {},
   "source": [
    "# Exercise 18"
   ]
  },
  {
   "cell_type": "code",
   "execution_count": 4,
   "id": "b01a1cda",
   "metadata": {
    "execution": {
     "iopub.execute_input": "2022-08-23T12:26:35.240295Z",
     "iopub.status.busy": "2022-08-23T12:26:35.239626Z",
     "iopub.status.idle": "2022-08-23T12:26:35.247106Z",
     "shell.execute_reply": "2022-08-23T12:26:35.246357Z"
    }
   },
   "outputs": [
    {
     "name": "stdout",
     "output_type": "stream",
     "text": [
      "pvalue 0.35\n"
     ]
    }
   ],
   "source": [
    "socell = mistat.load_data('SOCELL')\n",
    "t1 = socell['t1']\n",
    "\n",
    "statistic, pvalue = stats.ttest_1samp(t1, 4.0)\n",
    "# divide pvalue by two for one-sided test\n",
    "pvalue = pvalue / 2\n",
    "print(f'pvalue {pvalue:.2f}')"
   ]
  },
  {
   "cell_type": "markdown",
   "id": "22bd9857",
   "metadata": {},
   "source": [
    "# Exercise 19"
   ]
  },
  {
   "cell_type": "code",
   "execution_count": 5,
   "id": "570f2b2a",
   "metadata": {
    "execution": {
     "iopub.execute_input": "2022-08-23T12:26:35.250924Z",
     "iopub.status.busy": "2022-08-23T12:26:35.249929Z",
     "iopub.status.idle": "2022-08-23T12:26:35.257971Z",
     "shell.execute_reply": "2022-08-23T12:26:35.257200Z"
    }
   },
   "outputs": [
    {
     "name": "stdout",
     "output_type": "stream",
     "text": [
      "pvalue 0.03\n"
     ]
    }
   ],
   "source": [
    "socell = mistat.load_data('SOCELL')\n",
    "t2 = socell['t2']\n",
    "\n",
    "statistic, pvalue = stats.ttest_1samp(t2, 4.0)\n",
    "# divide pvalue by two for one-sided test\n",
    "pvalue = pvalue / 2\n",
    "print(f'pvalue {pvalue:.2f}')"
   ]
  },
  {
   "cell_type": "markdown",
   "id": "1f8b7a40",
   "metadata": {},
   "source": [
    "# Exercise 20"
   ]
  },
  {
   "cell_type": "code",
   "execution_count": 6,
   "id": "b9fe3f1b",
   "metadata": {
    "execution": {
     "iopub.execute_input": "2022-08-23T12:26:35.260660Z",
     "iopub.status.busy": "2022-08-23T12:26:35.260366Z",
     "iopub.status.idle": "2022-08-23T12:26:35.265324Z",
     "shell.execute_reply": "2022-08-23T12:26:35.264477Z"
    }
   },
   "outputs": [],
   "source": [
    "delta = np.linspace(0, 1.0, 11)\n",
    "\n",
    "a = np.sqrt(30)\n",
    "b = 2.462 * ( 1 - 1/232)\n",
    "f = np.sqrt(1 + 6.0614 / 58)\n",
    "OC_delta = 1 - stats.norm.cdf((a * delta - b) / f)"
   ]
  },
  {
   "cell_type": "code",
   "execution_count": 7,
   "id": "83535bda",
   "metadata": {
    "execution": {
     "iopub.execute_input": "2022-08-23T12:26:35.268494Z",
     "iopub.status.busy": "2022-08-23T12:26:35.267897Z",
     "iopub.status.idle": "2022-08-23T12:26:35.272131Z",
     "shell.execute_reply": "2022-08-23T12:26:35.271380Z"
    }
   },
   "outputs": [
    {
     "name": "stdout",
     "output_type": "stream",
     "text": [
      "delta     OC\n",
      "0.0     0.990164\n",
      "0.1     0.964958\n",
      "0.2     0.901509\n",
      "0.3     0.779063\n",
      "0.4     0.597882\n",
      "0.5     0.392312\n",
      "0.6     0.213462\n",
      "0.7     0.094149\n",
      "0.8     0.033120\n",
      "0.9     0.009188\n",
      "1.0     0.001994\n"
     ]
    }
   ],
   "source": [
    "  print('delta     OC')\n",
    "  for delta, OC in zip(delta, OC_delta):\n",
    "    print(f'{delta:.1f}   {OC:10.6f}')"
   ]
  },
  {
   "cell_type": "markdown",
   "id": "4ed89081",
   "metadata": {},
   "source": [
    "# Exercise 21"
   ]
  },
  {
   "cell_type": "code",
   "execution_count": 8,
   "id": "1f551e7d",
   "metadata": {
    "execution": {
     "iopub.execute_input": "2022-08-23T12:26:35.275257Z",
     "iopub.status.busy": "2022-08-23T12:26:35.274582Z",
     "iopub.status.idle": "2022-08-23T12:26:35.279884Z",
     "shell.execute_reply": "2022-08-23T12:26:35.279138Z"
    }
   },
   "outputs": [],
   "source": [
    "sigma2 = np.linspace(1, 2, 11)\n",
    "OC_sigma2 = 1 - stats.poisson.cdf(30 / 2 - 1,\n",
    "                            stats.chi2(30).ppf(0.90) / (2 * sigma2))"
   ]
  },
  {
   "cell_type": "code",
   "execution_count": 9,
   "id": "73818bb5",
   "metadata": {
    "execution": {
     "iopub.execute_input": "2022-08-23T12:26:35.282622Z",
     "iopub.status.busy": "2022-08-23T12:26:35.281935Z",
     "iopub.status.idle": "2022-08-23T12:26:35.286593Z",
     "shell.execute_reply": "2022-08-23T12:26:35.285500Z"
    }
   },
   "outputs": [
    {
     "name": "stdout",
     "output_type": "stream",
     "text": [
      "sigma^2     OC\n",
      "1.0     0.900000\n",
      "1.1     0.810804\n",
      "1.2     0.700684\n",
      "1.3     0.582928\n",
      "1.4     0.469471\n",
      "1.5     0.368201\n",
      "1.6     0.282781\n",
      "1.7     0.213695\n",
      "1.8     0.159540\n",
      "1.9     0.118063\n",
      "2.0     0.086834\n"
     ]
    }
   ],
   "source": [
    "  print('sigma^2     OC')\n",
    "  for s, OC in zip(sigma2, OC_sigma2):\n",
    "    print(f'{s:.1f}   {OC:10.6f}')"
   ]
  },
  {
   "cell_type": "markdown",
   "id": "e00aae53",
   "metadata": {},
   "source": [
    "# Exercise 22"
   ]
  },
  {
   "cell_type": "code",
   "execution_count": 10,
   "id": "66588add",
   "metadata": {
    "execution": {
     "iopub.execute_input": "2022-08-23T12:26:35.289011Z",
     "iopub.status.busy": "2022-08-23T12:26:35.288808Z",
     "iopub.status.idle": "2022-08-23T12:26:35.481927Z",
     "shell.execute_reply": "2022-08-23T12:26:35.481055Z"
    }
   },
   "outputs": [
    {
     "data": {
      "image/png": "[encoded data removed]",
      "text/plain": [
       "<Figure size 640x480 with 1 Axes>"
      ]
     },
     "metadata": {},
     "output_type": "display_data"
    }
   ],
   "source": [
    "n = 100\n",
    "p0 = 0.1\n",
    "alpha = 0.05\n",
    "\n",
    "c_alpha = stats.binom(n, p0).ppf(1 - alpha)\n",
    "p = np.linspace(0.1, 0.35, 20)\n",
    "OC_exact = stats.binom(n, p).cdf(c_alpha)\n",
    "\n",
    "z_ma = stats.norm.ppf(1 - alpha)\n",
    "q0 = 1- p0\n",
    "pq = p * (1 - p)\n",
    "OC_approx = 1 - stats.norm.cdf((p - p0) * np.sqrt((n / pq)) -\n",
    "                               z_ma * np.sqrt(p0 * q0 / pq))\n",
    "df = pd.DataFrame({\n",
    "  'p': p,\n",
    "  'OC(p)': OC_exact,\n",
    "  '$OC_{approx}(p)$': OC_approx,\n",
    "})\n",
    "df.plot.line(x='p', y=['OC(p)', '$OC_{approx}(p)$'])\n",
    "plt.show()"
   ]
  },
  {
   "cell_type": "markdown",
   "id": "b3eb9663",
   "metadata": {},
   "source": [
    "# Exercise 25"
   ]
  },
  {
   "cell_type": "code",
   "execution_count": 11,
   "id": "feb226ae",
   "metadata": {
    "execution": {
     "iopub.execute_input": "2022-08-23T12:26:35.484946Z",
     "iopub.status.busy": "2022-08-23T12:26:35.484744Z",
     "iopub.status.idle": "2022-08-23T12:26:35.490829Z",
     "shell.execute_reply": "2022-08-23T12:26:35.490044Z"
    }
   },
   "outputs": [
    {
     "name": "stdout",
     "output_type": "stream",
     "text": [
      "(20.136889216656858, 21.38411078334315)\n"
     ]
    }
   ],
   "source": [
    "data = [20.74, 20.85, 20.54, 20.05, 20.08, 22.55, 19.61, 19.72,\n",
    "        20.34, 20.37, 22.69, 20.79, 21.76, 21.94, 20.31, 21.38,\n",
    "        20.42, 20.86, 18.80, 21.41]\n",
    "alpha = 1 - 0.99\n",
    "\n",
    "df = len(data) - 1\n",
    "mean = np.mean(data)\n",
    "sem = stats.sem(data)\n",
    "\n",
    "print(stats.t.interval(1 - alpha, df, loc=mean, scale=sem))"
   ]
  },
  {
   "cell_type": "code",
   "execution_count": 12,
   "id": "554df041",
   "metadata": {
    "execution": {
     "iopub.execute_input": "2022-08-23T12:26:35.493662Z",
     "iopub.status.busy": "2022-08-23T12:26:35.493023Z",
     "iopub.status.idle": "2022-08-23T12:26:35.499139Z",
     "shell.execute_reply": "2022-08-23T12:26:35.498433Z"
    }
   },
   "outputs": [
    {
     "name": "stdout",
     "output_type": "stream",
     "text": [
      "0.46795850248657883\n",
      "2.6380728125212016\n"
     ]
    }
   ],
   "source": [
    "var = np.var(data, ddof=1)\n",
    "print(df * var / stats.chi2(df).ppf(1 - alpha/2))\n",
    "print(df * var / stats.chi2(df).ppf(alpha/2))"
   ]
  },
  {
   "cell_type": "markdown",
   "id": "f21cb34b",
   "metadata": {},
   "source": [
    "# Exercise 27"
   ]
  },
  {
   "cell_type": "code",
   "execution_count": 13,
   "id": "4e552fca",
   "metadata": {
    "execution": {
     "iopub.execute_input": "2022-08-23T12:26:35.502794Z",
     "iopub.status.busy": "2022-08-23T12:26:35.502064Z",
     "iopub.status.idle": "2022-08-23T12:26:35.509313Z",
     "shell.execute_reply": "2022-08-23T12:26:35.508633Z"
    }
   },
   "outputs": [
    {
     "name": "stdout",
     "output_type": "stream",
     "text": [
      "0.6210731734546859 0.9679290628145363\n"
     ]
    }
   ],
   "source": [
    "alpha = 1 - 0.95\n",
    "X = 17\n",
    "n = 20\n",
    "F1 = stats.f(2*(n-X+1), 2*X).ppf(1 - alpha/2)\n",
    "F2 = stats.f(2*(X+1), 2*(n-X)).ppf(1 - alpha/2)\n",
    "pL = X / (X + (n-X+1) * F1)\n",
    "pU = (X+1) * F2 / (n-X + (X+1) * F2)\n",
    "print(pL, pU)"
   ]
  },
  {
   "cell_type": "markdown",
   "id": "2f22b7c5",
   "metadata": {},
   "source": [
    "# Exercise 28"
   ]
  },
  {
   "cell_type": "code",
   "execution_count": 14,
   "id": "98ab3a6f",
   "metadata": {
    "execution": {
     "iopub.execute_input": "2022-08-23T12:26:35.511937Z",
     "iopub.status.busy": "2022-08-23T12:26:35.511533Z",
     "iopub.status.idle": "2022-08-23T12:26:35.519635Z",
     "shell.execute_reply": "2022-08-23T12:26:35.518882Z"
    }
   },
   "outputs": [
    {
     "name": "stdout",
     "output_type": "stream",
     "text": [
      "11.318870163746238\n",
      "15.870459268116013\n",
      "11.222727638613012\n",
      "15.777272361386988\n"
     ]
    }
   ],
   "source": [
    "X = [14, 16, 11, 19, 11, 9, 12, 15, 14, 13]\n",
    "alpha = 1 - 0.95\n",
    "T_n = np.sum(X)\n",
    "\n",
    "# exact solution\n",
    "print(stats.chi2(2 * T_n + 2).ppf(alpha/2) / (2 * len(X)))\n",
    "print(stats.chi2(2 * T_n + 2).ppf(1 - alpha/2) / (2 * len(X)))\n",
    "\n",
    "# approximate solution\n",
    "nu = 2 * T_n + 2\n",
    "print((nu + stats.norm.ppf(alpha/2) * np.sqrt(2 * nu)) / (2 * len(X)))\n",
    "print((nu + stats.norm.ppf(1-alpha/2) * np.sqrt(2 * nu)) / (2 * len(X)))"
   ]
  },
  {
   "cell_type": "markdown",
   "id": "ff798378",
   "metadata": {},
   "source": [
    "# Exercise 30"
   ]
  },
  {
   "cell_type": "code",
   "execution_count": 15,
   "id": "d722acd8",
   "metadata": {
    "execution": {
     "iopub.execute_input": "2022-08-23T12:26:35.522492Z",
     "iopub.status.busy": "2022-08-23T12:26:35.521832Z",
     "iopub.status.idle": "2022-08-23T12:26:35.530150Z",
     "shell.execute_reply": "2022-08-23T12:26:35.529389Z"
    }
   },
   "outputs": [
    {
     "name": "stdout",
     "output_type": "stream",
     "text": [
      "0.7306652047594424 5.117020795240556\n"
     ]
    }
   ],
   "source": [
    "yarnstrg = mistat.load_data('YARNSTRG')\n",
    "n = len(yarnstrg)\n",
    "Ybar = yarnstrg.mean()\n",
    "S = yarnstrg.std()\n",
    "\n",
    "alpha, beta = 0.025, 0.025\n",
    "z_1a = stats.norm.ppf(1-alpha)\n",
    "z_1b = stats.norm.ppf(1-beta)\n",
    "z_a = stats.norm.ppf(alpha)\n",
    "z_b = stats.norm.ppf(beta)\n",
    "\n",
    "t_abn = (z_1b/(1 - z_1a**2/(2*n)) +\n",
    "         z_1a*np.sqrt(1 + z_b**2/2 - z_1a**2/(2*n)) /\n",
    "             (np.sqrt(n)*(1 - z_1a**2/(2*n))))\n",
    "\n",
    "print(Ybar - t_abn*S, Ybar + t_abn*S)"
   ]
  },
  {
   "cell_type": "markdown",
   "id": "3d359d9b",
   "metadata": {},
   "source": [
    "# Exercise 32"
   ]
  },
  {
   "cell_type": "code",
   "execution_count": 16,
   "id": "7c3d8eb8",
   "metadata": {
    "execution": {
     "iopub.execute_input": "2022-08-23T12:26:35.534079Z",
     "iopub.status.busy": "2022-08-23T12:26:35.533836Z",
     "iopub.status.idle": "2022-08-23T12:26:35.654850Z",
     "shell.execute_reply": "2022-08-23T12:26:35.653915Z"
    }
   },
   "outputs": [
    {
     "data": {
      "image/png": "[encoded data removed]",
      "text/plain": [
       "<Figure size 400x400 with 1 Axes>"
      ]
     },
     "metadata": {},
     "output_type": "display_data"
    }
   ],
   "source": [
    "socell = mistat.load_data('SOCELL')\n",
    "fig, ax = plt.subplots(figsize=[4, 4])\n",
    "pg.qqplot(socell['t1'], ax=ax)\n",
    "plt.show()"
   ]
  },
  {
   "cell_type": "markdown",
   "id": "70a7af33",
   "metadata": {},
   "source": [
    "# Exercise 33"
   ]
  },
  {
   "cell_type": "code",
   "execution_count": 17,
   "id": "6bb472ac",
   "metadata": {
    "execution": {
     "iopub.execute_input": "2022-08-23T12:26:35.658764Z",
     "iopub.status.busy": "2022-08-23T12:26:35.657862Z",
     "iopub.status.idle": "2022-08-23T12:26:35.887773Z",
     "shell.execute_reply": "2022-08-23T12:26:35.886771Z"
    }
   },
   "outputs": [
    {
     "data": {
      "image/png": "[encoded data removed]",
      "text/plain": [
       "<Figure size 600x300 with 2 Axes>"
      ]
     },
     "metadata": {},
     "output_type": "display_data"
    }
   ],
   "source": [
    "car = mistat.load_data('CAR')\n",
    "\n",
    "fig, axes = plt.subplots(figsize=[6, 3], ncols=2)\n",
    "pg.qqplot(car['turn'], ax=axes[0])\n",
    "pg.qqplot(np.log(car['hp']), ax=axes[1])\n",
    "axes[0].set_title('Q-Q plot (turn diameter)')\n",
    "axes[1].set_title('Q-Q plot (log(horse-power))')\n",
    "plt.tight_layout()\n",
    "plt.show()"
   ]
  },
  {
   "cell_type": "markdown",
   "id": "615f7bdc",
   "metadata": {},
   "source": [
    "# Exercise 34"
   ]
  },
  {
   "cell_type": "code",
   "execution_count": 18,
   "id": "5e1bf915",
   "metadata": {
    "execution": {
     "iopub.execute_input": "2022-08-23T12:26:35.890871Z",
     "iopub.status.busy": "2022-08-23T12:26:35.890630Z",
     "iopub.status.idle": "2022-08-23T12:26:35.916808Z",
     "shell.execute_reply": "2022-08-23T12:26:35.915287Z"
    }
   },
   "outputs": [
    {
     "name": "stdout",
     "output_type": "stream",
     "text": [
      "          observed   expected  (O-E)^2/E\n",
      "[28, 31)        11   8.197333   0.958231\n",
      "[31, 32)         8   6.318478   0.447500\n",
      "[32, 33)         9   8.668695   0.012662\n",
      "[33, 34)         6  10.869453   2.181487\n",
      "[34, 35)        18  12.455897   2.467673\n",
      "[35, 36)         8  13.045357   1.951317\n",
      "[36, 37)        13  12.486789   0.021093\n",
      "[37, 38)         6  10.923435   2.219102\n",
      "[38, 39)         9   8.733354   0.008141\n",
      "[39, 40)         8   6.381395   0.410550\n",
      "[40, 44)        13   9.052637   1.721231\n",
      "chi2-statistic of fit 12.398987638400024\n",
      "chi2[8] for 95% 15.50731305586545\n",
      "p-value of observed statistic 0.1342700576126994\n"
     ]
    }
   ],
   "source": [
    "car = mistat.load_data('CAR')\n",
    "turn = car['turn']\n",
    "n = len(turn)\n",
    "bins = [math.floor(turn.min()), *range(31, 41), math.ceil(turn.max())]\n",
    "observed = pd.cut(car['turn'], bins, right=False).value_counts(sort=False)\n",
    "\n",
    "dist = stats.norm(loc=turn.mean(), scale=turn.std())\n",
    "expected = [n * (dist.cdf(idx.right) - dist.cdf(idx.left)) for idx in observed.index]\n",
    "df = pd.DataFrame({\n",
    "  'observed': observed,\n",
    "  'expected': expected,\n",
    "  '(O-E)^2/E': (observed-expected)**2/expected,\n",
    "}, index=observed.index)\n",
    "print(df)\n",
    "chi2 = df['(O-E)^2/E'].sum()\n",
    "print('chi2-statistic of fit', chi2)\n",
    "\n",
    "\n",
    "df = len(bins) - 3\n",
    "alpha = 1-0.95\n",
    "print(f'chi2[{df-1}] for 95%', stats.chi2(df - 1).ppf(1-alpha))\n",
    "print('p-value of observed statistic', 1 - stats.chi2(df - 1).cdf(chi2))"
   ]
  },
  {
   "cell_type": "markdown",
   "id": "61822ed2",
   "metadata": {},
   "source": [
    "# Exercise 35"
   ]
  },
  {
   "cell_type": "code",
   "execution_count": 19,
   "id": "cabc6fee",
   "metadata": {
    "execution": {
     "iopub.execute_input": "2022-08-23T12:26:35.921225Z",
     "iopub.status.busy": "2022-08-23T12:26:35.920625Z",
     "iopub.status.idle": "2022-08-23T12:26:35.931611Z",
     "shell.execute_reply": "2022-08-23T12:26:35.930590Z"
    }
   },
   "outputs": [
    {
     "name": "stdout",
     "output_type": "stream",
     "text": [
      "KstestResult(statistic=0.07019153486614366, pvalue=0.6303356787948367)\n",
      "k_alpha 0.08514304524687971\n"
     ]
    }
   ],
   "source": [
    "car = mistat.load_data('CAR')\n",
    "turn = car['turn']\n",
    "\n",
    "result = stats.kstest(turn, 'norm',\n",
    "          args=(np.mean(turn), np.std(turn, ddof=1)),\n",
    "          alternative='two-sided')\n",
    "print(result)\n",
    "\n",
    "d_alpha = 0.895\n",
    "n = len(turn)\n",
    "k_alpha = d_alpha / (np.sqrt(n) - 0.01 + 0.85 / np.sqrt(n))\n",
    "print('k_alpha', k_alpha)"
   ]
  },
  {
   "cell_type": "markdown",
   "id": "80dcb165",
   "metadata": {},
   "source": [
    "# Exercise 42"
   ]
  },
  {
   "cell_type": "code",
   "execution_count": 20,
   "id": "cd9eb772",
   "metadata": {
    "execution": {
     "iopub.execute_input": "2022-08-23T12:26:35.935365Z",
     "iopub.status.busy": "2022-08-23T12:26:35.934462Z",
     "iopub.status.idle": "2022-08-23T12:26:36.095157Z",
     "shell.execute_reply": "2022-08-23T12:26:36.093889Z"
    }
   },
   "outputs": [
    {
     "data": {
      "image/png": "[encoded data removed]",
      "text/plain": [
       "<Figure size 400x400 with 1 Axes>"
      ]
     },
     "metadata": {},
     "output_type": "display_data"
    }
   ],
   "source": [
    "random.seed(1)\n",
    "car = mistat.load_data('CAR')\n",
    "\n",
    "def mean_of_sample_with_replacement(x, n):\n",
    "  sample = random.choices(x, k=n)\n",
    "  return np.mean(sample)\n",
    "\n",
    "means = [mean_of_sample_with_replacement(car['mpg'], 64)\n",
    "         for _ in range(200)]\n",
    "\n",
    "fig, ax = plt.subplots(figsize=[4, 4])\n",
    "pg.qqplot(means, ax=ax)\n",
    "plt.show()"
   ]
  },
  {
   "cell_type": "code",
   "execution_count": 21,
   "id": "a44ffeac",
   "metadata": {
    "execution": {
     "iopub.execute_input": "2022-08-23T12:26:36.099464Z",
     "iopub.status.busy": "2022-08-23T12:26:36.098162Z",
     "iopub.status.idle": "2022-08-23T12:26:36.104775Z",
     "shell.execute_reply": "2022-08-23T12:26:36.103749Z"
    }
   },
   "outputs": [
    {
     "name": "stdout",
     "output_type": "stream",
     "text": [
      "standard deviation of mpg 3.9172332424696052\n",
      "S/8 0.48965415530870066\n",
      "S.E.\\{X\\} 0.44718791755315535\n"
     ]
    }
   ],
   "source": [
    "S = np.std(car['mpg'], ddof=1)\n",
    "print('standard deviation of mpg', S)\n",
    "print('S/8', S/8)\n",
    "S_resample = np.std(means, ddof=1)\n",
    "print('S.E.\\{X\\}', S_resample)"
   ]
  },
  {
   "cell_type": "markdown",
   "id": "6d6b7998",
   "metadata": {},
   "source": [
    "# Exercise 43"
   ]
  },
  {
   "cell_type": "code",
   "execution_count": 22,
   "id": "6ea0be6f",
   "metadata": {
    "execution": {
     "iopub.execute_input": "2022-08-23T12:26:36.108188Z",
     "iopub.status.busy": "2022-08-23T12:26:36.107552Z",
     "iopub.status.idle": "2022-08-23T12:26:36.182572Z",
     "shell.execute_reply": "2022-08-23T12:26:36.181667Z"
    }
   },
   "outputs": [
    {
     "name": "stdout",
     "output_type": "stream",
     "text": [
      " Mean: 2.9238429999999993\n",
      " 2-sigma-CI: 2.7 - 3.1\n",
      " proportion outside: 0.068\n"
     ]
    }
   ],
   "source": [
    "random.seed(1)\n",
    "yarnstrg = mistat.load_data('YARNSTRG')\n",
    "\n",
    "def confidence_interval(x, nsigma=2):\n",
    "  sample_mean = np.mean(x)\n",
    "  sigma = np.std(x, ddof=1) / np.sqrt(len(x))\n",
    "  return (sample_mean - 2 * sigma, sample_mean + 2 * sigma)\n",
    "\n",
    "mean = np.mean(yarnstrg)\n",
    "outside = 0\n",
    "for _ in range(500):\n",
    "  sample = random.choices(yarnstrg, k=30)\n",
    "  ci = confidence_interval(sample)\n",
    "  if mean < ci[0] or ci[1] < mean:\n",
    "    outside += 1\n",
    "\n",
    "hat_alpha = outside / 500\n",
    "\n",
    "ci = confidence_interval(yarnstrg)\n",
    "print(f' Mean: {mean}')\n",
    "print(f' 2-sigma-CI: {ci[0]:.1f} - {ci[1]:.1f}')\n",
    "print(f' proportion outside: {hat_alpha:.3f}')"
   ]
  },
  {
   "cell_type": "markdown",
   "id": "2104eb9d",
   "metadata": {},
   "source": [
    "# Exercise 44"
   ]
  },
  {
   "cell_type": "code",
   "execution_count": 23,
   "id": "98048b10",
   "metadata": {
    "execution": {
     "iopub.execute_input": "2022-08-23T12:26:36.185986Z",
     "iopub.status.busy": "2022-08-23T12:26:36.185254Z",
     "iopub.status.idle": "2022-08-23T12:26:36.195586Z",
     "shell.execute_reply": "2022-08-23T12:26:36.194678Z"
    }
   },
   "outputs": [
    {
     "name": "stdout",
     "output_type": "stream",
     "text": [
      "0.23\n"
     ]
    }
   ],
   "source": [
    "random.seed(1)\n",
    "car = mistat.load_data('CAR')\n",
    "us_cars = car[car['origin'] == 1]\n",
    "us_turn = list(us_cars['turn'])\n",
    "\n",
    "sample_means = []\n",
    "for _ in range(100):\n",
    "  x = random.choices(us_turn, k=58)\n",
    "  sample_means.append(np.mean(x))\n",
    "\n",
    "is_larger = sum(m > 37.406 for m in sample_means)\n",
    "ratio = is_larger / len(sample_means)\n",
    "print(ratio)"
   ]
  },
  {
   "cell_type": "markdown",
   "id": "e070cb06",
   "metadata": {},
   "source": [
    "# Exercise 45"
   ]
  },
  {
   "cell_type": "code",
   "execution_count": 24,
   "id": "f9292ee9",
   "metadata": {
    "execution": {
     "iopub.execute_input": "2022-08-23T12:26:36.198858Z",
     "iopub.status.busy": "2022-08-23T12:26:36.198359Z",
     "iopub.status.idle": "2022-08-23T12:26:36.206081Z",
     "shell.execute_reply": "2022-08-23T12:26:36.205039Z"
    }
   },
   "outputs": [
    {
     "data": {
      "text/plain": [
       "4.0"
      ]
     },
     "execution_count": 24,
     "metadata": {},
     "output_type": "execute_result"
    }
   ],
   "source": [
    "stats.binom(50, 0.03).ppf(0.95)"
   ]
  },
  {
   "cell_type": "markdown",
   "id": "0ec508de",
   "metadata": {},
   "source": [
    "# Exercise 46"
   ]
  },
  {
   "cell_type": "code",
   "execution_count": 25,
   "id": "9910b3be",
   "metadata": {
    "execution": {
     "iopub.execute_input": "2022-08-23T12:26:36.209161Z",
     "iopub.status.busy": "2022-08-23T12:26:36.208579Z",
     "iopub.status.idle": "2022-08-23T12:26:36.251483Z",
     "shell.execute_reply": "2022-08-23T12:26:36.250436Z"
    }
   },
   "outputs": [
    {
     "name": "stdout",
     "output_type": "stream",
     "text": [
      " Mean: 0.652\n",
      " 95%-CI: 0.550 - 0.760\n",
      " Mean: 0.370\n",
      " 95%-CI: 0.340 - 0.400\n"
     ]
    }
   ],
   "source": [
    "random.seed(1)\n",
    "cyclt = mistat.load_data('CYCLT')\n",
    "\n",
    "B = pg.compute_bootci(cyclt, func=np.mean, n_boot=1000,\n",
    "                      confidence=0.95, return_dist=True, seed=1)\n",
    "\n",
    "ci_mean, dist_mean = B\n",
    "print(f' Mean: {np.mean(dist_mean):.3f}')\n",
    "print(f' 95%-CI: {ci_mean[0]:.3f} - {ci_mean[1]:.3f}')\n",
    "\n",
    "B = pg.compute_bootci(cyclt, func=lambda x: np.std(x, ddof=1), n_boot=1000,\n",
    "                      confidence=0.95, return_dist=True, seed=1)\n",
    "\n",
    "ci_std, dist_std = B\n",
    "print(f' Mean: {np.mean(dist_std):.3f}')\n",
    "print(f' 95%-CI: {ci_std[0]:.3f} - {ci_std[1]:.3f}')"
   ]
  },
  {
   "cell_type": "code",
   "execution_count": 26,
   "id": "83b7cb35",
   "metadata": {
    "execution": {
     "iopub.execute_input": "2022-08-23T12:26:36.255327Z",
     "iopub.status.busy": "2022-08-23T12:26:36.255023Z",
     "iopub.status.idle": "2022-08-23T12:26:36.503367Z",
     "shell.execute_reply": "2022-08-23T12:26:36.502568Z"
    }
   },
   "outputs": [
    {
     "data": {
      "image/png": "[encoded data removed]",
      "text/plain": [
       "<Figure size 600x300 with 2 Axes>"
      ]
     },
     "metadata": {},
     "output_type": "display_data"
    }
   ],
   "source": [
    "fig, axes = plt.subplots(figsize=[6, 3], ncols=2)\n",
    "axes[0].hist(dist_mean, color='grey', bins=17)\n",
    "axes[1].hist(dist_std, color='grey', bins=17)\n",
    "axes[0].set_title('Bootstrap distribution mean')\n",
    "axes[1].set_title('Bootstrap distribution std.dev.')\n",
    "plt.tight_layout()\n",
    "plt.show()"
   ]
  },
  {
   "cell_type": "markdown",
   "id": "a6138780",
   "metadata": {},
   "source": [
    "# Exercise 47"
   ]
  },
  {
   "cell_type": "code",
   "execution_count": 27,
   "id": "18391fc4",
   "metadata": {
    "execution": {
     "iopub.execute_input": "2022-08-23T12:26:36.506070Z",
     "iopub.status.busy": "2022-08-23T12:26:36.505850Z",
     "iopub.status.idle": "2022-08-23T12:26:36.807355Z",
     "shell.execute_reply": "2022-08-23T12:26:36.806569Z"
    }
   },
   "outputs": [
    {
     "name": "stdout",
     "output_type": "stream",
     "text": [
      "Quantile 1: 0.306 95%-CI: 0.230 - 0.420\n",
      "Quantile 2: 0.573 95%-CI: 0.380 - 1.010\n",
      "Quantile 3: 1.060 95%-CI: 0.660 - 1.090\n"
     ]
    }
   ],
   "source": [
    "cyclt = mistat.load_data('CYCLT')\n",
    "ebd = {}\n",
    "for quantile in (1, 2, 3):\n",
    "  B = pg.compute_bootci(cyclt, func=lambda x: np.quantile(x, 0.25 * quantile),\n",
    "                        n_boot=1000, confidence=0.95, return_dist=True, seed=1)\n",
    "  ci, dist = B\n",
    "  ebd[quantile] = dist\n",
    "  print(f'Quantile {quantile}: {np.mean(dist):.3f} 95%-CI: {ci[0]:.3f} - {ci[1]:.3f}')"
   ]
  },
  {
   "cell_type": "code",
   "execution_count": 28,
   "id": "9d157338",
   "metadata": {
    "execution": {
     "iopub.execute_input": "2022-08-23T12:26:36.810147Z",
     "iopub.status.busy": "2022-08-23T12:26:36.809774Z",
     "iopub.status.idle": "2022-08-23T12:26:37.090505Z",
     "shell.execute_reply": "2022-08-23T12:26:37.089547Z"
    }
   },
   "outputs": [
    {
     "data": {
      "image/png": "[encoded data removed]",
      "text/plain": [
       "<Figure size 600x200 with 3 Axes>"
      ]
     },
     "metadata": {},
     "output_type": "display_data"
    }
   ],
   "source": [
    "fig, axes = plt.subplots(figsize=[6, 2], ncols=3)\n",
    "axes[0].hist(ebd[1], color='grey', bins=17)\n",
    "axes[1].hist(ebd[2], color='grey', bins=17)\n",
    "axes[2].hist(ebd[3], color='grey', bins=17)\n",
    "axes[0].set_xlabel('Q1')\n",
    "axes[1].set_xlabel('Q2')\n",
    "axes[2].set_xlabel('Q3')\n",
    "axes[0].set_ylabel('Frequency')\n",
    "plt.tight_layout()\n",
    "plt.show()"
   ]
  },
  {
   "cell_type": "markdown",
   "id": "0d73d20f",
   "metadata": {},
   "source": [
    "# Exercise 48"
   ]
  },
  {
   "cell_type": "code",
   "execution_count": 29,
   "id": "03c0ac62",
   "metadata": {
    "execution": {
     "iopub.execute_input": "2022-08-23T12:26:37.094126Z",
     "iopub.status.busy": "2022-08-23T12:26:37.093341Z",
     "iopub.status.idle": "2022-08-23T12:26:37.955022Z",
     "shell.execute_reply": "2022-08-23T12:26:37.954041Z"
    }
   },
   "outputs": [
    {
     "name": "stdout",
     "output_type": "stream",
     "text": [
      "rho_XY: 0.975 95%-CI: 0.940 - 0.990\n"
     ]
    }
   ],
   "source": [
    "socell = mistat.load_data('SOCELL')\n",
    "t1 = socell['t1']\n",
    "t2 = socell['t2']\n",
    "\n",
    "# use the index\n",
    "idx = list(range(len(socell)))\n",
    "def sample_correlation(x):\n",
    "  return stats.pearsonr(t1[x], t2[x])[0]\n",
    "\n",
    "B = pg.compute_bootci(idx, func=sample_correlation,\n",
    "                      n_boot=1000, confidence=0.95, return_dist=True, seed=1)\n",
    "ci, dist = B\n",
    "print(f'rho_XY: {np.mean(dist):.3f} 95%-CI: {ci[0]:.3f} - {ci[1]:.3f}')"
   ]
  },
  {
   "cell_type": "code",
   "execution_count": 30,
   "id": "7536cd40",
   "metadata": {
    "execution": {
     "iopub.execute_input": "2022-08-23T12:26:37.957829Z",
     "iopub.status.busy": "2022-08-23T12:26:37.957473Z",
     "iopub.status.idle": "2022-08-23T12:26:38.068645Z",
     "shell.execute_reply": "2022-08-23T12:26:38.067412Z"
    }
   },
   "outputs": [
    {
     "data": {
      "image/png": "[encoded data removed]",
      "text/plain": [
       "<Figure size 400x400 with 1 Axes>"
      ]
     },
     "metadata": {},
     "output_type": "display_data"
    }
   ],
   "source": [
    "fig, ax = plt.subplots(figsize=[4, 4])\n",
    "ax.hist(dist, color='grey', bins=17)\n",
    "plt.show()"
   ]
  },
  {
   "cell_type": "markdown",
   "id": "529985a0",
   "metadata": {},
   "source": [
    "# Exercise 49"
   ]
  },
  {
   "cell_type": "code",
   "execution_count": 31,
   "id": "ed5b5124",
   "metadata": {
    "execution": {
     "iopub.execute_input": "2022-08-23T12:26:38.072876Z",
     "iopub.status.busy": "2022-08-23T12:26:38.071707Z",
     "iopub.status.idle": "2022-08-23T12:26:39.001111Z",
     "shell.execute_reply": "2022-08-23T12:26:38.999586Z"
    }
   },
   "outputs": [
    {
     "name": "stdout",
     "output_type": "stream",
     "text": [
      "intercept (a): 30.724 95%-CI: 28.766 - 32.691\n",
      "slope (b): -0.0741 95%-CI: -0.0891 - -0.0599\n",
      "1.0170449375724464\n",
      "0.0074732552885114645\n"
     ]
    }
   ],
   "source": [
    "car = mistat.load_data('CAR')\n",
    "mpg = car['mpg']\n",
    "hp = car['hp']\n",
    "\n",
    "idx = list(range(len(mpg)))\n",
    "sample_intercept = []\n",
    "sample_slope = []\n",
    "for _ in range(1000):\n",
    "  x = random.choices(idx, k=len(idx))\n",
    "  result = stats.linregress(hp[x], mpg[x])\n",
    "  sample_intercept.append(result.intercept)\n",
    "  sample_slope.append(result.slope)\n",
    "\n",
    "ci = np.quantile(sample_intercept, [0.025, 0.975])\n",
    "print(f'intercept (a): {np.mean(sample_intercept):.3f} ' +\n",
    "      f'95%-CI: {ci[0]:.3f} - {ci[1]:.3f}')\n",
    "ci = np.quantile(sample_slope, [0.025, 0.975])\n",
    "print(f'slope (b): {np.mean(sample_slope):.4f} ' +\n",
    "      f'95%-CI: {ci[0]:.4f} - {ci[1]:.4f}')\n",
    "\n",
    "reg = stats.linregress(hp, mpg)\n",
    "hm = np.mean(hp)\n",
    "\n",
    "print(np.std(sample_intercept))\n",
    "print(np.std(sample_slope))"
   ]
  },
  {
   "cell_type": "markdown",
   "id": "ea989d43",
   "metadata": {},
   "source": [
    "# Exercise 50"
   ]
  },
  {
   "cell_type": "code",
   "execution_count": 32,
   "id": "8725dab4",
   "metadata": {
    "execution": {
     "iopub.execute_input": "2022-08-23T12:26:39.004110Z",
     "iopub.status.busy": "2022-08-23T12:26:39.003869Z",
     "iopub.status.idle": "2022-08-23T12:26:39.022427Z",
     "shell.execute_reply": "2022-08-23T12:26:39.021415Z"
    }
   },
   "outputs": [
    {
     "name": "stdout",
     "output_type": "stream",
     "text": [
      "Xmean_50 = 0.652\n",
      "Ttest_1sampResult(statistic=1.9425149510299369, pvalue=0.057833259176805)\n",
      "p*-value: 0.024\n"
     ]
    }
   ],
   "source": [
    "cyclt = mistat.load_data('CYCLT')\n",
    "X50 = np.mean(cyclt)\n",
    "SD50 = np.std(cyclt)\n",
    "result = stats.ttest_1samp(cyclt, 0.55)\n",
    "print(f'Xmean_50 = {X50:.3f}')\n",
    "print(result)\n",
    "\n",
    "B = pg.compute_bootci(cyclt, func=np.mean, n_boot=1000,\n",
    "                      confidence=0.95, return_dist=True, seed=1)\n",
    "ci_mean, dist = B\n",
    "pstar = sum(dist < 0.55) / len(dist)\n",
    "print(f'p*-value: {pstar}')"
   ]
  },
  {
   "cell_type": "markdown",
   "id": "2d0c7b5b",
   "metadata": {},
   "source": [
    "# Exercise 51"
   ]
  },
  {
   "cell_type": "code",
   "execution_count": 33,
   "id": "78fdc019",
   "metadata": {
    "execution": {
     "iopub.execute_input": "2022-08-23T12:26:39.025456Z",
     "iopub.status.busy": "2022-08-23T12:26:39.024902Z",
     "iopub.status.idle": "2022-08-23T12:26:39.034476Z",
     "shell.execute_reply": "2022-08-23T12:26:39.033551Z"
    }
   },
   "outputs": [
    {
     "name": "stdout",
     "output_type": "stream",
     "text": [
      "Variance diam1: 0.00027\n",
      "Variance diam2: 0.00032\n",
      "Ratio: 1.2016\n",
      "p-value: 0.776\n"
     ]
    }
   ],
   "source": [
    "almpin = mistat.load_data('ALMPIN')\n",
    "diam1 = almpin['diam1']\n",
    "diam2 = almpin['diam2']\n",
    "\n",
    "# calculate the ratio of the two variances:\n",
    "var_diam1 = np.var(diam1)\n",
    "var_diam2 = np.var(diam2)\n",
    "F = var_diam2 / var_diam1\n",
    "print(f'Variance diam1: {var_diam1:.5f}')\n",
    "print(f'Variance diam2: {var_diam2:.5f}')\n",
    "print(f'Ratio: {F:.4f}')\n",
    "\n",
    "# Calculate the p-value\n",
    "p_value = stats.f.cdf(F, len(diam1) - 1, len(diam2) - 1)\n",
    "print(f'p-value: {p_value:.3f}')"
   ]
  },
  {
   "cell_type": "code",
   "execution_count": 34,
   "id": "fa353476",
   "metadata": {
    "execution": {
     "iopub.execute_input": "2022-08-23T12:26:39.037696Z",
     "iopub.status.busy": "2022-08-23T12:26:39.036939Z",
     "iopub.status.idle": "2022-08-23T12:26:39.128568Z",
     "shell.execute_reply": "2022-08-23T12:26:39.127370Z"
    }
   },
   "outputs": [
    {
     "data": {
      "image/png": "[encoded data removed]",
      "text/plain": [
       "<Figure size 640x480 with 1 Axes>"
      ]
     },
     "metadata": {},
     "output_type": "display_data"
    }
   ],
   "source": [
    "almpin.boxplot(column=['diam1', 'diam2'])\n",
    "plt.show()"
   ]
  },
  {
   "cell_type": "markdown",
   "id": "3905daae",
   "metadata": {},
   "source": [
    "# Exercise 52"
   ]
  },
  {
   "cell_type": "code",
   "execution_count": 35,
   "id": "4583a323",
   "metadata": {
    "execution": {
     "iopub.execute_input": "2022-08-23T12:26:39.132958Z",
     "iopub.status.busy": "2022-08-23T12:26:39.132085Z",
     "iopub.status.idle": "2022-08-23T12:26:39.142724Z",
     "shell.execute_reply": "2022-08-23T12:26:39.141864Z"
    }
   },
   "outputs": [
    {
     "name": "stdout",
     "output_type": "stream",
     "text": [
      "Mean diam1: 9.99286\n",
      "Mean diam2: 9.98729\n",
      "Studentized difference: 1.912\n",
      "p-value: 0.058\n",
      "Ttest_indResult(statistic=1.9119658005133064, pvalue=0.05795318184124417)\n"
     ]
    }
   ],
   "source": [
    "almpin = mistat.load_data('ALMPIN')\n",
    "diam1 = almpin['diam1']\n",
    "diam2 = almpin['diam2']\n",
    "\n",
    "# Compare means\n",
    "mean_diam1 = np.mean(diam1)\n",
    "mean_diam2 = np.mean(diam2)\n",
    "print(f'Mean diam1: {mean_diam1:.5f}')\n",
    "print(f'Mean diam2: {mean_diam2:.5f}')\n",
    "\n",
    "# calculate studentized difference and p-value\n",
    "se1, se2 = stats.sem(diam1), stats.sem(diam2)\n",
    "sed = np.sqrt(se1**2.0 + se2**2.0)\n",
    "t_stat = (mean_diam1 - mean_diam2) / sed\n",
    "print(f'Studentized difference: {t_stat:.3f}')\n",
    "df = len(diam1) + len(diam2) - 2\n",
    "p = (1 - stats.t.cdf(abs(t_stat), df)) * 2\n",
    "print(f'p-value: {p:.3f}')\n",
    "\n",
    "# or use any of the available implementations of the t-test\n",
    "print(stats.ttest_ind(diam1, diam2))"
   ]
  },
  {
   "cell_type": "code",
   "execution_count": 36,
   "id": "0cfb9d76",
   "metadata": {
    "execution": {
     "iopub.execute_input": "2022-08-23T12:26:39.145661Z",
     "iopub.status.busy": "2022-08-23T12:26:39.145247Z",
     "iopub.status.idle": "2022-08-23T12:26:39.598305Z",
     "shell.execute_reply": "2022-08-23T12:26:39.596320Z"
    }
   },
   "outputs": [
    {
     "name": "stdout",
     "output_type": "stream",
     "text": [
      "p*-value: 0.014\n"
     ]
    }
   ],
   "source": [
    "random.seed(1)\n",
    "\n",
    "# return studentized distance between random samples from diam1 and diam2\n",
    "def stat_func():\n",
    "    d1 = random.choices(diam1, k=len(diam1))\n",
    "    d2 = random.choices(diam2, k=len(diam2))\n",
    "    return stats.ttest_ind(d1, d2).statistic\n",
    "\n",
    "dist = np.array([stat_func() for _ in range(1000)])\n",
    "\n",
    "pstar = sum(dist < 0) / len(dist)\n",
    "print(f'p*-value: {pstar}')"
   ]
  },
  {
   "cell_type": "code",
   "execution_count": 37,
   "id": "e57937d7",
   "metadata": {
    "execution": {
     "iopub.execute_input": "2022-08-23T12:26:39.602544Z",
     "iopub.status.busy": "2022-08-23T12:26:39.602144Z",
     "iopub.status.idle": "2022-08-23T12:26:39.614724Z",
     "shell.execute_reply": "2022-08-23T12:26:39.613897Z"
    }
   },
   "outputs": [
    {
     "name": "stdout",
     "output_type": "stream",
     "text": [
      "S2 diam1    0.000266\n",
      "diam2    0.000320\n",
      "dtype: float64\n",
      "F0 1.2016104294478573\n",
      "FBoot 95% 1.1855457165968324\n",
      "p*-value: 0.04\n"
     ]
    }
   ],
   "source": [
    "columns = ['diam1', 'diam2']\n",
    "# variance for each column\n",
    "S2 = almpin[columns].var(axis=0, ddof=0)\n",
    "F0 = max(S2) / min(S2)\n",
    "print('S2', S2)\n",
    "print('F0', F0)\n",
    "\n",
    "# Step 1: sample variances of bootstrapped samples for each column\n",
    "seed = 1\n",
    "B = {}\n",
    "for column in columns:\n",
    "    ci = pg.compute_bootci(almpin[column], func='var', n_boot=500,\n",
    "                       confidence=0.95, seed=seed, return_dist=True)\n",
    "    B[column] = ci[1]\n",
    "Bt = pd.DataFrame(B)\n",
    "\n",
    "# Step 2: compute Wi\n",
    "Wi = Bt / S2\n",
    "\n",
    "# Step 3: compute F*\n",
    "FBoot = Wi.max(axis=1) / Wi.min(axis=1)\n",
    "FBoot95 = np.quantile(FBoot, 0.95)\n",
    "print('FBoot 95%', FBoot95)\n",
    "pstar = sum(FBoot >= F0)/len(FBoot)\n",
    "print(f'p*-value: {pstar}')"
   ]
  },
  {
   "cell_type": "markdown",
   "id": "39630475",
   "metadata": {},
   "source": [
    "# Exercise 53"
   ]
  },
  {
   "cell_type": "code",
   "execution_count": 38,
   "id": "593bac00",
   "metadata": {
    "execution": {
     "iopub.execute_input": "2022-08-23T12:26:39.617718Z",
     "iopub.status.busy": "2022-08-23T12:26:39.617460Z",
     "iopub.status.idle": "2022-08-23T12:26:39.633558Z",
     "shell.execute_reply": "2022-08-23T12:26:39.632774Z"
    }
   },
   "outputs": [
    {
     "name": "stdout",
     "output_type": "stream",
     "text": [
      "S2 origin1    12.942529\n",
      "origin2     6.884615\n",
      "origin3    18.321321\n",
      "dtype: float64\n",
      "F0 2.6611975103595213\n",
      "FBoot 95% 2.6925366761838987\n",
      "p*-value: 0.058\n"
     ]
    }
   ],
   "source": [
    "mpg = mistat.load_data('MPG')\n",
    "columns = ['origin1', 'origin2', 'origin3']\n",
    "# variance for each column\n",
    "S2 = mpg[columns].var(axis=0, ddof=1)\n",
    "F0 = max(S2) / min(S2)\n",
    "print('S2', S2)\n",
    "print('F0', F0)\n",
    "\n",
    "# Step 1: sample variances of bootstrapped samples for each column\n",
    "seed = 1\n",
    "B = {}\n",
    "for column in columns:\n",
    "    ci = pg.compute_bootci(mpg[column].dropna(), func='var', n_boot=500,\n",
    "                       confidence=0.95, seed=seed, return_dist=True)\n",
    "    B[column] = ci[1]\n",
    "Bt = pd.DataFrame(B)\n",
    "\n",
    "# Step 2: compute Wi\n",
    "Wi = Bt / S2\n",
    "\n",
    "# Step 3: compute F*\n",
    "FBoot = Wi.max(axis=1) / Wi.min(axis=1)\n",
    "FBoot95 = np.quantile(FBoot, 0.95)\n",
    "print('FBoot 95%', FBoot95)\n",
    "pstar = sum(FBoot >= F0)/len(FBoot)\n",
    "print(f'p*-value: {pstar}')"
   ]
  },
  {
   "cell_type": "markdown",
   "id": "bdeabeab",
   "metadata": {},
   "source": [
    "# Exercise 54"
   ]
  },
  {
   "cell_type": "code",
   "execution_count": 39,
   "id": "0d74f01d",
   "metadata": {
    "execution": {
     "iopub.execute_input": "2022-08-23T12:26:39.636649Z",
     "iopub.status.busy": "2022-08-23T12:26:39.635892Z",
     "iopub.status.idle": "2022-08-23T12:26:40.223585Z",
     "shell.execute_reply": "2022-08-23T12:26:40.222635Z"
    }
   },
   "outputs": [
    {
     "name": "stdout",
     "output_type": "stream",
     "text": [
      "F = 6.076\n",
      "ratio 0.003\n"
     ]
    },
    {
     "data": {
      "image/png": "[encoded data removed]",
      "text/plain": [
       "<Figure size 640x480 with 1 Axes>"
      ]
     },
     "metadata": {},
     "output_type": "display_data"
    }
   ],
   "source": [
    "mpg = mistat.load_data('MPG.csv')\n",
    "samples = [mpg[key].dropna() for key in ['origin1', 'origin2', 'origin3']]\n",
    "\n",
    "def test_statistic_F(samples):\n",
    "    return stats.f_oneway(*samples).statistic\n",
    "\n",
    "# Calculate sample shifts\n",
    "Ni = np.array([len(sample) for sample in samples])\n",
    "N = np.sum(Ni)\n",
    "XBni = np.array([np.mean(sample) for sample in samples])\n",
    "XBB = np.sum(Ni * XBni) / N\n",
    "DB = XBni - XBB\n",
    "\n",
    "F0 = test_statistic_F(samples)\n",
    "Ns = 1000\n",
    "Fstar = []\n",
    "for _ in range(Ns):\n",
    "    Ysamples  = []\n",
    "    for sample, DBi in zip(samples, DB):\n",
    "        Xstar = np.array(random.choices(sample, k=len(sample)))\n",
    "        Ysamples.append(Xstar - DBi)\n",
    "    Fs = test_statistic_F(Ysamples)\n",
    "    Fstar.append(Fs)\n",
    "Fstar = np.array(Fstar)\n",
    "\n",
    "print(f'F = {F0:.3f}')\n",
    "print('ratio', sum(Fstar > F0)/len(Fstar))\n",
    "\n",
    "ax = pd.Series(Fstar).hist(bins=14, color='grey')\n",
    "ax.axvline(F0, color='black', lw=2)\n",
    "ax.set_xlabel('F* values')\n",
    "plt.show()"
   ]
  },
  {
   "cell_type": "markdown",
   "id": "405b2741",
   "metadata": {},
   "source": [
    "# Exercise 55"
   ]
  },
  {
   "cell_type": "code",
   "execution_count": 40,
   "id": "da1ca3b2",
   "metadata": {
    "execution": {
     "iopub.execute_input": "2022-08-23T12:26:40.227262Z",
     "iopub.status.busy": "2022-08-23T12:26:40.226509Z",
     "iopub.status.idle": "2022-08-23T12:26:40.582916Z",
     "shell.execute_reply": "2022-08-23T12:26:40.581317Z"
    }
   },
   "outputs": [
    {
     "name": "stdout",
     "output_type": "stream",
     "text": [
      "Tolerance interval p=0.2: (1.0, 22.0)\n",
      "Tolerance interval p=0.1: (0.0, 17.0)\n"
     ]
    },
    {
     "name": "stdout",
     "output_type": "stream",
     "text": [
      "Tolerance interval p=0.05: (0.0, 9.0)\n"
     ]
    }
   ],
   "source": [
    "np.random.seed(1)\n",
    "\n",
    "def qbinomBoot(x, p):\n",
    "    return stats.binom.ppf(p, 50, p=x.mean())\n",
    "\n",
    "for p_real in (0.2, 0.1, 0.05):\n",
    "    defects = stats.bernoulli.rvs(p_real, size=50)\n",
    "    B_025 = pg.compute_bootci(defects, func=lambda x: qbinomBoot(x, p=0.025),\n",
    "                              n_boot=500, seed=1, return_dist=True)\n",
    "    B_975 = pg.compute_bootci(defects, func=lambda x: qbinomBoot(x, p=0.975),\n",
    "                              n_boot=500, seed=1, return_dist=True)\n",
    "    tol_int = [np.quantile(B_025[1], 0.025),np.quantile(B_975[1], 0.975)]\n",
    "    print(f'Tolerance interval p={p_real}: ({tol_int[0]}, {tol_int[1]})')"
   ]
  },
  {
   "cell_type": "markdown",
   "id": "8d6226b5",
   "metadata": {},
   "source": [
    "# Exercise 56"
   ]
  },
  {
   "cell_type": "code",
   "execution_count": 41,
   "id": "ef4a15eb",
   "metadata": {
    "execution": {
     "iopub.execute_input": "2022-08-23T12:26:40.586255Z",
     "iopub.status.busy": "2022-08-23T12:26:40.585379Z",
     "iopub.status.idle": "2022-08-23T12:26:40.693778Z",
     "shell.execute_reply": "2022-08-23T12:26:40.692929Z"
    }
   },
   "outputs": [
    {
     "name": "stdout",
     "output_type": "stream",
     "text": [
      "Tolerance interval (0.2399, 0.68305)\n"
     ]
    }
   ],
   "source": [
    "np.random.seed(1)\n",
    "\n",
    "def getQuantile(x, p):\n",
    "    return np.quantile(x, p)\n",
    "\n",
    "oturb = mistat.load_data('OTURB.csv')\n",
    "B_025 = pg.compute_bootci(oturb, func=lambda x: getQuantile(x, p=0.025),\n",
    "                          n_boot=500, seed=1, return_dist=True)\n",
    "B_975 = pg.compute_bootci(oturb, func=lambda x: getQuantile(x, p=0.975),\n",
    "                          n_boot=500, seed=1, return_dist=True)\n",
    "tol_int = [np.quantile(B_025[1], 0.025),np.quantile(B_975[1], 0.975)]\n",
    "print(f'Tolerance interval ({tol_int[0]}, {tol_int[1]})')"
   ]
  },
  {
   "cell_type": "markdown",
   "id": "7ff5056e",
   "metadata": {},
   "source": [
    "# Exercise 57"
   ]
  },
  {
   "cell_type": "code",
   "execution_count": 42,
   "id": "e74c475c",
   "metadata": {
    "execution": {
     "iopub.execute_input": "2022-08-23T12:26:40.696598Z",
     "iopub.status.busy": "2022-08-23T12:26:40.696329Z",
     "iopub.status.idle": "2022-08-23T12:26:40.704163Z",
     "shell.execute_reply": "2022-08-23T12:26:40.703398Z"
    }
   },
   "outputs": [
    {
     "name": "stdout",
     "output_type": "stream",
     "text": [
      "Values greater 0.7: 20\n"
     ]
    }
   ],
   "source": [
    "cyclt = mistat.load_data('CYCLT.csv')\n",
    "# make use of the fact that a True value is interpreted as 1 and False as 0\n",
    "print('Values greater 0.7:', sum(cyclt>0.7))"
   ]
  },
  {
   "cell_type": "markdown",
   "id": "907d971f",
   "metadata": {},
   "source": [
    "# Exercise 58"
   ]
  },
  {
   "cell_type": "code",
   "execution_count": 43,
   "id": "232306d1",
   "metadata": {
    "execution": {
     "iopub.execute_input": "2022-08-23T12:26:40.707108Z",
     "iopub.status.busy": "2022-08-23T12:26:40.706440Z",
     "iopub.status.idle": "2022-08-23T12:26:40.713218Z",
     "shell.execute_reply": "2022-08-23T12:26:40.712500Z"
    }
   },
   "outputs": [
    {
     "name": "stdout",
     "output_type": "stream",
     "text": [
      "WilcoxonResult(statistic=1916.0, pvalue=0.051047599707252124)\n"
     ]
    }
   ],
   "source": [
    "oelect = mistat.load_data('OELECT.csv')\n",
    "print(stats.wilcoxon(oelect-220))"
   ]
  },
  {
   "cell_type": "markdown",
   "id": "93107aea",
   "metadata": {},
   "source": [
    "# Exercise 59"
   ]
  },
  {
   "cell_type": "code",
   "execution_count": 44,
   "id": "66857695",
   "metadata": {
    "execution": {
     "iopub.execute_input": "2022-08-23T12:26:40.716492Z",
     "iopub.status.busy": "2022-08-23T12:26:40.716073Z",
     "iopub.status.idle": "2022-08-23T12:26:41.536292Z",
     "shell.execute_reply": "2022-08-23T12:26:41.535289Z"
    }
   },
   "outputs": [
    {
     "name": "stdout",
     "output_type": "stream",
     "text": [
      "Mean of Sample 1 (U.S. made) 36.255\n",
      "Mean of Sample 2 (foreign) 33.179\n"
     ]
    },
    {
     "name": "stdout",
     "output_type": "stream",
     "text": [
      "Original stat is 3.075758\n",
      "Original stat is at quantile 1001 of 1001 (100.00%)\n",
      "Distribution of bootstrap samples:\n",
      " min: -2.12, median: 0.01,  max: 2.68\n"
     ]
    }
   ],
   "source": [
    "car = mistat.load_data('CAR.csv')\n",
    "fourCylinder = car[car['cyl'] == 4]\n",
    "uscars = fourCylinder[fourCylinder['origin'] == 1]\n",
    "foreign = fourCylinder[fourCylinder['origin'] != 1]\n",
    "\n",
    "print(f'Mean of Sample 1 (U.S. made) {np.mean(uscars[\"turn\"]):.3f}')\n",
    "print(f'Mean of Sample 2 (foreign) {np.mean(foreign[\"turn\"]):.3f}')\n",
    "\n",
    "_ = mistat.randomizationTest(uscars['turn'], foreign['turn'], np.mean,\n",
    "                             aggregate_stats=lambda x: x[0] - x[1],\n",
    "                             n_boot=1000, seed=1)"
   ]
  }
 ],
 "metadata": {
  "language_info": {
   "codemirror_mode": {
    "name": "ipython",
    "version": 3
   },
   "file_extension": ".py",
   "mimetype": "text/x-python",
   "name": "python",
   "nbconvert_exporter": "python",
   "pygments_lexer": "ipython3",
   "version": "3.9.13"
  }
 },
 "nbformat": 4,
 "nbformat_minor": 5
}
