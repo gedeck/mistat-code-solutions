{
 "cells": [
  {
   "cell_type": "markdown",
   "id": "39dad4c9",
   "metadata": {},
   "source": [
    "# Exercise Chapter 5 \n",
    "Industrial Statistics: A Computer Based Approach with Python<br>\n",
    "by Ron Kenett, Shelemyahu Zacks, Peter Gedeck\n",
    "\n",
    "Publisher: Springer International Publishing; 1st edition (2023) <br>\n",
    "<!-- ISBN-13: 978-3031075650 -->\n",
    "\n",
    "(c) 2022 Ron Kenett, Shelemyahu Zacks, Peter Gedeck\n",
    "\n",
    "The code needs to be executed in sequence."
   ]
  },
  {
   "cell_type": "code",
   "execution_count": null,
   "id": "6d35fc3d",
   "metadata": {},
   "outputs": [],
   "source": [
    "import os\n",
    "os.environ['OUTDATED_IGNORE'] = '1'\n",
    "import warnings\n",
    "from outdated import OutdatedPackageWarning\n",
    "warnings.filterwarnings('ignore', category=FutureWarning)\n",
    "warnings.filterwarnings('ignore', category=OutdatedPackageWarning)"
   ]
  },
  {
   "cell_type": "code",
   "execution_count": null,
   "id": "ce2a5108",
   "metadata": {},
   "outputs": [],
   "source": [
    "import numpy as np\n",
    "import pandas as pd\n",
    "from scipy import stats\n",
    "import statsmodels.formula.api as smf\n",
    "from statsmodels.stats import anova\n",
    "import matplotlib.pyplot as plt\n",
    "\n",
    "import mistat"
   ]
  },
  {
   "cell_type": "markdown",
   "id": "90753d72",
   "metadata": {},
   "source": [
    "# Exercise 6"
   ]
  },
  {
   "cell_type": "code",
   "execution_count": null,
   "id": "2bd472aa",
   "metadata": {},
   "outputs": [],
   "source": [
    "ISC = mistat.load_data('SOCELL')\n",
    "stats.ttest_rel(ISC['t2'], ISC['t1'])"
   ]
  },
  {
   "cell_type": "markdown",
   "id": "5f36b1eb",
   "metadata": {},
   "source": [
    "# Exercise 7"
   ]
  },
  {
   "cell_type": "code",
   "execution_count": null,
   "id": "5b42954c",
   "metadata": {},
   "outputs": [],
   "source": [
    "def statistic(x, y):\n",
    "    return np.mean(x-y) # - np.mean(y)"
   ]
  },
  {
   "cell_type": "code",
   "execution_count": null,
   "id": "62f0779d",
   "metadata": {},
   "outputs": [],
   "source": [
    "def statistic(x, y):\n",
    "    return np.mean(x) - np.mean(y)\n",
    "\n",
    "res = stats.permutation_test((ISC['t2'], ISC['t3']), statistic,\n",
    "                             permutation_type='samples', n_resamples=1000)\n",
    "res.pvalue.round(5)"
   ]
  },
  {
   "cell_type": "code",
   "execution_count": null,
   "id": "13c25904",
   "metadata": {},
   "outputs": [],
   "source": [
    "stats.ttest_rel(ISC['t2'], ISC['t3']).pvalue.round(5)"
   ]
  },
  {
   "cell_type": "code",
   "execution_count": null,
   "id": "ce3477a9",
   "metadata": {},
   "outputs": [],
   "source": [
    "fig, ax = plt.subplots()\n",
    "ax.hist(res.null_distribution, bins=20, color='lightgrey')\n",
    "ax.axvline(statistic(ISC['t2'], ISC['t3']), color='black')\n",
    "plt.show()"
   ]
  },
  {
   "cell_type": "markdown",
   "id": "a7933234",
   "metadata": {},
   "source": [
    "# Exercise 8"
   ]
  },
  {
   "cell_type": "code",
   "execution_count": null,
   "id": "6959426e",
   "metadata": {},
   "outputs": [],
   "source": [
    "df = pd.DataFrame([\n",
    "  ['B1', 'A', 89], ['B1', 'B', 88], ['B1', 'C', 97], ['B1', 'D', 94],\n",
    "  ['B2', 'A', 84], ['B2', 'B', 77], ['B2', 'C', 92], ['B2', 'D', 79],\n",
    "  ['B3', 'A', 81], ['B3', 'B', 87], ['B3', 'C', 87], ['B3', 'D', 85],\n",
    "  ['B4', 'A', 87], ['B4', 'B', 92], ['B4', 'C', 89], ['B4', 'D', 84],\n",
    "  ['B5', 'A', 79], ['B5', 'B', 81], ['B5', 'C', 80], ['B5', 'D', 88],\n",
    "], columns=['blend', 'treatment', 'result'])"
   ]
  },
  {
   "cell_type": "code",
   "execution_count": null,
   "id": "736374bb",
   "metadata": {},
   "outputs": [],
   "source": [
    "model = smf.ols('result ~ C(blend) + C(treatment)', data=df).fit()\n",
    "anova.anova_lm(model)"
   ]
  },
  {
   "cell_type": "code",
   "execution_count": null,
   "id": "37fc2b23",
   "metadata": {},
   "outputs": [],
   "source": [
    "fig, axes = plt.subplots(ncols=2)\n",
    "df.groupby('blend').boxplot(column='result', subplots=False, \n",
    "                            rot=90, grid=False, ax=axes[0])\n",
    "df.groupby('treatment').boxplot(column='result', subplots=False, \n",
    "                            rot=90, grid=False, ax=axes[1])\n",
    "plt.tight_layout()\n",
    "plt.show()"
   ]
  },
  {
   "cell_type": "markdown",
   "id": "469e5ce0",
   "metadata": {},
   "source": [
    "# Exercise 9"
   ]
  },
  {
   "cell_type": "code",
   "execution_count": null,
   "id": "8cf3d8f0",
   "metadata": {},
   "outputs": [],
   "source": [
    "df = pd.DataFrame([\n",
    "    [1, 'A', 38], [1, 'B', 30],   [2, 'C', 50], [2, 'D', 27], \n",
    "    [3, 'E', 33], [3, 'F', 28],   [4, 'G', 62], [4, 'H', 30], \n",
    "    [5, 'A', 37], [5, 'C', 25],   [6, 'B', 38], [6, 'H', 52], \n",
    "    [7, 'D', 89], [7, 'E', 89],   [8, 'F', 27], [8, 'G', 75], \n",
    "    [9, 'A', 17], [9, 'D', 25],   [10, 'B', 47], [10, 'G', 63],\n",
    "    [11, 'C', 32], [11, 'F', 39], [12, 'E', 20], [12, 'H', 18],\n",
    "    [13, 'A', 5], [13, 'E', 15],  [14, 'B', 45], [14, 'C', 38],\n",
    "    [15, 'D', 11], [15, 'G', 24], [16, 'F', 37], [16, 'H', 39],\n",
    "    [17, 'A', 23], [17, 'F', 40], [18, 'B', 20], [18, 'D', 14],\n",
    "    [19, 'C', 18], [19, 'H', 10], [20, 'E', 22], [20, 'G', 52],\n",
    "    [21, 'A', 66], [21, 'G', 67], [22, 'B', 23], [22, 'F', 46],\n",
    "    [23, 'C', 22], [23, 'E', 28], [24, 'D', 20], [24, 'H', 40],\n",
    "    [25, 'A', 27], [25, 'H', 32], [26, 'B', 10], [26, 'E', 40],\n",
    "    [27, 'C', 32], [27, 'G', 33], [28, 'D', 18], [28, 'F', 23],\n",
    "], columns=['block', 'treatment', 'result'])"
   ]
  },
  {
   "cell_type": "code",
   "execution_count": null,
   "id": "bde7826f",
   "metadata": {},
   "outputs": [],
   "source": [
    "model = smf.ols('result ~ C(block) + C(treatment)', data=df).fit()\n",
    "anova.anova_lm(model)"
   ]
  },
  {
   "cell_type": "code",
   "execution_count": null,
   "id": "d919d48c",
   "metadata": {},
   "outputs": [],
   "source": [
    "df['group'] = ['G1' if t == 'G' else 'G2' for t in df['treatment']]\n",
    "fig, axes = plt.subplots(ncols=3)\n",
    "df.groupby('block').boxplot(column='result', subplots=False, \n",
    "                            rot=90, grid=False, ax=axes[0])\n",
    "df.groupby('treatment').boxplot(column='result', subplots=False, \n",
    "                            rot=90, grid=False, ax=axes[1])\n",
    "df.groupby('group').boxplot(column='result', subplots=False, \n",
    "                            rot=90, grid=False, ax=axes[2])\n",
    "plt.tight_layout()\n",
    "plt.show()"
   ]
  },
  {
   "cell_type": "markdown",
   "id": "5b56ca77",
   "metadata": {},
   "source": [
    "# Exercise 10"
   ]
  },
  {
   "cell_type": "code",
   "execution_count": null,
   "id": "dfe30333",
   "metadata": {},
   "outputs": [],
   "source": [
    "df = pd.DataFrame([\n",
    "    [1,1,'A',312], [1,2,'B',299], [1,3,'C',315], [1,4,'D',290],\n",
    "    [2,1,'C',295], [2,2,'A',317], [2,3,'D',313], [2,4,'B',300],\n",
    "    [3,1,'B',295], [3,2,'D',298], [3,3,'A',312], [3,4,'C',315],\n",
    "    [4,1,'D',313], [4,2,'C',314], [4,3,'B',299], [4,4,'A',300],\n",
    "], columns=['day', 'batch', 'mixture', 'result'])"
   ]
  },
  {
   "cell_type": "code",
   "execution_count": null,
   "id": "006a2dff",
   "metadata": {},
   "outputs": [],
   "source": [
    "model = smf.ols('result ~ C(day) + C(batch) + C(mixture)', data=df).fit()\n",
    "anova.anova_lm(model)"
   ]
  },
  {
   "cell_type": "markdown",
   "id": "8852ab01",
   "metadata": {},
   "source": [
    "# Exercise 14"
   ]
  },
  {
   "cell_type": "code",
   "execution_count": null,
   "id": "6e2d66b3",
   "metadata": {},
   "outputs": [],
   "source": [
    "df = pd.DataFrame(\n",
    "    [['A1', 'B1', v] for v in [18.3, 17.9, 18.5]] +\n",
    "    [['A2', 'B1', v] for v in [17.9, 17.6, 16.2]] +\n",
    "    [['A3', 'B1', v] for v in [19.1, 19.0, 18.9]] +\n",
    "    [['A1', 'B2', v] for v in [20.5, 21.1, 20.7]] +\n",
    "    [['A2', 'B2', v] for v in [18.2, 19.5, 18.9]] +\n",
    "    [['A3', 'B2', v] for v in [22.1, 23.5, 22.9]] +\n",
    "    [['A1', 'B3', v] for v in [21.5, 21.7, 21.9]] +\n",
    "    [['A2', 'B3', v] for v in [20.1, 19.5, 18.9]] +\n",
    "    [['A3', 'B3', v] for v in [22.3, 23.5, 23.3]],\n",
    "    columns=['a', 'b', 'result']\n",
    ")"
   ]
  },
  {
   "cell_type": "code",
   "execution_count": null,
   "id": "b4cfce58",
   "metadata": {},
   "outputs": [],
   "source": [
    "model = smf.ols('result ~ C(a) + C(b) + C(a):C(b)', data=df).fit()\n",
    "anova.anova_lm(model)"
   ]
  },
  {
   "cell_type": "code",
   "execution_count": null,
   "id": "2aa3a13a",
   "metadata": {},
   "outputs": [],
   "source": [
    "df['a:b'] = [f'{a}:{b}' for a, b in zip(df['a'], df['b'])]\n",
    "fig, axes = plt.subplots(ncols=3)\n",
    "df.groupby('a').boxplot(column='result', subplots=False, \n",
    "                            rot=90, grid=False, ax=axes[0])\n",
    "df.groupby('b').boxplot(column='result', subplots=False, \n",
    "                            rot=90, grid=False, ax=axes[1])\n",
    "df.groupby('a:b').boxplot(column='result', subplots=False, \n",
    "                            rot=90, grid=False, ax=axes[2])\n",
    "plt.tight_layout()\n",
    "plt.show()"
   ]
  },
  {
   "cell_type": "markdown",
   "id": "bb087787",
   "metadata": {},
   "source": [
    "# Exercise 17"
   ]
  },
  {
   "cell_type": "code",
   "execution_count": null,
   "id": "070066d8",
   "metadata": {},
   "outputs": [],
   "source": [
    "df = pd.DataFrame([\n",
    "    [-1, -1, 55.8], [-1, -1, 54.4], [1, -1, 60.3], [1, -1, 60.9],\n",
    "    [-1, 1, 63.9], [-1, 1, 64.4], [1, 1, 67.9], [1, 1, 68.5],\n",
    "    [0, 0, 61.5], [0, 0, 62.0], [0, 0, 61.9], [0, 0, 62.4]\n",
    "], columns=['X1', 'X2', 'Y'])"
   ]
  },
  {
   "cell_type": "code",
   "execution_count": null,
   "id": "4a04cf19",
   "metadata": {},
   "outputs": [],
   "source": [
    "# ignore UserWarning\n",
    "import warnings\n",
    "warnings.simplefilter('ignore', category=UserWarning)"
   ]
  },
  {
   "cell_type": "code",
   "execution_count": null,
   "id": "cb50e27e",
   "metadata": {},
   "outputs": [],
   "source": [
    "formula = ('Y ~ X1 + X2 + X1:X2')\n",
    "model = smf.ols(formula, data=df).fit()\n",
    "print(model.summary2())"
   ]
  },
  {
   "cell_type": "code",
   "execution_count": null,
   "id": "6350304f",
   "metadata": {},
   "outputs": [],
   "source": [
    "warnings.simplefilter('default', category=UserWarning)"
   ]
  },
  {
   "cell_type": "code",
   "execution_count": null,
   "id": "b806f2fc",
   "metadata": {},
   "outputs": [],
   "source": [
    "def plotResponseSurface(model, ncontours=20):\n",
    "    x1 = np.linspace(-1, 1)\n",
    "    x2 = np.linspace(-1, 1)\n",
    "    X1, X2 = np.meshgrid(x1, x2)\n",
    "    exog = pd.DataFrame({'X1': X1.ravel(), 'X2': X2.ravel()})\n",
    "    responses = model.predict(exog=exog)\n",
    "    CS = plt.contour(x1, x2,\n",
    "                responses.values.reshape(len(x2), len(x1)),\n",
    "                ncontours, colors='gray')\n",
    "    ax = plt.gca()\n",
    "    ax.clabel(CS, inline=True, fontsize=10)\n",
    "    ax.set_xlabel('X1')\n",
    "    ax.set_ylabel('X2')\n",
    "    return ax\n",
    "\n",
    "plotResponseSurface(model)\n",
    "plt.show()"
   ]
  },
  {
   "cell_type": "code",
   "execution_count": null,
   "id": "b66e5c1e",
   "metadata": {},
   "outputs": [],
   "source": [
    "# derive variance around the regression using an ANOVA (mean_sq of residuals)\n",
    "res = anova.anova_lm(model)\n",
    "res"
   ]
  },
  {
   "cell_type": "code",
   "execution_count": null,
   "id": "42a927f4",
   "metadata": {},
   "outputs": [],
   "source": [
    "# Estimate of variance?\n",
    "# ['Residual', 'mean_sq'] gives variance around regression \n",
    "sigma2 =  0.13667\n",
    "var_residuals = 0.235677\n",
    "\n",
    "F = var_residuals / sigma2\n",
    "p = 1 - stats.f(8, 3).cdf(F)\n",
    "print(f'F-ratio: {F:.4f}; p-value: {p:.2f}')"
   ]
  },
  {
   "cell_type": "markdown",
   "id": "721bf32a",
   "metadata": {},
   "source": [
    "# Exercise 18"
   ]
  },
  {
   "cell_type": "code",
   "execution_count": null,
   "id": "f3b0a69a",
   "metadata": {},
   "outputs": [],
   "source": [
    "# ignore UserWarning\n",
    "import warnings\n",
    "warnings.simplefilter('ignore', category=UserWarning)"
   ]
  },
  {
   "cell_type": "code",
   "execution_count": null,
   "id": "ad7a5aed",
   "metadata": {},
   "outputs": [],
   "source": [
    "df = pd.DataFrame([\n",
    "    [1, 0, 95.6], [0.5, 0.866, 77.9], [-0.5, 0.866, 76.2],\n",
    "    [-1, 0, 54.5], [-0.5, -0.866, 63.9], [0.5, -0.866, 79.1],\n",
    "    [0, 0, 96.8], [0, 0, 94.8], [0, 0, 94.4], \n",
    "], columns=['X1', 'X2', 'Y'])\n",
    "\n",
    "formula = ('Y ~ X1 + X2 + X1*X2 + I(X1**2) + I(X2**2)')\n",
    "model = smf.ols(formula, data=df).fit()\n",
    "print(model.summary2())"
   ]
  },
  {
   "cell_type": "code",
   "execution_count": null,
   "id": "2ba2dfc1",
   "metadata": {},
   "outputs": [],
   "source": [
    "warnings.simplefilter('default', category=UserWarning)"
   ]
  },
  {
   "cell_type": "code",
   "execution_count": null,
   "id": "c768c44b",
   "metadata": {},
   "outputs": [],
   "source": [
    "rsm = mistat.ResponseSurfaceMethod(model, ['X1', 'X2'])\n",
    "stationary = rsm.stationary_point()\n",
    "stationary"
   ]
  },
  {
   "cell_type": "code",
   "execution_count": null,
   "id": "b43769d6",
   "metadata": {},
   "outputs": [],
   "source": [
    "ax = plotResponseSurface(model)\n",
    "ax.scatter(*stationary, color='black')\n",
    "plt.show()"
   ]
  },
  {
   "cell_type": "code",
   "execution_count": null,
   "id": "59e90deb",
   "metadata": {},
   "outputs": [],
   "source": [
    "anova.anova_lm(model)"
   ]
  }
 ],
 "metadata": {},
 "nbformat": 4,
 "nbformat_minor": 5
}
