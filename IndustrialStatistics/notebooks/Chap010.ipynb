{
 "cells": [
  {
   "cell_type": "markdown",
   "id": "0cdb2d26",
   "metadata": {},
   "source": [
    "# Chapter  \n",
    " Industrial Statistics: A Computer Based Approach with Python<br>\n",
    "by Ron Kenett, Shelemyahu Zacks, Peter Gedeck\n",
    "\n",
    "Publisher: Springer International Publishing; 1st edition (2023) <br>\n",
    "<!-- ISBN-13: 978-3031075650 -->\n",
    "\n",
    "(c) 2022 Ron Kenett, Shelemyahu Zacks, Peter Gedeck\n",
    "\n",
    "The code needs to be executed in sequence."
   ]
  },
  {
   "cell_type": "code",
   "execution_count": 1,
   "id": "80cda518",
   "metadata": {
    "execution": {
     "iopub.execute_input": "2022-09-10T19:53:24.568052Z",
     "iopub.status.busy": "2022-09-10T19:53:24.567718Z",
     "iopub.status.idle": "2022-09-10T19:53:24.620580Z",
     "shell.execute_reply": "2022-09-10T19:53:24.619330Z"
    }
   },
   "outputs": [],
   "source": [
    "import os\n",
    "os.environ['OUTDATED_IGNORE'] = '1'\n",
    "import warnings\n",
    "from outdated import OutdatedPackageWarning\n",
    "warnings.filterwarnings('ignore', category=FutureWarning)\n",
    "warnings.filterwarnings('ignore', category=OutdatedPackageWarning)"
   ]
  },
  {
   "cell_type": "markdown",
   "id": "394289d7",
   "metadata": {},
   "source": [
    "# Bayesian Reliability Estimation and Prediction"
   ]
  },
  {
   "cell_type": "code",
   "execution_count": 2,
   "id": "716f6780",
   "metadata": {
    "execution": {
     "iopub.execute_input": "2022-09-10T19:53:24.624300Z",
     "iopub.status.busy": "2022-09-10T19:53:24.624006Z",
     "iopub.status.idle": "2022-09-10T19:53:25.807541Z",
     "shell.execute_reply": "2022-09-10T19:53:25.806361Z"
    }
   },
   "outputs": [],
   "source": [
    "import random\n",
    "import pandas as pd\n",
    "import numpy as np\n",
    "from scipy import stats\n",
    "from scipy.special import gamma\n",
    "import statsmodels.formula.api as smf\n",
    "import matplotlib.pyplot as plt\n",
    "import seaborn as sns\n",
    "import pingouin as pg\n",
    "import mistat\n",
    "import lifelines"
   ]
  },
  {
   "cell_type": "markdown",
   "id": "47520ca7",
   "metadata": {},
   "source": [
    "## Prior and Posterior Distributions"
   ]
  },
  {
   "cell_type": "code",
   "execution_count": 3,
   "id": "a20f1cc9",
   "metadata": {
    "execution": {
     "iopub.execute_input": "2022-09-10T19:53:25.810979Z",
     "iopub.status.busy": "2022-09-10T19:53:25.810735Z",
     "iopub.status.idle": "2022-09-10T19:53:25.823256Z",
     "shell.execute_reply": "2022-09-10T19:53:25.822316Z"
    }
   },
   "outputs": [
    {
     "name": "stdout",
     "output_type": "stream",
     "text": [
      "A posteriori: [0.28455284552845506, 0.7154471544715449]\n",
      "Updated beta distributions:\n",
      "[BetaDistribution(a=11, b=3), BetaDistribution(a=25, b=4)]\n",
      "Update theta values:\n",
      "[0.79, 0.86]\n"
     ]
    }
   ],
   "source": [
    "from mistat import bayes\n",
    "\n",
    "betaMixture = bayes.Mixture(\n",
    "    probabilities=[0.5, 0.5],\n",
    "    distributions=[bayes.BetaDistribution(a=1, b=1),\n",
    "                   bayes.BetaDistribution(a=15, b=2)])\n",
    "data = [10, 2]\n",
    "result = bayes.updateBetaMixture(betaMixture, data)\n",
    "thetas = [round(d.theta(), 2) for d in result.distributions]\n",
    "\n",
    "print(f'A posteriori: {result.probabilities}')\n",
    "print(f'Updated beta distributions:\\n{result.distributions}')\n",
    "print(f'Update theta values:\\n{thetas}')"
   ]
  },
  {
   "cell_type": "code",
   "execution_count": 4,
   "id": "22e0a220",
   "metadata": {
    "execution": {
     "iopub.execute_input": "2022-09-10T19:53:25.826260Z",
     "iopub.status.busy": "2022-09-10T19:53:25.825749Z",
     "iopub.status.idle": "2022-09-10T19:53:25.835806Z",
     "shell.execute_reply": "2022-09-10T19:53:25.834902Z"
    }
   },
   "outputs": [
    {
     "name": "stdout",
     "output_type": "stream",
     "text": [
      "A posteriori: [0.1250977996957064, 0.8749022003042937]\n",
      "Updated beta distributions:\n",
      "[GammaDistribution(shape=6, rate=2), GammaDistribution(shape=20, rate=3)]\n"
     ]
    }
   ],
   "source": [
    "mixture = bayes.Mixture(\n",
    "    probabilities=[0.5, 0.5],\n",
    "    distributions=[\n",
    "        bayes.GammaDistribution(shape=1, rate=1),\n",
    "        bayes.GammaDistribution(shape=15, rate=2),\n",
    "    ]\n",
    ")\n",
    "data = {'y': [5], 't': [1]}\n",
    "result = bayes.updateGammaMixture(mixture, data)\n",
    "\n",
    "print(f'A posteriori: {result.probabilities}')\n",
    "print(f'Updated beta distributions:\\n{result.distributions}')"
   ]
  },
  {
   "cell_type": "markdown",
   "id": "dd858880",
   "metadata": {},
   "source": [
    "## Loss Functions and Bayes Estimators"
   ]
  },
  {
   "cell_type": "markdown",
   "id": "f008527b",
   "metadata": {},
   "source": [
    "### Distribution-Free Bayes Estimator of Reliability"
   ]
  },
  {
   "cell_type": "markdown",
   "id": "0483e521",
   "metadata": {},
   "source": [
    "### Bayes Estimator of Reliability for Exponential Life Distributions"
   ]
  },
  {
   "cell_type": "markdown",
   "id": "0563637f",
   "metadata": {},
   "source": [
    "## Bayesian Credibility and Prediction Intervals"
   ]
  },
  {
   "cell_type": "markdown",
   "id": "e970ffe2",
   "metadata": {},
   "source": [
    "### Distribution-Free Reliability Estimation"
   ]
  },
  {
   "cell_type": "markdown",
   "id": "192ae5bd",
   "metadata": {},
   "source": [
    "### Exponential Reliability Estimation"
   ]
  },
  {
   "cell_type": "markdown",
   "id": "7afdaa25",
   "metadata": {},
   "source": [
    "### Prediction Intervals"
   ]
  },
  {
   "cell_type": "markdown",
   "id": "7838a252",
   "metadata": {},
   "source": [
    "### \\remove"
   ]
  },
  {
   "cell_type": "markdown",
   "id": "6f2bcf10",
   "metadata": {},
   "source": [
    "## Credibility Intervals for the Asymptotic Availability of Repairable Systems: The Exponential Case"
   ]
  },
  {
   "cell_type": "markdown",
   "id": "b0bb4ae4",
   "metadata": {},
   "source": [
    "## Empirical Bayes Method"
   ]
  },
  {
   "cell_type": "markdown",
   "id": "5a816a58",
   "metadata": {},
   "source": [
    "## Chapter Highlights"
   ]
  },
  {
   "cell_type": "markdown",
   "id": "8f162e32",
   "metadata": {},
   "source": [
    "## Exercises"
   ]
  }
 ],
 "metadata": {
  "language_info": {
   "codemirror_mode": {
    "name": "ipython",
    "version": 3
   },
   "file_extension": ".py",
   "mimetype": "text/x-python",
   "name": "python",
   "nbconvert_exporter": "python",
   "pygments_lexer": "ipython3",
   "version": "3.9.13"
  }
 },
 "nbformat": 4,
 "nbformat_minor": 5
}
