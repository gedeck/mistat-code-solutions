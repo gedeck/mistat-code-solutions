{
 "cells": [
  {
   "cell_type": "markdown",
   "id": "7a2d98fd",
   "metadata": {},
   "source": [
    "# Exercise Chapter 3 \n",
    "Industrial Statistics: A Computer Based Approach with Python<br>\n",
    "by Ron Kenett, Shelemyahu Zacks, Peter Gedeck\n",
    "\n",
    "Publisher: Springer International Publishing; 1st edition (2023) <br>\n",
    "<!-- ISBN-13: 978-3031075650 -->\n",
    "\n",
    "(c) 2022 Ron Kenett, Shelemyahu Zacks, Peter Gedeck\n",
    "\n",
    "The code needs to be executed in sequence."
   ]
  },
  {
   "cell_type": "code",
   "execution_count": null,
   "id": "d3d2f8ef",
   "metadata": {},
   "outputs": [],
   "source": [
    "import os\n",
    "os.environ['OUTDATED_IGNORE'] = '1'\n",
    "import warnings\n",
    "from outdated import OutdatedPackageWarning\n",
    "warnings.filterwarnings('ignore', category=FutureWarning)\n",
    "warnings.filterwarnings('ignore', category=OutdatedPackageWarning)"
   ]
  },
  {
   "cell_type": "code",
   "execution_count": null,
   "id": "3802269d",
   "metadata": {},
   "outputs": [],
   "source": [
    "import numpy as np\n",
    "import pandas as pd\n",
    "from scipy import stats\n",
    "from scipy.special import factorial\n",
    "import statsmodels.formula.api as smf\n",
    "import mistat\n",
    "import matplotlib.pyplot as plt"
   ]
  },
  {
   "cell_type": "markdown",
   "id": "68e2d970",
   "metadata": {},
   "source": [
    "# Exercise 1"
   ]
  },
  {
   "cell_type": "code",
   "execution_count": null,
   "id": "c4dcc8a1",
   "metadata": {},
   "outputs": [],
   "source": [
    "from scipy.special import binom\n",
    "def probRuns(m1, m2, R):\n",
    "    n = m1 + m2\n",
    "    k = R // 2\n",
    "    if R % 2:\n",
    "        denom = binom(m1-1,k-1) * binom(m2-1,k) + binom(m1-1,k) * binom(m2-1,k-1)\n",
    "        return denom / binom(n, m2)\n",
    "    else:\n",
    "        return 2 * binom(m1-1, k-1) * binom(m2-1, k-1) / binom(n, m2)"
   ]
  },
  {
   "cell_type": "code",
   "execution_count": null,
   "id": "f67ab4de",
   "metadata": {},
   "outputs": [],
   "source": [
    "n = 25\n",
    "m2 = 10\n",
    "m1 = n - m2\n",
    "\n",
    "df = pd.DataFrame({\n",
    "    'R': range(0, n+1),\n",
    "    'p.d.f': [probRuns(m1, m2, R) for R in range(0, n+1)],\n",
    "})\n",
    "df['c.d.f'] = np.cumsum(df['p.d.f'])"
   ]
  },
  {
   "cell_type": "code",
   "execution_count": null,
   "id": "052a4bab",
   "metadata": {},
   "outputs": [],
   "source": [
    "cdf = df['c.d.f'].values\n",
    "\n",
    "Q1 = np.where(cdf < 0.25)[0][-1]\n",
    "Me = np.where(cdf < 0.5)[0][-1]\n",
    "Q3 = np.where(cdf < 0.75)[0][-1]\n",
    "print(Q1, Me, Q3)"
   ]
  },
  {
   "cell_type": "code",
   "execution_count": null,
   "id": "dcf3d5b1",
   "metadata": {},
   "outputs": [],
   "source": [
    "mu_R = 1 + 2 * m1 * m2 / n\n",
    "sigma_R = np.sqrt(2*m1*m2*(2*m1*m2 - n) / (n*n*(n-1)))\n",
    "print(mu_R, sigma_R)"
   ]
  },
  {
   "cell_type": "code",
   "execution_count": null,
   "id": "c3fd376c",
   "metadata": {},
   "outputs": [],
   "source": [
    "p = df['c.d.f'][16] - df['c.d.f'][9]\n",
    "print(p)"
   ]
  },
  {
   "cell_type": "code",
   "execution_count": null,
   "id": "dfcccc6b",
   "metadata": {},
   "outputs": [],
   "source": [
    "print(stats.norm.cdf((16.5-mu_R)/sigma_R) - stats.norm.cdf((9.5-mu_R)/sigma_R))"
   ]
  },
  {
   "cell_type": "markdown",
   "id": "2b77e2e9",
   "metadata": {},
   "source": [
    "# Exercise 2"
   ]
  },
  {
   "cell_type": "code",
   "execution_count": null,
   "id": "167daa84",
   "metadata": {},
   "outputs": [],
   "source": [
    "data = mistat.load_data('CYCLT')\n",
    "# convert to up (1) or down (0) information relative to mean\n",
    "mean_ct = np.mean(data)\n",
    "runs = [1 if ct > mean_ct else 0 for ct in data]\n",
    "\n",
    "# determine number of runs\n",
    "obs_Runs = 0\n",
    "current = None\n",
    "for r in runs:\n",
    "    if r != current:\n",
    "        obs_Runs += 1\n",
    "        current = r\n",
    "print(f'Observed number of runs: {obs_Runs}')\n",
    "\n",
    "# calculate expected number of runs\n",
    "m1 = sum(data > mean_ct)\n",
    "m2 = sum(data <= mean_ct)\n",
    "n = m1 + m2\n",
    "mu_R = 1 + 2 * m1 * m2 / n\n",
    "print(f'Expected number of runs {mu_R:.2f}')\n",
    "\n",
    "# determine if difference is significant\n",
    "mistat.runsTest(data, cutoff=np.mean(data))"
   ]
  },
  {
   "cell_type": "markdown",
   "id": "70145012",
   "metadata": {},
   "source": [
    "# Exercise 3"
   ]
  },
  {
   "cell_type": "code",
   "execution_count": null,
   "id": "12c39780",
   "metadata": {},
   "outputs": [],
   "source": [
    "n = 50\n",
    "mu_Rstar = (2*n-1)/3\n",
    "print(mu_Rstar)"
   ]
  },
  {
   "cell_type": "code",
   "execution_count": null,
   "id": "4b03fc1b",
   "metadata": {},
   "outputs": [],
   "source": [
    "# determine direction of change up (1) or down (-1)\n",
    "y = [1 if xi < xip1 else -1 for xi, xip1 in zip(data[:-1], data[1:])]\n",
    "\n",
    "# count number of up and down runs\n",
    "up = 0\n",
    "down = 0\n",
    "current = None\n",
    "for yi in y:\n",
    "    if yi == current: # no change of direction\n",
    "        continue\n",
    "    if yi < 0:\n",
    "        down += 1\n",
    "    else:\n",
    "        up += 1\n",
    "    current = yi\n",
    "Rstar = up + down\n",
    "print(Rstar, up, down)"
   ]
  },
  {
   "cell_type": "code",
   "execution_count": null,
   "id": "3aa27624",
   "metadata": {},
   "outputs": [],
   "source": [
    "n = 50\n",
    "mu_Rstar = (2*n-1)/3\n",
    "sigma_Rstar = np.sqrt((16*n-29)/90)\n",
    "print(sigma_Rstar)\n",
    "alpha_L = stats.norm.cdf((Rstar-mu_Rstar)/sigma_Rstar)\n",
    "alpha_U = 1 - alpha_L\n",
    "print(alpha_U, alpha_L)"
   ]
  },
  {
   "cell_type": "code",
   "execution_count": null,
   "id": "62a372b0",
   "metadata": {},
   "outputs": [],
   "source": [
    "def expected_R_k(n, k):\n",
    "    return 2 *(n*(k+1) - k*k - k + 1)/factorial(k+2)\n",
    "\n",
    "print(expected_R_k(50, 5))\n",
    "# probability to have run greater than 5\n",
    "print(1 - np.exp(-expected_R_k(50, 5)))"
   ]
  },
  {
   "cell_type": "code",
   "execution_count": null,
   "id": "47549209",
   "metadata": {},
   "outputs": [],
   "source": [
    "mistat.runStatistics(data)"
   ]
  },
  {
   "cell_type": "markdown",
   "id": "3ccacbf9",
   "metadata": {},
   "source": [
    "# Exercise 4"
   ]
  },
  {
   "cell_type": "code",
   "execution_count": null,
   "id": "78df353f",
   "metadata": {},
   "outputs": [],
   "source": [
    "data = mistat.load_data('YARNSTRG')\n",
    "mistat.runStatistics(data)"
   ]
  },
  {
   "cell_type": "code",
   "execution_count": null,
   "id": "6dedf4e4",
   "metadata": {},
   "outputs": [],
   "source": [
    "mistat.runsTest(data, cutoff=data.mean())"
   ]
  },
  {
   "cell_type": "markdown",
   "id": "feff48d1",
   "metadata": {},
   "source": [
    "# Exercise 5"
   ]
  },
  {
   "cell_type": "code",
   "execution_count": null,
   "id": "4efa9222",
   "metadata": {},
   "outputs": [],
   "source": [
    "parameter = pd.DataFrame({\n",
    "    'm': [60],\n",
    "    's': [0.02],\n",
    "    'k': [5_000],\n",
    "    't': [296],\n",
    "    'p0': [110_000],\n",
    "    'v0': [0.01],\n",
    "    't0': [360],\n",
    "})\n",
    "simulator = mistat.PistonSimulator(parameter=parameter, n_simulation=50, n_replicate=5, seed=1236)\n",
    "# simulator = mistat.PistonSimulator(n_simulation=50, n_replicate=5, seed=1)\n",
    "Ps = simulator.simulate()\n",
    "\n",
    "# get grouped cycle times\n",
    "cycleTime = mistat.qcc_groups(Ps['seconds'], Ps['group'])\n",
    "mistat.runsTest(np.mean(cycleTime, axis=1), np.mean(cycleTime))"
   ]
  },
  {
   "cell_type": "code",
   "execution_count": null,
   "id": "7a3b5ab2",
   "metadata": {},
   "outputs": [],
   "source": [
    "qcc = mistat.QualityControlChart(cycleTime, qcc_type='xbar')\n",
    "ax = qcc.plot(title='for piston simulation at upper level')\n",
    "plt.show()\n",
    "qcc = mistat.QualityControlChart(cycleTime, qcc_type='S')\n",
    "ax = qcc.plot(title='for piston simulation at upper level')\n",
    "plt.show()"
   ]
  },
  {
   "cell_type": "markdown",
   "id": "2bcdc76c",
   "metadata": {},
   "source": [
    "# Exercise 6"
   ]
  },
  {
   "cell_type": "code",
   "execution_count": null,
   "id": "31a14849",
   "metadata": {},
   "outputs": [],
   "source": [
    "parameter = pd.DataFrame({\n",
    "    'm': [60]*50,\n",
    "    's': [0.02]*50,\n",
    "    'k': [5_000]*50,\n",
    "    't': [296] * 16 + [296 * 1.1**i for i in range(1, 35)],\n",
    "    'p0': [110_000]*50,\n",
    "    'v0': [0.01]*50,\n",
    "    't0': [360]*50,\n",
    "})\n",
    "\n",
    "simulator = mistat.PistonSimulator(parameter=parameter, n_simulation=50, \n",
    "                                   n_replicate=5, seed=1, check=False)\n",
    "Ps = simulator.simulate()\n",
    "cycleTimeTshift = mistat.qcc_groups(Ps['seconds'], Ps['group'])"
   ]
  },
  {
   "cell_type": "code",
   "execution_count": null,
   "id": "3648c89f",
   "metadata": {},
   "outputs": [],
   "source": [
    "qcc = mistat.QualityControlChart(cycleTimeTshift, qcc_type='xbar')\n",
    "ax = qcc.plot(title='for contact lens data')\n",
    "plt.show()\n",
    "qcc = mistat.QualityControlChart(cycleTimeTshift, qcc_type='S')\n",
    "ax = qcc.plot(title='for contact lens data')\n",
    "plt.show()"
   ]
  },
  {
   "cell_type": "code",
   "execution_count": null,
   "id": "3068992d",
   "metadata": {},
   "outputs": [],
   "source": [
    "mistat.runStatistics(np.mean(cycleTime, axis=1))"
   ]
  },
  {
   "cell_type": "code",
   "execution_count": null,
   "id": "5fe3ff87",
   "metadata": {},
   "outputs": [],
   "source": [
    "mistat.runStatistics(np.mean(cycleTimeTshift, axis=1))"
   ]
  },
  {
   "cell_type": "code",
   "execution_count": null,
   "id": "5ad18075",
   "metadata": {},
   "outputs": [],
   "source": [
    "mistat.runStatistics(np.mean(cycleTime, axis=1))"
   ]
  },
  {
   "cell_type": "code",
   "execution_count": null,
   "id": "760a9679",
   "metadata": {},
   "outputs": [],
   "source": [
    "mistat.runStatistics(np.mean(cycleTimeTshift, axis=1))"
   ]
  },
  {
   "cell_type": "code",
   "execution_count": null,
   "id": "4a2d454b",
   "metadata": {},
   "outputs": [],
   "source": [
    "print('mean:', mistat.runsTest(np.mean(cycleTime, axis=1), np.mean(cycleTime)).pval)\n",
    "STD = np.std(cycleTime, axis=1)\n",
    "print('std:', mistat.runsTest(STD, np.mean(STD)).pval)"
   ]
  },
  {
   "cell_type": "code",
   "execution_count": null,
   "id": "842116a4",
   "metadata": {},
   "outputs": [],
   "source": [
    "print('mean:', mistat.runsTest(np.mean(cycleTimeTshift, axis=1), np.mean(cycleTimeTshift)).pval)\n",
    "STD = np.std(cycleTimeTshift, axis=1)\n",
    "print('std:', mistat.runsTest(STD, np.mean(STD)).pval)"
   ]
  },
  {
   "cell_type": "markdown",
   "id": "498fa7ea",
   "metadata": {},
   "source": [
    "# Exercise 7"
   ]
  },
  {
   "cell_type": "code",
   "execution_count": null,
   "id": "709b616c",
   "metadata": {},
   "outputs": [],
   "source": [
    "data = pd.Series([18, 14,  9, 25, 27, 18, 21, 16, 18, 24, 20, 19, 22, 22, 20, \n",
    "        38, 29, 35, 24, 20, 23, 17, 20, 19, 17, 16, 10,  8, 10,  9])\n",
    "\n",
    "qcc = mistat.QualityControlChart(data, qcc_type='np', sizes=1000)\n",
    "ax = qcc.plot(title='for defects')\n",
    "plt.show()"
   ]
  },
  {
   "cell_type": "code",
   "execution_count": null,
   "id": "c8aa6683",
   "metadata": {},
   "outputs": [],
   "source": [
    "revised = data[data < 32.751]\n",
    "\n",
    "qcc = mistat.QualityControlChart(revised, qcc_type='np', sizes=1000)\n",
    "ax = qcc.plot(title='for number of defects')\n",
    "plt.show()"
   ]
  },
  {
   "cell_type": "markdown",
   "id": "f5960137",
   "metadata": {},
   "source": [
    "# Exercise 8"
   ]
  },
  {
   "cell_type": "code",
   "execution_count": null,
   "id": "2fcaa2ff",
   "metadata": {},
   "outputs": [],
   "source": [
    "data = pd.DataFrame([\n",
    "    [1, 45, 7920, 135, 2640],\n",
    "    [2, 72, 6660, 142, 2160], \n",
    "    [3, 25, 6480,  16,  240],\n",
    "    [4, 25, 4500,   5,  120],\n",
    "    [5, 33, 5840, 150, 2760],\n",
    "    [6, 35, 7020, 156, 2640],\n",
    "    [7, 42, 6840, 140, 2760],\n",
    "    [8, 35, 8460, 160, 2980],\n",
    "    [9, 50, 7020, 195, 2880],\n",
    "    [10,55, 9900, 132, 2160],\n",
    "    [11,26, 9180,  76, 1560],\n",
    "    [12,22, 7200,  85, 1680]],\n",
    "    columns=['Week', 'Line 1 X', 'Line 1 n', 'Line 2 X', 'Line 2 n']\n",
    ")\n",
    "\n",
    "qcc = mistat.QualityControlChart(data['Line 1 X'], qcc_type='p', sizes=data['Line 1 n'])\n",
    "ax = qcc.plot(title='for line 1 defects')\n",
    "plt.show()\n",
    "\n",
    "qcc = mistat.QualityControlChart(data['Line 2 X'], qcc_type='p', sizes=data['Line 2 n'])\n",
    "ax = qcc.plot(title='for line 2 defects')\n",
    "plt.show()"
   ]
  },
  {
   "cell_type": "markdown",
   "id": "12636fd9",
   "metadata": {},
   "source": [
    "# Exercise 10"
   ]
  },
  {
   "cell_type": "code",
   "execution_count": null,
   "id": "e48bf608",
   "metadata": {},
   "outputs": [],
   "source": [
    "cycleTime = pd.DataFrame([\n",
    "    [1, 27, 43, 49, 32, 36],      [2, 34, 29, 34, 31, 41],\n",
    "    [3, 36, 32, 48, 35, 33],      [4, 31, 41, 51, 51, 34],\n",
    "    [5, 43, 35, 30, 32, 31],      [6, 28, 42, 35, 40, 37],\n",
    "    [7, 38, 37, 41, 34, 44],      [8, 28, 44, 44, 34, 50],\n",
    "    [9, 44, 36, 38, 44, 35],      [10, 30, 43, 37, 29, 32],\n",
    "    [11, 36, 40, 50, 37, 43],     [12, 35, 36, 44, 34, 32],\n",
    "    [13, 48, 49, 44, 27, 32],     [14, 45, 46, 40, 35, 33],\n",
    "    [15, 38, 36, 43, 38, 34],     [16, 42, 37, 40, 42, 42],\n",
    "    [17, 44, 31, 36, 42, 39],     [18, 32, 28, 42, 39, 27],\n",
    "    [19, 41, 41, 35, 41, 44],     [20, 44, 34, 39, 30, 37],\n",
    "    [21, 51, 43, 36, 50, 54],     [22, 52, 50, 50, 44, 49],\n",
    "    [23, 52, 34, 38, 41, 37],     [24, 40, 41, 40, 23, 30],\n",
    "    [25, 34, 38, 39, 35, 33]],\n",
    "    columns=['Week', 'S1', 'S2', 'S3', 'S4', 'S5'])\n",
    "cycleTime = cycleTime.set_index('Week')\n",
    "\n",
    "qcc = mistat.QualityControlChart(cycleTime, qcc_type='xbar')\n",
    "ax = qcc.plot(title='for dock-to-stock cycle times')\n",
    "plt.show()\n",
    "\n",
    "qcc = mistat.QualityControlChart(cycleTime, qcc_type='S')\n",
    "ax = qcc.plot(title='for dock-to-stock cycle times')\n",
    "plt.show()\n",
    "\n",
    "# exclude points for week 21 and 22\n",
    "qcc = mistat.QualityControlChart(cycleTime.drop(labels=[21, 22]), qcc_type='xbar')\n",
    "qcc.center, qcc.limits"
   ]
  },
  {
   "cell_type": "code",
   "execution_count": null,
   "id": "c5155c29",
   "metadata": {},
   "outputs": [],
   "source": [
    "statistic, pvalue = stats.ttest_1samp(cycleTime.loc[21,], 45.781, alternative='greater')\n",
    "print(pvalue)\n",
    "statistic, pvalue = stats.ttest_1samp(cycleTime.loc[22,], 45.781, alternative='greater')\n",
    "print(pvalue)"
   ]
  },
  {
   "cell_type": "markdown",
   "id": "da55621a",
   "metadata": {},
   "source": [
    "# Exercise 14"
   ]
  },
  {
   "cell_type": "code",
   "execution_count": null,
   "id": "8be9f283",
   "metadata": {},
   "outputs": [],
   "source": [
    "def OC_p_chart(p, n, p0):\n",
    "    c = n * p0\n",
    "    delta = 3 * np.sqrt(n * p0 * (1 - p0))\n",
    "    return (stats.binom(n, p).cdf(c + delta) - \n",
    "            stats.binom(n, p).cdf(c - delta))\n",
    "        \n",
    "p = np.arange(0, 0.505, 0.05)\n",
    "pd.DataFrame({'p': p, 'OC(p)': OC_p_chart(p, 20, 0.1)})"
   ]
  },
  {
   "cell_type": "markdown",
   "id": "2c76f097",
   "metadata": {},
   "source": [
    "# Exercise 15"
   ]
  },
  {
   "cell_type": "code",
   "execution_count": null,
   "id": "e3f37b1e",
   "metadata": {},
   "outputs": [],
   "source": [
    "n = 1\n",
    "while OC_p_chart(0.05, n, 0.01) > 0.1:\n",
    "    n += 1\n",
    "n"
   ]
  },
  {
   "cell_type": "code",
   "execution_count": null,
   "id": "24b32808",
   "metadata": {},
   "outputs": [],
   "source": [
    "# normal approximation\n",
    "def OC_p_chart_normal(p, n, p0):\n",
    "    loc = n * p\n",
    "    scale = np.sqrt(n*p*(1-p))\n",
    "    c = n * p0\n",
    "    delta = 3 * np.sqrt(n * p0 * (1 - p0))\n",
    "    return (stats.norm(loc, scale).cdf(c + delta) - \n",
    "            stats.norm(loc, scale).cdf(c - delta))\n",
    "\n",
    "# alternative implementation\n",
    "def OC_p_chart_normal_2(p, n, p0):\n",
    "    delta = 3 * np.sqrt(p0 * (1 - p0) / n)\n",
    "    UCL = p0 + delta\n",
    "    LCL = p0 - delta\n",
    "    denom = np.sqrt(p * (1 - p) / n)\n",
    "    return (stats.norm().cdf((UCL - p)/denom) - \n",
    "            stats.norm().cdf((LCL - p)/denom))\n",
    "\n",
    "n = 1\n",
    "while OC_p_chart_normal(0.05, n, 0.01) > 0.1:\n",
    "    n += 1\n",
    "print(n, OC_p_chart_normal(0.05, n, 0.01))"
   ]
  },
  {
   "cell_type": "markdown",
   "id": "531ef222",
   "metadata": {},
   "source": [
    "# Exercise 17"
   ]
  },
  {
   "cell_type": "code",
   "execution_count": null,
   "id": "f5fed4c6",
   "metadata": {},
   "outputs": [],
   "source": [
    "data = mistat.load_data('OELECT')\n",
    "analysis = mistat.Cusum(data, center=220)\n",
    "analysis.plot()\n",
    "plt.show()"
   ]
  },
  {
   "cell_type": "markdown",
   "id": "c0d9a8ac",
   "metadata": {},
   "source": [
    "# Exercise 18"
   ]
  },
  {
   "cell_type": "code",
   "execution_count": null,
   "id": "229fb16f",
   "metadata": {},
   "outputs": [],
   "source": [
    "lambda0 = 15\n",
    "lambda1_p = 25\n",
    "lambda1_m = 7\n",
    "alpha = 0.001\n",
    "tau = 30\n",
    "kp = (lambda1_p - lambda0) / np.log(lambda1_p/lambda0)\n",
    "hp = - np.log(alpha) / np.log(lambda1_p/lambda0)\n",
    "\n",
    "km = (lambda1_m - lambda0) / np.log(lambda1_m/lambda0)\n",
    "hm = - np.log(alpha) / np.log(lambda1_m/lambda0)\n",
    "\n",
    "arl = mistat.cusumPfaCed(randFunc1=stats.poisson(mu=15), \n",
    "                         randFunc2=stats.poisson(mu=25), \n",
    "                         tau=tau,\n",
    "                         kp=kp, km=km,\n",
    "                         hp=hp, hm=hm,\n",
    "                         N=4000, limit=1000, seed=1)\n",
    "result = arl['statistic']"
   ]
  },
  {
   "cell_type": "markdown",
   "id": "d6432813",
   "metadata": {},
   "source": [
    "# Exercise 19"
   ]
  },
  {
   "cell_type": "code",
   "execution_count": null,
   "id": "a07965bf",
   "metadata": {},
   "outputs": [],
   "source": [
    "mu0 = 100\n",
    "mu1p = 110\n",
    "mu1m = 90\n",
    "sigma = 20\n",
    "n = 5\n",
    "alpha = 0.001\n",
    "\n",
    "Kp = (mu0+mu1p)/2\n",
    "hp = -(sigma**2 / n) * np.log(alpha) / (mu1p-mu0)\n",
    "Km = (mu0+mu1m)/2\n",
    "hm = -(sigma**2 / n) * np.log(alpha) / (mu1m-mu0)\n",
    "\n",
    "pd.Series({'Kp': Kp, 'hp': hp, 'Km': Km, 'hm': hm})"
   ]
  },
  {
   "cell_type": "code",
   "execution_count": null,
   "id": "45559389",
   "metadata": {},
   "outputs": [],
   "source": [
    "results = []\n",
    "for tau in [10, 20, 30]:\n",
    "    arl = mistat.cusumPfaCed(randFunc1=stats.norm(loc=mu0, scale=sigma/np.sqrt(5)), \n",
    "                             randFunc2=stats.norm(loc=mu1p, scale=sigma/np.sqrt(5)), \n",
    "                             tau=tau, kp=Kp, km=Km, hp=hp, hm=hm,\n",
    "                             N=300, limit=1000, seed=1, verbose=False)\n",
    "    results.append({\n",
    "        'tau': tau,\n",
    "        **arl['statistic'], # copy all results from arl['statistic']\n",
    "    })\n",
    "pd.DataFrame(results)"
   ]
  },
  {
   "cell_type": "code",
   "execution_count": null,
   "id": "5375c58a",
   "metadata": {},
   "outputs": [],
   "source": [
    "n = 20\n",
    "hp = -(sigma**2 / n) * np.log(alpha) / (mu1p-mu0)\n",
    "hm = -(sigma**2 / n) * np.log(alpha) / (mu1m-mu0)\n",
    "\n",
    "results = []\n",
    "for tau in [10, 20, 30]:\n",
    "    arl = mistat.cusumPfaCed(randFunc1=stats.norm(loc=mu0, scale=sigma/np.sqrt(5)), \n",
    "                             randFunc2=stats.norm(loc=mu1p, scale=sigma/np.sqrt(5)), \n",
    "                             tau=tau, kp=Kp, km=Km, hp=hp, hm=hm,\n",
    "                             N=300, limit=1000, seed=1, verbose=False)\n",
    "    results.append({\n",
    "        'tau': tau,\n",
    "        **arl['statistic'], # copy all results from arl['statistic']\n",
    "    })\n",
    "pd.DataFrame(results)"
   ]
  },
  {
   "cell_type": "markdown",
   "id": "dc8c2f6b",
   "metadata": {},
   "source": [
    "# Exercise 21"
   ]
  },
  {
   "cell_type": "code",
   "execution_count": null,
   "id": "61cf2288",
   "metadata": {},
   "outputs": [],
   "source": [
    "data = mistat.load_data('OELECT')\n",
    "ewma = mistat.EWMA(data, center=data.mean(), std_dev=data.std(), \n",
    "                   sizes=1, smooth=0.2, nsigmas=3)\n",
    "ewma.plot()\n",
    "plt.show()"
   ]
  },
  {
   "cell_type": "markdown",
   "id": "f5b4750d",
   "metadata": {},
   "source": [
    "# Exercise 22"
   ]
  },
  {
   "cell_type": "code",
   "execution_count": null,
   "id": "09407093",
   "metadata": {},
   "outputs": [],
   "source": [
    "data = mistat.load_data('ALMPIN')\n",
    "data = data['diam1']\n",
    "ewma = mistat.EWMA(data, center=data.mean(), std_dev=data.std(), \n",
    "                   sizes=1, smooth=0.2, nsigmas=3)\n",
    "ax = ewma.plot()\n",
    "ax.set_ylim(9.96, 10.02)\n",
    "plt.show()"
   ]
  },
  {
   "cell_type": "markdown",
   "id": "de0238da",
   "metadata": {},
   "source": [
    "# Exercise 23"
   ]
  },
  {
   "cell_type": "code",
   "execution_count": null,
   "id": "c3da1edc",
   "metadata": {},
   "outputs": [],
   "source": [
    "dow1941 = mistat.load_data('DOW1941')\n",
    "# solve the regression equation\n",
    "m = 50\n",
    "sqrt_t = np.sqrt(range(1, m + 1))\n",
    "df = pd.DataFrame({\n",
    "    'Ut': dow1941[:m]/sqrt_t,\n",
    "    'x1t': 1 / sqrt_t,\n",
    "    'x2t': sqrt_t,\n",
    "})\n",
    "model = smf.ols(formula='Ut ~ x1t + x2t - 1', data=df).fit()\n",
    "mu0, delta = model.params\n",
    "var_eta = np.var(model.resid, ddof=2)\n",
    "pd.Series({'mu0': mu0, 'delta': delta, 'Var(eta)': var_eta})"
   ]
  },
  {
   "cell_type": "code",
   "execution_count": null,
   "id": "000972fe",
   "metadata": {},
   "outputs": [],
   "source": [
    "# choose sig2e and w20\n",
    "sig2e = 0.15\n",
    "w20 = 0.0015\n",
    "# apply the filter\n",
    "results = []\n",
    "mu_tm1 = mu0\n",
    "w2_tm1 = w20\n",
    "y_tm1 = mu0\n",
    "for i in range(0, len(dow1941)):\n",
    "    y_t = dow1941[i]\n",
    "    B_t = sig2e / (var_eta + w2_tm1)\n",
    "    mu_t = B_t * (mu_tm1 + delta) + (1 - B_t) * y_t # X\n",
    "    results.append({\n",
    "        't': i + 1,\n",
    "        'y_t': y_t,\n",
    "        'mu_t': mu_t,\n",
    "        'B_t': B_t,\n",
    "        'W2_t': w2_tm1,\n",
    "    })\n",
    "    w2_tm1 = B_t * (var_eta - sig2e + w2_tm1)\n",
    "    mu_tm1 = mu_t\n",
    "    y_tm1 = y_t\n",
    "results = pd.DataFrame(results)"
   ]
  },
  {
   "cell_type": "code",
   "execution_count": null,
   "id": "618171f0",
   "metadata": {},
   "outputs": [],
   "source": [
    "results.head(25)"
   ]
  },
  {
   "cell_type": "code",
   "execution_count": null,
   "id": "c18b4769",
   "metadata": {},
   "outputs": [],
   "source": [
    "fig, ax = plt.subplots()\n",
    "ax.plot(results['t'], results['y_t'], color='grey')\n",
    "ax.plot(results['t'], results['mu_t'], color='black')\n",
    "ax.set_ylabel('Dow Jones')\n",
    "ax.set_xlabel('Day of Year')\n",
    "plt.show()"
   ]
  }
 ],
 "metadata": {},
 "nbformat": 4,
 "nbformat_minor": 5
}
